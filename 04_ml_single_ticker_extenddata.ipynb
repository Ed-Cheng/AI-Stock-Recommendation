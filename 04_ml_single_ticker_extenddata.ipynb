{
 "cells": [
  {
   "cell_type": "markdown",
   "metadata": {},
   "source": [
    "# Models included\n",
    "\n",
    "- Raw data\n",
    "  - Naive Bayes, LightGBM, Isolation Forest\n",
    "\n",
    "- Normed data\n",
    "  - SVM, SGD, Naive Bayes, LightGBM, Isolation Forest, one-class SVM\n",
    "\n"
   ]
  },
  {
   "cell_type": "code",
   "execution_count": 1,
   "metadata": {},
   "outputs": [],
   "source": [
    "import matplotlib as mpl\n",
    "import matplotlib.pyplot as plt\n",
    "import numpy as np\n",
    "import pandas as pd\n",
    "\n",
    "import yfinance as yf\n",
    "import talib\n",
    "import seaborn as sns\n",
    "import tensorflow as tf\n",
    "from sklearn.preprocessing import StandardScaler\n",
    "import plotly.graph_objects as go\n",
    "from tensorflow.keras.models import Sequential\n",
    "from tensorflow.keras.layers import Conv1D, MaxPooling1D, Flatten, Dense, Dropout, LSTM\n",
    "from tensorflow.keras.metrics import Precision, AUC\n",
    "\n",
    "\n",
    "import scripts.feature as feat\n",
    "import scripts.utility as util\n"
   ]
  },
  {
   "cell_type": "markdown",
   "metadata": {},
   "source": [
    "# Single ticker"
   ]
  },
  {
   "cell_type": "code",
   "execution_count": 2,
   "metadata": {},
   "outputs": [],
   "source": [
    "ticker = \"TSLA\"\n",
    "df = yf.download(ticker, period=\"5y\", interval=\"1d\", progress=False)\n",
    "df = df.drop(columns=[\"Adj Close\"])\n"
   ]
  },
  {
   "cell_type": "code",
   "execution_count": 3,
   "metadata": {},
   "outputs": [],
   "source": [
    "result_table = pd.DataFrame(columns=[\"train_recall\", \"train_precision\", \"train_f1\", \"train_fbeta\",\n",
    "                                     \"val_recall\", \"val_precision\", \"val_f1\", \"val_fbeta\"])\n"
   ]
  },
  {
   "cell_type": "markdown",
   "metadata": {},
   "source": [
    "## Multi-category case\n"
   ]
  },
  {
   "cell_type": "code",
   "execution_count": 4,
   "metadata": {},
   "outputs": [],
   "source": [
    "def single_class_report(y_true, y_pred, label):\n",
    "    instance = np.where(y_true == label)[0]\n",
    "    predict = np.where(y_pred == label)[0]\n",
    "    correct = np.intersect1d(instance, predict) \n",
    "\n",
    "    precision = len(correct) / (len(predict))\n",
    "    recall = len(correct) / (len(instance))\n",
    "    \n",
    "    def fbeta_score(b):\n",
    "        return (1+b**2) * (precision * recall) / (b**2 * precision + recall)\n",
    "    f1 = fbeta_score(b=1)\n",
    "    fbeta = fbeta_score(b=0.5)  # 0.5 beta focus more on precision\n",
    "\n",
    "    print(f\"----- For Class {label} -----\")\n",
    "    print(f\"Recall: {recall}\")\n",
    "    print(f\"Precision: {precision}\")\n",
    "    print(f\"f1_score: {f1}\")\n",
    "    print(f\"f0.5_score: {fbeta}\")\n",
    "\n",
    "    return [recall, precision, f1, fbeta]\n",
    "\n",
    "\n",
    "def quick_model_evaluation(model, X_train, y_train, X_val, y_val, label):\n",
    "    model.fit(X_train, y_train)\n",
    "\n",
    "    print(\"train set\")\n",
    "    y_pred = model.predict(X_train)\n",
    "    train_result = single_class_report(y_train, y_pred, label=label)\n",
    "\n",
    "    print(\"val set\")\n",
    "    y_pred = model.predict(X_val)\n",
    "    val_result = single_class_report(y_val, y_pred, label=label)\n",
    "\n",
    "    return np.round(train_result + val_result, 3)\n",
    "\n",
    "\n",
    "def quick_unsupervised_evaluation(model, X_train, y_train, X_val, y_val, label):\n",
    "    model.fit(X_train)\n",
    "\n",
    "    # class 1 is normal, -1 is anomaly\n",
    "    print(\"train set\")\n",
    "    y_pred = model.predict(X_train)\n",
    "    y_pred = np.where(y_pred > 0, 0, 1)\n",
    "    train_result = single_class_report(y_train, y_pred, label=label)\n",
    "\n",
    "    print(\"val set\")\n",
    "    y_pred = model.predict(X_val)\n",
    "    y_pred = np.where(y_pred > 0, 0, 1)\n",
    "    val_result = single_class_report(y_val, y_pred, label=label)\n",
    "\n",
    "    return np.round(train_result + val_result, 3)\n",
    "\n",
    "def update_result_table(df, result, idx_name):\n",
    "    new = pd.DataFrame(data=[result],\n",
    "                       columns=[\"train_recall\", \"train_precision\", \"train_f1\", \"train_fbeta\",\n",
    "                                \"val_recall\", \"val_precision\", \"val_f1\", \"val_fbeta\"],\n",
    "                       index=[idx_name])\n",
    "    df = pd.concat([df, new])\n",
    "    return df\n"
   ]
  },
  {
   "cell_type": "code",
   "execution_count": 5,
   "metadata": {},
   "outputs": [],
   "source": [
    "class_type = \"multi\""
   ]
  },
  {
   "cell_type": "markdown",
   "metadata": {},
   "source": [
    "### Raw data"
   ]
  },
  {
   "cell_type": "code",
   "execution_count": 6,
   "metadata": {},
   "outputs": [],
   "source": [
    "data_type = \"raw\""
   ]
  },
  {
   "cell_type": "code",
   "execution_count": 7,
   "metadata": {},
   "outputs": [
    {
     "name": "stdout",
     "output_type": "stream",
     "text": [
      "(977, 100) (977,) (245, 100) (245,)\n",
      "(array([0, 1, 2], dtype=int64), array([389, 112, 476], dtype=int64))\n",
      "(array([0, 1, 2], dtype=int64), array([112,  53,  80], dtype=int64))\n"
     ]
    }
   ],
   "source": [
    "X_train, y_train, X_val, y_val = feat.raw_dataset_pipeline(df, seq_len=None, extend=3)\n",
    "print(X_train.shape, y_train.shape, X_val.shape, y_val.shape)\n",
    "print(np.unique(y_train, return_counts=True))\n",
    "print(np.unique(y_val, return_counts=True))"
   ]
  },
  {
   "cell_type": "code",
   "execution_count": 8,
   "metadata": {},
   "outputs": [],
   "source": [
    "import lightgbm as lgb\n",
    "from sklearn.naive_bayes import GaussianNB\n",
    "from sklearn.linear_model import SGDClassifier\n",
    "from sklearn.svm import SVC, OneClassSVM\n",
    "from sklearn.ensemble import IsolationForest\n",
    "\n"
   ]
  },
  {
   "cell_type": "code",
   "execution_count": 9,
   "metadata": {},
   "outputs": [
    {
     "name": "stdout",
     "output_type": "stream",
     "text": [
      "train set\n",
      "----- For Class 2 -----\n",
      "Recall: 1.0\n",
      "Precision: 1.0\n",
      "f1_score: 1.0\n",
      "f0.5_score: 1.0\n",
      "val set\n",
      "----- For Class 2 -----\n",
      "Recall: 0.6\n",
      "Precision: 0.3609022556390977\n",
      "f1_score: 0.45070422535211263\n",
      "f0.5_score: 0.39215686274509803\n"
     ]
    },
    {
     "name": "stderr",
     "output_type": "stream",
     "text": [
      "C:\\Users\\edton\\AppData\\Local\\Temp\\ipykernel_49516\\1446241041.py:58: FutureWarning: The behavior of DataFrame concatenation with empty or all-NA entries is deprecated. In a future version, this will no longer exclude empty or all-NA columns when determining the result dtypes. To retain the old behavior, exclude the relevant entries before the concat operation.\n",
      "  df = pd.concat([df, new])\n"
     ]
    }
   ],
   "source": [
    "# Build LightGBM model\n",
    "params = {\n",
    "    \"objective\": \"multiclass\",\n",
    "    \"num_class\": 3,\n",
    "    \"metric\": \"multi_logloss\",\n",
    "    \"learning_rate\": 0.03,\n",
    "    \"num_leaves\": 32,\n",
    "    \"verbose\": -1,\n",
    "    \n",
    "}\n",
    "\n",
    "\n",
    "model = lgb.LGBMClassifier(**params)\n",
    "model_result = quick_model_evaluation(model, X_train, y_train, X_val, y_val, label=2)\n",
    "result_table = update_result_table(result_table, model_result, f\"{class_type}_{data_type}_{model.__class__.__name__}\")"
   ]
  },
  {
   "cell_type": "code",
   "execution_count": 10,
   "metadata": {},
   "outputs": [
    {
     "data": {
      "text/html": [
       "<div>\n",
       "<style scoped>\n",
       "    .dataframe tbody tr th:only-of-type {\n",
       "        vertical-align: middle;\n",
       "    }\n",
       "\n",
       "    .dataframe tbody tr th {\n",
       "        vertical-align: top;\n",
       "    }\n",
       "\n",
       "    .dataframe thead th {\n",
       "        text-align: right;\n",
       "    }\n",
       "</style>\n",
       "<table border=\"1\" class=\"dataframe\">\n",
       "  <thead>\n",
       "    <tr style=\"text-align: right;\">\n",
       "      <th></th>\n",
       "      <th>train_recall</th>\n",
       "      <th>train_precision</th>\n",
       "      <th>train_f1</th>\n",
       "      <th>train_fbeta</th>\n",
       "      <th>val_recall</th>\n",
       "      <th>val_precision</th>\n",
       "      <th>val_f1</th>\n",
       "      <th>val_fbeta</th>\n",
       "    </tr>\n",
       "  </thead>\n",
       "  <tbody>\n",
       "    <tr>\n",
       "      <th>multi_raw_LGBMClassifier</th>\n",
       "      <td>1.0</td>\n",
       "      <td>1.0</td>\n",
       "      <td>1.0</td>\n",
       "      <td>1.0</td>\n",
       "      <td>0.6</td>\n",
       "      <td>0.361</td>\n",
       "      <td>0.451</td>\n",
       "      <td>0.392</td>\n",
       "    </tr>\n",
       "  </tbody>\n",
       "</table>\n",
       "</div>"
      ],
      "text/plain": [
       "                          train_recall  train_precision  train_f1  \\\n",
       "multi_raw_LGBMClassifier           1.0              1.0       1.0   \n",
       "\n",
       "                          train_fbeta  val_recall  val_precision  val_f1  \\\n",
       "multi_raw_LGBMClassifier          1.0         0.6          0.361   0.451   \n",
       "\n",
       "                          val_fbeta  \n",
       "multi_raw_LGBMClassifier      0.392  "
      ]
     },
     "execution_count": 10,
     "metadata": {},
     "output_type": "execute_result"
    }
   ],
   "source": [
    "result_table"
   ]
  },
  {
   "cell_type": "code",
   "execution_count": 11,
   "metadata": {},
   "outputs": [
    {
     "name": "stdout",
     "output_type": "stream",
     "text": [
      "train set\n",
      "----- For Class 2 -----\n",
      "Recall: 0.31092436974789917\n",
      "Precision: 0.6218487394957983\n",
      "f1_score: 0.4145658263305322\n",
      "f0.5_score: 0.5182072829131652\n",
      "val set\n",
      "----- For Class 2 -----\n",
      "Recall: 0.075\n",
      "Precision: 0.4\n",
      "f1_score: 0.1263157894736842\n",
      "f0.5_score: 0.2142857142857143\n"
     ]
    }
   ],
   "source": [
    "model = GaussianNB()\n",
    "model_result = quick_model_evaluation(model, X_train, y_train, X_val, y_val, label=2)\n",
    "result_table = update_result_table(result_table, model_result, f\"{class_type}_{data_type}_{model.__class__.__name__}\")"
   ]
  },
  {
   "cell_type": "markdown",
   "metadata": {},
   "source": [
    "### Normed data"
   ]
  },
  {
   "cell_type": "code",
   "execution_count": 12,
   "metadata": {},
   "outputs": [],
   "source": [
    "data_type = \"norm\""
   ]
  },
  {
   "cell_type": "code",
   "execution_count": 13,
   "metadata": {},
   "outputs": [
    {
     "name": "stdout",
     "output_type": "stream",
     "text": [
      "(977, 100) (977,) (245, 100) (245,)\n",
      "(array([0, 1, 2], dtype=int64), array([389, 112, 476], dtype=int64))\n",
      "(array([0, 1, 2], dtype=int64), array([112,  53,  80], dtype=int64))\n"
     ]
    }
   ],
   "source": [
    "X_train, y_train, X_val, y_val = feat.norm_dataset_pipeline(df, seq_len=None, extend=3)\n",
    "print(X_train.shape, y_train.shape, X_val.shape, y_val.shape)\n",
    "print(np.unique(y_train, return_counts=True))\n",
    "print(np.unique(y_val, return_counts=True))"
   ]
  },
  {
   "cell_type": "code",
   "execution_count": 14,
   "metadata": {},
   "outputs": [
    {
     "name": "stdout",
     "output_type": "stream",
     "text": [
      "train set\n",
      "----- For Class 2 -----\n",
      "Recall: 1.0\n",
      "Precision: 1.0\n",
      "f1_score: 1.0\n",
      "f0.5_score: 1.0\n",
      "val set\n",
      "----- For Class 2 -----\n",
      "Recall: 0.5625\n",
      "Precision: 0.3629032258064516\n",
      "f1_score: 0.4411764705882353\n",
      "f0.5_score: 0.39062500000000006\n"
     ]
    }
   ],
   "source": [
    "model = lgb.LGBMClassifier(**params)\n",
    "model_result = quick_model_evaluation(model, X_train, y_train, X_val, y_val, label=2)\n",
    "result_table = update_result_table(result_table, model_result, f\"{class_type}_{data_type}_{model.__class__.__name__}\")"
   ]
  },
  {
   "cell_type": "code",
   "execution_count": 15,
   "metadata": {},
   "outputs": [
    {
     "name": "stdout",
     "output_type": "stream",
     "text": [
      "train set\n",
      "----- For Class 2 -----\n",
      "Recall: 0.31092436974789917\n",
      "Precision: 0.6218487394957983\n",
      "f1_score: 0.4145658263305322\n",
      "f0.5_score: 0.5182072829131652\n",
      "val set\n",
      "----- For Class 2 -----\n",
      "Recall: 0.075\n",
      "Precision: 0.4\n",
      "f1_score: 0.1263157894736842\n",
      "f0.5_score: 0.2142857142857143\n"
     ]
    }
   ],
   "source": [
    "model = GaussianNB()\n",
    "model_result = quick_model_evaluation(model, X_train, y_train, X_val, y_val, label=2)\n",
    "result_table = update_result_table(result_table, model_result, f\"{class_type}_{data_type}_{model.__class__.__name__}\")"
   ]
  },
  {
   "cell_type": "code",
   "execution_count": 16,
   "metadata": {},
   "outputs": [
    {
     "name": "stdout",
     "output_type": "stream",
     "text": [
      "train set\n",
      "----- For Class 2 -----\n",
      "Recall: 0.49789915966386555\n",
      "Precision: 0.5197368421052632\n",
      "f1_score: 0.5085836909871244\n",
      "f0.5_score: 0.5152173913043477\n",
      "val set\n",
      "----- For Class 2 -----\n",
      "Recall: 0.325\n",
      "Precision: 0.26\n",
      "f1_score: 0.2888888888888889\n",
      "f0.5_score: 0.27083333333333337\n"
     ]
    }
   ],
   "source": [
    "model = SGDClassifier(loss=\"log_loss\")\n",
    "model_result = quick_model_evaluation(model, X_train, y_train, X_val, y_val, label=2)\n",
    "result_table = update_result_table(result_table, model_result, f\"{class_type}_{data_type}_{model.__class__.__name__}\")"
   ]
  },
  {
   "cell_type": "code",
   "execution_count": 17,
   "metadata": {},
   "outputs": [
    {
     "name": "stdout",
     "output_type": "stream",
     "text": [
      "train set\n",
      "----- For Class 2 -----\n",
      "Recall: 0.8697478991596639\n",
      "Precision: 0.5782122905027933\n",
      "f1_score: 0.6946308724832214\n",
      "f0.5_score: 0.6197604790419162\n",
      "val set\n",
      "----- For Class 2 -----\n",
      "Recall: 0.725\n",
      "Precision: 0.3493975903614458\n",
      "f1_score: 0.4715447154471545\n",
      "f0.5_score: 0.3897849462365592\n"
     ]
    }
   ],
   "source": [
    "model = SVC(kernel=\"rbf\")\n",
    "model_result = quick_model_evaluation(model, X_train, y_train, X_val, y_val, label=2)\n",
    "result_table = update_result_table(result_table, model_result, f\"{class_type}_{data_type}_{model.__class__.__name__}\")"
   ]
  },
  {
   "cell_type": "markdown",
   "metadata": {},
   "source": [
    "## Binary case"
   ]
  },
  {
   "cell_type": "code",
   "execution_count": 18,
   "metadata": {},
   "outputs": [],
   "source": [
    "class_type = \"binary\""
   ]
  },
  {
   "cell_type": "markdown",
   "metadata": {},
   "source": [
    "### Raw data"
   ]
  },
  {
   "cell_type": "code",
   "execution_count": 19,
   "metadata": {},
   "outputs": [],
   "source": [
    "data_type = \"raw\""
   ]
  },
  {
   "cell_type": "code",
   "execution_count": 20,
   "metadata": {},
   "outputs": [
    {
     "name": "stdout",
     "output_type": "stream",
     "text": [
      "(977, 100) (977,) (245, 100) (245,)\n",
      "(array([0, 1]), array([501, 476], dtype=int64))\n",
      "(array([0, 1]), array([165,  80], dtype=int64))\n"
     ]
    }
   ],
   "source": [
    "X_train, y_train, X_val, y_val = feat.raw_dataset_pipeline(df, seq_len=None, extend=3)\n",
    "print(X_train.shape, y_train.shape, X_val.shape, y_val.shape)\n",
    "\n",
    "y_train = np.where(y_train <= 1, 0, 1)\n",
    "y_val = np.where(y_val <= 1, 0, 1)\n",
    "\n",
    "print(np.unique(y_train, return_counts=True))\n",
    "print(np.unique(y_val, return_counts=True))"
   ]
  },
  {
   "cell_type": "code",
   "execution_count": 21,
   "metadata": {},
   "outputs": [
    {
     "name": "stdout",
     "output_type": "stream",
     "text": [
      "train set\n",
      "----- For Class 1 -----\n",
      "Recall: 1.0\n",
      "Precision: 1.0\n",
      "f1_score: 1.0\n",
      "f0.5_score: 1.0\n",
      "val set\n",
      "----- For Class 1 -----\n",
      "Recall: 0.5375\n",
      "Precision: 0.3644067796610169\n",
      "f1_score: 0.43434343434343425\n",
      "f0.5_score: 0.38949275362318836\n"
     ]
    }
   ],
   "source": [
    "params = {\n",
    "    \"objective\": \"binary\",\n",
    "    \"metric\": \"binary_logloss\",\n",
    "    \"learning_rate\": 0.03,\n",
    "    \"num_leaves\": 32,\n",
    "    \"verbose\": -1,\n",
    "    \n",
    "}\n",
    "model = lgb.LGBMClassifier(**params)\n",
    "model_result = quick_model_evaluation(model, X_train, y_train, X_val, y_val, label=1)\n",
    "result_table = update_result_table(result_table, model_result, f\"{class_type}_{data_type}_{model.__class__.__name__}\")"
   ]
  },
  {
   "cell_type": "code",
   "execution_count": 22,
   "metadata": {},
   "outputs": [
    {
     "name": "stdout",
     "output_type": "stream",
     "text": [
      "train set\n",
      "----- For Class 1 -----\n",
      "Recall: 0.40336134453781514\n",
      "Precision: 0.5944272445820433\n",
      "f1_score: 0.4806007509386733\n",
      "f0.5_score: 0.5429864253393664\n",
      "val set\n",
      "----- For Class 1 -----\n",
      "Recall: 0.0875\n",
      "Precision: 0.3888888888888889\n",
      "f1_score: 0.14285714285714285\n",
      "f0.5_score: 0.2302631578947368\n"
     ]
    }
   ],
   "source": [
    "model = GaussianNB()\n",
    "model_result = quick_model_evaluation(model, X_train, y_train, X_val, y_val, label=1)\n",
    "result_table = update_result_table(result_table, model_result, f\"{class_type}_{data_type}_{model.__class__.__name__}\")"
   ]
  },
  {
   "cell_type": "code",
   "execution_count": 23,
   "metadata": {},
   "outputs": [
    {
     "name": "stdout",
     "output_type": "stream",
     "text": [
      "train set\n",
      "----- For Class 1 -----\n",
      "Recall: 0.5504201680672269\n",
      "Precision: 0.5368852459016393\n",
      "f1_score: 0.5435684647302904\n",
      "f0.5_score: 0.5395387149917628\n",
      "val set\n",
      "----- For Class 1 -----\n",
      "Recall: 0.3375\n",
      "Precision: 0.32926829268292684\n",
      "f1_score: 0.33333333333333337\n",
      "f0.5_score: 0.33088235294117646\n"
     ]
    }
   ],
   "source": [
    "# This wont be good enough as contamination too low in train\n",
    "model = IsolationForest(contamination=0.5)\n",
    "model_result = quick_unsupervised_evaluation(model, X_train, y_train, X_val, y_val, label=1)\n",
    "result_table = update_result_table(result_table, model_result, f\"{class_type}_{data_type}_{model.__class__.__name__}\")\n"
   ]
  },
  {
   "cell_type": "markdown",
   "metadata": {},
   "source": [
    "### Normed data"
   ]
  },
  {
   "cell_type": "code",
   "execution_count": 24,
   "metadata": {},
   "outputs": [],
   "source": [
    "data_type = \"norm\""
   ]
  },
  {
   "cell_type": "code",
   "execution_count": 25,
   "metadata": {},
   "outputs": [
    {
     "name": "stdout",
     "output_type": "stream",
     "text": [
      "(977, 100) (977,) (245, 100) (245,)\n",
      "(array([0, 1]), array([501, 476], dtype=int64))\n",
      "(array([0, 1]), array([165,  80], dtype=int64))\n"
     ]
    }
   ],
   "source": [
    "X_train, y_train, X_val, y_val = feat.norm_dataset_pipeline(df, seq_len=None, extend=3)\n",
    "print(X_train.shape, y_train.shape, X_val.shape, y_val.shape)\n",
    "\n",
    "y_train = np.where(y_train <= 1, 0, 1)\n",
    "y_val = np.where(y_val <= 1, 0, 1)\n",
    "\n",
    "print(np.unique(y_train, return_counts=True))\n",
    "print(np.unique(y_val, return_counts=True))"
   ]
  },
  {
   "cell_type": "code",
   "execution_count": 26,
   "metadata": {},
   "outputs": [
    {
     "name": "stdout",
     "output_type": "stream",
     "text": [
      "train set\n",
      "----- For Class 1 -----\n",
      "Recall: 1.0\n",
      "Precision: 1.0\n",
      "f1_score: 1.0\n",
      "f0.5_score: 1.0\n",
      "val set\n",
      "----- For Class 1 -----\n",
      "Recall: 0.5\n",
      "Precision: 0.37735849056603776\n",
      "f1_score: 0.43010752688172044\n",
      "f0.5_score: 0.39682539682539686\n"
     ]
    }
   ],
   "source": [
    "model = lgb.LGBMClassifier(**params)\n",
    "model_result = quick_model_evaluation(model, X_train, y_train, X_val, y_val, label=1)\n",
    "result_table = update_result_table(result_table, model_result, f\"{class_type}_{data_type}_{model.__class__.__name__}\")"
   ]
  },
  {
   "cell_type": "code",
   "execution_count": 27,
   "metadata": {},
   "outputs": [
    {
     "name": "stdout",
     "output_type": "stream",
     "text": [
      "train set\n",
      "----- For Class 1 -----\n",
      "Recall: 0.40336134453781514\n",
      "Precision: 0.5944272445820433\n",
      "f1_score: 0.4806007509386733\n",
      "f0.5_score: 0.5429864253393664\n",
      "val set\n",
      "----- For Class 1 -----\n",
      "Recall: 0.0875\n",
      "Precision: 0.3888888888888889\n",
      "f1_score: 0.14285714285714285\n",
      "f0.5_score: 0.2302631578947368\n"
     ]
    }
   ],
   "source": [
    "model = GaussianNB()\n",
    "model_result = quick_model_evaluation(model, X_train, y_train, X_val, y_val, label=1)\n",
    "result_table = update_result_table(result_table, model_result, f\"{class_type}_{data_type}_{model.__class__.__name__}\")"
   ]
  },
  {
   "cell_type": "code",
   "execution_count": 28,
   "metadata": {},
   "outputs": [
    {
     "name": "stdout",
     "output_type": "stream",
     "text": [
      "train set\n",
      "----- For Class 1 -----\n",
      "Recall: 0.44537815126050423\n",
      "Precision: 0.5023696682464455\n",
      "f1_score: 0.47216035634743875\n",
      "f0.5_score: 0.4898336414048059\n",
      "val set\n",
      "----- For Class 1 -----\n",
      "Recall: 0.7125\n",
      "Precision: 0.35625\n",
      "f1_score: 0.475\n",
      "f0.5_score: 0.3958333333333333\n"
     ]
    }
   ],
   "source": [
    "model = SGDClassifier(loss=\"log_loss\")\n",
    "model_result = quick_model_evaluation(model, X_train, y_train, X_val, y_val, label=1)\n",
    "result_table = update_result_table(result_table, model_result, f\"{class_type}_{data_type}_{model.__class__.__name__}\")"
   ]
  },
  {
   "cell_type": "code",
   "execution_count": 29,
   "metadata": {},
   "outputs": [
    {
     "name": "stdout",
     "output_type": "stream",
     "text": [
      "train set\n",
      "----- For Class 1 -----\n",
      "Recall: 0.5567226890756303\n",
      "Precision: 0.7162162162162162\n",
      "f1_score: 0.6264775413711584\n",
      "f0.5_score: 0.6774028629856851\n",
      "val set\n",
      "----- For Class 1 -----\n",
      "Recall: 0.2\n",
      "Precision: 0.4\n",
      "f1_score: 0.26666666666666666\n",
      "f0.5_score: 0.33333333333333337\n"
     ]
    }
   ],
   "source": [
    "model = SVC(kernel=\"rbf\")\n",
    "model_result = quick_model_evaluation(model, X_train, y_train, X_val, y_val, label=1)\n",
    "result_table = update_result_table(result_table, model_result, f\"{class_type}_{data_type}_{model.__class__.__name__}\")"
   ]
  },
  {
   "cell_type": "code",
   "execution_count": 30,
   "metadata": {},
   "outputs": [
    {
     "name": "stdout",
     "output_type": "stream",
     "text": [
      "train set\n",
      "----- For Class 1 -----\n",
      "Recall: 0.5399159663865546\n",
      "Precision: 0.5266393442622951\n",
      "f1_score: 0.533195020746888\n",
      "f0.5_score: 0.5292421746293245\n",
      "val set\n",
      "----- For Class 1 -----\n",
      "Recall: 0.4\n",
      "Precision: 0.37209302325581395\n",
      "f1_score: 0.38554216867469876\n",
      "f0.5_score: 0.3773584905660377\n"
     ]
    }
   ],
   "source": [
    "# This wont be good enough as contamination too low in train\n",
    "model = IsolationForest(contamination=0.5)\n",
    "model_result = quick_unsupervised_evaluation(model, X_train, y_train, X_val, y_val, label=1)\n",
    "result_table = update_result_table(result_table, model_result, f\"{class_type}_{data_type}_{model.__class__.__name__}\")"
   ]
  },
  {
   "cell_type": "code",
   "execution_count": 31,
   "metadata": {},
   "outputs": [
    {
     "name": "stdout",
     "output_type": "stream",
     "text": [
      "train set\n",
      "----- For Class 1 -----\n",
      "Recall: 0.24369747899159663\n",
      "Precision: 0.6010362694300518\n",
      "f1_score: 0.3467862481315396\n",
      "f0.5_score: 0.4647435897435897\n",
      "val set\n",
      "----- For Class 1 -----\n",
      "Recall: 0.0625\n",
      "Precision: 0.4166666666666667\n",
      "f1_score: 0.10869565217391304\n",
      "f0.5_score: 0.1953125\n"
     ]
    }
   ],
   "source": [
    "model = OneClassSVM(kernel=\"rbf\", nu=0.2)\n",
    "model_result = quick_unsupervised_evaluation(model, X_train, y_train, X_val, y_val, label=1)\n",
    "result_table = update_result_table(result_table, model_result, f\"{class_type}_{data_type}_{model.__class__.__name__}\")"
   ]
  },
  {
   "cell_type": "markdown",
   "metadata": {},
   "source": [
    "# Final results in heatmap"
   ]
  },
  {
   "cell_type": "code",
   "execution_count": 32,
   "metadata": {},
   "outputs": [
    {
     "data": {
      "text/plain": [
       "<Axes: >"
      ]
     },
     "execution_count": 32,
     "metadata": {},
     "output_type": "execute_result"
    },
    {
     "data": {
      "image/png": "[encoded data removed]",
      "text/plain": [
       "<Figure size 640x480 with 2 Axes>"
      ]
     },
     "metadata": {},
     "output_type": "display_data"
    }
   ],
   "source": [
    "sns.heatmap(result_table, annot=True, cmap=\"crest\")\n"
   ]
  }
 ],
 "metadata": {
  "kernelspec": {
   "display_name": "trading",
   "language": "python",
   "name": "python3"
  },
  "language_info": {
   "codemirror_mode": {
    "name": "ipython",
    "version": 3
   },
   "file_extension": ".py",
   "mimetype": "text/x-python",
   "name": "python",
   "nbconvert_exporter": "python",
   "pygments_lexer": "ipython3",
   "version": "3.10.14"
  }
 },
 "nbformat": 4,
 "nbformat_minor": 2
}

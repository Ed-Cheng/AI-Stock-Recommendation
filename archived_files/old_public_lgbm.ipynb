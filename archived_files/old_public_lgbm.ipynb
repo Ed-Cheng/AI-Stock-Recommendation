{
 "cells": [
  {
   "cell_type": "markdown",
   "id": "a23eedc7",
   "metadata": {
    "papermill": {
     "duration": 0.010633,
     "end_time": "2023-12-20T01:53:52.462424",
     "exception": false,
     "start_time": "2023-12-20T01:53:52.451791",
     "status": "completed"
    },
    "tags": []
   },
   "source": [
    "##### This is a fork of [best-public-score](https://www.kaggle.com/code/peizhengwang/best-public-score) notebook with some tuned hyperparameters for LightGBM model, that result in a slight improvement of LB score: 5.3365 -> 5.3359. All the credits go to the original author @peizhengwang."
   ]
  },
  {
   "cell_type": "code",
   "execution_count": 1,
   "id": "93f9a5d6",
   "metadata": {
    "execution": {
     "iopub.execute_input": "2023-12-20T01:53:52.484838Z",
     "iopub.status.busy": "2023-12-20T01:53:52.484460Z",
     "iopub.status.idle": "2023-12-20T01:53:57.965190Z",
     "shell.execute_reply": "2023-12-20T01:53:57.964348Z"
    },
    "papermill": {
     "duration": 5.494733,
     "end_time": "2023-12-20T01:53:57.967699",
     "exception": false,
     "start_time": "2023-12-20T01:53:52.472966",
     "status": "completed"
    },
    "tags": []
   },
   "outputs": [
    {
     "name": "stderr",
     "output_type": "stream",
     "text": [
      "/opt/conda/lib/python3.10/site-packages/scipy/__init__.py:146: UserWarning: A NumPy version >=1.16.5 and <1.23.0 is required for this version of SciPy (detected version 1.24.3\n",
      "  warnings.warn(f\"A NumPy version >={np_minversion} and <{np_maxversion}\"\n",
      "/opt/conda/lib/python3.10/site-packages/dask/dataframe/_pyarrow_compat.py:23: UserWarning: You are using pyarrow version 11.0.0 which is known to be insecure. See https://www.cve.org/CVERecord?id=CVE-2023-47248 for further details. Please upgrade to pyarrow>=14.0.1 or install pyarrow-hotfix to patch your current version.\n",
      "  warnings.warn(\n"
     ]
    }
   ],
   "source": [
    "import gc  \n",
    "import os  \n",
    "import time  \n",
    "import warnings \n",
    "from itertools import combinations  \n",
    "from warnings import simplefilter \n",
    "import joblib  \n",
    "import lightgbm as lgb  \n",
    "import numpy as np  \n",
    "import pandas as pd  \n",
    "from sklearn.metrics import mean_absolute_error \n",
    "from sklearn.model_selection import KFold, TimeSeriesSplit \n",
    "import matplotlib.pyplot as plt\n",
    "\n",
    "import polars as pl\n",
    "warnings.filterwarnings(\"ignore\")\n",
    "simplefilter(action=\"ignore\", category=pd.errors.PerformanceWarning)\n",
    "\n",
    "is_offline = False \n",
    "LGB = True\n",
    "NN = False\n",
    "is_train = True\n",
    "is_test = False # true for n_est=1 & cpu training\n",
    "is_infer = True # to submit or not\n",
    "max_lookback = np.nan \n",
    "split_day = 435  "
   ]
  },
  {
   "cell_type": "markdown",
   "id": "e57e7617",
   "metadata": {
    "papermill": {
     "duration": 0.011585,
     "end_time": "2023-12-20T01:53:57.990539",
     "exception": false,
     "start_time": "2023-12-20T01:53:57.978954",
     "status": "completed"
    },
    "tags": []
   },
   "source": [
    "# **Utilities**"
   ]
  },
  {
   "cell_type": "code",
   "execution_count": 2,
   "id": "2795350b",
   "metadata": {
    "execution": {
     "iopub.execute_input": "2023-12-20T01:53:58.014061Z",
     "iopub.status.busy": "2023-12-20T01:53:58.012975Z",
     "iopub.status.idle": "2023-12-20T01:53:58.019201Z",
     "shell.execute_reply": "2023-12-20T01:53:58.018290Z"
    },
    "papermill": {
     "duration": 0.020037,
     "end_time": "2023-12-20T01:53:58.021257",
     "exception": false,
     "start_time": "2023-12-20T01:53:58.001220",
     "status": "completed"
    },
    "tags": []
   },
   "outputs": [],
   "source": [
    "def weighted_average(a):\n",
    "    w = []\n",
    "    n = len(a)\n",
    "    for j in range(1, n + 1):\n",
    "        j = 2 if j == 1 else j\n",
    "        w.append(1 / (2**(n + 1 - j)))\n",
    "    return w"
   ]
  },
  {
   "cell_type": "code",
   "execution_count": 3,
   "id": "c6b79d0c",
   "metadata": {
    "execution": {
     "iopub.execute_input": "2023-12-20T01:53:58.044565Z",
     "iopub.status.busy": "2023-12-20T01:53:58.043825Z",
     "iopub.status.idle": "2023-12-20T01:53:58.063497Z",
     "shell.execute_reply": "2023-12-20T01:53:58.062637Z"
    },
    "papermill": {
     "duration": 0.033915,
     "end_time": "2023-12-20T01:53:58.065594",
     "exception": false,
     "start_time": "2023-12-20T01:53:58.031679",
     "status": "completed"
    },
    "tags": []
   },
   "outputs": [],
   "source": [
    "from sklearn.model_selection import KFold\n",
    "from sklearn.model_selection._split import _BaseKFold, indexable, _num_samples\n",
    "from sklearn.utils.validation import _deprecate_positional_args\n",
    "\n",
    "# modified code for group gaps; source\n",
    "# https://github.com/getgaurav2/scikit-learn/blob/d4a3af5cc9da3a76f0266932644b884c99724c57/sklearn/model_selection/_split.py#L2243\n",
    "class PurgedGroupTimeSeriesSplit(_BaseKFold):\n",
    "    \"\"\"Time Series cross-validator variant with non-overlapping groups.\n",
    "    Allows for a gap in groups to avoid potentially leaking info from\n",
    "    train into test if the model has windowed or lag features.\n",
    "    Provides train/test indices to split time series data samples\n",
    "    that are observed at fixed time intervals according to a\n",
    "    third-party provided group.\n",
    "    In each split, test indices must be higher than before, and thus shuffling\n",
    "    in cross validator is inappropriate.\n",
    "    This cross-validation object is a variation of :class:`KFold`.\n",
    "    In the kth split, it returns first k folds as train set and the\n",
    "    (k+1)th fold as test set.\n",
    "    The same group will not appear in two different folds (the number of\n",
    "    distinct groups has to be at least equal to the number of folds).\n",
    "    Note that unlike standard cross-validation methods, successive\n",
    "    training sets are supersets of those that come before them.\n",
    "    Read more in the :ref:`User Guide <cross_validation>`.\n",
    "    Parameters\n",
    "    ----------\n",
    "    n_splits : int, default=5\n",
    "        Number of splits. Must be at least 2.\n",
    "    max_train_group_size : int, default=Inf\n",
    "        Maximum group size for a single training set.\n",
    "    group_gap : int, default=None\n",
    "        Gap between train and test\n",
    "    max_test_group_size : int, default=Inf\n",
    "        We discard this number of groups from the end of each train split\n",
    "    \"\"\"\n",
    "\n",
    "    @_deprecate_positional_args\n",
    "    def __init__(self,\n",
    "                 n_splits=5,\n",
    "                 *,\n",
    "                 max_train_group_size=np.inf,\n",
    "                 max_test_group_size=np.inf,\n",
    "                 group_gap=None,\n",
    "                 verbose=False\n",
    "                 ):\n",
    "        super().__init__(n_splits, shuffle=False, random_state=None)\n",
    "        self.max_train_group_size = max_train_group_size\n",
    "        self.group_gap = group_gap\n",
    "        self.max_test_group_size = max_test_group_size\n",
    "        self.verbose = verbose\n",
    "\n",
    "    def split(self, X, y=None, groups=None):\n",
    "        \"\"\"Generate indices to split data into training and test set.\n",
    "        Parameters\n",
    "        ----------\n",
    "        X : array-like of shape (n_samples, n_features)\n",
    "            Training data, where n_samples is the number of samples\n",
    "            and n_features is the number of features.\n",
    "        y : array-like of shape (n_samples,)\n",
    "            Always ignored, exists for compatibility.\n",
    "        groups : array-like of shape (n_samples,)\n",
    "            Group labels for the samples used while splitting the dataset into\n",
    "            train/test set.\n",
    "        Yields\n",
    "        ------\n",
    "        train : ndarray\n",
    "            The training set indices for that split.\n",
    "        test : ndarray\n",
    "            The testing set indices for that split.\n",
    "        \"\"\"\n",
    "        if groups is None:\n",
    "            raise ValueError(\n",
    "                \"The 'groups' parameter should not be None\")\n",
    "        X, y, groups = indexable(X, y, groups)\n",
    "        n_samples = _num_samples(X)\n",
    "        n_splits = self.n_splits\n",
    "        group_gap = self.group_gap\n",
    "        max_test_group_size = self.max_test_group_size\n",
    "        max_train_group_size = self.max_train_group_size\n",
    "        n_folds = n_splits + 1\n",
    "        group_dict = {}\n",
    "        u, ind = np.unique(groups, return_index=True)\n",
    "        unique_groups = u[np.argsort(ind)]\n",
    "        n_samples = _num_samples(X)\n",
    "        n_groups = _num_samples(unique_groups)\n",
    "        for idx in np.arange(n_samples):\n",
    "            if (groups[idx] in group_dict):\n",
    "                group_dict[groups[idx]].append(idx)\n",
    "            else:\n",
    "                group_dict[groups[idx]] = [idx]\n",
    "        if n_folds > n_groups:\n",
    "            raise ValueError(\n",
    "                (\"Cannot have number of folds={0} greater than\"\n",
    "                 \" the number of groups={1}\").format(n_folds,\n",
    "                                                     n_groups))\n",
    "\n",
    "        group_test_size = min(n_groups // n_folds, max_test_group_size)\n",
    "        group_test_starts = range(n_groups - n_splits * group_test_size,\n",
    "                                  n_groups, group_test_size)\n",
    "        for group_test_start in group_test_starts:\n",
    "            train_array = []\n",
    "            test_array = []\n",
    "\n",
    "            group_st = max(0, group_test_start - group_gap - max_train_group_size)\n",
    "            for train_group_idx in unique_groups[group_st:(group_test_start - group_gap)]:\n",
    "                train_array_tmp = group_dict[train_group_idx]\n",
    "                \n",
    "                train_array = np.sort(np.unique(\n",
    "                                      np.concatenate((train_array,\n",
    "                                                      train_array_tmp)),\n",
    "                                      axis=None), axis=None)\n",
    "\n",
    "            train_end = train_array.size\n",
    " \n",
    "            for test_group_idx in unique_groups[group_test_start:\n",
    "                                                group_test_start +\n",
    "                                                group_test_size]:\n",
    "                test_array_tmp = group_dict[test_group_idx]\n",
    "                test_array = np.sort(np.unique(\n",
    "                                              np.concatenate((test_array,\n",
    "                                                              test_array_tmp)),\n",
    "                                     axis=None), axis=None)\n",
    "\n",
    "            test_array  = test_array[group_gap:]\n",
    "            \n",
    "            \n",
    "            if self.verbose > 0:\n",
    "                    pass\n",
    "                    \n",
    "            yield [int(i) for i in train_array], [int(i) for i in test_array]"
   ]
  },
  {
   "cell_type": "code",
   "execution_count": 4,
   "id": "6396f20e",
   "metadata": {
    "execution": {
     "iopub.execute_input": "2023-12-20T01:53:58.088468Z",
     "iopub.status.busy": "2023-12-20T01:53:58.087790Z",
     "iopub.status.idle": "2023-12-20T01:53:58.100258Z",
     "shell.execute_reply": "2023-12-20T01:53:58.099352Z"
    },
    "papermill": {
     "duration": 0.025999,
     "end_time": "2023-12-20T01:53:58.102198",
     "exception": false,
     "start_time": "2023-12-20T01:53:58.076199",
     "status": "completed"
    },
    "tags": []
   },
   "outputs": [],
   "source": [
    "def reduce_mem_usage(df, verbose=0):\n",
    "    start_mem = df.memory_usage().sum() / 1024**2\n",
    "    for col in df.columns:\n",
    "        col_type = df[col].dtype\n",
    "        if col_type != object:\n",
    "            c_min = df[col].min()\n",
    "            c_max = df[col].max()\n",
    "            \n",
    "            if str(col_type)[:3] == \"int\":\n",
    "                if c_min > np.iinfo(np.int8).min and c_max < np.iinfo(np.int8).max:\n",
    "                    df[col] = df[col].astype(np.int8)\n",
    "                elif c_min > np.iinfo(np.int16).min and c_max < np.iinfo(np.int16).max:\n",
    "                    df[col] = df[col].astype(np.int16)\n",
    "                elif c_min > np.iinfo(np.int32).min and c_max < np.iinfo(np.int32).max:\n",
    "                    df[col] = df[col].astype(np.int32)\n",
    "                elif c_min > np.iinfo(np.int64).min and c_max < np.iinfo(np.int64).max:\n",
    "                    df[col] = df[col].astype(np.int64)\n",
    "            else:\n",
    "               \n",
    "                if c_min > np.finfo(np.float16).min and c_max < np.finfo(np.float16).max:\n",
    "                    df[col] = df[col].astype(np.float32)\n",
    "                elif c_min > np.finfo(np.float32).min and c_max < np.finfo(np.float32).max:\n",
    "                    df[col] = df[col].astype(np.float32)\n",
    "                else:\n",
    "                    df[col] = df[col].astype(np.float32)\n",
    "    if verbose:\n",
    "        logger.info(f\"Memory usage of dataframe is {start_mem:.2f} MB\")\n",
    "        end_mem = df.memory_usage().sum() / 1024**2\n",
    "        logger.info(f\"Memory usage after optimization is: {end_mem:.2f} MB\")\n",
    "        decrease = 100 * (start_mem - end_mem) / start_mem\n",
    "        logger.info(f\"Decreased by {decrease:.2f}%\")\n",
    "    return df\n"
   ]
  },
  {
   "cell_type": "markdown",
   "id": "22990725",
   "metadata": {
    "papermill": {
     "duration": 0.010188,
     "end_time": "2023-12-20T01:53:58.122826",
     "exception": false,
     "start_time": "2023-12-20T01:53:58.112638",
     "status": "completed"
    },
    "tags": []
   },
   "source": [
    "# Data Loading\n",
    "\n",
    "\n",
    "\n",
    "\n"
   ]
  },
  {
   "cell_type": "code",
   "execution_count": 5,
   "id": "e1cb8537",
   "metadata": {
    "execution": {
     "iopub.execute_input": "2023-12-20T01:53:58.145707Z",
     "iopub.status.busy": "2023-12-20T01:53:58.144984Z",
     "iopub.status.idle": "2023-12-20T01:54:17.504414Z",
     "shell.execute_reply": "2023-12-20T01:54:17.503569Z"
    },
    "papermill": {
     "duration": 19.373565,
     "end_time": "2023-12-20T01:54:17.506695",
     "exception": false,
     "start_time": "2023-12-20T01:53:58.133130",
     "status": "completed"
    },
    "tags": []
   },
   "outputs": [],
   "source": [
    "df = pd.read_csv(\"/kaggle/input/optiver-trading-at-the-close/train.csv\")\n",
    "df = df.dropna(subset=[\"target\"])\n",
    "df.reset_index(drop=True, inplace=True)\n",
    "df_shape = df.shape\n",
    "\n",
    "df_test = pd.read_csv('../input/optiver-trading-at-the-close/example_test_files/test.csv')\n",
    "rev_target = pd.read_csv('../input/optiver-trading-at-the-close/example_test_files/revealed_targets.csv')\n",
    "\n",
    "rev_target = rev_target.dropna(subset=['stock_id'])\n",
    "y_test = rev_target[['seconds_in_bucket', 'revealed_target']]"
   ]
  },
  {
   "cell_type": "markdown",
   "id": "5f21f0d3",
   "metadata": {
    "papermill": {
     "duration": 0.009803,
     "end_time": "2023-12-20T01:54:17.527189",
     "exception": false,
     "start_time": "2023-12-20T01:54:17.517386",
     "status": "completed"
    },
    "tags": []
   },
   "source": [
    " # Parallel Triplet Imbalance Calculation"
   ]
  },
  {
   "cell_type": "code",
   "execution_count": 6,
   "id": "f1a240e7",
   "metadata": {
    "execution": {
     "iopub.execute_input": "2023-12-20T01:54:17.548337Z",
     "iopub.status.busy": "2023-12-20T01:54:17.548024Z",
     "iopub.status.idle": "2023-12-20T01:54:18.143080Z",
     "shell.execute_reply": "2023-12-20T01:54:18.142133Z"
    },
    "papermill": {
     "duration": 0.608239,
     "end_time": "2023-12-20T01:54:18.145417",
     "exception": false,
     "start_time": "2023-12-20T01:54:17.537178",
     "status": "completed"
    },
    "tags": []
   },
   "outputs": [],
   "source": [
    "from numba import njit, prange\n",
    "\n",
    "@njit(parallel=True)\n",
    "def compute_triplet_imbalance(df_values, comb_indices):\n",
    "    num_rows = df_values.shape[0]\n",
    "    num_combinations = len(comb_indices)\n",
    "    imbalance_features = np.empty((num_rows, num_combinations))\n",
    "    for i in prange(num_combinations):\n",
    "        a, b, c = comb_indices[i]\n",
    "        for j in range(num_rows):\n",
    "            max_val = max(df_values[j, a], df_values[j, b], df_values[j, c])\n",
    "            min_val = min(df_values[j, a], df_values[j, b], df_values[j, c])\n",
    "            mid_val = df_values[j, a] + df_values[j, b] + df_values[j, c] - min_val - max_val\n",
    "            \n",
    "            if mid_val == min_val:\n",
    "                imbalance_features[j, i] = np.nan\n",
    "            else:\n",
    "                imbalance_features[j, i] = (max_val - mid_val) / (mid_val - min_val)\n",
    "\n",
    "    return imbalance_features\n",
    "\n",
    "def calculate_triplet_imbalance_numba(price, df):\n",
    "    df_values = df[price].values\n",
    "    comb_indices = [(price.index(a), price.index(b), price.index(c)) for a, b, c in combinations(price, 3)]\n",
    "    features_array = compute_triplet_imbalance(df_values, comb_indices)\n",
    "    columns = [f\"{a}_{b}_{c}_imb2\" for a, b, c in combinations(price, 3)]\n",
    "    features = pd.DataFrame(features_array, columns=columns)\n",
    "    return features\n"
   ]
  },
  {
   "cell_type": "markdown",
   "id": "f4674421",
   "metadata": {
    "papermill": {
     "duration": 0.009809,
     "end_time": "2023-12-20T01:54:18.165747",
     "exception": false,
     "start_time": "2023-12-20T01:54:18.155938",
     "status": "completed"
    },
    "tags": []
   },
   "source": [
    "# Feature Generation Functions "
   ]
  },
  {
   "cell_type": "code",
   "execution_count": 7,
   "id": "dcaacc9d",
   "metadata": {
    "execution": {
     "iopub.execute_input": "2023-12-20T01:54:18.187302Z",
     "iopub.status.busy": "2023-12-20T01:54:18.186951Z",
     "iopub.status.idle": "2023-12-20T01:54:18.212894Z",
     "shell.execute_reply": "2023-12-20T01:54:18.211985Z"
    },
    "papermill": {
     "duration": 0.039114,
     "end_time": "2023-12-20T01:54:18.214776",
     "exception": false,
     "start_time": "2023-12-20T01:54:18.175662",
     "status": "completed"
    },
    "tags": []
   },
   "outputs": [],
   "source": [
    "def imbalance_features(df):\n",
    "    # Define lists of price and size-related column names\n",
    "    prices = [\"reference_price\", \"far_price\", \"near_price\", \"ask_price\", \"bid_price\", \"wap\"]\n",
    "    sizes = [\"matched_size\", \"bid_size\", \"ask_size\", \"imbalance_size\"]\n",
    "    \n",
    "    df[\"volume\"] = df.eval(\"ask_size + bid_size\")\n",
    "    df[\"mid_price\"] = df.eval(\"(ask_price + bid_price) / 2\")\n",
    "    df[\"liquidity_imbalance\"] = df.eval(\"(bid_size-ask_size)/(bid_size+ask_size)\")\n",
    "    df[\"matched_imbalance\"] = df.eval(\"(imbalance_size-matched_size)/(matched_size+imbalance_size)\")\n",
    "    df[\"size_imbalance\"] = df.eval(\"bid_size / ask_size\")\n",
    "\n",
    "    for c in combinations(prices, 2):\n",
    "        df[f\"{c[0]}_{c[1]}_imb\"] = df.eval(f\"({c[0]} - {c[1]})/({c[0]} + {c[1]})\")\n",
    "\n",
    "    for c in [['ask_price', 'bid_price', 'wap', 'reference_price'], sizes]:\n",
    "        triplet_feature = calculate_triplet_imbalance_numba(c, df)\n",
    "        df[triplet_feature.columns] = triplet_feature.values\n",
    "    \n",
    "    df[\"stock_weights\"] = df[\"stock_id\"].map(weights)\n",
    "    df[\"weighted_wap\"] = df[\"stock_weights\"] * df[\"wap\"]\n",
    "    df['wap_momentum'] = df.groupby('stock_id')['weighted_wap'].pct_change(periods=6)\n",
    "   \n",
    "    df[\"imbalance_momentum\"] = df.groupby(['stock_id'])['imbalance_size'].diff(periods=1) / df['matched_size']\n",
    "    df[\"price_spread\"] = df[\"ask_price\"] - df[\"bid_price\"]\n",
    "    df[\"spread_intensity\"] = df.groupby(['stock_id'])['price_spread'].diff()\n",
    "    df['price_pressure'] = df['imbalance_size'] * (df['ask_price'] - df['bid_price'])\n",
    "    df['market_urgency'] = df['price_spread'] * df['liquidity_imbalance']\n",
    "    df['depth_pressure'] = (df['ask_size'] - df['bid_size']) * (df['far_price'] - df['near_price'])\n",
    "    \n",
    "    df['spread_depth_ratio'] = (df['ask_price'] - df['bid_price']) / (df['bid_size'] + df['ask_size'])\n",
    "    df['mid_price_movement'] = df['mid_price'].diff(periods=5).apply(lambda x: 1 if x > 0 else (-1 if x < 0 else 0))\n",
    "    \n",
    "    df['micro_price'] = ((df['bid_price'] * df['ask_size']) + (df['ask_price'] * df['bid_size'])) / (df['bid_size'] + df['ask_size'])\n",
    "    df['relative_spread'] = (df['ask_price'] - df['bid_price']) / df['wap']\n",
    "    \n",
    "    # Calculate various statistical aggregation features\n",
    "    for func in [\"mean\", \"std\", \"skew\", \"kurt\"]:\n",
    "        df[f\"all_prices_{func}\"] = df[prices].agg(func, axis=1)\n",
    "        df[f\"all_sizes_{func}\"] = df[sizes].agg(func, axis=1)\n",
    "        \n",
    "\n",
    "    for col in ['matched_size', 'imbalance_size', 'reference_price', 'imbalance_buy_sell_flag']:\n",
    "        for window in [1,3,5,10]:\n",
    "            df[f\"{col}_shift_{window}\"] = df.groupby('stock_id')[col].shift(window)\n",
    "            df[f\"{col}_ret_{window}\"] = df.groupby('stock_id')[col].pct_change(window)\n",
    "    \n",
    "    # Calculate diff features for specific columns\n",
    "    for col in ['ask_price', 'bid_price', 'ask_size', 'bid_size', 'weighted_wap','price_spread']:\n",
    "        for window in [1,3,5,10]:\n",
    "            df[f\"{col}_diff_{window}\"] = df.groupby(\"stock_id\")[col].diff(window)\n",
    "    \n",
    "    #V4 feature\n",
    "    for window in [3,5,10]:\n",
    "        df[f'price_change_diff_{window}'] = df[f'bid_price_diff_{window}'] - df[f'ask_price_diff_{window}']\n",
    "        df[f'size_change_diff_{window}'] = df[f'bid_size_diff_{window}'] - df[f'ask_size_diff_{window}']\n",
    "\n",
    "    #V5 - rolling diff\n",
    "    # Convert from pandas to Polars\n",
    "    pl_df = pl.from_pandas(df)\n",
    "\n",
    "    #Define the windows and columns for which you want to calculate the rolling statistics\n",
    "    windows = [3, 5, 10]\n",
    "    columns = ['ask_price', 'bid_price', 'ask_size', 'bid_size']\n",
    "\n",
    "    # prepare the operations for each column and window\n",
    "    group = [\"stock_id\"]\n",
    "    expressions = []\n",
    "\n",
    "    # Loop over each window and column to create the rolling mean and std expressions\n",
    "    for window in windows:\n",
    "        for col in columns:\n",
    "            rolling_mean_expr = (\n",
    "                pl.col(f\"{col}_diff_{window}\")\n",
    "                .rolling_mean(window)\n",
    "                .over(group)\n",
    "                .alias(f'rolling_diff_{col}_{window}')\n",
    "            )\n",
    "\n",
    "            rolling_std_expr = (\n",
    "                pl.col(f\"{col}_diff_{window}\")\n",
    "                .rolling_std(window)\n",
    "                .over(group)\n",
    "                .alias(f'rolling_std_diff_{col}_{window}')\n",
    "            )\n",
    "\n",
    "            expressions.append(rolling_mean_expr)\n",
    "            expressions.append(rolling_std_expr)\n",
    "\n",
    "    # Run the operations using Polars' lazy API\n",
    "    lazy_df = pl_df.lazy().with_columns(expressions)\n",
    "\n",
    "    # Execute the lazy expressions and overwrite the pl_df variable\n",
    "    pl_df = lazy_df.collect()\n",
    "\n",
    "    # Convert back to pandas if necessary\n",
    "    df = pl_df.to_pandas()\n",
    "    gc.collect()\n",
    "    \n",
    "    df['mid_price*volume'] = df['mid_price_movement'] * df['volume']\n",
    "    df['harmonic_imbalance'] = df.eval('2 / ((1 / bid_size) + (1 / ask_size))')\n",
    "    \n",
    "    for col in df.columns:\n",
    "        df[col] = df[col].replace([np.inf, -np.inf], 0)\n",
    "\n",
    "    return df\n",
    "\n",
    "def other_features(df):\n",
    "    df[\"dow\"] = df[\"date_id\"] % 5  # Day of the week\n",
    "    df[\"seconds\"] = df[\"seconds_in_bucket\"] % 60  \n",
    "    df[\"minute\"] = df[\"seconds_in_bucket\"] // 60  \n",
    "    df['time_to_market_close'] = 540 - df['seconds_in_bucket']\n",
    "    \n",
    "    for key, value in global_stock_id_feats.items():\n",
    "        df[f\"global_{key}\"] = df[\"stock_id\"].map(value.to_dict())\n",
    "\n",
    "    return df\n",
    "\n",
    "def generate_all_features(df):\n",
    "    # Select relevant columns for feature generation\n",
    "    cols = [c for c in df.columns if c not in [\"row_id\", \"time_id\", \"target\"]]\n",
    "    df = df[cols]\n",
    "    \n",
    "    # Generate imbalance features\n",
    "    df = imbalance_features(df)\n",
    "    gc.collect() \n",
    "    df = other_features(df)\n",
    "    gc.collect()  \n",
    "    feature_name = [i for i in df.columns if i not in [\"row_id\", \"target\", \"time_id\", \"date_id\"]]\n",
    "    \n",
    "    return df[feature_name]\n"
   ]
  },
  {
   "cell_type": "code",
   "execution_count": 8,
   "id": "7c106318",
   "metadata": {
    "execution": {
     "iopub.execute_input": "2023-12-20T01:54:18.236107Z",
     "iopub.status.busy": "2023-12-20T01:54:18.235818Z",
     "iopub.status.idle": "2023-12-20T01:54:18.247650Z",
     "shell.execute_reply": "2023-12-20T01:54:18.246825Z"
    },
    "papermill": {
     "duration": 0.024612,
     "end_time": "2023-12-20T01:54:18.249514",
     "exception": false,
     "start_time": "2023-12-20T01:54:18.224902",
     "status": "completed"
    },
    "tags": []
   },
   "outputs": [],
   "source": [
    "weights = [\n",
    "    0.004, 0.001, 0.002, 0.006, 0.004, 0.004, 0.002, 0.006, 0.006, 0.002, 0.002, 0.008,\n",
    "    0.006, 0.002, 0.008, 0.006, 0.002, 0.006, 0.004, 0.002, 0.004, 0.001, 0.006, 0.004,\n",
    "    0.002, 0.002, 0.004, 0.002, 0.004, 0.004, 0.001, 0.001, 0.002, 0.002, 0.006, 0.004,\n",
    "    0.004, 0.004, 0.006, 0.002, 0.002, 0.04 , 0.002, 0.002, 0.004, 0.04 , 0.002, 0.001,\n",
    "    0.006, 0.004, 0.004, 0.006, 0.001, 0.004, 0.004, 0.002, 0.006, 0.004, 0.006, 0.004,\n",
    "    0.006, 0.004, 0.002, 0.001, 0.002, 0.004, 0.002, 0.008, 0.004, 0.004, 0.002, 0.004,\n",
    "    0.006, 0.002, 0.004, 0.004, 0.002, 0.004, 0.004, 0.004, 0.001, 0.002, 0.002, 0.008,\n",
    "    0.02 , 0.004, 0.006, 0.002, 0.02 , 0.002, 0.002, 0.006, 0.004, 0.002, 0.001, 0.02,\n",
    "    0.006, 0.001, 0.002, 0.004, 0.001, 0.002, 0.006, 0.006, 0.004, 0.006, 0.001, 0.002,\n",
    "    0.004, 0.006, 0.006, 0.001, 0.04 , 0.006, 0.002, 0.004, 0.002, 0.002, 0.006, 0.002,\n",
    "    0.002, 0.004, 0.006, 0.006, 0.002, 0.002, 0.008, 0.006, 0.004, 0.002, 0.006, 0.002,\n",
    "    0.004, 0.006, 0.002, 0.004, 0.001, 0.004, 0.002, 0.004, 0.008, 0.006, 0.008, 0.002,\n",
    "    0.004, 0.002, 0.001, 0.004, 0.004, 0.004, 0.006, 0.008, 0.004, 0.001, 0.001, 0.002,\n",
    "    0.006, 0.004, 0.001, 0.002, 0.006, 0.004, 0.006, 0.008, 0.002, 0.002, 0.004, 0.002,\n",
    "    0.04 , 0.002, 0.002, 0.004, 0.002, 0.002, 0.006, 0.02 , 0.004, 0.002, 0.006, 0.02,\n",
    "    0.001, 0.002, 0.006, 0.004, 0.006, 0.004, 0.004, 0.004, 0.004, 0.002, 0.004, 0.04,\n",
    "    0.002, 0.008, 0.002, 0.004, 0.001, 0.004, 0.006, 0.004,\n",
    "]\n",
    "weights = {int(k):v for k,v in enumerate(weights)}"
   ]
  },
  {
   "cell_type": "markdown",
   "id": "128e80aa",
   "metadata": {
    "papermill": {
     "duration": 0.009678,
     "end_time": "2023-12-20T01:54:18.269343",
     "exception": false,
     "start_time": "2023-12-20T01:54:18.259665",
     "status": "completed"
    },
    "tags": []
   },
   "source": [
    "## Data Splitting"
   ]
  },
  {
   "cell_type": "code",
   "execution_count": 9,
   "id": "7bfc1d37",
   "metadata": {
    "execution": {
     "iopub.execute_input": "2023-12-20T01:54:18.290047Z",
     "iopub.status.busy": "2023-12-20T01:54:18.289783Z",
     "iopub.status.idle": "2023-12-20T01:54:18.295049Z",
     "shell.execute_reply": "2023-12-20T01:54:18.294208Z"
    },
    "papermill": {
     "duration": 0.017851,
     "end_time": "2023-12-20T01:54:18.297019",
     "exception": false,
     "start_time": "2023-12-20T01:54:18.279168",
     "status": "completed"
    },
    "tags": []
   },
   "outputs": [
    {
     "name": "stdout",
     "output_type": "stream",
     "text": [
      "Online mode\n"
     ]
    }
   ],
   "source": [
    "if is_offline:\n",
    "    \n",
    "    df_train = df[df[\"date_id\"] <= split_day]\n",
    "    df_valid = df[df[\"date_id\"] > split_day]\n",
    "    print(\"Offline mode\")\n",
    "    print(f\"train : {df_train.shape}, valid : {df_valid.shape}\")\n",
    "    \n",
    "else:\n",
    "    df_train = df\n",
    "    print(\"Online mode\")\n"
   ]
  },
  {
   "cell_type": "code",
   "execution_count": 10,
   "id": "33736d17",
   "metadata": {
    "execution": {
     "iopub.execute_input": "2023-12-20T01:54:18.317790Z",
     "iopub.status.busy": "2023-12-20T01:54:18.317540Z",
     "iopub.status.idle": "2023-12-20T01:55:49.036088Z",
     "shell.execute_reply": "2023-12-20T01:55:49.035241Z"
    },
    "papermill": {
     "duration": 90.731556,
     "end_time": "2023-12-20T01:55:49.038444",
     "exception": false,
     "start_time": "2023-12-20T01:54:18.306888",
     "status": "completed"
    },
    "tags": []
   },
   "outputs": [
    {
     "name": "stdout",
     "output_type": "stream",
     "text": [
      "Build Online Train Feats Finished.\n"
     ]
    }
   ],
   "source": [
    "if is_train:\n",
    "    global_stock_id_feats = {\n",
    "        \"median_size\": df_train.groupby(\"stock_id\")[\"bid_size\"].median() + df_train.groupby(\"stock_id\")[\"ask_size\"].median(),\n",
    "        \"std_size\": df_train.groupby(\"stock_id\")[\"bid_size\"].std() + df_train.groupby(\"stock_id\")[\"ask_size\"].std(),\n",
    "        \"ptp_size\": df_train.groupby(\"stock_id\")[\"bid_size\"].max() - df_train.groupby(\"stock_id\")[\"bid_size\"].min(),\n",
    "        \"median_price\": df_train.groupby(\"stock_id\")[\"bid_price\"].median() + df_train.groupby(\"stock_id\")[\"ask_price\"].median(),\n",
    "        \"std_price\": df_train.groupby(\"stock_id\")[\"bid_price\"].std() + df_train.groupby(\"stock_id\")[\"ask_price\"].std(),\n",
    "        \"ptp_price\": df_train.groupby(\"stock_id\")[\"bid_price\"].max() - df_train.groupby(\"stock_id\")[\"ask_price\"].min(),\n",
    "    }\n",
    "    if is_offline:\n",
    "        df_train_feats = generate_all_features(df_train)\n",
    "        print(\"Build Train Feats Finished.\")\n",
    "        df_valid_feats = generate_all_features(df_valid)\n",
    "        print(\"Build Valid Feats Finished.\")\n",
    "        df_valid_feats = reduce_mem_usage(df_valid_feats)\n",
    "    else:\n",
    "        df_train_feats = generate_all_features(df_train)\n",
    "        print(\"Build Online Train Feats Finished.\")\n",
    "\n",
    "    df_train_feats = reduce_mem_usage(df_train_feats)\n"
   ]
  },
  {
   "cell_type": "code",
   "execution_count": 11,
   "id": "84b19840",
   "metadata": {
    "execution": {
     "iopub.execute_input": "2023-12-20T01:55:49.062123Z",
     "iopub.status.busy": "2023-12-20T01:55:49.061739Z",
     "iopub.status.idle": "2023-12-20T01:55:49.068871Z",
     "shell.execute_reply": "2023-12-20T01:55:49.067920Z"
    },
    "papermill": {
     "duration": 0.021839,
     "end_time": "2023-12-20T01:55:49.071096",
     "exception": false,
     "start_time": "2023-12-20T01:55:49.049257",
     "status": "completed"
    },
    "tags": []
   },
   "outputs": [
    {
     "data": {
      "text/plain": [
       "(5237892, 160)"
      ]
     },
     "execution_count": 11,
     "metadata": {},
     "output_type": "execute_result"
    }
   ],
   "source": [
    "df_train_feats.shape"
   ]
  },
  {
   "cell_type": "code",
   "execution_count": 12,
   "id": "bd9b1f49",
   "metadata": {
    "execution": {
     "iopub.execute_input": "2023-12-20T01:55:49.094796Z",
     "iopub.status.busy": "2023-12-20T01:55:49.094385Z",
     "iopub.status.idle": "2023-12-20T01:55:50.529128Z",
     "shell.execute_reply": "2023-12-20T01:55:50.528301Z"
    },
    "papermill": {
     "duration": 1.449177,
     "end_time": "2023-12-20T01:55:50.531628",
     "exception": false,
     "start_time": "2023-12-20T01:55:49.082451",
     "status": "completed"
    },
    "tags": []
   },
   "outputs": [],
   "source": [
    "test_features = generate_all_features(df_test)\n",
    "test_features = reduce_mem_usage(test_features)"
   ]
  },
  {
   "cell_type": "code",
   "execution_count": 13,
   "id": "f6143c7e",
   "metadata": {
    "execution": {
     "iopub.execute_input": "2023-12-20T01:55:50.555592Z",
     "iopub.status.busy": "2023-12-20T01:55:50.554935Z",
     "iopub.status.idle": "2023-12-20T01:55:50.579371Z",
     "shell.execute_reply": "2023-12-20T01:55:50.578291Z"
    },
    "papermill": {
     "duration": 0.038716,
     "end_time": "2023-12-20T01:55:50.581500",
     "exception": false,
     "start_time": "2023-12-20T01:55:50.542784",
     "status": "completed"
    },
    "tags": []
   },
   "outputs": [],
   "source": [
    "test_features = test_features.drop(columns=[\"currently_scored\"])"
   ]
  },
  {
   "cell_type": "code",
   "execution_count": 14,
   "id": "ea2ba806",
   "metadata": {
    "execution": {
     "iopub.execute_input": "2023-12-20T01:55:50.605350Z",
     "iopub.status.busy": "2023-12-20T01:55:50.604434Z",
     "iopub.status.idle": "2023-12-20T01:55:50.610590Z",
     "shell.execute_reply": "2023-12-20T01:55:50.609718Z"
    },
    "papermill": {
     "duration": 0.020334,
     "end_time": "2023-12-20T01:55:50.612661",
     "exception": false,
     "start_time": "2023-12-20T01:55:50.592327",
     "status": "completed"
    },
    "tags": []
   },
   "outputs": [
    {
     "data": {
      "text/plain": [
       "(33000, 160)"
      ]
     },
     "execution_count": 14,
     "metadata": {},
     "output_type": "execute_result"
    }
   ],
   "source": [
    "test_features.shape"
   ]
  },
  {
   "cell_type": "markdown",
   "id": "2fc86655",
   "metadata": {
    "papermill": {
     "duration": 0.010737,
     "end_time": "2023-12-20T01:55:50.634407",
     "exception": false,
     "start_time": "2023-12-20T01:55:50.623670",
     "status": "completed"
    },
    "tags": []
   },
   "source": [
    "# **Model Training**"
   ]
  },
  {
   "cell_type": "markdown",
   "id": "85586b6a",
   "metadata": {
    "papermill": {
     "duration": 0.010429,
     "end_time": "2023-12-20T01:55:50.655865",
     "exception": false,
     "start_time": "2023-12-20T01:55:50.645436",
     "status": "completed"
    },
    "tags": []
   },
   "source": [
    "# **LGB**"
   ]
  },
  {
   "cell_type": "code",
   "execution_count": 15,
   "id": "50a85b58",
   "metadata": {
    "execution": {
     "iopub.execute_input": "2023-12-20T01:55:50.742179Z",
     "iopub.status.busy": "2023-12-20T01:55:50.741289Z",
     "iopub.status.idle": "2023-12-20T01:55:50.762484Z",
     "shell.execute_reply": "2023-12-20T01:55:50.761435Z"
    },
    "papermill": {
     "duration": 0.035994,
     "end_time": "2023-12-20T01:55:50.764667",
     "exception": false,
     "start_time": "2023-12-20T01:55:50.728673",
     "status": "completed"
    },
    "tags": []
   },
   "outputs": [],
   "source": [
    "# https://www.kaggle.com/code/sunghoshim/optiver-cross-validation-strategies/notebook\n",
    "# we will be using K-Fold, TimeSeriesSplit, Blocked cross-validation\n",
    "\n",
    "def kfold(fold, data):\n",
    "    train_indices = []\n",
    "    val_indices = []\n",
    "    one_split = max(data) // fold\n",
    "    for i in range(fold):\n",
    "        start = i * one_split\n",
    "        end = start + one_split\n",
    "        val = (data >= start) & (data <= start + one_split)\n",
    "        train = ~val\n",
    "        train_indices.append(train)\n",
    "        val_indices.append(val)\n",
    "        print(start, end, sum(train), sum(val))\n",
    "    return train_indices, val_indices\n",
    "\n",
    "def timesplit(fold, data):\n",
    "    train_indices = []\n",
    "    val_indices = []\n",
    "    one_split = max(data) // fold\n",
    "    for i in range(fold):\n",
    "        end = (i + 1) * one_split\n",
    "        train = data <= end - one_split * 0.1\n",
    "        val = ((data >= end - one_split * 0.15) & (data <= end + one_split * 0.15))\n",
    "        train_indices.append(train)\n",
    "        val_indices.append(val)\n",
    "        print(end, sum(train), sum(val))\n",
    "    return train_indices, val_indices\n",
    "\n",
    "def block(fold, data):\n",
    "    train_indices = []\n",
    "    val_indices = []\n",
    "    one_split = max(data) // fold\n",
    "    for i in range(fold):\n",
    "        start = i * one_split\n",
    "        end = start + one_split\n",
    "        train = (data >= start) & (data <= start + one_split)\n",
    "        val = ((data >= end - one_split * 0.15) & (data <= end + one_split * 0.15))\n",
    "        train_indices.append(train)\n",
    "        val_indices.append(val)\n",
    "        print(end, sum(train), sum(val))\n",
    "    return train_indices, val_indices\n",
    "\n",
    "def run_cv(train_idc, val_idc, cv_fold, test=True):\n",
    "    if test:\n",
    "        lgb_params = {\"n_estimators\": 1}\n",
    "    else:\n",
    "        lgb_params = {\"n_estimators\": 9000,\n",
    "                      \"device\": \"gpu\"}\n",
    "        \n",
    "    lgb_params.update({\"objective\": \"mae\",\n",
    "                       \"num_leaves\": 256,\n",
    "                       \"subsample\": 0.6,\n",
    "                       \"colsample_bytree\": 0.8,\n",
    "                       \"learning_rate\": 0.01,\n",
    "                       'max_depth': 11,\n",
    "                       \"verbosity\": -1,\n",
    "                       \"importance_type\": \"gain\",\n",
    "                       \"reg_alpha\": 0.2,\n",
    "                       \"reg_lambda\": 3.25\n",
    "                      })\n",
    "    \n",
    "    print(lgb_params)\n",
    "\n",
    "    models = []\n",
    "\n",
    "    for i in range(cv_fold):      \n",
    "        df_fold_train = df_train_feats[train_idc[i]]\n",
    "        df_fold_train_target = df_train['target'][train_idc[i]]\n",
    "\n",
    "        df_fold_valid = df_train_feats[val_idc[i]]\n",
    "        df_fold_valid_target = df_train['target'][val_idc[i]]\n",
    "\n",
    "        print(f\"Fold {i+1} Model Training\")\n",
    "\n",
    "        # Train a LightGBM model for the current fold\n",
    "        lgb_model = lgb.LGBMRegressor(**lgb_params)\n",
    "        lgb_model.fit(\n",
    "            df_fold_train,\n",
    "            df_fold_train_target,\n",
    "            eval_set=[(df_fold_valid, df_fold_valid_target)],\n",
    "            callbacks=[\n",
    "                lgb.callback.early_stopping(stopping_rounds=100),\n",
    "    #             lgb.callback.log_evaluation(period=100),\n",
    "            ],\n",
    "        )\n",
    "\n",
    "\n",
    "        models.append(lgb_model)\n",
    "        print(f\"Model for fold {i+1} done\")\n",
    "        gc.collect()\n",
    "\n",
    "    average_best_iter = int(np.mean([model.best_iteration_ for model in models]))\n",
    "    \n",
    "    return models, average_best_iter\n",
    "\n",
    "\n",
    "def run_final_model(n_est, test=True):\n",
    "    if test:\n",
    "        lgb_params = {\"n_estimators\": 1}\n",
    "    else:\n",
    "        lgb_params = {\"n_estimators\": n_est,\n",
    "                      \"device\": \"gpu\"}\n",
    "        \n",
    "    lgb_params.update({\"objective\": \"mae\",\n",
    "                       \"num_leaves\": 256,\n",
    "                       \"subsample\": 0.6,\n",
    "                       \"colsample_bytree\": 0.8,\n",
    "                       \"learning_rate\": 0.01,\n",
    "                       'max_depth': 11,\n",
    "                       \"verbosity\": -1,\n",
    "                       \"importance_type\": \"gain\",\n",
    "                       \"reg_alpha\": 0.2,\n",
    "                       \"reg_lambda\": 3.25\n",
    "                      })\n",
    "    print(\"start training final model\")\n",
    "    lgb_model = lgb.LGBMRegressor(**lgb_params)\n",
    "    lgb_model.fit(\n",
    "        df_train_feats,\n",
    "        df_train['target'],\n",
    "        callbacks=[\n",
    "#             lgb.callback.early_stopping(stopping_rounds=100),\n",
    "            lgb.callback.log_evaluation(period=100)\n",
    "        ]\n",
    "    )\n",
    "\n",
    "    gc.collect()\n",
    "    print(\"Finish training final model\")\n",
    "    return lgb_model\n"
   ]
  },
  {
   "cell_type": "code",
   "execution_count": 16,
   "id": "2999175a",
   "metadata": {
    "execution": {
     "iopub.execute_input": "2023-12-20T01:55:50.789134Z",
     "iopub.status.busy": "2023-12-20T01:55:50.788220Z",
     "iopub.status.idle": "2023-12-20T01:55:50.798313Z",
     "shell.execute_reply": "2023-12-20T01:55:50.797388Z"
    },
    "papermill": {
     "duration": 0.024649,
     "end_time": "2023-12-20T01:55:50.800378",
     "exception": false,
     "start_time": "2023-12-20T01:55:50.775729",
     "status": "completed"
    },
    "tags": []
   },
   "outputs": [],
   "source": [
    "def pred_analysis(models, y_test):\n",
    "    final = []\n",
    "    for model in models:\n",
    "        y_test[\"pred\"] = model.predict(test_features)\n",
    "        grouped = y_test.groupby(\"seconds_in_bucket\")\n",
    "        \n",
    "        fold_loss = []\n",
    "        for s in y_test[\"seconds_in_bucket\"].unique():\n",
    "            temp = grouped.get_group(s)\n",
    "            y_real, y_pred = temp[\"revealed_target\"], temp[\"pred\"]\n",
    "            loss = mean_absolute_error(y_real, y_pred)\n",
    "            fold_loss.append(loss)\n",
    "        final.append(fold_loss)\n",
    "        print(sum(fold_loss))\n",
    "    return final\n",
    "\n",
    "def display_pred_analysis(data, names):\n",
    "    plt.figure(figsize=(8,6))\n",
    "    for d, title in zip(data, names):\n",
    "        plt.plot(d, label=title, marker = 'o', ms = 10)\n",
    "    plt.legend()\n",
    "    return\n",
    "    \n",
    "def pred_save(y_test, models, columns, file_name):\n",
    "    prediction = [y_test[\"revealed_target\"], y_test[\"seconds_in_bucket\"].values]\n",
    "    for model in models:\n",
    "        prediction.append(model.predict(test_features))\n",
    "    \n",
    "    col = [\"target\", \"seconds_in_bucket\"]\n",
    "    col.extend(columns)\n",
    "\n",
    "    df_pred = pd.DataFrame(prediction).T\n",
    "    df_pred.columns = col\n",
    "    \n",
    "    df_pred.to_csv(f\"/kaggle/working/{file_name}.csv\",index=False) # save to notebook output\n",
    "    return\n"
   ]
  },
  {
   "cell_type": "code",
   "execution_count": 17,
   "id": "f3b94c43",
   "metadata": {
    "execution": {
     "iopub.execute_input": "2023-12-20T01:55:50.824517Z",
     "iopub.status.busy": "2023-12-20T01:55:50.823854Z",
     "iopub.status.idle": "2023-12-20T01:56:13.335925Z",
     "shell.execute_reply": "2023-12-20T01:56:13.334895Z"
    },
    "papermill": {
     "duration": 22.526484,
     "end_time": "2023-12-20T01:56:13.337964",
     "exception": false,
     "start_time": "2023-12-20T01:55:50.811480",
     "status": "completed"
    },
    "tags": []
   },
   "outputs": [
    {
     "name": "stdout",
     "output_type": "stream",
     "text": [
      "0 54 4666490 571402\n",
      "54 108 4761722 476170\n",
      "108 162 4666488 571404\n",
      "162 216 4761722 476170\n",
      "216 270 4666488 571404\n",
      "270 324 4666485 571407\n",
      "324 378 4761717 476175\n",
      "378 432 4666482 571410\n",
      "432 486 4761717 476175\n",
      "486 540 4666483 571409\n"
     ]
    }
   ],
   "source": [
    "this_session = \"kfold\"\n",
    "# this_session = \"timesplit\"\n",
    "# this_session = \"block\"\n",
    "\n",
    "date_ids = df_train['date_id'].values\n",
    "time_ids = df_train['seconds_in_bucket'].values\n",
    "\n",
    "all_cv = {\"kfold\": kfold,\n",
    "          \"timesplit\": timesplit,\n",
    "          \"block\": block}\n",
    "\n",
    "cv_fold = 10\n",
    "\n",
    "# set one, by date, in 5 fold\n",
    "# train_idc_date, val_idc_date = all_cv[this_session](cv_fold, date_ids)\n",
    "\n",
    "# set two, by time, in 5 fold\n",
    "train_idc_time, val_idc_time = all_cv[this_session](cv_fold, time_ids)\n",
    "\n",
    "# set three, train with all data with best iter above\n",
    "\n"
   ]
  },
  {
   "cell_type": "code",
   "execution_count": 18,
   "id": "0cbc1fdd",
   "metadata": {
    "execution": {
     "iopub.execute_input": "2023-12-20T01:56:13.362582Z",
     "iopub.status.busy": "2023-12-20T01:56:13.362193Z",
     "iopub.status.idle": "2023-12-20T01:56:13.409393Z",
     "shell.execute_reply": "2023-12-20T01:56:13.408531Z"
    },
    "papermill": {
     "duration": 0.06214,
     "end_time": "2023-12-20T01:56:13.411688",
     "exception": false,
     "start_time": "2023-12-20T01:56:13.349548",
     "status": "completed"
    },
    "tags": []
   },
   "outputs": [],
   "source": [
    "# here is something special, we only want the first fold\n",
    "keep = [0, 0, 0, 0]\n",
    "cv_fold = len(keep)\n",
    "\n",
    "train_idc_time = np.array(train_idc_time) \n",
    "train_idc_time = train_idc_time[keep]\n",
    "\n",
    "val_idc_time = np.array(val_idc_time) \n",
    "val_idc_time = val_idc_time[keep]"
   ]
  },
  {
   "cell_type": "code",
   "execution_count": 19,
   "id": "ddcf0ecc",
   "metadata": {
    "execution": {
     "iopub.execute_input": "2023-12-20T01:56:13.437012Z",
     "iopub.status.busy": "2023-12-20T01:56:13.436602Z",
     "iopub.status.idle": "2023-12-20T01:56:13.440764Z",
     "shell.execute_reply": "2023-12-20T01:56:13.439834Z"
    },
    "papermill": {
     "duration": 0.018805,
     "end_time": "2023-12-20T01:56:13.442640",
     "exception": false,
     "start_time": "2023-12-20T01:56:13.423835",
     "status": "completed"
    },
    "tags": []
   },
   "outputs": [],
   "source": [
    "# # the date model\n",
    "# models_date, best_iter_date = run_cv(train_idc_date, val_idc_date, cv_fold=cv_fold, test=is_test)"
   ]
  },
  {
   "cell_type": "code",
   "execution_count": 20,
   "id": "d1f838c2",
   "metadata": {
    "execution": {
     "iopub.execute_input": "2023-12-20T01:56:13.467405Z",
     "iopub.status.busy": "2023-12-20T01:56:13.467052Z",
     "iopub.status.idle": "2023-12-20T01:56:13.471071Z",
     "shell.execute_reply": "2023-12-20T01:56:13.470190Z"
    },
    "papermill": {
     "duration": 0.018695,
     "end_time": "2023-12-20T01:56:13.472943",
     "exception": false,
     "start_time": "2023-12-20T01:56:13.454248",
     "status": "completed"
    },
    "tags": []
   },
   "outputs": [],
   "source": [
    "# final_model_date = run_final_model(best_iter_date, test=is_test)\n",
    "# models_date.append(final_model_date)"
   ]
  },
  {
   "cell_type": "code",
   "execution_count": 21,
   "id": "c61cc075",
   "metadata": {
    "execution": {
     "iopub.execute_input": "2023-12-20T01:56:13.498085Z",
     "iopub.status.busy": "2023-12-20T01:56:13.497158Z",
     "iopub.status.idle": "2023-12-20T01:56:13.502201Z",
     "shell.execute_reply": "2023-12-20T01:56:13.501285Z"
    },
    "papermill": {
     "duration": 0.019768,
     "end_time": "2023-12-20T01:56:13.504180",
     "exception": false,
     "start_time": "2023-12-20T01:56:13.484412",
     "status": "completed"
    },
    "tags": []
   },
   "outputs": [],
   "source": [
    "# columns = [f\"fold{i+1}\" for i in range(cv_fold)]\n",
    "# columns.append(\"final\")\n",
    "# pred_save(y_test, models_date, columns, file_name=f\"{this_session}_date\")"
   ]
  },
  {
   "cell_type": "code",
   "execution_count": 22,
   "id": "5366c7f7",
   "metadata": {
    "execution": {
     "iopub.execute_input": "2023-12-20T01:56:13.529054Z",
     "iopub.status.busy": "2023-12-20T01:56:13.528452Z",
     "iopub.status.idle": "2023-12-20T01:56:13.532432Z",
     "shell.execute_reply": "2023-12-20T01:56:13.531549Z"
    },
    "papermill": {
     "duration": 0.018484,
     "end_time": "2023-12-20T01:56:13.534427",
     "exception": false,
     "start_time": "2023-12-20T01:56:13.515943",
     "status": "completed"
    },
    "tags": []
   },
   "outputs": [],
   "source": [
    "# analysis_date = pred_analysis(models_date, y_test)\n",
    "# display_pred_analysis(analysis_date, columns)"
   ]
  },
  {
   "cell_type": "code",
   "execution_count": 23,
   "id": "e8ec6114",
   "metadata": {
    "execution": {
     "iopub.execute_input": "2023-12-20T01:56:13.558745Z",
     "iopub.status.busy": "2023-12-20T01:56:13.558153Z",
     "iopub.status.idle": "2023-12-20T02:13:51.193884Z",
     "shell.execute_reply": "2023-12-20T02:13:51.192949Z"
    },
    "papermill": {
     "duration": 1057.649982,
     "end_time": "2023-12-20T02:13:51.196032",
     "exception": false,
     "start_time": "2023-12-20T01:56:13.546050",
     "status": "completed"
    },
    "tags": []
   },
   "outputs": [
    {
     "name": "stdout",
     "output_type": "stream",
     "text": [
      "{'n_estimators': 9000, 'device': 'gpu', 'objective': 'mae', 'num_leaves': 256, 'subsample': 0.6, 'colsample_bytree': 0.8, 'learning_rate': 0.01, 'max_depth': 11, 'verbosity': -1, 'importance_type': 'gain', 'reg_alpha': 0.2, 'reg_lambda': 3.25}\n",
      "Fold 1 Model Training\n",
      "Training until validation scores don't improve for 100 rounds\n",
      "Early stopping, best iteration is:\n",
      "[324]\tvalid_0's l1: 6.45357\n",
      "Model for fold 1 done\n",
      "Fold 2 Model Training\n",
      "Training until validation scores don't improve for 100 rounds\n",
      "Early stopping, best iteration is:\n",
      "[324]\tvalid_0's l1: 6.45357\n",
      "Model for fold 2 done\n",
      "Fold 3 Model Training\n",
      "Training until validation scores don't improve for 100 rounds\n",
      "Early stopping, best iteration is:\n",
      "[324]\tvalid_0's l1: 6.45357\n",
      "Model for fold 3 done\n",
      "Fold 4 Model Training\n",
      "Training until validation scores don't improve for 100 rounds\n",
      "Early stopping, best iteration is:\n",
      "[324]\tvalid_0's l1: 6.45357\n",
      "Model for fold 4 done\n"
     ]
    }
   ],
   "source": [
    "# the time model\n",
    "models_time, best_iter_time = run_cv(train_idc_time, val_idc_time, cv_fold=cv_fold, test=is_test)\n"
   ]
  },
  {
   "cell_type": "code",
   "execution_count": 24,
   "id": "2aa84036",
   "metadata": {
    "execution": {
     "iopub.execute_input": "2023-12-20T02:13:51.222680Z",
     "iopub.status.busy": "2023-12-20T02:13:51.222352Z",
     "iopub.status.idle": "2023-12-20T02:17:47.232507Z",
     "shell.execute_reply": "2023-12-20T02:17:47.231560Z"
    },
    "papermill": {
     "duration": 236.038151,
     "end_time": "2023-12-20T02:17:47.246859",
     "exception": false,
     "start_time": "2023-12-20T02:13:51.208708",
     "status": "completed"
    },
    "tags": []
   },
   "outputs": [
    {
     "name": "stdout",
     "output_type": "stream",
     "text": [
      "start training final model\n",
      "Finish training final model\n"
     ]
    }
   ],
   "source": [
    "final_model_time = run_final_model(best_iter_time, test=is_test)\n",
    "models_time.append(final_model_time)"
   ]
  },
  {
   "cell_type": "code",
   "execution_count": 25,
   "id": "b5d49cf4",
   "metadata": {
    "execution": {
     "iopub.execute_input": "2023-12-20T02:17:47.273381Z",
     "iopub.status.busy": "2023-12-20T02:17:47.273047Z",
     "iopub.status.idle": "2023-12-20T02:17:52.123251Z",
     "shell.execute_reply": "2023-12-20T02:17:52.122255Z"
    },
    "papermill": {
     "duration": 4.866153,
     "end_time": "2023-12-20T02:17:52.125698",
     "exception": false,
     "start_time": "2023-12-20T02:17:47.259545",
     "status": "completed"
    },
    "tags": []
   },
   "outputs": [],
   "source": [
    "columns = [f\"fold{i+1}\" for i in range(cv_fold)]\n",
    "columns.append(\"final\")\n",
    "pred_save(y_test, models_time, columns, file_name=f\"{this_session}_time\")"
   ]
  },
  {
   "cell_type": "code",
   "execution_count": 26,
   "id": "519e91fd",
   "metadata": {
    "execution": {
     "iopub.execute_input": "2023-12-20T02:17:52.152867Z",
     "iopub.status.busy": "2023-12-20T02:17:52.152544Z",
     "iopub.status.idle": "2023-12-20T02:17:56.906676Z",
     "shell.execute_reply": "2023-12-20T02:17:56.905603Z"
    },
    "papermill": {
     "duration": 4.769905,
     "end_time": "2023-12-20T02:17:56.908868",
     "exception": false,
     "start_time": "2023-12-20T02:17:52.138963",
     "status": "completed"
    },
    "tags": []
   },
   "outputs": [
    {
     "name": "stdout",
     "output_type": "stream",
     "text": [
      "301.36177252772654\n",
      "301.36177252772654\n",
      "301.36177252772654\n",
      "301.36177252772654\n",
      "301.5257870318224\n"
     ]
    },
    {
     "data": {
      "image/png": "[encoded data removed]",
      "text/plain": [
       "<Figure size 800x600 with 1 Axes>"
      ]
     },
     "metadata": {},
     "output_type": "display_data"
    }
   ],
   "source": [
    "analysis_time = pred_analysis(models_time, y_test)\n",
    "display_pred_analysis(analysis_time, columns)"
   ]
  },
  {
   "cell_type": "markdown",
   "id": "8635be0f",
   "metadata": {
    "papermill": {
     "duration": 0.014159,
     "end_time": "2023-12-20T02:17:56.937154",
     "exception": false,
     "start_time": "2023-12-20T02:17:56.922995",
     "status": "completed"
    },
    "tags": []
   },
   "source": [
    "# Testing on test set"
   ]
  },
  {
   "cell_type": "code",
   "execution_count": 27,
   "id": "3348ebc6",
   "metadata": {
    "execution": {
     "iopub.execute_input": "2023-12-20T02:17:56.967584Z",
     "iopub.status.busy": "2023-12-20T02:17:56.967277Z",
     "iopub.status.idle": "2023-12-20T02:17:56.971499Z",
     "shell.execute_reply": "2023-12-20T02:17:56.970605Z"
    },
    "papermill": {
     "duration": 0.020914,
     "end_time": "2023-12-20T02:17:56.973515",
     "exception": false,
     "start_time": "2023-12-20T02:17:56.952601",
     "status": "completed"
    },
    "tags": []
   },
   "outputs": [],
   "source": [
    "# all_models = models_date + models_time\n",
    "all_models = models_time"
   ]
  },
  {
   "cell_type": "markdown",
   "id": "d0247153",
   "metadata": {
    "papermill": {
     "duration": 0.013163,
     "end_time": "2023-12-20T02:17:57.000211",
     "exception": false,
     "start_time": "2023-12-20T02:17:56.987048",
     "status": "completed"
    },
    "tags": []
   },
   "source": [
    "# **Submission**"
   ]
  },
  {
   "cell_type": "code",
   "execution_count": 28,
   "id": "7be7c673",
   "metadata": {
    "execution": {
     "iopub.execute_input": "2023-12-20T02:17:57.035058Z",
     "iopub.status.busy": "2023-12-20T02:17:57.034305Z",
     "iopub.status.idle": "2023-12-20T02:20:48.070572Z",
     "shell.execute_reply": "2023-12-20T02:20:48.069405Z"
    },
    "papermill": {
     "duration": 171.056701,
     "end_time": "2023-12-20T02:20:48.072627",
     "exception": false,
     "start_time": "2023-12-20T02:17:57.015926",
     "status": "completed"
    },
    "tags": []
   },
   "outputs": [
    {
     "name": "stdout",
     "output_type": "stream",
     "text": [
      "This version of the API is not optimized and should not be used to estimate the runtime of your code on the hidden test set.\n",
      "Feat: (200, 161), cache: (200, 16)\n",
      "Feat: (200, 161), cache: (400, 16)\n",
      "Feat: (200, 161), cache: (600, 16)\n",
      "Feat: (200, 161), cache: (800, 16)\n",
      "Feat: (200, 161), cache: (1000, 16)\n",
      "Feat: (200, 161), cache: (1200, 16)\n",
      "Feat: (200, 161), cache: (1400, 16)\n",
      "Feat: (200, 161), cache: (1600, 16)\n",
      "Feat: (200, 161), cache: (1800, 16)\n",
      "Feat: (200, 161), cache: (2000, 16)\n",
      "10 qps: 1.0374698162078857\n",
      "Feat: (200, 161), cache: (2200, 16)\n",
      "Feat: (200, 161), cache: (2400, 16)\n",
      "Feat: (200, 161), cache: (2600, 16)\n",
      "Feat: (200, 161), cache: (2800, 16)\n",
      "Feat: (200, 161), cache: (3000, 16)\n",
      "Feat: (200, 161), cache: (3200, 16)\n",
      "Feat: (200, 161), cache: (3400, 16)\n",
      "Feat: (200, 161), cache: (3600, 16)\n",
      "Feat: (200, 161), cache: (3800, 16)\n",
      "Feat: (200, 161), cache: (4000, 16)\n",
      "20 qps: 1.0177861452102661\n",
      "Feat: (200, 161), cache: (4200, 16)\n",
      "Feat: (200, 161), cache: (4200, 16)\n",
      "Feat: (200, 161), cache: (4200, 16)\n",
      "Feat: (200, 161), cache: (4200, 16)\n",
      "Feat: (200, 161), cache: (4200, 16)\n",
      "Feat: (200, 161), cache: (4200, 16)\n",
      "Feat: (200, 161), cache: (4200, 16)\n",
      "Feat: (200, 161), cache: (4200, 16)\n",
      "Feat: (200, 161), cache: (4200, 16)\n",
      "Feat: (200, 161), cache: (4200, 16)\n",
      "30 qps: 1.0095829963684082\n",
      "Feat: (200, 161), cache: (4200, 16)\n",
      "Feat: (200, 161), cache: (4200, 16)\n",
      "Feat: (200, 161), cache: (4200, 16)\n",
      "Feat: (200, 161), cache: (4200, 16)\n",
      "Feat: (200, 161), cache: (4200, 16)\n",
      "Feat: (200, 161), cache: (4200, 16)\n",
      "Feat: (200, 161), cache: (4200, 16)\n",
      "Feat: (200, 161), cache: (4200, 16)\n",
      "Feat: (200, 161), cache: (4200, 16)\n",
      "Feat: (200, 161), cache: (4200, 16)\n",
      "40 qps: 1.0056606590747834\n",
      "Feat: (200, 161), cache: (4200, 16)\n",
      "Feat: (200, 161), cache: (4200, 16)\n",
      "Feat: (200, 161), cache: (4200, 16)\n",
      "Feat: (200, 161), cache: (4200, 16)\n",
      "Feat: (200, 161), cache: (4200, 16)\n",
      "Feat: (200, 161), cache: (4200, 16)\n",
      "Feat: (200, 161), cache: (4200, 16)\n",
      "Feat: (200, 161), cache: (4200, 16)\n",
      "Feat: (200, 161), cache: (4200, 16)\n",
      "Feat: (200, 161), cache: (4200, 16)\n",
      "50 qps: 1.0109113359451294\n",
      "Feat: (200, 161), cache: (4200, 16)\n",
      "Feat: (200, 161), cache: (4200, 16)\n",
      "Feat: (200, 161), cache: (4200, 16)\n",
      "Feat: (200, 161), cache: (4200, 16)\n",
      "Feat: (200, 161), cache: (4200, 16)\n",
      "Feat: (200, 161), cache: (4200, 16)\n",
      "Feat: (200, 161), cache: (4200, 16)\n",
      "Feat: (200, 161), cache: (4200, 16)\n",
      "Feat: (200, 161), cache: (4200, 16)\n",
      "Feat: (200, 161), cache: (4200, 16)\n",
      "60 qps: 1.0094788273175557\n",
      "Feat: (200, 161), cache: (4200, 16)\n",
      "Feat: (200, 161), cache: (4200, 16)\n",
      "Feat: (200, 161), cache: (4200, 16)\n",
      "Feat: (200, 161), cache: (4200, 16)\n",
      "Feat: (200, 161), cache: (4200, 16)\n",
      "Feat: (200, 161), cache: (4200, 16)\n",
      "Feat: (200, 161), cache: (4200, 16)\n",
      "Feat: (200, 161), cache: (4200, 16)\n",
      "Feat: (200, 161), cache: (4200, 16)\n",
      "Feat: (200, 161), cache: (4200, 16)\n",
      "70 qps: 1.0092530829565867\n",
      "Feat: (200, 161), cache: (4200, 16)\n",
      "Feat: (200, 161), cache: (4200, 16)\n",
      "Feat: (200, 161), cache: (4200, 16)\n",
      "Feat: (200, 161), cache: (4200, 16)\n",
      "Feat: (200, 161), cache: (4200, 16)\n",
      "Feat: (200, 161), cache: (4200, 16)\n",
      "Feat: (200, 161), cache: (4200, 16)\n",
      "Feat: (200, 161), cache: (4200, 16)\n",
      "Feat: (200, 161), cache: (4200, 16)\n",
      "Feat: (200, 161), cache: (4200, 16)\n",
      "80 qps: 1.009984478354454\n",
      "Feat: (200, 161), cache: (4200, 16)\n",
      "Feat: (200, 161), cache: (4200, 16)\n",
      "Feat: (200, 161), cache: (4200, 16)\n",
      "Feat: (200, 161), cache: (4200, 16)\n",
      "Feat: (200, 161), cache: (4200, 16)\n",
      "Feat: (200, 161), cache: (4200, 16)\n",
      "Feat: (200, 161), cache: (4200, 16)\n",
      "Feat: (200, 161), cache: (4200, 16)\n",
      "Feat: (200, 161), cache: (4200, 16)\n",
      "Feat: (200, 161), cache: (4200, 16)\n",
      "90 qps: 1.0095672792858548\n",
      "Feat: (200, 161), cache: (4200, 16)\n",
      "Feat: (200, 161), cache: (4200, 16)\n",
      "Feat: (200, 161), cache: (4200, 16)\n",
      "Feat: (200, 161), cache: (4200, 16)\n",
      "Feat: (200, 161), cache: (4200, 16)\n",
      "Feat: (200, 161), cache: (4200, 16)\n",
      "Feat: (200, 161), cache: (4200, 16)\n",
      "Feat: (200, 161), cache: (4200, 16)\n",
      "Feat: (200, 161), cache: (4200, 16)\n",
      "Feat: (200, 161), cache: (4200, 16)\n",
      "100 qps: 1.009035861492157\n",
      "Feat: (200, 161), cache: (4200, 16)\n",
      "Feat: (200, 161), cache: (4200, 16)\n",
      "Feat: (200, 161), cache: (4200, 16)\n",
      "Feat: (200, 161), cache: (4200, 16)\n",
      "Feat: (200, 161), cache: (4200, 16)\n",
      "Feat: (200, 161), cache: (4200, 16)\n",
      "Feat: (200, 161), cache: (4200, 16)\n",
      "Feat: (200, 161), cache: (4200, 16)\n",
      "Feat: (200, 161), cache: (4200, 16)\n",
      "Feat: (200, 161), cache: (4200, 16)\n",
      "110 qps: 1.0137640172784979\n",
      "Feat: (200, 161), cache: (4200, 16)\n",
      "Feat: (200, 161), cache: (4200, 16)\n",
      "Feat: (200, 161), cache: (4200, 16)\n",
      "Feat: (200, 161), cache: (4200, 16)\n",
      "Feat: (200, 161), cache: (4200, 16)\n",
      "Feat: (200, 161), cache: (4200, 16)\n",
      "Feat: (200, 161), cache: (4200, 16)\n",
      "Feat: (200, 161), cache: (4200, 16)\n",
      "Feat: (200, 161), cache: (4200, 16)\n",
      "Feat: (200, 161), cache: (4200, 16)\n",
      "120 qps: 1.0167766133944194\n",
      "Feat: (200, 161), cache: (4200, 16)\n",
      "Feat: (200, 161), cache: (4200, 16)\n",
      "Feat: (200, 161), cache: (4200, 16)\n",
      "Feat: (200, 161), cache: (4200, 16)\n",
      "Feat: (200, 161), cache: (4200, 16)\n",
      "Feat: (200, 161), cache: (4200, 16)\n",
      "Feat: (200, 161), cache: (4200, 16)\n",
      "Feat: (200, 161), cache: (4200, 16)\n",
      "Feat: (200, 161), cache: (4200, 16)\n",
      "Feat: (200, 161), cache: (4200, 16)\n",
      "130 qps: 1.020500430693993\n",
      "Feat: (200, 161), cache: (4200, 16)\n",
      "Feat: (200, 161), cache: (4200, 16)\n",
      "Feat: (200, 161), cache: (4200, 16)\n",
      "Feat: (200, 161), cache: (4200, 16)\n",
      "Feat: (200, 161), cache: (4200, 16)\n",
      "Feat: (200, 161), cache: (4200, 16)\n",
      "Feat: (200, 161), cache: (4200, 16)\n",
      "Feat: (200, 161), cache: (4200, 16)\n",
      "Feat: (200, 161), cache: (4200, 16)\n",
      "Feat: (200, 161), cache: (4200, 16)\n",
      "140 qps: 1.024591040611267\n",
      "Feat: (200, 161), cache: (4200, 16)\n",
      "Feat: (200, 161), cache: (4200, 16)\n",
      "Feat: (200, 161), cache: (4200, 16)\n",
      "Feat: (200, 161), cache: (4200, 16)\n",
      "Feat: (200, 161), cache: (4200, 16)\n",
      "Feat: (200, 161), cache: (4200, 16)\n",
      "Feat: (200, 161), cache: (4200, 16)\n",
      "Feat: (200, 161), cache: (4200, 16)\n",
      "Feat: (200, 161), cache: (4200, 16)\n",
      "Feat: (200, 161), cache: (4200, 16)\n",
      "150 qps: 1.029167086283366\n",
      "Feat: (200, 161), cache: (4200, 16)\n",
      "Feat: (200, 161), cache: (4200, 16)\n",
      "Feat: (200, 161), cache: (4200, 16)\n",
      "Feat: (200, 161), cache: (4200, 16)\n",
      "Feat: (200, 161), cache: (4200, 16)\n",
      "Feat: (200, 161), cache: (4200, 16)\n",
      "Feat: (200, 161), cache: (4200, 16)\n",
      "Feat: (200, 161), cache: (4200, 16)\n",
      "Feat: (200, 161), cache: (4200, 16)\n",
      "Feat: (200, 161), cache: (4200, 16)\n",
      "160 qps: 1.0294168800115586\n",
      "Feat: (200, 161), cache: (4200, 16)\n",
      "Feat: (200, 161), cache: (4200, 16)\n",
      "Feat: (200, 161), cache: (4200, 16)\n",
      "Feat: (200, 161), cache: (4200, 16)\n",
      "Feat: (200, 161), cache: (4200, 16)\n",
      "The code will take approximately 1.1821 hours to reason about\n"
     ]
    }
   ],
   "source": [
    "def zero_sum(prices, volumes):\n",
    "    std_error = np.sqrt(volumes)\n",
    "    step = np.sum(prices) / np.sum(std_error)\n",
    "    out = prices - std_error * step\n",
    "    return out\n",
    "\n",
    "if is_infer:\n",
    "    import optiver2023\n",
    "    env = optiver2023.make_env()\n",
    "    iter_test = env.iter_test()\n",
    "    counter = 0\n",
    "    y_min, y_max = -64, 64\n",
    "    qps, predictions = [], []\n",
    "    cache = pd.DataFrame()\n",
    "\n",
    "    # Weights for each fold model\n",
    "#     if LGB:\n",
    "#         lgb_model_weights = weighted_average(models)\n",
    "        #cbt_model_weights = weighted_average(models_cbt)\n",
    "    \n",
    "    all_features = list(test_features.columns)\n",
    "    \n",
    "    for (test, revealed_targets, sample_prediction) in iter_test:\n",
    "        now_time = time.time()\n",
    "        cache = pd.concat([cache, test], ignore_index=True, axis=0)\n",
    "        if counter > 0:\n",
    "            cache = cache.groupby(['stock_id']).tail(21).sort_values(by=['date_id', 'seconds_in_bucket', 'stock_id']).reset_index(drop=True)\n",
    "        feat = generate_all_features(cache)[-len(test):]\n",
    "        print(f\"Feat: {feat.shape}, cache: {cache.shape}\")\n",
    "\n",
    "        # Generate predictions for each model and calculate the weighted average\n",
    "        if LGB:\n",
    "            lgb_predictions = np.zeros(len(test))\n",
    "            for model in (all_models):\n",
    "                lgb_predictions += model.predict(feat[all_features])\n",
    "            lgb_predictions = lgb_predictions/len(all_models)\n",
    "\n",
    "#         predictions = lgb_predictions\n",
    "        \n",
    "#         #Using mean predictions rather than zero sum\n",
    "#         final_predictions = predictions - np.mean(predictions)\n",
    "        clipped_predictions = np.clip(lgb_predictions, y_min, y_max)\n",
    "        sample_prediction['target'] = clipped_predictions\n",
    "        env.predict(sample_prediction)\n",
    "        counter += 1\n",
    "        qps.append(time.time() - now_time)\n",
    "        if counter % 10 == 0:\n",
    "            print(counter, 'qps:', np.mean(qps))\n",
    "\n",
    "    time_cost = 1.146 * np.mean(qps)\n",
    "    print(f\"The code will take approximately {np.round(time_cost, 4)} hours to reason about\")\n"
   ]
  },
  {
   "cell_type": "code",
   "execution_count": null,
   "id": "bd0d79c2",
   "metadata": {
    "papermill": {
     "duration": 0.027287,
     "end_time": "2023-12-20T02:20:48.128681",
     "exception": false,
     "start_time": "2023-12-20T02:20:48.101394",
     "status": "completed"
    },
    "tags": []
   },
   "outputs": [],
   "source": []
  }
 ],
 "metadata": {
  "kaggle": {
   "accelerator": "gpu",
   "dataSources": [
    {
     "databundleVersionId": 7056235,
     "sourceId": 57891,
     "sourceType": "competition"
    }
   ],
   "dockerImageVersionId": 30588,
   "isGpuEnabled": true,
   "isInternetEnabled": false,
   "language": "python",
   "sourceType": "notebook"
  },
  "kernelspec": {
   "display_name": "Python 3",
   "language": "python",
   "name": "python3"
  },
  "language_info": {
   "codemirror_mode": {
    "name": "ipython",
    "version": 3
   },
   "file_extension": ".py",
   "mimetype": "text/x-python",
   "name": "python",
   "nbconvert_exporter": "python",
   "pygments_lexer": "ipython3",
   "version": "3.10.14"
  },
  "papermill": {
   "default_parameters": {},
   "duration": 1620.925655,
   "end_time": "2023-12-20T02:20:49.881922",
   "environment_variables": {},
   "exception": null,
   "input_path": "__notebook__.ipynb",
   "output_path": "__notebook__.ipynb",
   "parameters": {},
   "start_time": "2023-12-20T01:53:48.956267",
   "version": "2.4.0"
  }
 },
 "nbformat": 4,
 "nbformat_minor": 5
}

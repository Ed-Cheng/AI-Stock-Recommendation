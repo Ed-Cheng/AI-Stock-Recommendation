{
 "cells": [
  {
   "cell_type": "markdown",
   "metadata": {},
   "source": [
    "# Explanations\n",
    "\n",
    "- This notebook focuses on CatB\n",
    "\n",
    "- The previous notebook showed that anomaly detection models work quite well.\n",
    "\n",
    "- Looking in the pyod document, I found the benchmarks with this paper:\n",
    "  - Benchmark: https://pyod.readthedocs.io/en/latest/benchmark.html\n",
    "  - Paper: https://arxiv.org/abs/2206.09426\n",
    "\n",
    "- Here are some conclusions from the paper:\n",
    "  - The performance of unsupervised algorithms depends on the data (no absolute winners).\n",
    "  - semi-supervised methods can outperform unsupervised methods with a small amount of labelled data (common)\n",
    "  - unsupervised may outperform supervised under certain conditions (not common)\n",
    "  - Models that I will be using (Best performing models from the paper):\n",
    "    - Unsupervised: IForest, COPOD, KNN, CBLOF\n",
    "    - Supervised: CatB, LGBM"
   ]
  },
  {
   "cell_type": "code",
   "execution_count": 1,
   "metadata": {},
   "outputs": [],
   "source": [
    "import matplotlib as mpl\n",
    "import matplotlib.pyplot as plt\n",
    "import numpy as np\n",
    "import pandas as pd\n",
    "\n",
    "import yfinance as yf\n",
    "import seaborn as sns\n",
    "from sklearn.preprocessing import LabelEncoder, StandardScaler\n",
    "import plotly.graph_objects as go\n",
    "import catboost as cb\n",
    "import optuna\n",
    "\n",
    "\n",
    "import scripts.feature as feat\n",
    "import scripts.utility as util\n"
   ]
  },
  {
   "cell_type": "code",
   "execution_count": 2,
   "metadata": {},
   "outputs": [],
   "source": [
    "class FirmEncoder:\n",
    "    def __init__(self, firms):\n",
    "        self.encoder = LabelEncoder()\n",
    "        self.encoder.fit(firms)\n",
    "\n",
    "        self.scaler = StandardScaler()\n",
    "        self.scaler.fit(self.encoder.transform(firms).reshape(-1, 1))\n",
    "    \n",
    "    def encode(self, firm):\n",
    "        code = self.encoder.transform([firm]).reshape(-1, 1)\n",
    "        return self.scaler.transform(code)[0][0]"
   ]
  },
  {
   "cell_type": "code",
   "execution_count": 3,
   "metadata": {},
   "outputs": [],
   "source": [
    "def multi_ticker_dataset_pipeline(ticker_list, obj=[5, 0.05], normalize=False, extend=None):\n",
    "    encoder = FirmEncoder(ticker_list)\n",
    "    X_train, y_train, X_val, y_val = [], [], [], []\n",
    "\n",
    "    for ticker in ticker_list:\n",
    "        df = yf.download(ticker, period=\"5y\", interval=\"1d\", progress=False)\n",
    "        df = df.drop(columns=[\"Adj Close\"])\n",
    "        firm = encoder.encode(ticker)\n",
    "\n",
    "        Xtrain, ytrain, Xval, yval = feat.dataset_pipeline(df, \n",
    "                                                           obj=obj, \n",
    "                                                           norm=normalize, \n",
    "                                                           seq_len=None, \n",
    "                                                           extend=extend, \n",
    "                                                           firm=firm)\n",
    "            \n",
    "        X_train.append(Xtrain)\n",
    "        y_train.append(ytrain)\n",
    "        X_val.append(Xval)\n",
    "        y_val.append(yval)\n",
    "\n",
    "    X_train = np.vstack(X_train)\n",
    "    y_train = np.hstack(y_train)\n",
    "    X_val = np.vstack(X_val)\n",
    "    y_val = np.hstack(y_val)\n",
    "\n",
    "    return X_train, y_train, X_val, y_val\n",
    "\n",
    "def data_prep_for_tuning(ticker_list, normalize, obj=[5, 0.05]):\n",
    "    X_train, y_train, X_val, y_val = multi_ticker_dataset_pipeline(ticker_list, obj=obj, normalize=normalize, extend=3)\n",
    "    print(X_train.shape, y_train.shape, X_val.shape, y_val.shape)\n",
    "\n",
    "    y_train = np.where(y_train <= 1, 0, 1)\n",
    "    y_val = np.where(y_val <= 1, 0, 1)\n",
    "\n",
    "    print(np.unique(y_train, return_counts=True))\n",
    "    print(np.unique(y_val, return_counts=True))\n",
    "\n",
    "    return X_train, y_train, X_val, y_val\n",
    "\n",
    "def data_prep_for_tuning_multi(ticker_list, normalize, obj=[5, 0.05]):\n",
    "    X_train, y_train, X_val, y_val = multi_ticker_dataset_pipeline(ticker_list, obj=obj, normalize=normalize, extend=3)\n",
    "    print(X_train.shape, y_train.shape, X_val.shape, y_val.shape)\n",
    "\n",
    "    print(np.unique(y_train, return_counts=True))\n",
    "    print(np.unique(y_val, return_counts=True))\n",
    "\n",
    "    return X_train, y_train, X_val, y_val"
   ]
  },
  {
   "cell_type": "code",
   "execution_count": 4,
   "metadata": {},
   "outputs": [],
   "source": [
    "def single_class_report(y_true, y_pred, label):\n",
    "    instance = np.where(y_true == label)[0]\n",
    "    predict = np.where(y_pred == label)[0]\n",
    "    correct = np.intersect1d(instance, predict) \n",
    "\n",
    "    precision = len(correct) / (len(predict) + 0.01)\n",
    "    recall = len(correct) / (len(instance)+ 0.01)\n",
    "    \n",
    "    def fbeta_score(b):\n",
    "        return (1+b**2) * (precision * recall) / (b**2 * precision + recall + 0.01)\n",
    "    f1 = fbeta_score(b=1)\n",
    "    fbeta = fbeta_score(b=0.5)  # 0.5 beta focus more on precision\n",
    "\n",
    "    # print(f\"----- For Class {label} -----\")\n",
    "    # print(f\"Recall: {recall}\")\n",
    "    # print(f\"Precision: {precision}\")\n",
    "    # print(f\"f1_score: {f1}\")\n",
    "    # print(f\"f0.5_score: {fbeta}\")\n",
    "\n",
    "    return [recall, precision, f1, fbeta]\n",
    "\n",
    "\n",
    "def quick_model_evaluation(model, X_train, y_train, X_val, y_val, label):\n",
    "    model.fit(X_train, y_train)\n",
    "\n",
    "    print(\"train set\")\n",
    "    y_pred = model.predict(X_train)\n",
    "    train_result = single_class_report(y_train, y_pred, label=label)\n",
    "\n",
    "    print(\"val set\")\n",
    "    y_pred = model.predict(X_val)\n",
    "    val_result = single_class_report(y_val, y_pred, label=label)\n",
    "\n",
    "    return np.round(train_result + val_result, 3)\n",
    "\n",
    "\n",
    "def quick_unsupervised_evaluation(model, X_train, y_train, X_val, y_val, label):\n",
    "    model.fit(X_train)\n",
    "\n",
    "    # class 1 is normal, -1 is anomaly for sklearn\n",
    "    # class 0 is normal,  1 is anomaly for pyod\n",
    "    # print(\"train set\")\n",
    "    y_pred = model.predict(X_train)\n",
    "    # y_pred = np.where(y_pred > 0, 0, 1)\n",
    "    train_result = single_class_report(y_train, y_pred, label=label)\n",
    "\n",
    "    # print(\"val set\")\n",
    "    y_pred = model.predict(X_val)\n",
    "    # y_pred = np.where(y_pred > 0, 0, 1)\n",
    "    val_result = single_class_report(y_val, y_pred, label=label)\n",
    "\n",
    "    return np.round(train_result + val_result, 3)\n",
    "\n",
    "def update_result_table(df, result, idx_name):\n",
    "    new = pd.DataFrame(data=[result],\n",
    "                       columns=[\"train_recall\", \"train_precision\", \"train_f1\", \"train_fbeta\",\n",
    "                                \"val_recall\", \"val_precision\", \"val_f1\", \"val_fbeta\"],\n",
    "                       index=[idx_name])\n",
    "    df = pd.concat([df, new])\n",
    "    return df\n"
   ]
  },
  {
   "cell_type": "markdown",
   "metadata": {},
   "source": [
    "# optuna tuning\n"
   ]
  },
  {
   "cell_type": "code",
   "execution_count": 19,
   "metadata": {},
   "outputs": [],
   "source": [
    "def objective(trial):\n",
    "    param = {\n",
    "        \"loss_function\": \"Logloss\",\n",
    "        \"depth\": trial.suggest_int(\"depth\", 4, 10),\n",
    "        \"learning_rate\": trial.suggest_float(\"learning_rate\", 0.01, 0.3),\n",
    "        \"l2_leaf_reg\": trial.suggest_uniform(\"l2_leaf_reg\", 0.1, 10),\n",
    "        \"subsample\": trial.suggest_float(\"subsample\", 0.3, 1.0),\n",
    "        \"colsample_bylevel\": trial.suggest_float(\"colsample_bylevel\", 0.3, 1.0),\n",
    "        \"bagging_temperature\": trial.suggest_uniform(\"bagging_temperature\", 0.0, 1.0),\n",
    "        \"border_count\": trial.suggest_int(\"border_count\", 32, 255),\n",
    "        \"random_strength\": trial.suggest_uniform(\"random_strength\", 0.0, 10.0),\n",
    "        \"verbose\": 0\n",
    "    }\n",
    "\n",
    "    gbm = cb.CatBoostClassifier(**param)\n",
    "    gbm.fit(X_train, y_train, eval_set=(X_val, y_val), early_stopping_rounds=50)\n",
    "    # gbm.fit(X_train, y_train)\n",
    "\n",
    "    y_pred = gbm.predict(X_val)\n",
    "    score = single_class_report(y_val, y_pred, label=1)\n",
    "\n",
    "    return score[3]\n",
    "\n",
    "\n",
    "def multi_objective(trial):\n",
    "    param = {\n",
    "        \"loss_function\": \"MultiClass\",\n",
    "        \"depth\": trial.suggest_int(\"depth\", 4, 10),\n",
    "        \"learning_rate\": trial.suggest_float(\"learning_rate\", 0.01, 0.3),\n",
    "        \"l2_leaf_reg\": trial.suggest_uniform(\"l2_leaf_reg\", 0.1, 10),\n",
    "        # \"subsample\": trial.suggest_float(\"subsample\", 0.3, 1.0),\n",
    "        \"colsample_bylevel\": trial.suggest_float(\"colsample_bylevel\", 0.3, 1.0),\n",
    "        \"bagging_temperature\": trial.suggest_uniform(\"bagging_temperature\", 0.0, 1.0),\n",
    "        \"border_count\": trial.suggest_int(\"border_count\", 32, 255),\n",
    "        \"random_strength\": trial.suggest_uniform(\"random_strength\", 0.0, 10.0),\n",
    "        \"verbose\": 0\n",
    "    }\n",
    "\n",
    "    gbm = cb.CatBoostClassifier(**param)\n",
    "    gbm.fit(X_train, y_train, eval_set=(X_val, y_val), early_stopping_rounds=50)\n",
    "\n",
    "    y_pred = gbm.predict(X_val)\n",
    "    score = single_class_report(y_val, y_pred, label=2)\n",
    "\n",
    "    return score[3]\n"
   ]
  },
  {
   "cell_type": "markdown",
   "metadata": {},
   "source": [
    "# Tickers (Settings)"
   ]
  },
  {
   "cell_type": "code",
   "execution_count": 6,
   "metadata": {},
   "outputs": [],
   "source": [
    "ticker_list = [\"TSLA\", \"NVDA\", \"AMZN\", \"AAPL\", \"MSFT\", \"AMD\", \"GOOG\", \"META\", \"NFLX\"]\n",
    "# ticker_list = [\"TSLA\", \"NVDA\", \"AMZN\"]\n",
    "\n",
    "n_trials = 100"
   ]
  },
  {
   "cell_type": "markdown",
   "metadata": {},
   "source": [
    "# Binary classification w raw data"
   ]
  },
  {
   "cell_type": "markdown",
   "metadata": {},
   "source": [
    "## goal: 5 day 5% gain (high anomaly %)"
   ]
  },
  {
   "cell_type": "code",
   "execution_count": 7,
   "metadata": {},
   "outputs": [
    {
     "name": "stdout",
     "output_type": "stream",
     "text": [
      "(8793, 101) (8793,) (2205, 101) (2205,)\n",
      "(array([0, 1]), array([5895, 2898], dtype=int64))\n",
      "(array([0, 1]), array([1640,  565], dtype=int64))\n"
     ]
    }
   ],
   "source": [
    "X_train, y_train, X_val, y_val = data_prep_for_tuning(ticker_list, normalize=False, obj=[5, 0.05])"
   ]
  },
  {
   "cell_type": "code",
   "execution_count": 8,
   "metadata": {},
   "outputs": [
    {
     "name": "stderr",
     "output_type": "stream",
     "text": [
      "[I 2024-07-24 00:28:27,892] A new study created in memory with name: no-name-5ca2dc2e-0f68-4905-9563-17b3156565e0\n",
      "C:\\Users\\edton\\AppData\\Local\\Temp\\ipykernel_70720\\1369343015.py:6: FutureWarning: suggest_uniform has been deprecated in v3.0.0. This feature will be removed in v6.0.0. See https://github.com/optuna/optuna/releases/tag/v3.0.0. Use suggest_float instead.\n",
      "  \"l2_leaf_reg\": trial.suggest_uniform(\"l2_leaf_reg\", 0.1, 10),\n",
      "C:\\Users\\edton\\AppData\\Local\\Temp\\ipykernel_70720\\1369343015.py:9: FutureWarning: suggest_uniform has been deprecated in v3.0.0. This feature will be removed in v6.0.0. See https://github.com/optuna/optuna/releases/tag/v3.0.0. Use suggest_float instead.\n",
      "  \"bagging_temperature\": trial.suggest_uniform(\"bagging_temperature\", 0.0, 1.0),\n",
      "C:\\Users\\edton\\AppData\\Local\\Temp\\ipykernel_70720\\1369343015.py:11: FutureWarning: suggest_uniform has been deprecated in v3.0.0. This feature will be removed in v6.0.0. See https://github.com/optuna/optuna/releases/tag/v3.0.0. Use suggest_float instead.\n",
      "  \"random_strength\": trial.suggest_uniform(\"random_strength\", 0.0, 10.0),\n",
      "[I 2024-07-24 00:28:28,754] Trial 0 finished with value: 0.1636116398114601 and parameters: {'depth': 4, 'learning_rate': 0.2232029712539639, 'l2_leaf_reg': 4.1662936779032576, 'subsample': 0.8914964177381322, 'colsample_bylevel': 0.4497577408706829, 'bagging_temperature': 0.8248913374890957, 'border_count': 189, 'random_strength': 3.532084085207984}. Best is trial 0 with value: 0.1636116398114601.\n",
      "[I 2024-07-24 00:28:30,084] Trial 1 finished with value: 0.2590179227067643 and parameters: {'depth': 8, 'learning_rate': 0.2897433854905231, 'l2_leaf_reg': 6.036223129232943, 'subsample': 0.5124248701014514, 'colsample_bylevel': 0.9241597045802843, 'bagging_temperature': 0.3421521974884958, 'border_count': 66, 'random_strength': 0.3869102549712178}. Best is trial 1 with value: 0.2590179227067643.\n",
      "[I 2024-07-24 00:28:31,860] Trial 2 finished with value: 0.21177716259197849 and parameters: {'depth': 6, 'learning_rate': 0.08754271187947306, 'l2_leaf_reg': 0.7936017124720794, 'subsample': 0.3250853838446918, 'colsample_bylevel': 0.30908738670874775, 'bagging_temperature': 0.9734065740522457, 'border_count': 166, 'random_strength': 1.7630542388109638}. Best is trial 1 with value: 0.2590179227067643.\n",
      "[I 2024-07-24 00:28:34,600] Trial 3 finished with value: 0.17469346984062345 and parameters: {'depth': 9, 'learning_rate': 0.17808511647275968, 'l2_leaf_reg': 9.504450397837324, 'subsample': 0.9243859588019725, 'colsample_bylevel': 0.5658873893339814, 'bagging_temperature': 0.528981892812543, 'border_count': 103, 'random_strength': 2.8116263443610356}. Best is trial 1 with value: 0.2590179227067643.\n",
      "[I 2024-07-24 00:28:37,004] Trial 4 finished with value: 0.23817367629122851 and parameters: {'depth': 9, 'learning_rate': 0.1288540167368803, 'l2_leaf_reg': 3.933966796702865, 'subsample': 0.3481629819187304, 'colsample_bylevel': 0.7560082830864885, 'bagging_temperature': 0.04922068853573125, 'border_count': 61, 'random_strength': 7.59201626093764}. Best is trial 1 with value: 0.2590179227067643.\n",
      "[I 2024-07-24 00:28:38,096] Trial 5 finished with value: 0.2136003999540741 and parameters: {'depth': 6, 'learning_rate': 0.21477387117341265, 'l2_leaf_reg': 9.756888291876091, 'subsample': 0.3545420104860378, 'colsample_bylevel': 0.6612960617534225, 'bagging_temperature': 0.918268851913044, 'border_count': 98, 'random_strength': 7.858945843351118}. Best is trial 1 with value: 0.2590179227067643.\n",
      "[I 2024-07-24 00:28:40,900] Trial 6 finished with value: 0.1586522731752559 and parameters: {'depth': 5, 'learning_rate': 0.07600270762666081, 'l2_leaf_reg': 2.9794977287413644, 'subsample': 0.8642093176378696, 'colsample_bylevel': 0.9316721368702028, 'bagging_temperature': 0.18525806926426314, 'border_count': 177, 'random_strength': 9.395963255272065}. Best is trial 1 with value: 0.2590179227067643.\n",
      "[I 2024-07-24 00:28:42,792] Trial 7 finished with value: 0.24904196350420632 and parameters: {'depth': 7, 'learning_rate': 0.21477714386722116, 'l2_leaf_reg': 7.512715270035261, 'subsample': 0.6395791439964925, 'colsample_bylevel': 0.8074088644579476, 'bagging_temperature': 0.5908421314668585, 'border_count': 124, 'random_strength': 7.175126532884576}. Best is trial 1 with value: 0.2590179227067643.\n",
      "[I 2024-07-24 00:28:50,714] Trial 8 finished with value: 0.18119146110710346 and parameters: {'depth': 7, 'learning_rate': 0.02556137296628638, 'l2_leaf_reg': 8.428597982760309, 'subsample': 0.894113189796546, 'colsample_bylevel': 0.7286336868799697, 'bagging_temperature': 0.18196034328693889, 'border_count': 190, 'random_strength': 2.398100608322192}. Best is trial 1 with value: 0.2590179227067643.\n",
      "[I 2024-07-24 00:28:53,229] Trial 9 finished with value: 0.193209518455296 and parameters: {'depth': 5, 'learning_rate': 0.05239503227710914, 'l2_leaf_reg': 1.3562804845874568, 'subsample': 0.6927210490000257, 'colsample_bylevel': 0.8491452320848074, 'bagging_temperature': 0.19406238983516777, 'border_count': 90, 'random_strength': 1.4935340559436183}. Best is trial 1 with value: 0.2590179227067643.\n",
      "[I 2024-07-24 00:29:04,417] Trial 10 finished with value: 0.2659527776949445 and parameters: {'depth': 10, 'learning_rate': 0.2865654091471471, 'l2_leaf_reg': 6.659648496424212, 'subsample': 0.5295329343694022, 'colsample_bylevel': 0.9866161865854193, 'bagging_temperature': 0.37664415992630385, 'border_count': 246, 'random_strength': 0.3682633753617181}. Best is trial 10 with value: 0.2659527776949445.\n",
      "[I 2024-07-24 00:29:16,467] Trial 11 finished with value: 0.23148894532095876 and parameters: {'depth': 10, 'learning_rate': 0.29508710356343143, 'l2_leaf_reg': 6.238866611634604, 'subsample': 0.5324137554471868, 'colsample_bylevel': 0.9965409082771974, 'bagging_temperature': 0.39389327902593424, 'border_count': 241, 'random_strength': 0.2499620965764717}. Best is trial 10 with value: 0.2659527776949445.\n",
      "[I 2024-07-24 00:29:18,310] Trial 12 finished with value: 0.2516735336182829 and parameters: {'depth': 9, 'learning_rate': 0.2909107482187156, 'l2_leaf_reg': 5.844374220100409, 'subsample': 0.5074570628184073, 'colsample_bylevel': 0.9189350661788824, 'bagging_temperature': 0.3792388751842889, 'border_count': 37, 'random_strength': 0.2883277041000922}. Best is trial 10 with value: 0.2659527776949445.\n",
      "[I 2024-07-24 00:29:29,588] Trial 13 finished with value: 0.2094158209460421 and parameters: {'depth': 10, 'learning_rate': 0.25545044665850014, 'l2_leaf_reg': 7.116468332020264, 'subsample': 0.5008551296149872, 'colsample_bylevel': 0.9695670505520031, 'bagging_temperature': 0.6783241358182099, 'border_count': 242, 'random_strength': 4.94906176999629}. Best is trial 10 with value: 0.2659527776949445.\n",
      "[I 2024-07-24 00:29:32,737] Trial 14 finished with value: 0.2550353443038281 and parameters: {'depth': 8, 'learning_rate': 0.2622763220452278, 'l2_leaf_reg': 5.112034228320228, 'subsample': 0.6321364883044278, 'colsample_bylevel': 0.864155700322321, 'bagging_temperature': 0.3637656882752563, 'border_count': 217, 'random_strength': 4.47983941075879}. Best is trial 10 with value: 0.2659527776949445.\n",
      "[I 2024-07-24 00:29:34,019] Trial 15 finished with value: 0.19559951366560455 and parameters: {'depth': 8, 'learning_rate': 0.17745885067822498, 'l2_leaf_reg': 7.453888168343016, 'subsample': 0.44877495404008044, 'colsample_bylevel': 0.5856831600550488, 'bagging_temperature': 0.3066645579279146, 'border_count': 63, 'random_strength': 0.9978040346545236}. Best is trial 10 with value: 0.2659527776949445.\n",
      "[I 2024-07-24 00:29:37,059] Trial 16 finished with value: 0.27155889837141195 and parameters: {'depth': 8, 'learning_rate': 0.2549367787047374, 'l2_leaf_reg': 2.609451424568863, 'subsample': 0.7518976455917693, 'colsample_bylevel': 0.8981048058049806, 'bagging_temperature': 0.6630644556589017, 'border_count': 149, 'random_strength': 6.159046222936076}. Best is trial 16 with value: 0.27155889837141195.\n",
      "[I 2024-07-24 00:29:43,415] Trial 17 finished with value: 0.25506688101759745 and parameters: {'depth': 10, 'learning_rate': 0.2534660155364955, 'l2_leaf_reg': 3.003997627308766, 'subsample': 0.7551200233625733, 'colsample_bylevel': 0.7801936222365913, 'bagging_temperature': 0.7165891096816455, 'border_count': 146, 'random_strength': 6.2947629109420955}. Best is trial 16 with value: 0.27155889837141195.\n",
      "[I 2024-07-24 00:29:48,221] Trial 18 finished with value: 0.14048238723425033 and parameters: {'depth': 9, 'learning_rate': 0.14877408422745814, 'l2_leaf_reg': 2.043607419904082, 'subsample': 0.7894077348249547, 'colsample_bylevel': 0.6692850374676655, 'bagging_temperature': 0.6363168783340363, 'border_count': 215, 'random_strength': 5.57589425921486}. Best is trial 16 with value: 0.27155889837141195.\n",
      "[I 2024-07-24 00:29:50,116] Trial 19 finished with value: 0.1940901927459207 and parameters: {'depth': 8, 'learning_rate': 0.23265663430640587, 'l2_leaf_reg': 0.3034386182501563, 'subsample': 0.9945968786110227, 'colsample_bylevel': 0.8696284554809518, 'bagging_temperature': 0.4865362258502076, 'border_count': 133, 'random_strength': 3.6732065974213604}. Best is trial 16 with value: 0.27155889837141195.\n",
      "[I 2024-07-24 00:29:58,541] Trial 20 finished with value: 0.23696114446752764 and parameters: {'depth': 10, 'learning_rate': 0.18951258229901125, 'l2_leaf_reg': 4.341914731261198, 'subsample': 0.590029555106155, 'colsample_bylevel': 0.48200354504870657, 'bagging_temperature': 0.49693227432275905, 'border_count': 253, 'random_strength': 9.374259888452007}. Best is trial 16 with value: 0.27155889837141195.\n",
      "[I 2024-07-24 00:30:00,956] Trial 21 finished with value: 0.23145810310831383 and parameters: {'depth': 7, 'learning_rate': 0.2991937198982934, 'l2_leaf_reg': 5.4941996352892195, 'subsample': 0.43094137161703533, 'colsample_bylevel': 0.9295824079421512, 'bagging_temperature': 0.779039855369849, 'border_count': 156, 'random_strength': 6.096443419540342}. Best is trial 16 with value: 0.27155889837141195.\n",
      "[I 2024-07-24 00:30:02,814] Trial 22 finished with value: 0.28028358439799006 and parameters: {'depth': 8, 'learning_rate': 0.2704659024043268, 'l2_leaf_reg': 6.200516982418012, 'subsample': 0.7194714803130706, 'colsample_bylevel': 0.9727708506647981, 'bagging_temperature': 0.27908763172522894, 'border_count': 121, 'random_strength': 0.25921798428606724}. Best is trial 22 with value: 0.28028358439799006.\n",
      "[I 2024-07-24 00:30:04,079] Trial 23 finished with value: 0.19718210956639173 and parameters: {'depth': 7, 'learning_rate': 0.27144750074469476, 'l2_leaf_reg': 6.8205820086596685, 'subsample': 0.7218878789519029, 'colsample_bylevel': 0.9909132639254917, 'bagging_temperature': 0.26081203113315843, 'border_count': 119, 'random_strength': 2.1785933270824587}. Best is trial 22 with value: 0.28028358439799006.\n",
      "[I 2024-07-24 00:30:09,458] Trial 24 finished with value: 0.19916817699264114 and parameters: {'depth': 9, 'learning_rate': 0.24662043173344564, 'l2_leaf_reg': 8.337042678449686, 'subsample': 0.7986447527450419, 'colsample_bylevel': 0.8325731607939932, 'bagging_temperature': 0.03698357357133253, 'border_count': 213, 'random_strength': 3.8630556089813144}. Best is trial 22 with value: 0.28028358439799006.\n",
      "[I 2024-07-24 00:30:11,264] Trial 25 finished with value: 0.22968212914148556 and parameters: {'depth': 8, 'learning_rate': 0.26935242542396803, 'l2_leaf_reg': 3.387632216516689, 'subsample': 0.5864270854355206, 'colsample_bylevel': 0.9000949018525117, 'bagging_temperature': 0.4423679654579684, 'border_count': 114, 'random_strength': 1.0643565049563906}. Best is trial 22 with value: 0.28028358439799006.\n",
      "[I 2024-07-24 00:30:12,459] Trial 26 finished with value: 0.22991823560234576 and parameters: {'depth': 6, 'learning_rate': 0.19307097708521892, 'l2_leaf_reg': 4.767298415637849, 'subsample': 0.6871123783114617, 'colsample_bylevel': 0.9969858874650572, 'bagging_temperature': 0.5785180212885298, 'border_count': 85, 'random_strength': 8.402520864613965}. Best is trial 22 with value: 0.28028358439799006.\n",
      "[I 2024-07-24 00:30:15,879] Trial 27 finished with value: 0.26417366030044087 and parameters: {'depth': 9, 'learning_rate': 0.23558478263543742, 'l2_leaf_reg': 2.428433292668039, 'subsample': 0.7731243826394852, 'colsample_bylevel': 0.7165605596367924, 'bagging_temperature': 0.26523479243049186, 'border_count': 142, 'random_strength': 6.648593077257304}. Best is trial 22 with value: 0.28028358439799006.\n",
      "[I 2024-07-24 00:30:18,997] Trial 28 finished with value: 0.21761495590733954 and parameters: {'depth': 8, 'learning_rate': 0.27494231492793975, 'l2_leaf_reg': 8.659519130220898, 'subsample': 0.8255003928400126, 'colsample_bylevel': 0.8072878424486687, 'bagging_temperature': 0.1286726409573152, 'border_count': 196, 'random_strength': 2.786692538429799}. Best is trial 22 with value: 0.28028358439799006.\n",
      "[I 2024-07-24 00:30:19,923] Trial 29 finished with value: 0.17550740090204472 and parameters: {'depth': 4, 'learning_rate': 0.20329558840672948, 'l2_leaf_reg': 4.068052232778529, 'subsample': 0.5992576832874322, 'colsample_bylevel': 0.33805139644737475, 'bagging_temperature': 0.8268897243490118, 'border_count': 169, 'random_strength': 4.631638130876237}. Best is trial 22 with value: 0.28028358439799006.\n",
      "[I 2024-07-24 00:30:23,496] Trial 30 finished with value: 0.20429166855824463 and parameters: {'depth': 7, 'learning_rate': 0.11900589725975944, 'l2_leaf_reg': 6.30949881176446, 'subsample': 0.7255443082799132, 'colsample_bylevel': 0.955007706677825, 'bagging_temperature': 0.4599853242652513, 'border_count': 200, 'random_strength': 5.448367668724567}. Best is trial 22 with value: 0.28028358439799006.\n",
      "[I 2024-07-24 00:30:26,902] Trial 31 finished with value: 0.22864766660735933 and parameters: {'depth': 9, 'learning_rate': 0.2365984810766134, 'l2_leaf_reg': 2.0400146375435666, 'subsample': 0.7619862889978756, 'colsample_bylevel': 0.713956922904945, 'bagging_temperature': 0.2855944382697129, 'border_count': 134, 'random_strength': 6.283044901297963}. Best is trial 22 with value: 0.28028358439799006.\n",
      "[I 2024-07-24 00:30:34,079] Trial 32 finished with value: 0.18503068797009187 and parameters: {'depth': 10, 'learning_rate': 0.23454989243995583, 'l2_leaf_reg': 2.1862184941529073, 'subsample': 0.6760615109187726, 'colsample_bylevel': 0.8827733052686143, 'bagging_temperature': 0.23631789378595316, 'border_count': 145, 'random_strength': 7.080360401496149}. Best is trial 22 with value: 0.28028358439799006.\n",
      "[I 2024-07-24 00:30:37,473] Trial 33 finished with value: 0.20908321434539678 and parameters: {'depth': 9, 'learning_rate': 0.2736144675112293, 'l2_leaf_reg': 1.5427085906594153, 'subsample': 0.8231902272433691, 'colsample_bylevel': 0.6032348276192522, 'bagging_temperature': 0.11032497035739836, 'border_count': 158, 'random_strength': 8.521974795215044}. Best is trial 22 with value: 0.28028358439799006.\n",
      "[I 2024-07-24 00:30:39,261] Trial 34 finished with value: 0.2154890962058293 and parameters: {'depth': 8, 'learning_rate': 0.28321207633365353, 'l2_leaf_reg': 5.369766207795758, 'subsample': 0.8639918839169014, 'colsample_bylevel': 0.934715140679843, 'bagging_temperature': 0.40425583092415723, 'border_count': 110, 'random_strength': 0.9326699062945139}. Best is trial 22 with value: 0.28028358439799006.\n",
      "[I 2024-07-24 00:30:41,255] Trial 35 finished with value: 0.22307264005178368 and parameters: {'depth': 9, 'learning_rate': 0.2240942438540296, 'l2_leaf_reg': 4.631999389620953, 'subsample': 0.5576743206458282, 'colsample_bylevel': 0.5039800308168297, 'bagging_temperature': 0.31666918804789107, 'border_count': 79, 'random_strength': 6.781576357059563}. Best is trial 22 with value: 0.28028358439799006.\n",
      "[I 2024-07-24 00:30:43,441] Trial 36 finished with value: 0.28081097283515505 and parameters: {'depth': 10, 'learning_rate': 0.2468799712873084, 'l2_leaf_reg': 3.4044370979960368, 'subsample': 0.9450738449516967, 'colsample_bylevel': 0.6989862471315479, 'bagging_temperature': 0.5555444876445851, 'border_count': 43, 'random_strength': 0.05044164646568847}. Best is trial 36 with value: 0.28081097283515505.\n",
      "[I 2024-07-24 00:30:45,798] Trial 37 finished with value: 0.25721790454550314 and parameters: {'depth': 10, 'learning_rate': 0.16249478984168791, 'l2_leaf_reg': 3.509567699539192, 'subsample': 0.41569791193172256, 'colsample_bylevel': 0.8952069130430653, 'bagging_temperature': 0.5477433671041613, 'border_count': 37, 'random_strength': 0.028089701842867666}. Best is trial 36 with value: 0.28081097283515505.\n",
      "[I 2024-07-24 00:30:47,734] Trial 38 finished with value: 0.27881254231451563 and parameters: {'depth': 10, 'learning_rate': 0.2514935148020847, 'l2_leaf_reg': 6.6547988148897534, 'subsample': 0.9841379341425787, 'colsample_bylevel': 0.402353139357189, 'bagging_temperature': 0.6359819106504672, 'border_count': 53, 'random_strength': 1.7381998077990435}. Best is trial 36 with value: 0.28081097283515505.\n",
      "[I 2024-07-24 00:30:49,063] Trial 39 finished with value: 0.27379565893412017 and parameters: {'depth': 8, 'learning_rate': 0.21148945029342753, 'l2_leaf_reg': 3.5461013877462024, 'subsample': 0.9289592214500664, 'colsample_bylevel': 0.3949940819736047, 'bagging_temperature': 0.7276799772241758, 'border_count': 49, 'random_strength': 1.3598842109751361}. Best is trial 36 with value: 0.28081097283515505.\n",
      "[I 2024-07-24 00:30:50,087] Trial 40 finished with value: 0.24488285928842657 and parameters: {'depth': 5, 'learning_rate': 0.2123250711759206, 'l2_leaf_reg': 3.592960431891825, 'subsample': 0.9866055189004422, 'colsample_bylevel': 0.3798653096591233, 'bagging_temperature': 0.8792880028560731, 'border_count': 48, 'random_strength': 1.700151085421285}. Best is trial 36 with value: 0.28081097283515505.\n",
      "[I 2024-07-24 00:30:51,244] Trial 41 finished with value: 0.16262636398646457 and parameters: {'depth': 8, 'learning_rate': 0.24733899569738843, 'l2_leaf_reg': 3.225892528056953, 'subsample': 0.9513176512137947, 'colsample_bylevel': 0.4017299888630713, 'bagging_temperature': 0.7289337313842472, 'border_count': 51, 'random_strength': 0.8897657866920704}. Best is trial 36 with value: 0.28081097283515505.\n",
      "[I 2024-07-24 00:30:52,608] Trial 42 finished with value: 0.2370621996128047 and parameters: {'depth': 7, 'learning_rate': 0.22099058212739575, 'l2_leaf_reg': 2.737930845115189, 'subsample': 0.9057779861763869, 'colsample_bylevel': 0.42591157215611597, 'bagging_temperature': 0.6606710151955714, 'border_count': 74, 'random_strength': 2.143625966193742}. Best is trial 36 with value: 0.28081097283515505.\n",
      "[I 2024-07-24 00:30:53,502] Trial 43 finished with value: 0.24005698928036406 and parameters: {'depth': 6, 'learning_rate': 0.2579446420188347, 'l2_leaf_reg': 1.2898800141165394, 'subsample': 0.9465630485201145, 'colsample_bylevel': 0.5288274991564116, 'bagging_temperature': 0.6096564601571822, 'border_count': 51, 'random_strength': 1.3939137663236878}. Best is trial 36 with value: 0.28081097283515505.\n",
      "[I 2024-07-24 00:30:55,107] Trial 44 finished with value: 0.26417366030044087 and parameters: {'depth': 8, 'learning_rate': 0.2481368813462259, 'l2_leaf_reg': 5.883668963693958, 'subsample': 0.8687508750136526, 'colsample_bylevel': 0.35811568412815925, 'bagging_temperature': 0.774338036310566, 'border_count': 93, 'random_strength': 2.866757661877421}. Best is trial 36 with value: 0.28081097283515505.\n",
      "[I 2024-07-24 00:30:57,215] Trial 45 finished with value: 0.27700383296913283 and parameters: {'depth': 9, 'learning_rate': 0.2006426430550743, 'l2_leaf_reg': 3.8698920656112827, 'subsample': 0.9494708465966404, 'colsample_bylevel': 0.4430448017050797, 'bagging_temperature': 0.5440169804353966, 'border_count': 67, 'random_strength': 0.5632478521812292}. Best is trial 36 with value: 0.28081097283515505.\n",
      "[I 2024-07-24 00:30:58,477] Trial 46 finished with value: 0.25733615657775194 and parameters: {'depth': 10, 'learning_rate': 0.19970842119735785, 'l2_leaf_reg': 4.026079789246744, 'subsample': 0.9554616386705862, 'colsample_bylevel': 0.3008149789522735, 'bagging_temperature': 0.5430545867707579, 'border_count': 33, 'random_strength': 0.7454466097958308}. Best is trial 36 with value: 0.28081097283515505.\n",
      "[I 2024-07-24 00:31:00,300] Trial 47 finished with value: 0.20018702537556454 and parameters: {'depth': 9, 'learning_rate': 0.17962154943322015, 'l2_leaf_reg': 4.554665430949701, 'subsample': 0.9131872068016857, 'colsample_bylevel': 0.463359340916871, 'bagging_temperature': 0.5841183284009592, 'border_count': 70, 'random_strength': 0.6194703393267185}. Best is trial 36 with value: 0.28081097283515505.\n",
      "[I 2024-07-24 00:31:02,307] Trial 48 finished with value: 0.24730043734376495 and parameters: {'depth': 10, 'learning_rate': 0.2056344007968456, 'l2_leaf_reg': 5.1756556978807176, 'subsample': 0.9687103505975939, 'colsample_bylevel': 0.4404564504299643, 'bagging_temperature': 0.9815789436609873, 'border_count': 60, 'random_strength': 1.3542136381044378}. Best is trial 36 with value: 0.28081097283515505.\n",
      "[I 2024-07-24 00:31:04,813] Trial 49 finished with value: 0.29246041296327957 and parameters: {'depth': 9, 'learning_rate': 0.14461441754836032, 'l2_leaf_reg': 7.890261473358521, 'subsample': 0.8751584124983527, 'colsample_bylevel': 0.5461940663227554, 'bagging_temperature': 0.7087186917613111, 'border_count': 100, 'random_strength': 0.005100936078752616}. Best is trial 49 with value: 0.29246041296327957.\n",
      "[I 2024-07-24 00:31:07,199] Trial 50 finished with value: 0.27399439422287875 and parameters: {'depth': 9, 'learning_rate': 0.11692250680474553, 'l2_leaf_reg': 7.594221734491171, 'subsample': 0.8804768515216451, 'colsample_bylevel': 0.5319055029257779, 'bagging_temperature': 0.5328317203523912, 'border_count': 104, 'random_strength': 0.034104285541394164}. Best is trial 49 with value: 0.29246041296327957.\n",
      "[I 2024-07-24 00:31:10,581] Trial 51 finished with value: 0.22172992346593298 and parameters: {'depth': 9, 'learning_rate': 0.10725132682060998, 'l2_leaf_reg': 7.752265801278201, 'subsample': 0.8832023263265202, 'colsample_bylevel': 0.6039614477228944, 'bagging_temperature': 0.512455469634179, 'border_count': 105, 'random_strength': 0.1378944255155217}. Best is trial 49 with value: 0.29246041296327957.\n",
      "[I 2024-07-24 00:31:13,912] Trial 52 finished with value: 0.2520030238400837 and parameters: {'depth': 10, 'learning_rate': 0.14870346234323725, 'l2_leaf_reg': 9.150560416633038, 'subsample': 0.8602762302558773, 'colsample_bylevel': 0.5494809403051865, 'bagging_temperature': 0.6156947281721578, 'border_count': 97, 'random_strength': 0.6118725311674649}. Best is trial 49 with value: 0.29246041296327957.\n",
      "[I 2024-07-24 00:31:16,583] Trial 53 finished with value: 0.30035349598474 and parameters: {'depth': 9, 'learning_rate': 0.12985976681186795, 'l2_leaf_reg': 7.971453836536696, 'subsample': 0.834261345684302, 'colsample_bylevel': 0.5210656136660479, 'bagging_temperature': 0.4329441330806367, 'border_count': 86, 'random_strength': 0.06854386175611261}. Best is trial 53 with value: 0.30035349598474.\n",
      "[I 2024-07-24 00:31:20,716] Trial 54 finished with value: 0.2502795711100973 and parameters: {'depth': 10, 'learning_rate': 0.08307850664658448, 'l2_leaf_reg': 8.1815747626766, 'subsample': 0.9997265540652959, 'colsample_bylevel': 0.500074965618048, 'bagging_temperature': 0.4518479788316306, 'border_count': 84, 'random_strength': 0.47689050398168875}. Best is trial 53 with value: 0.30035349598474.\n",
      "[I 2024-07-24 00:31:22,881] Trial 55 finished with value: 0.19404539303937582 and parameters: {'depth': 9, 'learning_rate': 0.13523631092051708, 'l2_leaf_reg': 7.057162477634096, 'subsample': 0.8258437144941599, 'colsample_bylevel': 0.6225656875265497, 'bagging_temperature': 0.6905270271461283, 'border_count': 62, 'random_strength': 1.8883968155860744}. Best is trial 53 with value: 0.30035349598474.\n",
      "[I 2024-07-24 00:31:26,669] Trial 56 finished with value: 0.25215490230725723 and parameters: {'depth': 9, 'learning_rate': 0.10029745424280952, 'l2_leaf_reg': 6.441013382332418, 'subsample': 0.9253329779112668, 'colsample_bylevel': 0.645771308708165, 'bagging_temperature': 0.33472816250474496, 'border_count': 125, 'random_strength': 0.3876329192703905}. Best is trial 53 with value: 0.30035349598474.\n",
      "[I 2024-07-24 00:31:28,723] Trial 57 finished with value: 0.25878417430782186 and parameters: {'depth': 10, 'learning_rate': 0.1688868582468368, 'l2_leaf_reg': 9.302710172060438, 'subsample': 0.8408653879593616, 'colsample_bylevel': 0.5684681551599075, 'bagging_temperature': 0.41791925625146403, 'border_count': 43, 'random_strength': 1.041513363478927}. Best is trial 53 with value: 0.30035349598474.\n",
      "[I 2024-07-24 00:31:32,549] Trial 58 finished with value: 0.2435651718560728 and parameters: {'depth': 9, 'learning_rate': 0.06789630502908749, 'l2_leaf_reg': 9.918149113474351, 'subsample': 0.9008272595811277, 'colsample_bylevel': 0.4678548854777945, 'bagging_temperature': 0.6436165604848637, 'border_count': 78, 'random_strength': 2.633523380546827}. Best is trial 53 with value: 0.30035349598474.\n",
      "[I 2024-07-24 00:31:34,745] Trial 59 finished with value: 0.23517345711704143 and parameters: {'depth': 10, 'learning_rate': 0.1419907867617172, 'l2_leaf_reg': 7.85670091073338, 'subsample': 0.9763420162774803, 'colsample_bylevel': 0.42443478225714754, 'bagging_temperature': 0.5649499364414381, 'border_count': 58, 'random_strength': 1.720207916568741}. Best is trial 53 with value: 0.30035349598474.\n",
      "[I 2024-07-24 00:31:36,735] Trial 60 finished with value: 0.2467629541632993 and parameters: {'depth': 10, 'learning_rate': 0.1302735163076882, 'l2_leaf_reg': 7.250421806132923, 'subsample': 0.9399819333322681, 'colsample_bylevel': 0.3343438977994356, 'bagging_temperature': 0.4930842700902563, 'border_count': 69, 'random_strength': 0.49500879080473714}. Best is trial 53 with value: 0.30035349598474.\n",
      "[I 2024-07-24 00:31:39,389] Trial 61 finished with value: 0.22545734865047726 and parameters: {'depth': 9, 'learning_rate': 0.1153711382861449, 'l2_leaf_reg': 8.889982292796512, 'subsample': 0.8039859628956909, 'colsample_bylevel': 0.526122878626829, 'bagging_temperature': 0.5242593789640589, 'border_count': 100, 'random_strength': 0.07892833267104266}. Best is trial 53 with value: 0.30035349598474.\n",
      "[I 2024-07-24 00:31:41,982] Trial 62 finished with value: 0.2566219834231767 and parameters: {'depth': 9, 'learning_rate': 0.09410455065202646, 'l2_leaf_reg': 6.815433203077971, 'subsample': 0.887317119294228, 'colsample_bylevel': 0.538634185936239, 'bagging_temperature': 0.7632659349740554, 'border_count': 88, 'random_strength': 0.011004912655972598}. Best is trial 53 with value: 0.30035349598474.\n",
      "[I 2024-07-24 00:31:45,169] Trial 63 finished with value: 0.21957343064125895 and parameters: {'depth': 9, 'learning_rate': 0.11973759218928626, 'l2_leaf_reg': 7.863541859410335, 'subsample': 0.9653955872780257, 'colsample_bylevel': 0.4935391320543131, 'bagging_temperature': 0.35899617281080354, 'border_count': 111, 'random_strength': 1.1731624394323896}. Best is trial 53 with value: 0.30035349598474.\n",
      "[I 2024-07-24 00:31:47,341] Trial 64 finished with value: 0.25367652092515497 and parameters: {'depth': 8, 'learning_rate': 0.15574735338630788, 'l2_leaf_reg': 6.056309561956787, 'subsample': 0.8453945732427657, 'colsample_bylevel': 0.5753338558525243, 'bagging_temperature': 0.6159780511864985, 'border_count': 124, 'random_strength': 0.7237054393527357}. Best is trial 53 with value: 0.30035349598474.\n",
      "[I 2024-07-24 00:31:50,491] Trial 65 finished with value: 0.25749979379882326 and parameters: {'depth': 10, 'learning_rate': 0.2636007153824261, 'l2_leaf_reg': 7.508857162024589, 'subsample': 0.729674793482, 'colsample_bylevel': 0.45595467345759744, 'bagging_temperature': 0.42701326281935337, 'border_count': 105, 'random_strength': 0.26420796564730153}. Best is trial 53 with value: 0.30035349598474.\n",
      "[I 2024-07-24 00:32:00,618] Trial 66 finished with value: 0.24085880099299822 and parameters: {'depth': 9, 'learning_rate': 0.02083454232631521, 'l2_leaf_reg': 8.209157857457367, 'subsample': 0.9216956102704098, 'colsample_bylevel': 0.5154727197589839, 'bagging_temperature': 0.47229412277615923, 'border_count': 92, 'random_strength': 0.3944012025241301}. Best is trial 53 with value: 0.30035349598474.\n",
      "[I 2024-07-24 00:32:04,236] Trial 67 finished with value: 0.3159764303537944 and parameters: {'depth': 9, 'learning_rate': 0.2815894676057881, 'l2_leaf_reg': 5.712648708386071, 'subsample': 0.8898217960626146, 'colsample_bylevel': 0.7645531198484725, 'bagging_temperature': 0.7015973608655262, 'border_count': 133, 'random_strength': 3.1271376170306904}. Best is trial 67 with value: 0.3159764303537944.\n",
      "[I 2024-07-24 00:32:10,076] Trial 68 finished with value: 0.26790856252656736 and parameters: {'depth': 10, 'learning_rate': 0.28388205909972575, 'l2_leaf_reg': 5.596084821260828, 'subsample': 0.7896065446768769, 'colsample_bylevel': 0.6855618293476016, 'bagging_temperature': 0.6962204064295128, 'border_count': 134, 'random_strength': 3.3959291768030555}. Best is trial 67 with value: 0.3159764303537944.\n",
      "[I 2024-07-24 00:32:13,883] Trial 69 finished with value: 0.2586433668434614 and parameters: {'depth': 9, 'learning_rate': 0.29284153967773136, 'l2_leaf_reg': 6.470297972799385, 'subsample': 0.8473558082415089, 'colsample_bylevel': 0.7726009571626187, 'bagging_temperature': 0.8044973218744518, 'border_count': 118, 'random_strength': 3.2184862411187645}. Best is trial 67 with value: 0.3159764303537944.\n",
      "[I 2024-07-24 00:32:15,136] Trial 70 finished with value: 0.2505057027876128 and parameters: {'depth': 8, 'learning_rate': 0.2666407930532651, 'l2_leaf_reg': 5.64689759568121, 'subsample': 0.652808990709105, 'colsample_bylevel': 0.7518775010136538, 'bagging_temperature': 0.20705822154106934, 'border_count': 41, 'random_strength': 2.2216840687034067}. Best is trial 67 with value: 0.3159764303537944.\n",
      "[I 2024-07-24 00:32:17,461] Trial 71 finished with value: 0.2799414579874788 and parameters: {'depth': 9, 'learning_rate': 0.27876776443554774, 'l2_leaf_reg': 4.877966444343903, 'subsample': 0.880386309540832, 'colsample_bylevel': 0.6511497290623561, 'bagging_temperature': 0.5610641153852308, 'border_count': 81, 'random_strength': 3.9631130861591544}. Best is trial 67 with value: 0.3159764303537944.\n",
      "[I 2024-07-24 00:32:20,130] Trial 72 finished with value: 0.26483968074712205 and parameters: {'depth': 9, 'learning_rate': 0.2780297158148655, 'l2_leaf_reg': 4.3918378480787466, 'subsample': 0.9349281001628615, 'colsample_bylevel': 0.6474427776855411, 'bagging_temperature': 0.6490475420438493, 'border_count': 80, 'random_strength': 3.0802508959954764}. Best is trial 67 with value: 0.3159764303537944.\n",
      "[I 2024-07-24 00:32:22,085] Trial 73 finished with value: 0.2547927302029891 and parameters: {'depth': 9, 'learning_rate': 0.28942925498220584, 'l2_leaf_reg': 4.898601161876362, 'subsample': 0.895541964117629, 'colsample_bylevel': 0.6909651750801935, 'bagging_temperature': 0.5715965781174603, 'border_count': 56, 'random_strength': 4.110613721526234}. Best is trial 67 with value: 0.3159764303537944.\n",
      "[I 2024-07-24 00:32:25,058] Trial 74 finished with value: 0.21809050604137165 and parameters: {'depth': 10, 'learning_rate': 0.2998092829899278, 'l2_leaf_reg': 3.791102482198592, 'subsample': 0.974313375699008, 'colsample_bylevel': 0.625043644575479, 'bagging_temperature': 0.5980883904842322, 'border_count': 68, 'random_strength': 4.999871777608542}. Best is trial 67 with value: 0.3159764303537944.\n",
      "[I 2024-07-24 00:32:27,700] Trial 75 finished with value: 0.2805056930751058 and parameters: {'depth': 8, 'learning_rate': 0.2407938074585348, 'l2_leaf_reg': 6.090798263142778, 'subsample': 0.8153396261190409, 'colsample_bylevel': 0.690852799470048, 'bagging_temperature': 0.7077043890985976, 'border_count': 129, 'random_strength': 2.4603487668531265}. Best is trial 67 with value: 0.3159764303537944.\n",
      "[I 2024-07-24 00:32:29,899] Trial 76 finished with value: 0.24461614908854187 and parameters: {'depth': 7, 'learning_rate': 0.24070177917195312, 'l2_leaf_reg': 6.024301959544589, 'subsample': 0.8136603456336252, 'colsample_bylevel': 0.7367947934358778, 'bagging_temperature': 0.8595867017715554, 'border_count': 127, 'random_strength': 2.489911401509793}. Best is trial 67 with value: 0.3159764303537944.\n",
      "[I 2024-07-24 00:32:32,595] Trial 77 finished with value: 0.27226025875293675 and parameters: {'depth': 8, 'learning_rate': 0.2266995287628502, 'l2_leaf_reg': 6.725336585195998, 'subsample': 0.7071970315649083, 'colsample_bylevel': 0.6880115604268229, 'bagging_temperature': 0.7437747423333965, 'border_count': 156, 'random_strength': 2.0254022492850208}. Best is trial 67 with value: 0.3159764303537944.\n",
      "[I 2024-07-24 00:32:34,711] Trial 78 finished with value: 0.2301090303753957 and parameters: {'depth': 8, 'learning_rate': 0.2579188057534149, 'l2_leaf_reg': 5.20293941816992, 'subsample': 0.7633555082558453, 'colsample_bylevel': 0.6684851562491446, 'bagging_temperature': 0.7045195208361559, 'border_count': 140, 'random_strength': 3.8000848432470695}. Best is trial 67 with value: 0.3159764303537944.\n",
      "[I 2024-07-24 00:32:35,965] Trial 79 finished with value: 0.21712546015891374 and parameters: {'depth': 7, 'learning_rate': 0.2790523357054258, 'l2_leaf_reg': 7.146469329839415, 'subsample': 0.7784938580180224, 'colsample_bylevel': 0.70846313019093, 'bagging_temperature': 0.0016478140613371828, 'border_count': 113, 'random_strength': 4.422563963768426}. Best is trial 67 with value: 0.3159764303537944.\n",
      "[I 2024-07-24 00:32:38,087] Trial 80 finished with value: 0.23412603326924517 and parameters: {'depth': 8, 'learning_rate': 0.2436706301570834, 'l2_leaf_reg': 6.253002843319148, 'subsample': 0.8610586612895098, 'colsample_bylevel': 0.5963583006572122, 'bagging_temperature': 0.6810095646213805, 'border_count': 117, 'random_strength': 3.5035972488987914}. Best is trial 67 with value: 0.3159764303537944.\n",
      "[I 2024-07-24 00:32:40,573] Trial 81 finished with value: 0.20759793707794982 and parameters: {'depth': 9, 'learning_rate': 0.2535413092653133, 'l2_leaf_reg': 4.958376841805461, 'subsample': 0.9071911909134694, 'colsample_bylevel': 0.6232773430416718, 'bagging_temperature': 0.6246593259902319, 'border_count': 74, 'random_strength': 1.6300273398880516}. Best is trial 67 with value: 0.3159764303537944.\n",
      "[I 2024-07-24 00:32:44,437] Trial 82 finished with value: 0.19481686576579604 and parameters: {'depth': 9, 'learning_rate': 0.27082921957016287, 'l2_leaf_reg': 3.067085600779244, 'subsample': 0.8783470994703436, 'colsample_bylevel': 0.776738076087324, 'bagging_temperature': 0.6729369778640094, 'border_count': 129, 'random_strength': 4.130098418573648}. Best is trial 67 with value: 0.3159764303537944.\n",
      "[I 2024-07-24 00:32:47,094] Trial 83 finished with value: 0.2578447300324172 and parameters: {'depth': 9, 'learning_rate': 0.26246951330283796, 'l2_leaf_reg': 5.693457399178372, 'subsample': 0.7426083842727004, 'colsample_bylevel': 0.8048970806523298, 'bagging_temperature': 0.5584534908956322, 'border_count': 93, 'random_strength': 0.8826166662215709}. Best is trial 67 with value: 0.3159764303537944.\n",
      "[I 2024-07-24 00:32:52,023] Trial 84 finished with value: 0.23264065960317554 and parameters: {'depth': 8, 'learning_rate': 0.18695149077047074, 'l2_leaf_reg': 5.3822380527288995, 'subsample': 0.30970289881563384, 'colsample_bylevel': 0.8299102343957615, 'bagging_temperature': 0.8044574403469804, 'border_count': 149, 'random_strength': 1.2555639263112743}. Best is trial 67 with value: 0.3159764303537944.\n",
      "[I 2024-07-24 00:33:01,344] Trial 85 finished with value: 0.2509841240744712 and parameters: {'depth': 10, 'learning_rate': 0.23223081765997244, 'l2_leaf_reg': 4.262444069714831, 'subsample': 0.9541337588213887, 'colsample_bylevel': 0.7384084345903398, 'bagging_temperature': 0.7503394290081845, 'border_count': 138, 'random_strength': 2.839703984815039}. Best is trial 67 with value: 0.3159764303537944.\n",
      "[I 2024-07-24 00:33:04,224] Trial 86 finished with value: 0.2866371045132243 and parameters: {'depth': 9, 'learning_rate': 0.2873596769243295, 'l2_leaf_reg': 8.660272455133597, 'subsample': 0.8310438955420426, 'colsample_bylevel': 0.556101948017946, 'bagging_temperature': 0.13103161368546956, 'border_count': 54, 'random_strength': 2.3604321246792037}. Best is trial 67 with value: 0.3159764303537944.\n",
      "[I 2024-07-24 00:33:09,867] Trial 87 finished with value: 0.263357236122005 and parameters: {'depth': 10, 'learning_rate': 0.284478214026589, 'l2_leaf_reg': 8.372940399511457, 'subsample': 0.8239676879215264, 'colsample_bylevel': 0.5566450549066907, 'bagging_temperature': 0.15357969687261208, 'border_count': 122, 'random_strength': 2.278054376670718}. Best is trial 67 with value: 0.3159764303537944.\n",
      "[I 2024-07-24 00:33:11,373] Trial 88 finished with value: 0.22460213078148378 and parameters: {'depth': 4, 'learning_rate': 0.2502015595023284, 'l2_leaf_reg': 8.699366327213847, 'subsample': 0.8418200776245549, 'colsample_bylevel': 0.6590274984099097, 'bagging_temperature': 0.0690047860244426, 'border_count': 166, 'random_strength': 3.0301513312944457}. Best is trial 67 with value: 0.3159764303537944.\n",
      "[I 2024-07-24 00:33:13,892] Trial 89 finished with value: 0.17609233443157735 and parameters: {'depth': 9, 'learning_rate': 0.2943324002500003, 'l2_leaf_reg': 6.553044700337867, 'subsample': 0.8044046765426343, 'colsample_bylevel': 0.5807330418681069, 'bagging_temperature': 0.2300976008276951, 'border_count': 43, 'random_strength': 2.6004413734951632}. Best is trial 67 with value: 0.3159764303537944.\n",
      "[I 2024-07-24 00:33:19,394] Trial 90 finished with value: 0.16707659835801922 and parameters: {'depth': 8, 'learning_rate': 0.03356230800701357, 'l2_leaf_reg': 8.015012994235805, 'subsample': 0.8712749412148486, 'colsample_bylevel': 0.6306138643403758, 'bagging_temperature': 0.09430830242934529, 'border_count': 33, 'random_strength': 5.323265107657205}. Best is trial 67 with value: 0.3159764303537944.\n",
      "[I 2024-07-24 00:33:20,932] Trial 91 finished with value: 0.24508132427805626 and parameters: {'depth': 9, 'learning_rate': 0.2756896058495292, 'l2_leaf_reg': 9.60001366083785, 'subsample': 0.9151711821602517, 'colsample_bylevel': 0.47401369877329325, 'bagging_temperature': 0.15532199099008792, 'border_count': 66, 'random_strength': 1.5425558819368668}. Best is trial 67 with value: 0.3159764303537944.\n",
      "[I 2024-07-24 00:33:22,716] Trial 92 finished with value: 0.25350197063324703 and parameters: {'depth': 9, 'learning_rate': 0.2671547604620049, 'l2_leaf_reg': 5.986180670628565, 'subsample': 0.9384161865115319, 'colsample_bylevel': 0.43531327456813895, 'bagging_temperature': 0.7173132091495202, 'border_count': 53, 'random_strength': 1.879692679183359}. Best is trial 67 with value: 0.3159764303537944.\n",
      "[I 2024-07-24 00:33:24,528] Trial 93 finished with value: 0.22940705558029287 and parameters: {'depth': 9, 'learning_rate': 0.21762280501031608, 'l2_leaf_reg': 8.840429410650565, 'subsample': 0.8525396006090317, 'colsample_bylevel': 0.4135364585501127, 'bagging_temperature': 0.5063030631951994, 'border_count': 84, 'random_strength': 0.7733009871344518}. Best is trial 67 with value: 0.3159764303537944.\n",
      "[I 2024-07-24 00:33:28,383] Trial 94 finished with value: 0.3128432875834019 and parameters: {'depth': 10, 'learning_rate': 0.14130675157861472, 'l2_leaf_reg': 6.900290215988998, 'subsample': 0.9975194105361408, 'colsample_bylevel': 0.38163460682065653, 'bagging_temperature': 0.594898733282911, 'border_count': 73, 'random_strength': 0.31399973814002535}. Best is trial 67 with value: 0.3159764303537944.\n",
      "[I 2024-07-24 00:33:31,015] Trial 95 finished with value: 0.24968695594032358 and parameters: {'depth': 10, 'learning_rate': 0.14101437938643613, 'l2_leaf_reg': 6.9341693791097505, 'subsample': 0.9882446403111274, 'colsample_bylevel': 0.3727405956802327, 'bagging_temperature': 0.6416860927015909, 'border_count': 75, 'random_strength': 0.2405719462482075}. Best is trial 67 with value: 0.3159764303537944.\n",
      "[I 2024-07-24 00:33:32,952] Trial 96 finished with value: 0.2841007754728572 and parameters: {'depth': 10, 'learning_rate': 0.15575371669974583, 'l2_leaf_reg': 7.320392975455272, 'subsample': 0.968690487838038, 'colsample_bylevel': 0.3220004780756467, 'bagging_temperature': 0.5915080563603264, 'border_count': 61, 'random_strength': 1.0017161911323589}. Best is trial 67 with value: 0.3159764303537944.\n",
      "[I 2024-07-24 00:33:34,750] Trial 97 finished with value: 0.21310206686329797 and parameters: {'depth': 10, 'learning_rate': 0.1584121779191293, 'l2_leaf_reg': 7.216031322885836, 'subsample': 0.8306783715450117, 'colsample_bylevel': 0.3212135610543412, 'bagging_temperature': 0.5921814199310728, 'border_count': 61, 'random_strength': 1.042498619143091}. Best is trial 67 with value: 0.3159764303537944.\n",
      "[I 2024-07-24 00:33:39,120] Trial 98 finished with value: 0.29737641387978164 and parameters: {'depth': 10, 'learning_rate': 0.16448279588209602, 'l2_leaf_reg': 7.408977504334939, 'subsample': 0.8965416388446454, 'colsample_bylevel': 0.7046272291147739, 'bagging_temperature': 0.5823049831504632, 'border_count': 98, 'random_strength': 0.2523176213711953}. Best is trial 67 with value: 0.3159764303537944.\n",
      "[I 2024-07-24 00:33:44,816] Trial 99 finished with value: 0.3071935612994447 and parameters: {'depth': 10, 'learning_rate': 0.14904498992777984, 'l2_leaf_reg': 7.4347292569025, 'subsample': 0.958027146081091, 'colsample_bylevel': 0.7023832443521818, 'bagging_temperature': 0.6586272546822856, 'border_count': 107, 'random_strength': 0.41603712229540585}. Best is trial 67 with value: 0.3159764303537944.\n"
     ]
    }
   ],
   "source": [
    "study = optuna.create_study(direction=\"maximize\")\n",
    "study.optimize(objective, n_trials=n_trials)"
   ]
  },
  {
   "cell_type": "code",
   "execution_count": 9,
   "metadata": {},
   "outputs": [
    {
     "data": {
      "application/vnd.plotly.v1+json": {
       "config": {
        "plotlyServerURL": "https://plot.ly"
       },
       "data": [
        {
         "mode": "markers",
         "name": "Objective Value",
         "type": "scatter",
         "x": [
          0,
          1,
          2,
          3,
          4,
          5,
          6,
          7,
          8,
          9,
          10,
          11,
          12,
          13,
          14,
          15,
          16,
          17,
          18,
          19,
          20,
          21,
          22,
          23,
          24,
          25,
          26,
          27,
          28,
          29,
          30,
          31,
          32,
          33,
          34,
          35,
          36,
          37,
          38,
          39,
          40,
          41,
          42,
          43,
          44,
          45,
          46,
          47,
          48,
          49,
          50,
          51,
          52,
          53,
          54,
          55,
          56,
          57,
          58,
          59,
          60,
          61,
          62,
          63,
          64,
          65,
          66,
          67,
          68,
          69,
          70,
          71,
          72,
          73,
          74,
          75,
          76,
          77,
          78,
          79,
          80,
          81,
          82,
          83,
          84,
          85,
          86,
          87,
          88,
          89,
          90,
          91,
          92,
          93,
          94,
          95,
          96,
          97,
          98,
          99
         ],
         "y": [
          0.1636116398114601,
          0.2590179227067643,
          0.21177716259197849,
          0.17469346984062345,
          0.23817367629122851,
          0.2136003999540741,
          0.1586522731752559,
          0.24904196350420632,
          0.18119146110710346,
          0.193209518455296,
          0.2659527776949445,
          0.23148894532095876,
          0.2516735336182829,
          0.2094158209460421,
          0.2550353443038281,
          0.19559951366560455,
          0.27155889837141195,
          0.25506688101759745,
          0.14048238723425033,
          0.1940901927459207,
          0.23696114446752764,
          0.23145810310831383,
          0.28028358439799006,
          0.19718210956639173,
          0.19916817699264114,
          0.22968212914148556,
          0.22991823560234576,
          0.26417366030044087,
          0.21761495590733954,
          0.17550740090204472,
          0.20429166855824463,
          0.22864766660735933,
          0.18503068797009187,
          0.20908321434539678,
          0.2154890962058293,
          0.22307264005178368,
          0.28081097283515505,
          0.25721790454550314,
          0.27881254231451563,
          0.27379565893412017,
          0.24488285928842657,
          0.16262636398646457,
          0.2370621996128047,
          0.24005698928036406,
          0.26417366030044087,
          0.27700383296913283,
          0.25733615657775194,
          0.20018702537556454,
          0.24730043734376495,
          0.29246041296327957,
          0.27399439422287875,
          0.22172992346593298,
          0.2520030238400837,
          0.30035349598474,
          0.2502795711100973,
          0.19404539303937582,
          0.25215490230725723,
          0.25878417430782186,
          0.2435651718560728,
          0.23517345711704143,
          0.2467629541632993,
          0.22545734865047726,
          0.2566219834231767,
          0.21957343064125895,
          0.25367652092515497,
          0.25749979379882326,
          0.24085880099299822,
          0.3159764303537944,
          0.26790856252656736,
          0.2586433668434614,
          0.2505057027876128,
          0.2799414579874788,
          0.26483968074712205,
          0.2547927302029891,
          0.21809050604137165,
          0.2805056930751058,
          0.24461614908854187,
          0.27226025875293675,
          0.2301090303753957,
          0.21712546015891374,
          0.23412603326924517,
          0.20759793707794982,
          0.19481686576579604,
          0.2578447300324172,
          0.23264065960317554,
          0.2509841240744712,
          0.2866371045132243,
          0.263357236122005,
          0.22460213078148378,
          0.17609233443157735,
          0.16707659835801922,
          0.24508132427805626,
          0.25350197063324703,
          0.22940705558029287,
          0.3128432875834019,
          0.24968695594032358,
          0.2841007754728572,
          0.21310206686329797,
          0.29737641387978164,
          0.3071935612994447
         ]
        },
        {
         "mode": "lines",
         "name": "Best Value",
         "type": "scatter",
         "x": [
          0,
          1,
          2,
          3,
          4,
          5,
          6,
          7,
          8,
          9,
          10,
          11,
          12,
          13,
          14,
          15,
          16,
          17,
          18,
          19,
          20,
          21,
          22,
          23,
          24,
          25,
          26,
          27,
          28,
          29,
          30,
          31,
          32,
          33,
          34,
          35,
          36,
          37,
          38,
          39,
          40,
          41,
          42,
          43,
          44,
          45,
          46,
          47,
          48,
          49,
          50,
          51,
          52,
          53,
          54,
          55,
          56,
          57,
          58,
          59,
          60,
          61,
          62,
          63,
          64,
          65,
          66,
          67,
          68,
          69,
          70,
          71,
          72,
          73,
          74,
          75,
          76,
          77,
          78,
          79,
          80,
          81,
          82,
          83,
          84,
          85,
          86,
          87,
          88,
          89,
          90,
          91,
          92,
          93,
          94,
          95,
          96,
          97,
          98,
          99
         ],
         "y": [
          0.1636116398114601,
          0.2590179227067643,
          0.2590179227067643,
          0.2590179227067643,
          0.2590179227067643,
          0.2590179227067643,
          0.2590179227067643,
          0.2590179227067643,
          0.2590179227067643,
          0.2590179227067643,
          0.2659527776949445,
          0.2659527776949445,
          0.2659527776949445,
          0.2659527776949445,
          0.2659527776949445,
          0.2659527776949445,
          0.27155889837141195,
          0.27155889837141195,
          0.27155889837141195,
          0.27155889837141195,
          0.27155889837141195,
          0.27155889837141195,
          0.28028358439799006,
          0.28028358439799006,
          0.28028358439799006,
          0.28028358439799006,
          0.28028358439799006,
          0.28028358439799006,
          0.28028358439799006,
          0.28028358439799006,
          0.28028358439799006,
          0.28028358439799006,
          0.28028358439799006,
          0.28028358439799006,
          0.28028358439799006,
          0.28028358439799006,
          0.28081097283515505,
          0.28081097283515505,
          0.28081097283515505,
          0.28081097283515505,
          0.28081097283515505,
          0.28081097283515505,
          0.28081097283515505,
          0.28081097283515505,
          0.28081097283515505,
          0.28081097283515505,
          0.28081097283515505,
          0.28081097283515505,
          0.28081097283515505,
          0.29246041296327957,
          0.29246041296327957,
          0.29246041296327957,
          0.29246041296327957,
          0.30035349598474,
          0.30035349598474,
          0.30035349598474,
          0.30035349598474,
          0.30035349598474,
          0.30035349598474,
          0.30035349598474,
          0.30035349598474,
          0.30035349598474,
          0.30035349598474,
          0.30035349598474,
          0.30035349598474,
          0.30035349598474,
          0.30035349598474,
          0.3159764303537944,
          0.3159764303537944,
          0.3159764303537944,
          0.3159764303537944,
          0.3159764303537944,
          0.3159764303537944,
          0.3159764303537944,
          0.3159764303537944,
          0.3159764303537944,
          0.3159764303537944,
          0.3159764303537944,
          0.3159764303537944,
          0.3159764303537944,
          0.3159764303537944,
          0.3159764303537944,
          0.3159764303537944,
          0.3159764303537944,
          0.3159764303537944,
          0.3159764303537944,
          0.3159764303537944,
          0.3159764303537944,
          0.3159764303537944,
          0.3159764303537944,
          0.3159764303537944,
          0.3159764303537944,
          0.3159764303537944,
          0.3159764303537944,
          0.3159764303537944,
          0.3159764303537944,
          0.3159764303537944,
          0.3159764303537944,
          0.3159764303537944,
          0.3159764303537944
         ]
        },
        {
         "marker": {
          "color": "#cccccc"
         },
         "mode": "markers",
         "name": "Infeasible Trial",
         "showlegend": false,
         "type": "scatter",
         "x": [],
         "y": []
        }
       ],
       "layout": {
        "template": {
         "data": {
          "bar": [
           {
            "error_x": {
             "color": "#2a3f5f"
            },
            "error_y": {
             "color": "#2a3f5f"
            },
            "marker": {
             "line": {
              "color": "#E5ECF6",
              "width": 0.5
             },
             "pattern": {
              "fillmode": "overlay",
              "size": 10,
              "solidity": 0.2
             }
            },
            "type": "bar"
           }
          ],
          "barpolar": [
           {
            "marker": {
             "line": {
              "color": "#E5ECF6",
              "width": 0.5
             },
             "pattern": {
              "fillmode": "overlay",
              "size": 10,
              "solidity": 0.2
             }
            },
            "type": "barpolar"
           }
          ],
          "carpet": [
           {
            "aaxis": {
             "endlinecolor": "#2a3f5f",
             "gridcolor": "white",
             "linecolor": "white",
             "minorgridcolor": "white",
             "startlinecolor": "#2a3f5f"
            },
            "baxis": {
             "endlinecolor": "#2a3f5f",
             "gridcolor": "white",
             "linecolor": "white",
             "minorgridcolor": "white",
             "startlinecolor": "#2a3f5f"
            },
            "type": "carpet"
           }
          ],
          "choropleth": [
           {
            "colorbar": {
             "outlinewidth": 0,
             "ticks": ""
            },
            "type": "choropleth"
           }
          ],
          "contour": [
           {
            "colorbar": {
             "outlinewidth": 0,
             "ticks": ""
            },
            "colorscale": [
             [
              0,
              "#0d0887"
             ],
             [
              0.1111111111111111,
              "#46039f"
             ],
             [
              0.2222222222222222,
              "#7201a8"
             ],
             [
              0.3333333333333333,
              "#9c179e"
             ],
             [
              0.4444444444444444,
              "#bd3786"
             ],
             [
              0.5555555555555556,
              "#d8576b"
             ],
             [
              0.6666666666666666,
              "#ed7953"
             ],
             [
              0.7777777777777778,
              "#fb9f3a"
             ],
             [
              0.8888888888888888,
              "#fdca26"
             ],
             [
              1,
              "#f0f921"
             ]
            ],
            "type": "contour"
           }
          ],
          "contourcarpet": [
           {
            "colorbar": {
             "outlinewidth": 0,
             "ticks": ""
            },
            "type": "contourcarpet"
           }
          ],
          "heatmap": [
           {
            "colorbar": {
             "outlinewidth": 0,
             "ticks": ""
            },
            "colorscale": [
             [
              0,
              "#0d0887"
             ],
             [
              0.1111111111111111,
              "#46039f"
             ],
             [
              0.2222222222222222,
              "#7201a8"
             ],
             [
              0.3333333333333333,
              "#9c179e"
             ],
             [
              0.4444444444444444,
              "#bd3786"
             ],
             [
              0.5555555555555556,
              "#d8576b"
             ],
             [
              0.6666666666666666,
              "#ed7953"
             ],
             [
              0.7777777777777778,
              "#fb9f3a"
             ],
             [
              0.8888888888888888,
              "#fdca26"
             ],
             [
              1,
              "#f0f921"
             ]
            ],
            "type": "heatmap"
           }
          ],
          "heatmapgl": [
           {
            "colorbar": {
             "outlinewidth": 0,
             "ticks": ""
            },
            "colorscale": [
             [
              0,
              "#0d0887"
             ],
             [
              0.1111111111111111,
              "#46039f"
             ],
             [
              0.2222222222222222,
              "#7201a8"
             ],
             [
              0.3333333333333333,
              "#9c179e"
             ],
             [
              0.4444444444444444,
              "#bd3786"
             ],
             [
              0.5555555555555556,
              "#d8576b"
             ],
             [
              0.6666666666666666,
              "#ed7953"
             ],
             [
              0.7777777777777778,
              "#fb9f3a"
             ],
             [
              0.8888888888888888,
              "#fdca26"
             ],
             [
              1,
              "#f0f921"
             ]
            ],
            "type": "heatmapgl"
           }
          ],
          "histogram": [
           {
            "marker": {
             "pattern": {
              "fillmode": "overlay",
              "size": 10,
              "solidity": 0.2
             }
            },
            "type": "histogram"
           }
          ],
          "histogram2d": [
           {
            "colorbar": {
             "outlinewidth": 0,
             "ticks": ""
            },
            "colorscale": [
             [
              0,
              "#0d0887"
             ],
             [
              0.1111111111111111,
              "#46039f"
             ],
             [
              0.2222222222222222,
              "#7201a8"
             ],
             [
              0.3333333333333333,
              "#9c179e"
             ],
             [
              0.4444444444444444,
              "#bd3786"
             ],
             [
              0.5555555555555556,
              "#d8576b"
             ],
             [
              0.6666666666666666,
              "#ed7953"
             ],
             [
              0.7777777777777778,
              "#fb9f3a"
             ],
             [
              0.8888888888888888,
              "#fdca26"
             ],
             [
              1,
              "#f0f921"
             ]
            ],
            "type": "histogram2d"
           }
          ],
          "histogram2dcontour": [
           {
            "colorbar": {
             "outlinewidth": 0,
             "ticks": ""
            },
            "colorscale": [
             [
              0,
              "#0d0887"
             ],
             [
              0.1111111111111111,
              "#46039f"
             ],
             [
              0.2222222222222222,
              "#7201a8"
             ],
             [
              0.3333333333333333,
              "#9c179e"
             ],
             [
              0.4444444444444444,
              "#bd3786"
             ],
             [
              0.5555555555555556,
              "#d8576b"
             ],
             [
              0.6666666666666666,
              "#ed7953"
             ],
             [
              0.7777777777777778,
              "#fb9f3a"
             ],
             [
              0.8888888888888888,
              "#fdca26"
             ],
             [
              1,
              "#f0f921"
             ]
            ],
            "type": "histogram2dcontour"
           }
          ],
          "mesh3d": [
           {
            "colorbar": {
             "outlinewidth": 0,
             "ticks": ""
            },
            "type": "mesh3d"
           }
          ],
          "parcoords": [
           {
            "line": {
             "colorbar": {
              "outlinewidth": 0,
              "ticks": ""
             }
            },
            "type": "parcoords"
           }
          ],
          "pie": [
           {
            "automargin": true,
            "type": "pie"
           }
          ],
          "scatter": [
           {
            "fillpattern": {
             "fillmode": "overlay",
             "size": 10,
             "solidity": 0.2
            },
            "type": "scatter"
           }
          ],
          "scatter3d": [
           {
            "line": {
             "colorbar": {
              "outlinewidth": 0,
              "ticks": ""
             }
            },
            "marker": {
             "colorbar": {
              "outlinewidth": 0,
              "ticks": ""
             }
            },
            "type": "scatter3d"
           }
          ],
          "scattercarpet": [
           {
            "marker": {
             "colorbar": {
              "outlinewidth": 0,
              "ticks": ""
             }
            },
            "type": "scattercarpet"
           }
          ],
          "scattergeo": [
           {
            "marker": {
             "colorbar": {
              "outlinewidth": 0,
              "ticks": ""
             }
            },
            "type": "scattergeo"
           }
          ],
          "scattergl": [
           {
            "marker": {
             "colorbar": {
              "outlinewidth": 0,
              "ticks": ""
             }
            },
            "type": "scattergl"
           }
          ],
          "scattermapbox": [
           {
            "marker": {
             "colorbar": {
              "outlinewidth": 0,
              "ticks": ""
             }
            },
            "type": "scattermapbox"
           }
          ],
          "scatterpolar": [
           {
            "marker": {
             "colorbar": {
              "outlinewidth": 0,
              "ticks": ""
             }
            },
            "type": "scatterpolar"
           }
          ],
          "scatterpolargl": [
           {
            "marker": {
             "colorbar": {
              "outlinewidth": 0,
              "ticks": ""
             }
            },
            "type": "scatterpolargl"
           }
          ],
          "scatterternary": [
           {
            "marker": {
             "colorbar": {
              "outlinewidth": 0,
              "ticks": ""
             }
            },
            "type": "scatterternary"
           }
          ],
          "surface": [
           {
            "colorbar": {
             "outlinewidth": 0,
             "ticks": ""
            },
            "colorscale": [
             [
              0,
              "#0d0887"
             ],
             [
              0.1111111111111111,
              "#46039f"
             ],
             [
              0.2222222222222222,
              "#7201a8"
             ],
             [
              0.3333333333333333,
              "#9c179e"
             ],
             [
              0.4444444444444444,
              "#bd3786"
             ],
             [
              0.5555555555555556,
              "#d8576b"
             ],
             [
              0.6666666666666666,
              "#ed7953"
             ],
             [
              0.7777777777777778,
              "#fb9f3a"
             ],
             [
              0.8888888888888888,
              "#fdca26"
             ],
             [
              1,
              "#f0f921"
             ]
            ],
            "type": "surface"
           }
          ],
          "table": [
           {
            "cells": {
             "fill": {
              "color": "#EBF0F8"
             },
             "line": {
              "color": "white"
             }
            },
            "header": {
             "fill": {
              "color": "#C8D4E3"
             },
             "line": {
              "color": "white"
             }
            },
            "type": "table"
           }
          ]
         },
         "layout": {
          "annotationdefaults": {
           "arrowcolor": "#2a3f5f",
           "arrowhead": 0,
           "arrowwidth": 1
          },
          "autotypenumbers": "strict",
          "coloraxis": {
           "colorbar": {
            "outlinewidth": 0,
            "ticks": ""
           }
          },
          "colorscale": {
           "diverging": [
            [
             0,
             "#8e0152"
            ],
            [
             0.1,
             "#c51b7d"
            ],
            [
             0.2,
             "#de77ae"
            ],
            [
             0.3,
             "#f1b6da"
            ],
            [
             0.4,
             "#fde0ef"
            ],
            [
             0.5,
             "#f7f7f7"
            ],
            [
             0.6,
             "#e6f5d0"
            ],
            [
             0.7,
             "#b8e186"
            ],
            [
             0.8,
             "#7fbc41"
            ],
            [
             0.9,
             "#4d9221"
            ],
            [
             1,
             "#276419"
            ]
           ],
           "sequential": [
            [
             0,
             "#0d0887"
            ],
            [
             0.1111111111111111,
             "#46039f"
            ],
            [
             0.2222222222222222,
             "#7201a8"
            ],
            [
             0.3333333333333333,
             "#9c179e"
            ],
            [
             0.4444444444444444,
             "#bd3786"
            ],
            [
             0.5555555555555556,
             "#d8576b"
            ],
            [
             0.6666666666666666,
             "#ed7953"
            ],
            [
             0.7777777777777778,
             "#fb9f3a"
            ],
            [
             0.8888888888888888,
             "#fdca26"
            ],
            [
             1,
             "#f0f921"
            ]
           ],
           "sequentialminus": [
            [
             0,
             "#0d0887"
            ],
            [
             0.1111111111111111,
             "#46039f"
            ],
            [
             0.2222222222222222,
             "#7201a8"
            ],
            [
             0.3333333333333333,
             "#9c179e"
            ],
            [
             0.4444444444444444,
             "#bd3786"
            ],
            [
             0.5555555555555556,
             "#d8576b"
            ],
            [
             0.6666666666666666,
             "#ed7953"
            ],
            [
             0.7777777777777778,
             "#fb9f3a"
            ],
            [
             0.8888888888888888,
             "#fdca26"
            ],
            [
             1,
             "#f0f921"
            ]
           ]
          },
          "colorway": [
           "#636efa",
           "#EF553B",
           "#00cc96",
           "#ab63fa",
           "#FFA15A",
           "#19d3f3",
           "#FF6692",
           "#B6E880",
           "#FF97FF",
           "#FECB52"
          ],
          "font": {
           "color": "#2a3f5f"
          },
          "geo": {
           "bgcolor": "white",
           "lakecolor": "white",
           "landcolor": "#E5ECF6",
           "showlakes": true,
           "showland": true,
           "subunitcolor": "white"
          },
          "hoverlabel": {
           "align": "left"
          },
          "hovermode": "closest",
          "mapbox": {
           "style": "light"
          },
          "paper_bgcolor": "white",
          "plot_bgcolor": "#E5ECF6",
          "polar": {
           "angularaxis": {
            "gridcolor": "white",
            "linecolor": "white",
            "ticks": ""
           },
           "bgcolor": "#E5ECF6",
           "radialaxis": {
            "gridcolor": "white",
            "linecolor": "white",
            "ticks": ""
           }
          },
          "scene": {
           "xaxis": {
            "backgroundcolor": "#E5ECF6",
            "gridcolor": "white",
            "gridwidth": 2,
            "linecolor": "white",
            "showbackground": true,
            "ticks": "",
            "zerolinecolor": "white"
           },
           "yaxis": {
            "backgroundcolor": "#E5ECF6",
            "gridcolor": "white",
            "gridwidth": 2,
            "linecolor": "white",
            "showbackground": true,
            "ticks": "",
            "zerolinecolor": "white"
           },
           "zaxis": {
            "backgroundcolor": "#E5ECF6",
            "gridcolor": "white",
            "gridwidth": 2,
            "linecolor": "white",
            "showbackground": true,
            "ticks": "",
            "zerolinecolor": "white"
           }
          },
          "shapedefaults": {
           "line": {
            "color": "#2a3f5f"
           }
          },
          "ternary": {
           "aaxis": {
            "gridcolor": "white",
            "linecolor": "white",
            "ticks": ""
           },
           "baxis": {
            "gridcolor": "white",
            "linecolor": "white",
            "ticks": ""
           },
           "bgcolor": "#E5ECF6",
           "caxis": {
            "gridcolor": "white",
            "linecolor": "white",
            "ticks": ""
           }
          },
          "title": {
           "x": 0.05
          },
          "xaxis": {
           "automargin": true,
           "gridcolor": "white",
           "linecolor": "white",
           "ticks": "",
           "title": {
            "standoff": 15
           },
           "zerolinecolor": "white",
           "zerolinewidth": 2
          },
          "yaxis": {
           "automargin": true,
           "gridcolor": "white",
           "linecolor": "white",
           "ticks": "",
           "title": {
            "standoff": 15
           },
           "zerolinecolor": "white",
           "zerolinewidth": 2
          }
         }
        },
        "title": {
         "text": "Optimization History Plot"
        },
        "xaxis": {
         "title": {
          "text": "Trial"
         }
        },
        "yaxis": {
         "title": {
          "text": "Objective Value"
         }
        }
       }
      }
     },
     "metadata": {},
     "output_type": "display_data"
    }
   ],
   "source": [
    "optuna.visualization.plot_optimization_history(**{\"study\": study})"
   ]
  },
  {
   "cell_type": "markdown",
   "metadata": {},
   "source": [
    "## goal: 3 day 5% gain (mid anomaly %)"
   ]
  },
  {
   "cell_type": "code",
   "execution_count": 10,
   "metadata": {},
   "outputs": [
    {
     "name": "stdout",
     "output_type": "stream",
     "text": [
      "(8793, 101) (8793,) (2205, 101) (2205,)\n",
      "(array([0, 1]), array([6781, 2012], dtype=int64))\n",
      "(array([0, 1]), array([1862,  343], dtype=int64))\n"
     ]
    }
   ],
   "source": [
    "X_train, y_train, X_val, y_val = data_prep_for_tuning(ticker_list, normalize=False, obj=[3, 0.05])"
   ]
  },
  {
   "cell_type": "code",
   "execution_count": 11,
   "metadata": {},
   "outputs": [
    {
     "name": "stderr",
     "output_type": "stream",
     "text": [
      "[I 2024-07-24 00:33:47,333] A new study created in memory with name: no-name-16794f90-8a0b-4077-aeef-d2cea04c3d74\n",
      "C:\\Users\\edton\\AppData\\Local\\Temp\\ipykernel_70720\\1369343015.py:6: FutureWarning:\n",
      "\n",
      "suggest_uniform has been deprecated in v3.0.0. This feature will be removed in v6.0.0. See https://github.com/optuna/optuna/releases/tag/v3.0.0. Use suggest_float instead.\n",
      "\n",
      "C:\\Users\\edton\\AppData\\Local\\Temp\\ipykernel_70720\\1369343015.py:9: FutureWarning:\n",
      "\n",
      "suggest_uniform has been deprecated in v3.0.0. This feature will be removed in v6.0.0. See https://github.com/optuna/optuna/releases/tag/v3.0.0. Use suggest_float instead.\n",
      "\n",
      "C:\\Users\\edton\\AppData\\Local\\Temp\\ipykernel_70720\\1369343015.py:11: FutureWarning:\n",
      "\n",
      "suggest_uniform has been deprecated in v3.0.0. This feature will be removed in v6.0.0. See https://github.com/optuna/optuna/releases/tag/v3.0.0. Use suggest_float instead.\n",
      "\n",
      "[I 2024-07-24 00:33:50,022] Trial 0 finished with value: 0.1234217257281999 and parameters: {'depth': 10, 'learning_rate': 0.26175520250791723, 'l2_leaf_reg': 3.7991870219772013, 'subsample': 0.5786171033111902, 'colsample_bylevel': 0.3140591024916058, 'bagging_temperature': 0.6225633143614729, 'border_count': 123, 'random_strength': 1.1705118937276981}. Best is trial 0 with value: 0.1234217257281999.\n",
      "[I 2024-07-24 00:33:51,107] Trial 1 finished with value: 0.061517295298441875 and parameters: {'depth': 6, 'learning_rate': 0.2091922981610295, 'l2_leaf_reg': 9.570056250179025, 'subsample': 0.7592523178636248, 'colsample_bylevel': 0.612751900820085, 'bagging_temperature': 0.1002240197272305, 'border_count': 60, 'random_strength': 4.375264318586536}. Best is trial 0 with value: 0.1234217257281999.\n",
      "[I 2024-07-24 00:33:56,874] Trial 2 finished with value: 0.046270001547106906 and parameters: {'depth': 5, 'learning_rate': 0.026168726772241184, 'l2_leaf_reg': 5.811477832368614, 'subsample': 0.6822389918075369, 'colsample_bylevel': 0.6773196592969453, 'bagging_temperature': 0.8151097730921095, 'border_count': 149, 'random_strength': 4.091396384477671}. Best is trial 0 with value: 0.1234217257281999.\n",
      "[I 2024-07-24 00:33:59,313] Trial 3 finished with value: 0.1481357489562485 and parameters: {'depth': 9, 'learning_rate': 0.2711610399636967, 'l2_leaf_reg': 2.7462764967325817, 'subsample': 0.8087705175599287, 'colsample_bylevel': 0.3196345093077081, 'bagging_temperature': 0.2024404363454705, 'border_count': 146, 'random_strength': 1.5326203198720556}. Best is trial 3 with value: 0.1481357489562485.\n",
      "[I 2024-07-24 00:34:00,771] Trial 4 finished with value: 0.08231411304041365 and parameters: {'depth': 4, 'learning_rate': 0.14356733780320555, 'l2_leaf_reg': 6.461191744126363, 'subsample': 0.3138030192563673, 'colsample_bylevel': 0.32569912456699285, 'bagging_temperature': 0.3118322911646839, 'border_count': 211, 'random_strength': 3.412016087834804}. Best is trial 3 with value: 0.1481357489562485.\n",
      "[I 2024-07-24 00:34:02,259] Trial 5 finished with value: 0.04400093448304637 and parameters: {'depth': 4, 'learning_rate': 0.1326041202126276, 'l2_leaf_reg': 5.248063083047718, 'subsample': 0.3694682412029598, 'colsample_bylevel': 0.9429901405173753, 'bagging_temperature': 0.5869573178446753, 'border_count': 149, 'random_strength': 9.709422921109311}. Best is trial 3 with value: 0.1481357489562485.\n",
      "[I 2024-07-24 00:34:06,405] Trial 6 finished with value: 0.09510891371003447 and parameters: {'depth': 10, 'learning_rate': 0.2810797998334229, 'l2_leaf_reg': 6.655587686668848, 'subsample': 0.827854231129111, 'colsample_bylevel': 0.36120337854233886, 'bagging_temperature': 0.24854898118433244, 'border_count': 166, 'random_strength': 6.298020022816844}. Best is trial 3 with value: 0.1481357489562485.\n",
      "[I 2024-07-24 00:34:10,342] Trial 7 finished with value: 0.10547087350840069 and parameters: {'depth': 7, 'learning_rate': 0.10937404198873198, 'l2_leaf_reg': 4.4932121376273555, 'subsample': 0.48136774826603057, 'colsample_bylevel': 0.7606385542572931, 'bagging_temperature': 0.9385583549997436, 'border_count': 193, 'random_strength': 1.930878903341755}. Best is trial 3 with value: 0.1481357489562485.\n",
      "[I 2024-07-24 00:34:12,049] Trial 8 finished with value: 0.0 and parameters: {'depth': 4, 'learning_rate': 0.12736133740126093, 'l2_leaf_reg': 9.372849597991783, 'subsample': 0.4597383343146828, 'colsample_bylevel': 0.8512323984966268, 'bagging_temperature': 0.02877281046164215, 'border_count': 234, 'random_strength': 5.818141938455143}. Best is trial 3 with value: 0.1481357489562485.\n",
      "[I 2024-07-24 00:34:15,996] Trial 9 finished with value: 0.16868229507353058 and parameters: {'depth': 7, 'learning_rate': 0.1256006629415902, 'l2_leaf_reg': 1.635686605374132, 'subsample': 0.8661906393969061, 'colsample_bylevel': 0.9626813865260804, 'bagging_temperature': 0.5025822968065121, 'border_count': 233, 'random_strength': 2.3756766430090748}. Best is trial 9 with value: 0.16868229507353058.\n",
      "[I 2024-07-24 00:34:23,322] Trial 10 finished with value: 0.17340681267690164 and parameters: {'depth': 8, 'learning_rate': 0.05613419119618132, 'l2_leaf_reg': 0.33377987961013567, 'subsample': 0.9854949832882165, 'colsample_bylevel': 0.532835819595229, 'bagging_temperature': 0.44723402715092836, 'border_count': 246, 'random_strength': 0.010584193006712983}. Best is trial 10 with value: 0.17340681267690164.\n",
      "[I 2024-07-24 00:34:28,568] Trial 11 finished with value: 0.16010791504345587 and parameters: {'depth': 8, 'learning_rate': 0.05126982377239522, 'l2_leaf_reg': 0.18000043061364798, 'subsample': 0.996460681292061, 'colsample_bylevel': 0.5245556094926496, 'bagging_temperature': 0.3619794205691664, 'border_count': 251, 'random_strength': 0.054988375182060345}. Best is trial 10 with value: 0.17340681267690164.\n",
      "[I 2024-07-24 00:34:31,735] Trial 12 finished with value: 0.13846109771534854 and parameters: {'depth': 7, 'learning_rate': 0.07765437433213349, 'l2_leaf_reg': 0.21734478691332315, 'subsample': 0.9714101658126614, 'colsample_bylevel': 0.4966114042680011, 'bagging_temperature': 0.4755406955832337, 'border_count': 255, 'random_strength': 0.34942062419703424}. Best is trial 10 with value: 0.17340681267690164.\n",
      "[I 2024-07-24 00:34:35,538] Trial 13 finished with value: 0.10875388603070613 and parameters: {'depth': 8, 'learning_rate': 0.1820330082311165, 'l2_leaf_reg': 2.04308488235359, 'subsample': 0.9012778780604016, 'colsample_bylevel': 0.9715002072233426, 'bagging_temperature': 0.6879949271889139, 'border_count': 208, 'random_strength': 2.837719507253667}. Best is trial 10 with value: 0.17340681267690164.\n",
      "[I 2024-07-24 00:34:38,132] Trial 14 finished with value: 0.07289374843826632 and parameters: {'depth': 8, 'learning_rate': 0.07896199898253065, 'l2_leaf_reg': 1.4696407667349776, 'subsample': 0.9295117305184546, 'colsample_bylevel': 0.47850943199890295, 'bagging_temperature': 0.4136937062221495, 'border_count': 69, 'random_strength': 2.441591824742862}. Best is trial 10 with value: 0.17340681267690164.\n",
      "[I 2024-07-24 00:34:43,246] Trial 15 finished with value: 0.04473215160367638 and parameters: {'depth': 6, 'learning_rate': 0.020565062186259003, 'l2_leaf_reg': 1.0320264001531765, 'subsample': 0.8550656266344588, 'colsample_bylevel': 0.8162295842442866, 'bagging_temperature': 0.5263493256663286, 'border_count': 112, 'random_strength': 0.9015514558243085}. Best is trial 10 with value: 0.17340681267690164.\n",
      "[I 2024-07-24 00:34:48,314] Trial 16 finished with value: 0.13274650341226432 and parameters: {'depth': 9, 'learning_rate': 0.18562256173932223, 'l2_leaf_reg': 2.883973312667002, 'subsample': 0.7385308562795512, 'colsample_bylevel': 0.6415051159788734, 'bagging_temperature': 0.7367496564357732, 'border_count': 181, 'random_strength': 7.857383037258458}. Best is trial 10 with value: 0.17340681267690164.\n",
      "[I 2024-07-24 00:34:50,851] Trial 17 finished with value: 0.017846861726273894 and parameters: {'depth': 6, 'learning_rate': 0.08496325315272146, 'l2_leaf_reg': 2.8166461052856615, 'subsample': 0.8948177584742301, 'colsample_bylevel': 0.42969045233319636, 'bagging_temperature': 0.4685211004747094, 'border_count': 233, 'random_strength': 3.203617763027487}. Best is trial 10 with value: 0.17340681267690164.\n",
      "[I 2024-07-24 00:34:56,179] Trial 18 finished with value: 0.15023416334724246 and parameters: {'depth': 7, 'learning_rate': 0.05119131938331639, 'l2_leaf_reg': 1.375538905241192, 'subsample': 0.6202494989845295, 'colsample_bylevel': 0.7272160070434676, 'bagging_temperature': 0.8189702866607054, 'border_count': 221, 'random_strength': 0.034442721558713515}. Best is trial 10 with value: 0.17340681267690164.\n",
      "[I 2024-07-24 00:35:01,927] Trial 19 finished with value: 0.15023416334724246 and parameters: {'depth': 9, 'learning_rate': 0.10254315746558972, 'l2_leaf_reg': 8.009660455832844, 'subsample': 0.7602901912835394, 'colsample_bylevel': 0.5496444282442223, 'bagging_temperature': 0.1549544889841682, 'border_count': 101, 'random_strength': 1.99470082277164}. Best is trial 10 with value: 0.17340681267690164.\n",
      "[I 2024-07-24 00:35:03,448] Trial 20 finished with value: 0.06706634184249217 and parameters: {'depth': 8, 'learning_rate': 0.22327937286617933, 'l2_leaf_reg': 4.231323519124828, 'subsample': 0.9479191359902093, 'colsample_bylevel': 0.908164299086659, 'bagging_temperature': 0.32512375551782047, 'border_count': 36, 'random_strength': 4.9165526487405735}. Best is trial 10 with value: 0.17340681267690164.\n",
      "[I 2024-07-24 00:35:10,776] Trial 21 finished with value: 0.13401211648179354 and parameters: {'depth': 8, 'learning_rate': 0.04451454688107789, 'l2_leaf_reg': 0.15060120368509858, 'subsample': 0.9977297403167962, 'colsample_bylevel': 0.5463081322607402, 'bagging_temperature': 0.3752150474780304, 'border_count': 254, 'random_strength': 0.3304532413138205}. Best is trial 10 with value: 0.17340681267690164.\n",
      "[I 2024-07-24 00:35:15,293] Trial 22 finished with value: 0.03781885065899565 and parameters: {'depth': 7, 'learning_rate': 0.051123654318506004, 'l2_leaf_reg': 0.7344147418949669, 'subsample': 0.9981821442419734, 'colsample_bylevel': 0.572453189782814, 'bagging_temperature': 0.5927422723160528, 'border_count': 241, 'random_strength': 1.0410629731724175}. Best is trial 10 with value: 0.17340681267690164.\n",
      "[I 2024-07-24 00:35:18,124] Trial 23 finished with value: 0.17996551855310178 and parameters: {'depth': 8, 'learning_rate': 0.16330055330947407, 'l2_leaf_reg': 1.8956402287623202, 'subsample': 0.8951177568328651, 'colsample_bylevel': 0.4159192617429556, 'bagging_temperature': 0.42487727156831434, 'border_count': 196, 'random_strength': 0.06690283162304382}. Best is trial 23 with value: 0.17996551855310178.\n",
      "[I 2024-07-24 00:35:21,888] Trial 24 finished with value: 0.06413644794849603 and parameters: {'depth': 9, 'learning_rate': 0.16215082586639826, 'l2_leaf_reg': 2.0656308668558463, 'subsample': 0.8661147812563561, 'colsample_bylevel': 0.41200224813746844, 'bagging_temperature': 0.5002010599193337, 'border_count': 194, 'random_strength': 1.696533065621503}. Best is trial 23 with value: 0.17996551855310178.\n",
      "[I 2024-07-24 00:35:23,263] Trial 25 finished with value: 0.09142133761252491 and parameters: {'depth': 6, 'learning_rate': 0.1667909182115998, 'l2_leaf_reg': 3.4404910138742517, 'subsample': 0.8011921093997824, 'colsample_bylevel': 0.43950339909366176, 'bagging_temperature': 0.42992919982235506, 'border_count': 219, 'random_strength': 0.9103412686435026}. Best is trial 23 with value: 0.17996551855310178.\n",
      "[I 2024-07-24 00:35:25,167] Trial 26 finished with value: 0.10132105627337343 and parameters: {'depth': 8, 'learning_rate': 0.22477479317012947, 'l2_leaf_reg': 1.976519458602961, 'subsample': 0.7076563403074402, 'colsample_bylevel': 0.393258931463893, 'bagging_temperature': 0.24644603206602103, 'border_count': 177, 'random_strength': 2.5781946777162648}. Best is trial 23 with value: 0.17996551855310178.\n",
      "[I 2024-07-24 00:35:28,330] Trial 27 finished with value: 0.07289374843826632 and parameters: {'depth': 7, 'learning_rate': 0.11113419219678575, 'l2_leaf_reg': 1.0339400930057259, 'subsample': 0.9095934124104947, 'colsample_bylevel': 0.6957413909475396, 'bagging_temperature': 0.5374278768560071, 'border_count': 200, 'random_strength': 3.774941303694529}. Best is trial 23 with value: 0.17996551855310178.\n",
      "[I 2024-07-24 00:35:29,410] Trial 28 finished with value: 0.09709322301179824 and parameters: {'depth': 5, 'learning_rate': 0.19846630817909794, 'l2_leaf_reg': 2.029871211806686, 'subsample': 0.8570089846548335, 'colsample_bylevel': 0.4638012424732505, 'bagging_temperature': 0.6965910879310984, 'border_count': 226, 'random_strength': 0.7203848717594908}. Best is trial 23 with value: 0.17996551855310178.\n",
      "[I 2024-07-24 00:35:36,215] Trial 29 finished with value: 0.04760385058392201 and parameters: {'depth': 10, 'learning_rate': 0.1499658556324276, 'l2_leaf_reg': 3.527311362667427, 'subsample': 0.9354661472166587, 'colsample_bylevel': 0.6110853287191695, 'bagging_temperature': 0.6053521671115201, 'border_count': 169, 'random_strength': 1.4027283297174027}. Best is trial 23 with value: 0.17996551855310178.\n",
      "[I 2024-07-24 00:35:43,582] Trial 30 finished with value: 0.10989411793648263 and parameters: {'depth': 9, 'learning_rate': 0.12479565813998615, 'l2_leaf_reg': 2.74870971385829, 'subsample': 0.5358506861743836, 'colsample_bylevel': 0.7953261461640617, 'bagging_temperature': 0.27733137915050093, 'border_count': 238, 'random_strength': 2.082828678038578}. Best is trial 23 with value: 0.17996551855310178.\n",
      "[I 2024-07-24 00:35:48,829] Trial 31 finished with value: 0.14359544945223585 and parameters: {'depth': 8, 'learning_rate': 0.06911756794259619, 'l2_leaf_reg': 0.5249082422684607, 'subsample': 0.9590555419171237, 'colsample_bylevel': 0.5170295095099419, 'bagging_temperature': 0.36609976370176117, 'border_count': 247, 'random_strength': 0.2762242520766247}. Best is trial 23 with value: 0.17996551855310178.\n",
      "[I 2024-07-24 00:36:03,604] Trial 32 finished with value: 0.0924590490036987 and parameters: {'depth': 7, 'learning_rate': 0.014353529567444533, 'l2_leaf_reg': 1.4266494992673209, 'subsample': 0.9879028625524282, 'colsample_bylevel': 0.5087685380927466, 'bagging_temperature': 0.4236154303530263, 'border_count': 219, 'random_strength': 0.03545286320862104}. Best is trial 23 with value: 0.17996551855310178.\n",
      "[I 2024-07-24 00:36:14,625] Trial 33 finished with value: 0.08135729175268187 and parameters: {'depth': 8, 'learning_rate': 0.03759745631164568, 'l2_leaf_reg': 0.18368127995166225, 'subsample': 0.8870443829359796, 'colsample_bylevel': 0.596717116979797, 'bagging_temperature': 0.3568796844697711, 'border_count': 241, 'random_strength': 1.1994510547926474}. Best is trial 23 with value: 0.17996551855310178.\n",
      "[I 2024-07-24 00:36:15,944] Trial 34 finished with value: 0.15360141844515565 and parameters: {'depth': 7, 'learning_rate': 0.2462612270853896, 'l2_leaf_reg': 0.8078686467279101, 'subsample': 0.8012499494827232, 'colsample_bylevel': 0.3702881735357944, 'bagging_temperature': 0.1623491224509645, 'border_count': 128, 'random_strength': 0.6332436383016758}. Best is trial 23 with value: 0.17996551855310178.\n",
      "[I 2024-07-24 00:36:26,108] Trial 35 finished with value: 0.11700638379224557 and parameters: {'depth': 9, 'learning_rate': 0.09348002108183412, 'l2_leaf_reg': 1.6145194925561825, 'subsample': 0.6403574103576739, 'colsample_bylevel': 0.6545017557053262, 'bagging_temperature': 0.531773983675326, 'border_count': 204, 'random_strength': 4.766935276460553}. Best is trial 23 with value: 0.17996551855310178.\n",
      "[I 2024-07-24 00:36:30,622] Trial 36 finished with value: 0.08231411304041365 and parameters: {'depth': 8, 'learning_rate': 0.06468902221739473, 'l2_leaf_reg': 2.4141809462901347, 'subsample': 0.9297133492549811, 'colsample_bylevel': 0.3073373914487905, 'bagging_temperature': 0.43740868080523554, 'border_count': 255, 'random_strength': 1.4450331359491853}. Best is trial 23 with value: 0.17996551855310178.\n",
      "[I 2024-07-24 00:36:32,614] Trial 37 finished with value: 0.09352058871370388 and parameters: {'depth': 6, 'learning_rate': 0.14366791209393456, 'l2_leaf_reg': 0.7931180186345104, 'subsample': 0.761481985054144, 'colsample_bylevel': 0.5356757849033172, 'bagging_temperature': 0.6343113197598704, 'border_count': 229, 'random_strength': 4.057278295153564}. Best is trial 23 with value: 0.17996551855310178.\n",
      "[I 2024-07-24 00:36:53,161] Trial 38 finished with value: 0.06761925660047455 and parameters: {'depth': 10, 'learning_rate': 0.03144105548635327, 'l2_leaf_reg': 5.262424639169427, 'subsample': 0.8344033722695205, 'colsample_bylevel': 0.4620030919082606, 'bagging_temperature': 0.2906822119136938, 'border_count': 185, 'random_strength': 5.823912146307948}. Best is trial 23 with value: 0.17996551855310178.\n",
      "[I 2024-07-24 00:37:04,195] Trial 39 finished with value: 0.053824687474358465 and parameters: {'depth': 9, 'learning_rate': 0.060690130564171614, 'l2_leaf_reg': 4.335091914075205, 'subsample': 0.9615356660678965, 'colsample_bylevel': 0.35972321252498574, 'bagging_temperature': 0.23106061612670892, 'border_count': 213, 'random_strength': 7.479987707921001}. Best is trial 23 with value: 0.17996551855310178.\n",
      "[I 2024-07-24 00:37:06,808] Trial 40 finished with value: 0.06667446995029869 and parameters: {'depth': 7, 'learning_rate': 0.11388594708801404, 'l2_leaf_reg': 3.2082209205197807, 'subsample': 0.7014946059430468, 'colsample_bylevel': 0.5736528311641728, 'bagging_temperature': 0.3292224645722555, 'border_count': 163, 'random_strength': 2.9941630912331214}. Best is trial 23 with value: 0.17996551855310178.\n",
      "[I 2024-07-24 00:37:07,981] Trial 41 finished with value: 0.06784112476061374 and parameters: {'depth': 7, 'learning_rate': 0.29691517597038863, 'l2_leaf_reg': 0.6597898185810467, 'subsample': 0.8082480785235562, 'colsample_bylevel': 0.36987057700601156, 'bagging_temperature': 0.1453876365998815, 'border_count': 128, 'random_strength': 0.7730055545585696}. Best is trial 23 with value: 0.17996551855310178.\n",
      "[I 2024-07-24 00:37:10,293] Trial 42 finished with value: 0.1456945906852358 and parameters: {'depth': 8, 'learning_rate': 0.24122480018535913, 'l2_leaf_reg': 1.18667018076337, 'subsample': 0.7826550646409255, 'colsample_bylevel': 0.3414249396777909, 'bagging_temperature': 0.08633348690403828, 'border_count': 136, 'random_strength': 0.5658395921715037}. Best is trial 23 with value: 0.17996551855310178.\n",
      "[I 2024-07-24 00:37:11,149] Trial 43 finished with value: 0.05850066683155102 and parameters: {'depth': 7, 'learning_rate': 0.2576939089662954, 'l2_leaf_reg': 0.13777286072895276, 'subsample': 0.8816271858529836, 'colsample_bylevel': 0.4016886870588099, 'bagging_temperature': 0.20477794415684275, 'border_count': 94, 'random_strength': 0.08777243642562826}. Best is trial 23 with value: 0.17996551855310178.\n",
      "[I 2024-07-24 00:37:12,562] Trial 44 finished with value: 0.09048573605261136 and parameters: {'depth': 5, 'learning_rate': 0.17715945594209373, 'l2_leaf_reg': 1.7069238376363318, 'subsample': 0.914034216950748, 'colsample_bylevel': 0.9051818682714352, 'bagging_temperature': 0.07522361109155373, 'border_count': 117, 'random_strength': 2.2061531443831948}. Best is trial 23 with value: 0.17996551855310178.\n",
      "[I 2024-07-24 00:37:15,103] Trial 45 finished with value: 0.11597376200713834 and parameters: {'depth': 8, 'learning_rate': 0.19393121130213928, 'l2_leaf_reg': 2.3962492365728423, 'subsample': 0.8372193356387467, 'colsample_bylevel': 0.44387957859907545, 'bagging_temperature': 0.5628081064129149, 'border_count': 157, 'random_strength': 1.4171188559939207}. Best is trial 23 with value: 0.17996551855310178.\n",
      "[I 2024-07-24 00:37:16,298] Trial 46 finished with value: 0.11584445094727973 and parameters: {'depth': 6, 'learning_rate': 0.21641208055749764, 'l2_leaf_reg': 0.6572559568909032, 'subsample': 0.9282966731954296, 'colsample_bylevel': 0.4911201036195415, 'bagging_temperature': 0.031216940032921747, 'border_count': 138, 'random_strength': 0.6675698289246348}. Best is trial 23 with value: 0.17996551855310178.\n",
      "[I 2024-07-24 00:37:18,966] Trial 47 finished with value: 0.14887610398080459 and parameters: {'depth': 7, 'learning_rate': 0.24553441043732852, 'l2_leaf_reg': 6.177411290265457, 'subsample': 0.9638482710246166, 'colsample_bylevel': 0.9900748319550067, 'bagging_temperature': 0.47590982149856154, 'border_count': 248, 'random_strength': 1.7111620805375172}. Best is trial 23 with value: 0.17996551855310178.\n",
      "[I 2024-07-24 00:37:23,833] Trial 48 finished with value: 0.144234068048821 and parameters: {'depth': 8, 'learning_rate': 0.09374050667131587, 'l2_leaf_reg': 1.1169196426892005, 'subsample': 0.30476632188836994, 'colsample_bylevel': 0.6566552611806166, 'bagging_temperature': 0.15904291004204724, 'border_count': 229, 'random_strength': 1.1261601077336292}. Best is trial 23 with value: 0.17996551855310178.\n",
      "[I 2024-07-24 00:37:25,577] Trial 49 finished with value: 0.04822312066671185 and parameters: {'depth': 7, 'learning_rate': 0.12931072839159885, 'l2_leaf_reg': 8.5297322630001, 'subsample': 0.8837739978055059, 'colsample_bylevel': 0.37119627860250637, 'bagging_temperature': 0.9816492944833715, 'border_count': 81, 'random_strength': 0.42019009269814467}. Best is trial 23 with value: 0.17996551855310178.\n",
      "[I 2024-07-24 00:37:27,195] Trial 50 finished with value: 0.11470536835481189 and parameters: {'depth': 5, 'learning_rate': 0.27199846579477666, 'l2_leaf_reg': 6.976019771566089, 'subsample': 0.8340998291931276, 'colsample_bylevel': 0.7429606293479916, 'bagging_temperature': 0.3944069392958244, 'border_count': 191, 'random_strength': 9.544018585741545}. Best is trial 23 with value: 0.17996551855310178.\n",
      "[I 2024-07-24 00:37:32,696] Trial 51 finished with value: 0.03948304836874197 and parameters: {'depth': 7, 'learning_rate': 0.056269044422834404, 'l2_leaf_reg': 1.3657633780802254, 'subsample': 0.6342523328397291, 'colsample_bylevel': 0.8489981311898713, 'bagging_temperature': 0.8061881894427985, 'border_count': 219, 'random_strength': 0.1985873529750793}. Best is trial 23 with value: 0.17996551855310178.\n",
      "[I 2024-07-24 00:37:37,865] Trial 52 finished with value: 0.07875954668093184 and parameters: {'depth': 7, 'learning_rate': 0.04362953801402858, 'l2_leaf_reg': 0.5454243955168419, 'subsample': 0.6188830707184518, 'colsample_bylevel': 0.6977503175163406, 'bagging_temperature': 0.8540517142737541, 'border_count': 246, 'random_strength': 0.5628133809347828}. Best is trial 23 with value: 0.17996551855310178.\n",
      "[I 2024-07-24 00:37:46,253] Trial 53 finished with value: 0.02867309327453329 and parameters: {'depth': 6, 'learning_rate': 0.026874839048805225, 'l2_leaf_reg': 2.39355632749222, 'subsample': 0.5571113997157953, 'colsample_bylevel': 0.9167428527256192, 'bagging_temperature': 0.6419900968549138, 'border_count': 209, 'random_strength': 0.14393664614763738}. Best is trial 23 with value: 0.17996551855310178.\n",
      "[I 2024-07-24 00:37:52,254] Trial 54 finished with value: 0.05642546195660499 and parameters: {'depth': 8, 'learning_rate': 0.08198273165873733, 'l2_leaf_reg': 1.68934064156974, 'subsample': 0.5964501102606864, 'colsample_bylevel': 0.74742204356093, 'bagging_temperature': 0.8286674442104499, 'border_count': 235, 'random_strength': 0.02034990025108796}. Best is trial 23 with value: 0.17996551855310178.\n",
      "[I 2024-07-24 00:37:58,381] Trial 55 finished with value: 0.07571320594596116 and parameters: {'depth': 8, 'learning_rate': 0.07158361535147796, 'l2_leaf_reg': 0.922691879811668, 'subsample': 0.7147051901503724, 'colsample_bylevel': 0.8608142084719296, 'bagging_temperature': 0.7355272332903382, 'border_count': 223, 'random_strength': 1.1486928272062906}. Best is trial 23 with value: 0.17996551855310178.\n",
      "[I 2024-07-24 00:38:01,779] Trial 56 finished with value: 0.022682917210604916 and parameters: {'depth': 7, 'learning_rate': 0.05080074444046504, 'l2_leaf_reg': 0.442977806649931, 'subsample': 0.4376182961420741, 'colsample_bylevel': 0.41359300395095244, 'bagging_temperature': 0.9118625541869371, 'border_count': 150, 'random_strength': 2.519377766257242}. Best is trial 23 with value: 0.17996551855310178.\n",
      "[I 2024-07-24 00:38:07,239] Trial 57 finished with value: 0.053824687474358465 and parameters: {'depth': 9, 'learning_rate': 0.0912073833763087, 'l2_leaf_reg': 3.8785003776257856, 'subsample': 0.9756262010169794, 'colsample_bylevel': 0.33389113100480716, 'bagging_temperature': 0.4908049541342882, 'border_count': 214, 'random_strength': 1.722027278237252}. Best is trial 23 with value: 0.17996551855310178.\n",
      "[I 2024-07-24 00:38:23,150] Trial 58 finished with value: 0.02112195597287959 and parameters: {'depth': 6, 'learning_rate': 0.014666767513673261, 'l2_leaf_reg': 1.264858949221114, 'subsample': 0.6790315202860807, 'colsample_bylevel': 0.7097624436204484, 'bagging_temperature': 0.31358322797512433, 'border_count': 199, 'random_strength': 3.521880004849875}. Best is trial 23 with value: 0.17996551855310178.\n",
      "[I 2024-07-24 00:38:25,925] Trial 59 finished with value: 0.08429689949228306 and parameters: {'depth': 7, 'learning_rate': 0.164463538228874, 'l2_leaf_reg': 1.7391851419133935, 'subsample': 0.5007069332623652, 'colsample_bylevel': 0.623775395193608, 'bagging_temperature': 0.008972454600077395, 'border_count': 240, 'random_strength': 0.5931806837978133}. Best is trial 23 with value: 0.17996551855310178.\n",
      "[I 2024-07-24 00:38:28,273] Trial 60 finished with value: 0.12189694390688853 and parameters: {'depth': 8, 'learning_rate': 0.20442940782031546, 'l2_leaf_reg': 2.251005783079592, 'subsample': 0.7808867661208477, 'colsample_bylevel': 0.5285122705499723, 'bagging_temperature': 0.4604505206267102, 'border_count': 106, 'random_strength': 0.8961287786124021}. Best is trial 23 with value: 0.17996551855310178.\n",
      "[I 2024-07-24 00:38:32,001] Trial 61 finished with value: 0.055434496371950574 and parameters: {'depth': 9, 'learning_rate': 0.10513009516393171, 'l2_leaf_reg': 7.957387756636224, 'subsample': 0.6651018116367108, 'colsample_bylevel': 0.5613550420109044, 'bagging_temperature': 0.15477783524033986, 'border_count': 73, 'random_strength': 2.0033259605394056}. Best is trial 23 with value: 0.17996551855310178.\n",
      "[I 2024-07-24 00:38:36,154] Trial 62 finished with value: 0.14754237733025094 and parameters: {'depth': 9, 'learning_rate': 0.13857441275930094, 'l2_leaf_reg': 8.926488612162789, 'subsample': 0.7285856720850715, 'colsample_bylevel': 0.584352017060742, 'bagging_temperature': 0.216525975476288, 'border_count': 105, 'random_strength': 0.42949583319870976}. Best is trial 23 with value: 0.17996551855310178.\n",
      "[I 2024-07-24 00:38:41,944] Trial 63 finished with value: 0.10357611870819522 and parameters: {'depth': 10, 'learning_rate': 0.11403481374108485, 'l2_leaf_reg': 9.936662041131104, 'subsample': 0.8547227941640438, 'colsample_bylevel': 0.47587999611852744, 'bagging_temperature': 0.11894600185217308, 'border_count': 90, 'random_strength': 1.1419636956404169}. Best is trial 23 with value: 0.17996551855310178.\n",
      "[I 2024-07-24 00:38:45,394] Trial 64 finished with value: 0.08135729175268187 and parameters: {'depth': 8, 'learning_rate': 0.15265033909144263, 'l2_leaf_reg': 5.499820404674731, 'subsample': 0.7997545558412903, 'colsample_bylevel': 0.5494357055061523, 'bagging_temperature': 0.2631652564489449, 'border_count': 126, 'random_strength': 2.749122468520965}. Best is trial 23 with value: 0.17996551855310178.\n",
      "[I 2024-07-24 00:38:52,600] Trial 65 finished with value: 0.09709322301179824 and parameters: {'depth': 9, 'learning_rate': 0.07465902815237249, 'l2_leaf_reg': 0.407382855369126, 'subsample': 0.7665900106639981, 'colsample_bylevel': 0.4501319338319568, 'bagging_temperature': 0.18176380977320972, 'border_count': 232, 'random_strength': 0.8805630699320667}. Best is trial 23 with value: 0.17996551855310178.\n",
      "[I 2024-07-24 00:38:57,291] Trial 66 finished with value: 0.08093038351101191 and parameters: {'depth': 7, 'learning_rate': 0.042507713419249415, 'l2_leaf_reg': 7.11813639109954, 'subsample': 0.9391454699184353, 'colsample_bylevel': 0.5046237812855966, 'bagging_temperature': 0.3593425307006694, 'border_count': 38, 'random_strength': 2.2485888418670497}. Best is trial 23 with value: 0.17996551855310178.\n",
      "[I 2024-07-24 00:39:03,906] Trial 67 finished with value: 0.054617732578266805 and parameters: {'depth': 8, 'learning_rate': 0.12149156932791984, 'l2_leaf_reg': 3.0590843509335475, 'subsample': 0.9893031310823932, 'colsample_bylevel': 0.7899888888810983, 'bagging_temperature': 0.051487286126797, 'border_count': 249, 'random_strength': 1.7426976381338573}. Best is trial 23 with value: 0.17996551855310178.\n",
      "[I 2024-07-24 00:39:07,738] Trial 68 finished with value: 0.13698591043203903 and parameters: {'depth': 9, 'learning_rate': 0.0975102673447018, 'l2_leaf_reg': 0.974966225448405, 'subsample': 0.7419493389883168, 'colsample_bylevel': 0.428597496659355, 'bagging_temperature': 0.4019308239160766, 'border_count': 118, 'random_strength': 1.3475835470622866}. Best is trial 23 with value: 0.17996551855310178.\n",
      "[I 2024-07-24 00:39:11,820] Trial 69 finished with value: 0.12875523393606716 and parameters: {'depth': 7, 'learning_rate': 0.10087601910217056, 'l2_leaf_reg': 4.674007757447847, 'subsample': 0.8662359119988088, 'colsample_bylevel': 0.6299358850708396, 'bagging_temperature': 0.5536146220108656, 'border_count': 243, 'random_strength': 0.013298079902820642}. Best is trial 23 with value: 0.17996551855310178.\n",
      "[I 2024-07-24 00:39:21,552] Trial 70 finished with value: 0.061517295298441875 and parameters: {'depth': 8, 'learning_rate': 0.032375454397344, 'l2_leaf_reg': 2.0405748859015906, 'subsample': 0.9073474393560846, 'colsample_bylevel': 0.6016203128398422, 'bagging_temperature': 0.5162120666361301, 'border_count': 225, 'random_strength': 0.3000217945115892}. Best is trial 23 with value: 0.17996551855310178.\n",
      "[I 2024-07-24 00:39:24,976] Trial 71 finished with value: 0.03835777323467886 and parameters: {'depth': 7, 'learning_rate': 0.23986215423356425, 'l2_leaf_reg': 6.3698587543464775, 'subsample': 0.9678212284997514, 'colsample_bylevel': 0.9753047295311472, 'bagging_temperature': 0.44968893881010824, 'border_count': 250, 'random_strength': 1.8411229714214423}. Best is trial 23 with value: 0.17996551855310178.\n",
      "[I 2024-07-24 00:39:27,623] Trial 72 finished with value: 0.09685667785243472 and parameters: {'depth': 7, 'learning_rate': 0.24560525899501842, 'l2_leaf_reg': 7.275304157131142, 'subsample': 0.9156202758635761, 'colsample_bylevel': 0.9969198415184116, 'bagging_temperature': 0.4735470643648939, 'border_count': 235, 'random_strength': 1.6331810746125583}. Best is trial 23 with value: 0.17996551855310178.\n",
      "[I 2024-07-24 00:39:30,863] Trial 73 finished with value: 0.13028566267952532 and parameters: {'depth': 7, 'learning_rate': 0.289541211601736, 'l2_leaf_reg': 0.33057852147053685, 'subsample': 0.9629848963594039, 'colsample_bylevel': 0.9519076047571112, 'bagging_temperature': 0.3352862512483329, 'border_count': 244, 'random_strength': 0.9747090985519875}. Best is trial 23 with value: 0.17996551855310178.\n",
      "[I 2024-07-24 00:39:32,631] Trial 74 finished with value: 0.04700028388622671 and parameters: {'depth': 6, 'learning_rate': 0.2543193253802778, 'l2_leaf_reg': 6.17989743742795, 'subsample': 0.9524281175909474, 'colsample_bylevel': 0.998960555790706, 'bagging_temperature': 0.6732310977598576, 'border_count': 252, 'random_strength': 0.5670732028151482}. Best is trial 23 with value: 0.17996551855310178.\n",
      "[I 2024-07-24 00:39:35,088] Trial 75 finished with value: 0.07027673766516843 and parameters: {'depth': 7, 'learning_rate': 0.27488851263630065, 'l2_leaf_reg': 7.7595469266150845, 'subsample': 0.9975198491475302, 'colsample_bylevel': 0.9374446897335378, 'bagging_temperature': 0.578921101687439, 'border_count': 217, 'random_strength': 4.386653577502759}. Best is trial 23 with value: 0.17996551855310178.\n",
      "[I 2024-07-24 00:39:37,328] Trial 76 finished with value: 0.10715342544028619 and parameters: {'depth': 8, 'learning_rate': 0.23058710682279016, 'l2_leaf_reg': 1.480587053981679, 'subsample': 0.893914613585968, 'colsample_bylevel': 0.48344244778296136, 'bagging_temperature': 0.3886237728320828, 'border_count': 174, 'random_strength': 3.0767487861815526}. Best is trial 23 with value: 0.17996551855310178.\n",
      "[I 2024-07-24 00:39:50,632] Trial 77 finished with value: 0.09142133761252491 and parameters: {'depth': 8, 'learning_rate': 0.0635108869024098, 'l2_leaf_reg': 5.960026380669806, 'subsample': 0.34141612923264314, 'colsample_bylevel': 0.8904154319020312, 'bagging_temperature': 0.2913751613626969, 'border_count': 237, 'random_strength': 2.355480946895203}. Best is trial 23 with value: 0.17996551855310178.\n",
      "[I 2024-07-24 00:39:56,607] Trial 78 finished with value: 0.08329370800027351 and parameters: {'depth': 10, 'learning_rate': 0.08578568028469422, 'l2_leaf_reg': 0.8565906842453674, 'subsample': 0.9776034109433855, 'colsample_bylevel': 0.3980851577553611, 'bagging_temperature': 0.5086097270647142, 'border_count': 97, 'random_strength': 7.137648125743019}. Best is trial 23 with value: 0.17996551855310178.\n",
      "[I 2024-07-24 00:39:58,982] Trial 79 finished with value: 0.045488082473787314 and parameters: {'depth': 7, 'learning_rate': 0.2637411193000584, 'l2_leaf_reg': 6.631887427668274, 'subsample': 0.866379500450812, 'colsample_bylevel': 0.6738705691873592, 'bagging_temperature': 0.4191436509737213, 'border_count': 52, 'random_strength': 1.36576597939936}. Best is trial 23 with value: 0.17996551855310178.\n",
      "[I 2024-07-24 00:40:07,768] Trial 80 finished with value: 0.08329370800027351 and parameters: {'depth': 6, 'learning_rate': 0.024305730663540026, 'l2_leaf_reg': 0.14338455006137496, 'subsample': 0.8152825215114654, 'colsample_bylevel': 0.5201282177036544, 'bagging_temperature': 0.12532911058831092, 'border_count': 255, 'random_strength': 0.3616127157391489}. Best is trial 23 with value: 0.17996551855310178.\n",
      "[I 2024-07-24 00:40:10,780] Trial 81 finished with value: 0.11494276632935825 and parameters: {'depth': 9, 'learning_rate': 0.1770522728590198, 'l2_leaf_reg': 2.692620317474093, 'subsample': 0.783986130755885, 'colsample_bylevel': 0.30916899775706247, 'bagging_temperature': 0.1779390449842241, 'border_count': 131, 'random_strength': 0.7550500917278954}. Best is trial 23 with value: 0.17996551855310178.\n",
      "[I 2024-07-24 00:40:13,502] Trial 82 finished with value: 0.12129169210262779 and parameters: {'depth': 8, 'learning_rate': 0.2663882895448064, 'l2_leaf_reg': 1.906936753052229, 'subsample': 0.8195766804756964, 'colsample_bylevel': 0.3593260947597839, 'bagging_temperature': 0.23391941684333983, 'border_count': 158, 'random_strength': 1.5424597226432772}. Best is trial 23 with value: 0.17996551855310178.\n",
      "[I 2024-07-24 00:40:16,724] Trial 83 finished with value: 0.18181887037645436 and parameters: {'depth': 9, 'learning_rate': 0.2820091228434796, 'l2_leaf_reg': 1.1411857587435121, 'subsample': 0.8470306252116193, 'colsample_bylevel': 0.31863399418911886, 'bagging_temperature': 0.09690932129155252, 'border_count': 184, 'random_strength': 1.9117744101240937}. Best is trial 83 with value: 0.18181887037645436.\n",
      "[I 2024-07-24 00:40:27,177] Trial 84 finished with value: 0.09685667785243472 and parameters: {'depth': 9, 'learning_rate': 0.05246999289772503, 'l2_leaf_reg': 0.6922992290101857, 'subsample': 0.9239491097302799, 'colsample_bylevel': 0.3845868676473681, 'bagging_temperature': 0.11185710455956735, 'border_count': 202, 'random_strength': 2.750535518115437}. Best is trial 83 with value: 0.18181887037645436.\n",
      "[I 2024-07-24 00:40:32,337] Trial 85 finished with value: 0.2044368915145104 and parameters: {'depth': 10, 'learning_rate': 0.28843530303467335, 'l2_leaf_reg': 1.3294869393007067, 'subsample': 0.9448035231490123, 'colsample_bylevel': 0.3243942651725079, 'bagging_temperature': 0.08255008047842174, 'border_count': 207, 'random_strength': 2.047620470644224}. Best is trial 85 with value: 0.2044368915145104.\n",
      "[I 2024-07-24 00:40:37,009] Trial 86 finished with value: 0.12875523393606716 and parameters: {'depth': 10, 'learning_rate': 0.2841073189205237, 'l2_leaf_reg': 1.149663755603754, 'subsample': 0.9456313554194226, 'colsample_bylevel': 0.34396397172501975, 'bagging_temperature': 0.07246769324027001, 'border_count': 185, 'random_strength': 1.913714449767406}. Best is trial 85 with value: 0.2044368915145104.\n",
      "[I 2024-07-24 00:40:41,802] Trial 87 finished with value: 0.1984162120286562 and parameters: {'depth': 10, 'learning_rate': 0.29488632839271944, 'l2_leaf_reg': 0.918243946748047, 'subsample': 0.843481568650033, 'colsample_bylevel': 0.32103548359635586, 'bagging_temperature': 0.05307148713376114, 'border_count': 207, 'random_strength': 3.4567436479741804}. Best is trial 85 with value: 0.2044368915145104.\n",
      "[I 2024-07-24 00:40:46,330] Trial 88 finished with value: 0.20236275843335122 and parameters: {'depth': 10, 'learning_rate': 0.2999994907018536, 'l2_leaf_reg': 1.350307638490619, 'subsample': 0.8408683496815343, 'colsample_bylevel': 0.3000418078370345, 'bagging_temperature': 0.0019183382882793157, 'border_count': 190, 'random_strength': 3.8097961127759956}. Best is trial 85 with value: 0.2044368915145104.\n",
      "[I 2024-07-24 00:40:51,416] Trial 89 finished with value: 0.11141867472845651 and parameters: {'depth': 10, 'learning_rate': 0.2963465725962009, 'l2_leaf_reg': 1.424171926213709, 'subsample': 0.8407721029380958, 'colsample_bylevel': 0.32293312939728974, 'bagging_temperature': 0.005535582174951467, 'border_count': 193, 'random_strength': 3.836201049876051}. Best is trial 85 with value: 0.2044368915145104.\n",
      "[I 2024-07-24 00:40:56,821] Trial 90 finished with value: 0.15517337718128688 and parameters: {'depth': 10, 'learning_rate': 0.2801822571020438, 'l2_leaf_reg': 0.9510198320570251, 'subsample': 0.8814955630221232, 'colsample_bylevel': 0.30671835209212744, 'bagging_temperature': 0.03668301580027359, 'border_count': 208, 'random_strength': 3.372761979854343}. Best is trial 85 with value: 0.2044368915145104.\n",
      "[I 2024-07-24 00:41:02,198] Trial 91 finished with value: 0.12528749297820396 and parameters: {'depth': 10, 'learning_rate': 0.28278006105525383, 'l2_leaf_reg': 0.8554361150096051, 'subsample': 0.8478733246699396, 'colsample_bylevel': 0.3174385932645077, 'bagging_temperature': 0.04442169338932566, 'border_count': 206, 'random_strength': 4.495168788720394}. Best is trial 85 with value: 0.2044368915145104.\n",
      "[I 2024-07-24 00:41:07,446] Trial 92 finished with value: 0.11194060491805256 and parameters: {'depth': 10, 'learning_rate': 0.28965391987384953, 'l2_leaf_reg': 1.055946100877769, 'subsample': 0.8784485496398426, 'colsample_bylevel': 0.30401490962357824, 'bagging_temperature': 0.08702575760445545, 'border_count': 198, 'random_strength': 3.544032611051583}. Best is trial 85 with value: 0.2044368915145104.\n",
      "[I 2024-07-24 00:41:12,094] Trial 93 finished with value: 0.13028566267952532 and parameters: {'depth': 10, 'learning_rate': 0.27769857357932143, 'l2_leaf_reg': 0.5463851374623593, 'subsample': 0.9052564678448408, 'colsample_bylevel': 0.3438037335480646, 'bagging_temperature': 0.05091666783672152, 'border_count': 178, 'random_strength': 3.408308549148298}. Best is trial 85 with value: 0.2044368915145104.\n",
      "[I 2024-07-24 00:41:18,401] Trial 94 finished with value: 0.2404357027825665 and parameters: {'depth': 10, 'learning_rate': 0.29194055261698393, 'l2_leaf_reg': 1.8630617881608087, 'subsample': 0.8743237888003305, 'colsample_bylevel': 0.38015172084798726, 'bagging_temperature': 0.026187295853690815, 'border_count': 210, 'random_strength': 5.247251731719309}. Best is trial 94 with value: 0.2404357027825665.\n",
      "[I 2024-07-24 00:41:23,766] Trial 95 finished with value: 0.1804673247620745 and parameters: {'depth': 10, 'learning_rate': 0.2988294887297386, 'l2_leaf_reg': 1.4341711065136304, 'subsample': 0.88151121216039, 'colsample_bylevel': 0.33019314188189286, 'bagging_temperature': 0.014328952410115225, 'border_count': 188, 'random_strength': 5.345918499708956}. Best is trial 94 with value: 0.2404357027825665.\n",
      "[I 2024-07-24 00:41:29,057] Trial 96 finished with value: 0.12234743880001459 and parameters: {'depth': 10, 'learning_rate': 0.29962019719897676, 'l2_leaf_reg': 1.78309831480198, 'subsample': 0.8973195806403143, 'colsample_bylevel': 0.38308963117248673, 'bagging_temperature': 0.002511893755307478, 'border_count': 189, 'random_strength': 5.21500076775428}. Best is trial 94 with value: 0.2404357027825665.\n",
      "[I 2024-07-24 00:41:33,739] Trial 97 finished with value: 0.13554182555395428 and parameters: {'depth': 10, 'learning_rate': 0.2944986904148436, 'l2_leaf_reg': 1.4953261707420709, 'subsample': 0.9413617614744064, 'colsample_bylevel': 0.3543065158953118, 'bagging_temperature': 0.06307819640736248, 'border_count': 212, 'random_strength': 5.439260282030402}. Best is trial 94 with value: 0.2404357027825665.\n",
      "[I 2024-07-24 00:41:38,458] Trial 98 finished with value: 0.16719001952069798 and parameters: {'depth': 10, 'learning_rate': 0.28671111431225227, 'l2_leaf_reg': 2.308899796057303, 'subsample': 0.8693911947158048, 'colsample_bylevel': 0.33326930109920294, 'bagging_temperature': 0.0997341055989727, 'border_count': 185, 'random_strength': 5.71614944385955}. Best is trial 94 with value: 0.2404357027825665.\n",
      "[I 2024-07-24 00:41:43,002] Trial 99 finished with value: 0.16149428895800508 and parameters: {'depth': 10, 'learning_rate': 0.2877638771378437, 'l2_leaf_reg': 2.604325988024047, 'subsample': 0.869843696236384, 'colsample_bylevel': 0.32718465854145223, 'bagging_temperature': 0.09737603768713485, 'border_count': 172, 'random_strength': 5.869997232921705}. Best is trial 94 with value: 0.2404357027825665.\n"
     ]
    }
   ],
   "source": [
    "study = optuna.create_study(direction=\"maximize\")\n",
    "study.optimize(objective, n_trials=n_trials)"
   ]
  },
  {
   "cell_type": "code",
   "execution_count": 12,
   "metadata": {},
   "outputs": [
    {
     "data": {
      "application/vnd.plotly.v1+json": {
       "config": {
        "plotlyServerURL": "https://plot.ly"
       },
       "data": [
        {
         "mode": "markers",
         "name": "Objective Value",
         "type": "scatter",
         "x": [
          0,
          1,
          2,
          3,
          4,
          5,
          6,
          7,
          8,
          9,
          10,
          11,
          12,
          13,
          14,
          15,
          16,
          17,
          18,
          19,
          20,
          21,
          22,
          23,
          24,
          25,
          26,
          27,
          28,
          29,
          30,
          31,
          32,
          33,
          34,
          35,
          36,
          37,
          38,
          39,
          40,
          41,
          42,
          43,
          44,
          45,
          46,
          47,
          48,
          49,
          50,
          51,
          52,
          53,
          54,
          55,
          56,
          57,
          58,
          59,
          60,
          61,
          62,
          63,
          64,
          65,
          66,
          67,
          68,
          69,
          70,
          71,
          72,
          73,
          74,
          75,
          76,
          77,
          78,
          79,
          80,
          81,
          82,
          83,
          84,
          85,
          86,
          87,
          88,
          89,
          90,
          91,
          92,
          93,
          94,
          95,
          96,
          97,
          98,
          99
         ],
         "y": [
          0.1234217257281999,
          0.061517295298441875,
          0.046270001547106906,
          0.1481357489562485,
          0.08231411304041365,
          0.04400093448304637,
          0.09510891371003447,
          0.10547087350840069,
          0,
          0.16868229507353058,
          0.17340681267690164,
          0.16010791504345587,
          0.13846109771534854,
          0.10875388603070613,
          0.07289374843826632,
          0.04473215160367638,
          0.13274650341226432,
          0.017846861726273894,
          0.15023416334724246,
          0.15023416334724246,
          0.06706634184249217,
          0.13401211648179354,
          0.03781885065899565,
          0.17996551855310178,
          0.06413644794849603,
          0.09142133761252491,
          0.10132105627337343,
          0.07289374843826632,
          0.09709322301179824,
          0.04760385058392201,
          0.10989411793648263,
          0.14359544945223585,
          0.0924590490036987,
          0.08135729175268187,
          0.15360141844515565,
          0.11700638379224557,
          0.08231411304041365,
          0.09352058871370388,
          0.06761925660047455,
          0.053824687474358465,
          0.06667446995029869,
          0.06784112476061374,
          0.1456945906852358,
          0.05850066683155102,
          0.09048573605261136,
          0.11597376200713834,
          0.11584445094727973,
          0.14887610398080459,
          0.144234068048821,
          0.04822312066671185,
          0.11470536835481189,
          0.03948304836874197,
          0.07875954668093184,
          0.02867309327453329,
          0.05642546195660499,
          0.07571320594596116,
          0.022682917210604916,
          0.053824687474358465,
          0.02112195597287959,
          0.08429689949228306,
          0.12189694390688853,
          0.055434496371950574,
          0.14754237733025094,
          0.10357611870819522,
          0.08135729175268187,
          0.09709322301179824,
          0.08093038351101191,
          0.054617732578266805,
          0.13698591043203903,
          0.12875523393606716,
          0.061517295298441875,
          0.03835777323467886,
          0.09685667785243472,
          0.13028566267952532,
          0.04700028388622671,
          0.07027673766516843,
          0.10715342544028619,
          0.09142133761252491,
          0.08329370800027351,
          0.045488082473787314,
          0.08329370800027351,
          0.11494276632935825,
          0.12129169210262779,
          0.18181887037645436,
          0.09685667785243472,
          0.2044368915145104,
          0.12875523393606716,
          0.1984162120286562,
          0.20236275843335122,
          0.11141867472845651,
          0.15517337718128688,
          0.12528749297820396,
          0.11194060491805256,
          0.13028566267952532,
          0.2404357027825665,
          0.1804673247620745,
          0.12234743880001459,
          0.13554182555395428,
          0.16719001952069798,
          0.16149428895800508
         ]
        },
        {
         "mode": "lines",
         "name": "Best Value",
         "type": "scatter",
         "x": [
          0,
          1,
          2,
          3,
          4,
          5,
          6,
          7,
          8,
          9,
          10,
          11,
          12,
          13,
          14,
          15,
          16,
          17,
          18,
          19,
          20,
          21,
          22,
          23,
          24,
          25,
          26,
          27,
          28,
          29,
          30,
          31,
          32,
          33,
          34,
          35,
          36,
          37,
          38,
          39,
          40,
          41,
          42,
          43,
          44,
          45,
          46,
          47,
          48,
          49,
          50,
          51,
          52,
          53,
          54,
          55,
          56,
          57,
          58,
          59,
          60,
          61,
          62,
          63,
          64,
          65,
          66,
          67,
          68,
          69,
          70,
          71,
          72,
          73,
          74,
          75,
          76,
          77,
          78,
          79,
          80,
          81,
          82,
          83,
          84,
          85,
          86,
          87,
          88,
          89,
          90,
          91,
          92,
          93,
          94,
          95,
          96,
          97,
          98,
          99
         ],
         "y": [
          0.1234217257281999,
          0.1234217257281999,
          0.1234217257281999,
          0.1481357489562485,
          0.1481357489562485,
          0.1481357489562485,
          0.1481357489562485,
          0.1481357489562485,
          0.1481357489562485,
          0.16868229507353058,
          0.17340681267690164,
          0.17340681267690164,
          0.17340681267690164,
          0.17340681267690164,
          0.17340681267690164,
          0.17340681267690164,
          0.17340681267690164,
          0.17340681267690164,
          0.17340681267690164,
          0.17340681267690164,
          0.17340681267690164,
          0.17340681267690164,
          0.17340681267690164,
          0.17996551855310178,
          0.17996551855310178,
          0.17996551855310178,
          0.17996551855310178,
          0.17996551855310178,
          0.17996551855310178,
          0.17996551855310178,
          0.17996551855310178,
          0.17996551855310178,
          0.17996551855310178,
          0.17996551855310178,
          0.17996551855310178,
          0.17996551855310178,
          0.17996551855310178,
          0.17996551855310178,
          0.17996551855310178,
          0.17996551855310178,
          0.17996551855310178,
          0.17996551855310178,
          0.17996551855310178,
          0.17996551855310178,
          0.17996551855310178,
          0.17996551855310178,
          0.17996551855310178,
          0.17996551855310178,
          0.17996551855310178,
          0.17996551855310178,
          0.17996551855310178,
          0.17996551855310178,
          0.17996551855310178,
          0.17996551855310178,
          0.17996551855310178,
          0.17996551855310178,
          0.17996551855310178,
          0.17996551855310178,
          0.17996551855310178,
          0.17996551855310178,
          0.17996551855310178,
          0.17996551855310178,
          0.17996551855310178,
          0.17996551855310178,
          0.17996551855310178,
          0.17996551855310178,
          0.17996551855310178,
          0.17996551855310178,
          0.17996551855310178,
          0.17996551855310178,
          0.17996551855310178,
          0.17996551855310178,
          0.17996551855310178,
          0.17996551855310178,
          0.17996551855310178,
          0.17996551855310178,
          0.17996551855310178,
          0.17996551855310178,
          0.17996551855310178,
          0.17996551855310178,
          0.17996551855310178,
          0.17996551855310178,
          0.17996551855310178,
          0.18181887037645436,
          0.18181887037645436,
          0.2044368915145104,
          0.2044368915145104,
          0.2044368915145104,
          0.2044368915145104,
          0.2044368915145104,
          0.2044368915145104,
          0.2044368915145104,
          0.2044368915145104,
          0.2044368915145104,
          0.2404357027825665,
          0.2404357027825665,
          0.2404357027825665,
          0.2404357027825665,
          0.2404357027825665,
          0.2404357027825665
         ]
        },
        {
         "marker": {
          "color": "#cccccc"
         },
         "mode": "markers",
         "name": "Infeasible Trial",
         "showlegend": false,
         "type": "scatter",
         "x": [],
         "y": []
        }
       ],
       "layout": {
        "template": {
         "data": {
          "bar": [
           {
            "error_x": {
             "color": "#2a3f5f"
            },
            "error_y": {
             "color": "#2a3f5f"
            },
            "marker": {
             "line": {
              "color": "#E5ECF6",
              "width": 0.5
             },
             "pattern": {
              "fillmode": "overlay",
              "size": 10,
              "solidity": 0.2
             }
            },
            "type": "bar"
           }
          ],
          "barpolar": [
           {
            "marker": {
             "line": {
              "color": "#E5ECF6",
              "width": 0.5
             },
             "pattern": {
              "fillmode": "overlay",
              "size": 10,
              "solidity": 0.2
             }
            },
            "type": "barpolar"
           }
          ],
          "carpet": [
           {
            "aaxis": {
             "endlinecolor": "#2a3f5f",
             "gridcolor": "white",
             "linecolor": "white",
             "minorgridcolor": "white",
             "startlinecolor": "#2a3f5f"
            },
            "baxis": {
             "endlinecolor": "#2a3f5f",
             "gridcolor": "white",
             "linecolor": "white",
             "minorgridcolor": "white",
             "startlinecolor": "#2a3f5f"
            },
            "type": "carpet"
           }
          ],
          "choropleth": [
           {
            "colorbar": {
             "outlinewidth": 0,
             "ticks": ""
            },
            "type": "choropleth"
           }
          ],
          "contour": [
           {
            "colorbar": {
             "outlinewidth": 0,
             "ticks": ""
            },
            "colorscale": [
             [
              0,
              "#0d0887"
             ],
             [
              0.1111111111111111,
              "#46039f"
             ],
             [
              0.2222222222222222,
              "#7201a8"
             ],
             [
              0.3333333333333333,
              "#9c179e"
             ],
             [
              0.4444444444444444,
              "#bd3786"
             ],
             [
              0.5555555555555556,
              "#d8576b"
             ],
             [
              0.6666666666666666,
              "#ed7953"
             ],
             [
              0.7777777777777778,
              "#fb9f3a"
             ],
             [
              0.8888888888888888,
              "#fdca26"
             ],
             [
              1,
              "#f0f921"
             ]
            ],
            "type": "contour"
           }
          ],
          "contourcarpet": [
           {
            "colorbar": {
             "outlinewidth": 0,
             "ticks": ""
            },
            "type": "contourcarpet"
           }
          ],
          "heatmap": [
           {
            "colorbar": {
             "outlinewidth": 0,
             "ticks": ""
            },
            "colorscale": [
             [
              0,
              "#0d0887"
             ],
             [
              0.1111111111111111,
              "#46039f"
             ],
             [
              0.2222222222222222,
              "#7201a8"
             ],
             [
              0.3333333333333333,
              "#9c179e"
             ],
             [
              0.4444444444444444,
              "#bd3786"
             ],
             [
              0.5555555555555556,
              "#d8576b"
             ],
             [
              0.6666666666666666,
              "#ed7953"
             ],
             [
              0.7777777777777778,
              "#fb9f3a"
             ],
             [
              0.8888888888888888,
              "#fdca26"
             ],
             [
              1,
              "#f0f921"
             ]
            ],
            "type": "heatmap"
           }
          ],
          "heatmapgl": [
           {
            "colorbar": {
             "outlinewidth": 0,
             "ticks": ""
            },
            "colorscale": [
             [
              0,
              "#0d0887"
             ],
             [
              0.1111111111111111,
              "#46039f"
             ],
             [
              0.2222222222222222,
              "#7201a8"
             ],
             [
              0.3333333333333333,
              "#9c179e"
             ],
             [
              0.4444444444444444,
              "#bd3786"
             ],
             [
              0.5555555555555556,
              "#d8576b"
             ],
             [
              0.6666666666666666,
              "#ed7953"
             ],
             [
              0.7777777777777778,
              "#fb9f3a"
             ],
             [
              0.8888888888888888,
              "#fdca26"
             ],
             [
              1,
              "#f0f921"
             ]
            ],
            "type": "heatmapgl"
           }
          ],
          "histogram": [
           {
            "marker": {
             "pattern": {
              "fillmode": "overlay",
              "size": 10,
              "solidity": 0.2
             }
            },
            "type": "histogram"
           }
          ],
          "histogram2d": [
           {
            "colorbar": {
             "outlinewidth": 0,
             "ticks": ""
            },
            "colorscale": [
             [
              0,
              "#0d0887"
             ],
             [
              0.1111111111111111,
              "#46039f"
             ],
             [
              0.2222222222222222,
              "#7201a8"
             ],
             [
              0.3333333333333333,
              "#9c179e"
             ],
             [
              0.4444444444444444,
              "#bd3786"
             ],
             [
              0.5555555555555556,
              "#d8576b"
             ],
             [
              0.6666666666666666,
              "#ed7953"
             ],
             [
              0.7777777777777778,
              "#fb9f3a"
             ],
             [
              0.8888888888888888,
              "#fdca26"
             ],
             [
              1,
              "#f0f921"
             ]
            ],
            "type": "histogram2d"
           }
          ],
          "histogram2dcontour": [
           {
            "colorbar": {
             "outlinewidth": 0,
             "ticks": ""
            },
            "colorscale": [
             [
              0,
              "#0d0887"
             ],
             [
              0.1111111111111111,
              "#46039f"
             ],
             [
              0.2222222222222222,
              "#7201a8"
             ],
             [
              0.3333333333333333,
              "#9c179e"
             ],
             [
              0.4444444444444444,
              "#bd3786"
             ],
             [
              0.5555555555555556,
              "#d8576b"
             ],
             [
              0.6666666666666666,
              "#ed7953"
             ],
             [
              0.7777777777777778,
              "#fb9f3a"
             ],
             [
              0.8888888888888888,
              "#fdca26"
             ],
             [
              1,
              "#f0f921"
             ]
            ],
            "type": "histogram2dcontour"
           }
          ],
          "mesh3d": [
           {
            "colorbar": {
             "outlinewidth": 0,
             "ticks": ""
            },
            "type": "mesh3d"
           }
          ],
          "parcoords": [
           {
            "line": {
             "colorbar": {
              "outlinewidth": 0,
              "ticks": ""
             }
            },
            "type": "parcoords"
           }
          ],
          "pie": [
           {
            "automargin": true,
            "type": "pie"
           }
          ],
          "scatter": [
           {
            "fillpattern": {
             "fillmode": "overlay",
             "size": 10,
             "solidity": 0.2
            },
            "type": "scatter"
           }
          ],
          "scatter3d": [
           {
            "line": {
             "colorbar": {
              "outlinewidth": 0,
              "ticks": ""
             }
            },
            "marker": {
             "colorbar": {
              "outlinewidth": 0,
              "ticks": ""
             }
            },
            "type": "scatter3d"
           }
          ],
          "scattercarpet": [
           {
            "marker": {
             "colorbar": {
              "outlinewidth": 0,
              "ticks": ""
             }
            },
            "type": "scattercarpet"
           }
          ],
          "scattergeo": [
           {
            "marker": {
             "colorbar": {
              "outlinewidth": 0,
              "ticks": ""
             }
            },
            "type": "scattergeo"
           }
          ],
          "scattergl": [
           {
            "marker": {
             "colorbar": {
              "outlinewidth": 0,
              "ticks": ""
             }
            },
            "type": "scattergl"
           }
          ],
          "scattermapbox": [
           {
            "marker": {
             "colorbar": {
              "outlinewidth": 0,
              "ticks": ""
             }
            },
            "type": "scattermapbox"
           }
          ],
          "scatterpolar": [
           {
            "marker": {
             "colorbar": {
              "outlinewidth": 0,
              "ticks": ""
             }
            },
            "type": "scatterpolar"
           }
          ],
          "scatterpolargl": [
           {
            "marker": {
             "colorbar": {
              "outlinewidth": 0,
              "ticks": ""
             }
            },
            "type": "scatterpolargl"
           }
          ],
          "scatterternary": [
           {
            "marker": {
             "colorbar": {
              "outlinewidth": 0,
              "ticks": ""
             }
            },
            "type": "scatterternary"
           }
          ],
          "surface": [
           {
            "colorbar": {
             "outlinewidth": 0,
             "ticks": ""
            },
            "colorscale": [
             [
              0,
              "#0d0887"
             ],
             [
              0.1111111111111111,
              "#46039f"
             ],
             [
              0.2222222222222222,
              "#7201a8"
             ],
             [
              0.3333333333333333,
              "#9c179e"
             ],
             [
              0.4444444444444444,
              "#bd3786"
             ],
             [
              0.5555555555555556,
              "#d8576b"
             ],
             [
              0.6666666666666666,
              "#ed7953"
             ],
             [
              0.7777777777777778,
              "#fb9f3a"
             ],
             [
              0.8888888888888888,
              "#fdca26"
             ],
             [
              1,
              "#f0f921"
             ]
            ],
            "type": "surface"
           }
          ],
          "table": [
           {
            "cells": {
             "fill": {
              "color": "#EBF0F8"
             },
             "line": {
              "color": "white"
             }
            },
            "header": {
             "fill": {
              "color": "#C8D4E3"
             },
             "line": {
              "color": "white"
             }
            },
            "type": "table"
           }
          ]
         },
         "layout": {
          "annotationdefaults": {
           "arrowcolor": "#2a3f5f",
           "arrowhead": 0,
           "arrowwidth": 1
          },
          "autotypenumbers": "strict",
          "coloraxis": {
           "colorbar": {
            "outlinewidth": 0,
            "ticks": ""
           }
          },
          "colorscale": {
           "diverging": [
            [
             0,
             "#8e0152"
            ],
            [
             0.1,
             "#c51b7d"
            ],
            [
             0.2,
             "#de77ae"
            ],
            [
             0.3,
             "#f1b6da"
            ],
            [
             0.4,
             "#fde0ef"
            ],
            [
             0.5,
             "#f7f7f7"
            ],
            [
             0.6,
             "#e6f5d0"
            ],
            [
             0.7,
             "#b8e186"
            ],
            [
             0.8,
             "#7fbc41"
            ],
            [
             0.9,
             "#4d9221"
            ],
            [
             1,
             "#276419"
            ]
           ],
           "sequential": [
            [
             0,
             "#0d0887"
            ],
            [
             0.1111111111111111,
             "#46039f"
            ],
            [
             0.2222222222222222,
             "#7201a8"
            ],
            [
             0.3333333333333333,
             "#9c179e"
            ],
            [
             0.4444444444444444,
             "#bd3786"
            ],
            [
             0.5555555555555556,
             "#d8576b"
            ],
            [
             0.6666666666666666,
             "#ed7953"
            ],
            [
             0.7777777777777778,
             "#fb9f3a"
            ],
            [
             0.8888888888888888,
             "#fdca26"
            ],
            [
             1,
             "#f0f921"
            ]
           ],
           "sequentialminus": [
            [
             0,
             "#0d0887"
            ],
            [
             0.1111111111111111,
             "#46039f"
            ],
            [
             0.2222222222222222,
             "#7201a8"
            ],
            [
             0.3333333333333333,
             "#9c179e"
            ],
            [
             0.4444444444444444,
             "#bd3786"
            ],
            [
             0.5555555555555556,
             "#d8576b"
            ],
            [
             0.6666666666666666,
             "#ed7953"
            ],
            [
             0.7777777777777778,
             "#fb9f3a"
            ],
            [
             0.8888888888888888,
             "#fdca26"
            ],
            [
             1,
             "#f0f921"
            ]
           ]
          },
          "colorway": [
           "#636efa",
           "#EF553B",
           "#00cc96",
           "#ab63fa",
           "#FFA15A",
           "#19d3f3",
           "#FF6692",
           "#B6E880",
           "#FF97FF",
           "#FECB52"
          ],
          "font": {
           "color": "#2a3f5f"
          },
          "geo": {
           "bgcolor": "white",
           "lakecolor": "white",
           "landcolor": "#E5ECF6",
           "showlakes": true,
           "showland": true,
           "subunitcolor": "white"
          },
          "hoverlabel": {
           "align": "left"
          },
          "hovermode": "closest",
          "mapbox": {
           "style": "light"
          },
          "paper_bgcolor": "white",
          "plot_bgcolor": "#E5ECF6",
          "polar": {
           "angularaxis": {
            "gridcolor": "white",
            "linecolor": "white",
            "ticks": ""
           },
           "bgcolor": "#E5ECF6",
           "radialaxis": {
            "gridcolor": "white",
            "linecolor": "white",
            "ticks": ""
           }
          },
          "scene": {
           "xaxis": {
            "backgroundcolor": "#E5ECF6",
            "gridcolor": "white",
            "gridwidth": 2,
            "linecolor": "white",
            "showbackground": true,
            "ticks": "",
            "zerolinecolor": "white"
           },
           "yaxis": {
            "backgroundcolor": "#E5ECF6",
            "gridcolor": "white",
            "gridwidth": 2,
            "linecolor": "white",
            "showbackground": true,
            "ticks": "",
            "zerolinecolor": "white"
           },
           "zaxis": {
            "backgroundcolor": "#E5ECF6",
            "gridcolor": "white",
            "gridwidth": 2,
            "linecolor": "white",
            "showbackground": true,
            "ticks": "",
            "zerolinecolor": "white"
           }
          },
          "shapedefaults": {
           "line": {
            "color": "#2a3f5f"
           }
          },
          "ternary": {
           "aaxis": {
            "gridcolor": "white",
            "linecolor": "white",
            "ticks": ""
           },
           "baxis": {
            "gridcolor": "white",
            "linecolor": "white",
            "ticks": ""
           },
           "bgcolor": "#E5ECF6",
           "caxis": {
            "gridcolor": "white",
            "linecolor": "white",
            "ticks": ""
           }
          },
          "title": {
           "x": 0.05
          },
          "xaxis": {
           "automargin": true,
           "gridcolor": "white",
           "linecolor": "white",
           "ticks": "",
           "title": {
            "standoff": 15
           },
           "zerolinecolor": "white",
           "zerolinewidth": 2
          },
          "yaxis": {
           "automargin": true,
           "gridcolor": "white",
           "linecolor": "white",
           "ticks": "",
           "title": {
            "standoff": 15
           },
           "zerolinecolor": "white",
           "zerolinewidth": 2
          }
         }
        },
        "title": {
         "text": "Optimization History Plot"
        },
        "xaxis": {
         "title": {
          "text": "Trial"
         }
        },
        "yaxis": {
         "title": {
          "text": "Objective Value"
         }
        }
       }
      }
     },
     "metadata": {},
     "output_type": "display_data"
    }
   ],
   "source": [
    "optuna.visualization.plot_optimization_history(**{\"study\": study})"
   ]
  },
  {
   "cell_type": "markdown",
   "metadata": {},
   "source": [
    "## goal: 3 day 7% gain (low anomaly %)"
   ]
  },
  {
   "cell_type": "code",
   "execution_count": 13,
   "metadata": {},
   "outputs": [
    {
     "name": "stdout",
     "output_type": "stream",
     "text": [
      "(8793, 101) (8793,) (2205, 101) (2205,)\n",
      "(array([0, 1]), array([7689, 1104], dtype=int64))\n",
      "(array([0, 1]), array([2027,  178], dtype=int64))\n"
     ]
    }
   ],
   "source": [
    "X_train, y_train, X_val, y_val = data_prep_for_tuning(ticker_list, normalize=False, obj=[3, 0.07])"
   ]
  },
  {
   "cell_type": "code",
   "execution_count": 14,
   "metadata": {},
   "outputs": [
    {
     "name": "stderr",
     "output_type": "stream",
     "text": [
      "[I 2024-07-24 00:41:44,974] A new study created in memory with name: no-name-04837a7f-483f-4174-8ee5-5f128cf45fa2\n",
      "C:\\Users\\edton\\AppData\\Local\\Temp\\ipykernel_70720\\1369343015.py:6: FutureWarning:\n",
      "\n",
      "suggest_uniform has been deprecated in v3.0.0. This feature will be removed in v6.0.0. See https://github.com/optuna/optuna/releases/tag/v3.0.0. Use suggest_float instead.\n",
      "\n",
      "C:\\Users\\edton\\AppData\\Local\\Temp\\ipykernel_70720\\1369343015.py:9: FutureWarning:\n",
      "\n",
      "suggest_uniform has been deprecated in v3.0.0. This feature will be removed in v6.0.0. See https://github.com/optuna/optuna/releases/tag/v3.0.0. Use suggest_float instead.\n",
      "\n",
      "C:\\Users\\edton\\AppData\\Local\\Temp\\ipykernel_70720\\1369343015.py:11: FutureWarning:\n",
      "\n",
      "suggest_uniform has been deprecated in v3.0.0. This feature will be removed in v6.0.0. See https://github.com/optuna/optuna/releases/tag/v3.0.0. Use suggest_float instead.\n",
      "\n",
      "[I 2024-07-24 00:41:49,741] Trial 0 finished with value: 0.0 and parameters: {'depth': 6, 'learning_rate': 0.0799426751815176, 'l2_leaf_reg': 1.6873451580087753, 'subsample': 0.7367059877574562, 'colsample_bylevel': 0.6690832400676734, 'bagging_temperature': 0.29593221252360147, 'border_count': 146, 'random_strength': 6.950972494226173}. Best is trial 0 with value: 0.0.\n",
      "[I 2024-07-24 00:41:50,789] Trial 1 finished with value: 0.0 and parameters: {'depth': 5, 'learning_rate': 0.2340153363226067, 'l2_leaf_reg': 4.652524941812692, 'subsample': 0.35026593780308796, 'colsample_bylevel': 0.46299446141972267, 'bagging_temperature': 0.9465881053585928, 'border_count': 34, 'random_strength': 3.9057834409306844}. Best is trial 0 with value: 0.0.\n",
      "[I 2024-07-24 00:41:57,377] Trial 2 finished with value: 0.0 and parameters: {'depth': 10, 'learning_rate': 0.2603832603867307, 'l2_leaf_reg': 4.214434195338956, 'subsample': 0.48594168904395113, 'colsample_bylevel': 0.9135124224147706, 'bagging_temperature': 0.6953748606742597, 'border_count': 112, 'random_strength': 6.884195449660013}. Best is trial 0 with value: 0.0.\n",
      "[I 2024-07-24 00:41:58,434] Trial 3 finished with value: 0.0 and parameters: {'depth': 4, 'learning_rate': 0.18286347770950184, 'l2_leaf_reg': 5.58594286256684, 'subsample': 0.6527010173470723, 'colsample_bylevel': 0.9516534486601611, 'bagging_temperature': 0.06544260736233731, 'border_count': 48, 'random_strength': 3.4030033588740896}. Best is trial 0 with value: 0.0.\n",
      "[I 2024-07-24 00:42:14,055] Trial 4 finished with value: 0.0 and parameters: {'depth': 10, 'learning_rate': 0.06901664674414702, 'l2_leaf_reg': 4.955225797736398, 'subsample': 0.9251452098850657, 'colsample_bylevel': 0.8895811324118714, 'bagging_temperature': 0.6406192405769535, 'border_count': 158, 'random_strength': 2.346198148713916}. Best is trial 0 with value: 0.0.\n",
      "[I 2024-07-24 00:42:15,405] Trial 5 finished with value: 0.0 and parameters: {'depth': 4, 'learning_rate': 0.22215775431383647, 'l2_leaf_reg': 0.8660429898831067, 'subsample': 0.9467506237144987, 'colsample_bylevel': 0.5374537366141439, 'bagging_temperature': 0.9127391009469044, 'border_count': 41, 'random_strength': 4.714014515367484}. Best is trial 0 with value: 0.0.\n",
      "[I 2024-07-24 00:42:20,398] Trial 6 finished with value: 0.0 and parameters: {'depth': 6, 'learning_rate': 0.06613174141705615, 'l2_leaf_reg': 0.9278445479848932, 'subsample': 0.3624383858699955, 'colsample_bylevel': 0.4181489818237142, 'bagging_temperature': 0.37832685909289965, 'border_count': 123, 'random_strength': 7.133420658279333}. Best is trial 0 with value: 0.0.\n",
      "[I 2024-07-24 00:42:27,310] Trial 7 finished with value: 0.0 and parameters: {'depth': 4, 'learning_rate': 0.02209001330487046, 'l2_leaf_reg': 4.073402200989626, 'subsample': 0.32005935777950284, 'colsample_bylevel': 0.7184267864325597, 'bagging_temperature': 0.6936041947312379, 'border_count': 107, 'random_strength': 5.35037722008321}. Best is trial 0 with value: 0.0.\n",
      "[I 2024-07-24 00:42:29,366] Trial 8 finished with value: 0.0 and parameters: {'depth': 6, 'learning_rate': 0.15709836984161066, 'l2_leaf_reg': 7.544567659645865, 'subsample': 0.6047758635205417, 'colsample_bylevel': 0.7075749140126322, 'bagging_temperature': 0.6541288823369631, 'border_count': 118, 'random_strength': 8.466735671246967}. Best is trial 0 with value: 0.0.\n",
      "[I 2024-07-24 00:42:47,646] Trial 9 finished with value: 0.0 and parameters: {'depth': 9, 'learning_rate': 0.03960403092722093, 'l2_leaf_reg': 7.105700416079419, 'subsample': 0.7073729869403462, 'colsample_bylevel': 0.9984085103743581, 'bagging_temperature': 0.29689899202747705, 'border_count': 190, 'random_strength': 2.355762332824507}. Best is trial 0 with value: 0.0.\n",
      "[I 2024-07-24 00:42:51,635] Trial 10 finished with value: 0.0 and parameters: {'depth': 8, 'learning_rate': 0.11719127797157747, 'l2_leaf_reg': 9.902854626466523, 'subsample': 0.8135803999416207, 'colsample_bylevel': 0.3115767269755794, 'bagging_temperature': 0.001054164560018167, 'border_count': 240, 'random_strength': 9.653196942832533}. Best is trial 0 with value: 0.0.\n",
      "[I 2024-07-24 00:42:53,004] Trial 11 finished with value: 0.043288731135517705 and parameters: {'depth': 6, 'learning_rate': 0.29968591387857313, 'l2_leaf_reg': 2.425611411843493, 'subsample': 0.5156365946374855, 'colsample_bylevel': 0.5653781062383595, 'bagging_temperature': 0.9866798668900955, 'border_count': 179, 'random_strength': 0.2859663410742215}. Best is trial 11 with value: 0.043288731135517705.\n",
      "[I 2024-07-24 00:42:55,532] Trial 12 finished with value: 0.08083126844132553 and parameters: {'depth': 7, 'learning_rate': 0.28290626803794927, 'l2_leaf_reg': 2.189299562683904, 'subsample': 0.5172490790117827, 'colsample_bylevel': 0.5906168553245682, 'bagging_temperature': 0.23480717141757418, 'border_count': 190, 'random_strength': 0.010417273104372349}. Best is trial 12 with value: 0.08083126844132553.\n",
      "[I 2024-07-24 00:42:58,157] Trial 13 finished with value: 0.043288731135517705 and parameters: {'depth': 7, 'learning_rate': 0.29899377961155266, 'l2_leaf_reg': 2.5464207072980605, 'subsample': 0.5127491241303673, 'colsample_bylevel': 0.5832396999190322, 'bagging_temperature': 0.15815775725258913, 'border_count': 218, 'random_strength': 0.20836251842280246}. Best is trial 12 with value: 0.08083126844132553.\n",
      "[I 2024-07-24 00:43:01,409] Trial 14 finished with value: 0.043288731135517705 and parameters: {'depth': 8, 'learning_rate': 0.29945784194980213, 'l2_leaf_reg': 2.614561554032969, 'subsample': 0.49615389247786684, 'colsample_bylevel': 0.774195162832445, 'bagging_temperature': 0.4969904489924451, 'border_count': 190, 'random_strength': 0.0013451272073379261}. Best is trial 12 with value: 0.08083126844132553.\n",
      "[I 2024-07-24 00:43:03,244] Trial 15 finished with value: 0.02246153197603028 and parameters: {'depth': 7, 'learning_rate': 0.25608540057241574, 'l2_leaf_reg': 2.840268216740656, 'subsample': 0.5733103586193251, 'colsample_bylevel': 0.5713846474762854, 'bagging_temperature': 0.8435186112408355, 'border_count': 183, 'random_strength': 1.4466532524284177}. Best is trial 12 with value: 0.08083126844132553.\n",
      "[I 2024-07-24 00:43:06,125] Trial 16 finished with value: 0.023642628915831694 and parameters: {'depth': 8, 'learning_rate': 0.20049897078521517, 'l2_leaf_reg': 3.31620657332458, 'subsample': 0.4044550133788972, 'colsample_bylevel': 0.4709771746393868, 'bagging_temperature': 0.4963605687323742, 'border_count': 247, 'random_strength': 1.3020171184622256}. Best is trial 12 with value: 0.08083126844132553.\n",
      "[I 2024-07-24 00:43:07,769] Trial 17 finished with value: 0.0 and parameters: {'depth': 5, 'learning_rate': 0.25882512350775516, 'l2_leaf_reg': 0.30560715086265744, 'subsample': 0.4100139511248225, 'colsample_bylevel': 0.8112013914966957, 'bagging_temperature': 0.1706888248610089, 'border_count': 212, 'random_strength': 1.2515583575102562}. Best is trial 12 with value: 0.08083126844132553.\n",
      "[I 2024-07-24 00:43:09,399] Trial 18 finished with value: 0.02246153197603028 and parameters: {'depth': 7, 'learning_rate': 0.27904407250152957, 'l2_leaf_reg': 1.6138833660760463, 'subsample': 0.5606441918625591, 'colsample_bylevel': 0.34882685868825675, 'bagging_temperature': 0.8049723314140428, 'border_count': 167, 'random_strength': 2.621658514603223}. Best is trial 12 with value: 0.08083126844132553.\n",
      "[I 2024-07-24 00:43:11,061] Trial 19 finished with value: 0.02246153197603028 and parameters: {'depth': 5, 'learning_rate': 0.2235409085727324, 'l2_leaf_reg': 6.246292392542147, 'subsample': 0.8086239620876383, 'colsample_bylevel': 0.6129562222030052, 'bagging_temperature': 0.4131651843244496, 'border_count': 209, 'random_strength': 0.8286690887787527}. Best is trial 12 with value: 0.08083126844132553.\n",
      "[I 2024-07-24 00:43:16,569] Trial 20 finished with value: 0.0 and parameters: {'depth': 9, 'learning_rate': 0.12561031634812372, 'l2_leaf_reg': 3.6725234463690626, 'subsample': 0.4421398703889218, 'colsample_bylevel': 0.5412524634813705, 'bagging_temperature': 0.20609724774810326, 'border_count': 138, 'random_strength': 3.213137982823064}. Best is trial 12 with value: 0.08083126844132553.\n",
      "[I 2024-07-24 00:43:18,607] Trial 21 finished with value: 0.04062936478726574 and parameters: {'depth': 7, 'learning_rate': 0.29078857405699937, 'l2_leaf_reg': 2.227293717443736, 'subsample': 0.49630661468425, 'colsample_bylevel': 0.6217449688030887, 'bagging_temperature': 0.15779063014322603, 'border_count': 225, 'random_strength': 0.05498298631529386}. Best is trial 12 with value: 0.08083126844132553.\n",
      "[I 2024-07-24 00:43:20,378] Trial 22 finished with value: 0.019533996663062044 and parameters: {'depth': 7, 'learning_rate': 0.29810756829632057, 'l2_leaf_reg': 1.8747403273448833, 'subsample': 0.5430886216857219, 'colsample_bylevel': 0.4929992672647199, 'bagging_temperature': 0.09467584921475039, 'border_count': 210, 'random_strength': 0.01319566975385994}. Best is trial 12 with value: 0.08083126844132553.\n",
      "[I 2024-07-24 00:43:22,170] Trial 23 finished with value: 0.0 and parameters: {'depth': 6, 'learning_rate': 0.2730876394029113, 'l2_leaf_reg': 3.155808255723999, 'subsample': 0.6333205468924508, 'colsample_bylevel': 0.5921519895110332, 'bagging_temperature': 0.28075106020705737, 'border_count': 172, 'random_strength': 1.8103457412348347}. Best is trial 12 with value: 0.08083126844132553.\n",
      "[I 2024-07-24 00:43:25,560] Trial 24 finished with value: 0.05748694633689627 and parameters: {'depth': 7, 'learning_rate': 0.24294760832051285, 'l2_leaf_reg': 0.3658754402747344, 'subsample': 0.45402123635069064, 'colsample_bylevel': 0.6752894686893514, 'bagging_temperature': 0.4054631493411972, 'border_count': 227, 'random_strength': 0.6220887560120512}. Best is trial 12 with value: 0.08083126844132553.\n",
      "[I 2024-07-24 00:43:29,111] Trial 25 finished with value: 0.07898610247820437 and parameters: {'depth': 8, 'learning_rate': 0.2515312776814876, 'l2_leaf_reg': 0.2018313449913558, 'subsample': 0.4475943782465964, 'colsample_bylevel': 0.6699096113672712, 'bagging_temperature': 0.5768686100020097, 'border_count': 255, 'random_strength': 0.7805180527910844}. Best is trial 12 with value: 0.08083126844132553.\n",
      "[I 2024-07-24 00:43:35,571] Trial 26 finished with value: 0.023642628915831694 and parameters: {'depth': 9, 'learning_rate': 0.19703843604287102, 'l2_leaf_reg': 0.3423688612315699, 'subsample': 0.4440382190622482, 'colsample_bylevel': 0.6802599246505774, 'bagging_temperature': 0.5762018681092176, 'border_count': 253, 'random_strength': 1.8243911816060079}. Best is trial 12 with value: 0.08083126844132553.\n",
      "[I 2024-07-24 00:43:39,135] Trial 27 finished with value: 0.046320614189851395 and parameters: {'depth': 8, 'learning_rate': 0.2391738847770841, 'l2_leaf_reg': 0.11439873480930561, 'subsample': 0.4407128945794745, 'colsample_bylevel': 0.770684814198787, 'bagging_temperature': 0.40104692234235445, 'border_count': 231, 'random_strength': 0.8379361418969857}. Best is trial 12 with value: 0.08083126844132553.\n",
      "[I 2024-07-24 00:43:43,269] Trial 28 finished with value: 0.0 and parameters: {'depth': 8, 'learning_rate': 0.2063614992424982, 'l2_leaf_reg': 1.2186928768813154, 'subsample': 0.31127711074624304, 'colsample_bylevel': 0.756875576806049, 'bagging_temperature': 0.5832945802586823, 'border_count': 254, 'random_strength': 4.611683288425585}. Best is trial 12 with value: 0.08083126844132553.\n",
      "[I 2024-07-24 00:43:48,940] Trial 29 finished with value: 0.044753381612505694 and parameters: {'depth': 9, 'learning_rate': 0.1756899930844924, 'l2_leaf_reg': 1.384775541662877, 'subsample': 0.6816625367385446, 'colsample_bylevel': 0.6533055732791024, 'bagging_temperature': 0.3174564183825138, 'border_count': 199, 'random_strength': 0.7265044858765211}. Best is trial 12 with value: 0.08083126844132553.\n",
      "[I 2024-07-24 00:43:51,150] Trial 30 finished with value: 0.08479290145711131 and parameters: {'depth': 7, 'learning_rate': 0.2512500501763964, 'l2_leaf_reg': 0.689307788570696, 'subsample': 0.3885245806855955, 'colsample_bylevel': 0.8396077240257565, 'bagging_temperature': 0.4714044799401931, 'border_count': 236, 'random_strength': 2.783645859628975}. Best is trial 30 with value: 0.08479290145711131.\n",
      "[I 2024-07-24 00:43:53,275] Trial 31 finished with value: 0.023642628915831694 and parameters: {'depth': 7, 'learning_rate': 0.2443388128547288, 'l2_leaf_reg': 0.7255249615641097, 'subsample': 0.399973218561757, 'colsample_bylevel': 0.8605486466090672, 'bagging_temperature': 0.45605826937085286, 'border_count': 236, 'random_strength': 2.059268666190916}. Best is trial 30 with value: 0.08479290145711131.\n",
      "[I 2024-07-24 00:43:56,737] Trial 32 finished with value: 0.023642628915831694 and parameters: {'depth': 8, 'learning_rate': 0.2751851626597318, 'l2_leaf_reg': 1.5989097000214678, 'subsample': 0.36537216403164513, 'colsample_bylevel': 0.6655043640587514, 'bagging_temperature': 0.5594804212858717, 'border_count': 229, 'random_strength': 2.8489881043244796}. Best is trial 30 with value: 0.08479290145711131.\n",
      "[I 2024-07-24 00:43:58,354] Trial 33 finished with value: 0.023642628915831694 and parameters: {'depth': 6, 'learning_rate': 0.2448992931795232, 'l2_leaf_reg': 0.14978320392445288, 'subsample': 0.46068468989908756, 'colsample_bylevel': 0.8042098616762418, 'bagging_temperature': 0.33577322424807293, 'border_count': 237, 'random_strength': 0.9558858508769323}. Best is trial 30 with value: 0.08479290145711131.\n",
      "[I 2024-07-24 00:43:59,948] Trial 34 finished with value: 0.0 and parameters: {'depth': 7, 'learning_rate': 0.22639538048939936, 'l2_leaf_reg': 0.9586677084568349, 'subsample': 0.3863196191339565, 'colsample_bylevel': 0.709246160139533, 'bagging_temperature': 0.2384720515185067, 'border_count': 85, 'random_strength': 3.7504116200857194}. Best is trial 30 with value: 0.08479290145711131.\n",
      "[I 2024-07-24 00:44:02,021] Trial 35 finished with value: 0.0 and parameters: {'depth': 7, 'learning_rate': 0.26701386229622087, 'l2_leaf_reg': 1.9376327680778704, 'subsample': 0.5910636083553235, 'colsample_bylevel': 0.8527209369211263, 'bagging_temperature': 0.4721203837615155, 'border_count': 200, 'random_strength': 5.538229712255154}. Best is trial 30 with value: 0.08479290145711131.\n",
      "[I 2024-07-24 00:44:06,141] Trial 36 finished with value: 0.02246153197603028 and parameters: {'depth': 8, 'learning_rate': 0.21256645832440496, 'l2_leaf_reg': 0.6788231836103915, 'subsample': 0.46743377546402454, 'colsample_bylevel': 0.9347876982199934, 'bagging_temperature': 0.7466843532086586, 'border_count': 222, 'random_strength': 3.9336555112127103}. Best is trial 30 with value: 0.08479290145711131.\n",
      "[I 2024-07-24 00:44:07,315] Trial 37 finished with value: 0.0 and parameters: {'depth': 5, 'learning_rate': 0.25057697411777113, 'l2_leaf_reg': 1.2313363899141867, 'subsample': 0.325275758633756, 'colsample_bylevel': 0.6354936622422513, 'bagging_temperature': 0.5629839567456456, 'border_count': 255, 'random_strength': 1.760457065162185}. Best is trial 30 with value: 0.08479290145711131.\n",
      "[I 2024-07-24 00:44:08,490] Trial 38 finished with value: 0.0 and parameters: {'depth': 6, 'learning_rate': 0.18175536430307898, 'l2_leaf_reg': 0.6541851404455113, 'subsample': 0.5379255910057698, 'colsample_bylevel': 0.41871098187033656, 'bagging_temperature': 0.3594745577024331, 'border_count': 152, 'random_strength': 0.5775719022159024}. Best is trial 30 with value: 0.08479290145711131.\n",
      "[I 2024-07-24 00:44:11,068] Trial 39 finished with value: 0.04191691027168101 and parameters: {'depth': 10, 'learning_rate': 0.2836736134551766, 'l2_leaf_reg': 4.587218182310492, 'subsample': 0.3600869974735669, 'colsample_bylevel': 0.5016759544687454, 'bagging_temperature': 0.41518646274463045, 'border_count': 65, 'random_strength': 2.9997058945646207}. Best is trial 30 with value: 0.08479290145711131.\n",
      "[I 2024-07-24 00:44:13,994] Trial 40 finished with value: 0.02246153197603028 and parameters: {'depth': 7, 'learning_rate': 0.1644662881927489, 'l2_leaf_reg': 1.9790201797569567, 'subsample': 0.985957923417126, 'colsample_bylevel': 0.7190559723268356, 'bagging_temperature': 0.5307805210852679, 'border_count': 243, 'random_strength': 5.901263293201761}. Best is trial 30 with value: 0.08479290145711131.\n",
      "[I 2024-07-24 00:44:17,191] Trial 41 finished with value: 0.044753381612505694 and parameters: {'depth': 8, 'learning_rate': 0.22934148950189137, 'l2_leaf_reg': 0.21841565954492576, 'subsample': 0.4522566380834853, 'colsample_bylevel': 0.7804722222616778, 'bagging_temperature': 0.4019080362923958, 'border_count': 232, 'random_strength': 0.8784825793320898}. Best is trial 30 with value: 0.08479290145711131.\n",
      "[I 2024-07-24 00:44:20,983] Trial 42 finished with value: 0.02042119915862699 and parameters: {'depth': 8, 'learning_rate': 0.23861296861526077, 'l2_leaf_reg': 1.02885879589261, 'subsample': 0.4315698300434114, 'colsample_bylevel': 0.7471632182015433, 'bagging_temperature': 0.6307652895245621, 'border_count': 202, 'random_strength': 1.3706652483144932}. Best is trial 30 with value: 0.08479290145711131.\n",
      "[I 2024-07-24 00:44:26,932] Trial 43 finished with value: 0.04062936478726574 and parameters: {'depth': 9, 'learning_rate': 0.2562168452444308, 'l2_leaf_reg': 0.15471202772559203, 'subsample': 0.42122135795565574, 'colsample_bylevel': 0.8463358751471427, 'bagging_temperature': 0.2783065563660377, 'border_count': 220, 'random_strength': 2.2275140539326106}. Best is trial 30 with value: 0.08479290145711131.\n",
      "[I 2024-07-24 00:44:31,879] Trial 44 finished with value: 0.021392826704532086 and parameters: {'depth': 8, 'learning_rate': 0.13210135750850455, 'l2_leaf_reg': 8.847032321894252, 'subsample': 0.47839932811644614, 'colsample_bylevel': 0.8889035384738457, 'bagging_temperature': 0.3636155639823684, 'border_count': 242, 'random_strength': 0.5863351426638796}. Best is trial 30 with value: 0.08479290145711131.\n",
      "[I 2024-07-24 00:44:33,865] Trial 45 finished with value: 0.0 and parameters: {'depth': 7, 'learning_rate': 0.21620572941606886, 'l2_leaf_reg': 5.348956432420408, 'subsample': 0.3797214347227455, 'colsample_bylevel': 0.6875124637887243, 'bagging_temperature': 0.42903425909795545, 'border_count': 233, 'random_strength': 1.1553509284990766}. Best is trial 30 with value: 0.08479290145711131.\n",
      "[I 2024-07-24 00:44:35,808] Trial 46 finished with value: 0.11288879311263197 and parameters: {'depth': 6, 'learning_rate': 0.2376521168217056, 'l2_leaf_reg': 0.6643676988478446, 'subsample': 0.3481466594361333, 'colsample_bylevel': 0.7281215528309148, 'bagging_temperature': 0.6117563335829572, 'border_count': 194, 'random_strength': 0.5489991217877046}. Best is trial 46 with value: 0.11288879311263197.\n",
      "[I 2024-07-24 00:44:37,208] Trial 47 finished with value: 0.044753381612505694 and parameters: {'depth': 6, 'learning_rate': 0.2678211856316066, 'l2_leaf_reg': 1.561371556623969, 'subsample': 0.33978000562175686, 'colsample_bylevel': 0.7374421220566195, 'bagging_temperature': 0.6782962564508002, 'border_count': 189, 'random_strength': 0.4726978567335724}. Best is trial 46 with value: 0.11288879311263197.\n",
      "[I 2024-07-24 00:44:38,727] Trial 48 finished with value: 0.0 and parameters: {'depth': 6, 'learning_rate': 0.28642297269042294, 'l2_leaf_reg': 0.8122208361574268, 'subsample': 0.30727713257519235, 'colsample_bylevel': 0.8257537489267337, 'bagging_temperature': 0.6454039938969689, 'border_count': 136, 'random_strength': 7.170955027480642}. Best is trial 46 with value: 0.11288879311263197.\n",
      "[I 2024-07-24 00:44:39,920] Trial 49 finished with value: 0.0 and parameters: {'depth': 4, 'learning_rate': 0.19667733248671526, 'l2_leaf_reg': 2.162039869308636, 'subsample': 0.4990096529048851, 'colsample_bylevel': 0.6467300284614271, 'bagging_temperature': 0.7433374630228162, 'border_count': 157, 'random_strength': 1.6066237895842665}. Best is trial 46 with value: 0.11288879311263197.\n",
      "[I 2024-07-24 00:44:41,908] Trial 50 finished with value: 0.02495483125632942 and parameters: {'depth': 7, 'learning_rate': 0.2610127186322821, 'l2_leaf_reg': 2.7711803511368327, 'subsample': 0.3447795924756823, 'colsample_bylevel': 0.9897057688155546, 'bagging_temperature': 0.5356932768454988, 'border_count': 172, 'random_strength': 2.4733194313842297}. Best is trial 46 with value: 0.11288879311263197.\n",
      "[I 2024-07-24 00:44:44,995] Trial 51 finished with value: 0.06203258413392541 and parameters: {'depth': 8, 'learning_rate': 0.23694942407578662, 'l2_leaf_reg': 0.6158447072183826, 'subsample': 0.4196959792149821, 'colsample_bylevel': 0.7883325400863531, 'bagging_temperature': 0.5215624940345461, 'border_count': 218, 'random_strength': 0.4381695193655979}. Best is trial 46 with value: 0.11288879311263197.\n",
      "[I 2024-07-24 00:44:47,079] Trial 52 finished with value: 0.044753381612505694 and parameters: {'depth': 7, 'learning_rate': 0.23287274439588257, 'l2_leaf_reg': 0.5313067553686917, 'subsample': 0.40335078382756556, 'colsample_bylevel': 0.690016814815091, 'bagging_temperature': 0.6015412669893963, 'border_count': 220, 'random_strength': 0.2973526341316108}. Best is trial 46 with value: 0.11288879311263197.\n",
      "[I 2024-07-24 00:44:48,694] Trial 53 finished with value: 0.0 and parameters: {'depth': 6, 'learning_rate': 0.25574685730760893, 'l2_leaf_reg': 1.0986334967381644, 'subsample': 0.7736695362037782, 'colsample_bylevel': 0.7933341849566887, 'bagging_temperature': 0.46929212108864143, 'border_count': 196, 'random_strength': 1.1651557254156966}. Best is trial 46 with value: 0.11288879311263197.\n",
      "[I 2024-07-24 00:44:52,530] Trial 54 finished with value: 0.04191691027168101 and parameters: {'depth': 8, 'learning_rate': 0.21934271794359653, 'l2_leaf_reg': 1.3033230007726933, 'subsample': 0.5334240638455224, 'colsample_bylevel': 0.8880144045235631, 'bagging_temperature': 0.5274687549368567, 'border_count': 211, 'random_strength': 0.5407251961560311}. Best is trial 46 with value: 0.11288879311263197.\n",
      "[I 2024-07-24 00:44:55,526] Trial 55 finished with value: 0.0 and parameters: {'depth': 7, 'learning_rate': 0.08915255819728157, 'l2_leaf_reg': 0.5150044632392037, 'subsample': 0.37918920288474756, 'colsample_bylevel': 0.7292789029544244, 'bagging_temperature': 0.6239470398956198, 'border_count': 182, 'random_strength': 0.005564545282461086}. Best is trial 46 with value: 0.11288879311263197.\n",
      "[I 2024-07-24 00:45:01,211] Trial 56 finished with value: 0.0 and parameters: {'depth': 9, 'learning_rate': 0.24824805237621575, 'l2_leaf_reg': 1.6998037922089024, 'subsample': 0.6210950321524332, 'colsample_bylevel': 0.5286282128348196, 'bagging_temperature': 0.7358809499679833, 'border_count': 246, 'random_strength': 1.5444847321641535}. Best is trial 46 with value: 0.11288879311263197.\n",
      "[I 2024-07-24 00:45:03,335] Trial 57 finished with value: 0.02246153197603028 and parameters: {'depth': 6, 'learning_rate': 0.26612282774906104, 'l2_leaf_reg': 3.716330604072618, 'subsample': 0.4769884175731955, 'colsample_bylevel': 0.6035031446198524, 'bagging_temperature': 0.49680872026812567, 'border_count': 214, 'random_strength': 2.128187334738211}. Best is trial 46 with value: 0.11288879311263197.\n",
      "[I 2024-07-24 00:45:06,514] Trial 58 finished with value: 0.044753381612505694 and parameters: {'depth': 7, 'learning_rate': 0.27576494188216627, 'l2_leaf_reg': 0.825908805458462, 'subsample': 0.8751393573594033, 'colsample_bylevel': 0.8222115868340759, 'bagging_temperature': 0.09631883373085476, 'border_count': 208, 'random_strength': 0.3979520541989543}. Best is trial 46 with value: 0.11288879311263197.\n",
      "[I 2024-07-24 00:45:11,157] Trial 59 finished with value: 0.06934346794178436 and parameters: {'depth': 8, 'learning_rate': 0.23479006409892683, 'l2_leaf_reg': 2.3739857136099705, 'subsample': 0.42178278469560226, 'colsample_bylevel': 0.7013276518774614, 'bagging_temperature': 0.695760172935361, 'border_count': 223, 'random_strength': 0.944603696512284}. Best is trial 46 with value: 0.11288879311263197.\n",
      "[I 2024-07-24 00:45:14,953] Trial 60 finished with value: 0.02246153197603028 and parameters: {'depth': 8, 'learning_rate': 0.20622351659493765, 'l2_leaf_reg': 6.084034060452674, 'subsample': 0.4163633980970337, 'colsample_bylevel': 0.7632012784237772, 'bagging_temperature': 0.8662346640264774, 'border_count': 191, 'random_strength': 1.018251673967737}. Best is trial 46 with value: 0.11288879311263197.\n",
      "[I 2024-07-24 00:45:17,998] Trial 61 finished with value: 0.048001597032333906 and parameters: {'depth': 8, 'learning_rate': 0.22926942216276935, 'l2_leaf_reg': 3.1330778778005373, 'subsample': 0.5196158958285038, 'colsample_bylevel': 0.6908183997710409, 'bagging_temperature': 0.675390069877849, 'border_count': 227, 'random_strength': 0.3144659991960309}. Best is trial 46 with value: 0.11288879311263197.\n",
      "[I 2024-07-24 00:45:20,771] Trial 62 finished with value: 0.0 and parameters: {'depth': 8, 'learning_rate': 0.23934766775570676, 'l2_leaf_reg': 2.221156450426234, 'subsample': 0.35227794115727484, 'colsample_bylevel': 0.5679019830771201, 'bagging_temperature': 0.6101168863901032, 'border_count': 206, 'random_strength': 1.282744243821263}. Best is trial 46 with value: 0.11288879311263197.\n",
      "[I 2024-07-24 00:45:22,721] Trial 63 finished with value: 0.0 and parameters: {'depth': 7, 'learning_rate': 0.2906321342978952, 'l2_leaf_reg': 0.5729361949831546, 'subsample': 0.3882778576034893, 'colsample_bylevel': 0.6327794820738468, 'bagging_temperature': 0.7084025248029351, 'border_count': 247, 'random_strength': 0.8483711898515972}. Best is trial 46 with value: 0.11288879311263197.\n",
      "[I 2024-07-24 00:45:28,739] Trial 64 finished with value: 0.0 and parameters: {'depth': 9, 'learning_rate': 0.2512192294490802, 'l2_leaf_reg': 1.4353452660592183, 'subsample': 0.4251820017241754, 'colsample_bylevel': 0.6590962389307466, 'bagging_temperature': 0.0230226572683718, 'border_count': 219, 'random_strength': 1.8467362486464414}. Best is trial 46 with value: 0.11288879311263197.\n",
      "[I 2024-07-24 00:45:30,757] Trial 65 finished with value: 0.0 and parameters: {'depth': 5, 'learning_rate': 0.23550264184203326, 'l2_leaf_reg': 4.420847788807983, 'subsample': 0.33075903802208817, 'colsample_bylevel': 0.7141855019657789, 'bagging_temperature': 0.8053697349513373, 'border_count': 239, 'random_strength': 9.277788929096989}. Best is trial 46 with value: 0.11288879311263197.\n",
      "[I 2024-07-24 00:45:33,744] Trial 66 finished with value: 0.0 and parameters: {'depth': 8, 'learning_rate': 0.18774139641405063, 'l2_leaf_reg': 2.4499573281393, 'subsample': 0.4540879699990257, 'colsample_bylevel': 0.6738203198484282, 'bagging_temperature': 0.5178514468586946, 'border_count': 226, 'random_strength': 0.18252047965213036}. Best is trial 46 with value: 0.11288879311263197.\n",
      "[I 2024-07-24 00:45:43,027] Trial 67 finished with value: 0.0 and parameters: {'depth': 7, 'learning_rate': 0.022816402920798257, 'l2_leaf_reg': 0.45820377122499567, 'subsample': 0.5670470200455316, 'colsample_bylevel': 0.6182299408697225, 'bagging_temperature': 0.4512330365661277, 'border_count': 248, 'random_strength': 3.6187187497948785}. Best is trial 46 with value: 0.11288879311263197.\n",
      "[I 2024-07-24 00:45:51,187] Trial 68 finished with value: 0.02246153197603028 and parameters: {'depth': 10, 'learning_rate': 0.21119703001459747, 'l2_leaf_reg': 0.9644055745821105, 'subsample': 0.5136706861375484, 'colsample_bylevel': 0.7438333566707703, 'bagging_temperature': 0.5766900279262366, 'border_count': 176, 'random_strength': 4.2184244296074445}. Best is trial 46 with value: 0.11288879311263197.\n",
      "[I 2024-07-24 00:45:55,491] Trial 69 finished with value: 0.03941856015494206 and parameters: {'depth': 9, 'learning_rate': 0.280511926973531, 'l2_leaf_reg': 1.754376145432318, 'subsample': 0.3663153092551139, 'colsample_bylevel': 0.6978765522019941, 'bagging_temperature': 0.23545166391001218, 'border_count': 164, 'random_strength': 2.759554046290498}. Best is trial 46 with value: 0.11288879311263197.\n",
      "[I 2024-07-24 00:45:59,294] Trial 70 finished with value: 0.06934346794178436 and parameters: {'depth': 8, 'learning_rate': 0.22302660327091658, 'l2_leaf_reg': 3.951449529195514, 'subsample': 0.48844484022449813, 'colsample_bylevel': 0.5897669902741701, 'bagging_temperature': 0.7918288296648942, 'border_count': 215, 'random_strength': 0.7671962437840514}. Best is trial 46 with value: 0.11288879311263197.\n",
      "[I 2024-07-24 00:46:02,757] Trial 71 finished with value: 0.0 and parameters: {'depth': 8, 'learning_rate': 0.22252312388062753, 'l2_leaf_reg': 5.022343307349766, 'subsample': 0.4798271726083978, 'colsample_bylevel': 0.6029620560116414, 'bagging_temperature': 0.8072982331236116, 'border_count': 217, 'random_strength': 0.7746598641929356}. Best is trial 46 with value: 0.11288879311263197.\n",
      "[I 2024-07-24 00:46:05,624] Trial 72 finished with value: 0.0 and parameters: {'depth': 8, 'learning_rate': 0.2439638197446105, 'l2_leaf_reg': 3.9675235244122606, 'subsample': 0.4347936092207904, 'colsample_bylevel': 0.6429225002232479, 'bagging_temperature': 0.9417589443828667, 'border_count': 204, 'random_strength': 1.5181268663157095}. Best is trial 46 with value: 0.11288879311263197.\n",
      "[I 2024-07-24 00:46:07,787] Trial 73 finished with value: 0.021392826704532086 and parameters: {'depth': 7, 'learning_rate': 0.2626598096172336, 'l2_leaf_reg': 3.2979327655208177, 'subsample': 0.4993919032605881, 'colsample_bylevel': 0.548922543285741, 'bagging_temperature': 0.8661668710574545, 'border_count': 193, 'random_strength': 1.093301294115102}. Best is trial 46 with value: 0.11288879311263197.\n",
      "[I 2024-07-24 00:46:12,957] Trial 74 finished with value: 0.06934346794178436 and parameters: {'depth': 8, 'learning_rate': 0.27239639071125005, 'l2_leaf_reg': 2.9594356139501548, 'subsample': 0.3951319205757778, 'colsample_bylevel': 0.7987902305632937, 'bagging_temperature': 0.6582606298810219, 'border_count': 235, 'random_strength': 0.6230425767909362}. Best is trial 46 with value: 0.11288879311263197.\n",
      "[I 2024-07-24 00:46:18,936] Trial 75 finished with value: 0.02042119915862699 and parameters: {'depth': 9, 'learning_rate': 0.2700062611877644, 'l2_leaf_reg': 3.686576028095839, 'subsample': 0.3975547646645567, 'colsample_bylevel': 0.7902317281328639, 'bagging_temperature': 0.6959588289490913, 'border_count': 238, 'random_strength': 0.3436815203683047}. Best is trial 46 with value: 0.11288879311263197.\n",
      "[I 2024-07-24 00:46:23,247] Trial 76 finished with value: 0.09842466954216414 and parameters: {'depth': 8, 'learning_rate': 0.25094624895043505, 'l2_leaf_reg': 3.013691566204923, 'subsample': 0.4104640255216589, 'colsample_bylevel': 0.8150600884837116, 'bagging_temperature': 0.7605542701761284, 'border_count': 249, 'random_strength': 0.6496260203680377}. Best is trial 46 with value: 0.11288879311263197.\n",
      "[I 2024-07-24 00:46:27,386] Trial 77 finished with value: 0.023642628915831694 and parameters: {'depth': 8, 'learning_rate': 0.29436488922852994, 'l2_leaf_reg': 3.037349653689275, 'subsample': 0.3765403375606439, 'colsample_bylevel': 0.9162827660180978, 'bagging_temperature': 0.7666706352330792, 'border_count': 252, 'random_strength': 1.8166008360462533}. Best is trial 46 with value: 0.11288879311263197.\n",
      "[I 2024-07-24 00:46:34,709] Trial 78 finished with value: 0.04980918053129281 and parameters: {'depth': 9, 'learning_rate': 0.2529712382885863, 'l2_leaf_reg': 2.7503422951952614, 'subsample': 0.40360784404143174, 'colsample_bylevel': 0.8726844713615365, 'bagging_temperature': 0.662391772532893, 'border_count': 232, 'random_strength': 0.04407688653591474}. Best is trial 46 with value: 0.11288879311263197.\n",
      "[I 2024-07-24 00:46:38,308] Trial 79 finished with value: 0.06548460607962227 and parameters: {'depth': 8, 'learning_rate': 0.27879028493388747, 'l2_leaf_reg': 3.4982093052968883, 'subsample': 0.3217019000428619, 'colsample_bylevel': 0.8427159589351226, 'bagging_temperature': 0.7730953305772142, 'border_count': 255, 'random_strength': 0.7229972399738894}. Best is trial 46 with value: 0.11288879311263197.\n",
      "[I 2024-07-24 00:46:42,048] Trial 80 finished with value: 0.021392826704532086 and parameters: {'depth': 8, 'learning_rate': 0.28864543466652753, 'l2_leaf_reg': 2.958210964736053, 'subsample': 0.6912690487221272, 'colsample_bylevel': 0.8309052578814764, 'bagging_temperature': 0.7124741760504084, 'border_count': 243, 'random_strength': 1.3275281785868382}. Best is trial 46 with value: 0.11288879311263197.\n",
      "[I 2024-07-24 00:46:45,484] Trial 81 finished with value: 0.021392826704532086 and parameters: {'depth': 8, 'learning_rate': 0.27909121559179945, 'l2_leaf_reg': 4.114199646355782, 'subsample': 0.3018562884008839, 'colsample_bylevel': 0.810059876545444, 'bagging_temperature': 0.8446385049293185, 'border_count': 252, 'random_strength': 0.7801876150783693}. Best is trial 46 with value: 0.11288879311263197.\n",
      "[I 2024-07-24 00:46:49,048] Trial 82 finished with value: 0.021392826704532086 and parameters: {'depth': 8, 'learning_rate': 0.2587016308061838, 'l2_leaf_reg': 3.3984732594544864, 'subsample': 0.3208176036430355, 'colsample_bylevel': 0.8599712056474824, 'bagging_temperature': 0.7710358138437476, 'border_count': 236, 'random_strength': 0.9890289145175932}. Best is trial 46 with value: 0.11288879311263197.\n",
      "[I 2024-07-24 00:46:51,766] Trial 83 finished with value: 0.0 and parameters: {'depth': 8, 'learning_rate': 0.26550866129909645, 'l2_leaf_reg': 3.4529333583117596, 'subsample': 0.3425670548053657, 'colsample_bylevel': 0.5779952764452481, 'bagging_temperature': 0.7740069551786486, 'border_count': 255, 'random_strength': 0.7191153582722636}. Best is trial 46 with value: 0.11288879311263197.\n",
      "[I 2024-07-24 00:46:53,922] Trial 84 finished with value: 0.0 and parameters: {'depth': 8, 'learning_rate': 0.2826977404024194, 'l2_leaf_reg': 2.565257093527986, 'subsample': 0.3665097058985222, 'colsample_bylevel': 0.8403322381259316, 'bagging_temperature': 0.8966332447623429, 'border_count': 103, 'random_strength': 3.3023212792474936}. Best is trial 46 with value: 0.11288879311263197.\n",
      "[I 2024-07-24 00:46:56,588] Trial 85 finished with value: 0.0 and parameters: {'depth': 7, 'learning_rate': 0.2482270162893182, 'l2_leaf_reg': 4.371994158015382, 'subsample': 0.4375535837325047, 'colsample_bylevel': 0.9056714385799932, 'bagging_temperature': 0.8237667769309012, 'border_count': 247, 'random_strength': 2.016236245555721}. Best is trial 46 with value: 0.11288879311263197.\n",
      "[I 2024-07-24 00:47:01,632] Trial 86 finished with value: 0.0673588155185203 and parameters: {'depth': 9, 'learning_rate': 0.2735524056148518, 'l2_leaf_reg': 3.840547441712614, 'subsample': 0.46725405921425395, 'colsample_bylevel': 0.7591272078962882, 'bagging_temperature': 0.7249495983223289, 'border_count': 225, 'random_strength': 0.541288884047642}. Best is trial 46 with value: 0.11288879311263197.\n",
      "[I 2024-07-24 00:47:06,717] Trial 87 finished with value: 0.021392826704532086 and parameters: {'depth': 9, 'learning_rate': 0.2742925238389445, 'l2_leaf_reg': 3.8762825744309533, 'subsample': 0.5946277016466234, 'colsample_bylevel': 0.7566378690657869, 'bagging_temperature': 0.7210187332333982, 'border_count': 224, 'random_strength': 0.2626124925107354}. Best is trial 46 with value: 0.11288879311263197.\n",
      "[I 2024-07-24 00:47:19,150] Trial 88 finished with value: 0.02495483125632942 and parameters: {'depth': 10, 'learning_rate': 0.22628442038815544, 'l2_leaf_reg': 4.818948077433171, 'subsample': 0.5503118021225031, 'colsample_bylevel': 0.7701881695943782, 'bagging_temperature': 0.6027479387965918, 'border_count': 213, 'random_strength': 6.265986277801984}. Best is trial 46 with value: 0.11288879311263197.\n",
      "[I 2024-07-24 00:47:26,009] Trial 89 finished with value: 0.06371187020837538 and parameters: {'depth': 9, 'learning_rate': 0.259453187922983, 'l2_leaf_reg': 2.1443997211801373, 'subsample': 0.45871898761300256, 'colsample_bylevel': 0.714264249349184, 'bagging_temperature': 0.6654052056427953, 'border_count': 230, 'random_strength': 1.5989346450044102}. Best is trial 46 with value: 0.11288879311263197.\n",
      "[I 2024-07-24 00:47:27,750] Trial 90 finished with value: 0.0 and parameters: {'depth': 4, 'learning_rate': 0.2324409461204377, 'l2_leaf_reg': 2.931842035336755, 'subsample': 0.46888094619703335, 'colsample_bylevel': 0.5162268123961861, 'bagging_temperature': 0.6477154320364061, 'border_count': 184, 'random_strength': 1.107938538452897}. Best is trial 46 with value: 0.11288879311263197.\n",
      "[I 2024-07-24 00:47:32,317] Trial 91 finished with value: 0.023642628915831694 and parameters: {'depth': 8, 'learning_rate': 0.2705846249581511, 'l2_leaf_reg': 3.5215785820828716, 'subsample': 0.4141475473323834, 'colsample_bylevel': 0.7959996542974829, 'bagging_temperature': 0.7634732561423125, 'border_count': 240, 'random_strength': 0.5172840898829084}. Best is trial 46 with value: 0.11288879311263197.\n",
      "[I 2024-07-24 00:47:34,739] Trial 92 finished with value: 0.02246153197603028 and parameters: {'depth': 7, 'learning_rate': 0.252692860837469, 'l2_leaf_reg': 4.248091320529785, 'subsample': 0.4886671056622257, 'colsample_bylevel': 0.7294915765548993, 'bagging_temperature': 0.7819726260021596, 'border_count': 233, 'random_strength': 0.7246457888303589}. Best is trial 46 with value: 0.11288879311263197.\n",
      "[I 2024-07-24 00:47:36,957] Trial 93 finished with value: 0.06548460607962227 and parameters: {'depth': 6, 'learning_rate': 0.29828191480277827, 'l2_leaf_reg': 2.392517318659473, 'subsample': 0.3874821254817611, 'colsample_bylevel': 0.8151411712260742, 'bagging_temperature': 0.6981546834011699, 'border_count': 248, 'random_strength': 0.1887740918251547}. Best is trial 46 with value: 0.11288879311263197.\n",
      "[I 2024-07-24 00:47:41,389] Trial 94 finished with value: 0.048001597032333906 and parameters: {'depth': 9, 'learning_rate': 0.275166285308241, 'l2_leaf_reg': 2.6810638153998423, 'subsample': 0.3302556933938093, 'colsample_bylevel': 0.5569292294380894, 'bagging_temperature': 0.7429457849290886, 'border_count': 243, 'random_strength': 0.971180428175195}. Best is trial 46 with value: 0.11288879311263197.\n",
      "[I 2024-07-24 00:47:45,245] Trial 95 finished with value: 0.02246153197603028 and parameters: {'depth': 8, 'learning_rate': 0.24338704214014587, 'l2_leaf_reg': 3.277128555565198, 'subsample': 0.3577848265867313, 'colsample_bylevel': 0.8787651286296437, 'bagging_temperature': 0.6265860939366674, 'border_count': 225, 'random_strength': 1.3425014981768932}. Best is trial 46 with value: 0.11288879311263197.\n",
      "[I 2024-07-24 00:47:48,728] Trial 96 finished with value: 0.021392826704532086 and parameters: {'depth': 8, 'learning_rate': 0.262399807290051, 'l2_leaf_reg': 3.741537788112793, 'subsample': 0.5264670782928308, 'colsample_bylevel': 0.8394261413974826, 'bagging_temperature': 0.5532672578516156, 'border_count': 197, 'random_strength': 0.5754366192605371}. Best is trial 46 with value: 0.11288879311263197.\n",
      "[I 2024-07-24 00:47:50,939] Trial 97 finished with value: 0.0 and parameters: {'depth': 7, 'learning_rate': 0.29239199264565785, 'l2_leaf_reg': 5.236881629347626, 'subsample': 0.3944687882924582, 'colsample_bylevel': 0.7744828763683842, 'bagging_temperature': 0.7215034041765972, 'border_count': 236, 'random_strength': 0.04668957331933399}. Best is trial 46 with value: 0.11288879311263197.\n",
      "[I 2024-07-24 00:47:52,709] Trial 98 finished with value: 0.0 and parameters: {'depth': 5, 'learning_rate': 0.2851039514134205, 'l2_leaf_reg': 1.9635458391237302, 'subsample': 0.4364166231427468, 'colsample_bylevel': 0.8037259967633738, 'bagging_temperature': 0.8302278113186463, 'border_count': 250, 'random_strength': 2.3614425642521635}. Best is trial 46 with value: 0.11288879311263197.\n",
      "[I 2024-07-24 00:47:55,401] Trial 99 finished with value: 0.02042119915862699 and parameters: {'depth': 8, 'learning_rate': 0.26989087984236737, 'l2_leaf_reg': 4.692465685835285, 'subsample': 0.4514779876861607, 'colsample_bylevel': 0.5878530245253228, 'bagging_temperature': 0.7962130989706888, 'border_count': 216, 'random_strength': 0.5095884402647244}. Best is trial 46 with value: 0.11288879311263197.\n"
     ]
    }
   ],
   "source": [
    "study = optuna.create_study(direction=\"maximize\")\n",
    "study.optimize(objective, n_trials=n_trials)"
   ]
  },
  {
   "cell_type": "code",
   "execution_count": 15,
   "metadata": {},
   "outputs": [
    {
     "data": {
      "application/vnd.plotly.v1+json": {
       "config": {
        "plotlyServerURL": "https://plot.ly"
       },
       "data": [
        {
         "mode": "markers",
         "name": "Objective Value",
         "type": "scatter",
         "x": [
          0,
          1,
          2,
          3,
          4,
          5,
          6,
          7,
          8,
          9,
          10,
          11,
          12,
          13,
          14,
          15,
          16,
          17,
          18,
          19,
          20,
          21,
          22,
          23,
          24,
          25,
          26,
          27,
          28,
          29,
          30,
          31,
          32,
          33,
          34,
          35,
          36,
          37,
          38,
          39,
          40,
          41,
          42,
          43,
          44,
          45,
          46,
          47,
          48,
          49,
          50,
          51,
          52,
          53,
          54,
          55,
          56,
          57,
          58,
          59,
          60,
          61,
          62,
          63,
          64,
          65,
          66,
          67,
          68,
          69,
          70,
          71,
          72,
          73,
          74,
          75,
          76,
          77,
          78,
          79,
          80,
          81,
          82,
          83,
          84,
          85,
          86,
          87,
          88,
          89,
          90,
          91,
          92,
          93,
          94,
          95,
          96,
          97,
          98,
          99
         ],
         "y": [
          0,
          0,
          0,
          0,
          0,
          0,
          0,
          0,
          0,
          0,
          0,
          0.043288731135517705,
          0.08083126844132553,
          0.043288731135517705,
          0.043288731135517705,
          0.02246153197603028,
          0.023642628915831694,
          0,
          0.02246153197603028,
          0.02246153197603028,
          0,
          0.04062936478726574,
          0.019533996663062044,
          0,
          0.05748694633689627,
          0.07898610247820437,
          0.023642628915831694,
          0.046320614189851395,
          0,
          0.044753381612505694,
          0.08479290145711131,
          0.023642628915831694,
          0.023642628915831694,
          0.023642628915831694,
          0,
          0,
          0.02246153197603028,
          0,
          0,
          0.04191691027168101,
          0.02246153197603028,
          0.044753381612505694,
          0.02042119915862699,
          0.04062936478726574,
          0.021392826704532086,
          0,
          0.11288879311263197,
          0.044753381612505694,
          0,
          0,
          0.02495483125632942,
          0.06203258413392541,
          0.044753381612505694,
          0,
          0.04191691027168101,
          0,
          0,
          0.02246153197603028,
          0.044753381612505694,
          0.06934346794178436,
          0.02246153197603028,
          0.048001597032333906,
          0,
          0,
          0,
          0,
          0,
          0,
          0.02246153197603028,
          0.03941856015494206,
          0.06934346794178436,
          0,
          0,
          0.021392826704532086,
          0.06934346794178436,
          0.02042119915862699,
          0.09842466954216414,
          0.023642628915831694,
          0.04980918053129281,
          0.06548460607962227,
          0.021392826704532086,
          0.021392826704532086,
          0.021392826704532086,
          0,
          0,
          0,
          0.0673588155185203,
          0.021392826704532086,
          0.02495483125632942,
          0.06371187020837538,
          0,
          0.023642628915831694,
          0.02246153197603028,
          0.06548460607962227,
          0.048001597032333906,
          0.02246153197603028,
          0.021392826704532086,
          0,
          0,
          0.02042119915862699
         ]
        },
        {
         "mode": "lines",
         "name": "Best Value",
         "type": "scatter",
         "x": [
          0,
          1,
          2,
          3,
          4,
          5,
          6,
          7,
          8,
          9,
          10,
          11,
          12,
          13,
          14,
          15,
          16,
          17,
          18,
          19,
          20,
          21,
          22,
          23,
          24,
          25,
          26,
          27,
          28,
          29,
          30,
          31,
          32,
          33,
          34,
          35,
          36,
          37,
          38,
          39,
          40,
          41,
          42,
          43,
          44,
          45,
          46,
          47,
          48,
          49,
          50,
          51,
          52,
          53,
          54,
          55,
          56,
          57,
          58,
          59,
          60,
          61,
          62,
          63,
          64,
          65,
          66,
          67,
          68,
          69,
          70,
          71,
          72,
          73,
          74,
          75,
          76,
          77,
          78,
          79,
          80,
          81,
          82,
          83,
          84,
          85,
          86,
          87,
          88,
          89,
          90,
          91,
          92,
          93,
          94,
          95,
          96,
          97,
          98,
          99
         ],
         "y": [
          0,
          0,
          0,
          0,
          0,
          0,
          0,
          0,
          0,
          0,
          0,
          0.043288731135517705,
          0.08083126844132553,
          0.08083126844132553,
          0.08083126844132553,
          0.08083126844132553,
          0.08083126844132553,
          0.08083126844132553,
          0.08083126844132553,
          0.08083126844132553,
          0.08083126844132553,
          0.08083126844132553,
          0.08083126844132553,
          0.08083126844132553,
          0.08083126844132553,
          0.08083126844132553,
          0.08083126844132553,
          0.08083126844132553,
          0.08083126844132553,
          0.08083126844132553,
          0.08479290145711131,
          0.08479290145711131,
          0.08479290145711131,
          0.08479290145711131,
          0.08479290145711131,
          0.08479290145711131,
          0.08479290145711131,
          0.08479290145711131,
          0.08479290145711131,
          0.08479290145711131,
          0.08479290145711131,
          0.08479290145711131,
          0.08479290145711131,
          0.08479290145711131,
          0.08479290145711131,
          0.08479290145711131,
          0.11288879311263197,
          0.11288879311263197,
          0.11288879311263197,
          0.11288879311263197,
          0.11288879311263197,
          0.11288879311263197,
          0.11288879311263197,
          0.11288879311263197,
          0.11288879311263197,
          0.11288879311263197,
          0.11288879311263197,
          0.11288879311263197,
          0.11288879311263197,
          0.11288879311263197,
          0.11288879311263197,
          0.11288879311263197,
          0.11288879311263197,
          0.11288879311263197,
          0.11288879311263197,
          0.11288879311263197,
          0.11288879311263197,
          0.11288879311263197,
          0.11288879311263197,
          0.11288879311263197,
          0.11288879311263197,
          0.11288879311263197,
          0.11288879311263197,
          0.11288879311263197,
          0.11288879311263197,
          0.11288879311263197,
          0.11288879311263197,
          0.11288879311263197,
          0.11288879311263197,
          0.11288879311263197,
          0.11288879311263197,
          0.11288879311263197,
          0.11288879311263197,
          0.11288879311263197,
          0.11288879311263197,
          0.11288879311263197,
          0.11288879311263197,
          0.11288879311263197,
          0.11288879311263197,
          0.11288879311263197,
          0.11288879311263197,
          0.11288879311263197,
          0.11288879311263197,
          0.11288879311263197,
          0.11288879311263197,
          0.11288879311263197,
          0.11288879311263197,
          0.11288879311263197,
          0.11288879311263197,
          0.11288879311263197
         ]
        },
        {
         "marker": {
          "color": "#cccccc"
         },
         "mode": "markers",
         "name": "Infeasible Trial",
         "showlegend": false,
         "type": "scatter",
         "x": [],
         "y": []
        }
       ],
       "layout": {
        "template": {
         "data": {
          "bar": [
           {
            "error_x": {
             "color": "#2a3f5f"
            },
            "error_y": {
             "color": "#2a3f5f"
            },
            "marker": {
             "line": {
              "color": "#E5ECF6",
              "width": 0.5
             },
             "pattern": {
              "fillmode": "overlay",
              "size": 10,
              "solidity": 0.2
             }
            },
            "type": "bar"
           }
          ],
          "barpolar": [
           {
            "marker": {
             "line": {
              "color": "#E5ECF6",
              "width": 0.5
             },
             "pattern": {
              "fillmode": "overlay",
              "size": 10,
              "solidity": 0.2
             }
            },
            "type": "barpolar"
           }
          ],
          "carpet": [
           {
            "aaxis": {
             "endlinecolor": "#2a3f5f",
             "gridcolor": "white",
             "linecolor": "white",
             "minorgridcolor": "white",
             "startlinecolor": "#2a3f5f"
            },
            "baxis": {
             "endlinecolor": "#2a3f5f",
             "gridcolor": "white",
             "linecolor": "white",
             "minorgridcolor": "white",
             "startlinecolor": "#2a3f5f"
            },
            "type": "carpet"
           }
          ],
          "choropleth": [
           {
            "colorbar": {
             "outlinewidth": 0,
             "ticks": ""
            },
            "type": "choropleth"
           }
          ],
          "contour": [
           {
            "colorbar": {
             "outlinewidth": 0,
             "ticks": ""
            },
            "colorscale": [
             [
              0,
              "#0d0887"
             ],
             [
              0.1111111111111111,
              "#46039f"
             ],
             [
              0.2222222222222222,
              "#7201a8"
             ],
             [
              0.3333333333333333,
              "#9c179e"
             ],
             [
              0.4444444444444444,
              "#bd3786"
             ],
             [
              0.5555555555555556,
              "#d8576b"
             ],
             [
              0.6666666666666666,
              "#ed7953"
             ],
             [
              0.7777777777777778,
              "#fb9f3a"
             ],
             [
              0.8888888888888888,
              "#fdca26"
             ],
             [
              1,
              "#f0f921"
             ]
            ],
            "type": "contour"
           }
          ],
          "contourcarpet": [
           {
            "colorbar": {
             "outlinewidth": 0,
             "ticks": ""
            },
            "type": "contourcarpet"
           }
          ],
          "heatmap": [
           {
            "colorbar": {
             "outlinewidth": 0,
             "ticks": ""
            },
            "colorscale": [
             [
              0,
              "#0d0887"
             ],
             [
              0.1111111111111111,
              "#46039f"
             ],
             [
              0.2222222222222222,
              "#7201a8"
             ],
             [
              0.3333333333333333,
              "#9c179e"
             ],
             [
              0.4444444444444444,
              "#bd3786"
             ],
             [
              0.5555555555555556,
              "#d8576b"
             ],
             [
              0.6666666666666666,
              "#ed7953"
             ],
             [
              0.7777777777777778,
              "#fb9f3a"
             ],
             [
              0.8888888888888888,
              "#fdca26"
             ],
             [
              1,
              "#f0f921"
             ]
            ],
            "type": "heatmap"
           }
          ],
          "heatmapgl": [
           {
            "colorbar": {
             "outlinewidth": 0,
             "ticks": ""
            },
            "colorscale": [
             [
              0,
              "#0d0887"
             ],
             [
              0.1111111111111111,
              "#46039f"
             ],
             [
              0.2222222222222222,
              "#7201a8"
             ],
             [
              0.3333333333333333,
              "#9c179e"
             ],
             [
              0.4444444444444444,
              "#bd3786"
             ],
             [
              0.5555555555555556,
              "#d8576b"
             ],
             [
              0.6666666666666666,
              "#ed7953"
             ],
             [
              0.7777777777777778,
              "#fb9f3a"
             ],
             [
              0.8888888888888888,
              "#fdca26"
             ],
             [
              1,
              "#f0f921"
             ]
            ],
            "type": "heatmapgl"
           }
          ],
          "histogram": [
           {
            "marker": {
             "pattern": {
              "fillmode": "overlay",
              "size": 10,
              "solidity": 0.2
             }
            },
            "type": "histogram"
           }
          ],
          "histogram2d": [
           {
            "colorbar": {
             "outlinewidth": 0,
             "ticks": ""
            },
            "colorscale": [
             [
              0,
              "#0d0887"
             ],
             [
              0.1111111111111111,
              "#46039f"
             ],
             [
              0.2222222222222222,
              "#7201a8"
             ],
             [
              0.3333333333333333,
              "#9c179e"
             ],
             [
              0.4444444444444444,
              "#bd3786"
             ],
             [
              0.5555555555555556,
              "#d8576b"
             ],
             [
              0.6666666666666666,
              "#ed7953"
             ],
             [
              0.7777777777777778,
              "#fb9f3a"
             ],
             [
              0.8888888888888888,
              "#fdca26"
             ],
             [
              1,
              "#f0f921"
             ]
            ],
            "type": "histogram2d"
           }
          ],
          "histogram2dcontour": [
           {
            "colorbar": {
             "outlinewidth": 0,
             "ticks": ""
            },
            "colorscale": [
             [
              0,
              "#0d0887"
             ],
             [
              0.1111111111111111,
              "#46039f"
             ],
             [
              0.2222222222222222,
              "#7201a8"
             ],
             [
              0.3333333333333333,
              "#9c179e"
             ],
             [
              0.4444444444444444,
              "#bd3786"
             ],
             [
              0.5555555555555556,
              "#d8576b"
             ],
             [
              0.6666666666666666,
              "#ed7953"
             ],
             [
              0.7777777777777778,
              "#fb9f3a"
             ],
             [
              0.8888888888888888,
              "#fdca26"
             ],
             [
              1,
              "#f0f921"
             ]
            ],
            "type": "histogram2dcontour"
           }
          ],
          "mesh3d": [
           {
            "colorbar": {
             "outlinewidth": 0,
             "ticks": ""
            },
            "type": "mesh3d"
           }
          ],
          "parcoords": [
           {
            "line": {
             "colorbar": {
              "outlinewidth": 0,
              "ticks": ""
             }
            },
            "type": "parcoords"
           }
          ],
          "pie": [
           {
            "automargin": true,
            "type": "pie"
           }
          ],
          "scatter": [
           {
            "fillpattern": {
             "fillmode": "overlay",
             "size": 10,
             "solidity": 0.2
            },
            "type": "scatter"
           }
          ],
          "scatter3d": [
           {
            "line": {
             "colorbar": {
              "outlinewidth": 0,
              "ticks": ""
             }
            },
            "marker": {
             "colorbar": {
              "outlinewidth": 0,
              "ticks": ""
             }
            },
            "type": "scatter3d"
           }
          ],
          "scattercarpet": [
           {
            "marker": {
             "colorbar": {
              "outlinewidth": 0,
              "ticks": ""
             }
            },
            "type": "scattercarpet"
           }
          ],
          "scattergeo": [
           {
            "marker": {
             "colorbar": {
              "outlinewidth": 0,
              "ticks": ""
             }
            },
            "type": "scattergeo"
           }
          ],
          "scattergl": [
           {
            "marker": {
             "colorbar": {
              "outlinewidth": 0,
              "ticks": ""
             }
            },
            "type": "scattergl"
           }
          ],
          "scattermapbox": [
           {
            "marker": {
             "colorbar": {
              "outlinewidth": 0,
              "ticks": ""
             }
            },
            "type": "scattermapbox"
           }
          ],
          "scatterpolar": [
           {
            "marker": {
             "colorbar": {
              "outlinewidth": 0,
              "ticks": ""
             }
            },
            "type": "scatterpolar"
           }
          ],
          "scatterpolargl": [
           {
            "marker": {
             "colorbar": {
              "outlinewidth": 0,
              "ticks": ""
             }
            },
            "type": "scatterpolargl"
           }
          ],
          "scatterternary": [
           {
            "marker": {
             "colorbar": {
              "outlinewidth": 0,
              "ticks": ""
             }
            },
            "type": "scatterternary"
           }
          ],
          "surface": [
           {
            "colorbar": {
             "outlinewidth": 0,
             "ticks": ""
            },
            "colorscale": [
             [
              0,
              "#0d0887"
             ],
             [
              0.1111111111111111,
              "#46039f"
             ],
             [
              0.2222222222222222,
              "#7201a8"
             ],
             [
              0.3333333333333333,
              "#9c179e"
             ],
             [
              0.4444444444444444,
              "#bd3786"
             ],
             [
              0.5555555555555556,
              "#d8576b"
             ],
             [
              0.6666666666666666,
              "#ed7953"
             ],
             [
              0.7777777777777778,
              "#fb9f3a"
             ],
             [
              0.8888888888888888,
              "#fdca26"
             ],
             [
              1,
              "#f0f921"
             ]
            ],
            "type": "surface"
           }
          ],
          "table": [
           {
            "cells": {
             "fill": {
              "color": "#EBF0F8"
             },
             "line": {
              "color": "white"
             }
            },
            "header": {
             "fill": {
              "color": "#C8D4E3"
             },
             "line": {
              "color": "white"
             }
            },
            "type": "table"
           }
          ]
         },
         "layout": {
          "annotationdefaults": {
           "arrowcolor": "#2a3f5f",
           "arrowhead": 0,
           "arrowwidth": 1
          },
          "autotypenumbers": "strict",
          "coloraxis": {
           "colorbar": {
            "outlinewidth": 0,
            "ticks": ""
           }
          },
          "colorscale": {
           "diverging": [
            [
             0,
             "#8e0152"
            ],
            [
             0.1,
             "#c51b7d"
            ],
            [
             0.2,
             "#de77ae"
            ],
            [
             0.3,
             "#f1b6da"
            ],
            [
             0.4,
             "#fde0ef"
            ],
            [
             0.5,
             "#f7f7f7"
            ],
            [
             0.6,
             "#e6f5d0"
            ],
            [
             0.7,
             "#b8e186"
            ],
            [
             0.8,
             "#7fbc41"
            ],
            [
             0.9,
             "#4d9221"
            ],
            [
             1,
             "#276419"
            ]
           ],
           "sequential": [
            [
             0,
             "#0d0887"
            ],
            [
             0.1111111111111111,
             "#46039f"
            ],
            [
             0.2222222222222222,
             "#7201a8"
            ],
            [
             0.3333333333333333,
             "#9c179e"
            ],
            [
             0.4444444444444444,
             "#bd3786"
            ],
            [
             0.5555555555555556,
             "#d8576b"
            ],
            [
             0.6666666666666666,
             "#ed7953"
            ],
            [
             0.7777777777777778,
             "#fb9f3a"
            ],
            [
             0.8888888888888888,
             "#fdca26"
            ],
            [
             1,
             "#f0f921"
            ]
           ],
           "sequentialminus": [
            [
             0,
             "#0d0887"
            ],
            [
             0.1111111111111111,
             "#46039f"
            ],
            [
             0.2222222222222222,
             "#7201a8"
            ],
            [
             0.3333333333333333,
             "#9c179e"
            ],
            [
             0.4444444444444444,
             "#bd3786"
            ],
            [
             0.5555555555555556,
             "#d8576b"
            ],
            [
             0.6666666666666666,
             "#ed7953"
            ],
            [
             0.7777777777777778,
             "#fb9f3a"
            ],
            [
             0.8888888888888888,
             "#fdca26"
            ],
            [
             1,
             "#f0f921"
            ]
           ]
          },
          "colorway": [
           "#636efa",
           "#EF553B",
           "#00cc96",
           "#ab63fa",
           "#FFA15A",
           "#19d3f3",
           "#FF6692",
           "#B6E880",
           "#FF97FF",
           "#FECB52"
          ],
          "font": {
           "color": "#2a3f5f"
          },
          "geo": {
           "bgcolor": "white",
           "lakecolor": "white",
           "landcolor": "#E5ECF6",
           "showlakes": true,
           "showland": true,
           "subunitcolor": "white"
          },
          "hoverlabel": {
           "align": "left"
          },
          "hovermode": "closest",
          "mapbox": {
           "style": "light"
          },
          "paper_bgcolor": "white",
          "plot_bgcolor": "#E5ECF6",
          "polar": {
           "angularaxis": {
            "gridcolor": "white",
            "linecolor": "white",
            "ticks": ""
           },
           "bgcolor": "#E5ECF6",
           "radialaxis": {
            "gridcolor": "white",
            "linecolor": "white",
            "ticks": ""
           }
          },
          "scene": {
           "xaxis": {
            "backgroundcolor": "#E5ECF6",
            "gridcolor": "white",
            "gridwidth": 2,
            "linecolor": "white",
            "showbackground": true,
            "ticks": "",
            "zerolinecolor": "white"
           },
           "yaxis": {
            "backgroundcolor": "#E5ECF6",
            "gridcolor": "white",
            "gridwidth": 2,
            "linecolor": "white",
            "showbackground": true,
            "ticks": "",
            "zerolinecolor": "white"
           },
           "zaxis": {
            "backgroundcolor": "#E5ECF6",
            "gridcolor": "white",
            "gridwidth": 2,
            "linecolor": "white",
            "showbackground": true,
            "ticks": "",
            "zerolinecolor": "white"
           }
          },
          "shapedefaults": {
           "line": {
            "color": "#2a3f5f"
           }
          },
          "ternary": {
           "aaxis": {
            "gridcolor": "white",
            "linecolor": "white",
            "ticks": ""
           },
           "baxis": {
            "gridcolor": "white",
            "linecolor": "white",
            "ticks": ""
           },
           "bgcolor": "#E5ECF6",
           "caxis": {
            "gridcolor": "white",
            "linecolor": "white",
            "ticks": ""
           }
          },
          "title": {
           "x": 0.05
          },
          "xaxis": {
           "automargin": true,
           "gridcolor": "white",
           "linecolor": "white",
           "ticks": "",
           "title": {
            "standoff": 15
           },
           "zerolinecolor": "white",
           "zerolinewidth": 2
          },
          "yaxis": {
           "automargin": true,
           "gridcolor": "white",
           "linecolor": "white",
           "ticks": "",
           "title": {
            "standoff": 15
           },
           "zerolinecolor": "white",
           "zerolinewidth": 2
          }
         }
        },
        "title": {
         "text": "Optimization History Plot"
        },
        "xaxis": {
         "title": {
          "text": "Trial"
         }
        },
        "yaxis": {
         "title": {
          "text": "Objective Value"
         }
        }
       }
      }
     },
     "metadata": {},
     "output_type": "display_data"
    }
   ],
   "source": [
    "optuna.visualization.plot_optimization_history(**{\"study\": study})"
   ]
  },
  {
   "cell_type": "markdown",
   "metadata": {},
   "source": [
    "# Multi classification w raw data"
   ]
  },
  {
   "cell_type": "markdown",
   "metadata": {},
   "source": [
    "## goal: 5 day 5% gain (high anomaly %)"
   ]
  },
  {
   "cell_type": "code",
   "execution_count": 16,
   "metadata": {},
   "outputs": [
    {
     "name": "stdout",
     "output_type": "stream",
     "text": [
      "(8793, 101) (8793,) (2205, 101) (2205,)\n",
      "(array([0, 1, 2], dtype=int64), array([2332, 3563, 2898], dtype=int64))\n",
      "(array([0, 1, 2], dtype=int64), array([ 437, 1203,  565], dtype=int64))\n"
     ]
    }
   ],
   "source": [
    "X_train, y_train, X_val, y_val = data_prep_for_tuning_multi(ticker_list, normalize=False, obj=[5, 0.05])"
   ]
  },
  {
   "cell_type": "code",
   "execution_count": 20,
   "metadata": {},
   "outputs": [
    {
     "name": "stderr",
     "output_type": "stream",
     "text": [
      "[I 2024-07-24 01:06:02,683] A new study created in memory with name: no-name-cdf21934-fb2d-4e32-aef6-6cfd281e05c0\n",
      "C:\\Users\\edton\\AppData\\Local\\Temp\\ipykernel_70720\\3154881170.py:30: FutureWarning:\n",
      "\n",
      "suggest_uniform has been deprecated in v3.0.0. This feature will be removed in v6.0.0. See https://github.com/optuna/optuna/releases/tag/v3.0.0. Use suggest_float instead.\n",
      "\n",
      "C:\\Users\\edton\\AppData\\Local\\Temp\\ipykernel_70720\\3154881170.py:33: FutureWarning:\n",
      "\n",
      "suggest_uniform has been deprecated in v3.0.0. This feature will be removed in v6.0.0. See https://github.com/optuna/optuna/releases/tag/v3.0.0. Use suggest_float instead.\n",
      "\n",
      "C:\\Users\\edton\\AppData\\Local\\Temp\\ipykernel_70720\\3154881170.py:35: FutureWarning:\n",
      "\n",
      "suggest_uniform has been deprecated in v3.0.0. This feature will be removed in v6.0.0. See https://github.com/optuna/optuna/releases/tag/v3.0.0. Use suggest_float instead.\n",
      "\n",
      "[I 2024-07-24 01:06:07,796] Trial 0 finished with value: 0.3748742970941386 and parameters: {'depth': 7, 'learning_rate': 0.08173884827735055, 'l2_leaf_reg': 8.438926957159211, 'colsample_bylevel': 0.7617875730114663, 'bagging_temperature': 0.6494093326699012, 'border_count': 69, 'random_strength': 9.740466098011598}. Best is trial 0 with value: 0.3748742970941386.\n",
      "[I 2024-07-24 01:06:11,840] Trial 1 finished with value: 0.393761483707985 and parameters: {'depth': 5, 'learning_rate': 0.049651871572017885, 'l2_leaf_reg': 6.0747030886740365, 'colsample_bylevel': 0.3266471585296061, 'bagging_temperature': 0.8698720549868072, 'border_count': 156, 'random_strength': 8.504533608776512}. Best is trial 1 with value: 0.393761483707985.\n",
      "[I 2024-07-24 01:06:16,274] Trial 2 finished with value: 0.36109774620050084 and parameters: {'depth': 7, 'learning_rate': 0.08063223736636853, 'l2_leaf_reg': 5.6080887360435625, 'colsample_bylevel': 0.37346483583606693, 'bagging_temperature': 0.8899920503135219, 'border_count': 76, 'random_strength': 5.469914825524166}. Best is trial 1 with value: 0.393761483707985.\n",
      "[I 2024-07-24 01:06:22,426] Trial 3 finished with value: 0.38368704584190005 and parameters: {'depth': 6, 'learning_rate': 0.07962903032922612, 'l2_leaf_reg': 9.471513189665085, 'colsample_bylevel': 0.44389329585721227, 'bagging_temperature': 0.5723229318455219, 'border_count': 250, 'random_strength': 7.706015405585239}. Best is trial 1 with value: 0.393761483707985.\n",
      "[I 2024-07-24 01:06:24,821] Trial 4 finished with value: 0.3726974124510099 and parameters: {'depth': 5, 'learning_rate': 0.16439669575146384, 'l2_leaf_reg': 6.721430461775231, 'colsample_bylevel': 0.3419131690464048, 'bagging_temperature': 0.024911551408016597, 'border_count': 195, 'random_strength': 6.31252420987871}. Best is trial 1 with value: 0.393761483707985.\n",
      "[I 2024-07-24 01:06:28,493] Trial 5 finished with value: 0.3576057965755698 and parameters: {'depth': 6, 'learning_rate': 0.28191246425150934, 'l2_leaf_reg': 3.5664169082355675, 'colsample_bylevel': 0.7633371947097525, 'bagging_temperature': 0.02789344594814913, 'border_count': 243, 'random_strength': 6.800725916975906}. Best is trial 1 with value: 0.393761483707985.\n",
      "[I 2024-07-24 01:06:40,437] Trial 6 finished with value: 0.3935688167961083 and parameters: {'depth': 10, 'learning_rate': 0.24742456639553467, 'l2_leaf_reg': 0.2980652101326504, 'colsample_bylevel': 0.31329178449370587, 'bagging_temperature': 0.5005355571005504, 'border_count': 254, 'random_strength': 3.8319915384504313}. Best is trial 1 with value: 0.393761483707985.\n",
      "[I 2024-07-24 01:06:41,732] Trial 7 finished with value: 0.3854874482272157 and parameters: {'depth': 5, 'learning_rate': 0.23726830309517313, 'l2_leaf_reg': 7.258938497845888, 'colsample_bylevel': 0.8831612585248936, 'bagging_temperature': 0.16057775783569483, 'border_count': 92, 'random_strength': 0.2186027900166676}. Best is trial 1 with value: 0.393761483707985.\n",
      "[I 2024-07-24 01:06:47,730] Trial 8 finished with value: 0.3791780467144197 and parameters: {'depth': 8, 'learning_rate': 0.09977268746212974, 'l2_leaf_reg': 4.117727370204206, 'colsample_bylevel': 0.892771552183862, 'bagging_temperature': 0.622284759265463, 'border_count': 35, 'random_strength': 9.053893503577928}. Best is trial 1 with value: 0.393761483707985.\n",
      "[I 2024-07-24 01:06:51,921] Trial 9 finished with value: 0.3790123883634163 and parameters: {'depth': 9, 'learning_rate': 0.1839875668100112, 'l2_leaf_reg': 0.9623917672917411, 'colsample_bylevel': 0.7808546131017439, 'bagging_temperature': 0.05284061325781042, 'border_count': 48, 'random_strength': 7.832780686607585}. Best is trial 1 with value: 0.393761483707985.\n",
      "[I 2024-07-24 01:07:01,044] Trial 10 finished with value: 0.3831983155732735 and parameters: {'depth': 4, 'learning_rate': 0.012423325180460201, 'l2_leaf_reg': 2.5291757166618765, 'colsample_bylevel': 0.5662722465093044, 'bagging_temperature': 0.9044530624243723, 'border_count': 140, 'random_strength': 3.378292879701977}. Best is trial 1 with value: 0.393761483707985.\n",
      "[I 2024-07-24 01:07:12,766] Trial 11 finished with value: 0.35244773520246553 and parameters: {'depth': 10, 'learning_rate': 0.21897885388529115, 'l2_leaf_reg': 0.47476409504856854, 'colsample_bylevel': 0.49663801143956965, 'bagging_temperature': 0.3314935748053459, 'border_count': 173, 'random_strength': 2.907444088279332}. Best is trial 1 with value: 0.393761483707985.\n",
      "[I 2024-07-24 01:08:48,839] Trial 12 finished with value: 0.3774634609763185 and parameters: {'depth': 10, 'learning_rate': 0.011852759668762626, 'l2_leaf_reg': 5.482403905328717, 'colsample_bylevel': 0.30172627284765974, 'bagging_temperature': 0.39268766024305374, 'border_count': 133, 'random_strength': 2.993782920191676}. Best is trial 1 with value: 0.393761483707985.\n",
      "[I 2024-07-24 01:08:54,328] Trial 13 finished with value: 0.37090337028953146 and parameters: {'depth': 8, 'learning_rate': 0.277333448698926, 'l2_leaf_reg': 2.4355137465102263, 'colsample_bylevel': 0.5985138498903053, 'bagging_temperature': 0.7566521156101716, 'border_count': 207, 'random_strength': 4.153241769574155}. Best is trial 1 with value: 0.393761483707985.\n",
      "[I 2024-07-24 01:08:55,865] Trial 14 finished with value: 0.3787194136774938 and parameters: {'depth': 4, 'learning_rate': 0.14062413802698703, 'l2_leaf_reg': 6.843047211273584, 'colsample_bylevel': 0.4388581611929865, 'bagging_temperature': 0.987700636381045, 'border_count': 109, 'random_strength': 0.3256969646505903}. Best is trial 1 with value: 0.393761483707985.\n",
      "[I 2024-07-24 01:09:08,238] Trial 15 finished with value: 0.35134827867209184 and parameters: {'depth': 9, 'learning_rate': 0.22600162709161142, 'l2_leaf_reg': 4.396512881705316, 'colsample_bylevel': 0.5127937673002694, 'bagging_temperature': 0.42523086356798434, 'border_count': 215, 'random_strength': 1.9343560940066675}. Best is trial 1 with value: 0.393761483707985.\n",
      "[I 2024-07-24 01:09:11,854] Trial 16 finished with value: 0.38249812497016983 and parameters: {'depth': 6, 'learning_rate': 0.11881443332227046, 'l2_leaf_reg': 1.751093725969741, 'colsample_bylevel': 0.39765096705164926, 'bagging_temperature': 0.7599641578396861, 'border_count': 170, 'random_strength': 4.835946959854422}. Best is trial 1 with value: 0.393761483707985.\n",
      "[I 2024-07-24 01:09:16,163] Trial 17 finished with value: 0.3785575505214173 and parameters: {'depth': 5, 'learning_rate': 0.05342241199978415, 'l2_leaf_reg': 3.2141195168880707, 'colsample_bylevel': 0.9869492760857667, 'bagging_temperature': 0.2032182727923732, 'border_count': 170, 'random_strength': 1.6157793354380887}. Best is trial 1 with value: 0.393761483707985.\n",
      "[I 2024-07-24 01:09:26,429] Trial 18 finished with value: 0.34951288599986474 and parameters: {'depth': 8, 'learning_rate': 0.18911969233901157, 'l2_leaf_reg': 8.020825873762918, 'colsample_bylevel': 0.6613856688936449, 'bagging_temperature': 0.5012067647324816, 'border_count': 227, 'random_strength': 8.390606622430163}. Best is trial 1 with value: 0.393761483707985.\n",
      "[I 2024-07-24 01:09:30,144] Trial 19 finished with value: 0.3948213117646876 and parameters: {'depth': 9, 'learning_rate': 0.25611165076171805, 'l2_leaf_reg': 5.9997970537613075, 'colsample_bylevel': 0.3061419966600996, 'bagging_temperature': 0.775135998708188, 'border_count': 121, 'random_strength': 6.0027391370054834}. Best is trial 19 with value: 0.3948213117646876.\n",
      "[I 2024-07-24 01:09:33,235] Trial 20 finished with value: 0.36739985031611927 and parameters: {'depth': 7, 'learning_rate': 0.29783792309295587, 'l2_leaf_reg': 6.0210390727369045, 'colsample_bylevel': 0.6818201162852364, 'bagging_temperature': 0.7578572145494733, 'border_count': 117, 'random_strength': 6.332067082899739}. Best is trial 19 with value: 0.3948213117646876.\n",
      "[I 2024-07-24 01:09:38,920] Trial 21 finished with value: 0.376904275003102 and parameters: {'depth': 9, 'learning_rate': 0.25716330228568535, 'l2_leaf_reg': 4.937784407860752, 'colsample_bylevel': 0.32197102528573174, 'bagging_temperature': 0.818690950472654, 'border_count': 187, 'random_strength': 4.9891750298360655}. Best is trial 19 with value: 0.3948213117646876.\n",
      "[I 2024-07-24 01:09:53,464] Trial 22 finished with value: 0.3904876858364601 and parameters: {'depth': 10, 'learning_rate': 0.19956429294280134, 'l2_leaf_reg': 6.109210110033258, 'colsample_bylevel': 0.40459693702280897, 'bagging_temperature': 0.9106568123235682, 'border_count': 149, 'random_strength': 7.018348128845923}. Best is trial 19 with value: 0.3948213117646876.\n",
      "[I 2024-07-24 01:09:58,805] Trial 23 finished with value: 0.400622181258839 and parameters: {'depth': 9, 'learning_rate': 0.25142845770771416, 'l2_leaf_reg': 8.090119116706367, 'colsample_bylevel': 0.30753482460878795, 'bagging_temperature': 0.6807639278381894, 'border_count': 114, 'random_strength': 5.75677230772104}. Best is trial 23 with value: 0.400622181258839.\n",
      "[I 2024-07-24 01:10:21,461] Trial 24 finished with value: 0.38466168732219613 and parameters: {'depth': 9, 'learning_rate': 0.045578586650420166, 'l2_leaf_reg': 9.600152797804974, 'colsample_bylevel': 0.46757674100656077, 'bagging_temperature': 0.6822480372556362, 'border_count': 118, 'random_strength': 5.719449608571071}. Best is trial 23 with value: 0.400622181258839.\n",
      "[I 2024-07-24 01:10:24,737] Trial 25 finished with value: 0.37229337324426853 and parameters: {'depth': 8, 'learning_rate': 0.15971981067630736, 'l2_leaf_reg': 8.122061490567583, 'colsample_bylevel': 0.36531930347437824, 'bagging_temperature': 0.9900376641684596, 'border_count': 94, 'random_strength': 9.53709106105525}. Best is trial 23 with value: 0.400622181258839.\n",
      "[I 2024-07-24 01:10:33,607] Trial 26 finished with value: 0.389670920796704 and parameters: {'depth': 9, 'learning_rate': 0.2682500314292206, 'l2_leaf_reg': 7.593634550000655, 'colsample_bylevel': 0.5409731562240184, 'bagging_temperature': 0.8096930141168531, 'border_count': 154, 'random_strength': 8.709274117792337}. Best is trial 23 with value: 0.400622181258839.\n",
      "[I 2024-07-24 01:10:36,871] Trial 27 finished with value: 0.3805111338533975 and parameters: {'depth': 7, 'learning_rate': 0.20661932461578608, 'l2_leaf_reg': 9.103806964300972, 'colsample_bylevel': 0.41380879589177705, 'bagging_temperature': 0.704552651676482, 'border_count': 128, 'random_strength': 7.650388440932035}. Best is trial 23 with value: 0.400622181258839.\n",
      "[I 2024-07-24 01:10:41,201] Trial 28 finished with value: 0.382654116546473 and parameters: {'depth': 8, 'learning_rate': 0.13242105901326465, 'l2_leaf_reg': 8.76653491168694, 'colsample_bylevel': 0.34737977912057516, 'bagging_temperature': 0.5755798243360284, 'border_count': 96, 'random_strength': 4.541795397337758}. Best is trial 23 with value: 0.400622181258839.\n",
      "[I 2024-07-24 01:10:42,346] Trial 29 finished with value: 0.39646381276821563 and parameters: {'depth': 6, 'learning_rate': 0.2942131566531754, 'l2_leaf_reg': 6.563502190347545, 'colsample_bylevel': 0.3032457846771911, 'bagging_temperature': 0.8305289225814901, 'border_count': 64, 'random_strength': 5.736308574213316}. Best is trial 23 with value: 0.400622181258839.\n",
      "[I 2024-07-24 01:10:44,193] Trial 30 finished with value: 0.38839069553902106 and parameters: {'depth': 6, 'learning_rate': 0.2991577234915141, 'l2_leaf_reg': 6.786068225156321, 'colsample_bylevel': 0.5931187272509479, 'bagging_temperature': 0.5969302039620803, 'border_count': 69, 'random_strength': 5.985899231734952}. Best is trial 23 with value: 0.400622181258839.\n",
      "[I 2024-07-24 01:10:45,411] Trial 31 finished with value: 0.3766420846932133 and parameters: {'depth': 5, 'learning_rate': 0.2607061041530623, 'l2_leaf_reg': 6.1913263250600945, 'colsample_bylevel': 0.3007817650559706, 'bagging_temperature': 0.8441945255403678, 'border_count': 54, 'random_strength': 7.089400715878171}. Best is trial 23 with value: 0.400622181258839.\n",
      "[I 2024-07-24 01:10:47,220] Trial 32 finished with value: 0.39266061808435865 and parameters: {'depth': 6, 'learning_rate': 0.23692422047726155, 'l2_leaf_reg': 7.547422273614839, 'colsample_bylevel': 0.3721360421332076, 'bagging_temperature': 0.9289892705661624, 'border_count': 88, 'random_strength': 5.492553046080902}. Best is trial 23 with value: 0.400622181258839.\n",
      "[I 2024-07-24 01:10:48,439] Trial 33 finished with value: 0.3823735233486999 and parameters: {'depth': 5, 'learning_rate': 0.2818729348359093, 'l2_leaf_reg': 4.987616896982581, 'colsample_bylevel': 0.37064948506087414, 'bagging_temperature': 0.7014752469651807, 'border_count': 77, 'random_strength': 9.751023103567867}. Best is trial 23 with value: 0.400622181258839.\n",
      "[I 2024-07-24 01:11:00,230] Trial 34 finished with value: 0.3744333112109145 and parameters: {'depth': 7, 'learning_rate': 0.05983384501957428, 'l2_leaf_reg': 5.718934371227131, 'colsample_bylevel': 0.4434589419468144, 'bagging_temperature': 0.8585014642943345, 'border_count': 159, 'random_strength': 5.394051352784377}. Best is trial 23 with value: 0.400622181258839.\n",
      "[I 2024-07-24 01:11:02,103] Trial 35 finished with value: 0.3676668747694669 and parameters: {'depth': 4, 'learning_rate': 0.17484454505725533, 'l2_leaf_reg': 8.523999703007423, 'colsample_bylevel': 0.34430747318993116, 'bagging_temperature': 0.777501256706727, 'border_count': 107, 'random_strength': 6.461674841792988}. Best is trial 23 with value: 0.400622181258839.\n",
      "[I 2024-07-24 01:11:04,195] Trial 36 finished with value: 0.4000466665021176 and parameters: {'depth': 6, 'learning_rate': 0.24739916992699118, 'l2_leaf_reg': 6.552243164266436, 'colsample_bylevel': 0.3948745081094306, 'bagging_temperature': 0.9392304060218022, 'border_count': 61, 'random_strength': 7.538249851232577}. Best is trial 23 with value: 0.400622181258839.\n",
      "[I 2024-07-24 01:11:06,282] Trial 37 finished with value: 0.39811715323819225 and parameters: {'depth': 6, 'learning_rate': 0.24810983799840933, 'l2_leaf_reg': 6.540036798784119, 'colsample_bylevel': 0.48044884316182934, 'bagging_temperature': 0.9558119390559949, 'border_count': 62, 'random_strength': 7.510444068501384}. Best is trial 23 with value: 0.400622181258839.\n",
      "[I 2024-07-24 01:11:08,601] Trial 38 finished with value: 0.40865456410102124 and parameters: {'depth': 6, 'learning_rate': 0.24126556880559963, 'l2_leaf_reg': 7.000199928679386, 'colsample_bylevel': 0.4745011124952963, 'bagging_temperature': 0.9509493728209526, 'border_count': 60, 'random_strength': 7.6166468312785325}. Best is trial 38 with value: 0.40865456410102124.\n",
      "[I 2024-07-24 01:11:11,110] Trial 39 finished with value: 0.3853517589517928 and parameters: {'depth': 6, 'learning_rate': 0.21916900193628328, 'l2_leaf_reg': 7.296032166664774, 'colsample_bylevel': 0.47301548416200545, 'bagging_temperature': 0.959342659586782, 'border_count': 33, 'random_strength': 7.551074663811172}. Best is trial 38 with value: 0.40865456410102124.\n",
      "[I 2024-07-24 01:11:14,071] Trial 40 finished with value: 0.3803161354031491 and parameters: {'depth': 6, 'learning_rate': 0.23573010049449156, 'l2_leaf_reg': 8.066144118999537, 'colsample_bylevel': 0.5147569996851988, 'bagging_temperature': 0.9494580114305903, 'border_count': 49, 'random_strength': 8.3932818798613}. Best is trial 38 with value: 0.40865456410102124.\n",
      "[I 2024-07-24 01:11:16,914] Trial 41 finished with value: 0.3766147317379491 and parameters: {'depth': 6, 'learning_rate': 0.24501480191021152, 'l2_leaf_reg': 6.7811019905236884, 'colsample_bylevel': 0.4069016286638882, 'bagging_temperature': 0.8683016679958871, 'border_count': 64, 'random_strength': 7.1931379563498865}. Best is trial 38 with value: 0.40865456410102124.\n",
      "[I 2024-07-24 01:11:20,148] Trial 42 finished with value: 0.3573386715702472 and parameters: {'depth': 7, 'learning_rate': 0.2733823555981443, 'l2_leaf_reg': 6.393791869525385, 'colsample_bylevel': 0.7122711709539524, 'bagging_temperature': 0.9031845618913201, 'border_count': 81, 'random_strength': 7.940738076895472}. Best is trial 38 with value: 0.40865456410102124.\n",
      "[I 2024-07-24 01:11:21,873] Trial 43 finished with value: 0.3325531479787639 and parameters: {'depth': 6, 'learning_rate': 0.28974076510933044, 'l2_leaf_reg': 7.1508973960745355, 'colsample_bylevel': 0.4703205091325203, 'bagging_temperature': 0.9813667787402741, 'border_count': 60, 'random_strength': 6.639610064140732}. Best is trial 38 with value: 0.40865456410102124.\n",
      "[I 2024-07-24 01:11:23,428] Trial 44 finished with value: 0.37650194893744693 and parameters: {'depth': 5, 'learning_rate': 0.2057672174712578, 'l2_leaf_reg': 7.731865643852085, 'colsample_bylevel': 0.42866347508051084, 'bagging_temperature': 0.8754764789117119, 'border_count': 43, 'random_strength': 9.017087070273607}. Best is trial 38 with value: 0.40865456410102124.\n",
      "[I 2024-07-24 01:11:24,916] Trial 45 finished with value: 0.3742756905756012 and parameters: {'depth': 6, 'learning_rate': 0.24997572208617116, 'l2_leaf_reg': 5.412596194046922, 'colsample_bylevel': 0.3439076376861705, 'bagging_temperature': 0.8203173634723728, 'border_count': 73, 'random_strength': 8.225959509903843}. Best is trial 38 with value: 0.40865456410102124.\n",
      "[I 2024-07-24 01:11:28,239] Trial 46 finished with value: 0.3906923755237929 and parameters: {'depth': 7, 'learning_rate': 0.22704543519390097, 'l2_leaf_reg': 7.056905134388121, 'colsample_bylevel': 0.6097412282215031, 'bagging_temperature': 0.6500108280553587, 'border_count': 61, 'random_strength': 7.312089139297543}. Best is trial 38 with value: 0.40865456410102124.\n",
      "[I 2024-07-24 01:11:29,359] Trial 47 finished with value: 0.39073935541984267 and parameters: {'depth': 5, 'learning_rate': 0.26746571226998156, 'l2_leaf_reg': 9.059037538531232, 'colsample_bylevel': 0.38649468816304516, 'bagging_temperature': 0.9257072302378222, 'border_count': 41, 'random_strength': 6.704082937588307}. Best is trial 38 with value: 0.40865456410102124.\n",
      "[I 2024-07-24 01:11:31,680] Trial 48 finished with value: 0.3782587581675562 and parameters: {'depth': 7, 'learning_rate': 0.2880065021469969, 'l2_leaf_reg': 4.524427875851394, 'colsample_bylevel': 0.5432233826451776, 'bagging_temperature': 0.7196441423579873, 'border_count': 82, 'random_strength': 4.289050067349612}. Best is trial 38 with value: 0.40865456410102124.\n",
      "[I 2024-07-24 01:11:33,242] Trial 49 finished with value: 0.3854843502986126 and parameters: {'depth': 5, 'learning_rate': 0.21304579633221016, 'l2_leaf_reg': 6.629261043193749, 'colsample_bylevel': 0.3321958609980872, 'bagging_temperature': 0.5319931773592101, 'border_count': 54, 'random_strength': 9.028777244798029}. Best is trial 38 with value: 0.40865456410102124.\n",
      "[I 2024-07-24 01:11:35,244] Trial 50 finished with value: 0.38080676391832763 and parameters: {'depth': 6, 'learning_rate': 0.24824117379395125, 'l2_leaf_reg': 5.463097359440368, 'colsample_bylevel': 0.49068123793027757, 'bagging_temperature': 0.891150981028111, 'border_count': 102, 'random_strength': 7.961722355341941}. Best is trial 38 with value: 0.40865456410102124.\n",
      "[I 2024-07-24 01:11:43,007] Trial 51 finished with value: 0.3919061817203069 and parameters: {'depth': 10, 'learning_rate': 0.26185535896817297, 'l2_leaf_reg': 5.819078150119962, 'colsample_bylevel': 0.32446817219308544, 'bagging_temperature': 0.9976437201749402, 'border_count': 121, 'random_strength': 5.856252736202483}. Best is trial 38 with value: 0.40865456410102124.\n",
      "[I 2024-07-24 01:11:45,068] Trial 52 finished with value: 0.37632061840174336 and parameters: {'depth': 7, 'learning_rate': 0.23074796674772555, 'l2_leaf_reg': 6.4232182077026065, 'colsample_bylevel': 0.3076109465794048, 'bagging_temperature': 0.7929640868196112, 'border_count': 86, 'random_strength': 6.041582003823548}. Best is trial 38 with value: 0.40865456410102124.\n",
      "[I 2024-07-24 01:11:51,417] Trial 53 finished with value: 0.3801857732371494 and parameters: {'depth': 9, 'learning_rate': 0.25314784110307265, 'l2_leaf_reg': 7.359815877653421, 'colsample_bylevel': 0.366152343458174, 'bagging_temperature': 0.8357848726390505, 'border_count': 138, 'random_strength': 5.299607108788716}. Best is trial 38 with value: 0.40865456410102124.\n",
      "[I 2024-07-24 01:11:52,946] Trial 54 finished with value: 0.3753823076491186 and parameters: {'depth': 6, 'learning_rate': 0.2768817984043102, 'l2_leaf_reg': 5.1865401650679805, 'colsample_bylevel': 0.4277284846215794, 'bagging_temperature': 0.7365744843155511, 'border_count': 70, 'random_strength': 6.937635649758204}. Best is trial 38 with value: 0.40865456410102124.\n",
      "[I 2024-07-24 01:11:55,292] Trial 55 finished with value: 0.3681778451986823 and parameters: {'depth': 8, 'learning_rate': 0.19494435616600525, 'l2_leaf_reg': 9.923718732149826, 'colsample_bylevel': 0.39220484443207293, 'bagging_temperature': 0.6510463184150521, 'border_count': 42, 'random_strength': 6.301898176659351}. Best is trial 38 with value: 0.40865456410102124.\n",
      "[I 2024-07-24 01:11:58,012] Trial 56 finished with value: 0.37781522095535686 and parameters: {'depth': 7, 'learning_rate': 0.24243008410185085, 'l2_leaf_reg': 7.853960283806348, 'colsample_bylevel': 0.3450883624790566, 'bagging_temperature': 0.9630332322944373, 'border_count': 110, 'random_strength': 3.6855414685831}. Best is trial 38 with value: 0.40865456410102124.\n",
      "[I 2024-07-24 01:11:59,668] Trial 57 finished with value: 0.39912998187569493 and parameters: {'depth': 6, 'learning_rate': 0.28898570910497684, 'l2_leaf_reg': 8.286164606599593, 'colsample_bylevel': 0.4517998006370215, 'bagging_temperature': 0.9267416422064676, 'border_count': 53, 'random_strength': 5.015318525058558}. Best is trial 38 with value: 0.40865456410102124.\n",
      "[I 2024-07-24 01:12:01,194] Trial 58 finished with value: 0.36118056250901925 and parameters: {'depth': 6, 'learning_rate': 0.29165924841554614, 'l2_leaf_reg': 8.43280144339999, 'colsample_bylevel': 0.4608697545725266, 'bagging_temperature': 0.9433245291264307, 'border_count': 54, 'random_strength': 4.771353458397873}. Best is trial 38 with value: 0.40865456410102124.\n",
      "[I 2024-07-24 01:12:02,542] Trial 59 finished with value: 0.37649045247467394 and parameters: {'depth': 5, 'learning_rate': 0.28372614303899824, 'l2_leaf_reg': 8.232863728802565, 'colsample_bylevel': 0.8433256856157499, 'bagging_temperature': 0.8975946263619432, 'border_count': 61, 'random_strength': 5.1305523035075}. Best is trial 38 with value: 0.40865456410102124.\n",
      "[I 2024-07-24 01:12:03,895] Trial 60 finished with value: 0.3758949076380049 and parameters: {'depth': 6, 'learning_rate': 0.2721455839254693, 'l2_leaf_reg': 8.735594858237477, 'colsample_bylevel': 0.5153339273734131, 'bagging_temperature': 0.8578481368436681, 'border_count': 35, 'random_strength': 7.44292290526102}. Best is trial 38 with value: 0.40865456410102124.\n",
      "[I 2024-07-24 01:12:06,957] Trial 61 finished with value: 0.3766147317379491 and parameters: {'depth': 9, 'learning_rate': 0.2622129068571788, 'l2_leaf_reg': 6.399085040284946, 'colsample_bylevel': 0.30403830809205207, 'bagging_temperature': 0.7923712889040104, 'border_count': 73, 'random_strength': 5.6687190880176495}. Best is trial 38 with value: 0.40865456410102124.\n",
      "[I 2024-07-24 01:12:08,728] Trial 62 finished with value: 0.3913842032862151 and parameters: {'depth': 6, 'learning_rate': 0.29916966541938084, 'l2_leaf_reg': 7.004178875840476, 'colsample_bylevel': 0.42026067954728685, 'bagging_temperature': 0.9254337750291546, 'border_count': 97, 'random_strength': 6.175071047610044}. Best is trial 38 with value: 0.40865456410102124.\n",
      "[I 2024-07-24 01:12:11,418] Trial 63 finished with value: 0.39130236372054555 and parameters: {'depth': 7, 'learning_rate': 0.25934042685388964, 'l2_leaf_reg': 5.848377474681359, 'colsample_bylevel': 0.38336708008948506, 'bagging_temperature': 0.7507337606720994, 'border_count': 128, 'random_strength': 4.614768791460625}. Best is trial 38 with value: 0.40865456410102124.\n",
      "[I 2024-07-24 01:12:13,238] Trial 64 finished with value: 0.381595795166688 and parameters: {'depth': 5, 'learning_rate': 0.22392439065833902, 'l2_leaf_reg': 7.478843342518908, 'colsample_bylevel': 0.5493333237685587, 'bagging_temperature': 0.8403754782155304, 'border_count': 49, 'random_strength': 4.2546424721023}. Best is trial 38 with value: 0.40865456410102124.\n",
      "[I 2024-07-24 01:12:18,612] Trial 65 finished with value: 0.36715608970454605 and parameters: {'depth': 10, 'learning_rate': 0.27833246589298966, 'l2_leaf_reg': 6.581618537479805, 'colsample_bylevel': 0.4429955484323985, 'bagging_temperature': 0.3217878066647933, 'border_count': 66, 'random_strength': 6.771735028951408}. Best is trial 38 with value: 0.40865456410102124.\n",
      "[I 2024-07-24 01:12:20,277] Trial 66 finished with value: 0.39371263417642294 and parameters: {'depth': 6, 'learning_rate': 0.2547164420769596, 'l2_leaf_reg': 4.656042491567375, 'colsample_bylevel': 0.3256939960499377, 'bagging_temperature': 0.9997064509558726, 'border_count': 91, 'random_strength': 8.671913151896682}. Best is trial 38 with value: 0.40865456410102124.\n",
      "[I 2024-07-24 01:12:23,707] Trial 67 finished with value: 0.380699649495679 and parameters: {'depth': 9, 'learning_rate': 0.23995069707294356, 'l2_leaf_reg': 6.117416314037766, 'colsample_bylevel': 0.3642085331473045, 'bagging_temperature': 0.8872827227998437, 'border_count': 76, 'random_strength': 5.036439886687801}. Best is trial 38 with value: 0.40865456410102124.\n",
      "[I 2024-07-24 01:12:25,340] Trial 68 finished with value: 0.36330099624842516 and parameters: {'depth': 6, 'learning_rate': 0.267850604711697, 'l2_leaf_reg': 3.930803967164053, 'colsample_bylevel': 0.45778052837863903, 'bagging_temperature': 0.6697912700873234, 'border_count': 55, 'random_strength': 5.87084341801272}. Best is trial 38 with value: 0.40865456410102124.\n",
      "[I 2024-07-24 01:12:28,290] Trial 69 finished with value: 0.38400424251085313 and parameters: {'depth': 4, 'learning_rate': 0.1738968863687328, 'l2_leaf_reg': 9.275642941791894, 'colsample_bylevel': 0.4962136639391183, 'bagging_temperature': 0.9522063239767883, 'border_count': 185, 'random_strength': 8.053743104797473}. Best is trial 38 with value: 0.40865456410102124.\n",
      "[I 2024-07-24 01:12:33,397] Trial 70 finished with value: 0.383215450126333 and parameters: {'depth': 8, 'learning_rate': 0.14598874155732802, 'l2_leaf_reg': 7.811893952482509, 'colsample_bylevel': 0.4027389177290245, 'bagging_temperature': 0.6203565346149471, 'border_count': 145, 'random_strength': 3.7648370507851467}. Best is trial 38 with value: 0.40865456410102124.\n",
      "[I 2024-07-24 01:12:36,984] Trial 71 finished with value: 0.3802227014532489 and parameters: {'depth': 5, 'learning_rate': 0.10244837967403406, 'l2_leaf_reg': 6.933812271563424, 'colsample_bylevel': 0.3613296243438576, 'bagging_temperature': 0.8031252373266142, 'border_count': 161, 'random_strength': 7.561163640826678}. Best is trial 38 with value: 0.40865456410102124.\n",
      "[I 2024-07-24 01:12:39,826] Trial 72 finished with value: 0.37148369347462556 and parameters: {'depth': 5, 'learning_rate': 0.09011219727594641, 'l2_leaf_reg': 6.1768266977609665, 'colsample_bylevel': 0.32107882828450934, 'bagging_temperature': 0.9152308229842263, 'border_count': 47, 'random_strength': 8.702688511796238}. Best is trial 38 with value: 0.40865456410102124.\n",
      "[I 2024-07-24 01:12:50,031] Trial 73 finished with value: 0.38802828122340455 and parameters: {'depth': 6, 'learning_rate': 0.02715693457833082, 'l2_leaf_reg': 5.634654024477116, 'colsample_bylevel': 0.3534198107081901, 'bagging_temperature': 0.8697266667097325, 'border_count': 124, 'random_strength': 9.334596350414486}. Best is trial 38 with value: 0.40865456410102124.\n",
      "[I 2024-07-24 01:12:51,436] Trial 74 finished with value: 0.38863730720058703 and parameters: {'depth': 4, 'learning_rate': 0.21456764804413808, 'l2_leaf_reg': 7.266528349249642, 'colsample_bylevel': 0.3298333057402997, 'bagging_temperature': 0.9659677853948319, 'border_count': 135, 'random_strength': 6.5042743832462575}. Best is trial 38 with value: 0.40865456410102124.\n",
      "[I 2024-07-24 01:12:54,198] Trial 75 finished with value: 0.3738700826728526 and parameters: {'depth': 7, 'learning_rate': 0.2935376670921679, 'l2_leaf_reg': 5.941691021947355, 'colsample_bylevel': 0.38251206688437545, 'bagging_temperature': 0.7722959775976318, 'border_count': 151, 'random_strength': 5.577141585973395}. Best is trial 38 with value: 0.40865456410102124.\n",
      "[I 2024-07-24 01:12:58,791] Trial 76 finished with value: 0.381595795166688 and parameters: {'depth': 6, 'learning_rate': 0.1205298962986468, 'l2_leaf_reg': 5.341438444234741, 'colsample_bylevel': 0.9755460049283697, 'bagging_temperature': 0.8207872823161417, 'border_count': 111, 'random_strength': 8.26393330807331}. Best is trial 38 with value: 0.40865456410102124.\n",
      "[I 2024-07-24 01:13:00,676] Trial 77 finished with value: 0.3795668045872549 and parameters: {'depth': 5, 'learning_rate': 0.23308305961135273, 'l2_leaf_reg': 6.61350932685346, 'colsample_bylevel': 0.30484113206379243, 'bagging_temperature': 0.4252148998732528, 'border_count': 162, 'random_strength': 7.717853349184371}. Best is trial 38 with value: 0.40865456410102124.\n",
      "[I 2024-07-24 01:13:07,868] Trial 78 finished with value: 0.3581396996874276 and parameters: {'depth': 9, 'learning_rate': 0.2826243885154601, 'l2_leaf_reg': 8.388362422016467, 'colsample_bylevel': 0.3419045455766596, 'bagging_temperature': 0.922354698377994, 'border_count': 176, 'random_strength': 7.165169420022156}. Best is trial 38 with value: 0.40865456410102124.\n",
      "[I 2024-07-24 01:13:09,828] Trial 79 finished with value: 0.33823955054286 and parameters: {'depth': 6, 'learning_rate': 0.2445312572717085, 'l2_leaf_reg': 6.252706163857055, 'colsample_bylevel': 0.4077753332303888, 'bagging_temperature': 0.8509339055079531, 'border_count': 83, 'random_strength': 9.935234034002354}. Best is trial 38 with value: 0.40865456410102124.\n",
      "[I 2024-07-24 01:13:11,468] Trial 80 finished with value: 0.37024795021867646 and parameters: {'depth': 7, 'learning_rate': 0.26614252579316533, 'l2_leaf_reg': 6.833268088076691, 'colsample_bylevel': 0.5655065963193673, 'bagging_temperature': 0.8813941692482622, 'border_count': 58, 'random_strength': 0.8433306326828882}. Best is trial 38 with value: 0.40865456410102124.\n",
      "[I 2024-07-24 01:13:13,244] Trial 81 finished with value: 0.37441326374926887 and parameters: {'depth': 6, 'learning_rate': 0.2501979738607248, 'l2_leaf_reg': 5.211866820393758, 'colsample_bylevel': 0.3152906931162135, 'bagging_temperature': 0.9838326511924742, 'border_count': 102, 'random_strength': 8.827472681049368}. Best is trial 38 with value: 0.40865456410102124.\n",
      "[I 2024-07-24 01:13:14,994] Trial 82 finished with value: 0.3809673874882795 and parameters: {'depth': 6, 'learning_rate': 0.25421423227365775, 'l2_leaf_reg': 4.845233792842708, 'colsample_bylevel': 0.3275447845020019, 'bagging_temperature': 0.9700237112050699, 'border_count': 91, 'random_strength': 8.51761819506594}. Best is trial 38 with value: 0.40865456410102124.\n",
      "[I 2024-07-24 01:13:16,776] Trial 83 finished with value: 0.3661504909698702 and parameters: {'depth': 6, 'learning_rate': 0.25662263612756686, 'l2_leaf_reg': 3.5857745246403168, 'colsample_bylevel': 0.48696615939754034, 'bagging_temperature': 0.994748173961172, 'border_count': 67, 'random_strength': 7.8007717860519055}. Best is trial 38 with value: 0.40865456410102124.\n",
      "[I 2024-07-24 01:13:18,528] Trial 84 finished with value: 0.36899736125968763 and parameters: {'depth': 8, 'learning_rate': 0.2719717494333301, 'l2_leaf_reg': 4.707293860474304, 'colsample_bylevel': 0.3014406417587442, 'bagging_temperature': 0.940911891665498, 'border_count': 78, 'random_strength': 9.481864062380376}. Best is trial 38 with value: 0.40865456410102124.\n",
      "[I 2024-07-24 01:13:20,290] Trial 85 finished with value: 0.36707205986102887 and parameters: {'depth': 5, 'learning_rate': 0.22213382291302997, 'l2_leaf_reg': 4.052082239121032, 'colsample_bylevel': 0.3785572878627619, 'bagging_temperature': 0.8970329764132274, 'border_count': 115, 'random_strength': 3.179069503088643}. Best is trial 38 with value: 0.40865456410102124.\n",
      "[I 2024-07-24 01:13:26,536] Trial 86 finished with value: 0.3957129568098814 and parameters: {'depth': 6, 'learning_rate': 0.06861824694435689, 'l2_leaf_reg': 4.354532765651082, 'colsample_bylevel': 0.335574212440558, 'bagging_temperature': 0.9364392485046046, 'border_count': 236, 'random_strength': 8.085081847998357}. Best is trial 38 with value: 0.40865456410102124.\n",
      "[I 2024-07-24 01:13:36,764] Trial 87 finished with value: 0.3795668045872549 and parameters: {'depth': 5, 'learning_rate': 0.030031210416175267, 'l2_leaf_reg': 2.5870081926777093, 'colsample_bylevel': 0.35498116012007197, 'bagging_temperature': 0.8297664800949507, 'border_count': 199, 'random_strength': 8.129994035418585}. Best is trial 38 with value: 0.40865456410102124.\n",
      "[I 2024-07-24 01:13:47,793] Trial 88 finished with value: 0.38249812497016983 and parameters: {'depth': 7, 'learning_rate': 0.07117549823566656, 'l2_leaf_reg': 7.630646180081393, 'colsample_bylevel': 0.4391477426496247, 'bagging_temperature': 0.7274195058443101, 'border_count': 231, 'random_strength': 5.223737313386074}. Best is trial 38 with value: 0.40865456410102124.\n",
      "[I 2024-07-24 01:13:56,986] Trial 89 finished with value: 0.3738935423029765 and parameters: {'depth': 6, 'learning_rate': 0.07581531925832077, 'l2_leaf_reg': 7.962683075758095, 'colsample_bylevel': 0.7387648747347313, 'bagging_temperature': 0.9081028981673949, 'border_count': 253, 'random_strength': 6.947553346650096}. Best is trial 38 with value: 0.40865456410102124.\n",
      "[I 2024-07-24 01:14:05,323] Trial 90 finished with value: 0.3683287689322021 and parameters: {'depth': 6, 'learning_rate': 0.06022071715916003, 'l2_leaf_reg': 5.624808497821486, 'colsample_bylevel': 0.42048863749339205, 'bagging_temperature': 0.8646974303496628, 'border_count': 211, 'random_strength': 6.227664014577082}. Best is trial 38 with value: 0.40865456410102124.\n",
      "[I 2024-07-24 01:14:14,765] Trial 91 finished with value: 0.38778363743145905 and parameters: {'depth': 6, 'learning_rate': 0.042983121199876816, 'l2_leaf_reg': 4.386359788885773, 'colsample_bylevel': 0.3358277847520763, 'bagging_temperature': 0.9378359420315626, 'border_count': 234, 'random_strength': 8.603823803081529}. Best is trial 38 with value: 0.40865456410102124.\n",
      "[I 2024-07-24 01:14:16,241] Trial 92 finished with value: 0.4178359246925768 and parameters: {'depth': 6, 'learning_rate': 0.2864687667570889, 'l2_leaf_reg': 3.8252692067759506, 'colsample_bylevel': 0.327142641776946, 'bagging_temperature': 0.9978798370726044, 'border_count': 100, 'random_strength': 9.279389020496735}. Best is trial 92 with value: 0.4178359246925768.\n",
      "[I 2024-07-24 01:14:18,519] Trial 93 finished with value: 0.403518928244942 and parameters: {'depth': 6, 'learning_rate': 0.2895277780055644, 'l2_leaf_reg': 3.2246755085583, 'colsample_bylevel': 0.39555796028034923, 'bagging_temperature': 0.9703344073175969, 'border_count': 241, 'random_strength': 7.39678176279957}. Best is trial 92 with value: 0.4178359246925768.\n",
      "[I 2024-07-24 01:14:20,815] Trial 94 finished with value: 0.3792414626249509 and parameters: {'depth': 6, 'learning_rate': 0.29363004638690837, 'l2_leaf_reg': 3.2313751176941965, 'colsample_bylevel': 0.45073179840473865, 'bagging_temperature': 0.9583416738409285, 'border_count': 129, 'random_strength': 7.194372792405225}. Best is trial 92 with value: 0.4178359246925768.\n",
      "[I 2024-07-24 01:14:23,658] Trial 95 finished with value: 0.3815876081349532 and parameters: {'depth': 6, 'learning_rate': 0.2811745581934717, 'l2_leaf_reg': 2.826533208596474, 'colsample_bylevel': 0.47694467466983437, 'bagging_temperature': 0.13039161019731438, 'border_count': 241, 'random_strength': 7.3585023608978455}. Best is trial 92 with value: 0.4178359246925768.\n",
      "[I 2024-07-24 01:14:26,301] Trial 96 finished with value: 0.39491236455583806 and parameters: {'depth': 6, 'learning_rate': 0.2862802795966092, 'l2_leaf_reg': 3.6060744839548327, 'colsample_bylevel': 0.3931706922558752, 'bagging_temperature': 0.9784246575894175, 'border_count': 244, 'random_strength': 6.575137432943694}. Best is trial 92 with value: 0.4178359246925768.\n",
      "[I 2024-07-24 01:14:28,733] Trial 97 finished with value: 0.3631058519435196 and parameters: {'depth': 6, 'learning_rate': 0.2859867678469538, 'l2_leaf_reg': 3.685924573123839, 'colsample_bylevel': 0.39435519285005616, 'bagging_temperature': 0.9683173516538087, 'border_count': 236, 'random_strength': 6.562362650609381}. Best is trial 92 with value: 0.4178359246925768.\n",
      "[I 2024-07-24 01:14:31,852] Trial 98 finished with value: 0.3925280722624806 and parameters: {'depth': 6, 'learning_rate': 0.2992446634371822, 'l2_leaf_reg': 3.255065335454915, 'colsample_bylevel': 0.5268134429777825, 'bagging_temperature': 0.9365954978480349, 'border_count': 251, 'random_strength': 6.79389453091924}. Best is trial 92 with value: 0.4178359246925768.\n",
      "[I 2024-07-24 01:14:32,932] Trial 99 finished with value: 0.3758949076380049 and parameters: {'depth': 6, 'learning_rate': 0.2895574431167721, 'l2_leaf_reg': 4.345062506355729, 'colsample_bylevel': 0.4285482436147777, 'bagging_temperature': 0.9799255259250255, 'border_count': 39, 'random_strength': 7.848814351229769}. Best is trial 92 with value: 0.4178359246925768.\n"
     ]
    }
   ],
   "source": [
    "study = optuna.create_study(direction=\"maximize\")\n",
    "study.optimize(multi_objective, n_trials=n_trials)"
   ]
  },
  {
   "cell_type": "markdown",
   "metadata": {},
   "source": [
    "### best"
   ]
  },
  {
   "cell_type": "code",
   "execution_count": 21,
   "metadata": {},
   "outputs": [
    {
     "data": {
      "application/vnd.plotly.v1+json": {
       "config": {
        "plotlyServerURL": "https://plot.ly"
       },
       "data": [
        {
         "mode": "markers",
         "name": "Objective Value",
         "type": "scatter",
         "x": [
          0,
          1,
          2,
          3,
          4,
          5,
          6,
          7,
          8,
          9,
          10,
          11,
          12,
          13,
          14,
          15,
          16,
          17,
          18,
          19,
          20,
          21,
          22,
          23,
          24,
          25,
          26,
          27,
          28,
          29,
          30,
          31,
          32,
          33,
          34,
          35,
          36,
          37,
          38,
          39,
          40,
          41,
          42,
          43,
          44,
          45,
          46,
          47,
          48,
          49,
          50,
          51,
          52,
          53,
          54,
          55,
          56,
          57,
          58,
          59,
          60,
          61,
          62,
          63,
          64,
          65,
          66,
          67,
          68,
          69,
          70,
          71,
          72,
          73,
          74,
          75,
          76,
          77,
          78,
          79,
          80,
          81,
          82,
          83,
          84,
          85,
          86,
          87,
          88,
          89,
          90,
          91,
          92,
          93,
          94,
          95,
          96,
          97,
          98,
          99
         ],
         "y": [
          0.3748742970941386,
          0.393761483707985,
          0.36109774620050084,
          0.38368704584190005,
          0.3726974124510099,
          0.3576057965755698,
          0.3935688167961083,
          0.3854874482272157,
          0.3791780467144197,
          0.3790123883634163,
          0.3831983155732735,
          0.35244773520246553,
          0.3774634609763185,
          0.37090337028953146,
          0.3787194136774938,
          0.35134827867209184,
          0.38249812497016983,
          0.3785575505214173,
          0.34951288599986474,
          0.3948213117646876,
          0.36739985031611927,
          0.376904275003102,
          0.3904876858364601,
          0.400622181258839,
          0.38466168732219613,
          0.37229337324426853,
          0.389670920796704,
          0.3805111338533975,
          0.382654116546473,
          0.39646381276821563,
          0.38839069553902106,
          0.3766420846932133,
          0.39266061808435865,
          0.3823735233486999,
          0.3744333112109145,
          0.3676668747694669,
          0.4000466665021176,
          0.39811715323819225,
          0.40865456410102124,
          0.3853517589517928,
          0.3803161354031491,
          0.3766147317379491,
          0.3573386715702472,
          0.3325531479787639,
          0.37650194893744693,
          0.3742756905756012,
          0.3906923755237929,
          0.39073935541984267,
          0.3782587581675562,
          0.3854843502986126,
          0.38080676391832763,
          0.3919061817203069,
          0.37632061840174336,
          0.3801857732371494,
          0.3753823076491186,
          0.3681778451986823,
          0.37781522095535686,
          0.39912998187569493,
          0.36118056250901925,
          0.37649045247467394,
          0.3758949076380049,
          0.3766147317379491,
          0.3913842032862151,
          0.39130236372054555,
          0.381595795166688,
          0.36715608970454605,
          0.39371263417642294,
          0.380699649495679,
          0.36330099624842516,
          0.38400424251085313,
          0.383215450126333,
          0.3802227014532489,
          0.37148369347462556,
          0.38802828122340455,
          0.38863730720058703,
          0.3738700826728526,
          0.381595795166688,
          0.3795668045872549,
          0.3581396996874276,
          0.33823955054286,
          0.37024795021867646,
          0.37441326374926887,
          0.3809673874882795,
          0.3661504909698702,
          0.36899736125968763,
          0.36707205986102887,
          0.3957129568098814,
          0.3795668045872549,
          0.38249812497016983,
          0.3738935423029765,
          0.3683287689322021,
          0.38778363743145905,
          0.4178359246925768,
          0.403518928244942,
          0.3792414626249509,
          0.3815876081349532,
          0.39491236455583806,
          0.3631058519435196,
          0.3925280722624806,
          0.3758949076380049
         ]
        },
        {
         "mode": "lines",
         "name": "Best Value",
         "type": "scatter",
         "x": [
          0,
          1,
          2,
          3,
          4,
          5,
          6,
          7,
          8,
          9,
          10,
          11,
          12,
          13,
          14,
          15,
          16,
          17,
          18,
          19,
          20,
          21,
          22,
          23,
          24,
          25,
          26,
          27,
          28,
          29,
          30,
          31,
          32,
          33,
          34,
          35,
          36,
          37,
          38,
          39,
          40,
          41,
          42,
          43,
          44,
          45,
          46,
          47,
          48,
          49,
          50,
          51,
          52,
          53,
          54,
          55,
          56,
          57,
          58,
          59,
          60,
          61,
          62,
          63,
          64,
          65,
          66,
          67,
          68,
          69,
          70,
          71,
          72,
          73,
          74,
          75,
          76,
          77,
          78,
          79,
          80,
          81,
          82,
          83,
          84,
          85,
          86,
          87,
          88,
          89,
          90,
          91,
          92,
          93,
          94,
          95,
          96,
          97,
          98,
          99
         ],
         "y": [
          0.3748742970941386,
          0.393761483707985,
          0.393761483707985,
          0.393761483707985,
          0.393761483707985,
          0.393761483707985,
          0.393761483707985,
          0.393761483707985,
          0.393761483707985,
          0.393761483707985,
          0.393761483707985,
          0.393761483707985,
          0.393761483707985,
          0.393761483707985,
          0.393761483707985,
          0.393761483707985,
          0.393761483707985,
          0.393761483707985,
          0.393761483707985,
          0.3948213117646876,
          0.3948213117646876,
          0.3948213117646876,
          0.3948213117646876,
          0.400622181258839,
          0.400622181258839,
          0.400622181258839,
          0.400622181258839,
          0.400622181258839,
          0.400622181258839,
          0.400622181258839,
          0.400622181258839,
          0.400622181258839,
          0.400622181258839,
          0.400622181258839,
          0.400622181258839,
          0.400622181258839,
          0.400622181258839,
          0.400622181258839,
          0.40865456410102124,
          0.40865456410102124,
          0.40865456410102124,
          0.40865456410102124,
          0.40865456410102124,
          0.40865456410102124,
          0.40865456410102124,
          0.40865456410102124,
          0.40865456410102124,
          0.40865456410102124,
          0.40865456410102124,
          0.40865456410102124,
          0.40865456410102124,
          0.40865456410102124,
          0.40865456410102124,
          0.40865456410102124,
          0.40865456410102124,
          0.40865456410102124,
          0.40865456410102124,
          0.40865456410102124,
          0.40865456410102124,
          0.40865456410102124,
          0.40865456410102124,
          0.40865456410102124,
          0.40865456410102124,
          0.40865456410102124,
          0.40865456410102124,
          0.40865456410102124,
          0.40865456410102124,
          0.40865456410102124,
          0.40865456410102124,
          0.40865456410102124,
          0.40865456410102124,
          0.40865456410102124,
          0.40865456410102124,
          0.40865456410102124,
          0.40865456410102124,
          0.40865456410102124,
          0.40865456410102124,
          0.40865456410102124,
          0.40865456410102124,
          0.40865456410102124,
          0.40865456410102124,
          0.40865456410102124,
          0.40865456410102124,
          0.40865456410102124,
          0.40865456410102124,
          0.40865456410102124,
          0.40865456410102124,
          0.40865456410102124,
          0.40865456410102124,
          0.40865456410102124,
          0.40865456410102124,
          0.40865456410102124,
          0.4178359246925768,
          0.4178359246925768,
          0.4178359246925768,
          0.4178359246925768,
          0.4178359246925768,
          0.4178359246925768,
          0.4178359246925768,
          0.4178359246925768
         ]
        },
        {
         "marker": {
          "color": "#cccccc"
         },
         "mode": "markers",
         "name": "Infeasible Trial",
         "showlegend": false,
         "type": "scatter",
         "x": [],
         "y": []
        }
       ],
       "layout": {
        "template": {
         "data": {
          "bar": [
           {
            "error_x": {
             "color": "#2a3f5f"
            },
            "error_y": {
             "color": "#2a3f5f"
            },
            "marker": {
             "line": {
              "color": "#E5ECF6",
              "width": 0.5
             },
             "pattern": {
              "fillmode": "overlay",
              "size": 10,
              "solidity": 0.2
             }
            },
            "type": "bar"
           }
          ],
          "barpolar": [
           {
            "marker": {
             "line": {
              "color": "#E5ECF6",
              "width": 0.5
             },
             "pattern": {
              "fillmode": "overlay",
              "size": 10,
              "solidity": 0.2
             }
            },
            "type": "barpolar"
           }
          ],
          "carpet": [
           {
            "aaxis": {
             "endlinecolor": "#2a3f5f",
             "gridcolor": "white",
             "linecolor": "white",
             "minorgridcolor": "white",
             "startlinecolor": "#2a3f5f"
            },
            "baxis": {
             "endlinecolor": "#2a3f5f",
             "gridcolor": "white",
             "linecolor": "white",
             "minorgridcolor": "white",
             "startlinecolor": "#2a3f5f"
            },
            "type": "carpet"
           }
          ],
          "choropleth": [
           {
            "colorbar": {
             "outlinewidth": 0,
             "ticks": ""
            },
            "type": "choropleth"
           }
          ],
          "contour": [
           {
            "colorbar": {
             "outlinewidth": 0,
             "ticks": ""
            },
            "colorscale": [
             [
              0,
              "#0d0887"
             ],
             [
              0.1111111111111111,
              "#46039f"
             ],
             [
              0.2222222222222222,
              "#7201a8"
             ],
             [
              0.3333333333333333,
              "#9c179e"
             ],
             [
              0.4444444444444444,
              "#bd3786"
             ],
             [
              0.5555555555555556,
              "#d8576b"
             ],
             [
              0.6666666666666666,
              "#ed7953"
             ],
             [
              0.7777777777777778,
              "#fb9f3a"
             ],
             [
              0.8888888888888888,
              "#fdca26"
             ],
             [
              1,
              "#f0f921"
             ]
            ],
            "type": "contour"
           }
          ],
          "contourcarpet": [
           {
            "colorbar": {
             "outlinewidth": 0,
             "ticks": ""
            },
            "type": "contourcarpet"
           }
          ],
          "heatmap": [
           {
            "colorbar": {
             "outlinewidth": 0,
             "ticks": ""
            },
            "colorscale": [
             [
              0,
              "#0d0887"
             ],
             [
              0.1111111111111111,
              "#46039f"
             ],
             [
              0.2222222222222222,
              "#7201a8"
             ],
             [
              0.3333333333333333,
              "#9c179e"
             ],
             [
              0.4444444444444444,
              "#bd3786"
             ],
             [
              0.5555555555555556,
              "#d8576b"
             ],
             [
              0.6666666666666666,
              "#ed7953"
             ],
             [
              0.7777777777777778,
              "#fb9f3a"
             ],
             [
              0.8888888888888888,
              "#fdca26"
             ],
             [
              1,
              "#f0f921"
             ]
            ],
            "type": "heatmap"
           }
          ],
          "heatmapgl": [
           {
            "colorbar": {
             "outlinewidth": 0,
             "ticks": ""
            },
            "colorscale": [
             [
              0,
              "#0d0887"
             ],
             [
              0.1111111111111111,
              "#46039f"
             ],
             [
              0.2222222222222222,
              "#7201a8"
             ],
             [
              0.3333333333333333,
              "#9c179e"
             ],
             [
              0.4444444444444444,
              "#bd3786"
             ],
             [
              0.5555555555555556,
              "#d8576b"
             ],
             [
              0.6666666666666666,
              "#ed7953"
             ],
             [
              0.7777777777777778,
              "#fb9f3a"
             ],
             [
              0.8888888888888888,
              "#fdca26"
             ],
             [
              1,
              "#f0f921"
             ]
            ],
            "type": "heatmapgl"
           }
          ],
          "histogram": [
           {
            "marker": {
             "pattern": {
              "fillmode": "overlay",
              "size": 10,
              "solidity": 0.2
             }
            },
            "type": "histogram"
           }
          ],
          "histogram2d": [
           {
            "colorbar": {
             "outlinewidth": 0,
             "ticks": ""
            },
            "colorscale": [
             [
              0,
              "#0d0887"
             ],
             [
              0.1111111111111111,
              "#46039f"
             ],
             [
              0.2222222222222222,
              "#7201a8"
             ],
             [
              0.3333333333333333,
              "#9c179e"
             ],
             [
              0.4444444444444444,
              "#bd3786"
             ],
             [
              0.5555555555555556,
              "#d8576b"
             ],
             [
              0.6666666666666666,
              "#ed7953"
             ],
             [
              0.7777777777777778,
              "#fb9f3a"
             ],
             [
              0.8888888888888888,
              "#fdca26"
             ],
             [
              1,
              "#f0f921"
             ]
            ],
            "type": "histogram2d"
           }
          ],
          "histogram2dcontour": [
           {
            "colorbar": {
             "outlinewidth": 0,
             "ticks": ""
            },
            "colorscale": [
             [
              0,
              "#0d0887"
             ],
             [
              0.1111111111111111,
              "#46039f"
             ],
             [
              0.2222222222222222,
              "#7201a8"
             ],
             [
              0.3333333333333333,
              "#9c179e"
             ],
             [
              0.4444444444444444,
              "#bd3786"
             ],
             [
              0.5555555555555556,
              "#d8576b"
             ],
             [
              0.6666666666666666,
              "#ed7953"
             ],
             [
              0.7777777777777778,
              "#fb9f3a"
             ],
             [
              0.8888888888888888,
              "#fdca26"
             ],
             [
              1,
              "#f0f921"
             ]
            ],
            "type": "histogram2dcontour"
           }
          ],
          "mesh3d": [
           {
            "colorbar": {
             "outlinewidth": 0,
             "ticks": ""
            },
            "type": "mesh3d"
           }
          ],
          "parcoords": [
           {
            "line": {
             "colorbar": {
              "outlinewidth": 0,
              "ticks": ""
             }
            },
            "type": "parcoords"
           }
          ],
          "pie": [
           {
            "automargin": true,
            "type": "pie"
           }
          ],
          "scatter": [
           {
            "fillpattern": {
             "fillmode": "overlay",
             "size": 10,
             "solidity": 0.2
            },
            "type": "scatter"
           }
          ],
          "scatter3d": [
           {
            "line": {
             "colorbar": {
              "outlinewidth": 0,
              "ticks": ""
             }
            },
            "marker": {
             "colorbar": {
              "outlinewidth": 0,
              "ticks": ""
             }
            },
            "type": "scatter3d"
           }
          ],
          "scattercarpet": [
           {
            "marker": {
             "colorbar": {
              "outlinewidth": 0,
              "ticks": ""
             }
            },
            "type": "scattercarpet"
           }
          ],
          "scattergeo": [
           {
            "marker": {
             "colorbar": {
              "outlinewidth": 0,
              "ticks": ""
             }
            },
            "type": "scattergeo"
           }
          ],
          "scattergl": [
           {
            "marker": {
             "colorbar": {
              "outlinewidth": 0,
              "ticks": ""
             }
            },
            "type": "scattergl"
           }
          ],
          "scattermapbox": [
           {
            "marker": {
             "colorbar": {
              "outlinewidth": 0,
              "ticks": ""
             }
            },
            "type": "scattermapbox"
           }
          ],
          "scatterpolar": [
           {
            "marker": {
             "colorbar": {
              "outlinewidth": 0,
              "ticks": ""
             }
            },
            "type": "scatterpolar"
           }
          ],
          "scatterpolargl": [
           {
            "marker": {
             "colorbar": {
              "outlinewidth": 0,
              "ticks": ""
             }
            },
            "type": "scatterpolargl"
           }
          ],
          "scatterternary": [
           {
            "marker": {
             "colorbar": {
              "outlinewidth": 0,
              "ticks": ""
             }
            },
            "type": "scatterternary"
           }
          ],
          "surface": [
           {
            "colorbar": {
             "outlinewidth": 0,
             "ticks": ""
            },
            "colorscale": [
             [
              0,
              "#0d0887"
             ],
             [
              0.1111111111111111,
              "#46039f"
             ],
             [
              0.2222222222222222,
              "#7201a8"
             ],
             [
              0.3333333333333333,
              "#9c179e"
             ],
             [
              0.4444444444444444,
              "#bd3786"
             ],
             [
              0.5555555555555556,
              "#d8576b"
             ],
             [
              0.6666666666666666,
              "#ed7953"
             ],
             [
              0.7777777777777778,
              "#fb9f3a"
             ],
             [
              0.8888888888888888,
              "#fdca26"
             ],
             [
              1,
              "#f0f921"
             ]
            ],
            "type": "surface"
           }
          ],
          "table": [
           {
            "cells": {
             "fill": {
              "color": "#EBF0F8"
             },
             "line": {
              "color": "white"
             }
            },
            "header": {
             "fill": {
              "color": "#C8D4E3"
             },
             "line": {
              "color": "white"
             }
            },
            "type": "table"
           }
          ]
         },
         "layout": {
          "annotationdefaults": {
           "arrowcolor": "#2a3f5f",
           "arrowhead": 0,
           "arrowwidth": 1
          },
          "autotypenumbers": "strict",
          "coloraxis": {
           "colorbar": {
            "outlinewidth": 0,
            "ticks": ""
           }
          },
          "colorscale": {
           "diverging": [
            [
             0,
             "#8e0152"
            ],
            [
             0.1,
             "#c51b7d"
            ],
            [
             0.2,
             "#de77ae"
            ],
            [
             0.3,
             "#f1b6da"
            ],
            [
             0.4,
             "#fde0ef"
            ],
            [
             0.5,
             "#f7f7f7"
            ],
            [
             0.6,
             "#e6f5d0"
            ],
            [
             0.7,
             "#b8e186"
            ],
            [
             0.8,
             "#7fbc41"
            ],
            [
             0.9,
             "#4d9221"
            ],
            [
             1,
             "#276419"
            ]
           ],
           "sequential": [
            [
             0,
             "#0d0887"
            ],
            [
             0.1111111111111111,
             "#46039f"
            ],
            [
             0.2222222222222222,
             "#7201a8"
            ],
            [
             0.3333333333333333,
             "#9c179e"
            ],
            [
             0.4444444444444444,
             "#bd3786"
            ],
            [
             0.5555555555555556,
             "#d8576b"
            ],
            [
             0.6666666666666666,
             "#ed7953"
            ],
            [
             0.7777777777777778,
             "#fb9f3a"
            ],
            [
             0.8888888888888888,
             "#fdca26"
            ],
            [
             1,
             "#f0f921"
            ]
           ],
           "sequentialminus": [
            [
             0,
             "#0d0887"
            ],
            [
             0.1111111111111111,
             "#46039f"
            ],
            [
             0.2222222222222222,
             "#7201a8"
            ],
            [
             0.3333333333333333,
             "#9c179e"
            ],
            [
             0.4444444444444444,
             "#bd3786"
            ],
            [
             0.5555555555555556,
             "#d8576b"
            ],
            [
             0.6666666666666666,
             "#ed7953"
            ],
            [
             0.7777777777777778,
             "#fb9f3a"
            ],
            [
             0.8888888888888888,
             "#fdca26"
            ],
            [
             1,
             "#f0f921"
            ]
           ]
          },
          "colorway": [
           "#636efa",
           "#EF553B",
           "#00cc96",
           "#ab63fa",
           "#FFA15A",
           "#19d3f3",
           "#FF6692",
           "#B6E880",
           "#FF97FF",
           "#FECB52"
          ],
          "font": {
           "color": "#2a3f5f"
          },
          "geo": {
           "bgcolor": "white",
           "lakecolor": "white",
           "landcolor": "#E5ECF6",
           "showlakes": true,
           "showland": true,
           "subunitcolor": "white"
          },
          "hoverlabel": {
           "align": "left"
          },
          "hovermode": "closest",
          "mapbox": {
           "style": "light"
          },
          "paper_bgcolor": "white",
          "plot_bgcolor": "#E5ECF6",
          "polar": {
           "angularaxis": {
            "gridcolor": "white",
            "linecolor": "white",
            "ticks": ""
           },
           "bgcolor": "#E5ECF6",
           "radialaxis": {
            "gridcolor": "white",
            "linecolor": "white",
            "ticks": ""
           }
          },
          "scene": {
           "xaxis": {
            "backgroundcolor": "#E5ECF6",
            "gridcolor": "white",
            "gridwidth": 2,
            "linecolor": "white",
            "showbackground": true,
            "ticks": "",
            "zerolinecolor": "white"
           },
           "yaxis": {
            "backgroundcolor": "#E5ECF6",
            "gridcolor": "white",
            "gridwidth": 2,
            "linecolor": "white",
            "showbackground": true,
            "ticks": "",
            "zerolinecolor": "white"
           },
           "zaxis": {
            "backgroundcolor": "#E5ECF6",
            "gridcolor": "white",
            "gridwidth": 2,
            "linecolor": "white",
            "showbackground": true,
            "ticks": "",
            "zerolinecolor": "white"
           }
          },
          "shapedefaults": {
           "line": {
            "color": "#2a3f5f"
           }
          },
          "ternary": {
           "aaxis": {
            "gridcolor": "white",
            "linecolor": "white",
            "ticks": ""
           },
           "baxis": {
            "gridcolor": "white",
            "linecolor": "white",
            "ticks": ""
           },
           "bgcolor": "#E5ECF6",
           "caxis": {
            "gridcolor": "white",
            "linecolor": "white",
            "ticks": ""
           }
          },
          "title": {
           "x": 0.05
          },
          "xaxis": {
           "automargin": true,
           "gridcolor": "white",
           "linecolor": "white",
           "ticks": "",
           "title": {
            "standoff": 15
           },
           "zerolinecolor": "white",
           "zerolinewidth": 2
          },
          "yaxis": {
           "automargin": true,
           "gridcolor": "white",
           "linecolor": "white",
           "ticks": "",
           "title": {
            "standoff": 15
           },
           "zerolinecolor": "white",
           "zerolinewidth": 2
          }
         }
        },
        "title": {
         "text": "Optimization History Plot"
        },
        "xaxis": {
         "title": {
          "text": "Trial"
         }
        },
        "yaxis": {
         "title": {
          "text": "Objective Value"
         }
        }
       }
      }
     },
     "metadata": {},
     "output_type": "display_data"
    }
   ],
   "source": [
    "optuna.visualization.plot_optimization_history(**{\"study\": study})"
   ]
  },
  {
   "cell_type": "markdown",
   "metadata": {},
   "source": [
    "## goal: 3 day 5% gain (mid anomaly %)"
   ]
  },
  {
   "cell_type": "code",
   "execution_count": 22,
   "metadata": {},
   "outputs": [
    {
     "name": "stdout",
     "output_type": "stream",
     "text": [
      "(8793, 101) (8793,) (2205, 101) (2205,)\n",
      "(array([0, 1, 2], dtype=int64), array([1675, 5106, 2012], dtype=int64))\n",
      "(array([0, 1, 2], dtype=int64), array([ 277, 1585,  343], dtype=int64))\n"
     ]
    }
   ],
   "source": [
    "X_train, y_train, X_val, y_val = data_prep_for_tuning_multi(ticker_list, normalize=False, obj=[3, 0.05])"
   ]
  },
  {
   "cell_type": "code",
   "execution_count": 23,
   "metadata": {},
   "outputs": [
    {
     "name": "stderr",
     "output_type": "stream",
     "text": [
      "[I 2024-07-24 01:14:34,569] A new study created in memory with name: no-name-9b1cbcfa-0d4d-4943-9aa6-cabcea39a770\n",
      "C:\\Users\\edton\\AppData\\Local\\Temp\\ipykernel_70720\\3154881170.py:30: FutureWarning:\n",
      "\n",
      "suggest_uniform has been deprecated in v3.0.0. This feature will be removed in v6.0.0. See https://github.com/optuna/optuna/releases/tag/v3.0.0. Use suggest_float instead.\n",
      "\n",
      "C:\\Users\\edton\\AppData\\Local\\Temp\\ipykernel_70720\\3154881170.py:33: FutureWarning:\n",
      "\n",
      "suggest_uniform has been deprecated in v3.0.0. This feature will be removed in v6.0.0. See https://github.com/optuna/optuna/releases/tag/v3.0.0. Use suggest_float instead.\n",
      "\n",
      "C:\\Users\\edton\\AppData\\Local\\Temp\\ipykernel_70720\\3154881170.py:35: FutureWarning:\n",
      "\n",
      "suggest_uniform has been deprecated in v3.0.0. This feature will be removed in v6.0.0. See https://github.com/optuna/optuna/releases/tag/v3.0.0. Use suggest_float instead.\n",
      "\n",
      "[I 2024-07-24 01:14:41,797] Trial 0 finished with value: 0.25759879013504894 and parameters: {'depth': 7, 'learning_rate': 0.19295210847089975, 'l2_leaf_reg': 8.840660271473656, 'colsample_bylevel': 0.7642032284377576, 'bagging_temperature': 0.547929470503602, 'border_count': 222, 'random_strength': 6.783274653498738}. Best is trial 0 with value: 0.25759879013504894.\n",
      "[I 2024-07-24 01:14:44,212] Trial 1 finished with value: 0.25833367699442933 and parameters: {'depth': 8, 'learning_rate': 0.21798411981214993, 'l2_leaf_reg': 3.618987189313432, 'colsample_bylevel': 0.5081404288885691, 'bagging_temperature': 0.48554404284134245, 'border_count': 53, 'random_strength': 4.327651156460131}. Best is trial 1 with value: 0.25833367699442933.\n",
      "[I 2024-07-24 01:14:49,166] Trial 2 finished with value: 0.27626408014645437 and parameters: {'depth': 4, 'learning_rate': 0.0377471129329952, 'l2_leaf_reg': 1.5150775570827484, 'colsample_bylevel': 0.6841096739475089, 'bagging_temperature': 0.12602684909021988, 'border_count': 197, 'random_strength': 0.6750794995627207}. Best is trial 2 with value: 0.27626408014645437.\n",
      "[I 2024-07-24 01:15:11,636] Trial 3 finished with value: 0.31074899905245124 and parameters: {'depth': 10, 'learning_rate': 0.2647178460944268, 'l2_leaf_reg': 6.889708307400338, 'colsample_bylevel': 0.5638098847675641, 'bagging_temperature': 0.8977258119499646, 'border_count': 246, 'random_strength': 5.412125078222896}. Best is trial 3 with value: 0.31074899905245124.\n",
      "[I 2024-07-24 01:15:23,989] Trial 4 finished with value: 0.2622886634707331 and parameters: {'depth': 8, 'learning_rate': 0.05769169726401941, 'l2_leaf_reg': 5.570775338123626, 'colsample_bylevel': 0.5297989211490249, 'bagging_temperature': 0.5921134558573069, 'border_count': 108, 'random_strength': 4.651823917008552}. Best is trial 3 with value: 0.31074899905245124.\n",
      "[I 2024-07-24 01:15:28,472] Trial 5 finished with value: 0.26742913944034347 and parameters: {'depth': 7, 'learning_rate': 0.18091244133249743, 'l2_leaf_reg': 6.836098549263216, 'colsample_bylevel': 0.6137121622305712, 'bagging_temperature': 0.6131245514928942, 'border_count': 139, 'random_strength': 6.821789689521448}. Best is trial 3 with value: 0.31074899905245124.\n",
      "[I 2024-07-24 01:15:32,683] Trial 6 finished with value: 0.2771534772559707 and parameters: {'depth': 7, 'learning_rate': 0.1934537360251121, 'l2_leaf_reg': 7.824040513993123, 'colsample_bylevel': 0.638610357523971, 'bagging_temperature': 0.033913732042274325, 'border_count': 151, 'random_strength': 0.955683223696}. Best is trial 3 with value: 0.31074899905245124.\n",
      "[I 2024-07-24 01:15:46,553] Trial 7 finished with value: 0.2504670209369187 and parameters: {'depth': 6, 'learning_rate': 0.03497644874800008, 'l2_leaf_reg': 3.045101210582442, 'colsample_bylevel': 0.3571840000286948, 'bagging_temperature': 0.8261031979791477, 'border_count': 215, 'random_strength': 9.921803111764552}. Best is trial 3 with value: 0.31074899905245124.\n",
      "[I 2024-07-24 01:15:52,710] Trial 8 finished with value: 0.32034034304363584 and parameters: {'depth': 7, 'learning_rate': 0.10777368934401033, 'l2_leaf_reg': 7.181380778216538, 'colsample_bylevel': 0.7314058550532239, 'bagging_temperature': 0.4504533918261111, 'border_count': 122, 'random_strength': 0.5737385278840457}. Best is trial 8 with value: 0.32034034304363584.\n",
      "[I 2024-07-24 01:15:55,110] Trial 9 finished with value: 0.2633021234471999 and parameters: {'depth': 7, 'learning_rate': 0.23940470713113446, 'l2_leaf_reg': 6.647615168740865, 'colsample_bylevel': 0.423660719226183, 'bagging_temperature': 0.874953472603668, 'border_count': 96, 'random_strength': 3.134068212349892}. Best is trial 8 with value: 0.32034034304363584.\n",
      "[I 2024-07-24 01:15:57,562] Trial 10 finished with value: 0.2463447540937771 and parameters: {'depth': 4, 'learning_rate': 0.11592825278192201, 'l2_leaf_reg': 0.5700480374920449, 'colsample_bylevel': 0.9383494691069636, 'bagging_temperature': 0.29529581488201206, 'border_count': 55, 'random_strength': 2.7131482975989165}. Best is trial 8 with value: 0.32034034304363584.\n",
      "[I 2024-07-24 01:16:26,971] Trial 11 finished with value: 0.2758722546211954 and parameters: {'depth': 10, 'learning_rate': 0.2969460190817009, 'l2_leaf_reg': 9.823757691398942, 'colsample_bylevel': 0.8508582150159517, 'bagging_temperature': 0.9856640437165136, 'border_count': 175, 'random_strength': 6.7883706491446825}. Best is trial 8 with value: 0.32034034304363584.\n",
      "[I 2024-07-24 01:17:34,900] Trial 12 finished with value: 0.2644321711522616 and parameters: {'depth': 10, 'learning_rate': 0.11825962370959492, 'l2_leaf_reg': 4.943967198452011, 'colsample_bylevel': 0.7690096495801544, 'bagging_temperature': 0.35281437573484387, 'border_count': 254, 'random_strength': 8.721020790215313}. Best is trial 8 with value: 0.32034034304363584.\n",
      "[I 2024-07-24 01:17:44,562] Trial 13 finished with value: 0.28914192959876656 and parameters: {'depth': 9, 'learning_rate': 0.11995625350732128, 'l2_leaf_reg': 7.758560895075526, 'colsample_bylevel': 0.5456769635904589, 'bagging_temperature': 0.7509913306580795, 'border_count': 98, 'random_strength': 2.2315790091570586}. Best is trial 8 with value: 0.32034034304363584.\n",
      "[I 2024-07-24 01:17:46,381] Trial 14 finished with value: 0.2802732215298369 and parameters: {'depth': 5, 'learning_rate': 0.29131407093607403, 'l2_leaf_reg': 4.952900440769884, 'colsample_bylevel': 0.7538587075817056, 'bagging_temperature': 0.37220575961281815, 'border_count': 147, 'random_strength': 5.610946393943293}. Best is trial 8 with value: 0.32034034304363584.\n",
      "[I 2024-07-24 01:18:20,940] Trial 15 finished with value: 0.2571396200409157 and parameters: {'depth': 9, 'learning_rate': 0.09302841965798211, 'l2_leaf_reg': 6.3899491543775655, 'colsample_bylevel': 0.9421085778916676, 'bagging_temperature': 0.20993860603506287, 'border_count': 254, 'random_strength': 0.040093735851173484}. Best is trial 8 with value: 0.32034034304363584.\n",
      "[I 2024-07-24 01:18:24,497] Trial 16 finished with value: 0.28577822727756347 and parameters: {'depth': 6, 'learning_rate': 0.15704388919178455, 'l2_leaf_reg': 8.473242567792779, 'colsample_bylevel': 0.4242384707163931, 'bagging_temperature': 0.7257202901976894, 'border_count': 127, 'random_strength': 3.566863129901966}. Best is trial 8 with value: 0.32034034304363584.\n",
      "[I 2024-07-24 01:18:40,654] Trial 17 finished with value: 0.25135523330892223 and parameters: {'depth': 9, 'learning_rate': 0.2630583213375504, 'l2_leaf_reg': 9.808251840456846, 'colsample_bylevel': 0.8578837597302886, 'bagging_temperature': 0.4550929619593672, 'border_count': 173, 'random_strength': 5.686498021747664}. Best is trial 8 with value: 0.32034034304363584.\n",
      "[I 2024-07-24 01:18:46,410] Trial 18 finished with value: 0.2798541312296878 and parameters: {'depth': 8, 'learning_rate': 0.08871322587566335, 'l2_leaf_reg': 5.791350343582801, 'colsample_bylevel': 0.69945470373911, 'bagging_temperature': 0.6797252144548888, 'border_count': 65, 'random_strength': 1.665295437720658}. Best is trial 8 with value: 0.32034034304363584.\n",
      "[I 2024-07-24 01:18:49,067] Trial 19 finished with value: 0.2801464344965593 and parameters: {'depth': 6, 'learning_rate': 0.14757020036570187, 'l2_leaf_reg': 3.6160005567438827, 'colsample_bylevel': 0.5962983211608316, 'bagging_temperature': 0.9854300867169193, 'border_count': 78, 'random_strength': 8.095378843284777}. Best is trial 8 with value: 0.32034034304363584.\n",
      "[I 2024-07-24 01:18:50,678] Trial 20 finished with value: 0.2444778231062266 and parameters: {'depth': 5, 'learning_rate': 0.2535138629238744, 'l2_leaf_reg': 7.492391007077181, 'colsample_bylevel': 0.4504306766738589, 'bagging_temperature': 0.859418701315673, 'border_count': 37, 'random_strength': 3.9257169408940813}. Best is trial 8 with value: 0.32034034304363584.\n",
      "[I 2024-07-24 01:19:04,165] Trial 21 finished with value: 0.24725655729148704 and parameters: {'depth': 9, 'learning_rate': 0.12628889961886589, 'l2_leaf_reg': 7.736144396788121, 'colsample_bylevel': 0.5543404534472933, 'bagging_temperature': 0.7533203237213678, 'border_count': 111, 'random_strength': 2.1695505705375657}. Best is trial 8 with value: 0.32034034304363584.\n",
      "[I 2024-07-24 01:19:15,300] Trial 22 finished with value: 0.2896927563133811 and parameters: {'depth': 10, 'learning_rate': 0.0758649994521796, 'l2_leaf_reg': 8.404984455025541, 'colsample_bylevel': 0.3153359250584421, 'bagging_temperature': 0.9099535300145547, 'border_count': 89, 'random_strength': 1.4809925684244085}. Best is trial 8 with value: 0.32034034304363584.\n",
      "[I 2024-07-24 01:19:32,081] Trial 23 finished with value: 0.289959382436001 and parameters: {'depth': 10, 'learning_rate': 0.07710508783147332, 'l2_leaf_reg': 8.429054046745142, 'colsample_bylevel': 0.3613591925431662, 'bagging_temperature': 0.867511681397657, 'border_count': 125, 'random_strength': 1.171223043521831}. Best is trial 8 with value: 0.32034034304363584.\n",
      "[I 2024-07-24 01:20:20,301] Trial 24 finished with value: 0.2791584643265105 and parameters: {'depth': 10, 'learning_rate': 0.019346141775244532, 'l2_leaf_reg': 8.856897495172097, 'colsample_bylevel': 0.37083004601857666, 'bagging_temperature': 0.4460776161707139, 'border_count': 122, 'random_strength': 0.09931823785360427}. Best is trial 8 with value: 0.32034034304363584.\n",
      "[I 2024-07-24 01:20:39,811] Trial 25 finished with value: 0.2661676295032037 and parameters: {'depth': 8, 'learning_rate': 0.06992576110700854, 'l2_leaf_reg': 7.0137347948047, 'colsample_bylevel': 0.8429265984186324, 'bagging_temperature': 0.648436719060133, 'border_count': 162, 'random_strength': 5.214964453024059}. Best is trial 8 with value: 0.32034034304363584.\n",
      "[I 2024-07-24 01:20:51,916] Trial 26 finished with value: 0.32111830578122796 and parameters: {'depth': 9, 'learning_rate': 0.1499344212840113, 'l2_leaf_reg': 6.044140429823077, 'colsample_bylevel': 0.4748683590320412, 'bagging_temperature': 0.7974658508717114, 'border_count': 181, 'random_strength': 1.2668421644839267}. Best is trial 26 with value: 0.32111830578122796.\n",
      "[I 2024-07-24 01:21:07,065] Trial 27 finished with value: 0.30573837847731394 and parameters: {'depth': 9, 'learning_rate': 0.16464496608928392, 'l2_leaf_reg': 5.735734744894716, 'colsample_bylevel': 0.4994707252201206, 'bagging_temperature': 0.5413396629210606, 'border_count': 198, 'random_strength': 2.557136225530912}. Best is trial 26 with value: 0.32111830578122796.\n",
      "[I 2024-07-24 01:21:15,725] Trial 28 finished with value: 0.24967253547463852 and parameters: {'depth': 8, 'learning_rate': 0.2235887867116734, 'l2_leaf_reg': 3.958319227321126, 'colsample_bylevel': 0.6621205604594588, 'bagging_temperature': 0.8106989270477074, 'border_count': 224, 'random_strength': 6.19356336447201}. Best is trial 26 with value: 0.32111830578122796.\n",
      "[I 2024-07-24 01:21:39,562] Trial 29 finished with value: 0.2754304516492608 and parameters: {'depth': 9, 'learning_rate': 0.19703644532663844, 'l2_leaf_reg': 4.516828178971041, 'colsample_bylevel': 0.7478235930891973, 'bagging_temperature': 0.7018556395486979, 'border_count': 221, 'random_strength': 7.359030524412716}. Best is trial 26 with value: 0.32111830578122796.\n",
      "[I 2024-07-24 01:21:48,555] Trial 30 finished with value: 0.25466844969250013 and parameters: {'depth': 7, 'learning_rate': 0.1379833459951471, 'l2_leaf_reg': 6.226665269835046, 'colsample_bylevel': 0.5830605393191562, 'bagging_temperature': 0.5460700386130805, 'border_count': 241, 'random_strength': 3.3218726047352076}. Best is trial 26 with value: 0.32111830578122796.\n",
      "[I 2024-07-24 01:22:01,466] Trial 31 finished with value: 0.30064291405983445 and parameters: {'depth': 9, 'learning_rate': 0.17033063213727304, 'l2_leaf_reg': 5.786045053030051, 'colsample_bylevel': 0.5042419685642021, 'bagging_temperature': 0.9403076957738402, 'border_count': 195, 'random_strength': 2.1226538727861994}. Best is trial 26 with value: 0.32111830578122796.\n",
      "[I 2024-07-24 01:22:33,501] Trial 32 finished with value: 0.27176229315954187 and parameters: {'depth': 10, 'learning_rate': 0.21128771946910097, 'l2_leaf_reg': 5.436398519823529, 'colsample_bylevel': 0.49141342723288806, 'bagging_temperature': 0.5322467178883554, 'border_count': 201, 'random_strength': 4.233805617085631}. Best is trial 26 with value: 0.32111830578122796.\n",
      "[I 2024-07-24 01:22:47,234] Trial 33 finished with value: 0.263043701291083 and parameters: {'depth': 9, 'learning_rate': 0.10238762112921063, 'l2_leaf_reg': 7.178280058418654, 'colsample_bylevel': 0.46711936896429423, 'bagging_temperature': 0.3960526252502969, 'border_count': 181, 'random_strength': 0.7358904613582338}. Best is trial 26 with value: 0.32111830578122796.\n",
      "[I 2024-07-24 01:22:57,535] Trial 34 finished with value: 0.2696215187768397 and parameters: {'depth': 8, 'learning_rate': 0.1590793882730907, 'l2_leaf_reg': 2.3605010624456115, 'colsample_bylevel': 0.7060154130726995, 'bagging_temperature': 0.24247479434190883, 'border_count': 231, 'random_strength': 0.3958729763607667}. Best is trial 26 with value: 0.32111830578122796.\n",
      "[I 2024-07-24 01:23:03,992] Trial 35 finished with value: 0.27815235773456093 and parameters: {'depth': 8, 'learning_rate': 0.27582984482140765, 'l2_leaf_reg': 6.150535884084581, 'colsample_bylevel': 0.5655912382176838, 'bagging_temperature': 0.5838958796151124, 'border_count': 207, 'random_strength': 2.6550337818623877}. Best is trial 26 with value: 0.32111830578122796.\n",
      "[I 2024-07-24 01:23:10,653] Trial 36 finished with value: 0.2696215187768397 and parameters: {'depth': 8, 'learning_rate': 0.1776046689596325, 'l2_leaf_reg': 4.683280259830546, 'colsample_bylevel': 0.6150076557030393, 'bagging_temperature': 0.8085359175699467, 'border_count': 183, 'random_strength': 1.4305723519548885}. Best is trial 26 with value: 0.32111830578122796.\n",
      "[I 2024-07-24 01:23:15,698] Trial 37 finished with value: 0.24651555195648425 and parameters: {'depth': 7, 'learning_rate': 0.1358849518987288, 'l2_leaf_reg': 4.290296874657468, 'colsample_bylevel': 0.5039931226489125, 'bagging_temperature': 0.49981660737484684, 'border_count': 160, 'random_strength': 4.728150498494076}. Best is trial 26 with value: 0.32111830578122796.\n",
      "[I 2024-07-24 01:24:29,617] Trial 38 finished with value: 0.2749351448735972 and parameters: {'depth': 10, 'learning_rate': 0.05228031135316529, 'l2_leaf_reg': 7.000439845544595, 'colsample_bylevel': 0.6408147996064527, 'bagging_temperature': 0.6210396606778371, 'border_count': 194, 'random_strength': 0.7521442313661231}. Best is trial 26 with value: 0.32111830578122796.\n",
      "[I 2024-07-24 01:24:35,559] Trial 39 finished with value: 0.2538741354822202 and parameters: {'depth': 7, 'learning_rate': 0.2255677232639003, 'l2_leaf_reg': 5.407899784497435, 'colsample_bylevel': 0.8026627946883883, 'bagging_temperature': 0.09363994948450194, 'border_count': 238, 'random_strength': 2.7791759010398858}. Best is trial 26 with value: 0.32111830578122796.\n",
      "[I 2024-07-24 01:24:37,863] Trial 40 finished with value: 0.2492470158585279 and parameters: {'depth': 6, 'learning_rate': 0.19768436788425808, 'l2_leaf_reg': 9.191955419088181, 'colsample_bylevel': 0.41187298562973895, 'bagging_temperature': 0.9247187683279359, 'border_count': 143, 'random_strength': 1.862893274782612}. Best is trial 26 with value: 0.32111830578122796.\n",
      "[I 2024-07-24 01:24:52,025] Trial 41 finished with value: 0.281849966942255 and parameters: {'depth': 9, 'learning_rate': 0.17597544918174643, 'l2_leaf_reg': 5.799792882645856, 'colsample_bylevel': 0.5144956170676143, 'bagging_temperature': 0.9540218896233513, 'border_count': 192, 'random_strength': 2.2339667102365888}. Best is trial 26 with value: 0.32111830578122796.\n",
      "[I 2024-07-24 01:25:07,047] Trial 42 finished with value: 0.28528044929966584 and parameters: {'depth': 9, 'learning_rate': 0.16807368455048682, 'l2_leaf_reg': 6.654019238828519, 'colsample_bylevel': 0.4726407221611445, 'bagging_temperature': 0.9119293814814519, 'border_count': 214, 'random_strength': 1.05916945850261}. Best is trial 26 with value: 0.32111830578122796.\n",
      "[I 2024-07-24 01:25:25,180] Trial 43 finished with value: 0.2722036874424181 and parameters: {'depth': 9, 'learning_rate': 0.10460634314552018, 'l2_leaf_reg': 6.034276780667172, 'colsample_bylevel': 0.541888635524147, 'bagging_temperature': 0.7969482423294613, 'border_count': 159, 'random_strength': 3.81472286538549}. Best is trial 26 with value: 0.32111830578122796.\n",
      "[I 2024-07-24 01:25:39,480] Trial 44 finished with value: 0.30210621962000656 and parameters: {'depth': 10, 'learning_rate': 0.1445655534991191, 'l2_leaf_reg': 5.247958619127591, 'colsample_bylevel': 0.4016149340133998, 'bagging_temperature': 0.32688509657219444, 'border_count': 134, 'random_strength': 2.9446743303067318}. Best is trial 26 with value: 0.32111830578122796.\n",
      "[I 2024-07-24 01:25:52,696] Trial 45 finished with value: 0.28668993751515076 and parameters: {'depth': 10, 'learning_rate': 0.1459608260918067, 'l2_leaf_reg': 5.267191611268359, 'colsample_bylevel': 0.39752023521843033, 'bagging_temperature': 0.30447329707689835, 'border_count': 135, 'random_strength': 3.0591529050817754}. Best is trial 26 with value: 0.32111830578122796.\n",
      "[I 2024-07-24 01:26:06,131] Trial 46 finished with value: 0.27851621957634226 and parameters: {'depth': 10, 'learning_rate': 0.13037431144333292, 'l2_leaf_reg': 7.372208623872555, 'colsample_bylevel': 0.32068731415164603, 'bagging_temperature': 0.4222415781664346, 'border_count': 113, 'random_strength': 4.360269813397142}. Best is trial 26 with value: 0.32111830578122796.\n",
      "[I 2024-07-24 01:26:24,235] Trial 47 finished with value: 0.2879656546257283 and parameters: {'depth': 10, 'learning_rate': 0.10492069131766024, 'l2_leaf_reg': 6.606953270635782, 'colsample_bylevel': 0.44011598122261086, 'bagging_temperature': 0.32817520332662703, 'border_count': 133, 'random_strength': 6.172216460363103}. Best is trial 26 with value: 0.32111830578122796.\n",
      "[I 2024-07-24 01:26:36,021] Trial 48 finished with value: 0.2565192623503015 and parameters: {'depth': 10, 'learning_rate': 0.2442317465080451, 'l2_leaf_reg': 8.059447025604355, 'colsample_bylevel': 0.38603391670637227, 'bagging_temperature': 0.24841409636605272, 'border_count': 156, 'random_strength': 5.041870209102548}. Best is trial 26 with value: 0.32111830578122796.\n",
      "[I 2024-07-24 01:26:38,849] Trial 49 finished with value: 0.26994741483113927 and parameters: {'depth': 8, 'learning_rate': 0.18857690575453934, 'l2_leaf_reg': 0.782964724990574, 'colsample_bylevel': 0.3384281106572753, 'bagging_temperature': 0.20318520521995131, 'border_count': 173, 'random_strength': 0.3508009022100724}. Best is trial 26 with value: 0.32111830578122796.\n",
      "[I 2024-07-24 01:26:41,350] Trial 50 finished with value: 0.31417798970127897 and parameters: {'depth': 6, 'learning_rate': 0.11528783233333115, 'l2_leaf_reg': 3.4365863116436146, 'colsample_bylevel': 0.9878270218841938, 'bagging_temperature': 0.4779207305909271, 'border_count': 98, 'random_strength': 2.672278447975626}. Best is trial 26 with value: 0.32111830578122796.\n",
      "[I 2024-07-24 01:26:44,136] Trial 51 finished with value: 0.22946066694563713 and parameters: {'depth': 5, 'learning_rate': 0.11335738371523804, 'l2_leaf_reg': 2.9734627929567377, 'colsample_bylevel': 0.9822562075114474, 'bagging_temperature': 0.4912296439331778, 'border_count': 99, 'random_strength': 2.633775534115187}. Best is trial 26 with value: 0.32111830578122796.\n",
      "[I 2024-07-24 01:26:45,607] Trial 52 finished with value: 0.24908067783207571 and parameters: {'depth': 4, 'learning_rate': 0.14833051649114498, 'l2_leaf_reg': 3.462732916695462, 'colsample_bylevel': 0.9282582248631506, 'bagging_temperature': 0.39402557670544475, 'border_count': 78, 'random_strength': 1.8104126992076006}. Best is trial 26 with value: 0.32111830578122796.\n",
      "[I 2024-07-24 01:26:47,816] Trial 53 finished with value: 0.26860070954586507 and parameters: {'depth': 6, 'learning_rate': 0.12502503109378704, 'l2_leaf_reg': 2.0199899949028666, 'colsample_bylevel': 0.47704946277873705, 'bagging_temperature': 0.5723142973966329, 'border_count': 121, 'random_strength': 1.0868030526781487}. Best is trial 26 with value: 0.32111830578122796.\n",
      "[I 2024-07-24 01:26:52,619] Trial 54 finished with value: 0.25221847773103767 and parameters: {'depth': 6, 'learning_rate': 0.08781866626218843, 'l2_leaf_reg': 5.074371192742056, 'colsample_bylevel': 0.890042178956504, 'bagging_temperature': 0.3572975875386408, 'border_count': 148, 'random_strength': 3.7320227754621023}. Best is trial 26 with value: 0.32111830578122796.\n",
      "[I 2024-07-24 01:26:55,880] Trial 55 finished with value: 0.24449310246615266 and parameters: {'depth': 7, 'learning_rate': 0.1606667825993747, 'l2_leaf_reg': 4.191301101968699, 'colsample_bylevel': 0.4511374829771292, 'bagging_temperature': 0.4582213543997382, 'border_count': 88, 'random_strength': 3.180787213212464}. Best is trial 26 with value: 0.32111830578122796.\n",
      "[I 2024-07-24 01:27:00,467] Trial 56 finished with value: 0.2737835445592372 and parameters: {'depth': 7, 'learning_rate': 0.11628927853666336, 'l2_leaf_reg': 6.6604132945469665, 'colsample_bylevel': 0.529891022635591, 'bagging_temperature': 0.6465482826006194, 'border_count': 108, 'random_strength': 5.723391617605224}. Best is trial 26 with value: 0.32111830578122796.\n",
      "[I 2024-07-24 01:27:05,000] Trial 57 finished with value: 0.24735833100658408 and parameters: {'depth': 5, 'learning_rate': 0.058305339644419904, 'l2_leaf_reg': 4.660718979064835, 'colsample_bylevel': 0.6217704893003734, 'bagging_temperature': 0.7718719820449643, 'border_count': 116, 'random_strength': 1.4712055771594823}. Best is trial 26 with value: 0.32111830578122796.\n",
      "[I 2024-07-24 01:27:27,017] Trial 58 finished with value: 0.2463447540937771 and parameters: {'depth': 9, 'learning_rate': 0.20840659692064556, 'l2_leaf_reg': 6.407165481042731, 'colsample_bylevel': 0.5674971492599452, 'bagging_temperature': 0.2825554264419229, 'border_count': 247, 'random_strength': 2.5072551362335393}. Best is trial 26 with value: 0.32111830578122796.\n",
      "[I 2024-07-24 01:28:00,400] Trial 59 finished with value: 0.29480275443402637 and parameters: {'depth': 10, 'learning_rate': 0.09462329622438284, 'l2_leaf_reg': 3.0418205329388566, 'colsample_bylevel': 0.7310319540197574, 'bagging_temperature': 0.5249630366700223, 'border_count': 103, 'random_strength': 4.205671434265818}. Best is trial 26 with value: 0.32111830578122796.\n",
      "[I 2024-07-24 01:28:04,680] Trial 60 finished with value: 0.26099116335888173 and parameters: {'depth': 6, 'learning_rate': 0.14090494518084007, 'l2_leaf_reg': 8.027271765188646, 'colsample_bylevel': 0.6696296714911618, 'bagging_temperature': 0.8600067492083058, 'border_count': 169, 'random_strength': 0.4640190578509138}. Best is trial 26 with value: 0.32111830578122796.\n",
      "[I 2024-07-24 01:28:18,883] Trial 61 finished with value: 0.2355927299177841 and parameters: {'depth': 9, 'learning_rate': 0.16615723907686916, 'l2_leaf_reg': 5.879858794282882, 'colsample_bylevel': 0.5165471048080906, 'bagging_temperature': 0.9826606915899573, 'border_count': 207, 'random_strength': 2.0267844346096133}. Best is trial 26 with value: 0.32111830578122796.\n",
      "[I 2024-07-24 01:28:31,887] Trial 62 finished with value: 0.2520720841796518 and parameters: {'depth': 9, 'learning_rate': 0.1517119255091235, 'l2_leaf_reg': 5.568617118795638, 'colsample_bylevel': 0.4302276699618131, 'bagging_temperature': 0.9526756888763143, 'border_count': 130, 'random_strength': 2.2729812751045606}. Best is trial 26 with value: 0.32111830578122796.\n",
      "[I 2024-07-24 01:28:45,188] Trial 63 finished with value: 0.264595840440301 and parameters: {'depth': 9, 'learning_rate': 0.18523388704083618, 'l2_leaf_reg': 5.061226725437755, 'colsample_bylevel': 0.4862857582938127, 'bagging_temperature': 0.8416387920445599, 'border_count': 185, 'random_strength': 3.433899255127464}. Best is trial 26 with value: 0.32111830578122796.\n",
      "[I 2024-07-24 01:28:58,922] Trial 64 finished with value: 0.29744883211000317 and parameters: {'depth': 8, 'learning_rate': 0.13125440129625557, 'l2_leaf_reg': 5.673113680222681, 'colsample_bylevel': 0.5923834370478872, 'bagging_temperature': 0.8827259260436046, 'border_count': 200, 'random_strength': 1.4874118018271982}. Best is trial 26 with value: 0.32111830578122796.\n",
      "[I 2024-07-24 01:29:56,458] Trial 65 finished with value: 0.26403669590998563 and parameters: {'depth': 10, 'learning_rate': 0.27703043969492375, 'l2_leaf_reg': 7.572698209797021, 'colsample_bylevel': 0.9848972495555269, 'bagging_temperature': 0.9424154143824549, 'border_count': 224, 'random_strength': 2.9327832997796124}. Best is trial 26 with value: 0.32111830578122796.\n",
      "[I 2024-07-24 01:30:20,406] Trial 66 finished with value: 0.28468886229948825 and parameters: {'depth': 10, 'learning_rate': 0.16599367986816416, 'l2_leaf_reg': 7.173275321465719, 'colsample_bylevel': 0.5355326659150206, 'bagging_temperature': 0.16514757827481652, 'border_count': 141, 'random_strength': 2.4371378328593227}. Best is trial 26 with value: 0.32111830578122796.\n",
      "[I 2024-07-24 01:30:41,653] Trial 67 finished with value: 0.28138486423052833 and parameters: {'depth': 9, 'learning_rate': 0.11005041771036357, 'l2_leaf_reg': 6.349989683680101, 'colsample_bylevel': 0.8036579265991776, 'bagging_temperature': 0.45781704883331603, 'border_count': 90, 'random_strength': 9.306769020326051}. Best is trial 26 with value: 0.32111830578122796.\n",
      "[I 2024-07-24 01:30:47,050] Trial 68 finished with value: 0.283016945205607 and parameters: {'depth': 8, 'learning_rate': 0.17567173455038124, 'l2_leaf_reg': 3.9431709828653925, 'colsample_bylevel': 0.4525883837244661, 'bagging_temperature': 0.7063983458583774, 'border_count': 167, 'random_strength': 7.271601652174667}. Best is trial 26 with value: 0.32111830578122796.\n",
      "[I 2024-07-24 01:30:54,019] Trial 69 finished with value: 0.2643188348513782 and parameters: {'depth': 7, 'learning_rate': 0.12352345832787702, 'l2_leaf_reg': 6.87221325225853, 'colsample_bylevel': 0.495993647012229, 'bagging_temperature': 0.4131794093483111, 'border_count': 188, 'random_strength': 0.833721902691193}. Best is trial 26 with value: 0.32111830578122796.\n",
      "[I 2024-07-24 01:31:13,121] Trial 70 finished with value: 0.2890969247056945 and parameters: {'depth': 9, 'learning_rate': 0.13979770172778083, 'l2_leaf_reg': 6.109273147746466, 'colsample_bylevel': 0.4019257580336636, 'bagging_temperature': 0.9957824700733923, 'border_count': 215, 'random_strength': 1.1769239596322523}. Best is trial 26 with value: 0.32111830578122796.\n",
      "[I 2024-07-24 01:31:26,211] Trial 71 finished with value: 0.25931230892078794 and parameters: {'depth': 8, 'learning_rate': 0.13201117522432354, 'l2_leaf_reg': 5.663679928698029, 'colsample_bylevel': 0.5860263298942519, 'bagging_temperature': 0.882307385603774, 'border_count': 201, 'random_strength': 1.5620963566424937}. Best is trial 26 with value: 0.32111830578122796.\n",
      "[I 2024-07-24 01:31:38,189] Trial 72 finished with value: 0.3011162414461125 and parameters: {'depth': 8, 'learning_rate': 0.15763347777569992, 'l2_leaf_reg': 5.206046789656622, 'colsample_bylevel': 0.5949182052679678, 'bagging_temperature': 0.8965232564786786, 'border_count': 206, 'random_strength': 1.9952172723623915}. Best is trial 26 with value: 0.32111830578122796.\n",
      "[I 2024-07-24 01:32:00,036] Trial 73 finished with value: 0.30923961675034756 and parameters: {'depth': 9, 'learning_rate': 0.15327839370356508, 'l2_leaf_reg': 4.965035073643547, 'colsample_bylevel': 0.5583408729327181, 'bagging_temperature': 0.8374131783374524, 'border_count': 231, 'random_strength': 2.1443233614065327}. Best is trial 26 with value: 0.32111830578122796.\n",
      "[I 2024-07-24 01:32:10,056] Trial 74 finished with value: 0.2659581240458053 and parameters: {'depth': 8, 'learning_rate': 0.14696797262580907, 'l2_leaf_reg': 4.873367734931834, 'colsample_bylevel': 0.5694860502247838, 'bagging_temperature': 0.7713704118060941, 'border_count': 255, 'random_strength': 1.907880892538336}. Best is trial 26 with value: 0.32111830578122796.\n",
      "[I 2024-07-24 01:32:52,528] Trial 75 finished with value: 0.2751770854607632 and parameters: {'depth': 10, 'learning_rate': 0.15539132560286192, 'l2_leaf_reg': 5.265962000893853, 'colsample_bylevel': 0.6077265482213183, 'bagging_temperature': 0.7386282083818433, 'border_count': 236, 'random_strength': 0.0500164417432416}. Best is trial 26 with value: 0.32111830578122796.\n",
      "[I 2024-07-24 01:33:10,501] Trial 76 finished with value: 0.23524433769654315 and parameters: {'depth': 9, 'learning_rate': 0.2997329242570257, 'l2_leaf_reg': 4.494277436191971, 'colsample_bylevel': 0.6269147742655264, 'bagging_temperature': 0.8271651490920271, 'border_count': 244, 'random_strength': 1.278299558750629}. Best is trial 26 with value: 0.32111830578122796.\n",
      "[I 2024-07-24 01:33:32,769] Trial 77 finished with value: 0.29364364102029855 and parameters: {'depth': 9, 'learning_rate': 0.09764334910168412, 'l2_leaf_reg': 3.385633182596448, 'colsample_bylevel': 0.5563862227184074, 'bagging_temperature': 0.6678589671443214, 'border_count': 230, 'random_strength': 2.9809556099087207}. Best is trial 26 with value: 0.32111830578122796.\n",
      "[I 2024-07-24 01:33:46,213] Trial 78 finished with value: 0.22500938763622758 and parameters: {'depth': 7, 'learning_rate': 0.0790266104308594, 'l2_leaf_reg': 3.8660560911407913, 'colsample_bylevel': 0.6389980133775065, 'bagging_temperature': 0.8985785545416247, 'border_count': 210, 'random_strength': 5.40123835870987}. Best is trial 26 with value: 0.32111830578122796.\n",
      "[I 2024-07-24 01:34:21,827] Trial 79 finished with value: 0.3122469591048389 and parameters: {'depth': 10, 'learning_rate': 0.1203264308771618, 'l2_leaf_reg': 2.744629752277101, 'colsample_bylevel': 0.6603135650405376, 'bagging_temperature': 0.611092613202423, 'border_count': 221, 'random_strength': 4.659516949312659}. Best is trial 26 with value: 0.32111830578122796.\n",
      "[I 2024-07-24 01:35:08,461] Trial 80 finished with value: 0.2444548793675439 and parameters: {'depth': 10, 'learning_rate': 0.11966723723784582, 'l2_leaf_reg': 1.4287287686768053, 'colsample_bylevel': 0.680997302898608, 'bagging_temperature': 0.5577864269220633, 'border_count': 235, 'random_strength': 6.303460953611746}. Best is trial 26 with value: 0.32111830578122796.\n",
      "[I 2024-07-24 01:35:58,560] Trial 81 finished with value: 0.29159131184256815 and parameters: {'depth': 10, 'learning_rate': 0.1398857625104941, 'l2_leaf_reg': 2.6622351488838816, 'colsample_bylevel': 0.6548503770708877, 'bagging_temperature': 0.610746950617876, 'border_count': 222, 'random_strength': 4.833368731337685}. Best is trial 26 with value: 0.32111830578122796.\n",
      "[I 2024-07-24 01:36:40,301] Trial 82 finished with value: 0.23917369908895597 and parameters: {'depth': 10, 'learning_rate': 0.1597768711977318, 'l2_leaf_reg': 2.260783911655765, 'colsample_bylevel': 0.7898028228190681, 'bagging_temperature': 0.47700114661200205, 'border_count': 227, 'random_strength': 2.342128963205566}. Best is trial 26 with value: 0.32111830578122796.\n",
      "[I 2024-07-24 01:37:13,523] Trial 83 finished with value: 0.30567782832705226 and parameters: {'depth': 10, 'learning_rate': 0.2350273390993314, 'l2_leaf_reg': 5.987551504519334, 'colsample_bylevel': 0.6914177163924187, 'bagging_temperature': 0.5310140035413716, 'border_count': 249, 'random_strength': 1.753009136260034}. Best is trial 26 with value: 0.32111830578122796.\n",
      "[I 2024-07-24 01:37:41,245] Trial 84 finished with value: 0.2888574214613084 and parameters: {'depth': 10, 'learning_rate': 0.2687138202550952, 'l2_leaf_reg': 1.901580834846901, 'colsample_bylevel': 0.7181011975657884, 'bagging_temperature': 0.5028002631038712, 'border_count': 247, 'random_strength': 4.475874747774331}. Best is trial 26 with value: 0.32111830578122796.\n",
      "[I 2024-07-24 01:38:11,323] Trial 85 finished with value: 0.2516554984064407 and parameters: {'depth': 10, 'learning_rate': 0.2877850564124499, 'l2_leaf_reg': 5.957282543911828, 'colsample_bylevel': 0.693308360657146, 'bagging_temperature': 0.5171300643393208, 'border_count': 248, 'random_strength': 4.063646479010576}. Best is trial 26 with value: 0.32111830578122796.\n",
      "[I 2024-07-24 01:38:46,770] Trial 86 finished with value: 0.27504679617597905 and parameters: {'depth': 10, 'learning_rate': 0.25531211444126134, 'l2_leaf_reg': 6.469196999699408, 'colsample_bylevel': 0.7444964979549291, 'bagging_temperature': 0.4373552872524807, 'border_count': 239, 'random_strength': 3.4643221620108724}. Best is trial 26 with value: 0.32111830578122796.\n",
      "[I 2024-07-24 01:39:17,707] Trial 87 finished with value: 0.33909476790256604 and parameters: {'depth': 10, 'learning_rate': 0.2282043414943379, 'l2_leaf_reg': 2.7207176144764875, 'colsample_bylevel': 0.829719940547496, 'bagging_temperature': 0.5423801085404945, 'border_count': 232, 'random_strength': 1.7264811960787378}. Best is trial 87 with value: 0.33909476790256604.\n",
      "[I 2024-07-24 01:39:33,720] Trial 88 finished with value: 0.2646989105364545 and parameters: {'depth': 9, 'learning_rate': 0.2282879769898262, 'l2_leaf_reg': 2.6182926685169408, 'colsample_bylevel': 0.8738559414688987, 'bagging_temperature': 0.5968453676091343, 'border_count': 216, 'random_strength': 1.675932108064703}. Best is trial 87 with value: 0.33909476790256604.\n",
      "[I 2024-07-24 01:39:36,770] Trial 89 finished with value: 0.29498980724974266 and parameters: {'depth': 6, 'learning_rate': 0.2372132398350163, 'l2_leaf_reg': 1.5104431089588122, 'colsample_bylevel': 0.7725711193442815, 'bagging_temperature': 0.6456051537832996, 'border_count': 234, 'random_strength': 0.6118550923876667}. Best is trial 87 with value: 0.33909476790256604.\n",
      "[I 2024-07-24 01:39:38,540] Trial 90 finished with value: 0.24137596158884084 and parameters: {'depth': 5, 'learning_rate': 0.24886134520351325, 'l2_leaf_reg': 2.7941352785127753, 'colsample_bylevel': 0.9535786563615916, 'bagging_temperature': 0.5468708847589319, 'border_count': 219, 'random_strength': 0.9267776756829758}. Best is trial 87 with value: 0.33909476790256604.\n",
      "[I 2024-07-24 01:40:31,833] Trial 91 finished with value: 0.3058133230244962 and parameters: {'depth': 10, 'learning_rate': 0.23575799625111138, 'l2_leaf_reg': 3.319867670709815, 'colsample_bylevel': 0.9124788346820311, 'bagging_temperature': 0.5681988250210525, 'border_count': 252, 'random_strength': 2.6912158534672}. Best is trial 87 with value: 0.33909476790256604.\n",
      "[I 2024-07-24 01:41:31,599] Trial 92 finished with value: 0.2558435782638009 and parameters: {'depth': 10, 'learning_rate': 0.21283493102666445, 'l2_leaf_reg': 3.3244635674857292, 'colsample_bylevel': 0.9611837245023677, 'bagging_temperature': 0.47594327086958743, 'border_count': 252, 'random_strength': 1.7515375330389618}. Best is trial 87 with value: 0.33909476790256604.\n",
      "[I 2024-07-24 01:42:07,647] Trial 93 finished with value: 0.2847733385350597 and parameters: {'depth': 10, 'learning_rate': 0.23507872511130823, 'l2_leaf_reg': 3.192955731695445, 'colsample_bylevel': 0.898367231951627, 'bagging_temperature': 0.5675104296441252, 'border_count': 243, 'random_strength': 2.160598893634328}. Best is trial 87 with value: 0.33909476790256604.\n",
      "[I 2024-07-24 01:42:49,940] Trial 94 finished with value: 0.2747707095455916 and parameters: {'depth': 10, 'learning_rate': 0.2025811109600551, 'l2_leaf_reg': 3.5891545303397048, 'colsample_bylevel': 0.8353417467607196, 'bagging_temperature': 0.5896817324371734, 'border_count': 230, 'random_strength': 2.4509629332218754}. Best is trial 87 with value: 0.33909476790256604.\n",
      "[I 2024-07-24 01:43:26,009] Trial 95 finished with value: 0.28098234331292976 and parameters: {'depth': 10, 'learning_rate': 0.21873863814505537, 'l2_leaf_reg': 2.316974198246336, 'colsample_bylevel': 0.9093478506539667, 'bagging_temperature': 0.5303356449549372, 'border_count': 250, 'random_strength': 1.2788030862946143}. Best is trial 87 with value: 0.33909476790256604.\n",
      "[I 2024-07-24 01:43:48,537] Trial 96 finished with value: 0.2761985199496325 and parameters: {'depth': 9, 'learning_rate': 0.2555547074023387, 'l2_leaf_reg': 7.337568564536521, 'colsample_bylevel': 0.934515998700953, 'bagging_temperature': 0.5087273208074061, 'border_count': 240, 'random_strength': 2.645089842209369}. Best is trial 87 with value: 0.33909476790256604.\n",
      "[I 2024-07-24 01:44:24,473] Trial 97 finished with value: 0.28288172464168054 and parameters: {'depth': 10, 'learning_rate': 0.26520717389174003, 'l2_leaf_reg': 1.988452926870253, 'colsample_bylevel': 0.9955901919110793, 'bagging_temperature': 0.3822270053013244, 'border_count': 225, 'random_strength': 0.5649811999684135}. Best is trial 87 with value: 0.33909476790256604.\n",
      "[I 2024-07-24 01:45:02,576] Trial 98 finished with value: 0.276686342348146 and parameters: {'depth': 10, 'learning_rate': 0.2298683219179536, 'l2_leaf_reg': 4.168009449281544, 'colsample_bylevel': 0.8300484846388908, 'bagging_temperature': 0.6251176037196648, 'border_count': 255, 'random_strength': 3.238735918434835}. Best is trial 87 with value: 0.33909476790256604.\n",
      "[I 2024-07-24 01:45:22,765] Trial 99 finished with value: 0.2843458243928509 and parameters: {'depth': 9, 'learning_rate': 0.24808699850827684, 'l2_leaf_reg': 6.862784553358505, 'colsample_bylevel': 0.8670933925397104, 'bagging_temperature': 0.4284512266588306, 'border_count': 244, 'random_strength': 2.833897254467949}. Best is trial 87 with value: 0.33909476790256604.\n"
     ]
    }
   ],
   "source": [
    "study = optuna.create_study(direction=\"maximize\")\n",
    "study.optimize(multi_objective, n_trials=n_trials)"
   ]
  },
  {
   "cell_type": "code",
   "execution_count": 24,
   "metadata": {},
   "outputs": [
    {
     "data": {
      "application/vnd.plotly.v1+json": {
       "config": {
        "plotlyServerURL": "https://plot.ly"
       },
       "data": [
        {
         "mode": "markers",
         "name": "Objective Value",
         "type": "scatter",
         "x": [
          0,
          1,
          2,
          3,
          4,
          5,
          6,
          7,
          8,
          9,
          10,
          11,
          12,
          13,
          14,
          15,
          16,
          17,
          18,
          19,
          20,
          21,
          22,
          23,
          24,
          25,
          26,
          27,
          28,
          29,
          30,
          31,
          32,
          33,
          34,
          35,
          36,
          37,
          38,
          39,
          40,
          41,
          42,
          43,
          44,
          45,
          46,
          47,
          48,
          49,
          50,
          51,
          52,
          53,
          54,
          55,
          56,
          57,
          58,
          59,
          60,
          61,
          62,
          63,
          64,
          65,
          66,
          67,
          68,
          69,
          70,
          71,
          72,
          73,
          74,
          75,
          76,
          77,
          78,
          79,
          80,
          81,
          82,
          83,
          84,
          85,
          86,
          87,
          88,
          89,
          90,
          91,
          92,
          93,
          94,
          95,
          96,
          97,
          98,
          99
         ],
         "y": [
          0.25759879013504894,
          0.25833367699442933,
          0.27626408014645437,
          0.31074899905245124,
          0.2622886634707331,
          0.26742913944034347,
          0.2771534772559707,
          0.2504670209369187,
          0.32034034304363584,
          0.2633021234471999,
          0.2463447540937771,
          0.2758722546211954,
          0.2644321711522616,
          0.28914192959876656,
          0.2802732215298369,
          0.2571396200409157,
          0.28577822727756347,
          0.25135523330892223,
          0.2798541312296878,
          0.2801464344965593,
          0.2444778231062266,
          0.24725655729148704,
          0.2896927563133811,
          0.289959382436001,
          0.2791584643265105,
          0.2661676295032037,
          0.32111830578122796,
          0.30573837847731394,
          0.24967253547463852,
          0.2754304516492608,
          0.25466844969250013,
          0.30064291405983445,
          0.27176229315954187,
          0.263043701291083,
          0.2696215187768397,
          0.27815235773456093,
          0.2696215187768397,
          0.24651555195648425,
          0.2749351448735972,
          0.2538741354822202,
          0.2492470158585279,
          0.281849966942255,
          0.28528044929966584,
          0.2722036874424181,
          0.30210621962000656,
          0.28668993751515076,
          0.27851621957634226,
          0.2879656546257283,
          0.2565192623503015,
          0.26994741483113927,
          0.31417798970127897,
          0.22946066694563713,
          0.24908067783207571,
          0.26860070954586507,
          0.25221847773103767,
          0.24449310246615266,
          0.2737835445592372,
          0.24735833100658408,
          0.2463447540937771,
          0.29480275443402637,
          0.26099116335888173,
          0.2355927299177841,
          0.2520720841796518,
          0.264595840440301,
          0.29744883211000317,
          0.26403669590998563,
          0.28468886229948825,
          0.28138486423052833,
          0.283016945205607,
          0.2643188348513782,
          0.2890969247056945,
          0.25931230892078794,
          0.3011162414461125,
          0.30923961675034756,
          0.2659581240458053,
          0.2751770854607632,
          0.23524433769654315,
          0.29364364102029855,
          0.22500938763622758,
          0.3122469591048389,
          0.2444548793675439,
          0.29159131184256815,
          0.23917369908895597,
          0.30567782832705226,
          0.2888574214613084,
          0.2516554984064407,
          0.27504679617597905,
          0.33909476790256604,
          0.2646989105364545,
          0.29498980724974266,
          0.24137596158884084,
          0.3058133230244962,
          0.2558435782638009,
          0.2847733385350597,
          0.2747707095455916,
          0.28098234331292976,
          0.2761985199496325,
          0.28288172464168054,
          0.276686342348146,
          0.2843458243928509
         ]
        },
        {
         "mode": "lines",
         "name": "Best Value",
         "type": "scatter",
         "x": [
          0,
          1,
          2,
          3,
          4,
          5,
          6,
          7,
          8,
          9,
          10,
          11,
          12,
          13,
          14,
          15,
          16,
          17,
          18,
          19,
          20,
          21,
          22,
          23,
          24,
          25,
          26,
          27,
          28,
          29,
          30,
          31,
          32,
          33,
          34,
          35,
          36,
          37,
          38,
          39,
          40,
          41,
          42,
          43,
          44,
          45,
          46,
          47,
          48,
          49,
          50,
          51,
          52,
          53,
          54,
          55,
          56,
          57,
          58,
          59,
          60,
          61,
          62,
          63,
          64,
          65,
          66,
          67,
          68,
          69,
          70,
          71,
          72,
          73,
          74,
          75,
          76,
          77,
          78,
          79,
          80,
          81,
          82,
          83,
          84,
          85,
          86,
          87,
          88,
          89,
          90,
          91,
          92,
          93,
          94,
          95,
          96,
          97,
          98,
          99
         ],
         "y": [
          0.25759879013504894,
          0.25833367699442933,
          0.27626408014645437,
          0.31074899905245124,
          0.31074899905245124,
          0.31074899905245124,
          0.31074899905245124,
          0.31074899905245124,
          0.32034034304363584,
          0.32034034304363584,
          0.32034034304363584,
          0.32034034304363584,
          0.32034034304363584,
          0.32034034304363584,
          0.32034034304363584,
          0.32034034304363584,
          0.32034034304363584,
          0.32034034304363584,
          0.32034034304363584,
          0.32034034304363584,
          0.32034034304363584,
          0.32034034304363584,
          0.32034034304363584,
          0.32034034304363584,
          0.32034034304363584,
          0.32034034304363584,
          0.32111830578122796,
          0.32111830578122796,
          0.32111830578122796,
          0.32111830578122796,
          0.32111830578122796,
          0.32111830578122796,
          0.32111830578122796,
          0.32111830578122796,
          0.32111830578122796,
          0.32111830578122796,
          0.32111830578122796,
          0.32111830578122796,
          0.32111830578122796,
          0.32111830578122796,
          0.32111830578122796,
          0.32111830578122796,
          0.32111830578122796,
          0.32111830578122796,
          0.32111830578122796,
          0.32111830578122796,
          0.32111830578122796,
          0.32111830578122796,
          0.32111830578122796,
          0.32111830578122796,
          0.32111830578122796,
          0.32111830578122796,
          0.32111830578122796,
          0.32111830578122796,
          0.32111830578122796,
          0.32111830578122796,
          0.32111830578122796,
          0.32111830578122796,
          0.32111830578122796,
          0.32111830578122796,
          0.32111830578122796,
          0.32111830578122796,
          0.32111830578122796,
          0.32111830578122796,
          0.32111830578122796,
          0.32111830578122796,
          0.32111830578122796,
          0.32111830578122796,
          0.32111830578122796,
          0.32111830578122796,
          0.32111830578122796,
          0.32111830578122796,
          0.32111830578122796,
          0.32111830578122796,
          0.32111830578122796,
          0.32111830578122796,
          0.32111830578122796,
          0.32111830578122796,
          0.32111830578122796,
          0.32111830578122796,
          0.32111830578122796,
          0.32111830578122796,
          0.32111830578122796,
          0.32111830578122796,
          0.32111830578122796,
          0.32111830578122796,
          0.32111830578122796,
          0.33909476790256604,
          0.33909476790256604,
          0.33909476790256604,
          0.33909476790256604,
          0.33909476790256604,
          0.33909476790256604,
          0.33909476790256604,
          0.33909476790256604,
          0.33909476790256604,
          0.33909476790256604,
          0.33909476790256604,
          0.33909476790256604,
          0.33909476790256604
         ]
        },
        {
         "marker": {
          "color": "#cccccc"
         },
         "mode": "markers",
         "name": "Infeasible Trial",
         "showlegend": false,
         "type": "scatter",
         "x": [],
         "y": []
        }
       ],
       "layout": {
        "template": {
         "data": {
          "bar": [
           {
            "error_x": {
             "color": "#2a3f5f"
            },
            "error_y": {
             "color": "#2a3f5f"
            },
            "marker": {
             "line": {
              "color": "#E5ECF6",
              "width": 0.5
             },
             "pattern": {
              "fillmode": "overlay",
              "size": 10,
              "solidity": 0.2
             }
            },
            "type": "bar"
           }
          ],
          "barpolar": [
           {
            "marker": {
             "line": {
              "color": "#E5ECF6",
              "width": 0.5
             },
             "pattern": {
              "fillmode": "overlay",
              "size": 10,
              "solidity": 0.2
             }
            },
            "type": "barpolar"
           }
          ],
          "carpet": [
           {
            "aaxis": {
             "endlinecolor": "#2a3f5f",
             "gridcolor": "white",
             "linecolor": "white",
             "minorgridcolor": "white",
             "startlinecolor": "#2a3f5f"
            },
            "baxis": {
             "endlinecolor": "#2a3f5f",
             "gridcolor": "white",
             "linecolor": "white",
             "minorgridcolor": "white",
             "startlinecolor": "#2a3f5f"
            },
            "type": "carpet"
           }
          ],
          "choropleth": [
           {
            "colorbar": {
             "outlinewidth": 0,
             "ticks": ""
            },
            "type": "choropleth"
           }
          ],
          "contour": [
           {
            "colorbar": {
             "outlinewidth": 0,
             "ticks": ""
            },
            "colorscale": [
             [
              0,
              "#0d0887"
             ],
             [
              0.1111111111111111,
              "#46039f"
             ],
             [
              0.2222222222222222,
              "#7201a8"
             ],
             [
              0.3333333333333333,
              "#9c179e"
             ],
             [
              0.4444444444444444,
              "#bd3786"
             ],
             [
              0.5555555555555556,
              "#d8576b"
             ],
             [
              0.6666666666666666,
              "#ed7953"
             ],
             [
              0.7777777777777778,
              "#fb9f3a"
             ],
             [
              0.8888888888888888,
              "#fdca26"
             ],
             [
              1,
              "#f0f921"
             ]
            ],
            "type": "contour"
           }
          ],
          "contourcarpet": [
           {
            "colorbar": {
             "outlinewidth": 0,
             "ticks": ""
            },
            "type": "contourcarpet"
           }
          ],
          "heatmap": [
           {
            "colorbar": {
             "outlinewidth": 0,
             "ticks": ""
            },
            "colorscale": [
             [
              0,
              "#0d0887"
             ],
             [
              0.1111111111111111,
              "#46039f"
             ],
             [
              0.2222222222222222,
              "#7201a8"
             ],
             [
              0.3333333333333333,
              "#9c179e"
             ],
             [
              0.4444444444444444,
              "#bd3786"
             ],
             [
              0.5555555555555556,
              "#d8576b"
             ],
             [
              0.6666666666666666,
              "#ed7953"
             ],
             [
              0.7777777777777778,
              "#fb9f3a"
             ],
             [
              0.8888888888888888,
              "#fdca26"
             ],
             [
              1,
              "#f0f921"
             ]
            ],
            "type": "heatmap"
           }
          ],
          "heatmapgl": [
           {
            "colorbar": {
             "outlinewidth": 0,
             "ticks": ""
            },
            "colorscale": [
             [
              0,
              "#0d0887"
             ],
             [
              0.1111111111111111,
              "#46039f"
             ],
             [
              0.2222222222222222,
              "#7201a8"
             ],
             [
              0.3333333333333333,
              "#9c179e"
             ],
             [
              0.4444444444444444,
              "#bd3786"
             ],
             [
              0.5555555555555556,
              "#d8576b"
             ],
             [
              0.6666666666666666,
              "#ed7953"
             ],
             [
              0.7777777777777778,
              "#fb9f3a"
             ],
             [
              0.8888888888888888,
              "#fdca26"
             ],
             [
              1,
              "#f0f921"
             ]
            ],
            "type": "heatmapgl"
           }
          ],
          "histogram": [
           {
            "marker": {
             "pattern": {
              "fillmode": "overlay",
              "size": 10,
              "solidity": 0.2
             }
            },
            "type": "histogram"
           }
          ],
          "histogram2d": [
           {
            "colorbar": {
             "outlinewidth": 0,
             "ticks": ""
            },
            "colorscale": [
             [
              0,
              "#0d0887"
             ],
             [
              0.1111111111111111,
              "#46039f"
             ],
             [
              0.2222222222222222,
              "#7201a8"
             ],
             [
              0.3333333333333333,
              "#9c179e"
             ],
             [
              0.4444444444444444,
              "#bd3786"
             ],
             [
              0.5555555555555556,
              "#d8576b"
             ],
             [
              0.6666666666666666,
              "#ed7953"
             ],
             [
              0.7777777777777778,
              "#fb9f3a"
             ],
             [
              0.8888888888888888,
              "#fdca26"
             ],
             [
              1,
              "#f0f921"
             ]
            ],
            "type": "histogram2d"
           }
          ],
          "histogram2dcontour": [
           {
            "colorbar": {
             "outlinewidth": 0,
             "ticks": ""
            },
            "colorscale": [
             [
              0,
              "#0d0887"
             ],
             [
              0.1111111111111111,
              "#46039f"
             ],
             [
              0.2222222222222222,
              "#7201a8"
             ],
             [
              0.3333333333333333,
              "#9c179e"
             ],
             [
              0.4444444444444444,
              "#bd3786"
             ],
             [
              0.5555555555555556,
              "#d8576b"
             ],
             [
              0.6666666666666666,
              "#ed7953"
             ],
             [
              0.7777777777777778,
              "#fb9f3a"
             ],
             [
              0.8888888888888888,
              "#fdca26"
             ],
             [
              1,
              "#f0f921"
             ]
            ],
            "type": "histogram2dcontour"
           }
          ],
          "mesh3d": [
           {
            "colorbar": {
             "outlinewidth": 0,
             "ticks": ""
            },
            "type": "mesh3d"
           }
          ],
          "parcoords": [
           {
            "line": {
             "colorbar": {
              "outlinewidth": 0,
              "ticks": ""
             }
            },
            "type": "parcoords"
           }
          ],
          "pie": [
           {
            "automargin": true,
            "type": "pie"
           }
          ],
          "scatter": [
           {
            "fillpattern": {
             "fillmode": "overlay",
             "size": 10,
             "solidity": 0.2
            },
            "type": "scatter"
           }
          ],
          "scatter3d": [
           {
            "line": {
             "colorbar": {
              "outlinewidth": 0,
              "ticks": ""
             }
            },
            "marker": {
             "colorbar": {
              "outlinewidth": 0,
              "ticks": ""
             }
            },
            "type": "scatter3d"
           }
          ],
          "scattercarpet": [
           {
            "marker": {
             "colorbar": {
              "outlinewidth": 0,
              "ticks": ""
             }
            },
            "type": "scattercarpet"
           }
          ],
          "scattergeo": [
           {
            "marker": {
             "colorbar": {
              "outlinewidth": 0,
              "ticks": ""
             }
            },
            "type": "scattergeo"
           }
          ],
          "scattergl": [
           {
            "marker": {
             "colorbar": {
              "outlinewidth": 0,
              "ticks": ""
             }
            },
            "type": "scattergl"
           }
          ],
          "scattermapbox": [
           {
            "marker": {
             "colorbar": {
              "outlinewidth": 0,
              "ticks": ""
             }
            },
            "type": "scattermapbox"
           }
          ],
          "scatterpolar": [
           {
            "marker": {
             "colorbar": {
              "outlinewidth": 0,
              "ticks": ""
             }
            },
            "type": "scatterpolar"
           }
          ],
          "scatterpolargl": [
           {
            "marker": {
             "colorbar": {
              "outlinewidth": 0,
              "ticks": ""
             }
            },
            "type": "scatterpolargl"
           }
          ],
          "scatterternary": [
           {
            "marker": {
             "colorbar": {
              "outlinewidth": 0,
              "ticks": ""
             }
            },
            "type": "scatterternary"
           }
          ],
          "surface": [
           {
            "colorbar": {
             "outlinewidth": 0,
             "ticks": ""
            },
            "colorscale": [
             [
              0,
              "#0d0887"
             ],
             [
              0.1111111111111111,
              "#46039f"
             ],
             [
              0.2222222222222222,
              "#7201a8"
             ],
             [
              0.3333333333333333,
              "#9c179e"
             ],
             [
              0.4444444444444444,
              "#bd3786"
             ],
             [
              0.5555555555555556,
              "#d8576b"
             ],
             [
              0.6666666666666666,
              "#ed7953"
             ],
             [
              0.7777777777777778,
              "#fb9f3a"
             ],
             [
              0.8888888888888888,
              "#fdca26"
             ],
             [
              1,
              "#f0f921"
             ]
            ],
            "type": "surface"
           }
          ],
          "table": [
           {
            "cells": {
             "fill": {
              "color": "#EBF0F8"
             },
             "line": {
              "color": "white"
             }
            },
            "header": {
             "fill": {
              "color": "#C8D4E3"
             },
             "line": {
              "color": "white"
             }
            },
            "type": "table"
           }
          ]
         },
         "layout": {
          "annotationdefaults": {
           "arrowcolor": "#2a3f5f",
           "arrowhead": 0,
           "arrowwidth": 1
          },
          "autotypenumbers": "strict",
          "coloraxis": {
           "colorbar": {
            "outlinewidth": 0,
            "ticks": ""
           }
          },
          "colorscale": {
           "diverging": [
            [
             0,
             "#8e0152"
            ],
            [
             0.1,
             "#c51b7d"
            ],
            [
             0.2,
             "#de77ae"
            ],
            [
             0.3,
             "#f1b6da"
            ],
            [
             0.4,
             "#fde0ef"
            ],
            [
             0.5,
             "#f7f7f7"
            ],
            [
             0.6,
             "#e6f5d0"
            ],
            [
             0.7,
             "#b8e186"
            ],
            [
             0.8,
             "#7fbc41"
            ],
            [
             0.9,
             "#4d9221"
            ],
            [
             1,
             "#276419"
            ]
           ],
           "sequential": [
            [
             0,
             "#0d0887"
            ],
            [
             0.1111111111111111,
             "#46039f"
            ],
            [
             0.2222222222222222,
             "#7201a8"
            ],
            [
             0.3333333333333333,
             "#9c179e"
            ],
            [
             0.4444444444444444,
             "#bd3786"
            ],
            [
             0.5555555555555556,
             "#d8576b"
            ],
            [
             0.6666666666666666,
             "#ed7953"
            ],
            [
             0.7777777777777778,
             "#fb9f3a"
            ],
            [
             0.8888888888888888,
             "#fdca26"
            ],
            [
             1,
             "#f0f921"
            ]
           ],
           "sequentialminus": [
            [
             0,
             "#0d0887"
            ],
            [
             0.1111111111111111,
             "#46039f"
            ],
            [
             0.2222222222222222,
             "#7201a8"
            ],
            [
             0.3333333333333333,
             "#9c179e"
            ],
            [
             0.4444444444444444,
             "#bd3786"
            ],
            [
             0.5555555555555556,
             "#d8576b"
            ],
            [
             0.6666666666666666,
             "#ed7953"
            ],
            [
             0.7777777777777778,
             "#fb9f3a"
            ],
            [
             0.8888888888888888,
             "#fdca26"
            ],
            [
             1,
             "#f0f921"
            ]
           ]
          },
          "colorway": [
           "#636efa",
           "#EF553B",
           "#00cc96",
           "#ab63fa",
           "#FFA15A",
           "#19d3f3",
           "#FF6692",
           "#B6E880",
           "#FF97FF",
           "#FECB52"
          ],
          "font": {
           "color": "#2a3f5f"
          },
          "geo": {
           "bgcolor": "white",
           "lakecolor": "white",
           "landcolor": "#E5ECF6",
           "showlakes": true,
           "showland": true,
           "subunitcolor": "white"
          },
          "hoverlabel": {
           "align": "left"
          },
          "hovermode": "closest",
          "mapbox": {
           "style": "light"
          },
          "paper_bgcolor": "white",
          "plot_bgcolor": "#E5ECF6",
          "polar": {
           "angularaxis": {
            "gridcolor": "white",
            "linecolor": "white",
            "ticks": ""
           },
           "bgcolor": "#E5ECF6",
           "radialaxis": {
            "gridcolor": "white",
            "linecolor": "white",
            "ticks": ""
           }
          },
          "scene": {
           "xaxis": {
            "backgroundcolor": "#E5ECF6",
            "gridcolor": "white",
            "gridwidth": 2,
            "linecolor": "white",
            "showbackground": true,
            "ticks": "",
            "zerolinecolor": "white"
           },
           "yaxis": {
            "backgroundcolor": "#E5ECF6",
            "gridcolor": "white",
            "gridwidth": 2,
            "linecolor": "white",
            "showbackground": true,
            "ticks": "",
            "zerolinecolor": "white"
           },
           "zaxis": {
            "backgroundcolor": "#E5ECF6",
            "gridcolor": "white",
            "gridwidth": 2,
            "linecolor": "white",
            "showbackground": true,
            "ticks": "",
            "zerolinecolor": "white"
           }
          },
          "shapedefaults": {
           "line": {
            "color": "#2a3f5f"
           }
          },
          "ternary": {
           "aaxis": {
            "gridcolor": "white",
            "linecolor": "white",
            "ticks": ""
           },
           "baxis": {
            "gridcolor": "white",
            "linecolor": "white",
            "ticks": ""
           },
           "bgcolor": "#E5ECF6",
           "caxis": {
            "gridcolor": "white",
            "linecolor": "white",
            "ticks": ""
           }
          },
          "title": {
           "x": 0.05
          },
          "xaxis": {
           "automargin": true,
           "gridcolor": "white",
           "linecolor": "white",
           "ticks": "",
           "title": {
            "standoff": 15
           },
           "zerolinecolor": "white",
           "zerolinewidth": 2
          },
          "yaxis": {
           "automargin": true,
           "gridcolor": "white",
           "linecolor": "white",
           "ticks": "",
           "title": {
            "standoff": 15
           },
           "zerolinecolor": "white",
           "zerolinewidth": 2
          }
         }
        },
        "title": {
         "text": "Optimization History Plot"
        },
        "xaxis": {
         "title": {
          "text": "Trial"
         }
        },
        "yaxis": {
         "title": {
          "text": "Objective Value"
         }
        }
       }
      }
     },
     "metadata": {},
     "output_type": "display_data"
    }
   ],
   "source": [
    "optuna.visualization.plot_optimization_history(**{\"study\": study})"
   ]
  },
  {
   "cell_type": "markdown",
   "metadata": {},
   "source": [
    "## goal: 3 day 7% gain (low anomaly %)"
   ]
  },
  {
   "cell_type": "code",
   "execution_count": 25,
   "metadata": {},
   "outputs": [
    {
     "name": "stdout",
     "output_type": "stream",
     "text": [
      "(8793, 101) (8793,) (2205, 101) (2205,)\n",
      "(array([0, 1, 2], dtype=int64), array([ 948, 6741, 1104], dtype=int64))\n",
      "(array([0, 1, 2], dtype=int64), array([ 115, 1912,  178], dtype=int64))\n"
     ]
    }
   ],
   "source": [
    "X_train, y_train, X_val, y_val = data_prep_for_tuning_multi(ticker_list, normalize=False, obj=[3, 0.07])"
   ]
  },
  {
   "cell_type": "code",
   "execution_count": 28,
   "metadata": {},
   "outputs": [
    {
     "name": "stderr",
     "output_type": "stream",
     "text": [
      "[I 2024-07-24 01:54:48,555] A new study created in memory with name: no-name-a27fa1ec-fc3d-45bb-b9e4-b2f29a40df0e\n",
      "C:\\Users\\edton\\AppData\\Local\\Temp\\ipykernel_70720\\3154881170.py:30: FutureWarning:\n",
      "\n",
      "suggest_uniform has been deprecated in v3.0.0. This feature will be removed in v6.0.0. See https://github.com/optuna/optuna/releases/tag/v3.0.0. Use suggest_float instead.\n",
      "\n",
      "C:\\Users\\edton\\AppData\\Local\\Temp\\ipykernel_70720\\3154881170.py:33: FutureWarning:\n",
      "\n",
      "suggest_uniform has been deprecated in v3.0.0. This feature will be removed in v6.0.0. See https://github.com/optuna/optuna/releases/tag/v3.0.0. Use suggest_float instead.\n",
      "\n",
      "C:\\Users\\edton\\AppData\\Local\\Temp\\ipykernel_70720\\3154881170.py:35: FutureWarning:\n",
      "\n",
      "suggest_uniform has been deprecated in v3.0.0. This feature will be removed in v6.0.0. See https://github.com/optuna/optuna/releases/tag/v3.0.0. Use suggest_float instead.\n",
      "\n",
      "[I 2024-07-24 01:54:51,677] Trial 0 finished with value: 0.10845602696540751 and parameters: {'depth': 5, 'learning_rate': 0.22200828137228326, 'l2_leaf_reg': 8.85048141410085, 'colsample_bylevel': 0.505932916063614, 'bagging_temperature': 0.2708889307125124, 'border_count': 238, 'random_strength': 5.27474149190278}. Best is trial 0 with value: 0.10845602696540751.\n",
      "[I 2024-07-24 01:55:01,487] Trial 1 finished with value: 0.09067903628154134 and parameters: {'depth': 8, 'learning_rate': 0.22422339248115927, 'l2_leaf_reg': 7.300152532972452, 'colsample_bylevel': 0.7262207640807266, 'bagging_temperature': 0.8282701905748838, 'border_count': 158, 'random_strength': 5.732662843723842}. Best is trial 0 with value: 0.10845602696540751.\n",
      "[I 2024-07-24 01:55:08,113] Trial 2 finished with value: 0.06043954830737273 and parameters: {'depth': 7, 'learning_rate': 0.13514149356232277, 'l2_leaf_reg': 7.220964053609648, 'colsample_bylevel': 0.8203410557347603, 'bagging_temperature': 0.05438645070063153, 'border_count': 119, 'random_strength': 6.386488314007495}. Best is trial 0 with value: 0.10845602696540751.\n",
      "[I 2024-07-24 01:55:18,488] Trial 3 finished with value: 0.07089443226712444 and parameters: {'depth': 9, 'learning_rate': 0.2778419200394314, 'l2_leaf_reg': 9.894444653421846, 'colsample_bylevel': 0.7330434804143949, 'bagging_temperature': 0.4942206763482715, 'border_count': 105, 'random_strength': 9.368096498190994}. Best is trial 0 with value: 0.10845602696540751.\n",
      "[I 2024-07-24 01:55:22,820] Trial 4 finished with value: 0.10057234482387979 and parameters: {'depth': 4, 'learning_rate': 0.05480538765240256, 'l2_leaf_reg': 8.999266603755057, 'colsample_bylevel': 0.7713569346098916, 'bagging_temperature': 0.6441878225875647, 'border_count': 32, 'random_strength': 5.106070527403348}. Best is trial 0 with value: 0.10845602696540751.\n",
      "[I 2024-07-24 01:55:23,981] Trial 5 finished with value: 0.07722329704395667 and parameters: {'depth': 4, 'learning_rate': 0.20744290421759773, 'l2_leaf_reg': 0.5496942221687833, 'colsample_bylevel': 0.4446841519714737, 'bagging_temperature': 0.23279844513758896, 'border_count': 52, 'random_strength': 3.115196253622047}. Best is trial 0 with value: 0.10845602696540751.\n",
      "[I 2024-07-24 01:55:25,604] Trial 6 finished with value: 0.06552435846566734 and parameters: {'depth': 5, 'learning_rate': 0.29829395118032015, 'l2_leaf_reg': 6.806553072407182, 'colsample_bylevel': 0.8865053563537553, 'bagging_temperature': 0.7037207388075062, 'border_count': 66, 'random_strength': 3.4053670262747104}. Best is trial 0 with value: 0.10845602696540751.\n",
      "[I 2024-07-24 01:55:31,743] Trial 7 finished with value: 0.012483484225534776 and parameters: {'depth': 9, 'learning_rate': 0.2995695524311088, 'l2_leaf_reg': 9.205268592428956, 'colsample_bylevel': 0.8190312272227676, 'bagging_temperature': 0.87927812348021, 'border_count': 60, 'random_strength': 8.855159362020169}. Best is trial 0 with value: 0.10845602696540751.\n",
      "[I 2024-07-24 01:56:07,737] Trial 8 finished with value: 0.01728159154775883 and parameters: {'depth': 8, 'learning_rate': 0.03231609736848571, 'l2_leaf_reg': 0.3794154254006251, 'colsample_bylevel': 0.6196254688725832, 'bagging_temperature': 0.6058094100902452, 'border_count': 181, 'random_strength': 3.474028645391285}. Best is trial 0 with value: 0.10845602696540751.\n",
      "[I 2024-07-24 01:56:11,538] Trial 9 finished with value: 0.08276470497997424 and parameters: {'depth': 5, 'learning_rate': 0.16358162694881162, 'l2_leaf_reg': 6.902892530374894, 'colsample_bylevel': 0.7919504351641293, 'bagging_temperature': 0.7716954024627319, 'border_count': 171, 'random_strength': 4.964395205877759}. Best is trial 0 with value: 0.10845602696540751.\n",
      "[I 2024-07-24 01:56:15,593] Trial 10 finished with value: 0.06203258413392541 and parameters: {'depth': 6, 'learning_rate': 0.10771258264694838, 'l2_leaf_reg': 3.329816552043111, 'colsample_bylevel': 0.3142720700353865, 'bagging_temperature': 0.3556052992944076, 'border_count': 255, 'random_strength': 0.2983521526711952}. Best is trial 0 with value: 0.10845602696540751.\n",
      "[I 2024-07-24 01:56:27,926] Trial 11 finished with value: 0.06043954830737273 and parameters: {'depth': 4, 'learning_rate': 0.013581529916407285, 'l2_leaf_reg': 4.62655273122258, 'colsample_bylevel': 0.5505470703777755, 'bagging_temperature': 0.38369655164854977, 'border_count': 252, 'random_strength': 7.449004191933637}. Best is trial 0 with value: 0.10845602696540751.\n",
      "[I 2024-07-24 01:56:36,839] Trial 12 finished with value: 0.07722329704395667 and parameters: {'depth': 5, 'learning_rate': 0.07497892521376343, 'l2_leaf_reg': 8.611898730308065, 'colsample_bylevel': 0.9970951747703545, 'bagging_temperature': 0.9863727717864951, 'border_count': 217, 'random_strength': 4.374246944589565}. Best is trial 0 with value: 0.10845602696540751.\n",
      "[I 2024-07-24 01:56:38,768] Trial 13 finished with value: 0.07089443226712444 and parameters: {'depth': 6, 'learning_rate': 0.2089427943995746, 'l2_leaf_reg': 5.091096072580371, 'colsample_bylevel': 0.5155260156540937, 'bagging_temperature': 0.1629227903679082, 'border_count': 32, 'random_strength': 1.4671756269826988}. Best is trial 0 with value: 0.10845602696540751.\n",
      "[I 2024-07-24 01:56:43,724] Trial 14 finished with value: 0.08276470497997424 and parameters: {'depth': 4, 'learning_rate': 0.0675978364721914, 'l2_leaf_reg': 8.556475973209425, 'colsample_bylevel': 0.3988455230335376, 'bagging_temperature': 0.5340870403426224, 'border_count': 202, 'random_strength': 7.117306774064377}. Best is trial 0 with value: 0.10845602696540751.\n",
      "[I 2024-07-24 01:56:46,768] Trial 15 finished with value: 0.09842466954216414 and parameters: {'depth': 6, 'learning_rate': 0.1659762245927436, 'l2_leaf_reg': 4.759027370259735, 'colsample_bylevel': 0.641528206442826, 'bagging_temperature': 0.35606407813245355, 'border_count': 126, 'random_strength': 1.9444373538950543}. Best is trial 0 with value: 0.10845602696540751.\n",
      "[I 2024-07-24 01:56:49,176] Trial 16 finished with value: 0.044753381612505694 and parameters: {'depth': 5, 'learning_rate': 0.11602920167826644, 'l2_leaf_reg': 9.91520046941483, 'colsample_bylevel': 0.5507061795595515, 'bagging_temperature': 0.0007278320635538682, 'border_count': 83, 'random_strength': 8.124574098606764}. Best is trial 0 with value: 0.10845602696540751.\n",
      "[I 2024-07-24 01:56:51,236] Trial 17 finished with value: 0.05611624664553914 and parameters: {'depth': 4, 'learning_rate': 0.2573041161662192, 'l2_leaf_reg': 8.141239704219771, 'colsample_bylevel': 0.929897549373477, 'bagging_temperature': 0.6497825469172359, 'border_count': 220, 'random_strength': 5.852580499447362}. Best is trial 0 with value: 0.10845602696540751.\n",
      "[I 2024-07-24 01:57:23,342] Trial 18 finished with value: 0.07898610247820437 and parameters: {'depth': 10, 'learning_rate': 0.18518120655838974, 'l2_leaf_reg': 5.9286461784533255, 'colsample_bylevel': 0.7145774072197575, 'bagging_temperature': 0.20948999297287774, 'border_count': 143, 'random_strength': 4.4676466366824625}. Best is trial 0 with value: 0.10845602696540751.\n",
      "[I 2024-07-24 01:57:27,175] Trial 19 finished with value: 0.054809389726384765 and parameters: {'depth': 6, 'learning_rate': 0.24344770248412662, 'l2_leaf_reg': 2.7417405496005793, 'colsample_bylevel': 0.4827963652768159, 'bagging_temperature': 0.4626562795796995, 'border_count': 93, 'random_strength': 6.572030168768116}. Best is trial 0 with value: 0.10845602696540751.\n",
      "[I 2024-07-24 01:57:37,175] Trial 20 finished with value: 0.06043954830737273 and parameters: {'depth': 7, 'learning_rate': 0.07264235880174702, 'l2_leaf_reg': 7.937297810802279, 'colsample_bylevel': 0.3007483957879164, 'bagging_temperature': 0.11047250100687728, 'border_count': 188, 'random_strength': 2.3429885816041485}. Best is trial 0 with value: 0.10845602696540751.\n",
      "[I 2024-07-24 01:57:39,920] Trial 21 finished with value: 0.06043954830737273 and parameters: {'depth': 6, 'learning_rate': 0.16361779868527776, 'l2_leaf_reg': 4.317259933892255, 'colsample_bylevel': 0.6257005262409718, 'bagging_temperature': 0.3098865097665654, 'border_count': 133, 'random_strength': 0.050569989760743894}. Best is trial 0 with value: 0.10845602696540751.\n",
      "[I 2024-07-24 01:57:44,134] Trial 22 finished with value: 0.11967633105431569 and parameters: {'depth': 5, 'learning_rate': 0.18246291242469737, 'l2_leaf_reg': 5.827376998612129, 'colsample_bylevel': 0.6606459842828012, 'bagging_temperature': 0.28786169145743107, 'border_count': 232, 'random_strength': 1.6095917398457766}. Best is trial 22 with value: 0.11967633105431569.\n",
      "[I 2024-07-24 01:57:49,292] Trial 23 finished with value: 0.08255781799407007 and parameters: {'depth': 5, 'learning_rate': 0.1943874715868028, 'l2_leaf_reg': 5.941548174104862, 'colsample_bylevel': 0.6821592742292149, 'bagging_temperature': 0.26833974503818453, 'border_count': 223, 'random_strength': 4.055088363817237}. Best is trial 22 with value: 0.11967633105431569.\n",
      "[I 2024-07-24 01:57:52,103] Trial 24 finished with value: 0.08916287610389045 and parameters: {'depth': 4, 'learning_rate': 0.13294565463221214, 'l2_leaf_reg': 9.096387089673811, 'colsample_bylevel': 0.5776973473323681, 'bagging_temperature': 0.4480639373185944, 'border_count': 237, 'random_strength': 5.283702413709954}. Best is trial 22 with value: 0.11967633105431569.\n",
      "[I 2024-07-24 01:57:54,614] Trial 25 finished with value: 0.10453571136311152 and parameters: {'depth': 5, 'learning_rate': 0.23389766504277035, 'l2_leaf_reg': 1.6852478857911475, 'colsample_bylevel': 0.40060958399543534, 'bagging_temperature': 0.5421237776830261, 'border_count': 206, 'random_strength': 1.182244839125106}. Best is trial 22 with value: 0.11967633105431569.\n",
      "[I 2024-07-24 01:57:58,524] Trial 26 finished with value: 0.051230184500477546 and parameters: {'depth': 7, 'learning_rate': 0.24705416322860269, 'l2_leaf_reg': 1.8047257236767944, 'colsample_bylevel': 0.40292711187565156, 'bagging_temperature': 0.5556792589455042, 'border_count': 197, 'random_strength': 1.282956701473085}. Best is trial 22 with value: 0.11967633105431569.\n",
      "[I 2024-07-24 01:58:00,011] Trial 27 finished with value: 0.06043954830737273 and parameters: {'depth': 5, 'learning_rate': 0.22306876841585063, 'l2_leaf_reg': 1.7687916686921228, 'colsample_bylevel': 0.3766063623147772, 'bagging_temperature': 0.45546557148176414, 'border_count': 236, 'random_strength': 0.7297665988709264}. Best is trial 22 with value: 0.11967633105431569.\n",
      "[I 2024-07-24 01:58:03,314] Trial 28 finished with value: 0.03182998185799256 and parameters: {'depth': 5, 'learning_rate': 0.2668650942817419, 'l2_leaf_reg': 3.2613379588183196, 'colsample_bylevel': 0.46394726158279964, 'bagging_temperature': 0.14783623174770177, 'border_count': 207, 'random_strength': 2.586391072877322}. Best is trial 22 with value: 0.11967633105431569.\n",
      "[I 2024-07-24 01:58:07,268] Trial 29 finished with value: 0.05237015668047615 and parameters: {'depth': 7, 'learning_rate': 0.2298521884995549, 'l2_leaf_reg': 6.0347962023861275, 'colsample_bylevel': 0.36580424848493936, 'bagging_temperature': 0.3990049411145131, 'border_count': 159, 'random_strength': 0.9382138703819163}. Best is trial 22 with value: 0.11967633105431569.\n"
     ]
    }
   ],
   "source": [
    "study = optuna.create_study(direction=\"maximize\")\n",
    "study.optimize(multi_objective, n_trials=30)"
   ]
  },
  {
   "cell_type": "code",
   "execution_count": 29,
   "metadata": {},
   "outputs": [
    {
     "data": {
      "application/vnd.plotly.v1+json": {
       "config": {
        "plotlyServerURL": "https://plot.ly"
       },
       "data": [
        {
         "mode": "markers",
         "name": "Objective Value",
         "type": "scatter",
         "x": [
          0,
          1,
          2,
          3,
          4,
          5,
          6,
          7,
          8,
          9,
          10,
          11,
          12,
          13,
          14,
          15,
          16,
          17,
          18,
          19,
          20,
          21,
          22,
          23,
          24,
          25,
          26,
          27,
          28,
          29
         ],
         "y": [
          0.10845602696540751,
          0.09067903628154134,
          0.06043954830737273,
          0.07089443226712444,
          0.10057234482387979,
          0.07722329704395667,
          0.06552435846566734,
          0.012483484225534776,
          0.01728159154775883,
          0.08276470497997424,
          0.06203258413392541,
          0.06043954830737273,
          0.07722329704395667,
          0.07089443226712444,
          0.08276470497997424,
          0.09842466954216414,
          0.044753381612505694,
          0.05611624664553914,
          0.07898610247820437,
          0.054809389726384765,
          0.06043954830737273,
          0.06043954830737273,
          0.11967633105431569,
          0.08255781799407007,
          0.08916287610389045,
          0.10453571136311152,
          0.051230184500477546,
          0.06043954830737273,
          0.03182998185799256,
          0.05237015668047615
         ]
        },
        {
         "mode": "lines",
         "name": "Best Value",
         "type": "scatter",
         "x": [
          0,
          1,
          2,
          3,
          4,
          5,
          6,
          7,
          8,
          9,
          10,
          11,
          12,
          13,
          14,
          15,
          16,
          17,
          18,
          19,
          20,
          21,
          22,
          23,
          24,
          25,
          26,
          27,
          28,
          29
         ],
         "y": [
          0.10845602696540751,
          0.10845602696540751,
          0.10845602696540751,
          0.10845602696540751,
          0.10845602696540751,
          0.10845602696540751,
          0.10845602696540751,
          0.10845602696540751,
          0.10845602696540751,
          0.10845602696540751,
          0.10845602696540751,
          0.10845602696540751,
          0.10845602696540751,
          0.10845602696540751,
          0.10845602696540751,
          0.10845602696540751,
          0.10845602696540751,
          0.10845602696540751,
          0.10845602696540751,
          0.10845602696540751,
          0.10845602696540751,
          0.10845602696540751,
          0.11967633105431569,
          0.11967633105431569,
          0.11967633105431569,
          0.11967633105431569,
          0.11967633105431569,
          0.11967633105431569,
          0.11967633105431569,
          0.11967633105431569
         ]
        },
        {
         "marker": {
          "color": "#cccccc"
         },
         "mode": "markers",
         "name": "Infeasible Trial",
         "showlegend": false,
         "type": "scatter",
         "x": [],
         "y": []
        }
       ],
       "layout": {
        "template": {
         "data": {
          "bar": [
           {
            "error_x": {
             "color": "#2a3f5f"
            },
            "error_y": {
             "color": "#2a3f5f"
            },
            "marker": {
             "line": {
              "color": "#E5ECF6",
              "width": 0.5
             },
             "pattern": {
              "fillmode": "overlay",
              "size": 10,
              "solidity": 0.2
             }
            },
            "type": "bar"
           }
          ],
          "barpolar": [
           {
            "marker": {
             "line": {
              "color": "#E5ECF6",
              "width": 0.5
             },
             "pattern": {
              "fillmode": "overlay",
              "size": 10,
              "solidity": 0.2
             }
            },
            "type": "barpolar"
           }
          ],
          "carpet": [
           {
            "aaxis": {
             "endlinecolor": "#2a3f5f",
             "gridcolor": "white",
             "linecolor": "white",
             "minorgridcolor": "white",
             "startlinecolor": "#2a3f5f"
            },
            "baxis": {
             "endlinecolor": "#2a3f5f",
             "gridcolor": "white",
             "linecolor": "white",
             "minorgridcolor": "white",
             "startlinecolor": "#2a3f5f"
            },
            "type": "carpet"
           }
          ],
          "choropleth": [
           {
            "colorbar": {
             "outlinewidth": 0,
             "ticks": ""
            },
            "type": "choropleth"
           }
          ],
          "contour": [
           {
            "colorbar": {
             "outlinewidth": 0,
             "ticks": ""
            },
            "colorscale": [
             [
              0,
              "#0d0887"
             ],
             [
              0.1111111111111111,
              "#46039f"
             ],
             [
              0.2222222222222222,
              "#7201a8"
             ],
             [
              0.3333333333333333,
              "#9c179e"
             ],
             [
              0.4444444444444444,
              "#bd3786"
             ],
             [
              0.5555555555555556,
              "#d8576b"
             ],
             [
              0.6666666666666666,
              "#ed7953"
             ],
             [
              0.7777777777777778,
              "#fb9f3a"
             ],
             [
              0.8888888888888888,
              "#fdca26"
             ],
             [
              1,
              "#f0f921"
             ]
            ],
            "type": "contour"
           }
          ],
          "contourcarpet": [
           {
            "colorbar": {
             "outlinewidth": 0,
             "ticks": ""
            },
            "type": "contourcarpet"
           }
          ],
          "heatmap": [
           {
            "colorbar": {
             "outlinewidth": 0,
             "ticks": ""
            },
            "colorscale": [
             [
              0,
              "#0d0887"
             ],
             [
              0.1111111111111111,
              "#46039f"
             ],
             [
              0.2222222222222222,
              "#7201a8"
             ],
             [
              0.3333333333333333,
              "#9c179e"
             ],
             [
              0.4444444444444444,
              "#bd3786"
             ],
             [
              0.5555555555555556,
              "#d8576b"
             ],
             [
              0.6666666666666666,
              "#ed7953"
             ],
             [
              0.7777777777777778,
              "#fb9f3a"
             ],
             [
              0.8888888888888888,
              "#fdca26"
             ],
             [
              1,
              "#f0f921"
             ]
            ],
            "type": "heatmap"
           }
          ],
          "heatmapgl": [
           {
            "colorbar": {
             "outlinewidth": 0,
             "ticks": ""
            },
            "colorscale": [
             [
              0,
              "#0d0887"
             ],
             [
              0.1111111111111111,
              "#46039f"
             ],
             [
              0.2222222222222222,
              "#7201a8"
             ],
             [
              0.3333333333333333,
              "#9c179e"
             ],
             [
              0.4444444444444444,
              "#bd3786"
             ],
             [
              0.5555555555555556,
              "#d8576b"
             ],
             [
              0.6666666666666666,
              "#ed7953"
             ],
             [
              0.7777777777777778,
              "#fb9f3a"
             ],
             [
              0.8888888888888888,
              "#fdca26"
             ],
             [
              1,
              "#f0f921"
             ]
            ],
            "type": "heatmapgl"
           }
          ],
          "histogram": [
           {
            "marker": {
             "pattern": {
              "fillmode": "overlay",
              "size": 10,
              "solidity": 0.2
             }
            },
            "type": "histogram"
           }
          ],
          "histogram2d": [
           {
            "colorbar": {
             "outlinewidth": 0,
             "ticks": ""
            },
            "colorscale": [
             [
              0,
              "#0d0887"
             ],
             [
              0.1111111111111111,
              "#46039f"
             ],
             [
              0.2222222222222222,
              "#7201a8"
             ],
             [
              0.3333333333333333,
              "#9c179e"
             ],
             [
              0.4444444444444444,
              "#bd3786"
             ],
             [
              0.5555555555555556,
              "#d8576b"
             ],
             [
              0.6666666666666666,
              "#ed7953"
             ],
             [
              0.7777777777777778,
              "#fb9f3a"
             ],
             [
              0.8888888888888888,
              "#fdca26"
             ],
             [
              1,
              "#f0f921"
             ]
            ],
            "type": "histogram2d"
           }
          ],
          "histogram2dcontour": [
           {
            "colorbar": {
             "outlinewidth": 0,
             "ticks": ""
            },
            "colorscale": [
             [
              0,
              "#0d0887"
             ],
             [
              0.1111111111111111,
              "#46039f"
             ],
             [
              0.2222222222222222,
              "#7201a8"
             ],
             [
              0.3333333333333333,
              "#9c179e"
             ],
             [
              0.4444444444444444,
              "#bd3786"
             ],
             [
              0.5555555555555556,
              "#d8576b"
             ],
             [
              0.6666666666666666,
              "#ed7953"
             ],
             [
              0.7777777777777778,
              "#fb9f3a"
             ],
             [
              0.8888888888888888,
              "#fdca26"
             ],
             [
              1,
              "#f0f921"
             ]
            ],
            "type": "histogram2dcontour"
           }
          ],
          "mesh3d": [
           {
            "colorbar": {
             "outlinewidth": 0,
             "ticks": ""
            },
            "type": "mesh3d"
           }
          ],
          "parcoords": [
           {
            "line": {
             "colorbar": {
              "outlinewidth": 0,
              "ticks": ""
             }
            },
            "type": "parcoords"
           }
          ],
          "pie": [
           {
            "automargin": true,
            "type": "pie"
           }
          ],
          "scatter": [
           {
            "fillpattern": {
             "fillmode": "overlay",
             "size": 10,
             "solidity": 0.2
            },
            "type": "scatter"
           }
          ],
          "scatter3d": [
           {
            "line": {
             "colorbar": {
              "outlinewidth": 0,
              "ticks": ""
             }
            },
            "marker": {
             "colorbar": {
              "outlinewidth": 0,
              "ticks": ""
             }
            },
            "type": "scatter3d"
           }
          ],
          "scattercarpet": [
           {
            "marker": {
             "colorbar": {
              "outlinewidth": 0,
              "ticks": ""
             }
            },
            "type": "scattercarpet"
           }
          ],
          "scattergeo": [
           {
            "marker": {
             "colorbar": {
              "outlinewidth": 0,
              "ticks": ""
             }
            },
            "type": "scattergeo"
           }
          ],
          "scattergl": [
           {
            "marker": {
             "colorbar": {
              "outlinewidth": 0,
              "ticks": ""
             }
            },
            "type": "scattergl"
           }
          ],
          "scattermapbox": [
           {
            "marker": {
             "colorbar": {
              "outlinewidth": 0,
              "ticks": ""
             }
            },
            "type": "scattermapbox"
           }
          ],
          "scatterpolar": [
           {
            "marker": {
             "colorbar": {
              "outlinewidth": 0,
              "ticks": ""
             }
            },
            "type": "scatterpolar"
           }
          ],
          "scatterpolargl": [
           {
            "marker": {
             "colorbar": {
              "outlinewidth": 0,
              "ticks": ""
             }
            },
            "type": "scatterpolargl"
           }
          ],
          "scatterternary": [
           {
            "marker": {
             "colorbar": {
              "outlinewidth": 0,
              "ticks": ""
             }
            },
            "type": "scatterternary"
           }
          ],
          "surface": [
           {
            "colorbar": {
             "outlinewidth": 0,
             "ticks": ""
            },
            "colorscale": [
             [
              0,
              "#0d0887"
             ],
             [
              0.1111111111111111,
              "#46039f"
             ],
             [
              0.2222222222222222,
              "#7201a8"
             ],
             [
              0.3333333333333333,
              "#9c179e"
             ],
             [
              0.4444444444444444,
              "#bd3786"
             ],
             [
              0.5555555555555556,
              "#d8576b"
             ],
             [
              0.6666666666666666,
              "#ed7953"
             ],
             [
              0.7777777777777778,
              "#fb9f3a"
             ],
             [
              0.8888888888888888,
              "#fdca26"
             ],
             [
              1,
              "#f0f921"
             ]
            ],
            "type": "surface"
           }
          ],
          "table": [
           {
            "cells": {
             "fill": {
              "color": "#EBF0F8"
             },
             "line": {
              "color": "white"
             }
            },
            "header": {
             "fill": {
              "color": "#C8D4E3"
             },
             "line": {
              "color": "white"
             }
            },
            "type": "table"
           }
          ]
         },
         "layout": {
          "annotationdefaults": {
           "arrowcolor": "#2a3f5f",
           "arrowhead": 0,
           "arrowwidth": 1
          },
          "autotypenumbers": "strict",
          "coloraxis": {
           "colorbar": {
            "outlinewidth": 0,
            "ticks": ""
           }
          },
          "colorscale": {
           "diverging": [
            [
             0,
             "#8e0152"
            ],
            [
             0.1,
             "#c51b7d"
            ],
            [
             0.2,
             "#de77ae"
            ],
            [
             0.3,
             "#f1b6da"
            ],
            [
             0.4,
             "#fde0ef"
            ],
            [
             0.5,
             "#f7f7f7"
            ],
            [
             0.6,
             "#e6f5d0"
            ],
            [
             0.7,
             "#b8e186"
            ],
            [
             0.8,
             "#7fbc41"
            ],
            [
             0.9,
             "#4d9221"
            ],
            [
             1,
             "#276419"
            ]
           ],
           "sequential": [
            [
             0,
             "#0d0887"
            ],
            [
             0.1111111111111111,
             "#46039f"
            ],
            [
             0.2222222222222222,
             "#7201a8"
            ],
            [
             0.3333333333333333,
             "#9c179e"
            ],
            [
             0.4444444444444444,
             "#bd3786"
            ],
            [
             0.5555555555555556,
             "#d8576b"
            ],
            [
             0.6666666666666666,
             "#ed7953"
            ],
            [
             0.7777777777777778,
             "#fb9f3a"
            ],
            [
             0.8888888888888888,
             "#fdca26"
            ],
            [
             1,
             "#f0f921"
            ]
           ],
           "sequentialminus": [
            [
             0,
             "#0d0887"
            ],
            [
             0.1111111111111111,
             "#46039f"
            ],
            [
             0.2222222222222222,
             "#7201a8"
            ],
            [
             0.3333333333333333,
             "#9c179e"
            ],
            [
             0.4444444444444444,
             "#bd3786"
            ],
            [
             0.5555555555555556,
             "#d8576b"
            ],
            [
             0.6666666666666666,
             "#ed7953"
            ],
            [
             0.7777777777777778,
             "#fb9f3a"
            ],
            [
             0.8888888888888888,
             "#fdca26"
            ],
            [
             1,
             "#f0f921"
            ]
           ]
          },
          "colorway": [
           "#636efa",
           "#EF553B",
           "#00cc96",
           "#ab63fa",
           "#FFA15A",
           "#19d3f3",
           "#FF6692",
           "#B6E880",
           "#FF97FF",
           "#FECB52"
          ],
          "font": {
           "color": "#2a3f5f"
          },
          "geo": {
           "bgcolor": "white",
           "lakecolor": "white",
           "landcolor": "#E5ECF6",
           "showlakes": true,
           "showland": true,
           "subunitcolor": "white"
          },
          "hoverlabel": {
           "align": "left"
          },
          "hovermode": "closest",
          "mapbox": {
           "style": "light"
          },
          "paper_bgcolor": "white",
          "plot_bgcolor": "#E5ECF6",
          "polar": {
           "angularaxis": {
            "gridcolor": "white",
            "linecolor": "white",
            "ticks": ""
           },
           "bgcolor": "#E5ECF6",
           "radialaxis": {
            "gridcolor": "white",
            "linecolor": "white",
            "ticks": ""
           }
          },
          "scene": {
           "xaxis": {
            "backgroundcolor": "#E5ECF6",
            "gridcolor": "white",
            "gridwidth": 2,
            "linecolor": "white",
            "showbackground": true,
            "ticks": "",
            "zerolinecolor": "white"
           },
           "yaxis": {
            "backgroundcolor": "#E5ECF6",
            "gridcolor": "white",
            "gridwidth": 2,
            "linecolor": "white",
            "showbackground": true,
            "ticks": "",
            "zerolinecolor": "white"
           },
           "zaxis": {
            "backgroundcolor": "#E5ECF6",
            "gridcolor": "white",
            "gridwidth": 2,
            "linecolor": "white",
            "showbackground": true,
            "ticks": "",
            "zerolinecolor": "white"
           }
          },
          "shapedefaults": {
           "line": {
            "color": "#2a3f5f"
           }
          },
          "ternary": {
           "aaxis": {
            "gridcolor": "white",
            "linecolor": "white",
            "ticks": ""
           },
           "baxis": {
            "gridcolor": "white",
            "linecolor": "white",
            "ticks": ""
           },
           "bgcolor": "#E5ECF6",
           "caxis": {
            "gridcolor": "white",
            "linecolor": "white",
            "ticks": ""
           }
          },
          "title": {
           "x": 0.05
          },
          "xaxis": {
           "automargin": true,
           "gridcolor": "white",
           "linecolor": "white",
           "ticks": "",
           "title": {
            "standoff": 15
           },
           "zerolinecolor": "white",
           "zerolinewidth": 2
          },
          "yaxis": {
           "automargin": true,
           "gridcolor": "white",
           "linecolor": "white",
           "ticks": "",
           "title": {
            "standoff": 15
           },
           "zerolinecolor": "white",
           "zerolinewidth": 2
          }
         }
        },
        "title": {
         "text": "Optimization History Plot"
        },
        "xaxis": {
         "title": {
          "text": "Trial"
         }
        },
        "yaxis": {
         "title": {
          "text": "Objective Value"
         }
        }
       }
      }
     },
     "metadata": {},
     "output_type": "display_data"
    }
   ],
   "source": [
    "optuna.visualization.plot_optimization_history(**{\"study\": study})"
   ]
  },
  {
   "cell_type": "code",
   "execution_count": null,
   "metadata": {},
   "outputs": [],
   "source": []
  }
 ],
 "metadata": {
  "kernelspec": {
   "display_name": "trading",
   "language": "python",
   "name": "python3"
  },
  "language_info": {
   "codemirror_mode": {
    "name": "ipython",
    "version": 3
   },
   "file_extension": ".py",
   "mimetype": "text/x-python",
   "name": "python",
   "nbconvert_exporter": "python",
   "pygments_lexer": "ipython3",
   "version": "3.10.14"
  }
 },
 "nbformat": 4,
 "nbformat_minor": 2
}

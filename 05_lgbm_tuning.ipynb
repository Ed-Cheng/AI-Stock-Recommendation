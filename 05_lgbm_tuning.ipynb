{
 "cells": [
  {
   "cell_type": "markdown",
   "metadata": {},
   "source": [
    "# Explanations\n",
    "\n",
    "- This notebook focuses on lightgbm\n",
    "\n",
    "- The previous notebook showed that anomaly detection models work quite well.\n",
    "\n",
    "- Looking in the pyod document, I found the benchmarks with this paper:\n",
    "  - Benchmark: https://pyod.readthedocs.io/en/latest/benchmark.html\n",
    "  - Paper: https://arxiv.org/abs/2206.09426\n",
    "\n",
    "- Here are some conclusions from the paper:\n",
    "  - The performance of unsupervised algorithms depends on the data (no absolute winners).\n",
    "  - semi-supervised methods can outperform unsupervised methods with a small amount of labelled data (common)\n",
    "  - unsupervised may outperform supervised under certain conditions (not common)\n",
    "  - Models that I will be using (Best performing models from the paper):\n",
    "    - Unsupervised: IForest, COPOD, KNN, CBLOF\n",
    "    - Supervised: CatB, LGBM"
   ]
  },
  {
   "cell_type": "code",
   "execution_count": 1,
   "metadata": {},
   "outputs": [],
   "source": [
    "import matplotlib as mpl\n",
    "import matplotlib.pyplot as plt\n",
    "import numpy as np\n",
    "import pandas as pd\n",
    "\n",
    "import yfinance as yf\n",
    "import seaborn as sns\n",
    "from sklearn.preprocessing import LabelEncoder, StandardScaler\n",
    "import plotly.graph_objects as go\n",
    "import lightgbm as lgb\n",
    "import optuna\n",
    "\n",
    "\n",
    "import scripts.feature as feat\n",
    "import scripts.utility as util\n"
   ]
  },
  {
   "cell_type": "code",
   "execution_count": 2,
   "metadata": {},
   "outputs": [],
   "source": [
    "class FirmEncoder:\n",
    "    def __init__(self, firms):\n",
    "        self.encoder = LabelEncoder()\n",
    "        self.encoder.fit(firms)\n",
    "\n",
    "        self.scaler = StandardScaler()\n",
    "        self.scaler.fit(self.encoder.transform(firms).reshape(-1, 1))\n",
    "    \n",
    "    def encode(self, firm):\n",
    "        code = self.encoder.transform([firm]).reshape(-1, 1)\n",
    "        return self.scaler.transform(code)[0][0]"
   ]
  },
  {
   "cell_type": "code",
   "execution_count": 3,
   "metadata": {},
   "outputs": [],
   "source": [
    "def multi_ticker_dataset_pipeline(ticker_list, obj=[5, 0.05], normalize=False, extend=None):\n",
    "    encoder = FirmEncoder(ticker_list)\n",
    "    X_train, y_train, X_val, y_val = [], [], [], []\n",
    "\n",
    "    for ticker in ticker_list:\n",
    "        df = yf.download(ticker, period=\"5y\", interval=\"1d\", progress=False)\n",
    "        df = df.drop(columns=[\"Adj Close\"])\n",
    "        firm = encoder.encode(ticker)\n",
    "\n",
    "        Xtrain, ytrain, Xval, yval = feat.dataset_pipeline(df, \n",
    "                                                           obj=obj, \n",
    "                                                           norm=normalize, \n",
    "                                                           seq_len=None, \n",
    "                                                           extend=extend, \n",
    "                                                           firm=firm)\n",
    "            \n",
    "        X_train.append(Xtrain)\n",
    "        y_train.append(ytrain)\n",
    "        X_val.append(Xval)\n",
    "        y_val.append(yval)\n",
    "\n",
    "    X_train = np.vstack(X_train)\n",
    "    y_train = np.hstack(y_train)\n",
    "    X_val = np.vstack(X_val)\n",
    "    y_val = np.hstack(y_val)\n",
    "\n",
    "    return X_train, y_train, X_val, y_val\n",
    "\n",
    "def data_prep_for_tuning(ticker_list, normalize, obj=[5, 0.05]):\n",
    "    X_train, y_train, X_val, y_val = multi_ticker_dataset_pipeline(ticker_list, obj=obj, normalize=normalize, extend=3)\n",
    "    print(X_train.shape, y_train.shape, X_val.shape, y_val.shape)\n",
    "\n",
    "    y_train = np.where(y_train <= 1, 0, 1)\n",
    "    y_val = np.where(y_val <= 1, 0, 1)\n",
    "\n",
    "    print(np.unique(y_train, return_counts=True))\n",
    "    print(np.unique(y_val, return_counts=True))\n",
    "\n",
    "    return X_train, y_train, X_val, y_val\n",
    "\n",
    "def data_prep_for_tuning_multi(ticker_list, normalize, obj=[5, 0.05]):\n",
    "    X_train, y_train, X_val, y_val = multi_ticker_dataset_pipeline(ticker_list, obj=obj, normalize=normalize, extend=3)\n",
    "    print(X_train.shape, y_train.shape, X_val.shape, y_val.shape)\n",
    "\n",
    "    print(np.unique(y_train, return_counts=True))\n",
    "    print(np.unique(y_val, return_counts=True))\n",
    "\n",
    "    return X_train, y_train, X_val, y_val"
   ]
  },
  {
   "cell_type": "code",
   "execution_count": 4,
   "metadata": {},
   "outputs": [],
   "source": [
    "def single_class_report(y_true, y_pred, label):\n",
    "    instance = np.where(y_true == label)[0]\n",
    "    predict = np.where(y_pred == label)[0]\n",
    "    correct = np.intersect1d(instance, predict) \n",
    "\n",
    "    precision = len(correct) / (len(predict) + 0.01)\n",
    "    recall = len(correct) / (len(instance)+ 0.01)\n",
    "    \n",
    "    def fbeta_score(b):\n",
    "        return (1+b**2) * (precision * recall) / (b**2 * precision + recall + 0.01)\n",
    "    f1 = fbeta_score(b=1)\n",
    "    fbeta = fbeta_score(b=0.5)  # 0.5 beta focus more on precision\n",
    "\n",
    "    # print(f\"----- For Class {label} -----\")\n",
    "    # print(f\"Recall: {recall}\")\n",
    "    # print(f\"Precision: {precision}\")\n",
    "    # print(f\"f1_score: {f1}\")\n",
    "    # print(f\"f0.5_score: {fbeta}\")\n",
    "\n",
    "    return [recall, precision, f1, fbeta]\n",
    "\n",
    "\n",
    "def quick_model_evaluation(model, X_train, y_train, X_val, y_val, label):\n",
    "    model.fit(X_train, y_train)\n",
    "\n",
    "    print(\"train set\")\n",
    "    y_pred = model.predict(X_train)\n",
    "    train_result = single_class_report(y_train, y_pred, label=label)\n",
    "\n",
    "    print(\"val set\")\n",
    "    y_pred = model.predict(X_val)\n",
    "    val_result = single_class_report(y_val, y_pred, label=label)\n",
    "\n",
    "    return np.round(train_result + val_result, 3)\n",
    "\n",
    "\n",
    "def quick_unsupervised_evaluation(model, X_train, y_train, X_val, y_val, label):\n",
    "    model.fit(X_train)\n",
    "\n",
    "    # class 1 is normal, -1 is anomaly for sklearn\n",
    "    # class 0 is normal,  1 is anomaly for pyod\n",
    "    # print(\"train set\")\n",
    "    y_pred = model.predict(X_train)\n",
    "    # y_pred = np.where(y_pred > 0, 0, 1)\n",
    "    train_result = single_class_report(y_train, y_pred, label=label)\n",
    "\n",
    "    # print(\"val set\")\n",
    "    y_pred = model.predict(X_val)\n",
    "    # y_pred = np.where(y_pred > 0, 0, 1)\n",
    "    val_result = single_class_report(y_val, y_pred, label=label)\n",
    "\n",
    "    return np.round(train_result + val_result, 3)\n",
    "\n",
    "def update_result_table(df, result, idx_name):\n",
    "    new = pd.DataFrame(data=[result],\n",
    "                       columns=[\"train_recall\", \"train_precision\", \"train_f1\", \"train_fbeta\",\n",
    "                                \"val_recall\", \"val_precision\", \"val_f1\", \"val_fbeta\"],\n",
    "                       index=[idx_name])\n",
    "    df = pd.concat([df, new])\n",
    "    return df\n"
   ]
  },
  {
   "cell_type": "markdown",
   "metadata": {},
   "source": [
    "# optuna tuning\n"
   ]
  },
  {
   "cell_type": "code",
   "execution_count": 5,
   "metadata": {},
   "outputs": [],
   "source": [
    "def objective(trial):\n",
    "    param = {\n",
    "        \"objective\": \"binary\",\n",
    "        \"metric\": \"binary_logloss\",\n",
    "        \"verbosity\": -1,\n",
    "        # controls tree structure\n",
    "        \"num_leaves\": trial.suggest_int(\"num_leaves\", 16, 512),\n",
    "        \"max_depth\": trial.suggest_int(\"max_depth\", 3, 16),\n",
    "        # for accuracy\n",
    "        \"learning_rate\": trial.suggest_float(\"learning_rate\", 0.01, 0.3),\n",
    "        # controls overfitting\n",
    "        \"lambda_l1\": trial.suggest_int(\"lambda_l1\", 0.1, 100),\n",
    "        \"lambda_l2\": trial.suggest_int(\"lambda_l2\", 0.1, 100),\n",
    "        \"bagging_fraction\": trial.suggest_float(\"bagging_fraction\", 0.3, 1),\n",
    "        \"feature_fraction\": trial.suggest_float(\"bagging_fraction\", 0.3, 1),\n",
    "    }\n",
    "\n",
    "    gbm = lgb.LGBMClassifier(**param)\n",
    "    gbm.fit(X_train, y_train)\n",
    "\n",
    "    y_pred = gbm.predict(X_val)\n",
    "    score = single_class_report(y_val, y_pred, label=1)\n",
    "\n",
    "    return score[3]\n",
    "\n",
    "\n",
    "def multi_objective(trial):\n",
    "    param = {\n",
    "        \"objective\": \"multiclass\",\n",
    "        \"metric\": \"multi_logloss\",\n",
    "        \"num_class\": 3,\n",
    "        \"verbosity\": -1,\n",
    "        # controls tree structure\n",
    "        \"num_leaves\": trial.suggest_int(\"num_leaves\", 16, 512),\n",
    "        \"max_depth\": trial.suggest_int(\"max_depth\", 3, 16),\n",
    "        # for accuracy\n",
    "        \"learning_rate\": trial.suggest_float(\"learning_rate\", 0.01, 0.3),\n",
    "        # controls overfitting\n",
    "        \"lambda_l1\": trial.suggest_int(\"lambda_l1\", 0.1, 100),\n",
    "        \"lambda_l2\": trial.suggest_int(\"lambda_l2\", 0.1, 100),\n",
    "        \"bagging_fraction\": trial.suggest_float(\"bagging_fraction\", 0.3, 1),\n",
    "        \"feature_fraction\": trial.suggest_float(\"bagging_fraction\", 0.3, 1),\n",
    "    }\n",
    "\n",
    "    gbm = lgb.LGBMClassifier(**param)\n",
    "    gbm.fit(X_train, y_train)\n",
    "\n",
    "    y_pred = gbm.predict(X_val)\n",
    "    score = single_class_report(y_val, y_pred, label=2)\n",
    "\n",
    "    return score[3]\n"
   ]
  },
  {
   "cell_type": "markdown",
   "metadata": {},
   "source": [
    "# Tickers (Settings)"
   ]
  },
  {
   "cell_type": "code",
   "execution_count": 9,
   "metadata": {},
   "outputs": [],
   "source": [
    "ticker_list = [\"TSLA\", \"NVDA\", \"AMZN\", \"AAPL\", \"MSFT\", \"AMD\", \"GOOG\", \"META\", \"NFLX\"]\n",
    "# ticker_list = [\"TSLA\", \"NVDA\", \"AMZN\"]\n",
    "\n",
    "n_trials = 100"
   ]
  },
  {
   "cell_type": "markdown",
   "metadata": {},
   "source": [
    "# Binary classification w raw data"
   ]
  },
  {
   "cell_type": "markdown",
   "metadata": {},
   "source": [
    "## goal: 5 day 5% gain (high anomaly %)"
   ]
  },
  {
   "cell_type": "code",
   "execution_count": 10,
   "metadata": {},
   "outputs": [
    {
     "name": "stdout",
     "output_type": "stream",
     "text": [
      "(8793, 101) (8793,) (2205, 101) (2205,)\n",
      "(array([0, 1]), array([5895, 2898], dtype=int64))\n",
      "(array([0, 1]), array([1640,  565], dtype=int64))\n"
     ]
    }
   ],
   "source": [
    "X_train, y_train, X_val, y_val = data_prep_for_tuning(ticker_list, normalize=False, obj=[5, 0.05])"
   ]
  },
  {
   "cell_type": "code",
   "execution_count": 11,
   "metadata": {},
   "outputs": [
    {
     "name": "stderr",
     "output_type": "stream",
     "text": [
      "[I 2024-07-23 23:09:35,543] A new study created in memory with name: no-name-1b93f7f8-58d5-416f-85c1-4c5d1cebf143\n",
      "[I 2024-07-23 23:09:35,759] Trial 0 finished with value: 0.04255990041876114 and parameters: {'num_leaves': 130, 'max_depth': 13, 'learning_rate': 0.026099789965358847, 'lambda_l1': 44, 'lambda_l2': 57, 'bagging_fraction': 0.6835243625639664}. Best is trial 0 with value: 0.04255990041876114.\n",
      "[I 2024-07-23 23:09:36,024] Trial 1 finished with value: 0.2955433870699944 and parameters: {'num_leaves': 455, 'max_depth': 16, 'learning_rate': 0.17441250542087267, 'lambda_l1': 24, 'lambda_l2': 33, 'bagging_fraction': 0.8772941374675947}. Best is trial 1 with value: 0.2955433870699944.\n",
      "[I 2024-07-23 23:09:36,175] Trial 2 finished with value: 0.09259837033195141 and parameters: {'num_leaves': 206, 'max_depth': 9, 'learning_rate': 0.15262675117564936, 'lambda_l1': 73, 'lambda_l2': 65, 'bagging_fraction': 0.7371262737867691}. Best is trial 1 with value: 0.2955433870699944.\n",
      "[I 2024-07-23 23:09:36,303] Trial 3 finished with value: 0.1425527446357941 and parameters: {'num_leaves': 211, 'max_depth': 9, 'learning_rate': 0.11037178954945445, 'lambda_l1': 62, 'lambda_l2': 86, 'bagging_fraction': 0.5683084693968752}. Best is trial 1 with value: 0.2955433870699944.\n",
      "[I 2024-07-23 23:09:36,401] Trial 4 finished with value: 0.10702202855314483 and parameters: {'num_leaves': 407, 'max_depth': 6, 'learning_rate': 0.2076845730602788, 'lambda_l1': 70, 'lambda_l2': 93, 'bagging_fraction': 0.39084411110210754}. Best is trial 1 with value: 0.2955433870699944.\n",
      "[I 2024-07-23 23:09:36,521] Trial 5 finished with value: 0.2292754558666079 and parameters: {'num_leaves': 91, 'max_depth': 10, 'learning_rate': 0.24465393187149861, 'lambda_l1': 53, 'lambda_l2': 53, 'bagging_fraction': 0.7779679397058068}. Best is trial 1 with value: 0.2955433870699944.\n",
      "[I 2024-07-23 23:09:36,744] Trial 6 finished with value: 0.0 and parameters: {'num_leaves': 324, 'max_depth': 11, 'learning_rate': 0.013132273177378414, 'lambda_l1': 56, 'lambda_l2': 67, 'bagging_fraction': 0.6776455730783084}. Best is trial 1 with value: 0.2955433870699944.\n",
      "[I 2024-07-23 23:09:36,860] Trial 7 finished with value: 0.20241012195587108 and parameters: {'num_leaves': 324, 'max_depth': 4, 'learning_rate': 0.08464911959196549, 'lambda_l1': 31, 'lambda_l2': 1, 'bagging_fraction': 0.34797074283049717}. Best is trial 1 with value: 0.2955433870699944.\n",
      "[I 2024-07-23 23:09:36,959] Trial 8 finished with value: 0.021321145304986862 and parameters: {'num_leaves': 39, 'max_depth': 10, 'learning_rate': 0.11780982734997478, 'lambda_l1': 98, 'lambda_l2': 60, 'bagging_fraction': 0.6281448636244178}. Best is trial 1 with value: 0.2955433870699944.\n",
      "[I 2024-07-23 23:09:37,189] Trial 9 finished with value: 0.21242491125098403 and parameters: {'num_leaves': 250, 'max_depth': 6, 'learning_rate': 0.08834114914003244, 'lambda_l1': 28, 'lambda_l2': 73, 'bagging_fraction': 0.8428406174068741}. Best is trial 1 with value: 0.2955433870699944.\n",
      "[I 2024-07-23 23:09:38,261] Trial 10 finished with value: 0.2884288467816635 and parameters: {'num_leaves': 500, 'max_depth': 16, 'learning_rate': 0.2763328055606445, 'lambda_l1': 0, 'lambda_l2': 25, 'bagging_fraction': 0.9873304123060148}. Best is trial 1 with value: 0.2955433870699944.\n",
      "[I 2024-07-23 23:09:39,294] Trial 11 finished with value: 0.3003995367404106 and parameters: {'num_leaves': 511, 'max_depth': 16, 'learning_rate': 0.2573204808310324, 'lambda_l1': 3, 'lambda_l2': 26, 'bagging_fraction': 0.9861306152913921}. Best is trial 11 with value: 0.3003995367404106.\n",
      "[I 2024-07-23 23:09:40,442] Trial 12 finished with value: 0.3024398935257122 and parameters: {'num_leaves': 474, 'max_depth': 16, 'learning_rate': 0.1994874489070465, 'lambda_l1': 3, 'lambda_l2': 30, 'bagging_fraction': 0.9935703980095334}. Best is trial 12 with value: 0.3024398935257122.\n",
      "[I 2024-07-23 23:09:41,604] Trial 13 finished with value: 0.2984251129420554 and parameters: {'num_leaves': 510, 'max_depth': 14, 'learning_rate': 0.29702531374090996, 'lambda_l1': 1, 'lambda_l2': 32, 'bagging_fraction': 0.9890001359009882}. Best is trial 12 with value: 0.3024398935257122.\n",
      "[I 2024-07-23 23:09:42,033] Trial 14 finished with value: 0.2755421704387777 and parameters: {'num_leaves': 389, 'max_depth': 14, 'learning_rate': 0.22666057842832366, 'lambda_l1': 15, 'lambda_l2': 12, 'bagging_fraction': 0.8857031740371536}. Best is trial 12 with value: 0.3024398935257122.\n",
      "[I 2024-07-23 23:09:42,518] Trial 15 finished with value: 0.27257038186367744 and parameters: {'num_leaves': 428, 'max_depth': 13, 'learning_rate': 0.19159897057934638, 'lambda_l1': 13, 'lambda_l2': 41, 'bagging_fraction': 0.5005552658058008}. Best is trial 12 with value: 0.3024398935257122.\n",
      "[I 2024-07-23 23:09:43,190] Trial 16 finished with value: 0.2996414765587133 and parameters: {'num_leaves': 348, 'max_depth': 16, 'learning_rate': 0.2502073271857587, 'lambda_l1': 9, 'lambda_l2': 17, 'bagging_fraction': 0.9406511661373124}. Best is trial 12 with value: 0.3024398935257122.\n",
      "[I 2024-07-23 23:09:43,407] Trial 17 finished with value: 0.22881492775372358 and parameters: {'num_leaves': 480, 'max_depth': 12, 'learning_rate': 0.15425584569526363, 'lambda_l1': 38, 'lambda_l2': 42, 'bagging_fraction': 0.793211740847846}. Best is trial 12 with value: 0.3024398935257122.\n",
      "[I 2024-07-23 23:09:43,758] Trial 18 finished with value: 0.26561929228832715 and parameters: {'num_leaves': 374, 'max_depth': 15, 'learning_rate': 0.25592481747787904, 'lambda_l1': 17, 'lambda_l2': 2, 'bagging_fraction': 0.8853113980297866}. Best is trial 12 with value: 0.3024398935257122.\n",
      "[I 2024-07-23 23:09:43,891] Trial 19 finished with value: 0.04351891632529082 and parameters: {'num_leaves': 438, 'max_depth': 7, 'learning_rate': 0.21035616628030968, 'lambda_l1': 94, 'lambda_l2': 20, 'bagging_fraction': 0.9375329769161229}. Best is trial 12 with value: 0.3024398935257122.\n",
      "[I 2024-07-23 23:09:44,042] Trial 20 finished with value: 0.2916320007428856 and parameters: {'num_leaves': 293, 'max_depth': 3, 'learning_rate': 0.2949522453481044, 'lambda_l1': 7, 'lambda_l2': 41, 'bagging_fraction': 0.4882260292923496}. Best is trial 12 with value: 0.3024398935257122.\n",
      "[I 2024-07-23 23:09:44,677] Trial 21 finished with value: 0.2867578972008877 and parameters: {'num_leaves': 358, 'max_depth': 16, 'learning_rate': 0.25485454169424143, 'lambda_l1': 9, 'lambda_l2': 15, 'bagging_fraction': 0.9985926514427493}. Best is trial 12 with value: 0.3024398935257122.\n",
      "[I 2024-07-23 23:09:44,946] Trial 22 finished with value: 0.29342134781439855 and parameters: {'num_leaves': 454, 'max_depth': 15, 'learning_rate': 0.23193398145406344, 'lambda_l1': 22, 'lambda_l2': 27, 'bagging_fraction': 0.9263739871212742}. Best is trial 12 with value: 0.3024398935257122.\n",
      "[I 2024-07-23 23:09:46,083] Trial 23 finished with value: 0.29039425845853545 and parameters: {'num_leaves': 507, 'max_depth': 14, 'learning_rate': 0.2754482506612334, 'lambda_l1': 0, 'lambda_l2': 11, 'bagging_fraction': 0.9334182987797861}. Best is trial 12 with value: 0.3024398935257122.\n",
      "[I 2024-07-23 23:09:46,333] Trial 24 finished with value: 0.2511926795633946 and parameters: {'num_leaves': 343, 'max_depth': 15, 'learning_rate': 0.183091925499911, 'lambda_l1': 35, 'lambda_l2': 21, 'bagging_fraction': 0.8092944958403632}. Best is trial 12 with value: 0.3024398935257122.\n",
      "[I 2024-07-23 23:09:47,234] Trial 25 finished with value: 0.30674062347085634 and parameters: {'num_leaves': 401, 'max_depth': 12, 'learning_rate': 0.21888058460988624, 'lambda_l1': 8, 'lambda_l2': 36, 'bagging_fraction': 0.9401610222766775}. Best is trial 25 with value: 0.30674062347085634.\n",
      "[I 2024-07-23 23:09:47,581] Trial 26 finished with value: 0.2818390777844233 and parameters: {'num_leaves': 413, 'max_depth': 12, 'learning_rate': 0.2168802540094369, 'lambda_l1': 20, 'lambda_l2': 46, 'bagging_fraction': 0.8519583160540878}. Best is trial 25 with value: 0.30674062347085634.\n",
      "[I 2024-07-23 23:09:48,367] Trial 27 finished with value: 0.30051448680448667 and parameters: {'num_leaves': 449, 'max_depth': 12, 'learning_rate': 0.16995018965631933, 'lambda_l1': 7, 'lambda_l2': 36, 'bagging_fraction': 0.7511043679408647}. Best is trial 25 with value: 0.30674062347085634.\n",
      "[I 2024-07-23 23:09:48,558] Trial 28 finished with value: 0.2113842229559305 and parameters: {'num_leaves': 464, 'max_depth': 8, 'learning_rate': 0.13625145084447132, 'lambda_l1': 44, 'lambda_l2': 34, 'bagging_fraction': 0.7135309142594943}. Best is trial 25 with value: 0.30674062347085634.\n",
      "[I 2024-07-23 23:09:48,729] Trial 29 finished with value: 0.21357890089416298 and parameters: {'num_leaves': 283, 'max_depth': 12, 'learning_rate': 0.16795475558502243, 'lambda_l1': 43, 'lambda_l2': 49, 'bagging_fraction': 0.6182239026254528}. Best is trial 25 with value: 0.30674062347085634.\n",
      "[I 2024-07-23 23:09:48,882] Trial 30 finished with value: 0.03438899662768954 and parameters: {'num_leaves': 391, 'max_depth': 11, 'learning_rate': 0.19233718807989858, 'lambda_l1': 87, 'lambda_l2': 36, 'bagging_fraction': 0.7552290313081157}. Best is trial 25 with value: 0.30674062347085634.\n",
      "[I 2024-07-23 23:09:49,724] Trial 31 finished with value: 0.3173571264623123 and parameters: {'num_leaves': 481, 'max_depth': 13, 'learning_rate': 0.20253295579229652, 'lambda_l1': 7, 'lambda_l2': 28, 'bagging_fraction': 0.961841211003629}. Best is trial 31 with value: 0.3173571264623123.\n",
      "[I 2024-07-23 23:09:50,374] Trial 32 finished with value: 0.3021343993590064 and parameters: {'num_leaves': 445, 'max_depth': 13, 'learning_rate': 0.19941465318127588, 'lambda_l1': 11, 'lambda_l2': 31, 'bagging_fraction': 0.9075659449192208}. Best is trial 31 with value: 0.3173571264623123.\n",
      "[I 2024-07-23 23:09:50,671] Trial 33 finished with value: 0.2703824003734565 and parameters: {'num_leaves': 481, 'max_depth': 13, 'learning_rate': 0.19767394869475044, 'lambda_l1': 26, 'lambda_l2': 29, 'bagging_fraction': 0.9072257908326697}. Best is trial 31 with value: 0.3173571264623123.\n",
      "[I 2024-07-23 23:09:51,271] Trial 34 finished with value: 0.25941438698139807 and parameters: {'num_leaves': 471, 'max_depth': 11, 'learning_rate': 0.22643751877661578, 'lambda_l1': 12, 'lambda_l2': 56, 'bagging_fraction': 0.83746661444382}. Best is trial 31 with value: 0.3173571264623123.\n",
      "[I 2024-07-23 23:09:51,719] Trial 35 finished with value: 0.2936762887375649 and parameters: {'num_leaves': 423, 'max_depth': 13, 'learning_rate': 0.1743110054801055, 'lambda_l1': 19, 'lambda_l2': 41, 'bagging_fraction': 0.9489395668802973}. Best is trial 31 with value: 0.3173571264623123.\n",
      "[I 2024-07-23 23:09:52,601] Trial 36 finished with value: 0.29367298409557074 and parameters: {'num_leaves': 195, 'max_depth': 14, 'learning_rate': 0.14187363465090796, 'lambda_l1': 6, 'lambda_l2': 23, 'bagging_fraction': 0.8860278761375976}. Best is trial 31 with value: 0.3173571264623123.\n",
      "[I 2024-07-23 23:09:53,077] Trial 37 finished with value: 0.31912736170079564 and parameters: {'num_leaves': 404, 'max_depth': 10, 'learning_rate': 0.20181724381202376, 'lambda_l1': 14, 'lambda_l2': 9, 'bagging_fraction': 0.9617538509021222}. Best is trial 37 with value: 0.31912736170079564.\n",
      "[I 2024-07-23 23:09:53,326] Trial 38 finished with value: 0.28160759314320866 and parameters: {'num_leaves': 399, 'max_depth': 9, 'learning_rate': 0.23523702151904563, 'lambda_l1': 24, 'lambda_l2': 7, 'bagging_fraction': 0.9615265488337715}. Best is trial 37 with value: 0.31912736170079564.\n",
      "[I 2024-07-23 23:09:53,554] Trial 39 finished with value: 0.12653199628673664 and parameters: {'num_leaves': 315, 'max_depth': 10, 'learning_rate': 0.04920963988382519, 'lambda_l1': 64, 'lambda_l2': 6, 'bagging_fraction': 0.8217089057085823}. Best is trial 37 with value: 0.31912736170079564.\n",
      "[I 2024-07-23 23:09:53,743] Trial 40 finished with value: 0.2642285745912102 and parameters: {'num_leaves': 181, 'max_depth': 9, 'learning_rate': 0.21613818284866826, 'lambda_l1': 32, 'lambda_l2': 74, 'bagging_fraction': 0.8597175067559877}. Best is trial 37 with value: 0.31912736170079564.\n",
      "[I 2024-07-23 23:09:54,236] Trial 41 finished with value: 0.3113795209675408 and parameters: {'num_leaves': 431, 'max_depth': 11, 'learning_rate': 0.20193967875587845, 'lambda_l1': 14, 'lambda_l2': 30, 'bagging_fraction': 0.9069423475817819}. Best is trial 37 with value: 0.31912736170079564.\n",
      "[I 2024-07-23 23:09:54,743] Trial 42 finished with value: 0.30362580584679244 and parameters: {'num_leaves': 376, 'max_depth': 11, 'learning_rate': 0.18286828637571229, 'lambda_l1': 16, 'lambda_l2': 48, 'bagging_fraction': 0.9644925248581879}. Best is trial 37 with value: 0.31912736170079564.\n",
      "[I 2024-07-23 23:09:55,129] Trial 43 finished with value: 0.26117607539330845 and parameters: {'num_leaves': 386, 'max_depth': 11, 'learning_rate': 0.18411953944685147, 'lambda_l1': 19, 'lambda_l2': 51, 'bagging_fraction': 0.9608477859017129}. Best is trial 37 with value: 0.31912736170079564.\n",
      "[I 2024-07-23 23:09:55,388] Trial 44 finished with value: 0.2765695794483859 and parameters: {'num_leaves': 365, 'max_depth': 10, 'learning_rate': 0.1670018868872845, 'lambda_l1': 29, 'lambda_l2': 60, 'bagging_fraction': 0.8930974498047297}. Best is trial 37 with value: 0.31912736170079564.\n",
      "[I 2024-07-23 23:09:55,555] Trial 45 finished with value: 0.09470851537223247 and parameters: {'num_leaves': 229, 'max_depth': 8, 'learning_rate': 0.12150522903334675, 'lambda_l1': 78, 'lambda_l2': 46, 'bagging_fraction': 0.9624066237630102}. Best is trial 37 with value: 0.31912736170079564.\n",
      "[I 2024-07-23 23:09:56,018] Trial 46 finished with value: 0.3023081987487551 and parameters: {'num_leaves': 416, 'max_depth': 11, 'learning_rate': 0.20950373711743944, 'lambda_l1': 15, 'lambda_l2': 18, 'bagging_fraction': 0.9146493892481742}. Best is trial 37 with value: 0.31912736170079564.\n",
      "[I 2024-07-23 23:09:56,956] Trial 47 finished with value: 0.3021343993590064 and parameters: {'num_leaves': 328, 'max_depth': 10, 'learning_rate': 0.2400623217315281, 'lambda_l1': 5, 'lambda_l2': 67, 'bagging_fraction': 0.8627238577176126}. Best is trial 37 with value: 0.31912736170079564.\n",
      "[I 2024-07-23 23:09:57,308] Trial 48 finished with value: 0.25213049783333596 and parameters: {'num_leaves': 59, 'max_depth': 12, 'learning_rate': 0.1475652866553533, 'lambda_l1': 24, 'lambda_l2': 96, 'bagging_fraction': 0.9639645051777159}. Best is trial 37 with value: 0.31912736170079564.\n",
      "[I 2024-07-23 23:09:57,633] Trial 49 finished with value: 0.2689806086461519 and parameters: {'num_leaves': 487, 'max_depth': 9, 'learning_rate': 0.18369496088360007, 'lambda_l1': 15, 'lambda_l2': 37, 'bagging_fraction': 0.309391013046056}. Best is trial 37 with value: 0.31912736170079564.\n",
      "[I 2024-07-23 23:09:58,195] Trial 50 finished with value: 0.29625700398377514 and parameters: {'num_leaves': 432, 'max_depth': 11, 'learning_rate': 0.16085807185646472, 'lambda_l1': 11, 'lambda_l2': 86, 'bagging_fraction': 0.6945481954103051}. Best is trial 37 with value: 0.31912736170079564.\n",
      "[I 2024-07-23 23:09:58,877] Trial 51 finished with value: 0.2968943712210348 and parameters: {'num_leaves': 413, 'max_depth': 8, 'learning_rate': 0.20445106575545688, 'lambda_l1': 3, 'lambda_l2': 25, 'bagging_fraction': 0.9925403080780408}. Best is trial 37 with value: 0.31912736170079564.\n",
      "[I 2024-07-23 23:09:59,986] Trial 52 finished with value: 0.28656910727419976 and parameters: {'num_leaves': 462, 'max_depth': 13, 'learning_rate': 0.22354626291071847, 'lambda_l1': 3, 'lambda_l2': 30, 'bagging_fraction': 0.9980831363915273}. Best is trial 37 with value: 0.31912736170079564.\n",
      "[I 2024-07-23 23:10:00,771] Trial 53 finished with value: 0.30235201759747254 and parameters: {'num_leaves': 131, 'max_depth': 10, 'learning_rate': 0.18699959286548057, 'lambda_l1': 0, 'lambda_l2': 46, 'bagging_fraction': 0.9266450675168215}. Best is trial 37 with value: 0.31912736170079564.\n",
      "[I 2024-07-23 23:10:01,207] Trial 54 finished with value: 0.30296352691783285 and parameters: {'num_leaves': 486, 'max_depth': 12, 'learning_rate': 0.20063358024363956, 'lambda_l1': 16, 'lambda_l2': 12, 'bagging_fraction': 0.9682108594173102}. Best is trial 37 with value: 0.31912736170079564.\n",
      "[I 2024-07-23 23:10:01,621] Trial 55 finished with value: 0.29758018122696445 and parameters: {'num_leaves': 491, 'max_depth': 12, 'learning_rate': 0.21814652664485795, 'lambda_l1': 17, 'lambda_l2': 13, 'bagging_fraction': 0.9669917532432735}. Best is trial 37 with value: 0.31912736170079564.\n",
      "[I 2024-07-23 23:10:01,822] Trial 56 finished with value: 0.26142073518471054 and parameters: {'num_leaves': 378, 'max_depth': 11, 'learning_rate': 0.2659393435021832, 'lambda_l1': 22, 'lambda_l2': 8, 'bagging_fraction': 0.43179352129673115}. Best is trial 37 with value: 0.31912736170079564.\n",
      "[I 2024-07-23 23:10:02,470] Trial 57 finished with value: 0.3006492513587376 and parameters: {'num_leaves': 438, 'max_depth': 12, 'learning_rate': 0.2428028257111326, 'lambda_l1': 8, 'lambda_l2': 0, 'bagging_fraction': 0.8751457876250591}. Best is trial 37 with value: 0.31912736170079564.\n",
      "[I 2024-07-23 23:10:02,940] Trial 58 finished with value: 0.3224786781615999 and parameters: {'num_leaves': 397, 'max_depth': 14, 'learning_rate': 0.20166456732594523, 'lambda_l1': 14, 'lambda_l2': 4, 'bagging_fraction': 0.910186873783172}. Best is trial 58 with value: 0.3224786781615999.\n",
      "[I 2024-07-23 23:10:03,475] Trial 59 finished with value: 0.29440511462078667 and parameters: {'num_leaves': 404, 'max_depth': 14, 'learning_rate': 0.20899519244654557, 'lambda_l1': 12, 'lambda_l2': 2, 'bagging_fraction': 0.8201804798374811}. Best is trial 58 with value: 0.3224786781615999.\n",
      "[I 2024-07-23 23:10:03,750] Trial 60 finished with value: 0.26131066414062065 and parameters: {'num_leaves': 344, 'max_depth': 15, 'learning_rate': 0.159462223218358, 'lambda_l1': 33, 'lambda_l2': 5, 'bagging_fraction': 0.9233571538614035}. Best is trial 58 with value: 0.3224786781615999.\n",
      "[I 2024-07-23 23:10:04,204] Trial 61 finished with value: 0.30051448680448667 and parameters: {'num_leaves': 457, 'max_depth': 14, 'learning_rate': 0.19826889024755368, 'lambda_l1': 15, 'lambda_l2': 10, 'bagging_fraction': 0.9429834746809034}. Best is trial 58 with value: 0.3224786781615999.\n",
      "[I 2024-07-23 23:10:04,580] Trial 62 finished with value: 0.29148397411896015 and parameters: {'num_leaves': 369, 'max_depth': 12, 'learning_rate': 0.18188847849234147, 'lambda_l1': 19, 'lambda_l2': 16, 'bagging_fraction': 0.9760235973175594}. Best is trial 58 with value: 0.3224786781615999.\n",
      "[I 2024-07-23 23:10:05,274] Trial 63 finished with value: 0.2942920758691519 and parameters: {'num_leaves': 511, 'max_depth': 13, 'learning_rate': 0.17724743121466688, 'lambda_l1': 10, 'lambda_l2': 21, 'bagging_fraction': 0.9016426092078182}. Best is trial 58 with value: 0.3224786781615999.\n",
      "[I 2024-07-23 23:10:05,500] Trial 64 finished with value: 0.3084251203438585 and parameters: {'num_leaves': 433, 'max_depth': 13, 'learning_rate': 0.22804473529632258, 'lambda_l1': 28, 'lambda_l2': 13, 'bagging_fraction': 0.7856228199438398}. Best is trial 58 with value: 0.3224786781615999.\n",
      "[I 2024-07-23 23:10:05,719] Trial 65 finished with value: 0.24199494972370503 and parameters: {'num_leaves': 398, 'max_depth': 13, 'learning_rate': 0.23174983696717572, 'lambda_l1': 37, 'lambda_l2': 38, 'bagging_fraction': 0.7715657671448843}. Best is trial 58 with value: 0.3224786781615999.\n",
      "[I 2024-07-23 23:10:05,973] Trial 66 finished with value: 0.24706047247162832 and parameters: {'num_leaves': 428, 'max_depth': 14, 'learning_rate': 0.24844104813611925, 'lambda_l1': 27, 'lambda_l2': 27, 'bagging_fraction': 0.6609104947429895}. Best is trial 58 with value: 0.3224786781615999.\n",
      "[I 2024-07-23 23:10:06,245] Trial 67 finished with value: 0.2626845720374037 and parameters: {'num_leaves': 360, 'max_depth': 13, 'learning_rate': 0.1914441054955946, 'lambda_l1': 23, 'lambda_l2': 3, 'bagging_fraction': 0.5784981903479431}. Best is trial 58 with value: 0.3224786781615999.\n",
      "[I 2024-07-23 23:10:06,461] Trial 68 finished with value: 0.20953483364527414 and parameters: {'num_leaves': 445, 'max_depth': 15, 'learning_rate': 0.2219732543676453, 'lambda_l1': 55, 'lambda_l2': 33, 'bagging_fraction': 0.8679282823628016}. Best is trial 58 with value: 0.3224786781615999.\n",
      "[I 2024-07-23 23:10:06,786] Trial 69 finished with value: 0.30450353420082227 and parameters: {'num_leaves': 317, 'max_depth': 5, 'learning_rate': 0.2672905879708371, 'lambda_l1': 5, 'lambda_l2': 19, 'bagging_fraction': 0.7828524159269504}. Best is trial 58 with value: 0.3224786781615999.\n",
      "[I 2024-07-23 23:10:07,103] Trial 70 finished with value: 0.29721533092378805 and parameters: {'num_leaves': 302, 'max_depth': 5, 'learning_rate': 0.282954700915778, 'lambda_l1': 5, 'lambda_l2': 16, 'bagging_fraction': 0.7221362098858152}. Best is trial 58 with value: 0.3224786781615999.\n",
      "[I 2024-07-23 23:10:07,485] Trial 71 finished with value: 0.2914794096520279 and parameters: {'num_leaves': 379, 'max_depth': 5, 'learning_rate': 0.2148688269545335, 'lambda_l1': 8, 'lambda_l2': 23, 'bagging_fraction': 0.7871421352862494}. Best is trial 58 with value: 0.3224786781615999.\n",
      "[I 2024-07-23 23:10:08,084] Trial 72 finished with value: 0.2887726652893669 and parameters: {'num_leaves': 274, 'max_depth': 10, 'learning_rate': 0.25933042932134753, 'lambda_l1': 13, 'lambda_l2': 18, 'bagging_fraction': 0.8371531894810692}. Best is trial 58 with value: 0.3224786781615999.\n",
      "[I 2024-07-23 23:10:08,251] Trial 73 finished with value: 0.14828495114497214 and parameters: {'num_leaves': 251, 'max_depth': 3, 'learning_rate': 0.23644125977581648, 'lambda_l1': 50, 'lambda_l2': 14, 'bagging_fraction': 0.941676308563601}. Best is trial 58 with value: 0.3224786781615999.\n",
      "[I 2024-07-23 23:10:08,802] Trial 74 finished with value: 0.28911911771255966 and parameters: {'num_leaves': 345, 'max_depth': 7, 'learning_rate': 0.22861298410725114, 'lambda_l1': 5, 'lambda_l2': 8, 'bagging_fraction': 0.9002853810200299}. Best is trial 58 with value: 0.3224786781615999.\n",
      "[I 2024-07-23 23:10:09,349] Trial 75 finished with value: 0.3280711478587739 and parameters: {'num_leaves': 321, 'max_depth': 11, 'learning_rate': 0.2795387691753085, 'lambda_l1': 10, 'lambda_l2': 20, 'bagging_fraction': 0.8072999510548677}. Best is trial 75 with value: 0.3280711478587739.\n",
      "[I 2024-07-23 23:10:10,293] Trial 76 finished with value: 0.3276989696228028 and parameters: {'num_leaves': 418, 'max_depth': 11, 'learning_rate': 0.28711984967297605, 'lambda_l1': 2, 'lambda_l2': 20, 'bagging_fraction': 0.8001998234020055}. Best is trial 75 with value: 0.3280711478587739.\n",
      "[I 2024-07-23 23:10:11,188] Trial 77 finished with value: 0.3130786670228762 and parameters: {'num_leaves': 425, 'max_depth': 11, 'learning_rate': 0.2721799968982521, 'lambda_l1': 2, 'lambda_l2': 24, 'bagging_fraction': 0.7469814053655922}. Best is trial 75 with value: 0.3280711478587739.\n",
      "[I 2024-07-23 23:10:11,969] Trial 78 finished with value: 0.29575117708640586 and parameters: {'num_leaves': 425, 'max_depth': 9, 'learning_rate': 0.29264530877871225, 'lambda_l1': 2, 'lambda_l2': 23, 'bagging_fraction': 0.799108129281243}. Best is trial 75 with value: 0.3280711478587739.\n",
      "[I 2024-07-23 23:10:12,909] Trial 79 finished with value: 0.3231290508753143 and parameters: {'num_leaves': 466, 'max_depth': 11, 'learning_rate': 0.26952540294496313, 'lambda_l1': 1, 'lambda_l2': 10, 'bagging_fraction': 0.7581694399253156}. Best is trial 75 with value: 0.3280711478587739.\n",
      "[I 2024-07-23 23:10:13,676] Trial 80 finished with value: 0.3232999415276329 and parameters: {'num_leaves': 470, 'max_depth': 11, 'learning_rate': 0.2834614535420486, 'lambda_l1': 0, 'lambda_l2': 10, 'bagging_fraction': 0.7478792744354135}. Best is trial 75 with value: 0.3280711478587739.\n",
      "[I 2024-07-23 23:10:14,671] Trial 81 finished with value: 0.3123649307998969 and parameters: {'num_leaves': 475, 'max_depth': 11, 'learning_rate': 0.2826979422389306, 'lambda_l1': 2, 'lambda_l2': 10, 'bagging_fraction': 0.7527643522161405}. Best is trial 75 with value: 0.3280711478587739.\n",
      "[I 2024-07-23 23:10:15,374] Trial 82 finished with value: 0.36672139025865974 and parameters: {'num_leaves': 472, 'max_depth': 10, 'learning_rate': 0.2850518308479873, 'lambda_l1': 0, 'lambda_l2': 9, 'bagging_fraction': 0.7419884799926455}. Best is trial 82 with value: 0.36672139025865974.\n",
      "[I 2024-07-23 23:10:16,108] Trial 83 finished with value: 0.26996981097320444 and parameters: {'num_leaves': 498, 'max_depth': 10, 'learning_rate': 0.28982587526369513, 'lambda_l1': 0, 'lambda_l2': 4, 'bagging_fraction': 0.7310085968613782}. Best is trial 82 with value: 0.36672139025865974.\n",
      "[I 2024-07-23 23:10:16,751] Trial 84 finished with value: 0.28844448648676924 and parameters: {'num_leaves': 465, 'max_depth': 9, 'learning_rate': 0.29852084587024513, 'lambda_l1': 0, 'lambda_l2': 9, 'bagging_fraction': 0.6971373469952837}. Best is trial 82 with value: 0.36672139025865974.\n",
      "[I 2024-07-23 23:10:17,381] Trial 85 finished with value: 0.2909662023225559 and parameters: {'num_leaves': 445, 'max_depth': 10, 'learning_rate': 0.2679471282428629, 'lambda_l1': 6, 'lambda_l2': 16, 'bagging_fraction': 0.67282767307296}. Best is trial 82 with value: 0.36672139025865974.\n",
      "[I 2024-07-23 23:10:17,866] Trial 86 finished with value: 0.31725071002248223 and parameters: {'num_leaves': 456, 'max_depth': 11, 'learning_rate': 0.27757215873516355, 'lambda_l1': 10, 'lambda_l2': 5, 'bagging_fraction': 0.7421247289505501}. Best is trial 82 with value: 0.36672139025865974.\n",
      "[I 2024-07-23 23:10:18,347] Trial 87 finished with value: 0.31083385174866457 and parameters: {'num_leaves': 476, 'max_depth': 10, 'learning_rate': 0.28364817724590047, 'lambda_l1': 10, 'lambda_l2': 0, 'bagging_fraction': 0.7633356307529469}. Best is trial 82 with value: 0.36672139025865974.\n",
      "[I 2024-07-23 23:10:18,897] Trial 88 finished with value: 0.31245626859593273 and parameters: {'num_leaves': 499, 'max_depth': 11, 'learning_rate': 0.2779578015020252, 'lambda_l1': 9, 'lambda_l2': 6, 'bagging_fraction': 0.7080120728844221}. Best is trial 82 with value: 0.36672139025865974.\n",
      "[I 2024-07-23 23:10:19,551] Trial 89 finished with value: 0.30333606482738656 and parameters: {'num_leaves': 453, 'max_depth': 9, 'learning_rate': 0.2613021401724528, 'lambda_l1': 5, 'lambda_l2': 4, 'bagging_fraction': 0.6369131445445524}. Best is trial 82 with value: 0.36672139025865974.\n",
      "[I 2024-07-23 23:10:20,402] Trial 90 finished with value: 0.29650775919907385 and parameters: {'num_leaves': 464, 'max_depth': 10, 'learning_rate': 0.28821296117298956, 'lambda_l1': 3, 'lambda_l2': 11, 'bagging_fraction': 0.8097823049370347}. Best is trial 82 with value: 0.36672139025865974.\n",
      "[I 2024-07-23 23:10:21,202] Trial 91 finished with value: 0.30676287623564114 and parameters: {'num_leaves': 420, 'max_depth': 11, 'learning_rate': 0.2743768362998181, 'lambda_l1': 3, 'lambda_l2': 7, 'bagging_fraction': 0.7446907183324343}. Best is trial 82 with value: 0.36672139025865974.\n",
      "[I 2024-07-23 23:10:21,912] Trial 92 finished with value: 0.30816169201924104 and parameters: {'num_leaves': 413, 'max_depth': 11, 'learning_rate': 0.27375460568987425, 'lambda_l1': 7, 'lambda_l2': 21, 'bagging_fraction': 0.736631524805759}. Best is trial 82 with value: 0.36672139025865974.\n",
      "[I 2024-07-23 23:10:22,622] Trial 93 finished with value: 0.25754590433632907 and parameters: {'num_leaves': 448, 'max_depth': 12, 'learning_rate': 0.08554877765256315, 'lambda_l1': 10, 'lambda_l2': 13, 'bagging_fraction': 0.7168852316609164}. Best is trial 82 with value: 0.36672139025865974.\n",
      "[I 2024-07-23 23:10:23,201] Trial 94 finished with value: 0.3089142308285865 and parameters: {'num_leaves': 493, 'max_depth': 11, 'learning_rate': 0.2551344700981122, 'lambda_l1': 13, 'lambda_l2': 18, 'bagging_fraction': 0.7692383903141446}. Best is trial 82 with value: 0.36672139025865974.\n",
      "[I 2024-07-23 23:10:24,148] Trial 95 finished with value: 0.2873088738701645 and parameters: {'num_leaves': 482, 'max_depth': 10, 'learning_rate': 0.2985234053442475, 'lambda_l1': 2, 'lambda_l2': 25, 'bagging_fraction': 0.8291720899851397}. Best is trial 82 with value: 0.36672139025865974.\n",
      "[I 2024-07-23 23:10:24,979] Trial 96 finished with value: 0.3188028092433724 and parameters: {'num_leaves': 392, 'max_depth': 12, 'learning_rate': 0.2513713555079237, 'lambda_l1': 0, 'lambda_l2': 15, 'bagging_fraction': 0.6876109108480871}. Best is trial 82 with value: 0.36672139025865974.\n",
      "[I 2024-07-23 23:10:25,763] Trial 97 finished with value: 0.30530846601552514 and parameters: {'num_leaves': 391, 'max_depth': 12, 'learning_rate': 0.2514287884211591, 'lambda_l1': 0, 'lambda_l2': 11, 'bagging_fraction': 0.6776435732989631}. Best is trial 82 with value: 0.36672139025865974.\n",
      "[I 2024-07-23 23:10:26,342] Trial 98 finished with value: 0.30885638114948155 and parameters: {'num_leaves': 405, 'max_depth': 12, 'learning_rate': 0.2615915646993383, 'lambda_l1': 7, 'lambda_l2': 2, 'bagging_fraction': 0.6969110468589502}. Best is trial 82 with value: 0.36672139025865974.\n",
      "[I 2024-07-23 23:10:26,863] Trial 99 finished with value: 0.3232999415276329 and parameters: {'num_leaves': 467, 'max_depth': 11, 'learning_rate': 0.27970446908470137, 'lambda_l1': 12, 'lambda_l2': 15, 'bagging_fraction': 0.8032902961114798}. Best is trial 82 with value: 0.36672139025865974.\n"
     ]
    }
   ],
   "source": [
    "study = optuna.create_study(direction=\"maximize\")\n",
    "study.optimize(objective, n_trials=n_trials)"
   ]
  },
  {
   "cell_type": "code",
   "execution_count": 12,
   "metadata": {},
   "outputs": [
    {
     "data": {
      "application/vnd.plotly.v1+json": {
       "config": {
        "plotlyServerURL": "https://plot.ly"
       },
       "data": [
        {
         "mode": "markers",
         "name": "Objective Value",
         "type": "scatter",
         "x": [
          0,
          1,
          2,
          3,
          4,
          5,
          6,
          7,
          8,
          9,
          10,
          11,
          12,
          13,
          14,
          15,
          16,
          17,
          18,
          19,
          20,
          21,
          22,
          23,
          24,
          25,
          26,
          27,
          28,
          29,
          30,
          31,
          32,
          33,
          34,
          35,
          36,
          37,
          38,
          39,
          40,
          41,
          42,
          43,
          44,
          45,
          46,
          47,
          48,
          49,
          50,
          51,
          52,
          53,
          54,
          55,
          56,
          57,
          58,
          59,
          60,
          61,
          62,
          63,
          64,
          65,
          66,
          67,
          68,
          69,
          70,
          71,
          72,
          73,
          74,
          75,
          76,
          77,
          78,
          79,
          80,
          81,
          82,
          83,
          84,
          85,
          86,
          87,
          88,
          89,
          90,
          91,
          92,
          93,
          94,
          95,
          96,
          97,
          98,
          99
         ],
         "y": [
          0.04255990041876114,
          0.2955433870699944,
          0.09259837033195141,
          0.1425527446357941,
          0.10702202855314483,
          0.2292754558666079,
          0,
          0.20241012195587108,
          0.021321145304986862,
          0.21242491125098403,
          0.2884288467816635,
          0.3003995367404106,
          0.3024398935257122,
          0.2984251129420554,
          0.2755421704387777,
          0.27257038186367744,
          0.2996414765587133,
          0.22881492775372358,
          0.26561929228832715,
          0.04351891632529082,
          0.2916320007428856,
          0.2867578972008877,
          0.29342134781439855,
          0.29039425845853545,
          0.2511926795633946,
          0.30674062347085634,
          0.2818390777844233,
          0.30051448680448667,
          0.2113842229559305,
          0.21357890089416298,
          0.03438899662768954,
          0.3173571264623123,
          0.3021343993590064,
          0.2703824003734565,
          0.25941438698139807,
          0.2936762887375649,
          0.29367298409557074,
          0.31912736170079564,
          0.28160759314320866,
          0.12653199628673664,
          0.2642285745912102,
          0.3113795209675408,
          0.30362580584679244,
          0.26117607539330845,
          0.2765695794483859,
          0.09470851537223247,
          0.3023081987487551,
          0.3021343993590064,
          0.25213049783333596,
          0.2689806086461519,
          0.29625700398377514,
          0.2968943712210348,
          0.28656910727419976,
          0.30235201759747254,
          0.30296352691783285,
          0.29758018122696445,
          0.26142073518471054,
          0.3006492513587376,
          0.3224786781615999,
          0.29440511462078667,
          0.26131066414062065,
          0.30051448680448667,
          0.29148397411896015,
          0.2942920758691519,
          0.3084251203438585,
          0.24199494972370503,
          0.24706047247162832,
          0.2626845720374037,
          0.20953483364527414,
          0.30450353420082227,
          0.29721533092378805,
          0.2914794096520279,
          0.2887726652893669,
          0.14828495114497214,
          0.28911911771255966,
          0.3280711478587739,
          0.3276989696228028,
          0.3130786670228762,
          0.29575117708640586,
          0.3231290508753143,
          0.3232999415276329,
          0.3123649307998969,
          0.36672139025865974,
          0.26996981097320444,
          0.28844448648676924,
          0.2909662023225559,
          0.31725071002248223,
          0.31083385174866457,
          0.31245626859593273,
          0.30333606482738656,
          0.29650775919907385,
          0.30676287623564114,
          0.30816169201924104,
          0.25754590433632907,
          0.3089142308285865,
          0.2873088738701645,
          0.3188028092433724,
          0.30530846601552514,
          0.30885638114948155,
          0.3232999415276329
         ]
        },
        {
         "mode": "lines",
         "name": "Best Value",
         "type": "scatter",
         "x": [
          0,
          1,
          2,
          3,
          4,
          5,
          6,
          7,
          8,
          9,
          10,
          11,
          12,
          13,
          14,
          15,
          16,
          17,
          18,
          19,
          20,
          21,
          22,
          23,
          24,
          25,
          26,
          27,
          28,
          29,
          30,
          31,
          32,
          33,
          34,
          35,
          36,
          37,
          38,
          39,
          40,
          41,
          42,
          43,
          44,
          45,
          46,
          47,
          48,
          49,
          50,
          51,
          52,
          53,
          54,
          55,
          56,
          57,
          58,
          59,
          60,
          61,
          62,
          63,
          64,
          65,
          66,
          67,
          68,
          69,
          70,
          71,
          72,
          73,
          74,
          75,
          76,
          77,
          78,
          79,
          80,
          81,
          82,
          83,
          84,
          85,
          86,
          87,
          88,
          89,
          90,
          91,
          92,
          93,
          94,
          95,
          96,
          97,
          98,
          99
         ],
         "y": [
          0.04255990041876114,
          0.2955433870699944,
          0.2955433870699944,
          0.2955433870699944,
          0.2955433870699944,
          0.2955433870699944,
          0.2955433870699944,
          0.2955433870699944,
          0.2955433870699944,
          0.2955433870699944,
          0.2955433870699944,
          0.3003995367404106,
          0.3024398935257122,
          0.3024398935257122,
          0.3024398935257122,
          0.3024398935257122,
          0.3024398935257122,
          0.3024398935257122,
          0.3024398935257122,
          0.3024398935257122,
          0.3024398935257122,
          0.3024398935257122,
          0.3024398935257122,
          0.3024398935257122,
          0.3024398935257122,
          0.30674062347085634,
          0.30674062347085634,
          0.30674062347085634,
          0.30674062347085634,
          0.30674062347085634,
          0.30674062347085634,
          0.3173571264623123,
          0.3173571264623123,
          0.3173571264623123,
          0.3173571264623123,
          0.3173571264623123,
          0.3173571264623123,
          0.31912736170079564,
          0.31912736170079564,
          0.31912736170079564,
          0.31912736170079564,
          0.31912736170079564,
          0.31912736170079564,
          0.31912736170079564,
          0.31912736170079564,
          0.31912736170079564,
          0.31912736170079564,
          0.31912736170079564,
          0.31912736170079564,
          0.31912736170079564,
          0.31912736170079564,
          0.31912736170079564,
          0.31912736170079564,
          0.31912736170079564,
          0.31912736170079564,
          0.31912736170079564,
          0.31912736170079564,
          0.31912736170079564,
          0.3224786781615999,
          0.3224786781615999,
          0.3224786781615999,
          0.3224786781615999,
          0.3224786781615999,
          0.3224786781615999,
          0.3224786781615999,
          0.3224786781615999,
          0.3224786781615999,
          0.3224786781615999,
          0.3224786781615999,
          0.3224786781615999,
          0.3224786781615999,
          0.3224786781615999,
          0.3224786781615999,
          0.3224786781615999,
          0.3224786781615999,
          0.3280711478587739,
          0.3280711478587739,
          0.3280711478587739,
          0.3280711478587739,
          0.3280711478587739,
          0.3280711478587739,
          0.3280711478587739,
          0.36672139025865974,
          0.36672139025865974,
          0.36672139025865974,
          0.36672139025865974,
          0.36672139025865974,
          0.36672139025865974,
          0.36672139025865974,
          0.36672139025865974,
          0.36672139025865974,
          0.36672139025865974,
          0.36672139025865974,
          0.36672139025865974,
          0.36672139025865974,
          0.36672139025865974,
          0.36672139025865974,
          0.36672139025865974,
          0.36672139025865974,
          0.36672139025865974
         ]
        },
        {
         "marker": {
          "color": "#cccccc"
         },
         "mode": "markers",
         "name": "Infeasible Trial",
         "showlegend": false,
         "type": "scatter",
         "x": [],
         "y": []
        }
       ],
       "layout": {
        "template": {
         "data": {
          "bar": [
           {
            "error_x": {
             "color": "#2a3f5f"
            },
            "error_y": {
             "color": "#2a3f5f"
            },
            "marker": {
             "line": {
              "color": "#E5ECF6",
              "width": 0.5
             },
             "pattern": {
              "fillmode": "overlay",
              "size": 10,
              "solidity": 0.2
             }
            },
            "type": "bar"
           }
          ],
          "barpolar": [
           {
            "marker": {
             "line": {
              "color": "#E5ECF6",
              "width": 0.5
             },
             "pattern": {
              "fillmode": "overlay",
              "size": 10,
              "solidity": 0.2
             }
            },
            "type": "barpolar"
           }
          ],
          "carpet": [
           {
            "aaxis": {
             "endlinecolor": "#2a3f5f",
             "gridcolor": "white",
             "linecolor": "white",
             "minorgridcolor": "white",
             "startlinecolor": "#2a3f5f"
            },
            "baxis": {
             "endlinecolor": "#2a3f5f",
             "gridcolor": "white",
             "linecolor": "white",
             "minorgridcolor": "white",
             "startlinecolor": "#2a3f5f"
            },
            "type": "carpet"
           }
          ],
          "choropleth": [
           {
            "colorbar": {
             "outlinewidth": 0,
             "ticks": ""
            },
            "type": "choropleth"
           }
          ],
          "contour": [
           {
            "colorbar": {
             "outlinewidth": 0,
             "ticks": ""
            },
            "colorscale": [
             [
              0,
              "#0d0887"
             ],
             [
              0.1111111111111111,
              "#46039f"
             ],
             [
              0.2222222222222222,
              "#7201a8"
             ],
             [
              0.3333333333333333,
              "#9c179e"
             ],
             [
              0.4444444444444444,
              "#bd3786"
             ],
             [
              0.5555555555555556,
              "#d8576b"
             ],
             [
              0.6666666666666666,
              "#ed7953"
             ],
             [
              0.7777777777777778,
              "#fb9f3a"
             ],
             [
              0.8888888888888888,
              "#fdca26"
             ],
             [
              1,
              "#f0f921"
             ]
            ],
            "type": "contour"
           }
          ],
          "contourcarpet": [
           {
            "colorbar": {
             "outlinewidth": 0,
             "ticks": ""
            },
            "type": "contourcarpet"
           }
          ],
          "heatmap": [
           {
            "colorbar": {
             "outlinewidth": 0,
             "ticks": ""
            },
            "colorscale": [
             [
              0,
              "#0d0887"
             ],
             [
              0.1111111111111111,
              "#46039f"
             ],
             [
              0.2222222222222222,
              "#7201a8"
             ],
             [
              0.3333333333333333,
              "#9c179e"
             ],
             [
              0.4444444444444444,
              "#bd3786"
             ],
             [
              0.5555555555555556,
              "#d8576b"
             ],
             [
              0.6666666666666666,
              "#ed7953"
             ],
             [
              0.7777777777777778,
              "#fb9f3a"
             ],
             [
              0.8888888888888888,
              "#fdca26"
             ],
             [
              1,
              "#f0f921"
             ]
            ],
            "type": "heatmap"
           }
          ],
          "heatmapgl": [
           {
            "colorbar": {
             "outlinewidth": 0,
             "ticks": ""
            },
            "colorscale": [
             [
              0,
              "#0d0887"
             ],
             [
              0.1111111111111111,
              "#46039f"
             ],
             [
              0.2222222222222222,
              "#7201a8"
             ],
             [
              0.3333333333333333,
              "#9c179e"
             ],
             [
              0.4444444444444444,
              "#bd3786"
             ],
             [
              0.5555555555555556,
              "#d8576b"
             ],
             [
              0.6666666666666666,
              "#ed7953"
             ],
             [
              0.7777777777777778,
              "#fb9f3a"
             ],
             [
              0.8888888888888888,
              "#fdca26"
             ],
             [
              1,
              "#f0f921"
             ]
            ],
            "type": "heatmapgl"
           }
          ],
          "histogram": [
           {
            "marker": {
             "pattern": {
              "fillmode": "overlay",
              "size": 10,
              "solidity": 0.2
             }
            },
            "type": "histogram"
           }
          ],
          "histogram2d": [
           {
            "colorbar": {
             "outlinewidth": 0,
             "ticks": ""
            },
            "colorscale": [
             [
              0,
              "#0d0887"
             ],
             [
              0.1111111111111111,
              "#46039f"
             ],
             [
              0.2222222222222222,
              "#7201a8"
             ],
             [
              0.3333333333333333,
              "#9c179e"
             ],
             [
              0.4444444444444444,
              "#bd3786"
             ],
             [
              0.5555555555555556,
              "#d8576b"
             ],
             [
              0.6666666666666666,
              "#ed7953"
             ],
             [
              0.7777777777777778,
              "#fb9f3a"
             ],
             [
              0.8888888888888888,
              "#fdca26"
             ],
             [
              1,
              "#f0f921"
             ]
            ],
            "type": "histogram2d"
           }
          ],
          "histogram2dcontour": [
           {
            "colorbar": {
             "outlinewidth": 0,
             "ticks": ""
            },
            "colorscale": [
             [
              0,
              "#0d0887"
             ],
             [
              0.1111111111111111,
              "#46039f"
             ],
             [
              0.2222222222222222,
              "#7201a8"
             ],
             [
              0.3333333333333333,
              "#9c179e"
             ],
             [
              0.4444444444444444,
              "#bd3786"
             ],
             [
              0.5555555555555556,
              "#d8576b"
             ],
             [
              0.6666666666666666,
              "#ed7953"
             ],
             [
              0.7777777777777778,
              "#fb9f3a"
             ],
             [
              0.8888888888888888,
              "#fdca26"
             ],
             [
              1,
              "#f0f921"
             ]
            ],
            "type": "histogram2dcontour"
           }
          ],
          "mesh3d": [
           {
            "colorbar": {
             "outlinewidth": 0,
             "ticks": ""
            },
            "type": "mesh3d"
           }
          ],
          "parcoords": [
           {
            "line": {
             "colorbar": {
              "outlinewidth": 0,
              "ticks": ""
             }
            },
            "type": "parcoords"
           }
          ],
          "pie": [
           {
            "automargin": true,
            "type": "pie"
           }
          ],
          "scatter": [
           {
            "fillpattern": {
             "fillmode": "overlay",
             "size": 10,
             "solidity": 0.2
            },
            "type": "scatter"
           }
          ],
          "scatter3d": [
           {
            "line": {
             "colorbar": {
              "outlinewidth": 0,
              "ticks": ""
             }
            },
            "marker": {
             "colorbar": {
              "outlinewidth": 0,
              "ticks": ""
             }
            },
            "type": "scatter3d"
           }
          ],
          "scattercarpet": [
           {
            "marker": {
             "colorbar": {
              "outlinewidth": 0,
              "ticks": ""
             }
            },
            "type": "scattercarpet"
           }
          ],
          "scattergeo": [
           {
            "marker": {
             "colorbar": {
              "outlinewidth": 0,
              "ticks": ""
             }
            },
            "type": "scattergeo"
           }
          ],
          "scattergl": [
           {
            "marker": {
             "colorbar": {
              "outlinewidth": 0,
              "ticks": ""
             }
            },
            "type": "scattergl"
           }
          ],
          "scattermapbox": [
           {
            "marker": {
             "colorbar": {
              "outlinewidth": 0,
              "ticks": ""
             }
            },
            "type": "scattermapbox"
           }
          ],
          "scatterpolar": [
           {
            "marker": {
             "colorbar": {
              "outlinewidth": 0,
              "ticks": ""
             }
            },
            "type": "scatterpolar"
           }
          ],
          "scatterpolargl": [
           {
            "marker": {
             "colorbar": {
              "outlinewidth": 0,
              "ticks": ""
             }
            },
            "type": "scatterpolargl"
           }
          ],
          "scatterternary": [
           {
            "marker": {
             "colorbar": {
              "outlinewidth": 0,
              "ticks": ""
             }
            },
            "type": "scatterternary"
           }
          ],
          "surface": [
           {
            "colorbar": {
             "outlinewidth": 0,
             "ticks": ""
            },
            "colorscale": [
             [
              0,
              "#0d0887"
             ],
             [
              0.1111111111111111,
              "#46039f"
             ],
             [
              0.2222222222222222,
              "#7201a8"
             ],
             [
              0.3333333333333333,
              "#9c179e"
             ],
             [
              0.4444444444444444,
              "#bd3786"
             ],
             [
              0.5555555555555556,
              "#d8576b"
             ],
             [
              0.6666666666666666,
              "#ed7953"
             ],
             [
              0.7777777777777778,
              "#fb9f3a"
             ],
             [
              0.8888888888888888,
              "#fdca26"
             ],
             [
              1,
              "#f0f921"
             ]
            ],
            "type": "surface"
           }
          ],
          "table": [
           {
            "cells": {
             "fill": {
              "color": "#EBF0F8"
             },
             "line": {
              "color": "white"
             }
            },
            "header": {
             "fill": {
              "color": "#C8D4E3"
             },
             "line": {
              "color": "white"
             }
            },
            "type": "table"
           }
          ]
         },
         "layout": {
          "annotationdefaults": {
           "arrowcolor": "#2a3f5f",
           "arrowhead": 0,
           "arrowwidth": 1
          },
          "autotypenumbers": "strict",
          "coloraxis": {
           "colorbar": {
            "outlinewidth": 0,
            "ticks": ""
           }
          },
          "colorscale": {
           "diverging": [
            [
             0,
             "#8e0152"
            ],
            [
             0.1,
             "#c51b7d"
            ],
            [
             0.2,
             "#de77ae"
            ],
            [
             0.3,
             "#f1b6da"
            ],
            [
             0.4,
             "#fde0ef"
            ],
            [
             0.5,
             "#f7f7f7"
            ],
            [
             0.6,
             "#e6f5d0"
            ],
            [
             0.7,
             "#b8e186"
            ],
            [
             0.8,
             "#7fbc41"
            ],
            [
             0.9,
             "#4d9221"
            ],
            [
             1,
             "#276419"
            ]
           ],
           "sequential": [
            [
             0,
             "#0d0887"
            ],
            [
             0.1111111111111111,
             "#46039f"
            ],
            [
             0.2222222222222222,
             "#7201a8"
            ],
            [
             0.3333333333333333,
             "#9c179e"
            ],
            [
             0.4444444444444444,
             "#bd3786"
            ],
            [
             0.5555555555555556,
             "#d8576b"
            ],
            [
             0.6666666666666666,
             "#ed7953"
            ],
            [
             0.7777777777777778,
             "#fb9f3a"
            ],
            [
             0.8888888888888888,
             "#fdca26"
            ],
            [
             1,
             "#f0f921"
            ]
           ],
           "sequentialminus": [
            [
             0,
             "#0d0887"
            ],
            [
             0.1111111111111111,
             "#46039f"
            ],
            [
             0.2222222222222222,
             "#7201a8"
            ],
            [
             0.3333333333333333,
             "#9c179e"
            ],
            [
             0.4444444444444444,
             "#bd3786"
            ],
            [
             0.5555555555555556,
             "#d8576b"
            ],
            [
             0.6666666666666666,
             "#ed7953"
            ],
            [
             0.7777777777777778,
             "#fb9f3a"
            ],
            [
             0.8888888888888888,
             "#fdca26"
            ],
            [
             1,
             "#f0f921"
            ]
           ]
          },
          "colorway": [
           "#636efa",
           "#EF553B",
           "#00cc96",
           "#ab63fa",
           "#FFA15A",
           "#19d3f3",
           "#FF6692",
           "#B6E880",
           "#FF97FF",
           "#FECB52"
          ],
          "font": {
           "color": "#2a3f5f"
          },
          "geo": {
           "bgcolor": "white",
           "lakecolor": "white",
           "landcolor": "#E5ECF6",
           "showlakes": true,
           "showland": true,
           "subunitcolor": "white"
          },
          "hoverlabel": {
           "align": "left"
          },
          "hovermode": "closest",
          "mapbox": {
           "style": "light"
          },
          "paper_bgcolor": "white",
          "plot_bgcolor": "#E5ECF6",
          "polar": {
           "angularaxis": {
            "gridcolor": "white",
            "linecolor": "white",
            "ticks": ""
           },
           "bgcolor": "#E5ECF6",
           "radialaxis": {
            "gridcolor": "white",
            "linecolor": "white",
            "ticks": ""
           }
          },
          "scene": {
           "xaxis": {
            "backgroundcolor": "#E5ECF6",
            "gridcolor": "white",
            "gridwidth": 2,
            "linecolor": "white",
            "showbackground": true,
            "ticks": "",
            "zerolinecolor": "white"
           },
           "yaxis": {
            "backgroundcolor": "#E5ECF6",
            "gridcolor": "white",
            "gridwidth": 2,
            "linecolor": "white",
            "showbackground": true,
            "ticks": "",
            "zerolinecolor": "white"
           },
           "zaxis": {
            "backgroundcolor": "#E5ECF6",
            "gridcolor": "white",
            "gridwidth": 2,
            "linecolor": "white",
            "showbackground": true,
            "ticks": "",
            "zerolinecolor": "white"
           }
          },
          "shapedefaults": {
           "line": {
            "color": "#2a3f5f"
           }
          },
          "ternary": {
           "aaxis": {
            "gridcolor": "white",
            "linecolor": "white",
            "ticks": ""
           },
           "baxis": {
            "gridcolor": "white",
            "linecolor": "white",
            "ticks": ""
           },
           "bgcolor": "#E5ECF6",
           "caxis": {
            "gridcolor": "white",
            "linecolor": "white",
            "ticks": ""
           }
          },
          "title": {
           "x": 0.05
          },
          "xaxis": {
           "automargin": true,
           "gridcolor": "white",
           "linecolor": "white",
           "ticks": "",
           "title": {
            "standoff": 15
           },
           "zerolinecolor": "white",
           "zerolinewidth": 2
          },
          "yaxis": {
           "automargin": true,
           "gridcolor": "white",
           "linecolor": "white",
           "ticks": "",
           "title": {
            "standoff": 15
           },
           "zerolinecolor": "white",
           "zerolinewidth": 2
          }
         }
        },
        "title": {
         "text": "Optimization History Plot"
        },
        "xaxis": {
         "title": {
          "text": "Trial"
         }
        },
        "yaxis": {
         "title": {
          "text": "Objective Value"
         }
        }
       }
      }
     },
     "metadata": {},
     "output_type": "display_data"
    }
   ],
   "source": [
    "optuna.visualization.plot_optimization_history(**{\"study\": study})"
   ]
  },
  {
   "cell_type": "markdown",
   "metadata": {},
   "source": [
    "## goal: 3 day 5% gain (mid anomaly %)"
   ]
  },
  {
   "cell_type": "code",
   "execution_count": 13,
   "metadata": {},
   "outputs": [
    {
     "name": "stdout",
     "output_type": "stream",
     "text": [
      "(8793, 101) (8793,) (2205, 101) (2205,)\n",
      "(array([0, 1]), array([6781, 2012], dtype=int64))\n",
      "(array([0, 1]), array([1862,  343], dtype=int64))\n"
     ]
    }
   ],
   "source": [
    "X_train, y_train, X_val, y_val = data_prep_for_tuning(ticker_list, normalize=False, obj=[3, 0.05])"
   ]
  },
  {
   "cell_type": "code",
   "execution_count": 14,
   "metadata": {},
   "outputs": [
    {
     "name": "stderr",
     "output_type": "stream",
     "text": [
      "[I 2024-07-23 23:10:28,687] A new study created in memory with name: no-name-c33eee06-9f29-493a-942e-03e8152dd906\n",
      "[I 2024-07-23 23:10:28,776] Trial 0 finished with value: 0.02112195597287959 and parameters: {'num_leaves': 322, 'max_depth': 7, 'learning_rate': 0.227914052519964, 'lambda_l1': 49, 'lambda_l2': 43, 'bagging_fraction': 0.6491677477814222}. Best is trial 0 with value: 0.02112195597287959.\n",
      "[I 2024-07-23 23:10:28,870] Trial 1 finished with value: 0.0 and parameters: {'num_leaves': 79, 'max_depth': 11, 'learning_rate': 0.20908924513758553, 'lambda_l1': 59, 'lambda_l2': 62, 'bagging_fraction': 0.6252768743031439}. Best is trial 0 with value: 0.02112195597287959.\n",
      "[I 2024-07-23 23:10:28,965] Trial 2 finished with value: 0.02385837656220654 and parameters: {'num_leaves': 299, 'max_depth': 8, 'learning_rate': 0.20646594059146162, 'lambda_l1': 62, 'lambda_l2': 55, 'bagging_fraction': 0.39749272061139185}. Best is trial 2 with value: 0.02385837656220654.\n",
      "[I 2024-07-23 23:10:29,129] Trial 3 finished with value: 0.10547087350840069 and parameters: {'num_leaves': 107, 'max_depth': 14, 'learning_rate': 0.18424800811843758, 'lambda_l1': 33, 'lambda_l2': 63, 'bagging_fraction': 0.7965574539781435}. Best is trial 3 with value: 0.10547087350840069.\n",
      "[I 2024-07-23 23:10:29,242] Trial 4 finished with value: 0.0 and parameters: {'num_leaves': 384, 'max_depth': 6, 'learning_rate': 0.21061076860156247, 'lambda_l1': 82, 'lambda_l2': 84, 'bagging_fraction': 0.4448180919876669}. Best is trial 3 with value: 0.10547087350840069.\n",
      "[I 2024-07-23 23:10:29,359] Trial 5 finished with value: 0.0 and parameters: {'num_leaves': 76, 'max_depth': 9, 'learning_rate': 0.11805563329853021, 'lambda_l1': 97, 'lambda_l2': 91, 'bagging_fraction': 0.7439755736547679}. Best is trial 3 with value: 0.10547087350840069.\n",
      "[I 2024-07-23 23:10:29,479] Trial 6 finished with value: 0.0 and parameters: {'num_leaves': 362, 'max_depth': 10, 'learning_rate': 0.1355350213193789, 'lambda_l1': 86, 'lambda_l2': 38, 'bagging_fraction': 0.678084351177541}. Best is trial 3 with value: 0.10547087350840069.\n",
      "[I 2024-07-23 23:10:29,588] Trial 7 finished with value: 0.0 and parameters: {'num_leaves': 434, 'max_depth': 5, 'learning_rate': 0.1397577993144024, 'lambda_l1': 45, 'lambda_l2': 28, 'bagging_fraction': 0.5180021554788248}. Best is trial 3 with value: 0.10547087350840069.\n",
      "[I 2024-07-23 23:10:29,860] Trial 8 finished with value: 0.03180002551973248 and parameters: {'num_leaves': 314, 'max_depth': 13, 'learning_rate': 0.06190707513954497, 'lambda_l1': 15, 'lambda_l2': 57, 'bagging_fraction': 0.3683942790026385}. Best is trial 3 with value: 0.10547087350840069.\n",
      "[I 2024-07-23 23:10:30,170] Trial 9 finished with value: 0.19391969546524512 and parameters: {'num_leaves': 31, 'max_depth': 8, 'learning_rate': 0.20421748454603136, 'lambda_l1': 11, 'lambda_l2': 11, 'bagging_fraction': 0.8120838576612461}. Best is trial 9 with value: 0.19391969546524512.\n",
      "[I 2024-07-23 23:10:30,335] Trial 10 finished with value: 0.18029340569678848 and parameters: {'num_leaves': 188, 'max_depth': 3, 'learning_rate': 0.2756650236878857, 'lambda_l1': 1, 'lambda_l2': 6, 'bagging_fraction': 0.9363736992083671}. Best is trial 9 with value: 0.19391969546524512.\n",
      "[I 2024-07-23 23:10:30,502] Trial 11 finished with value: 0.16512598744756604 and parameters: {'num_leaves': 196, 'max_depth': 3, 'learning_rate': 0.294257517447875, 'lambda_l1': 1, 'lambda_l2': 0, 'bagging_fraction': 0.9497041911164336}. Best is trial 9 with value: 0.19391969546524512.\n",
      "[I 2024-07-23 23:10:30,683] Trial 12 finished with value: 0.17400523518996233 and parameters: {'num_leaves': 183, 'max_depth': 3, 'learning_rate': 0.28626889398924615, 'lambda_l1': 2, 'lambda_l2': 0, 'bagging_fraction': 0.9928028099852042}. Best is trial 9 with value: 0.19391969546524512.\n",
      "[I 2024-07-23 23:10:30,872] Trial 13 finished with value: 0.1321242539115877 and parameters: {'num_leaves': 29, 'max_depth': 16, 'learning_rate': 0.2565336017326464, 'lambda_l1': 22, 'lambda_l2': 17, 'bagging_fraction': 0.8532326319195654}. Best is trial 9 with value: 0.19391969546524512.\n",
      "[I 2024-07-23 23:10:31,097] Trial 14 finished with value: 0.15289545136138563 and parameters: {'num_leaves': 200, 'max_depth': 5, 'learning_rate': 0.25257177701760314, 'lambda_l1': 16, 'lambda_l2': 16, 'bagging_fraction': 0.9028882432804203}. Best is trial 9 with value: 0.19391969546524512.\n",
      "[I 2024-07-23 23:10:31,355] Trial 15 finished with value: 0.07950886570613776 and parameters: {'num_leaves': 501, 'max_depth': 12, 'learning_rate': 0.09657012521434805, 'lambda_l1': 32, 'lambda_l2': 16, 'bagging_fraction': 0.855304215749408}. Best is trial 9 with value: 0.19391969546524512.\n",
      "[I 2024-07-23 23:10:31,560] Trial 16 finished with value: 0.15735019152318103 and parameters: {'num_leaves': 151, 'max_depth': 4, 'learning_rate': 0.17192974157920807, 'lambda_l1': 5, 'lambda_l2': 25, 'bagging_fraction': 0.7597838491708357}. Best is trial 9 with value: 0.19391969546524512.\n",
      "[I 2024-07-23 23:10:31,722] Trial 17 finished with value: 0.06784112476061374 and parameters: {'num_leaves': 20, 'max_depth': 7, 'learning_rate': 0.2560060330866342, 'lambda_l1': 28, 'lambda_l2': 8, 'bagging_fraction': 0.8902461921662034}. Best is trial 9 with value: 0.19391969546524512.\n",
      "[I 2024-07-23 23:10:32,205] Trial 18 finished with value: 0.0 and parameters: {'num_leaves': 236, 'max_depth': 9, 'learning_rate': 0.028766906923623825, 'lambda_l1': 12, 'lambda_l2': 31, 'bagging_fraction': 0.999017751962195}. Best is trial 9 with value: 0.19391969546524512.\n",
      "[I 2024-07-23 23:10:32,355] Trial 19 finished with value: 0.07027673766516843 and parameters: {'num_leaves': 126, 'max_depth': 15, 'learning_rate': 0.23946112242486695, 'lambda_l1': 39, 'lambda_l2': 75, 'bagging_fraction': 0.5786213926260773}. Best is trial 9 with value: 0.19391969546524512.\n",
      "[I 2024-07-23 23:10:32,524] Trial 20 finished with value: 0.1379091568418336 and parameters: {'num_leaves': 244, 'max_depth': 5, 'learning_rate': 0.29941999295695765, 'lambda_l1': 22, 'lambda_l2': 43, 'bagging_fraction': 0.7961877697404074}. Best is trial 9 with value: 0.19391969546524512.\n",
      "[I 2024-07-23 23:10:32,678] Trial 21 finished with value: 0.17237669474756537 and parameters: {'num_leaves': 166, 'max_depth': 3, 'learning_rate': 0.27801248488069685, 'lambda_l1': 0, 'lambda_l2': 0, 'bagging_fraction': 0.9906202627538766}. Best is trial 9 with value: 0.19391969546524512.\n",
      "[I 2024-07-23 23:10:32,847] Trial 22 finished with value: 0.14306382950272706 and parameters: {'num_leaves': 212, 'max_depth': 3, 'learning_rate': 0.27099109368850866, 'lambda_l1': 7, 'lambda_l2': 5, 'bagging_fraction': 0.9306575077161982}. Best is trial 9 with value: 0.19391969546524512.\n",
      "[I 2024-07-23 23:10:33,075] Trial 23 finished with value: 0.11387650309817876 and parameters: {'num_leaves': 279, 'max_depth': 4, 'learning_rate': 0.17237238331796945, 'lambda_l1': 11, 'lambda_l2': 12, 'bagging_fraction': 0.8346569703171289}. Best is trial 9 with value: 0.19391969546524512.\n",
      "[I 2024-07-23 23:10:33,264] Trial 24 finished with value: 0.12227584094050978 and parameters: {'num_leaves': 68, 'max_depth': 6, 'learning_rate': 0.2294071682300814, 'lambda_l1': 22, 'lambda_l2': 21, 'bagging_fraction': 0.9587088256318884}. Best is trial 9 with value: 0.19391969546524512.\n",
      "[I 2024-07-23 23:10:33,567] Trial 25 finished with value: 0.17330606251776476 and parameters: {'num_leaves': 160, 'max_depth': 7, 'learning_rate': 0.27263419646875725, 'lambda_l1': 7, 'lambda_l2': 8, 'bagging_fraction': 0.3050759982370698}. Best is trial 9 with value: 0.19391969546524512.\n",
      "[I 2024-07-23 23:10:33,760] Trial 26 finished with value: 0.15672661255407855 and parameters: {'num_leaves': 117, 'max_depth': 4, 'learning_rate': 0.19161041891726693, 'lambda_l1': 0, 'lambda_l2': 33, 'bagging_fraction': 0.7209658139775705}. Best is trial 9 with value: 0.19391969546524512.\n",
      "[I 2024-07-23 23:10:33,921] Trial 27 finished with value: 0.009291752794091392 and parameters: {'num_leaves': 248, 'max_depth': 10, 'learning_rate': 0.2879285798607554, 'lambda_l1': 61, 'lambda_l2': 0, 'bagging_fraction': 0.898951356592606}. Best is trial 9 with value: 0.19391969546524512.\n",
      "[I 2024-07-23 23:10:34,198] Trial 28 finished with value: 0.1457688510216398 and parameters: {'num_leaves': 173, 'max_depth': 8, 'learning_rate': 0.24173377758917575, 'lambda_l1': 17, 'lambda_l2': 22, 'bagging_fraction': 0.8112015576359054}. Best is trial 9 with value: 0.19391969546524512.\n",
      "[I 2024-07-23 23:10:34,342] Trial 29 finished with value: 0.021617844832220255 and parameters: {'num_leaves': 49, 'max_depth': 6, 'learning_rate': 0.22059228555470312, 'lambda_l1': 50, 'lambda_l2': 10, 'bagging_fraction': 0.9475749270652496}. Best is trial 9 with value: 0.19391969546524512.\n",
      "[I 2024-07-23 23:10:34,504] Trial 30 finished with value: 0.0551218958807139 and parameters: {'num_leaves': 346, 'max_depth': 3, 'learning_rate': 0.2651893980726866, 'lambda_l1': 27, 'lambda_l2': 42, 'bagging_fraction': 0.872356899054943}. Best is trial 9 with value: 0.19391969546524512.\n",
      "[I 2024-07-23 23:10:34,801] Trial 31 finished with value: 0.19311904155846674 and parameters: {'num_leaves': 139, 'max_depth': 7, 'learning_rate': 0.2809932315959776, 'lambda_l1': 9, 'lambda_l2': 7, 'bagging_fraction': 0.318444659273187}. Best is trial 9 with value: 0.19391969546524512.\n",
      "[I 2024-07-23 23:10:35,198] Trial 32 finished with value: 0.18609746164568108 and parameters: {'num_leaves': 102, 'max_depth': 8, 'learning_rate': 0.2836357238157031, 'lambda_l1': 8, 'lambda_l2': 6, 'bagging_fraction': 0.5587360049121453}. Best is trial 9 with value: 0.19391969546524512.\n",
      "[I 2024-07-23 23:10:35,681] Trial 33 finished with value: 0.17363239361026972 and parameters: {'num_leaves': 92, 'max_depth': 7, 'learning_rate': 0.23310087606078067, 'lambda_l1': 9, 'lambda_l2': 14, 'bagging_fraction': 0.5340588425592865}. Best is trial 9 with value: 0.19391969546524512.\n",
      "[I 2024-07-23 23:10:35,842] Trial 34 finished with value: 0.010701367543168312 and parameters: {'num_leaves': 124, 'max_depth': 8, 'learning_rate': 0.20531247892760576, 'lambda_l1': 71, 'lambda_l2': 5, 'bagging_fraction': 0.6521106175931267}. Best is trial 9 with value: 0.19391969546524512.\n",
      "[I 2024-07-23 23:10:35,991] Trial 35 finished with value: 0.08637756661613122 and parameters: {'num_leaves': 57, 'max_depth': 11, 'learning_rate': 0.2996118476122709, 'lambda_l1': 40, 'lambda_l2': 22, 'bagging_fraction': 0.4623597007520246}. Best is trial 9 with value: 0.19391969546524512.\n",
      "[I 2024-07-23 23:10:36,215] Trial 36 finished with value: 0.1416425436705345 and parameters: {'num_leaves': 141, 'max_depth': 8, 'learning_rate': 0.25000642745548574, 'lambda_l1': 18, 'lambda_l2': 6, 'bagging_fraction': 0.5866124941024761}. Best is trial 9 with value: 0.19391969546524512.\n",
      "[I 2024-07-23 23:10:36,526] Trial 37 finished with value: 0.15329466722735485 and parameters: {'num_leaves': 95, 'max_depth': 9, 'learning_rate': 0.1976833608776829, 'lambda_l1': 10, 'lambda_l2': 99, 'bagging_fraction': 0.30756482424411746}. Best is trial 9 with value: 0.19391969546524512.\n",
      "[I 2024-07-23 23:10:36,664] Trial 38 finished with value: 0.03497886333002865 and parameters: {'num_leaves': 92, 'max_depth': 11, 'learning_rate': 0.21991230888112218, 'lambda_l1': 55, 'lambda_l2': 36, 'bagging_fraction': 0.43231205769791253}. Best is trial 9 with value: 0.19391969546524512.\n",
      "[I 2024-07-23 23:10:36,835] Trial 39 finished with value: 0.12562790873443783 and parameters: {'num_leaves': 34, 'max_depth': 10, 'learning_rate': 0.27133688243064663, 'lambda_l1': 27, 'lambda_l2': 50, 'bagging_fraction': 0.6916114969099624}. Best is trial 9 with value: 0.19391969546524512.\n",
      "[I 2024-07-23 23:10:36,970] Trial 40 finished with value: 0.012075287854817481 and parameters: {'num_leaves': 219, 'max_depth': 6, 'learning_rate': 0.168822106094182, 'lambda_l1': 73, 'lambda_l2': 70, 'bagging_fraction': 0.35861364868639317}. Best is trial 9 with value: 0.19391969546524512.\n",
      "[I 2024-07-23 23:10:37,161] Trial 41 finished with value: 0.14666392590610247 and parameters: {'num_leaves': 195, 'max_depth': 4, 'learning_rate': 0.2852905306137147, 'lambda_l1': 4, 'lambda_l2': 4, 'bagging_fraction': 0.49311716341632494}. Best is trial 9 with value: 0.19391969546524512.\n",
      "[I 2024-07-23 23:10:37,618] Trial 42 finished with value: 0.19521503189845937 and parameters: {'num_leaves': 281, 'max_depth': 7, 'learning_rate': 0.2858601075673077, 'lambda_l1': 5, 'lambda_l2': 12, 'bagging_fraction': 0.7778984535752027}. Best is trial 42 with value: 0.19521503189845937.\n",
      "[I 2024-07-23 23:10:37,986] Trial 43 finished with value: 0.1861895155837527 and parameters: {'num_leaves': 270, 'max_depth': 8, 'learning_rate': 0.2634450695882977, 'lambda_l1': 14, 'lambda_l2': 18, 'bagging_fraction': 0.7356837920776069}. Best is trial 42 with value: 0.19521503189845937.\n",
      "[I 2024-07-23 23:10:38,338] Trial 44 finished with value: 0.12915979119298884 and parameters: {'num_leaves': 310, 'max_depth': 8, 'learning_rate': 0.25923676995068873, 'lambda_l1': 14, 'lambda_l2': 19, 'bagging_fraction': 0.7663921356498767}. Best is trial 42 with value: 0.19521503189845937.\n",
      "[I 2024-07-23 23:10:38,568] Trial 45 finished with value: 0.10259923762918285 and parameters: {'num_leaves': 270, 'max_depth': 7, 'learning_rate': 0.14479620565051152, 'lambda_l1': 23, 'lambda_l2': 28, 'bagging_fraction': 0.7126691388531579}. Best is trial 42 with value: 0.19521503189845937.\n",
      "[I 2024-07-23 23:10:38,798] Trial 46 finished with value: 0.15231249948168663 and parameters: {'num_leaves': 290, 'max_depth': 9, 'learning_rate': 0.2863459786038814, 'lambda_l1': 18, 'lambda_l2': 11, 'bagging_fraction': 0.6267134358705699}. Best is trial 42 with value: 0.19521503189845937.\n",
      "[I 2024-07-23 23:10:38,968] Trial 47 finished with value: 0.09510891371003447 and parameters: {'num_leaves': 388, 'max_depth': 7, 'learning_rate': 0.24487715280508177, 'lambda_l1': 34, 'lambda_l2': 13, 'bagging_fraction': 0.7378363919106286}. Best is trial 42 with value: 0.19521503189845937.\n",
      "[I 2024-07-23 23:10:39,584] Trial 48 finished with value: 0.17743402430334984 and parameters: {'num_leaves': 334, 'max_depth': 8, 'learning_rate': 0.12082902647484889, 'lambda_l1': 6, 'lambda_l2': 18, 'bagging_fraction': 0.7800183312699199}. Best is trial 42 with value: 0.19521503189845937.\n",
      "[I 2024-07-23 23:10:40,035] Trial 49 finished with value: 0.1588339952872292 and parameters: {'num_leaves': 385, 'max_depth': 9, 'learning_rate': 0.26368317220473686, 'lambda_l1': 12, 'lambda_l2': 24, 'bagging_fraction': 0.6731121140290894}. Best is trial 42 with value: 0.19521503189845937.\n",
      "[I 2024-07-23 23:10:40,301] Trial 50 finished with value: 0.15289545136138563 and parameters: {'num_leaves': 16, 'max_depth': 6, 'learning_rate': 0.21133309077256437, 'lambda_l1': 4, 'lambda_l2': 27, 'bagging_fraction': 0.5871044188943237}. Best is trial 42 with value: 0.19521503189845937.\n",
      "[I 2024-07-23 23:10:40,459] Trial 51 finished with value: 0.0 and parameters: {'num_leaves': 144, 'max_depth': 10, 'learning_rate': 0.2804301005840343, 'lambda_l1': 94, 'lambda_l2': 10, 'bagging_fraction': 0.8078161756705767}. Best is trial 42 with value: 0.19521503189845937.\n",
      "[I 2024-07-23 23:10:40,720] Trial 52 finished with value: 0.18245810349068317 and parameters: {'num_leaves': 225, 'max_depth': 5, 'learning_rate': 0.2974271628827875, 'lambda_l1': 0, 'lambda_l2': 15, 'bagging_fraction': 0.8267256679978592}. Best is trial 42 with value: 0.19521503189845937.\n",
      "[I 2024-07-23 23:10:41,018] Trial 53 finished with value: 0.1790360583747568 and parameters: {'num_leaves': 223, 'max_depth': 5, 'learning_rate': 0.29947029919689744, 'lambda_l1': 9, 'lambda_l2': 16, 'bagging_fraction': 0.8289747990808215}. Best is trial 42 with value: 0.19521503189845937.\n",
      "[I 2024-07-23 23:10:41,277] Trial 54 finished with value: 0.1790360583747568 and parameters: {'num_leaves': 256, 'max_depth': 7, 'learning_rate': 0.2917231116343426, 'lambda_l1': 14, 'lambda_l2': 3, 'bagging_fraction': 0.7468059406694513}. Best is trial 42 with value: 0.19521503189845937.\n",
      "[I 2024-07-23 23:10:41,653] Trial 55 finished with value: 0.11077676618258571 and parameters: {'num_leaves': 71, 'max_depth': 6, 'learning_rate': 0.08186682259534857, 'lambda_l1': 3, 'lambda_l2': 14, 'bagging_fraction': 0.7773121013628957}. Best is trial 42 with value: 0.19521503189845937.\n",
      "[I 2024-07-23 23:10:41,883] Trial 56 finished with value: 0.11591636433506013 and parameters: {'num_leaves': 310, 'max_depth': 8, 'learning_rate': 0.2773181505026481, 'lambda_l1': 19, 'lambda_l2': 9, 'bagging_fraction': 0.8439089048429916}. Best is trial 42 with value: 0.19521503189845937.\n",
      "[I 2024-07-23 23:10:42,108] Trial 57 finished with value: 0.17844205805444482 and parameters: {'num_leaves': 287, 'max_depth': 5, 'learning_rate': 0.26128050624616384, 'lambda_l1': 0, 'lambda_l2': 19, 'bagging_fraction': 0.7226673469069116}. Best is trial 42 with value: 0.19521503189845937.\n",
      "[I 2024-07-23 23:10:42,429] Trial 58 finished with value: 0.17349782878285833 and parameters: {'num_leaves': 413, 'max_depth': 7, 'learning_rate': 0.24813516784546838, 'lambda_l1': 7, 'lambda_l2': 29, 'bagging_fraction': 0.3523315385703136}. Best is trial 42 with value: 0.19521503189845937.\n",
      "[I 2024-07-23 23:10:42,753] Trial 59 finished with value: 0.159203870552411 and parameters: {'num_leaves': 42, 'max_depth': 9, 'learning_rate': 0.2679488533189848, 'lambda_l1': 13, 'lambda_l2': 3, 'bagging_fraction': 0.8740584397115624}. Best is trial 42 with value: 0.19521503189845937.\n",
      "[I 2024-07-23 23:10:42,931] Trial 60 finished with value: 0.14398674764865702 and parameters: {'num_leaves': 235, 'max_depth': 6, 'learning_rate': 0.2368527376369986, 'lambda_l1': 21, 'lambda_l2': 7, 'bagging_fraction': 0.41678053461541903}. Best is trial 42 with value: 0.19521503189845937.\n",
      "[I 2024-07-23 23:10:43,173] Trial 61 finished with value: 0.20112739570132504 and parameters: {'num_leaves': 184, 'max_depth': 4, 'learning_rate': 0.2794427666436731, 'lambda_l1': 3, 'lambda_l2': 2, 'bagging_fraction': 0.9220003815824636}. Best is trial 61 with value: 0.20112739570132504.\n",
      "[I 2024-07-23 23:10:43,479] Trial 62 finished with value: 0.19311904155846674 and parameters: {'num_leaves': 174, 'max_depth': 5, 'learning_rate': 0.2828308912827142, 'lambda_l1': 4, 'lambda_l2': 2, 'bagging_fraction': 0.9274985572646851}. Best is trial 61 with value: 0.20112739570132504.\n",
      "[I 2024-07-23 23:10:43,718] Trial 63 finished with value: 0.18056949292951202 and parameters: {'num_leaves': 131, 'max_depth': 4, 'learning_rate': 0.2833608209091391, 'lambda_l1': 9, 'lambda_l2': 0, 'bagging_fraction': 0.9222449729995864}. Best is trial 61 with value: 0.20112739570132504.\n",
      "[I 2024-07-23 23:10:44,003] Trial 64 finished with value: 0.17179201993232054 and parameters: {'num_leaves': 179, 'max_depth': 8, 'learning_rate': 0.2539881332603109, 'lambda_l1': 15, 'lambda_l2': 3, 'bagging_fraction': 0.9104127641954599}. Best is trial 61 with value: 0.20112739570132504.\n",
      "[I 2024-07-23 23:10:44,536] Trial 65 finished with value: 0.0 and parameters: {'num_leaves': 156, 'max_depth': 7, 'learning_rate': 0.020548298455551117, 'lambda_l1': 4, 'lambda_l2': 11, 'bagging_fraction': 0.9636059697247239}. Best is trial 61 with value: 0.20112739570132504.\n",
      "[I 2024-07-23 23:10:44,849] Trial 66 finished with value: 0.20597940299784684 and parameters: {'num_leaves': 107, 'max_depth': 5, 'learning_rate': 0.2705335420976625, 'lambda_l1': 6, 'lambda_l2': 7, 'bagging_fraction': 0.8788755931241773}. Best is trial 66 with value: 0.20597940299784684.\n",
      "[I 2024-07-23 23:10:45,162] Trial 67 finished with value: 0.1400566987345024 and parameters: {'num_leaves': 204, 'max_depth': 5, 'learning_rate': 0.22547512131227154, 'lambda_l1': 11, 'lambda_l2': 8, 'bagging_fraction': 0.8685944698383518}. Best is trial 66 with value: 0.20597940299784684.\n",
      "[I 2024-07-23 23:10:45,405] Trial 68 finished with value: 0.18635637684507061 and parameters: {'num_leaves': 488, 'max_depth': 4, 'learning_rate': 0.275979335619737, 'lambda_l1': 3, 'lambda_l2': 2, 'bagging_fraction': 0.9796230168446326}. Best is trial 66 with value: 0.20597940299784684.\n",
      "[I 2024-07-23 23:10:45,653] Trial 69 finished with value: 0.17179201993232054 and parameters: {'num_leaves': 512, 'max_depth': 4, 'learning_rate': 0.2754940382074637, 'lambda_l1': 4, 'lambda_l2': 2, 'bagging_fraction': 0.9739617467806263}. Best is trial 66 with value: 0.20597940299784684.\n",
      "[I 2024-07-23 23:10:45,901] Trial 70 finished with value: 0.1710239309876306 and parameters: {'num_leaves': 454, 'max_depth': 4, 'learning_rate': 0.27323022548437564, 'lambda_l1': 2, 'lambda_l2': 80, 'bagging_fraction': 0.9302632867311972}. Best is trial 66 with value: 0.20597940299784684.\n",
      "[I 2024-07-23 23:10:46,079] Trial 71 finished with value: 0.14872141664785207 and parameters: {'num_leaves': 114, 'max_depth': 3, 'learning_rate': 0.26131044782642515, 'lambda_l1': 6, 'lambda_l2': 7, 'bagging_fraction': 0.8962490253299298}. Best is trial 66 with value: 0.20597940299784684.\n",
      "[I 2024-07-23 23:10:46,382] Trial 72 finished with value: 0.18568796095694248 and parameters: {'num_leaves': 183, 'max_depth': 5, 'learning_rate': 0.2886214615117478, 'lambda_l1': 11, 'lambda_l2': 12, 'bagging_fraction': 0.98255544279873}. Best is trial 66 with value: 0.20597940299784684.\n",
      "[I 2024-07-23 23:10:46,619] Trial 73 finished with value: 0.12391990785615041 and parameters: {'num_leaves': 483, 'max_depth': 4, 'learning_rate': 0.25241523287046663, 'lambda_l1': 15, 'lambda_l2': 0, 'bagging_fraction': 0.9496068222826008}. Best is trial 66 with value: 0.20597940299784684.\n",
      "[I 2024-07-23 23:10:47,010] Trial 74 finished with value: 0.17939795731907182 and parameters: {'num_leaves': 164, 'max_depth': 6, 'learning_rate': 0.29170703695930084, 'lambda_l1': 6, 'lambda_l2': 60, 'bagging_fraction': 0.8820807764570014}. Best is trial 66 with value: 0.20597940299784684.\n",
      "[I 2024-07-23 23:10:47,289] Trial 75 finished with value: 0.16428696189034625 and parameters: {'num_leaves': 136, 'max_depth': 5, 'learning_rate': 0.18327888106143664, 'lambda_l1': 2, 'lambda_l2': 6, 'bagging_fraction': 0.8541196150858111}. Best is trial 66 with value: 0.20597940299784684.\n",
      "[I 2024-07-23 23:10:47,451] Trial 76 finished with value: 0.062101693614980975 and parameters: {'num_leaves': 107, 'max_depth': 3, 'learning_rate': 0.24259912086221272, 'lambda_l1': 24, 'lambda_l2': 9, 'bagging_fraction': 0.9133404913602292}. Best is trial 66 with value: 0.20597940299784684.\n",
      "[I 2024-07-23 23:10:47,597] Trial 77 finished with value: 0.04329323864966389 and parameters: {'num_leaves': 58, 'max_depth': 6, 'learning_rate': 0.26735027244030757, 'lambda_l1': 46, 'lambda_l2': 3, 'bagging_fraction': 0.8046833404559572}. Best is trial 66 with value: 0.20597940299784684.\n",
      "[I 2024-07-23 23:10:47,967] Trial 78 finished with value: 0.18344724601872683 and parameters: {'num_leaves': 82, 'max_depth': 5, 'learning_rate': 0.2768774386027539, 'lambda_l1': 8, 'lambda_l2': 13, 'bagging_fraction': 0.9987381477153299}. Best is trial 66 with value: 0.20597940299784684.\n",
      "[I 2024-07-23 23:10:48,171] Trial 79 finished with value: 0.11387650309817876 and parameters: {'num_leaves': 355, 'max_depth': 4, 'learning_rate': 0.25798853297513147, 'lambda_l1': 19, 'lambda_l2': 21, 'bagging_fraction': 0.7902351020309637}. Best is trial 66 with value: 0.20597940299784684.\n",
      "[I 2024-07-23 23:10:48,600] Trial 80 finished with value: 0.14672319168891523 and parameters: {'num_leaves': 263, 'max_depth': 7, 'learning_rate': 0.29278843831033813, 'lambda_l1': 12, 'lambda_l2': 17, 'bagging_fraction': 0.8236908439928315}. Best is trial 66 with value: 0.20597940299784684.\n",
      "[I 2024-07-23 23:10:49,133] Trial 81 finished with value: 0.13124040950039642 and parameters: {'num_leaves': 105, 'max_depth': 8, 'learning_rate': 0.2660671990273524, 'lambda_l1': 8, 'lambda_l2': 50, 'bagging_fraction': 0.5487872036787684}. Best is trial 66 with value: 0.20597940299784684.\n",
      "[I 2024-07-23 23:10:50,130] Trial 82 finished with value: 0.2402230292598372 and parameters: {'num_leaves': 83, 'max_depth': 14, 'learning_rate': 0.2831265082771434, 'lambda_l1': 2, 'lambda_l2': 5, 'bagging_fraction': 0.9363252212128689}. Best is trial 82 with value: 0.2402230292598372.\n",
      "[I 2024-07-23 23:10:51,438] Trial 83 finished with value: 0.16662539785085148 and parameters: {'num_leaves': 77, 'max_depth': 14, 'learning_rate': 0.2814649955512108, 'lambda_l1': 2, 'lambda_l2': 4, 'bagging_fraction': 0.9488494230283899}. Best is trial 82 with value: 0.2402230292598372.\n",
      "[I 2024-07-23 23:10:52,442] Trial 84 finished with value: 0.1654970556021138 and parameters: {'num_leaves': 120, 'max_depth': 12, 'learning_rate': 0.15966408091722284, 'lambda_l1': 0, 'lambda_l2': 9, 'bagging_fraction': 0.931675481681001}. Best is trial 82 with value: 0.2402230292598372.\n",
      "[I 2024-07-23 23:10:53,041] Trial 85 finished with value: 0.15992632296456097 and parameters: {'num_leaves': 30, 'max_depth': 9, 'learning_rate': 0.2723728644310085, 'lambda_l1': 5, 'lambda_l2': 1, 'bagging_fraction': 0.9701797764767562}. Best is trial 82 with value: 0.2402230292598372.\n",
      "[I 2024-07-23 23:10:53,655] Trial 86 finished with value: 0.21703524652175757 and parameters: {'num_leaves': 91, 'max_depth': 16, 'learning_rate': 0.2913647436438049, 'lambda_l1': 17, 'lambda_l2': 5, 'bagging_fraction': 0.8927310050898511}. Best is trial 82 with value: 0.2402230292598372.\n",
      "[I 2024-07-23 23:10:54,274] Trial 87 finished with value: 0.20208958633832363 and parameters: {'num_leaves': 61, 'max_depth': 15, 'learning_rate': 0.29277087102738736, 'lambda_l1': 10, 'lambda_l2': 5, 'bagging_fraction': 0.8946076849236352}. Best is trial 82 with value: 0.2402230292598372.\n",
      "[I 2024-07-23 23:10:54,852] Trial 88 finished with value: 0.2177991395938614 and parameters: {'num_leaves': 51, 'max_depth': 16, 'learning_rate': 0.28839723371652914, 'lambda_l1': 10, 'lambda_l2': 5, 'bagging_fraction': 0.8845317105754719}. Best is trial 82 with value: 0.2402230292598372.\n",
      "[I 2024-07-23 23:10:55,355] Trial 89 finished with value: 0.15796016705232432 and parameters: {'num_leaves': 57, 'max_depth': 16, 'learning_rate': 0.2997444299156066, 'lambda_l1': 16, 'lambda_l2': 6, 'bagging_fraction': 0.8921025611615282}. Best is trial 82 with value: 0.2402230292598372.\n",
      "[I 2024-07-23 23:10:55,987] Trial 90 finished with value: 0.20011725659751245 and parameters: {'num_leaves': 88, 'max_depth': 15, 'learning_rate': 0.29101150119270436, 'lambda_l1': 10, 'lambda_l2': 11, 'bagging_fraction': 0.8607968591269008}. Best is trial 82 with value: 0.2402230292598372.\n",
      "[I 2024-07-23 23:10:56,605] Trial 91 finished with value: 0.1861895155837527 and parameters: {'num_leaves': 85, 'max_depth': 15, 'learning_rate': 0.28858142238377676, 'lambda_l1': 10, 'lambda_l2': 14, 'bagging_fraction': 0.8624542614718385}. Best is trial 82 with value: 0.2402230292598372.\n",
      "[I 2024-07-23 23:10:56,921] Trial 92 finished with value: 0.18150888556724765 and parameters: {'num_leaves': 68, 'max_depth': 15, 'learning_rate': 0.29326146110299656, 'lambda_l1': 17, 'lambda_l2': 10, 'bagging_fraction': 0.9044436993452055}. Best is trial 82 with value: 0.2402230292598372.\n",
      "[I 2024-07-23 23:10:57,302] Trial 93 finished with value: 0.19911721340201335 and parameters: {'num_leaves': 45, 'max_depth': 16, 'learning_rate': 0.2933382697016171, 'lambda_l1': 12, 'lambda_l2': 5, 'bagging_fraction': 0.8466567661799766}. Best is trial 82 with value: 0.2402230292598372.\n",
      "[I 2024-07-23 23:10:57,568] Trial 94 finished with value: 0.17743402430334984 and parameters: {'num_leaves': 44, 'max_depth': 16, 'learning_rate': 0.2931682035514597, 'lambda_l1': 20, 'lambda_l2': 5, 'bagging_fraction': 0.8423945893536757}. Best is trial 82 with value: 0.2402230292598372.\n",
      "[I 2024-07-23 23:10:57,953] Trial 95 finished with value: 0.16152006752030182 and parameters: {'num_leaves': 60, 'max_depth': 14, 'learning_rate': 0.2862516321936708, 'lambda_l1': 12, 'lambda_l2': 12, 'bagging_fraction': 0.8816471958319801}. Best is trial 82 with value: 0.2402230292598372.\n",
      "[I 2024-07-23 23:10:58,455] Trial 96 finished with value: 0.2150961029178808 and parameters: {'num_leaves': 37, 'max_depth': 15, 'learning_rate': 0.2954217887622859, 'lambda_l1': 6, 'lambda_l2': 5, 'bagging_fraction': 0.8477927311985433}. Best is trial 82 with value: 0.2402230292598372.\n",
      "[I 2024-07-23 23:10:58,907] Trial 97 finished with value: 0.16735736234809465 and parameters: {'num_leaves': 24, 'max_depth': 15, 'learning_rate': 0.29932694016136596, 'lambda_l1': 7, 'lambda_l2': 5, 'bagging_fraction': 0.846441556279202}. Best is trial 82 with value: 0.2402230292598372.\n",
      "[I 2024-07-23 23:10:59,220] Trial 98 finished with value: 0.13354267691510624 and parameters: {'num_leaves': 38, 'max_depth': 16, 'learning_rate': 0.2934786105586727, 'lambda_l1': 24, 'lambda_l2': 8, 'bagging_fraction': 0.8631356453233252}. Best is trial 82 with value: 0.2402230292598372.\n",
      "[I 2024-07-23 23:10:59,875] Trial 99 finished with value: 0.18056949292951202 and parameters: {'num_leaves': 98, 'max_depth': 14, 'learning_rate': 0.28273857582199885, 'lambda_l1': 10, 'lambda_l2': 15, 'bagging_fraction': 0.8200781546549474}. Best is trial 82 with value: 0.2402230292598372.\n"
     ]
    }
   ],
   "source": [
    "study = optuna.create_study(direction=\"maximize\")\n",
    "study.optimize(objective, n_trials=n_trials)"
   ]
  },
  {
   "cell_type": "code",
   "execution_count": 15,
   "metadata": {},
   "outputs": [
    {
     "data": {
      "application/vnd.plotly.v1+json": {
       "config": {
        "plotlyServerURL": "https://plot.ly"
       },
       "data": [
        {
         "mode": "markers",
         "name": "Objective Value",
         "type": "scatter",
         "x": [
          0,
          1,
          2,
          3,
          4,
          5,
          6,
          7,
          8,
          9,
          10,
          11,
          12,
          13,
          14,
          15,
          16,
          17,
          18,
          19,
          20,
          21,
          22,
          23,
          24,
          25,
          26,
          27,
          28,
          29,
          30,
          31,
          32,
          33,
          34,
          35,
          36,
          37,
          38,
          39,
          40,
          41,
          42,
          43,
          44,
          45,
          46,
          47,
          48,
          49,
          50,
          51,
          52,
          53,
          54,
          55,
          56,
          57,
          58,
          59,
          60,
          61,
          62,
          63,
          64,
          65,
          66,
          67,
          68,
          69,
          70,
          71,
          72,
          73,
          74,
          75,
          76,
          77,
          78,
          79,
          80,
          81,
          82,
          83,
          84,
          85,
          86,
          87,
          88,
          89,
          90,
          91,
          92,
          93,
          94,
          95,
          96,
          97,
          98,
          99
         ],
         "y": [
          0.02112195597287959,
          0,
          0.02385837656220654,
          0.10547087350840069,
          0,
          0,
          0,
          0,
          0.03180002551973248,
          0.19391969546524512,
          0.18029340569678848,
          0.16512598744756604,
          0.17400523518996233,
          0.1321242539115877,
          0.15289545136138563,
          0.07950886570613776,
          0.15735019152318103,
          0.06784112476061374,
          0,
          0.07027673766516843,
          0.1379091568418336,
          0.17237669474756537,
          0.14306382950272706,
          0.11387650309817876,
          0.12227584094050978,
          0.17330606251776476,
          0.15672661255407855,
          0.009291752794091392,
          0.1457688510216398,
          0.021617844832220255,
          0.0551218958807139,
          0.19311904155846674,
          0.18609746164568108,
          0.17363239361026972,
          0.010701367543168312,
          0.08637756661613122,
          0.1416425436705345,
          0.15329466722735485,
          0.03497886333002865,
          0.12562790873443783,
          0.012075287854817481,
          0.14666392590610247,
          0.19521503189845937,
          0.1861895155837527,
          0.12915979119298884,
          0.10259923762918285,
          0.15231249948168663,
          0.09510891371003447,
          0.17743402430334984,
          0.1588339952872292,
          0.15289545136138563,
          0,
          0.18245810349068317,
          0.1790360583747568,
          0.1790360583747568,
          0.11077676618258571,
          0.11591636433506013,
          0.17844205805444482,
          0.17349782878285833,
          0.159203870552411,
          0.14398674764865702,
          0.20112739570132504,
          0.19311904155846674,
          0.18056949292951202,
          0.17179201993232054,
          0,
          0.20597940299784684,
          0.1400566987345024,
          0.18635637684507061,
          0.17179201993232054,
          0.1710239309876306,
          0.14872141664785207,
          0.18568796095694248,
          0.12391990785615041,
          0.17939795731907182,
          0.16428696189034625,
          0.062101693614980975,
          0.04329323864966389,
          0.18344724601872683,
          0.11387650309817876,
          0.14672319168891523,
          0.13124040950039642,
          0.2402230292598372,
          0.16662539785085148,
          0.1654970556021138,
          0.15992632296456097,
          0.21703524652175757,
          0.20208958633832363,
          0.2177991395938614,
          0.15796016705232432,
          0.20011725659751245,
          0.1861895155837527,
          0.18150888556724765,
          0.19911721340201335,
          0.17743402430334984,
          0.16152006752030182,
          0.2150961029178808,
          0.16735736234809465,
          0.13354267691510624,
          0.18056949292951202
         ]
        },
        {
         "mode": "lines",
         "name": "Best Value",
         "type": "scatter",
         "x": [
          0,
          1,
          2,
          3,
          4,
          5,
          6,
          7,
          8,
          9,
          10,
          11,
          12,
          13,
          14,
          15,
          16,
          17,
          18,
          19,
          20,
          21,
          22,
          23,
          24,
          25,
          26,
          27,
          28,
          29,
          30,
          31,
          32,
          33,
          34,
          35,
          36,
          37,
          38,
          39,
          40,
          41,
          42,
          43,
          44,
          45,
          46,
          47,
          48,
          49,
          50,
          51,
          52,
          53,
          54,
          55,
          56,
          57,
          58,
          59,
          60,
          61,
          62,
          63,
          64,
          65,
          66,
          67,
          68,
          69,
          70,
          71,
          72,
          73,
          74,
          75,
          76,
          77,
          78,
          79,
          80,
          81,
          82,
          83,
          84,
          85,
          86,
          87,
          88,
          89,
          90,
          91,
          92,
          93,
          94,
          95,
          96,
          97,
          98,
          99
         ],
         "y": [
          0.02112195597287959,
          0.02112195597287959,
          0.02385837656220654,
          0.10547087350840069,
          0.10547087350840069,
          0.10547087350840069,
          0.10547087350840069,
          0.10547087350840069,
          0.10547087350840069,
          0.19391969546524512,
          0.19391969546524512,
          0.19391969546524512,
          0.19391969546524512,
          0.19391969546524512,
          0.19391969546524512,
          0.19391969546524512,
          0.19391969546524512,
          0.19391969546524512,
          0.19391969546524512,
          0.19391969546524512,
          0.19391969546524512,
          0.19391969546524512,
          0.19391969546524512,
          0.19391969546524512,
          0.19391969546524512,
          0.19391969546524512,
          0.19391969546524512,
          0.19391969546524512,
          0.19391969546524512,
          0.19391969546524512,
          0.19391969546524512,
          0.19391969546524512,
          0.19391969546524512,
          0.19391969546524512,
          0.19391969546524512,
          0.19391969546524512,
          0.19391969546524512,
          0.19391969546524512,
          0.19391969546524512,
          0.19391969546524512,
          0.19391969546524512,
          0.19391969546524512,
          0.19521503189845937,
          0.19521503189845937,
          0.19521503189845937,
          0.19521503189845937,
          0.19521503189845937,
          0.19521503189845937,
          0.19521503189845937,
          0.19521503189845937,
          0.19521503189845937,
          0.19521503189845937,
          0.19521503189845937,
          0.19521503189845937,
          0.19521503189845937,
          0.19521503189845937,
          0.19521503189845937,
          0.19521503189845937,
          0.19521503189845937,
          0.19521503189845937,
          0.19521503189845937,
          0.20112739570132504,
          0.20112739570132504,
          0.20112739570132504,
          0.20112739570132504,
          0.20112739570132504,
          0.20597940299784684,
          0.20597940299784684,
          0.20597940299784684,
          0.20597940299784684,
          0.20597940299784684,
          0.20597940299784684,
          0.20597940299784684,
          0.20597940299784684,
          0.20597940299784684,
          0.20597940299784684,
          0.20597940299784684,
          0.20597940299784684,
          0.20597940299784684,
          0.20597940299784684,
          0.20597940299784684,
          0.20597940299784684,
          0.2402230292598372,
          0.2402230292598372,
          0.2402230292598372,
          0.2402230292598372,
          0.2402230292598372,
          0.2402230292598372,
          0.2402230292598372,
          0.2402230292598372,
          0.2402230292598372,
          0.2402230292598372,
          0.2402230292598372,
          0.2402230292598372,
          0.2402230292598372,
          0.2402230292598372,
          0.2402230292598372,
          0.2402230292598372,
          0.2402230292598372,
          0.2402230292598372
         ]
        },
        {
         "marker": {
          "color": "#cccccc"
         },
         "mode": "markers",
         "name": "Infeasible Trial",
         "showlegend": false,
         "type": "scatter",
         "x": [],
         "y": []
        }
       ],
       "layout": {
        "template": {
         "data": {
          "bar": [
           {
            "error_x": {
             "color": "#2a3f5f"
            },
            "error_y": {
             "color": "#2a3f5f"
            },
            "marker": {
             "line": {
              "color": "#E5ECF6",
              "width": 0.5
             },
             "pattern": {
              "fillmode": "overlay",
              "size": 10,
              "solidity": 0.2
             }
            },
            "type": "bar"
           }
          ],
          "barpolar": [
           {
            "marker": {
             "line": {
              "color": "#E5ECF6",
              "width": 0.5
             },
             "pattern": {
              "fillmode": "overlay",
              "size": 10,
              "solidity": 0.2
             }
            },
            "type": "barpolar"
           }
          ],
          "carpet": [
           {
            "aaxis": {
             "endlinecolor": "#2a3f5f",
             "gridcolor": "white",
             "linecolor": "white",
             "minorgridcolor": "white",
             "startlinecolor": "#2a3f5f"
            },
            "baxis": {
             "endlinecolor": "#2a3f5f",
             "gridcolor": "white",
             "linecolor": "white",
             "minorgridcolor": "white",
             "startlinecolor": "#2a3f5f"
            },
            "type": "carpet"
           }
          ],
          "choropleth": [
           {
            "colorbar": {
             "outlinewidth": 0,
             "ticks": ""
            },
            "type": "choropleth"
           }
          ],
          "contour": [
           {
            "colorbar": {
             "outlinewidth": 0,
             "ticks": ""
            },
            "colorscale": [
             [
              0,
              "#0d0887"
             ],
             [
              0.1111111111111111,
              "#46039f"
             ],
             [
              0.2222222222222222,
              "#7201a8"
             ],
             [
              0.3333333333333333,
              "#9c179e"
             ],
             [
              0.4444444444444444,
              "#bd3786"
             ],
             [
              0.5555555555555556,
              "#d8576b"
             ],
             [
              0.6666666666666666,
              "#ed7953"
             ],
             [
              0.7777777777777778,
              "#fb9f3a"
             ],
             [
              0.8888888888888888,
              "#fdca26"
             ],
             [
              1,
              "#f0f921"
             ]
            ],
            "type": "contour"
           }
          ],
          "contourcarpet": [
           {
            "colorbar": {
             "outlinewidth": 0,
             "ticks": ""
            },
            "type": "contourcarpet"
           }
          ],
          "heatmap": [
           {
            "colorbar": {
             "outlinewidth": 0,
             "ticks": ""
            },
            "colorscale": [
             [
              0,
              "#0d0887"
             ],
             [
              0.1111111111111111,
              "#46039f"
             ],
             [
              0.2222222222222222,
              "#7201a8"
             ],
             [
              0.3333333333333333,
              "#9c179e"
             ],
             [
              0.4444444444444444,
              "#bd3786"
             ],
             [
              0.5555555555555556,
              "#d8576b"
             ],
             [
              0.6666666666666666,
              "#ed7953"
             ],
             [
              0.7777777777777778,
              "#fb9f3a"
             ],
             [
              0.8888888888888888,
              "#fdca26"
             ],
             [
              1,
              "#f0f921"
             ]
            ],
            "type": "heatmap"
           }
          ],
          "heatmapgl": [
           {
            "colorbar": {
             "outlinewidth": 0,
             "ticks": ""
            },
            "colorscale": [
             [
              0,
              "#0d0887"
             ],
             [
              0.1111111111111111,
              "#46039f"
             ],
             [
              0.2222222222222222,
              "#7201a8"
             ],
             [
              0.3333333333333333,
              "#9c179e"
             ],
             [
              0.4444444444444444,
              "#bd3786"
             ],
             [
              0.5555555555555556,
              "#d8576b"
             ],
             [
              0.6666666666666666,
              "#ed7953"
             ],
             [
              0.7777777777777778,
              "#fb9f3a"
             ],
             [
              0.8888888888888888,
              "#fdca26"
             ],
             [
              1,
              "#f0f921"
             ]
            ],
            "type": "heatmapgl"
           }
          ],
          "histogram": [
           {
            "marker": {
             "pattern": {
              "fillmode": "overlay",
              "size": 10,
              "solidity": 0.2
             }
            },
            "type": "histogram"
           }
          ],
          "histogram2d": [
           {
            "colorbar": {
             "outlinewidth": 0,
             "ticks": ""
            },
            "colorscale": [
             [
              0,
              "#0d0887"
             ],
             [
              0.1111111111111111,
              "#46039f"
             ],
             [
              0.2222222222222222,
              "#7201a8"
             ],
             [
              0.3333333333333333,
              "#9c179e"
             ],
             [
              0.4444444444444444,
              "#bd3786"
             ],
             [
              0.5555555555555556,
              "#d8576b"
             ],
             [
              0.6666666666666666,
              "#ed7953"
             ],
             [
              0.7777777777777778,
              "#fb9f3a"
             ],
             [
              0.8888888888888888,
              "#fdca26"
             ],
             [
              1,
              "#f0f921"
             ]
            ],
            "type": "histogram2d"
           }
          ],
          "histogram2dcontour": [
           {
            "colorbar": {
             "outlinewidth": 0,
             "ticks": ""
            },
            "colorscale": [
             [
              0,
              "#0d0887"
             ],
             [
              0.1111111111111111,
              "#46039f"
             ],
             [
              0.2222222222222222,
              "#7201a8"
             ],
             [
              0.3333333333333333,
              "#9c179e"
             ],
             [
              0.4444444444444444,
              "#bd3786"
             ],
             [
              0.5555555555555556,
              "#d8576b"
             ],
             [
              0.6666666666666666,
              "#ed7953"
             ],
             [
              0.7777777777777778,
              "#fb9f3a"
             ],
             [
              0.8888888888888888,
              "#fdca26"
             ],
             [
              1,
              "#f0f921"
             ]
            ],
            "type": "histogram2dcontour"
           }
          ],
          "mesh3d": [
           {
            "colorbar": {
             "outlinewidth": 0,
             "ticks": ""
            },
            "type": "mesh3d"
           }
          ],
          "parcoords": [
           {
            "line": {
             "colorbar": {
              "outlinewidth": 0,
              "ticks": ""
             }
            },
            "type": "parcoords"
           }
          ],
          "pie": [
           {
            "automargin": true,
            "type": "pie"
           }
          ],
          "scatter": [
           {
            "fillpattern": {
             "fillmode": "overlay",
             "size": 10,
             "solidity": 0.2
            },
            "type": "scatter"
           }
          ],
          "scatter3d": [
           {
            "line": {
             "colorbar": {
              "outlinewidth": 0,
              "ticks": ""
             }
            },
            "marker": {
             "colorbar": {
              "outlinewidth": 0,
              "ticks": ""
             }
            },
            "type": "scatter3d"
           }
          ],
          "scattercarpet": [
           {
            "marker": {
             "colorbar": {
              "outlinewidth": 0,
              "ticks": ""
             }
            },
            "type": "scattercarpet"
           }
          ],
          "scattergeo": [
           {
            "marker": {
             "colorbar": {
              "outlinewidth": 0,
              "ticks": ""
             }
            },
            "type": "scattergeo"
           }
          ],
          "scattergl": [
           {
            "marker": {
             "colorbar": {
              "outlinewidth": 0,
              "ticks": ""
             }
            },
            "type": "scattergl"
           }
          ],
          "scattermapbox": [
           {
            "marker": {
             "colorbar": {
              "outlinewidth": 0,
              "ticks": ""
             }
            },
            "type": "scattermapbox"
           }
          ],
          "scatterpolar": [
           {
            "marker": {
             "colorbar": {
              "outlinewidth": 0,
              "ticks": ""
             }
            },
            "type": "scatterpolar"
           }
          ],
          "scatterpolargl": [
           {
            "marker": {
             "colorbar": {
              "outlinewidth": 0,
              "ticks": ""
             }
            },
            "type": "scatterpolargl"
           }
          ],
          "scatterternary": [
           {
            "marker": {
             "colorbar": {
              "outlinewidth": 0,
              "ticks": ""
             }
            },
            "type": "scatterternary"
           }
          ],
          "surface": [
           {
            "colorbar": {
             "outlinewidth": 0,
             "ticks": ""
            },
            "colorscale": [
             [
              0,
              "#0d0887"
             ],
             [
              0.1111111111111111,
              "#46039f"
             ],
             [
              0.2222222222222222,
              "#7201a8"
             ],
             [
              0.3333333333333333,
              "#9c179e"
             ],
             [
              0.4444444444444444,
              "#bd3786"
             ],
             [
              0.5555555555555556,
              "#d8576b"
             ],
             [
              0.6666666666666666,
              "#ed7953"
             ],
             [
              0.7777777777777778,
              "#fb9f3a"
             ],
             [
              0.8888888888888888,
              "#fdca26"
             ],
             [
              1,
              "#f0f921"
             ]
            ],
            "type": "surface"
           }
          ],
          "table": [
           {
            "cells": {
             "fill": {
              "color": "#EBF0F8"
             },
             "line": {
              "color": "white"
             }
            },
            "header": {
             "fill": {
              "color": "#C8D4E3"
             },
             "line": {
              "color": "white"
             }
            },
            "type": "table"
           }
          ]
         },
         "layout": {
          "annotationdefaults": {
           "arrowcolor": "#2a3f5f",
           "arrowhead": 0,
           "arrowwidth": 1
          },
          "autotypenumbers": "strict",
          "coloraxis": {
           "colorbar": {
            "outlinewidth": 0,
            "ticks": ""
           }
          },
          "colorscale": {
           "diverging": [
            [
             0,
             "#8e0152"
            ],
            [
             0.1,
             "#c51b7d"
            ],
            [
             0.2,
             "#de77ae"
            ],
            [
             0.3,
             "#f1b6da"
            ],
            [
             0.4,
             "#fde0ef"
            ],
            [
             0.5,
             "#f7f7f7"
            ],
            [
             0.6,
             "#e6f5d0"
            ],
            [
             0.7,
             "#b8e186"
            ],
            [
             0.8,
             "#7fbc41"
            ],
            [
             0.9,
             "#4d9221"
            ],
            [
             1,
             "#276419"
            ]
           ],
           "sequential": [
            [
             0,
             "#0d0887"
            ],
            [
             0.1111111111111111,
             "#46039f"
            ],
            [
             0.2222222222222222,
             "#7201a8"
            ],
            [
             0.3333333333333333,
             "#9c179e"
            ],
            [
             0.4444444444444444,
             "#bd3786"
            ],
            [
             0.5555555555555556,
             "#d8576b"
            ],
            [
             0.6666666666666666,
             "#ed7953"
            ],
            [
             0.7777777777777778,
             "#fb9f3a"
            ],
            [
             0.8888888888888888,
             "#fdca26"
            ],
            [
             1,
             "#f0f921"
            ]
           ],
           "sequentialminus": [
            [
             0,
             "#0d0887"
            ],
            [
             0.1111111111111111,
             "#46039f"
            ],
            [
             0.2222222222222222,
             "#7201a8"
            ],
            [
             0.3333333333333333,
             "#9c179e"
            ],
            [
             0.4444444444444444,
             "#bd3786"
            ],
            [
             0.5555555555555556,
             "#d8576b"
            ],
            [
             0.6666666666666666,
             "#ed7953"
            ],
            [
             0.7777777777777778,
             "#fb9f3a"
            ],
            [
             0.8888888888888888,
             "#fdca26"
            ],
            [
             1,
             "#f0f921"
            ]
           ]
          },
          "colorway": [
           "#636efa",
           "#EF553B",
           "#00cc96",
           "#ab63fa",
           "#FFA15A",
           "#19d3f3",
           "#FF6692",
           "#B6E880",
           "#FF97FF",
           "#FECB52"
          ],
          "font": {
           "color": "#2a3f5f"
          },
          "geo": {
           "bgcolor": "white",
           "lakecolor": "white",
           "landcolor": "#E5ECF6",
           "showlakes": true,
           "showland": true,
           "subunitcolor": "white"
          },
          "hoverlabel": {
           "align": "left"
          },
          "hovermode": "closest",
          "mapbox": {
           "style": "light"
          },
          "paper_bgcolor": "white",
          "plot_bgcolor": "#E5ECF6",
          "polar": {
           "angularaxis": {
            "gridcolor": "white",
            "linecolor": "white",
            "ticks": ""
           },
           "bgcolor": "#E5ECF6",
           "radialaxis": {
            "gridcolor": "white",
            "linecolor": "white",
            "ticks": ""
           }
          },
          "scene": {
           "xaxis": {
            "backgroundcolor": "#E5ECF6",
            "gridcolor": "white",
            "gridwidth": 2,
            "linecolor": "white",
            "showbackground": true,
            "ticks": "",
            "zerolinecolor": "white"
           },
           "yaxis": {
            "backgroundcolor": "#E5ECF6",
            "gridcolor": "white",
            "gridwidth": 2,
            "linecolor": "white",
            "showbackground": true,
            "ticks": "",
            "zerolinecolor": "white"
           },
           "zaxis": {
            "backgroundcolor": "#E5ECF6",
            "gridcolor": "white",
            "gridwidth": 2,
            "linecolor": "white",
            "showbackground": true,
            "ticks": "",
            "zerolinecolor": "white"
           }
          },
          "shapedefaults": {
           "line": {
            "color": "#2a3f5f"
           }
          },
          "ternary": {
           "aaxis": {
            "gridcolor": "white",
            "linecolor": "white",
            "ticks": ""
           },
           "baxis": {
            "gridcolor": "white",
            "linecolor": "white",
            "ticks": ""
           },
           "bgcolor": "#E5ECF6",
           "caxis": {
            "gridcolor": "white",
            "linecolor": "white",
            "ticks": ""
           }
          },
          "title": {
           "x": 0.05
          },
          "xaxis": {
           "automargin": true,
           "gridcolor": "white",
           "linecolor": "white",
           "ticks": "",
           "title": {
            "standoff": 15
           },
           "zerolinecolor": "white",
           "zerolinewidth": 2
          },
          "yaxis": {
           "automargin": true,
           "gridcolor": "white",
           "linecolor": "white",
           "ticks": "",
           "title": {
            "standoff": 15
           },
           "zerolinecolor": "white",
           "zerolinewidth": 2
          }
         }
        },
        "title": {
         "text": "Optimization History Plot"
        },
        "xaxis": {
         "title": {
          "text": "Trial"
         }
        },
        "yaxis": {
         "title": {
          "text": "Objective Value"
         }
        }
       }
      }
     },
     "metadata": {},
     "output_type": "display_data"
    }
   ],
   "source": [
    "optuna.visualization.plot_optimization_history(**{\"study\": study})"
   ]
  },
  {
   "cell_type": "markdown",
   "metadata": {},
   "source": [
    "## goal: 3 day 7% gain (low anomaly %)"
   ]
  },
  {
   "cell_type": "code",
   "execution_count": 16,
   "metadata": {},
   "outputs": [
    {
     "name": "stdout",
     "output_type": "stream",
     "text": [
      "(8793, 101) (8793,) (2205, 101) (2205,)\n",
      "(array([0, 1]), array([7689, 1104], dtype=int64))\n",
      "(array([0, 1]), array([2027,  178], dtype=int64))\n"
     ]
    }
   ],
   "source": [
    "X_train, y_train, X_val, y_val = data_prep_for_tuning(ticker_list, normalize=False, obj=[3, 0.07])"
   ]
  },
  {
   "cell_type": "code",
   "execution_count": 17,
   "metadata": {},
   "outputs": [
    {
     "name": "stderr",
     "output_type": "stream",
     "text": [
      "[I 2024-07-23 23:11:01,060] A new study created in memory with name: no-name-d57fd282-1958-47c8-8929-45299a88fba8\n",
      "[I 2024-07-23 23:11:01,218] Trial 0 finished with value: 0.0 and parameters: {'num_leaves': 415, 'max_depth': 7, 'learning_rate': 0.018099721494321444, 'lambda_l1': 50, 'lambda_l2': 47, 'bagging_fraction': 0.34464380735287664}. Best is trial 0 with value: 0.0.\n",
      "[I 2024-07-23 23:11:01,344] Trial 1 finished with value: 0.0 and parameters: {'num_leaves': 389, 'max_depth': 9, 'learning_rate': 0.27257582952919723, 'lambda_l1': 50, 'lambda_l2': 51, 'bagging_fraction': 0.41725378683119574}. Best is trial 0 with value: 0.0.\n",
      "[I 2024-07-23 23:11:01,490] Trial 2 finished with value: 0.0 and parameters: {'num_leaves': 499, 'max_depth': 14, 'learning_rate': 0.18201005187508884, 'lambda_l1': 86, 'lambda_l2': 32, 'bagging_fraction': 0.9681655732327965}. Best is trial 0 with value: 0.0.\n",
      "[I 2024-07-23 23:11:01,632] Trial 3 finished with value: 0.0 and parameters: {'num_leaves': 26, 'max_depth': 12, 'learning_rate': 0.046272424998197684, 'lambda_l1': 85, 'lambda_l2': 40, 'bagging_fraction': 0.7866813193514661}. Best is trial 0 with value: 0.0.\n",
      "[I 2024-07-23 23:11:01,812] Trial 4 finished with value: 0.0 and parameters: {'num_leaves': 498, 'max_depth': 12, 'learning_rate': 0.21488138934732814, 'lambda_l1': 28, 'lambda_l2': 87, 'bagging_fraction': 0.5910224910983528}. Best is trial 0 with value: 0.0.\n",
      "[I 2024-07-23 23:11:01,952] Trial 5 finished with value: 0.0 and parameters: {'num_leaves': 195, 'max_depth': 16, 'learning_rate': 0.1468681446289289, 'lambda_l1': 90, 'lambda_l2': 31, 'bagging_fraction': 0.3992817150498904}. Best is trial 0 with value: 0.0.\n",
      "[I 2024-07-23 23:11:02,068] Trial 6 finished with value: 0.0 and parameters: {'num_leaves': 298, 'max_depth': 3, 'learning_rate': 0.1697954276849054, 'lambda_l1': 70, 'lambda_l2': 1, 'bagging_fraction': 0.7122586860480127}. Best is trial 0 with value: 0.0.\n",
      "[I 2024-07-23 23:11:02,191] Trial 7 finished with value: 0.0 and parameters: {'num_leaves': 135, 'max_depth': 16, 'learning_rate': 0.14080372373318523, 'lambda_l1': 87, 'lambda_l2': 55, 'bagging_fraction': 0.34358447881704557}. Best is trial 0 with value: 0.0.\n",
      "[I 2024-07-23 23:11:02,439] Trial 8 finished with value: 0.0 and parameters: {'num_leaves': 451, 'max_depth': 11, 'learning_rate': 0.23902106137352513, 'lambda_l1': 25, 'lambda_l2': 63, 'bagging_fraction': 0.9022542056027625}. Best is trial 0 with value: 0.0.\n",
      "[I 2024-07-23 23:11:02,836] Trial 9 finished with value: 0.0 and parameters: {'num_leaves': 350, 'max_depth': 7, 'learning_rate': 0.06180515282812613, 'lambda_l1': 15, 'lambda_l2': 2, 'bagging_fraction': 0.5831728702979854}. Best is trial 0 with value: 0.0.\n",
      "[I 2024-07-23 23:11:03,075] Trial 10 finished with value: 0.0 and parameters: {'num_leaves': 242, 'max_depth': 5, 'learning_rate': 0.015262242888704038, 'lambda_l1': 50, 'lambda_l2': 96, 'bagging_fraction': 0.48563455032710706}. Best is trial 0 with value: 0.0.\n",
      "[I 2024-07-23 23:11:03,264] Trial 11 finished with value: 0.0 and parameters: {'num_leaves': 389, 'max_depth': 8, 'learning_rate': 0.2930668918579407, 'lambda_l1': 49, 'lambda_l2': 75, 'bagging_fraction': 0.31235602718386013}. Best is trial 0 with value: 0.0.\n",
      "[I 2024-07-23 23:11:03,588] Trial 12 finished with value: 0.0 and parameters: {'num_leaves': 393, 'max_depth': 9, 'learning_rate': 0.09714311159392927, 'lambda_l1': 65, 'lambda_l2': 44, 'bagging_fraction': 0.46555410285380555}. Best is trial 0 with value: 0.0.\n",
      "[I 2024-07-23 23:11:03,940] Trial 13 finished with value: 0.0 and parameters: {'num_leaves': 329, 'max_depth': 6, 'learning_rate': 0.28461595358384273, 'lambda_l1': 33, 'lambda_l2': 20, 'bagging_fraction': 0.48732249583221826}. Best is trial 0 with value: 0.0.\n",
      "[I 2024-07-23 23:11:04,225] Trial 14 finished with value: 0.0 and parameters: {'num_leaves': 430, 'max_depth': 10, 'learning_rate': 0.10394531314917971, 'lambda_l1': 64, 'lambda_l2': 69, 'bagging_fraction': 0.4020879094485829}. Best is trial 0 with value: 0.0.\n",
      "[I 2024-07-23 23:11:04,571] Trial 15 finished with value: 0.0 and parameters: {'num_leaves': 251, 'max_depth': 4, 'learning_rate': 0.22714374453407027, 'lambda_l1': 0, 'lambda_l2': 55, 'bagging_fraction': 0.5562481395209369}. Best is trial 0 with value: 0.0.\n",
      "[I 2024-07-23 23:11:05,073] Trial 16 finished with value: 0.0 and parameters: {'num_leaves': 434, 'max_depth': 8, 'learning_rate': 0.2628863532366619, 'lambda_l1': 40, 'lambda_l2': 18, 'bagging_fraction': 0.6919851097022884}. Best is trial 0 with value: 0.0.\n",
      "[I 2024-07-23 23:11:05,287] Trial 17 finished with value: 0.0 and parameters: {'num_leaves': 350, 'max_depth': 7, 'learning_rate': 0.11206799518894317, 'lambda_l1': 58, 'lambda_l2': 78, 'bagging_fraction': 0.4043187601689776}. Best is trial 0 with value: 0.0.\n",
      "[I 2024-07-23 23:11:05,524] Trial 18 finished with value: 0.0 and parameters: {'num_leaves': 384, 'max_depth': 10, 'learning_rate': 0.02194597123523454, 'lambda_l1': 75, 'lambda_l2': 48, 'bagging_fraction': 0.352546050428912}. Best is trial 0 with value: 0.0.\n",
      "[I 2024-07-23 23:11:05,687] Trial 19 finished with value: 0.0 and parameters: {'num_leaves': 292, 'max_depth': 5, 'learning_rate': 0.19726295200296623, 'lambda_l1': 41, 'lambda_l2': 63, 'bagging_fraction': 0.3030401097914193}. Best is trial 0 with value: 0.0.\n",
      "[I 2024-07-23 23:11:05,892] Trial 20 finished with value: 0.0 and parameters: {'num_leaves': 181, 'max_depth': 13, 'learning_rate': 0.07482418344828623, 'lambda_l1': 54, 'lambda_l2': 32, 'bagging_fraction': 0.8175941796646038}. Best is trial 0 with value: 0.0.\n",
      "[I 2024-07-23 23:11:06,066] Trial 21 finished with value: 0.0 and parameters: {'num_leaves': 506, 'max_depth': 14, 'learning_rate': 0.17766648171773416, 'lambda_l1': 97, 'lambda_l2': 34, 'bagging_fraction': 0.9976145699913823}. Best is trial 0 with value: 0.0.\n",
      "[I 2024-07-23 23:11:06,236] Trial 22 finished with value: 0.0 and parameters: {'num_leaves': 474, 'max_depth': 14, 'learning_rate': 0.2619391743570506, 'lambda_l1': 76, 'lambda_l2': 22, 'bagging_fraction': 0.9520896342925702}. Best is trial 0 with value: 0.0.\n",
      "[I 2024-07-23 23:11:06,444] Trial 23 finished with value: 0.0 and parameters: {'num_leaves': 435, 'max_depth': 9, 'learning_rate': 0.12846061925460941, 'lambda_l1': 44, 'lambda_l2': 51, 'bagging_fraction': 0.8218160030457053}. Best is trial 0 with value: 0.0.\n",
      "[I 2024-07-23 23:11:06,613] Trial 24 finished with value: 0.0 and parameters: {'num_leaves': 466, 'max_depth': 11, 'learning_rate': 0.19685290833707153, 'lambda_l1': 62, 'lambda_l2': 42, 'bagging_fraction': 0.6433965680007558}. Best is trial 0 with value: 0.0.\n",
      "[I 2024-07-23 23:11:06,818] Trial 25 finished with value: 0.0 and parameters: {'num_leaves': 404, 'max_depth': 7, 'learning_rate': 0.248140367806723, 'lambda_l1': 15, 'lambda_l2': 11, 'bagging_fraction': 0.5258654173658767}. Best is trial 0 with value: 0.0.\n",
      "[I 2024-07-23 23:11:06,940] Trial 26 finished with value: 0.0 and parameters: {'num_leaves': 510, 'max_depth': 8, 'learning_rate': 0.175612558874791, 'lambda_l1': 78, 'lambda_l2': 26, 'bagging_fraction': 0.43008163005273786}. Best is trial 0 with value: 0.0.\n",
      "[I 2024-07-23 23:11:07,110] Trial 27 finished with value: 0.0 and parameters: {'num_leaves': 360, 'max_depth': 15, 'learning_rate': 0.2994539605519909, 'lambda_l1': 34, 'lambda_l2': 38, 'bagging_fraction': 0.7552907743236212}. Best is trial 0 with value: 0.0.\n",
      "[I 2024-07-23 23:11:07,317] Trial 28 finished with value: 0.0 and parameters: {'num_leaves': 468, 'max_depth': 11, 'learning_rate': 0.079184198890757, 'lambda_l1': 52, 'lambda_l2': 60, 'bagging_fraction': 0.6172202789098282}. Best is trial 0 with value: 0.0.\n",
      "[I 2024-07-23 23:11:07,562] Trial 29 finished with value: 0.0 and parameters: {'num_leaves': 312, 'max_depth': 12, 'learning_rate': 0.03850621577459744, 'lambda_l1': 58, 'lambda_l2': 45, 'bagging_fraction': 0.9173032214422698}. Best is trial 0 with value: 0.0.\n",
      "[I 2024-07-23 23:11:07,678] Trial 30 finished with value: 0.0 and parameters: {'num_leaves': 53, 'max_depth': 6, 'learning_rate': 0.19873302225223188, 'lambda_l1': 81, 'lambda_l2': 12, 'bagging_fraction': 0.5201775307025471}. Best is trial 0 with value: 0.0.\n",
      "[I 2024-07-23 23:11:07,847] Trial 31 finished with value: 0.0 and parameters: {'num_leaves': 111, 'max_depth': 12, 'learning_rate': 0.04473419397938018, 'lambda_l1': 98, 'lambda_l2': 40, 'bagging_fraction': 0.8411424099457537}. Best is trial 0 with value: 0.0.\n",
      "[I 2024-07-23 23:11:08,033] Trial 32 finished with value: 0.0 and parameters: {'num_leaves': 39, 'max_depth': 13, 'learning_rate': 0.038811990439699434, 'lambda_l1': 84, 'lambda_l2': 28, 'bagging_fraction': 0.8802841682549809}. Best is trial 0 with value: 0.0.\n",
      "[I 2024-07-23 23:11:08,176] Trial 33 finished with value: 0.0 and parameters: {'num_leaves': 211, 'max_depth': 13, 'learning_rate': 0.1583490279768017, 'lambda_l1': 92, 'lambda_l2': 36, 'bagging_fraction': 0.7636964839011974}. Best is trial 0 with value: 0.0.\n",
      "[I 2024-07-23 23:11:08,408] Trial 34 finished with value: 0.0 and parameters: {'num_leaves': 19, 'max_depth': 15, 'learning_rate': 0.056501401194906695, 'lambda_l1': 69, 'lambda_l2': 53, 'bagging_fraction': 0.9987916275117269}. Best is trial 0 with value: 0.0.\n",
      "[I 2024-07-23 23:11:08,594] Trial 35 finished with value: 0.0 and parameters: {'num_leaves': 89, 'max_depth': 10, 'learning_rate': 0.013801681348233336, 'lambda_l1': 91, 'lambda_l2': 47, 'bagging_fraction': 0.7030205123129905}. Best is trial 0 with value: 0.0.\n",
      "[I 2024-07-23 23:11:08,751] Trial 36 finished with value: 0.0 and parameters: {'num_leaves': 482, 'max_depth': 16, 'learning_rate': 0.13334572491906022, 'lambda_l1': 71, 'lambda_l2': 59, 'bagging_fraction': 0.3632032958633566}. Best is trial 0 with value: 0.0.\n",
      "[I 2024-07-23 23:11:08,937] Trial 37 finished with value: 0.0 and parameters: {'num_leaves': 162, 'max_depth': 14, 'learning_rate': 0.2148782283037246, 'lambda_l1': 46, 'lambda_l2': 70, 'bagging_fraction': 0.7626644877491436}. Best is trial 0 with value: 0.0.\n",
      "[I 2024-07-23 23:11:09,183] Trial 38 finished with value: 0.0 and parameters: {'num_leaves': 275, 'max_depth': 9, 'learning_rate': 0.08104516421327468, 'lambda_l1': 36, 'lambda_l2': 30, 'bagging_fraction': 0.8687443278489907}. Best is trial 0 with value: 0.0.\n",
      "[I 2024-07-23 23:11:09,330] Trial 39 finished with value: 0.0 and parameters: {'num_leaves': 415, 'max_depth': 3, 'learning_rate': 0.027078110160877363, 'lambda_l1': 22, 'lambda_l2': 85, 'bagging_fraction': 0.36940297723896875}. Best is trial 0 with value: 0.0.\n",
      "[I 2024-07-23 23:11:09,481] Trial 40 finished with value: 0.0 and parameters: {'num_leaves': 368, 'max_depth': 11, 'learning_rate': 0.15069376765399708, 'lambda_l1': 87, 'lambda_l2': 39, 'bagging_fraction': 0.44313109842328313}. Best is trial 0 with value: 0.0.\n",
      "[I 2024-07-23 23:11:09,683] Trial 41 finished with value: 0.0 and parameters: {'num_leaves': 500, 'max_depth': 12, 'learning_rate': 0.21551501853801683, 'lambda_l1': 24, 'lambda_l2': 92, 'bagging_fraction': 0.5895621491568334}. Best is trial 0 with value: 0.0.\n",
      "[I 2024-07-23 23:11:10,367] Trial 42 finished with value: 0.07089443226712444 and parameters: {'num_leaves': 444, 'max_depth': 15, 'learning_rate': 0.27120445014741984, 'lambda_l1': 2, 'lambda_l2': 91, 'bagging_fraction': 0.6768908509420217}. Best is trial 42 with value: 0.07089443226712444.\n",
      "[I 2024-07-23 23:11:10,899] Trial 43 finished with value: 0.013617744317394279 and parameters: {'num_leaves': 452, 'max_depth': 15, 'learning_rate': 0.2778689708123939, 'lambda_l1': 6, 'lambda_l2': 98, 'bagging_fraction': 0.6544928008284232}. Best is trial 42 with value: 0.07089443226712444.\n",
      "[I 2024-07-23 23:11:11,560] Trial 44 finished with value: 0.08406356527955895 and parameters: {'num_leaves': 442, 'max_depth': 16, 'learning_rate': 0.2752891329587503, 'lambda_l1': 0, 'lambda_l2': 100, 'bagging_fraction': 0.7268325650833006}. Best is trial 44 with value: 0.08406356527955895.\n",
      "[I 2024-07-23 23:11:12,255] Trial 45 finished with value: 0.031082020908987363 and parameters: {'num_leaves': 456, 'max_depth': 16, 'learning_rate': 0.27465262868995993, 'lambda_l1': 1, 'lambda_l2': 98, 'bagging_fraction': 0.6596947455440152}. Best is trial 44 with value: 0.08406356527955895.\n",
      "[I 2024-07-23 23:11:12,959] Trial 46 finished with value: 0.014043065994062971 and parameters: {'num_leaves': 450, 'max_depth': 15, 'learning_rate': 0.2790911484703967, 'lambda_l1': 1, 'lambda_l2': 99, 'bagging_fraction': 0.6652449235641675}. Best is trial 44 with value: 0.08406356527955895.\n",
      "[I 2024-07-23 23:11:13,661] Trial 47 finished with value: 0.03343935816870452 and parameters: {'num_leaves': 449, 'max_depth': 15, 'learning_rate': 0.26681347537382094, 'lambda_l1': 1, 'lambda_l2': 100, 'bagging_fraction': 0.676037948447738}. Best is trial 44 with value: 0.08406356527955895.\n",
      "[I 2024-07-23 23:11:14,330] Trial 48 finished with value: 0.04909291543802918 and parameters: {'num_leaves': 450, 'max_depth': 16, 'learning_rate': 0.2469893343539546, 'lambda_l1': 0, 'lambda_l2': 91, 'bagging_fraction': 0.6724930454320465}. Best is trial 44 with value: 0.08406356527955895.\n",
      "[I 2024-07-23 23:11:14,824] Trial 49 finished with value: 0.0 and parameters: {'num_leaves': 424, 'max_depth': 16, 'learning_rate': 0.24818762979862757, 'lambda_l1': 8, 'lambda_l2': 91, 'bagging_fraction': 0.7294304510545161}. Best is trial 44 with value: 0.08406356527955895.\n",
      "[I 2024-07-23 23:11:15,233] Trial 50 finished with value: 0.0 and parameters: {'num_leaves': 481, 'max_depth': 16, 'learning_rate': 0.2641520481111647, 'lambda_l1': 13, 'lambda_l2': 82, 'bagging_fraction': 0.6241033127100106}. Best is trial 44 with value: 0.08406356527955895.\n",
      "[I 2024-07-23 23:11:16,041] Trial 51 finished with value: 0.014495812281596668 and parameters: {'num_leaves': 446, 'max_depth': 15, 'learning_rate': 0.283884996450138, 'lambda_l1': 0, 'lambda_l2': 100, 'bagging_fraction': 0.6774777056339292}. Best is trial 44 with value: 0.08406356527955895.\n",
      "[I 2024-07-23 23:11:16,791] Trial 52 finished with value: 0.032614828445252236 and parameters: {'num_leaves': 403, 'max_depth': 15, 'learning_rate': 0.2868843696843101, 'lambda_l1': 5, 'lambda_l2': 93, 'bagging_fraction': 0.6839824533036916}. Best is trial 44 with value: 0.08406356527955895.\n",
      "[I 2024-07-23 23:11:17,407] Trial 53 finished with value: 0.0154949199533055 and parameters: {'num_leaves': 409, 'max_depth': 16, 'learning_rate': 0.24689198056210676, 'lambda_l1': 6, 'lambda_l2': 92, 'bagging_fraction': 0.7095160286300273}. Best is trial 44 with value: 0.08406356527955895.\n",
      "[I 2024-07-23 23:11:17,863] Trial 54 finished with value: 0.031082020908987363 and parameters: {'num_leaves': 378, 'max_depth': 14, 'learning_rate': 0.2678810769972461, 'lambda_l1': 10, 'lambda_l2': 88, 'bagging_fraction': 0.7248855079606757}. Best is trial 44 with value: 0.08406356527955895.\n",
      "[I 2024-07-23 23:11:18,125] Trial 55 finished with value: 0.0 and parameters: {'num_leaves': 399, 'max_depth': 16, 'learning_rate': 0.2908519852818837, 'lambda_l1': 19, 'lambda_l2': 95, 'bagging_fraction': 0.6217118407091341}. Best is trial 44 with value: 0.08406356527955895.\n",
      "[I 2024-07-23 23:11:18,855] Trial 56 finished with value: 0.046201687219086816 and parameters: {'num_leaves': 487, 'max_depth': 15, 'learning_rate': 0.2367700491327623, 'lambda_l1': 4, 'lambda_l2': 81, 'bagging_fraction': 0.7869921981521925}. Best is trial 44 with value: 0.08406356527955895.\n",
      "[I 2024-07-23 23:11:19,688] Trial 57 finished with value: 0.0 and parameters: {'num_leaves': 495, 'max_depth': 15, 'learning_rate': 0.2330847938832339, 'lambda_l1': 4, 'lambda_l2': 83, 'bagging_fraction': 0.7411349430021583}. Best is trial 44 with value: 0.08406356527955895.\n",
      "[I 2024-07-23 23:11:20,316] Trial 58 finished with value: 0.05611624664553914 and parameters: {'num_leaves': 428, 'max_depth': 13, 'learning_rate': 0.25638242175691006, 'lambda_l1': 11, 'lambda_l2': 79, 'bagging_fraction': 0.78645844345609}. Best is trial 44 with value: 0.08406356527955895.\n",
      "[I 2024-07-23 23:11:20,913] Trial 59 finished with value: 0.0501387839310822 and parameters: {'num_leaves': 339, 'max_depth': 14, 'learning_rate': 0.25510598971468434, 'lambda_l1': 12, 'lambda_l2': 80, 'bagging_fraction': 0.7889501650175039}. Best is trial 44 with value: 0.08406356527955895.\n",
      "[I 2024-07-23 23:11:21,346] Trial 60 finished with value: 0.016641947605264346 and parameters: {'num_leaves': 316, 'max_depth': 13, 'learning_rate': 0.22451723206856522, 'lambda_l1': 12, 'lambda_l2': 77, 'bagging_fraction': 0.7928089824547477}. Best is trial 44 with value: 0.08406356527955895.\n",
      "[I 2024-07-23 23:11:21,633] Trial 61 finished with value: 0.0 and parameters: {'num_leaves': 339, 'max_depth': 14, 'learning_rate': 0.25327343086229237, 'lambda_l1': 18, 'lambda_l2': 72, 'bagging_fraction': 0.7897867246521322}. Best is trial 44 with value: 0.08406356527955895.\n",
      "[I 2024-07-23 23:11:22,137] Trial 62 finished with value: 0.0 and parameters: {'num_leaves': 431, 'max_depth': 14, 'learning_rate': 0.25737691165980686, 'lambda_l1': 9, 'lambda_l2': 80, 'bagging_fraction': 0.812470813672077}. Best is trial 44 with value: 0.08406356527955895.\n",
      "[I 2024-07-23 23:11:22,974] Trial 63 finished with value: 0.042837886044224366 and parameters: {'num_leaves': 485, 'max_depth': 15, 'learning_rate': 0.24247265009689237, 'lambda_l1': 4, 'lambda_l2': 89, 'bagging_fraction': 0.8449303022182355}. Best is trial 44 with value: 0.08406356527955895.\n",
      "[I 2024-07-23 23:11:23,296] Trial 64 finished with value: 0.0 and parameters: {'num_leaves': 485, 'max_depth': 16, 'learning_rate': 0.24086024360886824, 'lambda_l1': 16, 'lambda_l2': 88, 'bagging_fraction': 0.8384144342823985}. Best is trial 44 with value: 0.08406356527955895.\n",
      "[I 2024-07-23 23:11:23,997] Trial 65 finished with value: 0.03182998185799256 and parameters: {'num_leaves': 468, 'max_depth': 14, 'learning_rate': 0.23443735520727418, 'lambda_l1': 4, 'lambda_l2': 74, 'bagging_fraction': 0.7773441618732593}. Best is trial 44 with value: 0.08406356527955895.\n",
      "[I 2024-07-23 23:11:24,283] Trial 66 finished with value: 0.0 and parameters: {'num_leaves': 511, 'max_depth': 15, 'learning_rate': 0.2211902693398216, 'lambda_l1': 30, 'lambda_l2': 86, 'bagging_fraction': 0.8509319521742466}. Best is trial 44 with value: 0.08406356527955895.\n",
      "[I 2024-07-23 23:11:24,998] Trial 67 finished with value: 0.043288731135517705 and parameters: {'num_leaves': 429, 'max_depth': 13, 'learning_rate': 0.20472597830787276, 'lambda_l1': 11, 'lambda_l2': 90, 'bagging_fraction': 0.9274875243450715}. Best is trial 44 with value: 0.08406356527955895.\n",
      "[I 2024-07-23 23:11:25,534] Trial 68 finished with value: 0.0 and parameters: {'num_leaves': 420, 'max_depth': 13, 'learning_rate': 0.20311326772218516, 'lambda_l1': 13, 'lambda_l2': 80, 'bagging_fraction': 0.9634943468691797}. Best is trial 44 with value: 0.08406356527955895.\n",
      "[I 2024-07-23 23:11:26,151] Trial 69 finished with value: 0.012146252422970872 and parameters: {'num_leaves': 382, 'max_depth': 13, 'learning_rate': 0.25433399996564054, 'lambda_l1': 10, 'lambda_l2': 95, 'bagging_fraction': 0.8902164689686691}. Best is trial 44 with value: 0.08406356527955895.\n",
      "[I 2024-07-23 23:11:26,648] Trial 70 finished with value: 0.0 and parameters: {'num_leaves': 434, 'max_depth': 14, 'learning_rate': 0.20841454116489036, 'lambda_l1': 20, 'lambda_l2': 83, 'bagging_fraction': 0.804927109070285}. Best is trial 44 with value: 0.08406356527955895.\n",
      "[I 2024-07-23 23:11:27,926] Trial 71 finished with value: 0.034306658755734125 and parameters: {'num_leaves': 490, 'max_depth': 15, 'learning_rate': 0.24412454364657418, 'lambda_l1': 4, 'lambda_l2': 89, 'bagging_fraction': 0.9213211617300304}. Best is trial 44 with value: 0.08406356527955895.\n",
      "[I 2024-07-23 23:11:29,497] Trial 72 finished with value: 0.037201273494827 and parameters: {'num_leaves': 467, 'max_depth': 16, 'learning_rate': 0.22999227145915363, 'lambda_l1': 8, 'lambda_l2': 66, 'bagging_fraction': 0.7536547130233592}. Best is trial 44 with value: 0.08406356527955895.\n",
      "[I 2024-07-23 23:11:30,333] Trial 73 finished with value: 0.0 and parameters: {'num_leaves': 441, 'max_depth': 14, 'learning_rate': 0.23771316338264373, 'lambda_l1': 16, 'lambda_l2': 76, 'bagging_fraction': 0.9301889639771821}. Best is trial 44 with value: 0.08406356527955895.\n",
      "[I 2024-07-23 23:11:31,655] Trial 74 finished with value: 0.05237015668047615 and parameters: {'num_leaves': 420, 'max_depth': 15, 'learning_rate': 0.2985138980246929, 'lambda_l1': 3, 'lambda_l2': 90, 'bagging_fraction': 0.8606897620437355}. Best is trial 44 with value: 0.08406356527955895.\n",
      "[I 2024-07-23 23:11:32,302] Trial 75 finished with value: 0.05611624664553914 and parameters: {'num_leaves': 361, 'max_depth': 13, 'learning_rate': 0.29945929777878844, 'lambda_l1': 11, 'lambda_l2': 95, 'bagging_fraction': 0.8606398063513706}. Best is trial 44 with value: 0.08406356527955895.\n",
      "[I 2024-07-23 23:11:33,203] Trial 76 finished with value: 0.05356201670486464 and parameters: {'num_leaves': 355, 'max_depth': 16, 'learning_rate': 0.292962481843975, 'lambda_l1': 7, 'lambda_l2': 85, 'bagging_fraction': 0.8681056608440201}. Best is trial 44 with value: 0.08406356527955895.\n",
      "[I 2024-07-23 23:11:33,985] Trial 77 finished with value: 0.04061983323619536 and parameters: {'num_leaves': 353, 'max_depth': 16, 'learning_rate': 0.29810350417890336, 'lambda_l1': 7, 'lambda_l2': 95, 'bagging_fraction': 0.8626677132530065}. Best is trial 44 with value: 0.08406356527955895.\n",
      "[I 2024-07-23 23:11:34,975] Trial 78 finished with value: 0.07237736082330204 and parameters: {'num_leaves': 318, 'max_depth': 16, 'learning_rate': 0.2933607723576623, 'lambda_l1': 0, 'lambda_l2': 86, 'bagging_fraction': 0.8278415954533177}. Best is trial 44 with value: 0.08406356527955895.\n",
      "[I 2024-07-23 23:11:35,388] Trial 79 finished with value: 0.036183612758750004 and parameters: {'num_leaves': 334, 'max_depth': 12, 'learning_rate': 0.293928685297588, 'lambda_l1': 15, 'lambda_l2': 86, 'bagging_fraction': 0.8217202938193415}. Best is trial 44 with value: 0.08406356527955895.\n",
      "[I 2024-07-23 23:11:35,840] Trial 80 finished with value: 0.014978724040628002 and parameters: {'num_leaves': 300, 'max_depth': 14, 'learning_rate': 0.28220434588194965, 'lambda_l1': 13, 'lambda_l2': 96, 'bagging_fraction': 0.9004778296532545}. Best is trial 44 with value: 0.08406356527955895.\n",
      "[I 2024-07-23 23:11:36,578] Trial 81 finished with value: 0.03036840501267939 and parameters: {'num_leaves': 323, 'max_depth': 16, 'learning_rate': 0.26997853032709407, 'lambda_l1': 0, 'lambda_l2': 85, 'bagging_fraction': 0.8311683699909691}. Best is trial 44 with value: 0.08406356527955895.\n",
      "[I 2024-07-23 23:11:37,384] Trial 82 finished with value: 0.04363206478321431 and parameters: {'num_leaves': 368, 'max_depth': 16, 'learning_rate': 0.28839885401425525, 'lambda_l1': 2, 'lambda_l2': 93, 'bagging_fraction': 0.8665834557415384}. Best is trial 44 with value: 0.08406356527955895.\n",
      "[I 2024-07-23 23:11:37,914] Trial 83 finished with value: 0.04712683382187382 and parameters: {'num_leaves': 279, 'max_depth': 15, 'learning_rate': 0.2997779769718107, 'lambda_l1': 7, 'lambda_l2': 78, 'bagging_fraction': 0.7327533663404296}. Best is trial 44 with value: 0.08406356527955895.\n",
      "[I 2024-07-23 23:11:38,674] Trial 84 finished with value: 0.034306658755734125 and parameters: {'num_leaves': 394, 'max_depth': 16, 'learning_rate': 0.27422984609089174, 'lambda_l1': 3, 'lambda_l2': 85, 'bagging_fraction': 0.7703538670460646}. Best is trial 44 with value: 0.08406356527955895.\n",
      "[I 2024-07-23 23:11:39,175] Trial 85 finished with value: 0.0 and parameters: {'num_leaves': 368, 'max_depth': 16, 'learning_rate': 0.25942603763290045, 'lambda_l1': 9, 'lambda_l2': 93, 'bagging_fraction': 0.6394409647346806}. Best is trial 44 with value: 0.08406356527955895.\n",
      "[I 2024-07-23 23:11:39,899] Trial 86 finished with value: 0.013217428679098501 and parameters: {'num_leaves': 247, 'max_depth': 15, 'learning_rate': 0.27880133914256916, 'lambda_l1': 0, 'lambda_l2': 73, 'bagging_fraction': 0.69921348415255}. Best is trial 44 with value: 0.08406356527955895.\n",
      "[I 2024-07-23 23:11:40,110] Trial 87 finished with value: 0.0 and parameters: {'num_leaves': 303, 'max_depth': 14, 'learning_rate': 0.2916349315496889, 'lambda_l1': 25, 'lambda_l2': 90, 'bagging_fraction': 0.801037455124412}. Best is trial 44 with value: 0.08406356527955895.\n",
      "[I 2024-07-23 23:11:40,785] Trial 88 finished with value: 0.08406356527955895 and parameters: {'num_leaves': 350, 'max_depth': 15, 'learning_rate': 0.2723977887877117, 'lambda_l1': 6, 'lambda_l2': 98, 'bagging_fraction': 0.8874169596442469}. Best is trial 44 with value: 0.08406356527955895.\n",
      "[I 2024-07-23 23:11:41,034] Trial 89 finished with value: 0.0 and parameters: {'num_leaves': 348, 'max_depth': 12, 'learning_rate': 0.2735449661799158, 'lambda_l1': 22, 'lambda_l2': 97, 'bagging_fraction': 0.8833699535469876}. Best is trial 44 with value: 0.08406356527955895.\n",
      "[I 2024-07-23 23:11:41,720] Trial 90 finished with value: 0.0667891354554163 and parameters: {'num_leaves': 262, 'max_depth': 13, 'learning_rate': 0.28528069546757884, 'lambda_l1': 6, 'lambda_l2': 100, 'bagging_fraction': 0.9030114876750105}. Best is trial 44 with value: 0.08406356527955895.\n",
      "[I 2024-07-23 23:11:42,441] Trial 91 finished with value: 0.0501387839310822 and parameters: {'num_leaves': 231, 'max_depth': 13, 'learning_rate': 0.2826597270445191, 'lambda_l1': 6, 'lambda_l2': 100, 'bagging_fraction': 0.940021944397555}. Best is trial 44 with value: 0.08406356527955895.\n",
      "[I 2024-07-23 23:11:42,922] Trial 92 finished with value: 0.03343935816870452 and parameters: {'num_leaves': 284, 'max_depth': 15, 'learning_rate': 0.2924379074499294, 'lambda_l1': 11, 'lambda_l2': 97, 'bagging_fraction': 0.904518242370858}. Best is trial 44 with value: 0.08406356527955895.\n",
      "[I 2024-07-23 23:11:43,476] Trial 93 finished with value: 0.03182998185799256 and parameters: {'num_leaves': 263, 'max_depth': 13, 'learning_rate': 0.26408333153945823, 'lambda_l1': 8, 'lambda_l2': 94, 'bagging_fraction': 0.8585913333754016}. Best is trial 44 with value: 0.08406356527955895.\n",
      "[I 2024-07-23 23:11:43,760] Trial 94 finished with value: 0.018720673783707713 and parameters: {'num_leaves': 324, 'max_depth': 14, 'learning_rate': 0.2851919134555681, 'lambda_l1': 17, 'lambda_l2': 98, 'bagging_fraction': 0.8280638935608714}. Best is trial 44 with value: 0.08406356527955895.\n",
      "[I 2024-07-23 23:11:44,297] Trial 95 finished with value: 0.0 and parameters: {'num_leaves': 341, 'max_depth': 15, 'learning_rate': 0.2701180546440098, 'lambda_l1': 14, 'lambda_l2': 87, 'bagging_fraction': 0.8948511211974518}. Best is trial 44 with value: 0.08406356527955895.\n",
      "[I 2024-07-23 23:11:45,237] Trial 96 finished with value: 0.07109648971922806 and parameters: {'num_leaves': 261, 'max_depth': 12, 'learning_rate': 0.295549327171955, 'lambda_l1': 2, 'lambda_l2': 91, 'bagging_fraction': 0.909472977657031}. Best is trial 44 with value: 0.08406356527955895.\n",
      "[I 2024-07-23 23:11:46,198] Trial 97 finished with value: 0.042837886044224366 and parameters: {'num_leaves': 233, 'max_depth': 11, 'learning_rate': 0.2956358022310202, 'lambda_l1': 2, 'lambda_l2': 96, 'bagging_fraction': 0.9848101744133034}. Best is trial 44 with value: 0.08406356527955895.\n",
      "[I 2024-07-23 23:11:46,993] Trial 98 finished with value: 0.034306658755734125 and parameters: {'num_leaves': 268, 'max_depth': 12, 'learning_rate': 0.18850445045764141, 'lambda_l1': 6, 'lambda_l2': 91, 'bagging_fraction': 0.8733619338717594}. Best is trial 44 with value: 0.08406356527955895.\n",
      "[I 2024-07-23 23:11:47,744] Trial 99 finished with value: 0.014495812281596668 and parameters: {'num_leaves': 200, 'max_depth': 13, 'learning_rate': 0.2862093405423218, 'lambda_l1': 3, 'lambda_l2': 94, 'bagging_fraction': 0.9135934141465254}. Best is trial 44 with value: 0.08406356527955895.\n"
     ]
    }
   ],
   "source": [
    "study = optuna.create_study(direction=\"maximize\")\n",
    "study.optimize(objective, n_trials=n_trials)"
   ]
  },
  {
   "cell_type": "code",
   "execution_count": 18,
   "metadata": {},
   "outputs": [
    {
     "data": {
      "application/vnd.plotly.v1+json": {
       "config": {
        "plotlyServerURL": "https://plot.ly"
       },
       "data": [
        {
         "mode": "markers",
         "name": "Objective Value",
         "type": "scatter",
         "x": [
          0,
          1,
          2,
          3,
          4,
          5,
          6,
          7,
          8,
          9,
          10,
          11,
          12,
          13,
          14,
          15,
          16,
          17,
          18,
          19,
          20,
          21,
          22,
          23,
          24,
          25,
          26,
          27,
          28,
          29,
          30,
          31,
          32,
          33,
          34,
          35,
          36,
          37,
          38,
          39,
          40,
          41,
          42,
          43,
          44,
          45,
          46,
          47,
          48,
          49,
          50,
          51,
          52,
          53,
          54,
          55,
          56,
          57,
          58,
          59,
          60,
          61,
          62,
          63,
          64,
          65,
          66,
          67,
          68,
          69,
          70,
          71,
          72,
          73,
          74,
          75,
          76,
          77,
          78,
          79,
          80,
          81,
          82,
          83,
          84,
          85,
          86,
          87,
          88,
          89,
          90,
          91,
          92,
          93,
          94,
          95,
          96,
          97,
          98,
          99
         ],
         "y": [
          0,
          0,
          0,
          0,
          0,
          0,
          0,
          0,
          0,
          0,
          0,
          0,
          0,
          0,
          0,
          0,
          0,
          0,
          0,
          0,
          0,
          0,
          0,
          0,
          0,
          0,
          0,
          0,
          0,
          0,
          0,
          0,
          0,
          0,
          0,
          0,
          0,
          0,
          0,
          0,
          0,
          0,
          0.07089443226712444,
          0.013617744317394279,
          0.08406356527955895,
          0.031082020908987363,
          0.014043065994062971,
          0.03343935816870452,
          0.04909291543802918,
          0,
          0,
          0.014495812281596668,
          0.032614828445252236,
          0.0154949199533055,
          0.031082020908987363,
          0,
          0.046201687219086816,
          0,
          0.05611624664553914,
          0.0501387839310822,
          0.016641947605264346,
          0,
          0,
          0.042837886044224366,
          0,
          0.03182998185799256,
          0,
          0.043288731135517705,
          0,
          0.012146252422970872,
          0,
          0.034306658755734125,
          0.037201273494827,
          0,
          0.05237015668047615,
          0.05611624664553914,
          0.05356201670486464,
          0.04061983323619536,
          0.07237736082330204,
          0.036183612758750004,
          0.014978724040628002,
          0.03036840501267939,
          0.04363206478321431,
          0.04712683382187382,
          0.034306658755734125,
          0,
          0.013217428679098501,
          0,
          0.08406356527955895,
          0,
          0.0667891354554163,
          0.0501387839310822,
          0.03343935816870452,
          0.03182998185799256,
          0.018720673783707713,
          0,
          0.07109648971922806,
          0.042837886044224366,
          0.034306658755734125,
          0.014495812281596668
         ]
        },
        {
         "mode": "lines",
         "name": "Best Value",
         "type": "scatter",
         "x": [
          0,
          1,
          2,
          3,
          4,
          5,
          6,
          7,
          8,
          9,
          10,
          11,
          12,
          13,
          14,
          15,
          16,
          17,
          18,
          19,
          20,
          21,
          22,
          23,
          24,
          25,
          26,
          27,
          28,
          29,
          30,
          31,
          32,
          33,
          34,
          35,
          36,
          37,
          38,
          39,
          40,
          41,
          42,
          43,
          44,
          45,
          46,
          47,
          48,
          49,
          50,
          51,
          52,
          53,
          54,
          55,
          56,
          57,
          58,
          59,
          60,
          61,
          62,
          63,
          64,
          65,
          66,
          67,
          68,
          69,
          70,
          71,
          72,
          73,
          74,
          75,
          76,
          77,
          78,
          79,
          80,
          81,
          82,
          83,
          84,
          85,
          86,
          87,
          88,
          89,
          90,
          91,
          92,
          93,
          94,
          95,
          96,
          97,
          98,
          99
         ],
         "y": [
          0,
          0,
          0,
          0,
          0,
          0,
          0,
          0,
          0,
          0,
          0,
          0,
          0,
          0,
          0,
          0,
          0,
          0,
          0,
          0,
          0,
          0,
          0,
          0,
          0,
          0,
          0,
          0,
          0,
          0,
          0,
          0,
          0,
          0,
          0,
          0,
          0,
          0,
          0,
          0,
          0,
          0,
          0.07089443226712444,
          0.07089443226712444,
          0.08406356527955895,
          0.08406356527955895,
          0.08406356527955895,
          0.08406356527955895,
          0.08406356527955895,
          0.08406356527955895,
          0.08406356527955895,
          0.08406356527955895,
          0.08406356527955895,
          0.08406356527955895,
          0.08406356527955895,
          0.08406356527955895,
          0.08406356527955895,
          0.08406356527955895,
          0.08406356527955895,
          0.08406356527955895,
          0.08406356527955895,
          0.08406356527955895,
          0.08406356527955895,
          0.08406356527955895,
          0.08406356527955895,
          0.08406356527955895,
          0.08406356527955895,
          0.08406356527955895,
          0.08406356527955895,
          0.08406356527955895,
          0.08406356527955895,
          0.08406356527955895,
          0.08406356527955895,
          0.08406356527955895,
          0.08406356527955895,
          0.08406356527955895,
          0.08406356527955895,
          0.08406356527955895,
          0.08406356527955895,
          0.08406356527955895,
          0.08406356527955895,
          0.08406356527955895,
          0.08406356527955895,
          0.08406356527955895,
          0.08406356527955895,
          0.08406356527955895,
          0.08406356527955895,
          0.08406356527955895,
          0.08406356527955895,
          0.08406356527955895,
          0.08406356527955895,
          0.08406356527955895,
          0.08406356527955895,
          0.08406356527955895,
          0.08406356527955895,
          0.08406356527955895,
          0.08406356527955895,
          0.08406356527955895,
          0.08406356527955895,
          0.08406356527955895
         ]
        },
        {
         "marker": {
          "color": "#cccccc"
         },
         "mode": "markers",
         "name": "Infeasible Trial",
         "showlegend": false,
         "type": "scatter",
         "x": [],
         "y": []
        }
       ],
       "layout": {
        "template": {
         "data": {
          "bar": [
           {
            "error_x": {
             "color": "#2a3f5f"
            },
            "error_y": {
             "color": "#2a3f5f"
            },
            "marker": {
             "line": {
              "color": "#E5ECF6",
              "width": 0.5
             },
             "pattern": {
              "fillmode": "overlay",
              "size": 10,
              "solidity": 0.2
             }
            },
            "type": "bar"
           }
          ],
          "barpolar": [
           {
            "marker": {
             "line": {
              "color": "#E5ECF6",
              "width": 0.5
             },
             "pattern": {
              "fillmode": "overlay",
              "size": 10,
              "solidity": 0.2
             }
            },
            "type": "barpolar"
           }
          ],
          "carpet": [
           {
            "aaxis": {
             "endlinecolor": "#2a3f5f",
             "gridcolor": "white",
             "linecolor": "white",
             "minorgridcolor": "white",
             "startlinecolor": "#2a3f5f"
            },
            "baxis": {
             "endlinecolor": "#2a3f5f",
             "gridcolor": "white",
             "linecolor": "white",
             "minorgridcolor": "white",
             "startlinecolor": "#2a3f5f"
            },
            "type": "carpet"
           }
          ],
          "choropleth": [
           {
            "colorbar": {
             "outlinewidth": 0,
             "ticks": ""
            },
            "type": "choropleth"
           }
          ],
          "contour": [
           {
            "colorbar": {
             "outlinewidth": 0,
             "ticks": ""
            },
            "colorscale": [
             [
              0,
              "#0d0887"
             ],
             [
              0.1111111111111111,
              "#46039f"
             ],
             [
              0.2222222222222222,
              "#7201a8"
             ],
             [
              0.3333333333333333,
              "#9c179e"
             ],
             [
              0.4444444444444444,
              "#bd3786"
             ],
             [
              0.5555555555555556,
              "#d8576b"
             ],
             [
              0.6666666666666666,
              "#ed7953"
             ],
             [
              0.7777777777777778,
              "#fb9f3a"
             ],
             [
              0.8888888888888888,
              "#fdca26"
             ],
             [
              1,
              "#f0f921"
             ]
            ],
            "type": "contour"
           }
          ],
          "contourcarpet": [
           {
            "colorbar": {
             "outlinewidth": 0,
             "ticks": ""
            },
            "type": "contourcarpet"
           }
          ],
          "heatmap": [
           {
            "colorbar": {
             "outlinewidth": 0,
             "ticks": ""
            },
            "colorscale": [
             [
              0,
              "#0d0887"
             ],
             [
              0.1111111111111111,
              "#46039f"
             ],
             [
              0.2222222222222222,
              "#7201a8"
             ],
             [
              0.3333333333333333,
              "#9c179e"
             ],
             [
              0.4444444444444444,
              "#bd3786"
             ],
             [
              0.5555555555555556,
              "#d8576b"
             ],
             [
              0.6666666666666666,
              "#ed7953"
             ],
             [
              0.7777777777777778,
              "#fb9f3a"
             ],
             [
              0.8888888888888888,
              "#fdca26"
             ],
             [
              1,
              "#f0f921"
             ]
            ],
            "type": "heatmap"
           }
          ],
          "heatmapgl": [
           {
            "colorbar": {
             "outlinewidth": 0,
             "ticks": ""
            },
            "colorscale": [
             [
              0,
              "#0d0887"
             ],
             [
              0.1111111111111111,
              "#46039f"
             ],
             [
              0.2222222222222222,
              "#7201a8"
             ],
             [
              0.3333333333333333,
              "#9c179e"
             ],
             [
              0.4444444444444444,
              "#bd3786"
             ],
             [
              0.5555555555555556,
              "#d8576b"
             ],
             [
              0.6666666666666666,
              "#ed7953"
             ],
             [
              0.7777777777777778,
              "#fb9f3a"
             ],
             [
              0.8888888888888888,
              "#fdca26"
             ],
             [
              1,
              "#f0f921"
             ]
            ],
            "type": "heatmapgl"
           }
          ],
          "histogram": [
           {
            "marker": {
             "pattern": {
              "fillmode": "overlay",
              "size": 10,
              "solidity": 0.2
             }
            },
            "type": "histogram"
           }
          ],
          "histogram2d": [
           {
            "colorbar": {
             "outlinewidth": 0,
             "ticks": ""
            },
            "colorscale": [
             [
              0,
              "#0d0887"
             ],
             [
              0.1111111111111111,
              "#46039f"
             ],
             [
              0.2222222222222222,
              "#7201a8"
             ],
             [
              0.3333333333333333,
              "#9c179e"
             ],
             [
              0.4444444444444444,
              "#bd3786"
             ],
             [
              0.5555555555555556,
              "#d8576b"
             ],
             [
              0.6666666666666666,
              "#ed7953"
             ],
             [
              0.7777777777777778,
              "#fb9f3a"
             ],
             [
              0.8888888888888888,
              "#fdca26"
             ],
             [
              1,
              "#f0f921"
             ]
            ],
            "type": "histogram2d"
           }
          ],
          "histogram2dcontour": [
           {
            "colorbar": {
             "outlinewidth": 0,
             "ticks": ""
            },
            "colorscale": [
             [
              0,
              "#0d0887"
             ],
             [
              0.1111111111111111,
              "#46039f"
             ],
             [
              0.2222222222222222,
              "#7201a8"
             ],
             [
              0.3333333333333333,
              "#9c179e"
             ],
             [
              0.4444444444444444,
              "#bd3786"
             ],
             [
              0.5555555555555556,
              "#d8576b"
             ],
             [
              0.6666666666666666,
              "#ed7953"
             ],
             [
              0.7777777777777778,
              "#fb9f3a"
             ],
             [
              0.8888888888888888,
              "#fdca26"
             ],
             [
              1,
              "#f0f921"
             ]
            ],
            "type": "histogram2dcontour"
           }
          ],
          "mesh3d": [
           {
            "colorbar": {
             "outlinewidth": 0,
             "ticks": ""
            },
            "type": "mesh3d"
           }
          ],
          "parcoords": [
           {
            "line": {
             "colorbar": {
              "outlinewidth": 0,
              "ticks": ""
             }
            },
            "type": "parcoords"
           }
          ],
          "pie": [
           {
            "automargin": true,
            "type": "pie"
           }
          ],
          "scatter": [
           {
            "fillpattern": {
             "fillmode": "overlay",
             "size": 10,
             "solidity": 0.2
            },
            "type": "scatter"
           }
          ],
          "scatter3d": [
           {
            "line": {
             "colorbar": {
              "outlinewidth": 0,
              "ticks": ""
             }
            },
            "marker": {
             "colorbar": {
              "outlinewidth": 0,
              "ticks": ""
             }
            },
            "type": "scatter3d"
           }
          ],
          "scattercarpet": [
           {
            "marker": {
             "colorbar": {
              "outlinewidth": 0,
              "ticks": ""
             }
            },
            "type": "scattercarpet"
           }
          ],
          "scattergeo": [
           {
            "marker": {
             "colorbar": {
              "outlinewidth": 0,
              "ticks": ""
             }
            },
            "type": "scattergeo"
           }
          ],
          "scattergl": [
           {
            "marker": {
             "colorbar": {
              "outlinewidth": 0,
              "ticks": ""
             }
            },
            "type": "scattergl"
           }
          ],
          "scattermapbox": [
           {
            "marker": {
             "colorbar": {
              "outlinewidth": 0,
              "ticks": ""
             }
            },
            "type": "scattermapbox"
           }
          ],
          "scatterpolar": [
           {
            "marker": {
             "colorbar": {
              "outlinewidth": 0,
              "ticks": ""
             }
            },
            "type": "scatterpolar"
           }
          ],
          "scatterpolargl": [
           {
            "marker": {
             "colorbar": {
              "outlinewidth": 0,
              "ticks": ""
             }
            },
            "type": "scatterpolargl"
           }
          ],
          "scatterternary": [
           {
            "marker": {
             "colorbar": {
              "outlinewidth": 0,
              "ticks": ""
             }
            },
            "type": "scatterternary"
           }
          ],
          "surface": [
           {
            "colorbar": {
             "outlinewidth": 0,
             "ticks": ""
            },
            "colorscale": [
             [
              0,
              "#0d0887"
             ],
             [
              0.1111111111111111,
              "#46039f"
             ],
             [
              0.2222222222222222,
              "#7201a8"
             ],
             [
              0.3333333333333333,
              "#9c179e"
             ],
             [
              0.4444444444444444,
              "#bd3786"
             ],
             [
              0.5555555555555556,
              "#d8576b"
             ],
             [
              0.6666666666666666,
              "#ed7953"
             ],
             [
              0.7777777777777778,
              "#fb9f3a"
             ],
             [
              0.8888888888888888,
              "#fdca26"
             ],
             [
              1,
              "#f0f921"
             ]
            ],
            "type": "surface"
           }
          ],
          "table": [
           {
            "cells": {
             "fill": {
              "color": "#EBF0F8"
             },
             "line": {
              "color": "white"
             }
            },
            "header": {
             "fill": {
              "color": "#C8D4E3"
             },
             "line": {
              "color": "white"
             }
            },
            "type": "table"
           }
          ]
         },
         "layout": {
          "annotationdefaults": {
           "arrowcolor": "#2a3f5f",
           "arrowhead": 0,
           "arrowwidth": 1
          },
          "autotypenumbers": "strict",
          "coloraxis": {
           "colorbar": {
            "outlinewidth": 0,
            "ticks": ""
           }
          },
          "colorscale": {
           "diverging": [
            [
             0,
             "#8e0152"
            ],
            [
             0.1,
             "#c51b7d"
            ],
            [
             0.2,
             "#de77ae"
            ],
            [
             0.3,
             "#f1b6da"
            ],
            [
             0.4,
             "#fde0ef"
            ],
            [
             0.5,
             "#f7f7f7"
            ],
            [
             0.6,
             "#e6f5d0"
            ],
            [
             0.7,
             "#b8e186"
            ],
            [
             0.8,
             "#7fbc41"
            ],
            [
             0.9,
             "#4d9221"
            ],
            [
             1,
             "#276419"
            ]
           ],
           "sequential": [
            [
             0,
             "#0d0887"
            ],
            [
             0.1111111111111111,
             "#46039f"
            ],
            [
             0.2222222222222222,
             "#7201a8"
            ],
            [
             0.3333333333333333,
             "#9c179e"
            ],
            [
             0.4444444444444444,
             "#bd3786"
            ],
            [
             0.5555555555555556,
             "#d8576b"
            ],
            [
             0.6666666666666666,
             "#ed7953"
            ],
            [
             0.7777777777777778,
             "#fb9f3a"
            ],
            [
             0.8888888888888888,
             "#fdca26"
            ],
            [
             1,
             "#f0f921"
            ]
           ],
           "sequentialminus": [
            [
             0,
             "#0d0887"
            ],
            [
             0.1111111111111111,
             "#46039f"
            ],
            [
             0.2222222222222222,
             "#7201a8"
            ],
            [
             0.3333333333333333,
             "#9c179e"
            ],
            [
             0.4444444444444444,
             "#bd3786"
            ],
            [
             0.5555555555555556,
             "#d8576b"
            ],
            [
             0.6666666666666666,
             "#ed7953"
            ],
            [
             0.7777777777777778,
             "#fb9f3a"
            ],
            [
             0.8888888888888888,
             "#fdca26"
            ],
            [
             1,
             "#f0f921"
            ]
           ]
          },
          "colorway": [
           "#636efa",
           "#EF553B",
           "#00cc96",
           "#ab63fa",
           "#FFA15A",
           "#19d3f3",
           "#FF6692",
           "#B6E880",
           "#FF97FF",
           "#FECB52"
          ],
          "font": {
           "color": "#2a3f5f"
          },
          "geo": {
           "bgcolor": "white",
           "lakecolor": "white",
           "landcolor": "#E5ECF6",
           "showlakes": true,
           "showland": true,
           "subunitcolor": "white"
          },
          "hoverlabel": {
           "align": "left"
          },
          "hovermode": "closest",
          "mapbox": {
           "style": "light"
          },
          "paper_bgcolor": "white",
          "plot_bgcolor": "#E5ECF6",
          "polar": {
           "angularaxis": {
            "gridcolor": "white",
            "linecolor": "white",
            "ticks": ""
           },
           "bgcolor": "#E5ECF6",
           "radialaxis": {
            "gridcolor": "white",
            "linecolor": "white",
            "ticks": ""
           }
          },
          "scene": {
           "xaxis": {
            "backgroundcolor": "#E5ECF6",
            "gridcolor": "white",
            "gridwidth": 2,
            "linecolor": "white",
            "showbackground": true,
            "ticks": "",
            "zerolinecolor": "white"
           },
           "yaxis": {
            "backgroundcolor": "#E5ECF6",
            "gridcolor": "white",
            "gridwidth": 2,
            "linecolor": "white",
            "showbackground": true,
            "ticks": "",
            "zerolinecolor": "white"
           },
           "zaxis": {
            "backgroundcolor": "#E5ECF6",
            "gridcolor": "white",
            "gridwidth": 2,
            "linecolor": "white",
            "showbackground": true,
            "ticks": "",
            "zerolinecolor": "white"
           }
          },
          "shapedefaults": {
           "line": {
            "color": "#2a3f5f"
           }
          },
          "ternary": {
           "aaxis": {
            "gridcolor": "white",
            "linecolor": "white",
            "ticks": ""
           },
           "baxis": {
            "gridcolor": "white",
            "linecolor": "white",
            "ticks": ""
           },
           "bgcolor": "#E5ECF6",
           "caxis": {
            "gridcolor": "white",
            "linecolor": "white",
            "ticks": ""
           }
          },
          "title": {
           "x": 0.05
          },
          "xaxis": {
           "automargin": true,
           "gridcolor": "white",
           "linecolor": "white",
           "ticks": "",
           "title": {
            "standoff": 15
           },
           "zerolinecolor": "white",
           "zerolinewidth": 2
          },
          "yaxis": {
           "automargin": true,
           "gridcolor": "white",
           "linecolor": "white",
           "ticks": "",
           "title": {
            "standoff": 15
           },
           "zerolinecolor": "white",
           "zerolinewidth": 2
          }
         }
        },
        "title": {
         "text": "Optimization History Plot"
        },
        "xaxis": {
         "title": {
          "text": "Trial"
         }
        },
        "yaxis": {
         "title": {
          "text": "Objective Value"
         }
        }
       }
      }
     },
     "metadata": {},
     "output_type": "display_data"
    }
   ],
   "source": [
    "optuna.visualization.plot_optimization_history(**{\"study\": study})"
   ]
  },
  {
   "cell_type": "markdown",
   "metadata": {},
   "source": [
    "# Multi classification w raw data"
   ]
  },
  {
   "cell_type": "markdown",
   "metadata": {},
   "source": [
    "## goal: 5 day 5% gain (high anomaly %)"
   ]
  },
  {
   "cell_type": "code",
   "execution_count": 19,
   "metadata": {},
   "outputs": [
    {
     "name": "stdout",
     "output_type": "stream",
     "text": [
      "(8793, 101) (8793,) (2205, 101) (2205,)\n",
      "(array([0, 1, 2], dtype=int64), array([2332, 3563, 2898], dtype=int64))\n",
      "(array([0, 1, 2], dtype=int64), array([ 437, 1203,  565], dtype=int64))\n"
     ]
    }
   ],
   "source": [
    "X_train, y_train, X_val, y_val = data_prep_for_tuning_multi(ticker_list, normalize=False, obj=[5, 0.05])"
   ]
  },
  {
   "cell_type": "code",
   "execution_count": 20,
   "metadata": {},
   "outputs": [
    {
     "name": "stderr",
     "output_type": "stream",
     "text": [
      "[I 2024-07-23 23:11:48,903] A new study created in memory with name: no-name-30f4ca28-af2e-4e04-bdfd-b37a0e6df117\n",
      "[I 2024-07-23 23:11:50,316] Trial 0 finished with value: 0.35631245001182765 and parameters: {'num_leaves': 44, 'max_depth': 8, 'learning_rate': 0.23535584517650454, 'lambda_l1': 1, 'lambda_l2': 88, 'bagging_fraction': 0.8898445057808082}. Best is trial 0 with value: 0.35631245001182765.\n",
      "[I 2024-07-23 23:11:52,117] Trial 1 finished with value: 0.3754341123962292 and parameters: {'num_leaves': 410, 'max_depth': 10, 'learning_rate': 0.1027752333022908, 'lambda_l1': 5, 'lambda_l2': 93, 'bagging_fraction': 0.7048780118227373}. Best is trial 1 with value: 0.3754341123962292.\n",
      "[I 2024-07-23 23:11:52,357] Trial 2 finished with value: 0.41399814334641444 and parameters: {'num_leaves': 416, 'max_depth': 9, 'learning_rate': 0.28651013234290873, 'lambda_l1': 55, 'lambda_l2': 42, 'bagging_fraction': 0.7765467608257597}. Best is trial 2 with value: 0.41399814334641444.\n",
      "[I 2024-07-23 23:11:52,913] Trial 3 finished with value: 0.3802656427874409 and parameters: {'num_leaves': 192, 'max_depth': 6, 'learning_rate': 0.22196659519602557, 'lambda_l1': 19, 'lambda_l2': 26, 'bagging_fraction': 0.8242026604851527}. Best is trial 2 with value: 0.41399814334641444.\n",
      "[I 2024-07-23 23:11:53,172] Trial 4 finished with value: 0.4075277527212717 and parameters: {'num_leaves': 427, 'max_depth': 12, 'learning_rate': 0.232927242661767, 'lambda_l1': 77, 'lambda_l2': 13, 'bagging_fraction': 0.920565357531085}. Best is trial 2 with value: 0.41399814334641444.\n",
      "[I 2024-07-23 23:11:55,510] Trial 5 finished with value: 0.34136613811198596 and parameters: {'num_leaves': 399, 'max_depth': 14, 'learning_rate': 0.16850189817904496, 'lambda_l1': 0, 'lambda_l2': 18, 'bagging_fraction': 0.6486959595111919}. Best is trial 2 with value: 0.41399814334641444.\n",
      "[I 2024-07-23 23:11:55,772] Trial 6 finished with value: 0.39968024966913956 and parameters: {'num_leaves': 451, 'max_depth': 4, 'learning_rate': 0.1422703980496678, 'lambda_l1': 58, 'lambda_l2': 75, 'bagging_fraction': 0.9059301191946441}. Best is trial 2 with value: 0.41399814334641444.\n",
      "[I 2024-07-23 23:11:56,137] Trial 7 finished with value: 0.4016223364726509 and parameters: {'num_leaves': 346, 'max_depth': 13, 'learning_rate': 0.2000465927348937, 'lambda_l1': 36, 'lambda_l2': 20, 'bagging_fraction': 0.7897103571417825}. Best is trial 2 with value: 0.41399814334641444.\n",
      "[I 2024-07-23 23:11:57,219] Trial 8 finished with value: 0.36183048586838146 and parameters: {'num_leaves': 390, 'max_depth': 9, 'learning_rate': 0.130459747444397, 'lambda_l1': 18, 'lambda_l2': 5, 'bagging_fraction': 0.786010389745514}. Best is trial 2 with value: 0.41399814334641444.\n",
      "[I 2024-07-23 23:11:57,466] Trial 9 finished with value: 0.3942265649593513 and parameters: {'num_leaves': 41, 'max_depth': 12, 'learning_rate': 0.22709157747628683, 'lambda_l1': 48, 'lambda_l2': 11, 'bagging_fraction': 0.7250983067439996}. Best is trial 2 with value: 0.41399814334641444.\n",
      "[I 2024-07-23 23:11:57,687] Trial 10 finished with value: 0.41562607278908625 and parameters: {'num_leaves': 253, 'max_depth': 16, 'learning_rate': 0.29277163718112764, 'lambda_l1': 91, 'lambda_l2': 51, 'bagging_fraction': 0.47002543177644945}. Best is trial 10 with value: 0.41562607278908625.\n",
      "[I 2024-07-23 23:11:57,876] Trial 11 finished with value: 0.40395331297825054 and parameters: {'num_leaves': 264, 'max_depth': 15, 'learning_rate': 0.28973057168256183, 'lambda_l1': 100, 'lambda_l2': 51, 'bagging_fraction': 0.43765125567106106}. Best is trial 10 with value: 0.41562607278908625.\n",
      "[I 2024-07-23 23:11:58,260] Trial 12 finished with value: 0.4057947481251789 and parameters: {'num_leaves': 216, 'max_depth': 16, 'learning_rate': 0.03676997237234669, 'lambda_l1': 98, 'lambda_l2': 47, 'bagging_fraction': 0.4987188173484028}. Best is trial 10 with value: 0.41562607278908625.\n",
      "[I 2024-07-23 23:11:58,419] Trial 13 finished with value: 0.4287733809265032 and parameters: {'num_leaves': 133, 'max_depth': 6, 'learning_rate': 0.28836509685375167, 'lambda_l1': 74, 'lambda_l2': 49, 'bagging_fraction': 0.3093706751115891}. Best is trial 13 with value: 0.4287733809265032.\n",
      "[I 2024-07-23 23:11:58,596] Trial 14 finished with value: 0.4084205982868431 and parameters: {'num_leaves': 111, 'max_depth': 4, 'learning_rate': 0.2966728302919023, 'lambda_l1': 79, 'lambda_l2': 63, 'bagging_fraction': 0.3179948011876862}. Best is trial 13 with value: 0.4287733809265032.\n",
      "[I 2024-07-23 23:11:58,773] Trial 15 finished with value: 0.41562607278908625 and parameters: {'num_leaves': 147, 'max_depth': 6, 'learning_rate': 0.25994124090352216, 'lambda_l1': 80, 'lambda_l2': 37, 'bagging_fraction': 0.32112760605140916}. Best is trial 13 with value: 0.4287733809265032.\n",
      "[I 2024-07-23 23:11:58,981] Trial 16 finished with value: 0.40814055103654906 and parameters: {'num_leaves': 311, 'max_depth': 6, 'learning_rate': 0.18326660337188144, 'lambda_l1': 69, 'lambda_l2': 67, 'bagging_fraction': 0.4706165797968533}. Best is trial 13 with value: 0.4287733809265032.\n",
      "[I 2024-07-23 23:11:59,336] Trial 17 finished with value: 0.41404426747825007 and parameters: {'num_leaves': 105, 'max_depth': 11, 'learning_rate': 0.06435656390995967, 'lambda_l1': 91, 'lambda_l2': 57, 'bagging_fraction': 0.5620595142354343}. Best is trial 13 with value: 0.4287733809265032.\n",
      "[I 2024-07-23 23:11:59,497] Trial 18 finished with value: 0.402148228964841 and parameters: {'num_leaves': 249, 'max_depth': 3, 'learning_rate': 0.2624999201222861, 'lambda_l1': 66, 'lambda_l2': 33, 'bagging_fraction': 0.39825592505465224}. Best is trial 13 with value: 0.4287733809265032.\n",
      "[I 2024-07-23 23:11:59,696] Trial 19 finished with value: 0.4028370301374045 and parameters: {'num_leaves': 493, 'max_depth': 7, 'learning_rate': 0.2702555817105352, 'lambda_l1': 86, 'lambda_l2': 72, 'bagging_fraction': 0.5609190701035945}. Best is trial 13 with value: 0.4287733809265032.\n",
      "[I 2024-07-23 23:11:59,911] Trial 20 finished with value: 0.40510515560702715 and parameters: {'num_leaves': 174, 'max_depth': 5, 'learning_rate': 0.201173150771626, 'lambda_l1': 43, 'lambda_l2': 55, 'bagging_fraction': 0.39310686883929735}. Best is trial 13 with value: 0.4287733809265032.\n",
      "[I 2024-07-23 23:12:00,081] Trial 21 finished with value: 0.41254152391068616 and parameters: {'num_leaves': 139, 'max_depth': 7, 'learning_rate': 0.2614797727882785, 'lambda_l1': 80, 'lambda_l2': 38, 'bagging_fraction': 0.31323459922201113}. Best is trial 13 with value: 0.4287733809265032.\n",
      "[I 2024-07-23 23:12:00,269] Trial 22 finished with value: 0.42151328994044696 and parameters: {'num_leaves': 151, 'max_depth': 7, 'learning_rate': 0.25529460426422346, 'lambda_l1': 71, 'lambda_l2': 30, 'bagging_fraction': 0.3648106528124418}. Best is trial 13 with value: 0.4287733809265032.\n",
      "[I 2024-07-23 23:12:00,472] Trial 23 finished with value: 0.4199137784090239 and parameters: {'num_leaves': 88, 'max_depth': 8, 'learning_rate': 0.24926601407743518, 'lambda_l1': 66, 'lambda_l2': 28, 'bagging_fraction': 0.3926407322412115}. Best is trial 13 with value: 0.4287733809265032.\n",
      "[I 2024-07-23 23:12:00,668] Trial 24 finished with value: 0.42302025857821846 and parameters: {'num_leaves': 76, 'max_depth': 8, 'learning_rate': 0.2493295999508432, 'lambda_l1': 66, 'lambda_l2': 29, 'bagging_fraction': 0.367068987513853}. Best is trial 13 with value: 0.4287733809265032.\n",
      "[I 2024-07-23 23:12:00,870] Trial 25 finished with value: 0.41136012110241704 and parameters: {'num_leaves': 17, 'max_depth': 8, 'learning_rate': 0.21838833442575276, 'lambda_l1': 71, 'lambda_l2': 0, 'bagging_fraction': 0.5452731570606686}. Best is trial 13 with value: 0.4287733809265032.\n",
      "[I 2024-07-23 23:12:01,085] Trial 26 finished with value: 0.4209495316092464 and parameters: {'num_leaves': 72, 'max_depth': 10, 'learning_rate': 0.2033689496890804, 'lambda_l1': 61, 'lambda_l2': 29, 'bagging_fraction': 0.3572207985631252}. Best is trial 13 with value: 0.4287733809265032.\n",
      "[I 2024-07-23 23:12:01,394] Trial 27 finished with value: 0.40214010418643414 and parameters: {'num_leaves': 144, 'max_depth': 7, 'learning_rate': 0.2759369460475443, 'lambda_l1': 39, 'lambda_l2': 41, 'bagging_fraction': 0.9825181346725768}. Best is trial 13 with value: 0.4287733809265032.\n",
      "[I 2024-07-23 23:12:01,590] Trial 28 finished with value: 0.4044795420653017 and parameters: {'num_leaves': 212, 'max_depth': 5, 'learning_rate': 0.24714140873480595, 'lambda_l1': 50, 'lambda_l2': 22, 'bagging_fraction': 0.36200029284514623}. Best is trial 13 with value: 0.4287733809265032.\n",
      "[I 2024-07-23 23:12:01,924] Trial 29 finished with value: 0.40917668503921545 and parameters: {'num_leaves': 60, 'max_depth': 8, 'learning_rate': 0.11177674933975987, 'lambda_l1': 74, 'lambda_l2': 82, 'bagging_fraction': 0.6239059525648816}. Best is trial 13 with value: 0.4287733809265032.\n",
      "[I 2024-07-23 23:12:02,107] Trial 30 finished with value: 0.39080652306350966 and parameters: {'num_leaves': 19, 'max_depth': 3, 'learning_rate': 0.1660229784590746, 'lambda_l1': 62, 'lambda_l2': 33, 'bagging_fraction': 0.44799080746107367}. Best is trial 13 with value: 0.4287733809265032.\n",
      "[I 2024-07-23 23:12:02,314] Trial 31 finished with value: 0.4305573038475181 and parameters: {'num_leaves': 83, 'max_depth': 10, 'learning_rate': 0.20972892303431834, 'lambda_l1': 60, 'lambda_l2': 30, 'bagging_fraction': 0.34943561499250153}. Best is trial 31 with value: 0.4305573038475181.\n",
      "[I 2024-07-23 23:12:02,549] Trial 32 finished with value: 0.41017121447634725 and parameters: {'num_leaves': 113, 'max_depth': 9, 'learning_rate': 0.24165000510554996, 'lambda_l1': 55, 'lambda_l2': 45, 'bagging_fraction': 0.36303693272964577}. Best is trial 31 with value: 0.4305573038475181.\n",
      "[I 2024-07-23 23:12:02,730] Trial 33 finished with value: 0.4220861375789662 and parameters: {'num_leaves': 167, 'max_depth': 11, 'learning_rate': 0.21014778063210168, 'lambda_l1': 86, 'lambda_l2': 100, 'bagging_fraction': 0.3018068462559976}. Best is trial 31 with value: 0.4305573038475181.\n",
      "[I 2024-07-23 23:12:02,928] Trial 34 finished with value: 0.42218701967831557 and parameters: {'num_leaves': 83, 'max_depth': 11, 'learning_rate': 0.18380476436593787, 'lambda_l1': 88, 'lambda_l2': 99, 'bagging_fraction': 0.30750565503411453}. Best is trial 31 with value: 0.4305573038475181.\n",
      "[I 2024-07-23 23:12:03,147] Trial 35 finished with value: 0.41136012110241704 and parameters: {'num_leaves': 46, 'max_depth': 10, 'learning_rate': 0.18453695364115028, 'lambda_l1': 86, 'lambda_l2': 94, 'bagging_fraction': 0.4198335174823524}. Best is trial 31 with value: 0.4305573038475181.\n",
      "[I 2024-07-23 23:12:03,404] Trial 36 finished with value: 0.41404426747825007 and parameters: {'num_leaves': 85, 'max_depth': 11, 'learning_rate': 0.18508909062455875, 'lambda_l1': 93, 'lambda_l2': 83, 'bagging_fraction': 0.5027886289128924}. Best is trial 31 with value: 0.4305573038475181.\n",
      "[I 2024-07-23 23:12:03,639] Trial 37 finished with value: 0.423081672411152 and parameters: {'num_leaves': 119, 'max_depth': 12, 'learning_rate': 0.15135164251179625, 'lambda_l1': 63, 'lambda_l2': 61, 'bagging_fraction': 0.3441101207091842}. Best is trial 31 with value: 0.4305573038475181.\n",
      "[I 2024-07-23 23:12:03,891] Trial 38 finished with value: 0.41779930545940347 and parameters: {'num_leaves': 125, 'max_depth': 13, 'learning_rate': 0.1522536803972123, 'lambda_l1': 57, 'lambda_l2': 57, 'bagging_fraction': 0.34844896600281117}. Best is trial 31 with value: 0.4305573038475181.\n",
      "[I 2024-07-23 23:12:04,303] Trial 39 finished with value: 0.41289333045789595 and parameters: {'num_leaves': 204, 'max_depth': 12, 'learning_rate': 0.09017006347944005, 'lambda_l1': 45, 'lambda_l2': 63, 'bagging_fraction': 0.4108643428734826}. Best is trial 31 with value: 0.4305573038475181.\n",
      "[I 2024-07-23 23:12:04,845] Trial 40 finished with value: 0.37822602993927507 and parameters: {'num_leaves': 50, 'max_depth': 9, 'learning_rate': 0.12947082380662572, 'lambda_l1': 32, 'lambda_l2': 14, 'bagging_fraction': 0.8571332658492599}. Best is trial 31 with value: 0.4305573038475181.\n",
      "[I 2024-07-23 23:12:05,043] Trial 41 finished with value: 0.41718400621642227 and parameters: {'num_leaves': 85, 'max_depth': 12, 'learning_rate': 0.23352870738758327, 'lambda_l1': 64, 'lambda_l2': 88, 'bagging_fraction': 0.3021459048229659}. Best is trial 31 with value: 0.4305573038475181.\n",
      "[I 2024-07-23 23:12:05,260] Trial 42 finished with value: 0.42242753350000606 and parameters: {'num_leaves': 95, 'max_depth': 10, 'learning_rate': 0.1674405506057638, 'lambda_l1': 76, 'lambda_l2': 23, 'bagging_fraction': 0.34297382451439223}. Best is trial 31 with value: 0.4305573038475181.\n",
      "[I 2024-07-23 23:12:05,481] Trial 43 finished with value: 0.42564231980536194 and parameters: {'num_leaves': 174, 'max_depth': 10, 'learning_rate': 0.1521794851250602, 'lambda_l1': 74, 'lambda_l2': 23, 'bagging_fraction': 0.3405397541568189}. Best is trial 31 with value: 0.4305573038475181.\n",
      "[I 2024-07-23 23:12:05,740] Trial 44 finished with value: 0.42060712430120856 and parameters: {'num_leaves': 188, 'max_depth': 13, 'learning_rate': 0.13697108573191089, 'lambda_l1': 54, 'lambda_l2': 11, 'bagging_fraction': 0.38293531380532014}. Best is trial 31 with value: 0.4305573038475181.\n",
      "[I 2024-07-23 23:12:06,042] Trial 45 finished with value: 0.4222822754794741 and parameters: {'num_leaves': 126, 'max_depth': 14, 'learning_rate': 0.10712284450179209, 'lambda_l1': 59, 'lambda_l2': 16, 'bagging_fraction': 0.4394718812604897}. Best is trial 31 with value: 0.4305573038475181.\n",
      "[I 2024-07-23 23:12:06,258] Trial 46 finished with value: 0.4112760511394219 and parameters: {'num_leaves': 174, 'max_depth': 9, 'learning_rate': 0.28023920937737834, 'lambda_l1': 69, 'lambda_l2': 45, 'bagging_fraction': 0.5081503469342312}. Best is trial 31 with value: 0.4305573038475181.\n",
      "[I 2024-07-23 23:12:06,986] Trial 47 finished with value: 0.34668734106642096 and parameters: {'num_leaves': 37, 'max_depth': 9, 'learning_rate': 0.22092337614170682, 'lambda_l1': 6, 'lambda_l2': 24, 'bagging_fraction': 0.34172509421863084}. Best is trial 31 with value: 0.4305573038475181.\n",
      "[I 2024-07-23 23:12:07,197] Trial 48 finished with value: 0.4054819630039317 and parameters: {'num_leaves': 224, 'max_depth': 5, 'learning_rate': 0.15347698443316987, 'lambda_l1': 73, 'lambda_l2': 7, 'bagging_fraction': 0.4693066603800666}. Best is trial 31 with value: 0.4305573038475181.\n",
      "[I 2024-07-23 23:12:07,513] Trial 49 finished with value: 0.4225991801764064 and parameters: {'num_leaves': 281, 'max_depth': 8, 'learning_rate': 0.11955880903583599, 'lambda_l1': 82, 'lambda_l2': 19, 'bagging_fraction': 0.7040425744371834}. Best is trial 31 with value: 0.4305573038475181.\n",
      "[I 2024-07-23 23:12:07,807] Trial 50 finished with value: 0.42065293376578655 and parameters: {'num_leaves': 63, 'max_depth': 10, 'learning_rate': 0.09013170358041579, 'lambda_l1': 52, 'lambda_l2': 37, 'bagging_fraction': 0.3347786891754889}. Best is trial 31 with value: 0.4305573038475181.\n",
      "[I 2024-07-23 23:12:08,110] Trial 51 finished with value: 0.41565199401976066 and parameters: {'num_leaves': 309, 'max_depth': 8, 'learning_rate': 0.11811870554993643, 'lambda_l1': 82, 'lambda_l2': 18, 'bagging_fraction': 0.7084508203639922}. Best is trial 31 with value: 0.4305573038475181.\n",
      "[I 2024-07-23 23:12:08,410] Trial 52 finished with value: 0.4075277527212717 and parameters: {'num_leaves': 373, 'max_depth': 7, 'learning_rate': 0.1447407288730392, 'lambda_l1': 76, 'lambda_l2': 32, 'bagging_fraction': 0.7548950990092171}. Best is trial 31 with value: 0.4305573038475181.\n",
      "[I 2024-07-23 23:12:08,628] Trial 53 finished with value: 0.39518613492260857 and parameters: {'num_leaves': 283, 'max_depth': 6, 'learning_rate': 0.29922166000676664, 'lambda_l1': 68, 'lambda_l2': 20, 'bagging_fraction': 0.5937102370577556}. Best is trial 31 with value: 0.4305573038475181.\n",
      "[I 2024-07-23 23:12:08,996] Trial 54 finished with value: 0.4151227795610028 and parameters: {'num_leaves': 232, 'max_depth': 11, 'learning_rate': 0.12051630335709035, 'lambda_l1': 62, 'lambda_l2': 64, 'bagging_fraction': 0.6547732644979465}. Best is trial 31 with value: 0.4305573038475181.\n",
      "[I 2024-07-23 23:12:09,416] Trial 55 finished with value: 0.4167496487532029 and parameters: {'num_leaves': 289, 'max_depth': 12, 'learning_rate': 0.09336073889466578, 'lambda_l1': 81, 'lambda_l2': 53, 'bagging_fraction': 0.7585290406825353}. Best is trial 31 with value: 0.4305573038475181.\n",
      "[I 2024-07-23 23:12:09,865] Trial 56 finished with value: 0.4074405516484353 and parameters: {'num_leaves': 125, 'max_depth': 10, 'learning_rate': 0.07551202282744902, 'lambda_l1': 65, 'lambda_l2': 25, 'bagging_fraction': 0.6574074072511634}. Best is trial 31 with value: 0.4305573038475181.\n",
      "[I 2024-07-23 23:12:10,149] Trial 57 finished with value: 0.4213905589213175 and parameters: {'num_leaves': 343, 'max_depth': 14, 'learning_rate': 0.16913413956932177, 'lambda_l1': 83, 'lambda_l2': 70, 'bagging_fraction': 0.3850712186658412}. Best is trial 31 with value: 0.4305573038475181.\n",
      "[I 2024-07-23 23:12:10,789] Trial 58 finished with value: 0.381081932458269 and parameters: {'num_leaves': 163, 'max_depth': 8, 'learning_rate': 0.012307466710901216, 'lambda_l1': 94, 'lambda_l2': 60, 'bagging_fraction': 0.6906058184846391}. Best is trial 31 with value: 0.4305573038475181.\n",
      "[I 2024-07-23 23:12:11,083] Trial 59 finished with value: 0.42097243482521235 and parameters: {'num_leaves': 114, 'max_depth': 6, 'learning_rate': 0.13301800800233457, 'lambda_l1': 78, 'lambda_l2': 48, 'bagging_fraction': 0.42627351801262026}. Best is trial 31 with value: 0.4305573038475181.\n",
      "[I 2024-07-23 23:12:11,362] Trial 60 finished with value: 0.40186907624158974 and parameters: {'num_leaves': 191, 'max_depth': 13, 'learning_rate': 0.26861237521940023, 'lambda_l1': 74, 'lambda_l2': 40, 'bagging_fraction': 0.8331735837263978}. Best is trial 31 with value: 0.4305573038475181.\n",
      "[I 2024-07-23 23:12:11,577] Trial 61 finished with value: 0.4208382822863552 and parameters: {'num_leaves': 108, 'max_depth': 10, 'learning_rate': 0.17104528107394198, 'lambda_l1': 77, 'lambda_l2': 21, 'bagging_fraction': 0.33220701089067817}. Best is trial 31 with value: 0.4305573038475181.\n",
      "[I 2024-07-23 23:12:11,776] Trial 62 finished with value: 0.4077252372826158 and parameters: {'num_leaves': 101, 'max_depth': 9, 'learning_rate': 0.1933698379067238, 'lambda_l1': 72, 'lambda_l2': 8, 'bagging_fraction': 0.3724191143449137}. Best is trial 31 with value: 0.4305573038475181.\n",
      "[I 2024-07-23 23:12:12,018] Trial 63 finished with value: 0.42146349533389005 and parameters: {'num_leaves': 140, 'max_depth': 11, 'learning_rate': 0.1628060794094828, 'lambda_l1': 68, 'lambda_l2': 27, 'bagging_fraction': 0.3335496123789128}. Best is trial 31 with value: 0.4305573038475181.\n",
      "[I 2024-07-23 23:12:12,294] Trial 64 finished with value: 0.417296379040861 and parameters: {'num_leaves': 70, 'max_depth': 10, 'learning_rate': 0.14767339503295854, 'lambda_l1': 58, 'lambda_l2': 25, 'bagging_fraction': 0.40286328500364565}. Best is trial 31 with value: 0.4305573038475181.\n",
      "[I 2024-07-23 23:12:12,551] Trial 65 finished with value: 0.42134306846306147 and parameters: {'num_leaves': 239, 'max_depth': 8, 'learning_rate': 0.15866967984660232, 'lambda_l1': 75, 'lambda_l2': 35, 'bagging_fraction': 0.3503016962215118}. Best is trial 31 with value: 0.4305573038475181.\n",
      "[I 2024-07-23 23:12:12,749] Trial 66 finished with value: 0.42399496365938016 and parameters: {'num_leaves': 264, 'max_depth': 7, 'learning_rate': 0.17597996950486494, 'lambda_l1': 83, 'lambda_l2': 17, 'bagging_fraction': 0.32287761594250974}. Best is trial 31 with value: 0.4305573038475181.\n",
      "[I 2024-07-23 23:12:12,925] Trial 67 finished with value: 0.4033560080526927 and parameters: {'num_leaves': 274, 'max_depth': 4, 'learning_rate': 0.285170014314473, 'lambda_l1': 88, 'lambda_l2': 3, 'bagging_fraction': 0.461714185794016}. Best is trial 31 with value: 0.4305573038475181.\n",
      "[I 2024-07-23 23:12:13,132] Trial 68 finished with value: 0.4213905589213175 and parameters: {'num_leaves': 322, 'max_depth': 7, 'learning_rate': 0.17767901284104826, 'lambda_l1': 64, 'lambda_l2': 11, 'bagging_fraction': 0.3165443670651859}. Best is trial 31 with value: 0.4305573038475181.\n",
      "[I 2024-07-23 23:12:13,324] Trial 69 finished with value: 0.4067154602952088 and parameters: {'num_leaves': 257, 'max_depth': 7, 'learning_rate': 0.19461689960801917, 'lambda_l1': 95, 'lambda_l2': 15, 'bagging_fraction': 0.3013554960179942}. Best is trial 31 with value: 0.4305573038475181.\n",
      "[I 2024-07-23 23:12:13,534] Trial 70 finished with value: 0.41040487943439447 and parameters: {'num_leaves': 454, 'max_depth': 6, 'learning_rate': 0.23897175677584137, 'lambda_l1': 83, 'lambda_l2': 75, 'bagging_fraction': 0.3853416853003272}. Best is trial 31 with value: 0.4305573038475181.\n",
      "[I 2024-07-23 23:12:13,762] Trial 71 finished with value: 0.43147478447107035 and parameters: {'num_leaves': 161, 'max_depth': 9, 'learning_rate': 0.1733759813698643, 'lambda_l1': 71, 'lambda_l2': 31, 'bagging_fraction': 0.3282626091023489}. Best is trial 71 with value: 0.43147478447107035.\n",
      "[I 2024-07-23 23:12:13,964] Trial 72 finished with value: 0.4257236501845278 and parameters: {'num_leaves': 147, 'max_depth': 8, 'learning_rate': 0.21635729124335235, 'lambda_l1': 70, 'lambda_l2': 19, 'bagging_fraction': 0.32336996972103715}. Best is trial 71 with value: 0.43147478447107035.\n",
      "[I 2024-07-23 23:12:14,174] Trial 73 finished with value: 0.4203915699094603 and parameters: {'num_leaves': 155, 'max_depth': 9, 'learning_rate': 0.20921533367455322, 'lambda_l1': 71, 'lambda_l2': 30, 'bagging_fraction': 0.32241063813500215}. Best is trial 71 with value: 0.43147478447107035.\n",
      "[I 2024-07-23 23:12:14,377] Trial 74 finished with value: 0.41029890016359477 and parameters: {'num_leaves': 176, 'max_depth': 5, 'learning_rate': 0.22727652443569515, 'lambda_l1': 67, 'lambda_l2': 43, 'bagging_fraction': 0.37505447840859246}. Best is trial 71 with value: 0.43147478447107035.\n",
      "[I 2024-07-23 23:12:14,595] Trial 75 finished with value: 0.41459043037866555 and parameters: {'num_leaves': 128, 'max_depth': 8, 'learning_rate': 0.17558879553189555, 'lambda_l1': 62, 'lambda_l2': 28, 'bagging_fraction': 0.3549904926298049}. Best is trial 71 with value: 0.43147478447107035.\n",
      "[I 2024-07-23 23:12:14,805] Trial 76 finished with value: 0.40968968291314484 and parameters: {'num_leaves': 154, 'max_depth': 6, 'learning_rate': 0.19298820295488378, 'lambda_l1': 60, 'lambda_l2': 34, 'bagging_fraction': 0.40521795844993513}. Best is trial 71 with value: 0.43147478447107035.\n",
      "[I 2024-07-23 23:12:14,995] Trial 77 finished with value: 0.4203915699094603 and parameters: {'num_leaves': 135, 'max_depth': 9, 'learning_rate': 0.24933966656740833, 'lambda_l1': 70, 'lambda_l2': 18, 'bagging_fraction': 0.3254164420682571}. Best is trial 71 with value: 0.43147478447107035.\n",
      "[I 2024-07-23 23:12:15,305] Trial 78 finished with value: 0.4228755251151389 and parameters: {'num_leaves': 207, 'max_depth': 8, 'learning_rate': 0.2142522649514398, 'lambda_l1': 55, 'lambda_l2': 31, 'bagging_fraction': 0.35529365694325654}. Best is trial 71 with value: 0.43147478447107035.\n",
      "[I 2024-07-23 23:12:15,537] Trial 79 finished with value: 0.4145678083312192 and parameters: {'num_leaves': 77, 'max_depth': 7, 'learning_rate': 0.22847627326447428, 'lambda_l1': 48, 'lambda_l2': 22, 'bagging_fraction': 0.3706658681183855}. Best is trial 71 with value: 0.43147478447107035.\n",
      "[I 2024-07-23 23:12:15,757] Trial 80 finished with value: 0.41299273455087915 and parameters: {'num_leaves': 184, 'max_depth': 7, 'learning_rate': 0.20204014061355313, 'lambda_l1': 65, 'lambda_l2': 39, 'bagging_fraction': 0.4307771395809612}. Best is trial 71 with value: 0.43147478447107035.\n",
      "[I 2024-07-23 23:12:16,001] Trial 81 finished with value: 0.4265802536667113 and parameters: {'num_leaves': 197, 'max_depth': 8, 'learning_rate': 0.21159763718728242, 'lambda_l1': 54, 'lambda_l2': 36, 'bagging_fraction': 0.3518620838052674}. Best is trial 71 with value: 0.43147478447107035.\n",
      "[I 2024-07-23 23:12:16,217] Trial 82 finished with value: 0.420123287931522 and parameters: {'num_leaves': 158, 'max_depth': 9, 'learning_rate': 0.20645585496199914, 'lambda_l1': 79, 'lambda_l2': 36, 'bagging_fraction': 0.3172431697798283}. Best is trial 71 with value: 0.43147478447107035.\n",
      "[I 2024-07-23 23:12:16,450] Trial 83 finished with value: 0.4204539748433848 and parameters: {'num_leaves': 196, 'max_depth': 8, 'learning_rate': 0.2175367447060342, 'lambda_l1': 51, 'lambda_l2': 49, 'bagging_fraction': 0.34374516527860455}. Best is trial 71 with value: 0.43147478447107035.\n",
      "[I 2024-07-23 23:12:16,663] Trial 84 finished with value: 0.42609875551317916 and parameters: {'num_leaves': 92, 'max_depth': 7, 'learning_rate': 0.1884842592697038, 'lambda_l1': 57, 'lambda_l2': 27, 'bagging_fraction': 0.30228469932945173}. Best is trial 71 with value: 0.43147478447107035.\n",
      "[I 2024-07-23 23:12:16,891] Trial 85 finished with value: 0.41721655906208105 and parameters: {'num_leaves': 97, 'max_depth': 6, 'learning_rate': 0.18964397202266933, 'lambda_l1': 57, 'lambda_l2': 26, 'bagging_fraction': 0.32460835443140923}. Best is trial 71 with value: 0.43147478447107035.\n",
      "[I 2024-07-23 23:12:17,110] Trial 86 finished with value: 0.4209043875084775 and parameters: {'num_leaves': 118, 'max_depth': 7, 'learning_rate': 0.17784775105162903, 'lambda_l1': 53, 'lambda_l2': 16, 'bagging_fraction': 0.3002650108768794}. Best is trial 71 with value: 0.43147478447107035.\n",
      "[I 2024-07-23 23:12:17,429] Trial 87 finished with value: 0.39405828633374346 and parameters: {'num_leaves': 146, 'max_depth': 15, 'learning_rate': 0.154985096641242, 'lambda_l1': 40, 'lambda_l2': 44, 'bagging_fraction': 0.39514465300361046}. Best is trial 71 with value: 0.43147478447107035.\n",
      "[I 2024-07-23 23:12:17,648] Trial 88 finished with value: 0.41176075125930567 and parameters: {'num_leaves': 220, 'max_depth': 7, 'learning_rate': 0.1986559436459322, 'lambda_l1': 49, 'lambda_l2': 12, 'bagging_fraction': 0.33795029932678555}. Best is trial 71 with value: 0.43147478447107035.\n",
      "[I 2024-07-23 23:12:17,878] Trial 89 finished with value: 0.41993287348722025 and parameters: {'num_leaves': 168, 'max_depth': 5, 'learning_rate': 0.13927573715085975, 'lambda_l1': 61, 'lambda_l2': 54, 'bagging_fraction': 0.3649428992538484}. Best is trial 71 with value: 0.43147478447107035.\n",
      "[I 2024-07-23 23:12:18,227] Trial 90 finished with value: 0.4129086935315606 and parameters: {'num_leaves': 34, 'max_depth': 10, 'learning_rate': 0.1611610268224673, 'lambda_l1': 58, 'lambda_l2': 32, 'bagging_fraction': 0.9461156320806214}. Best is trial 71 with value: 0.43147478447107035.\n",
      "[I 2024-07-23 23:12:18,458] Trial 91 finished with value: 0.42544507426786027 and parameters: {'num_leaves': 134, 'max_depth': 8, 'learning_rate': 0.1876255320899999, 'lambda_l1': 63, 'lambda_l2': 28, 'bagging_fraction': 0.315639876072657}. Best is trial 71 with value: 0.43147478447107035.\n",
      "[I 2024-07-23 23:12:18,668] Trial 92 finished with value: 0.4269070192491149 and parameters: {'num_leaves': 133, 'max_depth': 8, 'learning_rate': 0.18288288060698424, 'lambda_l1': 73, 'lambda_l2': 23, 'bagging_fraction': 0.31244878387961966}. Best is trial 71 with value: 0.43147478447107035.\n",
      "[I 2024-07-23 23:12:18,989] Trial 93 finished with value: 0.4296143566624371 and parameters: {'num_leaves': 136, 'max_depth': 8, 'learning_rate': 0.18653771627059154, 'lambda_l1': 74, 'lambda_l2': 23, 'bagging_fraction': 0.3137728769449706}. Best is trial 71 with value: 0.43147478447107035.\n",
      "[I 2024-07-23 23:12:19,188] Trial 94 finished with value: 0.42075302874728354 and parameters: {'num_leaves': 146, 'max_depth': 8, 'learning_rate': 0.1845650132880341, 'lambda_l1': 70, 'lambda_l2': 28, 'bagging_fraction': 0.31326863129690835}. Best is trial 71 with value: 0.43147478447107035.\n",
      "[I 2024-07-23 23:12:19,407] Trial 95 finished with value: 0.4161226202357698 and parameters: {'num_leaves': 135, 'max_depth': 9, 'learning_rate': 0.18987324108468984, 'lambda_l1': 74, 'lambda_l2': 21, 'bagging_fraction': 0.31028058714091755}. Best is trial 71 with value: 0.43147478447107035.\n",
      "[I 2024-07-23 23:12:19,616] Trial 96 finished with value: 0.41563690466019265 and parameters: {'num_leaves': 179, 'max_depth': 9, 'learning_rate': 0.19784380781544778, 'lambda_l1': 72, 'lambda_l2': 24, 'bagging_fraction': 0.3559453309128999}. Best is trial 71 with value: 0.43147478447107035.\n",
      "[I 2024-07-23 23:12:19,819] Trial 97 finished with value: 0.4203111859133282 and parameters: {'num_leaves': 93, 'max_depth': 8, 'learning_rate': 0.21488581420439842, 'lambda_l1': 67, 'lambda_l2': 30, 'bagging_fraction': 0.334725086344105}. Best is trial 71 with value: 0.43147478447107035.\n",
      "[I 2024-07-23 23:12:20,050] Trial 98 finished with value: 0.403570619436304 and parameters: {'num_leaves': 110, 'max_depth': 9, 'learning_rate': 0.20826484353746888, 'lambda_l1': 55, 'lambda_l2': 27, 'bagging_fraction': 0.41415038355475675}. Best is trial 71 with value: 0.43147478447107035.\n",
      "[I 2024-07-23 23:12:20,279] Trial 99 finished with value: 0.4123483903956044 and parameters: {'num_leaves': 57, 'max_depth': 8, 'learning_rate': 0.18138376547095253, 'lambda_l1': 46, 'lambda_l2': 23, 'bagging_fraction': 0.30025164082792977}. Best is trial 71 with value: 0.43147478447107035.\n"
     ]
    }
   ],
   "source": [
    "study = optuna.create_study(direction=\"maximize\")\n",
    "study.optimize(multi_objective, n_trials=n_trials)"
   ]
  },
  {
   "cell_type": "markdown",
   "metadata": {},
   "source": [
    "### best"
   ]
  },
  {
   "cell_type": "code",
   "execution_count": 21,
   "metadata": {},
   "outputs": [
    {
     "data": {
      "application/vnd.plotly.v1+json": {
       "config": {
        "plotlyServerURL": "https://plot.ly"
       },
       "data": [
        {
         "mode": "markers",
         "name": "Objective Value",
         "type": "scatter",
         "x": [
          0,
          1,
          2,
          3,
          4,
          5,
          6,
          7,
          8,
          9,
          10,
          11,
          12,
          13,
          14,
          15,
          16,
          17,
          18,
          19,
          20,
          21,
          22,
          23,
          24,
          25,
          26,
          27,
          28,
          29,
          30,
          31,
          32,
          33,
          34,
          35,
          36,
          37,
          38,
          39,
          40,
          41,
          42,
          43,
          44,
          45,
          46,
          47,
          48,
          49,
          50,
          51,
          52,
          53,
          54,
          55,
          56,
          57,
          58,
          59,
          60,
          61,
          62,
          63,
          64,
          65,
          66,
          67,
          68,
          69,
          70,
          71,
          72,
          73,
          74,
          75,
          76,
          77,
          78,
          79,
          80,
          81,
          82,
          83,
          84,
          85,
          86,
          87,
          88,
          89,
          90,
          91,
          92,
          93,
          94,
          95,
          96,
          97,
          98,
          99
         ],
         "y": [
          0.35631245001182765,
          0.3754341123962292,
          0.41399814334641444,
          0.3802656427874409,
          0.4075277527212717,
          0.34136613811198596,
          0.39968024966913956,
          0.4016223364726509,
          0.36183048586838146,
          0.3942265649593513,
          0.41562607278908625,
          0.40395331297825054,
          0.4057947481251789,
          0.4287733809265032,
          0.4084205982868431,
          0.41562607278908625,
          0.40814055103654906,
          0.41404426747825007,
          0.402148228964841,
          0.4028370301374045,
          0.40510515560702715,
          0.41254152391068616,
          0.42151328994044696,
          0.4199137784090239,
          0.42302025857821846,
          0.41136012110241704,
          0.4209495316092464,
          0.40214010418643414,
          0.4044795420653017,
          0.40917668503921545,
          0.39080652306350966,
          0.4305573038475181,
          0.41017121447634725,
          0.4220861375789662,
          0.42218701967831557,
          0.41136012110241704,
          0.41404426747825007,
          0.423081672411152,
          0.41779930545940347,
          0.41289333045789595,
          0.37822602993927507,
          0.41718400621642227,
          0.42242753350000606,
          0.42564231980536194,
          0.42060712430120856,
          0.4222822754794741,
          0.4112760511394219,
          0.34668734106642096,
          0.4054819630039317,
          0.4225991801764064,
          0.42065293376578655,
          0.41565199401976066,
          0.4075277527212717,
          0.39518613492260857,
          0.4151227795610028,
          0.4167496487532029,
          0.4074405516484353,
          0.4213905589213175,
          0.381081932458269,
          0.42097243482521235,
          0.40186907624158974,
          0.4208382822863552,
          0.4077252372826158,
          0.42146349533389005,
          0.417296379040861,
          0.42134306846306147,
          0.42399496365938016,
          0.4033560080526927,
          0.4213905589213175,
          0.4067154602952088,
          0.41040487943439447,
          0.43147478447107035,
          0.4257236501845278,
          0.4203915699094603,
          0.41029890016359477,
          0.41459043037866555,
          0.40968968291314484,
          0.4203915699094603,
          0.4228755251151389,
          0.4145678083312192,
          0.41299273455087915,
          0.4265802536667113,
          0.420123287931522,
          0.4204539748433848,
          0.42609875551317916,
          0.41721655906208105,
          0.4209043875084775,
          0.39405828633374346,
          0.41176075125930567,
          0.41993287348722025,
          0.4129086935315606,
          0.42544507426786027,
          0.4269070192491149,
          0.4296143566624371,
          0.42075302874728354,
          0.4161226202357698,
          0.41563690466019265,
          0.4203111859133282,
          0.403570619436304,
          0.4123483903956044
         ]
        },
        {
         "mode": "lines",
         "name": "Best Value",
         "type": "scatter",
         "x": [
          0,
          1,
          2,
          3,
          4,
          5,
          6,
          7,
          8,
          9,
          10,
          11,
          12,
          13,
          14,
          15,
          16,
          17,
          18,
          19,
          20,
          21,
          22,
          23,
          24,
          25,
          26,
          27,
          28,
          29,
          30,
          31,
          32,
          33,
          34,
          35,
          36,
          37,
          38,
          39,
          40,
          41,
          42,
          43,
          44,
          45,
          46,
          47,
          48,
          49,
          50,
          51,
          52,
          53,
          54,
          55,
          56,
          57,
          58,
          59,
          60,
          61,
          62,
          63,
          64,
          65,
          66,
          67,
          68,
          69,
          70,
          71,
          72,
          73,
          74,
          75,
          76,
          77,
          78,
          79,
          80,
          81,
          82,
          83,
          84,
          85,
          86,
          87,
          88,
          89,
          90,
          91,
          92,
          93,
          94,
          95,
          96,
          97,
          98,
          99
         ],
         "y": [
          0.35631245001182765,
          0.3754341123962292,
          0.41399814334641444,
          0.41399814334641444,
          0.41399814334641444,
          0.41399814334641444,
          0.41399814334641444,
          0.41399814334641444,
          0.41399814334641444,
          0.41399814334641444,
          0.41562607278908625,
          0.41562607278908625,
          0.41562607278908625,
          0.4287733809265032,
          0.4287733809265032,
          0.4287733809265032,
          0.4287733809265032,
          0.4287733809265032,
          0.4287733809265032,
          0.4287733809265032,
          0.4287733809265032,
          0.4287733809265032,
          0.4287733809265032,
          0.4287733809265032,
          0.4287733809265032,
          0.4287733809265032,
          0.4287733809265032,
          0.4287733809265032,
          0.4287733809265032,
          0.4287733809265032,
          0.4287733809265032,
          0.4305573038475181,
          0.4305573038475181,
          0.4305573038475181,
          0.4305573038475181,
          0.4305573038475181,
          0.4305573038475181,
          0.4305573038475181,
          0.4305573038475181,
          0.4305573038475181,
          0.4305573038475181,
          0.4305573038475181,
          0.4305573038475181,
          0.4305573038475181,
          0.4305573038475181,
          0.4305573038475181,
          0.4305573038475181,
          0.4305573038475181,
          0.4305573038475181,
          0.4305573038475181,
          0.4305573038475181,
          0.4305573038475181,
          0.4305573038475181,
          0.4305573038475181,
          0.4305573038475181,
          0.4305573038475181,
          0.4305573038475181,
          0.4305573038475181,
          0.4305573038475181,
          0.4305573038475181,
          0.4305573038475181,
          0.4305573038475181,
          0.4305573038475181,
          0.4305573038475181,
          0.4305573038475181,
          0.4305573038475181,
          0.4305573038475181,
          0.4305573038475181,
          0.4305573038475181,
          0.4305573038475181,
          0.4305573038475181,
          0.43147478447107035,
          0.43147478447107035,
          0.43147478447107035,
          0.43147478447107035,
          0.43147478447107035,
          0.43147478447107035,
          0.43147478447107035,
          0.43147478447107035,
          0.43147478447107035,
          0.43147478447107035,
          0.43147478447107035,
          0.43147478447107035,
          0.43147478447107035,
          0.43147478447107035,
          0.43147478447107035,
          0.43147478447107035,
          0.43147478447107035,
          0.43147478447107035,
          0.43147478447107035,
          0.43147478447107035,
          0.43147478447107035,
          0.43147478447107035,
          0.43147478447107035,
          0.43147478447107035,
          0.43147478447107035,
          0.43147478447107035,
          0.43147478447107035,
          0.43147478447107035,
          0.43147478447107035
         ]
        },
        {
         "marker": {
          "color": "#cccccc"
         },
         "mode": "markers",
         "name": "Infeasible Trial",
         "showlegend": false,
         "type": "scatter",
         "x": [],
         "y": []
        }
       ],
       "layout": {
        "template": {
         "data": {
          "bar": [
           {
            "error_x": {
             "color": "#2a3f5f"
            },
            "error_y": {
             "color": "#2a3f5f"
            },
            "marker": {
             "line": {
              "color": "#E5ECF6",
              "width": 0.5
             },
             "pattern": {
              "fillmode": "overlay",
              "size": 10,
              "solidity": 0.2
             }
            },
            "type": "bar"
           }
          ],
          "barpolar": [
           {
            "marker": {
             "line": {
              "color": "#E5ECF6",
              "width": 0.5
             },
             "pattern": {
              "fillmode": "overlay",
              "size": 10,
              "solidity": 0.2
             }
            },
            "type": "barpolar"
           }
          ],
          "carpet": [
           {
            "aaxis": {
             "endlinecolor": "#2a3f5f",
             "gridcolor": "white",
             "linecolor": "white",
             "minorgridcolor": "white",
             "startlinecolor": "#2a3f5f"
            },
            "baxis": {
             "endlinecolor": "#2a3f5f",
             "gridcolor": "white",
             "linecolor": "white",
             "minorgridcolor": "white",
             "startlinecolor": "#2a3f5f"
            },
            "type": "carpet"
           }
          ],
          "choropleth": [
           {
            "colorbar": {
             "outlinewidth": 0,
             "ticks": ""
            },
            "type": "choropleth"
           }
          ],
          "contour": [
           {
            "colorbar": {
             "outlinewidth": 0,
             "ticks": ""
            },
            "colorscale": [
             [
              0,
              "#0d0887"
             ],
             [
              0.1111111111111111,
              "#46039f"
             ],
             [
              0.2222222222222222,
              "#7201a8"
             ],
             [
              0.3333333333333333,
              "#9c179e"
             ],
             [
              0.4444444444444444,
              "#bd3786"
             ],
             [
              0.5555555555555556,
              "#d8576b"
             ],
             [
              0.6666666666666666,
              "#ed7953"
             ],
             [
              0.7777777777777778,
              "#fb9f3a"
             ],
             [
              0.8888888888888888,
              "#fdca26"
             ],
             [
              1,
              "#f0f921"
             ]
            ],
            "type": "contour"
           }
          ],
          "contourcarpet": [
           {
            "colorbar": {
             "outlinewidth": 0,
             "ticks": ""
            },
            "type": "contourcarpet"
           }
          ],
          "heatmap": [
           {
            "colorbar": {
             "outlinewidth": 0,
             "ticks": ""
            },
            "colorscale": [
             [
              0,
              "#0d0887"
             ],
             [
              0.1111111111111111,
              "#46039f"
             ],
             [
              0.2222222222222222,
              "#7201a8"
             ],
             [
              0.3333333333333333,
              "#9c179e"
             ],
             [
              0.4444444444444444,
              "#bd3786"
             ],
             [
              0.5555555555555556,
              "#d8576b"
             ],
             [
              0.6666666666666666,
              "#ed7953"
             ],
             [
              0.7777777777777778,
              "#fb9f3a"
             ],
             [
              0.8888888888888888,
              "#fdca26"
             ],
             [
              1,
              "#f0f921"
             ]
            ],
            "type": "heatmap"
           }
          ],
          "heatmapgl": [
           {
            "colorbar": {
             "outlinewidth": 0,
             "ticks": ""
            },
            "colorscale": [
             [
              0,
              "#0d0887"
             ],
             [
              0.1111111111111111,
              "#46039f"
             ],
             [
              0.2222222222222222,
              "#7201a8"
             ],
             [
              0.3333333333333333,
              "#9c179e"
             ],
             [
              0.4444444444444444,
              "#bd3786"
             ],
             [
              0.5555555555555556,
              "#d8576b"
             ],
             [
              0.6666666666666666,
              "#ed7953"
             ],
             [
              0.7777777777777778,
              "#fb9f3a"
             ],
             [
              0.8888888888888888,
              "#fdca26"
             ],
             [
              1,
              "#f0f921"
             ]
            ],
            "type": "heatmapgl"
           }
          ],
          "histogram": [
           {
            "marker": {
             "pattern": {
              "fillmode": "overlay",
              "size": 10,
              "solidity": 0.2
             }
            },
            "type": "histogram"
           }
          ],
          "histogram2d": [
           {
            "colorbar": {
             "outlinewidth": 0,
             "ticks": ""
            },
            "colorscale": [
             [
              0,
              "#0d0887"
             ],
             [
              0.1111111111111111,
              "#46039f"
             ],
             [
              0.2222222222222222,
              "#7201a8"
             ],
             [
              0.3333333333333333,
              "#9c179e"
             ],
             [
              0.4444444444444444,
              "#bd3786"
             ],
             [
              0.5555555555555556,
              "#d8576b"
             ],
             [
              0.6666666666666666,
              "#ed7953"
             ],
             [
              0.7777777777777778,
              "#fb9f3a"
             ],
             [
              0.8888888888888888,
              "#fdca26"
             ],
             [
              1,
              "#f0f921"
             ]
            ],
            "type": "histogram2d"
           }
          ],
          "histogram2dcontour": [
           {
            "colorbar": {
             "outlinewidth": 0,
             "ticks": ""
            },
            "colorscale": [
             [
              0,
              "#0d0887"
             ],
             [
              0.1111111111111111,
              "#46039f"
             ],
             [
              0.2222222222222222,
              "#7201a8"
             ],
             [
              0.3333333333333333,
              "#9c179e"
             ],
             [
              0.4444444444444444,
              "#bd3786"
             ],
             [
              0.5555555555555556,
              "#d8576b"
             ],
             [
              0.6666666666666666,
              "#ed7953"
             ],
             [
              0.7777777777777778,
              "#fb9f3a"
             ],
             [
              0.8888888888888888,
              "#fdca26"
             ],
             [
              1,
              "#f0f921"
             ]
            ],
            "type": "histogram2dcontour"
           }
          ],
          "mesh3d": [
           {
            "colorbar": {
             "outlinewidth": 0,
             "ticks": ""
            },
            "type": "mesh3d"
           }
          ],
          "parcoords": [
           {
            "line": {
             "colorbar": {
              "outlinewidth": 0,
              "ticks": ""
             }
            },
            "type": "parcoords"
           }
          ],
          "pie": [
           {
            "automargin": true,
            "type": "pie"
           }
          ],
          "scatter": [
           {
            "fillpattern": {
             "fillmode": "overlay",
             "size": 10,
             "solidity": 0.2
            },
            "type": "scatter"
           }
          ],
          "scatter3d": [
           {
            "line": {
             "colorbar": {
              "outlinewidth": 0,
              "ticks": ""
             }
            },
            "marker": {
             "colorbar": {
              "outlinewidth": 0,
              "ticks": ""
             }
            },
            "type": "scatter3d"
           }
          ],
          "scattercarpet": [
           {
            "marker": {
             "colorbar": {
              "outlinewidth": 0,
              "ticks": ""
             }
            },
            "type": "scattercarpet"
           }
          ],
          "scattergeo": [
           {
            "marker": {
             "colorbar": {
              "outlinewidth": 0,
              "ticks": ""
             }
            },
            "type": "scattergeo"
           }
          ],
          "scattergl": [
           {
            "marker": {
             "colorbar": {
              "outlinewidth": 0,
              "ticks": ""
             }
            },
            "type": "scattergl"
           }
          ],
          "scattermapbox": [
           {
            "marker": {
             "colorbar": {
              "outlinewidth": 0,
              "ticks": ""
             }
            },
            "type": "scattermapbox"
           }
          ],
          "scatterpolar": [
           {
            "marker": {
             "colorbar": {
              "outlinewidth": 0,
              "ticks": ""
             }
            },
            "type": "scatterpolar"
           }
          ],
          "scatterpolargl": [
           {
            "marker": {
             "colorbar": {
              "outlinewidth": 0,
              "ticks": ""
             }
            },
            "type": "scatterpolargl"
           }
          ],
          "scatterternary": [
           {
            "marker": {
             "colorbar": {
              "outlinewidth": 0,
              "ticks": ""
             }
            },
            "type": "scatterternary"
           }
          ],
          "surface": [
           {
            "colorbar": {
             "outlinewidth": 0,
             "ticks": ""
            },
            "colorscale": [
             [
              0,
              "#0d0887"
             ],
             [
              0.1111111111111111,
              "#46039f"
             ],
             [
              0.2222222222222222,
              "#7201a8"
             ],
             [
              0.3333333333333333,
              "#9c179e"
             ],
             [
              0.4444444444444444,
              "#bd3786"
             ],
             [
              0.5555555555555556,
              "#d8576b"
             ],
             [
              0.6666666666666666,
              "#ed7953"
             ],
             [
              0.7777777777777778,
              "#fb9f3a"
             ],
             [
              0.8888888888888888,
              "#fdca26"
             ],
             [
              1,
              "#f0f921"
             ]
            ],
            "type": "surface"
           }
          ],
          "table": [
           {
            "cells": {
             "fill": {
              "color": "#EBF0F8"
             },
             "line": {
              "color": "white"
             }
            },
            "header": {
             "fill": {
              "color": "#C8D4E3"
             },
             "line": {
              "color": "white"
             }
            },
            "type": "table"
           }
          ]
         },
         "layout": {
          "annotationdefaults": {
           "arrowcolor": "#2a3f5f",
           "arrowhead": 0,
           "arrowwidth": 1
          },
          "autotypenumbers": "strict",
          "coloraxis": {
           "colorbar": {
            "outlinewidth": 0,
            "ticks": ""
           }
          },
          "colorscale": {
           "diverging": [
            [
             0,
             "#8e0152"
            ],
            [
             0.1,
             "#c51b7d"
            ],
            [
             0.2,
             "#de77ae"
            ],
            [
             0.3,
             "#f1b6da"
            ],
            [
             0.4,
             "#fde0ef"
            ],
            [
             0.5,
             "#f7f7f7"
            ],
            [
             0.6,
             "#e6f5d0"
            ],
            [
             0.7,
             "#b8e186"
            ],
            [
             0.8,
             "#7fbc41"
            ],
            [
             0.9,
             "#4d9221"
            ],
            [
             1,
             "#276419"
            ]
           ],
           "sequential": [
            [
             0,
             "#0d0887"
            ],
            [
             0.1111111111111111,
             "#46039f"
            ],
            [
             0.2222222222222222,
             "#7201a8"
            ],
            [
             0.3333333333333333,
             "#9c179e"
            ],
            [
             0.4444444444444444,
             "#bd3786"
            ],
            [
             0.5555555555555556,
             "#d8576b"
            ],
            [
             0.6666666666666666,
             "#ed7953"
            ],
            [
             0.7777777777777778,
             "#fb9f3a"
            ],
            [
             0.8888888888888888,
             "#fdca26"
            ],
            [
             1,
             "#f0f921"
            ]
           ],
           "sequentialminus": [
            [
             0,
             "#0d0887"
            ],
            [
             0.1111111111111111,
             "#46039f"
            ],
            [
             0.2222222222222222,
             "#7201a8"
            ],
            [
             0.3333333333333333,
             "#9c179e"
            ],
            [
             0.4444444444444444,
             "#bd3786"
            ],
            [
             0.5555555555555556,
             "#d8576b"
            ],
            [
             0.6666666666666666,
             "#ed7953"
            ],
            [
             0.7777777777777778,
             "#fb9f3a"
            ],
            [
             0.8888888888888888,
             "#fdca26"
            ],
            [
             1,
             "#f0f921"
            ]
           ]
          },
          "colorway": [
           "#636efa",
           "#EF553B",
           "#00cc96",
           "#ab63fa",
           "#FFA15A",
           "#19d3f3",
           "#FF6692",
           "#B6E880",
           "#FF97FF",
           "#FECB52"
          ],
          "font": {
           "color": "#2a3f5f"
          },
          "geo": {
           "bgcolor": "white",
           "lakecolor": "white",
           "landcolor": "#E5ECF6",
           "showlakes": true,
           "showland": true,
           "subunitcolor": "white"
          },
          "hoverlabel": {
           "align": "left"
          },
          "hovermode": "closest",
          "mapbox": {
           "style": "light"
          },
          "paper_bgcolor": "white",
          "plot_bgcolor": "#E5ECF6",
          "polar": {
           "angularaxis": {
            "gridcolor": "white",
            "linecolor": "white",
            "ticks": ""
           },
           "bgcolor": "#E5ECF6",
           "radialaxis": {
            "gridcolor": "white",
            "linecolor": "white",
            "ticks": ""
           }
          },
          "scene": {
           "xaxis": {
            "backgroundcolor": "#E5ECF6",
            "gridcolor": "white",
            "gridwidth": 2,
            "linecolor": "white",
            "showbackground": true,
            "ticks": "",
            "zerolinecolor": "white"
           },
           "yaxis": {
            "backgroundcolor": "#E5ECF6",
            "gridcolor": "white",
            "gridwidth": 2,
            "linecolor": "white",
            "showbackground": true,
            "ticks": "",
            "zerolinecolor": "white"
           },
           "zaxis": {
            "backgroundcolor": "#E5ECF6",
            "gridcolor": "white",
            "gridwidth": 2,
            "linecolor": "white",
            "showbackground": true,
            "ticks": "",
            "zerolinecolor": "white"
           }
          },
          "shapedefaults": {
           "line": {
            "color": "#2a3f5f"
           }
          },
          "ternary": {
           "aaxis": {
            "gridcolor": "white",
            "linecolor": "white",
            "ticks": ""
           },
           "baxis": {
            "gridcolor": "white",
            "linecolor": "white",
            "ticks": ""
           },
           "bgcolor": "#E5ECF6",
           "caxis": {
            "gridcolor": "white",
            "linecolor": "white",
            "ticks": ""
           }
          },
          "title": {
           "x": 0.05
          },
          "xaxis": {
           "automargin": true,
           "gridcolor": "white",
           "linecolor": "white",
           "ticks": "",
           "title": {
            "standoff": 15
           },
           "zerolinecolor": "white",
           "zerolinewidth": 2
          },
          "yaxis": {
           "automargin": true,
           "gridcolor": "white",
           "linecolor": "white",
           "ticks": "",
           "title": {
            "standoff": 15
           },
           "zerolinecolor": "white",
           "zerolinewidth": 2
          }
         }
        },
        "title": {
         "text": "Optimization History Plot"
        },
        "xaxis": {
         "title": {
          "text": "Trial"
         }
        },
        "yaxis": {
         "title": {
          "text": "Objective Value"
         }
        }
       }
      }
     },
     "metadata": {},
     "output_type": "display_data"
    }
   ],
   "source": [
    "optuna.visualization.plot_optimization_history(**{\"study\": study})"
   ]
  },
  {
   "cell_type": "markdown",
   "metadata": {},
   "source": [
    "## goal: 3 day 5% gain (mid anomaly %)"
   ]
  },
  {
   "cell_type": "code",
   "execution_count": 22,
   "metadata": {},
   "outputs": [
    {
     "name": "stdout",
     "output_type": "stream",
     "text": [
      "(8793, 101) (8793,) (2205, 101) (2205,)\n",
      "(array([0, 1, 2], dtype=int64), array([1675, 5106, 2012], dtype=int64))\n",
      "(array([0, 1, 2], dtype=int64), array([ 277, 1585,  343], dtype=int64))\n"
     ]
    }
   ],
   "source": [
    "X_train, y_train, X_val, y_val = data_prep_for_tuning_multi(ticker_list, normalize=False, obj=[3, 0.05])"
   ]
  },
  {
   "cell_type": "code",
   "execution_count": 23,
   "metadata": {},
   "outputs": [
    {
     "name": "stderr",
     "output_type": "stream",
     "text": [
      "[I 2024-07-23 23:12:21,511] A new study created in memory with name: no-name-6e477ea9-daff-46ca-9b30-6adc06df5056\n",
      "[I 2024-07-23 23:12:21,677] Trial 0 finished with value: 0.28662165374113546 and parameters: {'num_leaves': 225, 'max_depth': 6, 'learning_rate': 0.23178236612988726, 'lambda_l1': 71, 'lambda_l2': 21, 'bagging_fraction': 0.6509519218671602}. Best is trial 0 with value: 0.28662165374113546.\n",
      "[I 2024-07-23 23:12:21,817] Trial 1 finished with value: 0.29665130659487104 and parameters: {'num_leaves': 114, 'max_depth': 3, 'learning_rate': 0.22630950648639028, 'lambda_l1': 59, 'lambda_l2': 62, 'bagging_fraction': 0.35120514889871585}. Best is trial 1 with value: 0.29665130659487104.\n",
      "[I 2024-07-23 23:12:22,441] Trial 2 finished with value: 0.24621321982582278 and parameters: {'num_leaves': 105, 'max_depth': 14, 'learning_rate': 0.21397627333279365, 'lambda_l1': 23, 'lambda_l2': 97, 'bagging_fraction': 0.9807077709850351}. Best is trial 1 with value: 0.29665130659487104.\n",
      "[I 2024-07-23 23:12:23,651] Trial 3 finished with value: 0.23822577178267412 and parameters: {'num_leaves': 57, 'max_depth': 15, 'learning_rate': 0.18960205407079123, 'lambda_l1': 4, 'lambda_l2': 57, 'bagging_fraction': 0.4602191793299588}. Best is trial 1 with value: 0.29665130659487104.\n",
      "[I 2024-07-23 23:12:23,905] Trial 4 finished with value: 0.31394239302410204 and parameters: {'num_leaves': 428, 'max_depth': 4, 'learning_rate': 0.09032629759191475, 'lambda_l1': 74, 'lambda_l2': 32, 'bagging_fraction': 0.7392141860675638}. Best is trial 4 with value: 0.31394239302410204.\n",
      "[I 2024-07-23 23:12:24,425] Trial 5 finished with value: 0.26168120324214333 and parameters: {'num_leaves': 343, 'max_depth': 12, 'learning_rate': 0.23944083304013788, 'lambda_l1': 21, 'lambda_l2': 50, 'bagging_fraction': 0.6296204976292922}. Best is trial 4 with value: 0.31394239302410204.\n",
      "[I 2024-07-23 23:12:26,384] Trial 6 finished with value: 0.26237176252078037 and parameters: {'num_leaves': 155, 'max_depth': 10, 'learning_rate': 0.2083423267643439, 'lambda_l1': 2, 'lambda_l2': 40, 'bagging_fraction': 0.6629497072688078}. Best is trial 4 with value: 0.31394239302410204.\n",
      "[I 2024-07-23 23:12:26,553] Trial 7 finished with value: 0.29862568172638787 and parameters: {'num_leaves': 283, 'max_depth': 4, 'learning_rate': 0.2649370189924591, 'lambda_l1': 62, 'lambda_l2': 35, 'bagging_fraction': 0.5421849894909092}. Best is trial 4 with value: 0.31394239302410204.\n",
      "[I 2024-07-23 23:12:26,829] Trial 8 finished with value: 0.28117685345334975 and parameters: {'num_leaves': 292, 'max_depth': 8, 'learning_rate': 0.1511941708857392, 'lambda_l1': 54, 'lambda_l2': 86, 'bagging_fraction': 0.43738943802178004}. Best is trial 4 with value: 0.31394239302410204.\n",
      "[I 2024-07-23 23:12:27,210] Trial 9 finished with value: 0.2956242882782496 and parameters: {'num_leaves': 446, 'max_depth': 12, 'learning_rate': 0.04247382515497088, 'lambda_l1': 88, 'lambda_l2': 4, 'bagging_fraction': 0.5306285451731139}. Best is trial 4 with value: 0.31394239302410204.\n",
      "[I 2024-07-23 23:12:27,532] Trial 10 finished with value: 0.31014321624647434 and parameters: {'num_leaves': 492, 'max_depth': 6, 'learning_rate': 0.07753433716447854, 'lambda_l1': 100, 'lambda_l2': 4, 'bagging_fraction': 0.8574633301780685}. Best is trial 4 with value: 0.31394239302410204.\n",
      "[I 2024-07-23 23:12:27,855] Trial 11 finished with value: 0.30388541439068956 and parameters: {'num_leaves': 505, 'max_depth': 6, 'learning_rate': 0.07936550220099801, 'lambda_l1': 99, 'lambda_l2': 5, 'bagging_fraction': 0.8410580775415207}. Best is trial 4 with value: 0.31394239302410204.\n",
      "[I 2024-07-23 23:12:28,161] Trial 12 finished with value: 0.2782677928355085 and parameters: {'num_leaves': 408, 'max_depth': 6, 'learning_rate': 0.11354869241624724, 'lambda_l1': 80, 'lambda_l2': 22, 'bagging_fraction': 0.8223924981827738}. Best is trial 4 with value: 0.31394239302410204.\n",
      "[I 2024-07-23 23:12:28,574] Trial 13 finished with value: 0.008717599237889343 and parameters: {'num_leaves': 479, 'max_depth': 4, 'learning_rate': 0.015047999244117344, 'lambda_l1': 97, 'lambda_l2': 18, 'bagging_fraction': 0.811779326736421}. Best is trial 4 with value: 0.31394239302410204.\n",
      "[I 2024-07-23 23:12:28,987] Trial 14 finished with value: 0.29849823818882965 and parameters: {'num_leaves': 391, 'max_depth': 8, 'learning_rate': 0.10232198584730698, 'lambda_l1': 78, 'lambda_l2': 73, 'bagging_fraction': 0.9636770145323388}. Best is trial 4 with value: 0.31394239302410204.\n",
      "[I 2024-07-23 23:12:29,487] Trial 15 finished with value: 0.2259326457856761 and parameters: {'num_leaves': 359, 'max_depth': 5, 'learning_rate': 0.05922389480242378, 'lambda_l1': 36, 'lambda_l2': 34, 'bagging_fraction': 0.7476003097279132}. Best is trial 4 with value: 0.31394239302410204.\n",
      "[I 2024-07-23 23:12:29,790] Trial 16 finished with value: 0.2952375208992616 and parameters: {'num_leaves': 511, 'max_depth': 8, 'learning_rate': 0.13252436491236674, 'lambda_l1': 87, 'lambda_l2': 1, 'bagging_fraction': 0.9043940061063557}. Best is trial 4 with value: 0.31394239302410204.\n",
      "[I 2024-07-23 23:12:30,053] Trial 17 finished with value: 0.24047734652518715 and parameters: {'num_leaves': 427, 'max_depth': 3, 'learning_rate': 0.07889630708553273, 'lambda_l1': 43, 'lambda_l2': 17, 'bagging_fraction': 0.7258373012186866}. Best is trial 4 with value: 0.31394239302410204.\n",
      "[I 2024-07-23 23:12:30,342] Trial 18 finished with value: 0.2732861940092472 and parameters: {'num_leaves': 354, 'max_depth': 10, 'learning_rate': 0.2995377514875043, 'lambda_l1': 69, 'lambda_l2': 29, 'bagging_fraction': 0.8995703183291831}. Best is trial 4 with value: 0.31394239302410204.\n",
      "[I 2024-07-23 23:12:30,802] Trial 19 finished with value: 0.19809095297634263 and parameters: {'num_leaves': 220, 'max_depth': 7, 'learning_rate': 0.01810906645826388, 'lambda_l1': 87, 'lambda_l2': 43, 'bagging_fraction': 0.7304092717751735}. Best is trial 4 with value: 0.31394239302410204.\n",
      "[I 2024-07-23 23:12:31,062] Trial 20 finished with value: 0.30400390232908464 and parameters: {'num_leaves': 455, 'max_depth': 5, 'learning_rate': 0.1771862639826281, 'lambda_l1': 97, 'lambda_l2': 12, 'bagging_fraction': 0.9019429430105865}. Best is trial 4 with value: 0.31394239302410204.\n",
      "[I 2024-07-23 23:12:31,310] Trial 21 finished with value: 0.2958623590576054 and parameters: {'num_leaves': 456, 'max_depth': 5, 'learning_rate': 0.1750263089297631, 'lambda_l1': 98, 'lambda_l2': 14, 'bagging_fraction': 0.9027050143331253}. Best is trial 4 with value: 0.31394239302410204.\n",
      "[I 2024-07-23 23:12:31,560] Trial 22 finished with value: 0.3061218156393258 and parameters: {'num_leaves': 466, 'max_depth': 4, 'learning_rate': 0.14592915629710174, 'lambda_l1': 79, 'lambda_l2': 29, 'bagging_fraction': 0.790350151857995}. Best is trial 4 with value: 0.31394239302410204.\n",
      "[I 2024-07-23 23:12:31,817] Trial 23 finished with value: 0.3080974825465768 and parameters: {'num_leaves': 391, 'max_depth': 3, 'learning_rate': 0.1095987564681058, 'lambda_l1': 76, 'lambda_l2': 29, 'bagging_fraction': 0.775899178284112}. Best is trial 4 with value: 0.31394239302410204.\n",
      "[I 2024-07-23 23:12:32,076] Trial 24 finished with value: 0.2961865160177414 and parameters: {'num_leaves': 321, 'max_depth': 3, 'learning_rate': 0.0936414292879776, 'lambda_l1': 66, 'lambda_l2': 49, 'bagging_fraction': 0.701810236190044}. Best is trial 4 with value: 0.31394239302410204.\n",
      "[I 2024-07-23 23:12:32,305] Trial 25 finished with value: 0.2639160829881128 and parameters: {'num_leaves': 397, 'max_depth': 3, 'learning_rate': 0.12363418332017641, 'lambda_l1': 49, 'lambda_l2': 27, 'bagging_fraction': 0.5994335673036781}. Best is trial 4 with value: 0.31394239302410204.\n",
      "[I 2024-07-23 23:12:32,759] Trial 26 finished with value: 0.28730626776630475 and parameters: {'num_leaves': 382, 'max_depth': 7, 'learning_rate': 0.0501942043024936, 'lambda_l1': 75, 'lambda_l2': 11, 'bagging_fraction': 0.7678098252438004}. Best is trial 4 with value: 0.31394239302410204.\n",
      "[I 2024-07-23 23:12:33,103] Trial 27 finished with value: 0.29993307918477835 and parameters: {'num_leaves': 490, 'max_depth': 5, 'learning_rate': 0.07181215643561255, 'lambda_l1': 89, 'lambda_l2': 68, 'bagging_fraction': 0.8695158196088436}. Best is trial 4 with value: 0.31394239302410204.\n",
      "[I 2024-07-23 23:12:33,592] Trial 28 finished with value: 0.2906058632218812 and parameters: {'num_leaves': 428, 'max_depth': 9, 'learning_rate': 0.03485885742416668, 'lambda_l1': 84, 'lambda_l2': 46, 'bagging_fraction': 0.6947080744727757}. Best is trial 4 with value: 0.31394239302410204.\n",
      "[I 2024-07-23 23:12:34,058] Trial 29 finished with value: 0.2724820032434134 and parameters: {'num_leaves': 207, 'max_depth': 6, 'learning_rate': 0.09740597071244471, 'lambda_l1': 68, 'lambda_l2': 23, 'bagging_fraction': 0.9428877606494486}. Best is trial 4 with value: 0.31394239302410204.\n",
      "[I 2024-07-23 23:12:34,330] Trial 30 finished with value: 0.30501018651486556 and parameters: {'num_leaves': 319, 'max_depth': 4, 'learning_rate': 0.13402419330681853, 'lambda_l1': 92, 'lambda_l2': 37, 'bagging_fraction': 0.8487733371350231}. Best is trial 4 with value: 0.31394239302410204.\n",
      "[I 2024-07-23 23:12:34,622] Trial 31 finished with value: 0.2944754454759304 and parameters: {'num_leaves': 470, 'max_depth': 4, 'learning_rate': 0.11572577804265487, 'lambda_l1': 74, 'lambda_l2': 57, 'bagging_fraction': 0.7922421988148027}. Best is trial 4 with value: 0.31394239302410204.\n",
      "[I 2024-07-23 23:12:34,872] Trial 32 finished with value: 0.26202209428275425 and parameters: {'num_leaves': 427, 'max_depth': 3, 'learning_rate': 0.15148246213459776, 'lambda_l1': 59, 'lambda_l2': 29, 'bagging_fraction': 0.7711876187054024}. Best is trial 4 with value: 0.31394239302410204.\n",
      "[I 2024-07-23 23:12:35,163] Trial 33 finished with value: 0.29313317083363294 and parameters: {'num_leaves': 461, 'max_depth': 4, 'learning_rate': 0.06732275504362012, 'lambda_l1': 80, 'lambda_l2': 9, 'bagging_fraction': 0.6695335447754824}. Best is trial 4 with value: 0.31394239302410204.\n",
      "[I 2024-07-23 23:12:35,554] Trial 34 finished with value: 0.2674165374864004 and parameters: {'num_leaves': 512, 'max_depth': 6, 'learning_rate': 0.14116862057059926, 'lambda_l1': 63, 'lambda_l2': 25, 'bagging_fraction': 0.8009419564050623}. Best is trial 4 with value: 0.31394239302410204.\n",
      "[I 2024-07-23 23:12:35,831] Trial 35 finished with value: 0.2954068866948802 and parameters: {'num_leaves': 422, 'max_depth': 3, 'learning_rate': 0.16649495344132223, 'lambda_l1': 72, 'lambda_l2': 33, 'bagging_fraction': 0.8608866005136276}. Best is trial 4 with value: 0.31394239302410204.\n",
      "[I 2024-07-23 23:12:36,106] Trial 36 finished with value: 0.2827963837809224 and parameters: {'num_leaves': 372, 'max_depth': 7, 'learning_rate': 0.0907616681797816, 'lambda_l1': 55, 'lambda_l2': 41, 'bagging_fraction': 0.3161353666117991}. Best is trial 4 with value: 0.31394239302410204.\n",
      "[I 2024-07-23 23:12:36,381] Trial 37 finished with value: 0.3042375632199077 and parameters: {'num_leaves': 250, 'max_depth': 16, 'learning_rate': 0.19165585476396543, 'lambda_l1': 80, 'lambda_l2': 56, 'bagging_fraction': 0.6284328667848783}. Best is trial 4 with value: 0.31394239302410204.\n",
      "[I 2024-07-23 23:12:36,716] Trial 38 finished with value: 0.22577496103122882 and parameters: {'num_leaves': 482, 'max_depth': 5, 'learning_rate': 0.1120318594697224, 'lambda_l1': 33, 'lambda_l2': 99, 'bagging_fraction': 0.5744897980123526}. Best is trial 4 with value: 0.31394239302410204.\n",
      "[I 2024-07-23 23:12:37,273] Trial 39 finished with value: 0.3003561773651629 and parameters: {'num_leaves': 94, 'max_depth': 12, 'learning_rate': 0.03141675516460364, 'lambda_l1': 93, 'lambda_l2': 19, 'bagging_fraction': 0.6918067717624397}. Best is trial 4 with value: 0.31394239302410204.\n",
      "[I 2024-07-23 23:12:37,579] Trial 40 finished with value: 0.3039447652248145 and parameters: {'num_leaves': 37, 'max_depth': 4, 'learning_rate': 0.08370246723596032, 'lambda_l1': 83, 'lambda_l2': 90, 'bagging_fraction': 0.7689171138244096}. Best is trial 4 with value: 0.31394239302410204.\n",
      "[I 2024-07-23 23:12:37,847] Trial 41 finished with value: 0.3070817320154012 and parameters: {'num_leaves': 338, 'max_depth': 4, 'learning_rate': 0.13341070353747392, 'lambda_l1': 92, 'lambda_l2': 37, 'bagging_fraction': 0.8419990852179793}. Best is trial 4 with value: 0.31394239302410204.\n",
      "[I 2024-07-23 23:12:38,080] Trial 42 finished with value: 0.3070619214971241 and parameters: {'num_leaves': 323, 'max_depth': 4, 'learning_rate': 0.15612945345896545, 'lambda_l1': 93, 'lambda_l2': 31, 'bagging_fraction': 0.8072236545234927}. Best is trial 4 with value: 0.31394239302410204.\n",
      "[I 2024-07-23 23:12:38,299] Trial 43 finished with value: 0.32348806008386516 and parameters: {'num_leaves': 325, 'max_depth': 3, 'learning_rate': 0.1651462186210857, 'lambda_l1': 93, 'lambda_l2': 39, 'bagging_fraction': 0.8372977032840675}. Best is trial 43 with value: 0.32348806008386516.\n",
      "[I 2024-07-23 23:12:38,546] Trial 44 finished with value: 0.32651236251842447 and parameters: {'num_leaves': 288, 'max_depth': 3, 'learning_rate': 0.12347439473655666, 'lambda_l1': 100, 'lambda_l2': 52, 'bagging_fraction': 0.9485114171673397}. Best is trial 44 with value: 0.32651236251842447.\n",
      "[I 2024-07-23 23:12:38,810] Trial 45 finished with value: 0.3121941559342611 and parameters: {'num_leaves': 286, 'max_depth': 3, 'learning_rate': 0.1067077789156639, 'lambda_l1': 97, 'lambda_l2': 52, 'bagging_fraction': 0.9906000517074852}. Best is trial 44 with value: 0.32651236251842447.\n",
      "[I 2024-07-23 23:12:39,050] Trial 46 finished with value: 0.3122989305157762 and parameters: {'num_leaves': 177, 'max_depth': 3, 'learning_rate': 0.199874320897851, 'lambda_l1': 100, 'lambda_l2': 53, 'bagging_fraction': 0.9988587240117618}. Best is trial 44 with value: 0.32651236251842447.\n",
      "[I 2024-07-23 23:12:39,288] Trial 47 finished with value: 0.3286940607455292 and parameters: {'num_leaves': 141, 'max_depth': 3, 'learning_rate': 0.22021912111696215, 'lambda_l1': 97, 'lambda_l2': 54, 'bagging_fraction': 0.9623740654733599}. Best is trial 47 with value: 0.3286940607455292.\n",
      "[I 2024-07-23 23:12:39,532] Trial 48 finished with value: 0.3213477300752046 and parameters: {'num_leaves': 162, 'max_depth': 3, 'learning_rate': 0.23427105955722347, 'lambda_l1': 94, 'lambda_l2': 61, 'bagging_fraction': 0.945479210747868}. Best is trial 47 with value: 0.3286940607455292.\n",
      "[I 2024-07-23 23:12:40,470] Trial 49 finished with value: 0.21029604426201046 and parameters: {'num_leaves': 138, 'max_depth': 13, 'learning_rate': 0.22932686070499517, 'lambda_l1': 17, 'lambda_l2': 64, 'bagging_fraction': 0.9494514483304186}. Best is trial 47 with value: 0.3286940607455292.\n",
      "[I 2024-07-23 23:12:40,758] Trial 50 finished with value: 0.296344239005399 and parameters: {'num_leaves': 91, 'max_depth': 11, 'learning_rate': 0.27210718612162504, 'lambda_l1': 84, 'lambda_l2': 76, 'bagging_fraction': 0.9314849919863352}. Best is trial 47 with value: 0.3286940607455292.\n",
      "[I 2024-07-23 23:12:41,019] Trial 51 finished with value: 0.32500376562830974 and parameters: {'num_leaves': 182, 'max_depth': 3, 'learning_rate': 0.20569854692681103, 'lambda_l1': 100, 'lambda_l2': 61, 'bagging_fraction': 0.9935432235854327}. Best is trial 47 with value: 0.3286940607455292.\n",
      "[I 2024-07-23 23:12:41,239] Trial 52 finished with value: 0.2998202229843827 and parameters: {'num_leaves': 189, 'max_depth': 3, 'learning_rate': 0.2482272541757512, 'lambda_l1': 94, 'lambda_l2': 60, 'bagging_fraction': 0.9747575690192207}. Best is trial 47 with value: 0.3286940607455292.\n",
      "[I 2024-07-23 23:12:41,494] Trial 53 finished with value: 0.29316169367350436 and parameters: {'num_leaves': 256, 'max_depth': 5, 'learning_rate': 0.21398474571054005, 'lambda_l1': 89, 'lambda_l2': 65, 'bagging_fraction': 0.9252894859130294}. Best is trial 47 with value: 0.3286940607455292.\n",
      "[I 2024-07-23 23:12:41,733] Trial 54 finished with value: 0.2971416316041022 and parameters: {'num_leaves': 151, 'max_depth': 4, 'learning_rate': 0.21498277268183905, 'lambda_l1': 95, 'lambda_l2': 47, 'bagging_fraction': 0.8817089337648626}. Best is trial 47 with value: 0.3286940607455292.\n",
      "[I 2024-07-23 23:12:41,983] Trial 55 finished with value: 0.3306104647574923 and parameters: {'num_leaves': 236, 'max_depth': 3, 'learning_rate': 0.2466513686681584, 'lambda_l1': 100, 'lambda_l2': 75, 'bagging_fraction': 0.954863973966024}. Best is trial 55 with value: 0.3306104647574923.\n",
      "[I 2024-07-23 23:12:42,299] Trial 56 finished with value: 0.3215183911666006 and parameters: {'num_leaves': 241, 'max_depth': 3, 'learning_rate': 0.2476711679475304, 'lambda_l1': 100, 'lambda_l2': 79, 'bagging_fraction': 0.9655511241981544}. Best is trial 55 with value: 0.3306104647574923.\n",
      "[I 2024-07-23 23:12:42,676] Trial 57 finished with value: 0.317379778927134 and parameters: {'num_leaves': 235, 'max_depth': 5, 'learning_rate': 0.24854105162891357, 'lambda_l1': 100, 'lambda_l2': 79, 'bagging_fraction': 0.9649805526448451}. Best is trial 55 with value: 0.3306104647574923.\n",
      "[I 2024-07-23 23:12:42,927] Trial 58 finished with value: 0.3151775750715979 and parameters: {'num_leaves': 274, 'max_depth': 3, 'learning_rate': 0.2675852298688355, 'lambda_l1': 89, 'lambda_l2': 82, 'bagging_fraction': 0.9184376176451787}. Best is trial 55 with value: 0.3306104647574923.\n",
      "[I 2024-07-23 23:12:43,201] Trial 59 finished with value: 0.3267525531679841 and parameters: {'num_leaves': 122, 'max_depth': 4, 'learning_rate': 0.28583086760482274, 'lambda_l1': 100, 'lambda_l2': 69, 'bagging_fraction': 0.9999876536191159}. Best is trial 55 with value: 0.3306104647574923.\n",
      "[I 2024-07-23 23:12:43,534] Trial 60 finished with value: 0.3081171255658583 and parameters: {'num_leaves': 118, 'max_depth': 5, 'learning_rate': 0.2858091603710279, 'lambda_l1': 85, 'lambda_l2': 71, 'bagging_fraction': 0.9953332058073874}. Best is trial 55 with value: 0.3306104647574923.\n",
      "[I 2024-07-23 23:12:43,848] Trial 61 finished with value: 0.3183164092197166 and parameters: {'num_leaves': 211, 'max_depth': 4, 'learning_rate': 0.25179166900787225, 'lambda_l1': 100, 'lambda_l2': 89, 'bagging_fraction': 0.9682866528461873}. Best is trial 55 with value: 0.3306104647574923.\n",
      "[I 2024-07-23 23:12:44,046] Trial 62 finished with value: 0.33004757306796284 and parameters: {'num_leaves': 303, 'max_depth': 3, 'learning_rate': 0.22180722872417696, 'lambda_l1': 96, 'lambda_l2': 69, 'bagging_fraction': 0.4479545894580229}. Best is trial 55 with value: 0.3306104647574923.\n",
      "[I 2024-07-23 23:12:44,225] Trial 63 finished with value: 0.34012848000303947 and parameters: {'num_leaves': 304, 'max_depth': 4, 'learning_rate': 0.20618949043971427, 'lambda_l1': 96, 'lambda_l2': 70, 'bagging_fraction': 0.4024741614551721}. Best is trial 63 with value: 0.34012848000303947.\n",
      "[I 2024-07-23 23:12:44,446] Trial 64 finished with value: 0.3373108687893189 and parameters: {'num_leaves': 268, 'max_depth': 4, 'learning_rate': 0.22300986054644395, 'lambda_l1': 96, 'lambda_l2': 70, 'bagging_fraction': 0.4367055724393175}. Best is trial 63 with value: 0.34012848000303947.\n",
      "[I 2024-07-23 23:12:44,633] Trial 65 finished with value: 0.33624653150012024 and parameters: {'num_leaves': 301, 'max_depth': 5, 'learning_rate': 0.22396140923428717, 'lambda_l1': 96, 'lambda_l2': 69, 'bagging_fraction': 0.40488574131036}. Best is trial 63 with value: 0.34012848000303947.\n",
      "[I 2024-07-23 23:12:44,844] Trial 66 finished with value: 0.33055848561178325 and parameters: {'num_leaves': 307, 'max_depth': 5, 'learning_rate': 0.22193432118516754, 'lambda_l1': 96, 'lambda_l2': 71, 'bagging_fraction': 0.4193894167305326}. Best is trial 63 with value: 0.34012848000303947.\n",
      "[I 2024-07-23 23:12:45,081] Trial 67 finished with value: 0.3080974825465768 and parameters: {'num_leaves': 299, 'max_depth': 6, 'learning_rate': 0.22231960961348984, 'lambda_l1': 90, 'lambda_l2': 72, 'bagging_fraction': 0.4190399913299305}. Best is trial 63 with value: 0.34012848000303947.\n",
      "[I 2024-07-23 23:12:45,300] Trial 68 finished with value: 0.33083394992691173 and parameters: {'num_leaves': 309, 'max_depth': 7, 'learning_rate': 0.22195515095188947, 'lambda_l1': 96, 'lambda_l2': 76, 'bagging_fraction': 0.399179947116355}. Best is trial 63 with value: 0.34012848000303947.\n",
      "[I 2024-07-23 23:12:45,517] Trial 69 finished with value: 0.3373080323848069 and parameters: {'num_leaves': 308, 'max_depth': 7, 'learning_rate': 0.23749893705586533, 'lambda_l1': 86, 'lambda_l2': 75, 'bagging_fraction': 0.39241040550343004}. Best is trial 63 with value: 0.34012848000303947.\n",
      "[I 2024-07-23 23:12:45,736] Trial 70 finished with value: 0.32953226571969324 and parameters: {'num_leaves': 307, 'max_depth': 8, 'learning_rate': 0.258642753104267, 'lambda_l1': 85, 'lambda_l2': 83, 'bagging_fraction': 0.3874304147068046}. Best is trial 63 with value: 0.34012848000303947.\n",
      "[I 2024-07-23 23:12:45,950] Trial 71 finished with value: 0.31985148909798705 and parameters: {'num_leaves': 273, 'max_depth': 9, 'learning_rate': 0.2370292396974853, 'lambda_l1': 96, 'lambda_l2': 77, 'bagging_fraction': 0.4970163387387718}. Best is trial 63 with value: 0.34012848000303947.\n",
      "[I 2024-07-23 23:12:46,156] Trial 72 finished with value: 0.31281431472164584 and parameters: {'num_leaves': 347, 'max_depth': 7, 'learning_rate': 0.1971210265888751, 'lambda_l1': 90, 'lambda_l2': 74, 'bagging_fraction': 0.4646246852401084}. Best is trial 63 with value: 0.34012848000303947.\n",
      "[I 2024-07-23 23:12:46,376] Trial 73 finished with value: 0.3317974666078195 and parameters: {'num_leaves': 306, 'max_depth': 6, 'learning_rate': 0.24075140847158705, 'lambda_l1': 87, 'lambda_l2': 67, 'bagging_fraction': 0.37333262181504395}. Best is trial 63 with value: 0.34012848000303947.\n",
      "[I 2024-07-23 23:12:46,574] Trial 74 finished with value: 0.33311924637469625 and parameters: {'num_leaves': 263, 'max_depth': 6, 'learning_rate': 0.18319633716763212, 'lambda_l1': 86, 'lambda_l2': 66, 'bagging_fraction': 0.3680425121381883}. Best is trial 63 with value: 0.34012848000303947.\n",
      "[I 2024-07-23 23:12:46,776] Trial 75 finished with value: 0.33126092261798823 and parameters: {'num_leaves': 262, 'max_depth': 6, 'learning_rate': 0.18138812437297783, 'lambda_l1': 87, 'lambda_l2': 66, 'bagging_fraction': 0.3601704426944743}. Best is trial 63 with value: 0.34012848000303947.\n",
      "[I 2024-07-23 23:12:46,999] Trial 76 finished with value: 0.33253121604099645 and parameters: {'num_leaves': 262, 'max_depth': 6, 'learning_rate': 0.18469654802979202, 'lambda_l1': 87, 'lambda_l2': 66, 'bagging_fraction': 0.35801318470944843}. Best is trial 63 with value: 0.34012848000303947.\n",
      "[I 2024-07-23 23:12:47,195] Trial 77 finished with value: 0.3236937670768512 and parameters: {'num_leaves': 265, 'max_depth': 6, 'learning_rate': 0.18163327375850566, 'lambda_l1': 77, 'lambda_l2': 64, 'bagging_fraction': 0.3435590294695915}. Best is trial 63 with value: 0.34012848000303947.\n",
      "[I 2024-07-23 23:12:47,391] Trial 78 finished with value: 0.31646894412878207 and parameters: {'num_leaves': 334, 'max_depth': 6, 'learning_rate': 0.1831854473150938, 'lambda_l1': 82, 'lambda_l2': 67, 'bagging_fraction': 0.3669251883190361}. Best is trial 63 with value: 0.34012848000303947.\n",
      "[I 2024-07-23 23:12:47,594] Trial 79 finished with value: 0.3248355873043833 and parameters: {'num_leaves': 359, 'max_depth': 7, 'learning_rate': 0.190257607036045, 'lambda_l1': 86, 'lambda_l2': 57, 'bagging_fraction': 0.31478118997063814}. Best is trial 63 with value: 0.34012848000303947.\n",
      "[I 2024-07-23 23:12:47,798] Trial 80 finished with value: 0.32016684600256295 and parameters: {'num_leaves': 275, 'max_depth': 6, 'learning_rate': 0.20569822942511962, 'lambda_l1': 73, 'lambda_l2': 67, 'bagging_fraction': 0.33430897992898084}. Best is trial 63 with value: 0.34012848000303947.\n",
      "[I 2024-07-23 23:12:48,038] Trial 81 finished with value: 0.32854460011463443 and parameters: {'num_leaves': 253, 'max_depth': 8, 'learning_rate': 0.16397615086039974, 'lambda_l1': 87, 'lambda_l2': 83, 'bagging_fraction': 0.3768976396102197}. Best is trial 63 with value: 0.34012848000303947.\n",
      "[I 2024-07-23 23:12:48,284] Trial 82 finished with value: 0.31655642444185994 and parameters: {'num_leaves': 296, 'max_depth': 7, 'learning_rate': 0.19835321140591586, 'lambda_l1': 81, 'lambda_l2': 64, 'bagging_fraction': 0.39913526996958065}. Best is trial 63 with value: 0.34012848000303947.\n",
      "[I 2024-07-23 23:12:48,518] Trial 83 finished with value: 0.3376485851614006 and parameters: {'num_leaves': 224, 'max_depth': 6, 'learning_rate': 0.17227833148842317, 'lambda_l1': 90, 'lambda_l2': 79, 'bagging_fraction': 0.3551977544314936}. Best is trial 63 with value: 0.34012848000303947.\n",
      "[I 2024-07-23 23:12:48,730] Trial 84 finished with value: 0.3183722568363603 and parameters: {'num_leaves': 224, 'max_depth': 6, 'learning_rate': 0.1746982175423425, 'lambda_l1': 78, 'lambda_l2': 93, 'bagging_fraction': 0.34972244755683907}. Best is trial 63 with value: 0.34012848000303947.\n",
      "[I 2024-07-23 23:12:48,900] Trial 85 finished with value: 0.32240937062547576 and parameters: {'num_leaves': 264, 'max_depth': 5, 'learning_rate': 0.18510300426989845, 'lambda_l1': 91, 'lambda_l2': 73, 'bagging_fraction': 0.3022723739817198}. Best is trial 63 with value: 0.34012848000303947.\n",
      "[I 2024-07-23 23:12:49,098] Trial 86 finished with value: 0.333252389950123 and parameters: {'num_leaves': 202, 'max_depth': 6, 'learning_rate': 0.1728274528227547, 'lambda_l1': 87, 'lambda_l2': 80, 'bagging_fraction': 0.3627199889333911}. Best is trial 63 with value: 0.34012848000303947.\n",
      "[I 2024-07-23 23:12:49,360] Trial 87 finished with value: 0.31871763402553493 and parameters: {'num_leaves': 200, 'max_depth': 7, 'learning_rate': 0.17150411915631156, 'lambda_l1': 83, 'lambda_l2': 80, 'bagging_fraction': 0.47468787671930046}. Best is trial 63 with value: 0.34012848000303947.\n",
      "[I 2024-07-23 23:12:49,578] Trial 88 finished with value: 0.32043448751251824 and parameters: {'num_leaves': 282, 'max_depth': 6, 'learning_rate': 0.2111638718132322, 'lambda_l1': 91, 'lambda_l2': 86, 'bagging_fraction': 0.4262424383698316}. Best is trial 63 with value: 0.34012848000303947.\n",
      "[I 2024-07-23 23:12:49,781] Trial 89 finished with value: 0.340415141595343 and parameters: {'num_leaves': 226, 'max_depth': 5, 'learning_rate': 0.23324784042855312, 'lambda_l1': 88, 'lambda_l2': 59, 'bagging_fraction': 0.3998610971223309}. Best is trial 89 with value: 0.340415141595343.\n",
      "[I 2024-07-23 23:12:50,002] Trial 90 finished with value: 0.3034253575310565 and parameters: {'num_leaves': 219, 'max_depth': 5, 'learning_rate': 0.22915548354867574, 'lambda_l1': 69, 'lambda_l2': 59, 'bagging_fraction': 0.3990881379968009}. Best is trial 89 with value: 0.340415141595343.\n",
      "[I 2024-07-23 23:12:50,203] Trial 91 finished with value: 0.3297780931409294 and parameters: {'num_leaves': 244, 'max_depth': 5, 'learning_rate': 0.24128460778624905, 'lambda_l1': 88, 'lambda_l2': 70, 'bagging_fraction': 0.3831838729470184}. Best is trial 89 with value: 0.340415141595343.\n",
      "[I 2024-07-23 23:12:50,539] Trial 92 finished with value: 0.3463412424539826 and parameters: {'num_leaves': 195, 'max_depth': 5, 'learning_rate': 0.1604256863981602, 'lambda_l1': 92, 'lambda_l2': 63, 'bagging_fraction': 0.3331268868474391}. Best is trial 92 with value: 0.3463412424539826.\n",
      "[I 2024-07-23 23:12:50,729] Trial 93 finished with value: 0.33765263398452344 and parameters: {'num_leaves': 234, 'max_depth': 5, 'learning_rate': 0.1536602771262061, 'lambda_l1': 92, 'lambda_l2': 73, 'bagging_fraction': 0.32961882447286983}. Best is trial 92 with value: 0.3463412424539826.\n",
      "[I 2024-07-23 23:12:51,171] Trial 94 finished with value: 0.22903321044191158 and parameters: {'num_leaves': 203, 'max_depth': 5, 'learning_rate': 0.15903424557727405, 'lambda_l1': 8, 'lambda_l2': 86, 'bagging_fraction': 0.33247215420905785}. Best is trial 92 with value: 0.3463412424539826.\n",
      "[I 2024-07-23 23:12:51,377] Trial 95 finished with value: 0.3429342726783438 and parameters: {'num_leaves': 192, 'max_depth': 5, 'learning_rate': 0.15340774428963536, 'lambda_l1': 92, 'lambda_l2': 78, 'bagging_fraction': 0.4397202387649623}. Best is trial 92 with value: 0.3463412424539826.\n",
      "[I 2024-07-23 23:12:51,603] Trial 96 finished with value: 0.3158458125142177 and parameters: {'num_leaves': 169, 'max_depth': 4, 'learning_rate': 0.14712655914098127, 'lambda_l1': 93, 'lambda_l2': 78, 'bagging_fraction': 0.48764259012226924}. Best is trial 92 with value: 0.3463412424539826.\n",
      "[I 2024-07-23 23:12:51,815] Trial 97 finished with value: 0.33281645594406783 and parameters: {'num_leaves': 216, 'max_depth': 5, 'learning_rate': 0.15777189715893025, 'lambda_l1': 92, 'lambda_l2': 73, 'bagging_fraction': 0.43850909309323877}. Best is trial 92 with value: 0.3463412424539826.\n",
      "[I 2024-07-23 23:12:52,027] Trial 98 finished with value: 0.31909931576416034 and parameters: {'num_leaves': 188, 'max_depth': 5, 'learning_rate': 0.13627964159548878, 'lambda_l1': 94, 'lambda_l2': 82, 'bagging_fraction': 0.41135701009149617}. Best is trial 92 with value: 0.3463412424539826.\n",
      "[I 2024-07-23 23:12:52,301] Trial 99 finished with value: 0.2132625110318586 and parameters: {'num_leaves': 231, 'max_depth': 4, 'learning_rate': 0.14342532837394462, 'lambda_l1': 32, 'lambda_l2': 62, 'bagging_fraction': 0.5260585027955182}. Best is trial 92 with value: 0.3463412424539826.\n"
     ]
    }
   ],
   "source": [
    "study = optuna.create_study(direction=\"maximize\")\n",
    "study.optimize(multi_objective, n_trials=n_trials)"
   ]
  },
  {
   "cell_type": "code",
   "execution_count": 24,
   "metadata": {},
   "outputs": [
    {
     "data": {
      "application/vnd.plotly.v1+json": {
       "config": {
        "plotlyServerURL": "https://plot.ly"
       },
       "data": [
        {
         "mode": "markers",
         "name": "Objective Value",
         "type": "scatter",
         "x": [
          0,
          1,
          2,
          3,
          4,
          5,
          6,
          7,
          8,
          9,
          10,
          11,
          12,
          13,
          14,
          15,
          16,
          17,
          18,
          19,
          20,
          21,
          22,
          23,
          24,
          25,
          26,
          27,
          28,
          29,
          30,
          31,
          32,
          33,
          34,
          35,
          36,
          37,
          38,
          39,
          40,
          41,
          42,
          43,
          44,
          45,
          46,
          47,
          48,
          49,
          50,
          51,
          52,
          53,
          54,
          55,
          56,
          57,
          58,
          59,
          60,
          61,
          62,
          63,
          64,
          65,
          66,
          67,
          68,
          69,
          70,
          71,
          72,
          73,
          74,
          75,
          76,
          77,
          78,
          79,
          80,
          81,
          82,
          83,
          84,
          85,
          86,
          87,
          88,
          89,
          90,
          91,
          92,
          93,
          94,
          95,
          96,
          97,
          98,
          99
         ],
         "y": [
          0.28662165374113546,
          0.29665130659487104,
          0.24621321982582278,
          0.23822577178267412,
          0.31394239302410204,
          0.26168120324214333,
          0.26237176252078037,
          0.29862568172638787,
          0.28117685345334975,
          0.2956242882782496,
          0.31014321624647434,
          0.30388541439068956,
          0.2782677928355085,
          0.008717599237889343,
          0.29849823818882965,
          0.2259326457856761,
          0.2952375208992616,
          0.24047734652518715,
          0.2732861940092472,
          0.19809095297634263,
          0.30400390232908464,
          0.2958623590576054,
          0.3061218156393258,
          0.3080974825465768,
          0.2961865160177414,
          0.2639160829881128,
          0.28730626776630475,
          0.29993307918477835,
          0.2906058632218812,
          0.2724820032434134,
          0.30501018651486556,
          0.2944754454759304,
          0.26202209428275425,
          0.29313317083363294,
          0.2674165374864004,
          0.2954068866948802,
          0.2827963837809224,
          0.3042375632199077,
          0.22577496103122882,
          0.3003561773651629,
          0.3039447652248145,
          0.3070817320154012,
          0.3070619214971241,
          0.32348806008386516,
          0.32651236251842447,
          0.3121941559342611,
          0.3122989305157762,
          0.3286940607455292,
          0.3213477300752046,
          0.21029604426201046,
          0.296344239005399,
          0.32500376562830974,
          0.2998202229843827,
          0.29316169367350436,
          0.2971416316041022,
          0.3306104647574923,
          0.3215183911666006,
          0.317379778927134,
          0.3151775750715979,
          0.3267525531679841,
          0.3081171255658583,
          0.3183164092197166,
          0.33004757306796284,
          0.34012848000303947,
          0.3373108687893189,
          0.33624653150012024,
          0.33055848561178325,
          0.3080974825465768,
          0.33083394992691173,
          0.3373080323848069,
          0.32953226571969324,
          0.31985148909798705,
          0.31281431472164584,
          0.3317974666078195,
          0.33311924637469625,
          0.33126092261798823,
          0.33253121604099645,
          0.3236937670768512,
          0.31646894412878207,
          0.3248355873043833,
          0.32016684600256295,
          0.32854460011463443,
          0.31655642444185994,
          0.3376485851614006,
          0.3183722568363603,
          0.32240937062547576,
          0.333252389950123,
          0.31871763402553493,
          0.32043448751251824,
          0.340415141595343,
          0.3034253575310565,
          0.3297780931409294,
          0.3463412424539826,
          0.33765263398452344,
          0.22903321044191158,
          0.3429342726783438,
          0.3158458125142177,
          0.33281645594406783,
          0.31909931576416034,
          0.2132625110318586
         ]
        },
        {
         "mode": "lines",
         "name": "Best Value",
         "type": "scatter",
         "x": [
          0,
          1,
          2,
          3,
          4,
          5,
          6,
          7,
          8,
          9,
          10,
          11,
          12,
          13,
          14,
          15,
          16,
          17,
          18,
          19,
          20,
          21,
          22,
          23,
          24,
          25,
          26,
          27,
          28,
          29,
          30,
          31,
          32,
          33,
          34,
          35,
          36,
          37,
          38,
          39,
          40,
          41,
          42,
          43,
          44,
          45,
          46,
          47,
          48,
          49,
          50,
          51,
          52,
          53,
          54,
          55,
          56,
          57,
          58,
          59,
          60,
          61,
          62,
          63,
          64,
          65,
          66,
          67,
          68,
          69,
          70,
          71,
          72,
          73,
          74,
          75,
          76,
          77,
          78,
          79,
          80,
          81,
          82,
          83,
          84,
          85,
          86,
          87,
          88,
          89,
          90,
          91,
          92,
          93,
          94,
          95,
          96,
          97,
          98,
          99
         ],
         "y": [
          0.28662165374113546,
          0.29665130659487104,
          0.29665130659487104,
          0.29665130659487104,
          0.31394239302410204,
          0.31394239302410204,
          0.31394239302410204,
          0.31394239302410204,
          0.31394239302410204,
          0.31394239302410204,
          0.31394239302410204,
          0.31394239302410204,
          0.31394239302410204,
          0.31394239302410204,
          0.31394239302410204,
          0.31394239302410204,
          0.31394239302410204,
          0.31394239302410204,
          0.31394239302410204,
          0.31394239302410204,
          0.31394239302410204,
          0.31394239302410204,
          0.31394239302410204,
          0.31394239302410204,
          0.31394239302410204,
          0.31394239302410204,
          0.31394239302410204,
          0.31394239302410204,
          0.31394239302410204,
          0.31394239302410204,
          0.31394239302410204,
          0.31394239302410204,
          0.31394239302410204,
          0.31394239302410204,
          0.31394239302410204,
          0.31394239302410204,
          0.31394239302410204,
          0.31394239302410204,
          0.31394239302410204,
          0.31394239302410204,
          0.31394239302410204,
          0.31394239302410204,
          0.31394239302410204,
          0.32348806008386516,
          0.32651236251842447,
          0.32651236251842447,
          0.32651236251842447,
          0.3286940607455292,
          0.3286940607455292,
          0.3286940607455292,
          0.3286940607455292,
          0.3286940607455292,
          0.3286940607455292,
          0.3286940607455292,
          0.3286940607455292,
          0.3306104647574923,
          0.3306104647574923,
          0.3306104647574923,
          0.3306104647574923,
          0.3306104647574923,
          0.3306104647574923,
          0.3306104647574923,
          0.3306104647574923,
          0.34012848000303947,
          0.34012848000303947,
          0.34012848000303947,
          0.34012848000303947,
          0.34012848000303947,
          0.34012848000303947,
          0.34012848000303947,
          0.34012848000303947,
          0.34012848000303947,
          0.34012848000303947,
          0.34012848000303947,
          0.34012848000303947,
          0.34012848000303947,
          0.34012848000303947,
          0.34012848000303947,
          0.34012848000303947,
          0.34012848000303947,
          0.34012848000303947,
          0.34012848000303947,
          0.34012848000303947,
          0.34012848000303947,
          0.34012848000303947,
          0.34012848000303947,
          0.34012848000303947,
          0.34012848000303947,
          0.34012848000303947,
          0.340415141595343,
          0.340415141595343,
          0.340415141595343,
          0.3463412424539826,
          0.3463412424539826,
          0.3463412424539826,
          0.3463412424539826,
          0.3463412424539826,
          0.3463412424539826,
          0.3463412424539826,
          0.3463412424539826
         ]
        },
        {
         "marker": {
          "color": "#cccccc"
         },
         "mode": "markers",
         "name": "Infeasible Trial",
         "showlegend": false,
         "type": "scatter",
         "x": [],
         "y": []
        }
       ],
       "layout": {
        "template": {
         "data": {
          "bar": [
           {
            "error_x": {
             "color": "#2a3f5f"
            },
            "error_y": {
             "color": "#2a3f5f"
            },
            "marker": {
             "line": {
              "color": "#E5ECF6",
              "width": 0.5
             },
             "pattern": {
              "fillmode": "overlay",
              "size": 10,
              "solidity": 0.2
             }
            },
            "type": "bar"
           }
          ],
          "barpolar": [
           {
            "marker": {
             "line": {
              "color": "#E5ECF6",
              "width": 0.5
             },
             "pattern": {
              "fillmode": "overlay",
              "size": 10,
              "solidity": 0.2
             }
            },
            "type": "barpolar"
           }
          ],
          "carpet": [
           {
            "aaxis": {
             "endlinecolor": "#2a3f5f",
             "gridcolor": "white",
             "linecolor": "white",
             "minorgridcolor": "white",
             "startlinecolor": "#2a3f5f"
            },
            "baxis": {
             "endlinecolor": "#2a3f5f",
             "gridcolor": "white",
             "linecolor": "white",
             "minorgridcolor": "white",
             "startlinecolor": "#2a3f5f"
            },
            "type": "carpet"
           }
          ],
          "choropleth": [
           {
            "colorbar": {
             "outlinewidth": 0,
             "ticks": ""
            },
            "type": "choropleth"
           }
          ],
          "contour": [
           {
            "colorbar": {
             "outlinewidth": 0,
             "ticks": ""
            },
            "colorscale": [
             [
              0,
              "#0d0887"
             ],
             [
              0.1111111111111111,
              "#46039f"
             ],
             [
              0.2222222222222222,
              "#7201a8"
             ],
             [
              0.3333333333333333,
              "#9c179e"
             ],
             [
              0.4444444444444444,
              "#bd3786"
             ],
             [
              0.5555555555555556,
              "#d8576b"
             ],
             [
              0.6666666666666666,
              "#ed7953"
             ],
             [
              0.7777777777777778,
              "#fb9f3a"
             ],
             [
              0.8888888888888888,
              "#fdca26"
             ],
             [
              1,
              "#f0f921"
             ]
            ],
            "type": "contour"
           }
          ],
          "contourcarpet": [
           {
            "colorbar": {
             "outlinewidth": 0,
             "ticks": ""
            },
            "type": "contourcarpet"
           }
          ],
          "heatmap": [
           {
            "colorbar": {
             "outlinewidth": 0,
             "ticks": ""
            },
            "colorscale": [
             [
              0,
              "#0d0887"
             ],
             [
              0.1111111111111111,
              "#46039f"
             ],
             [
              0.2222222222222222,
              "#7201a8"
             ],
             [
              0.3333333333333333,
              "#9c179e"
             ],
             [
              0.4444444444444444,
              "#bd3786"
             ],
             [
              0.5555555555555556,
              "#d8576b"
             ],
             [
              0.6666666666666666,
              "#ed7953"
             ],
             [
              0.7777777777777778,
              "#fb9f3a"
             ],
             [
              0.8888888888888888,
              "#fdca26"
             ],
             [
              1,
              "#f0f921"
             ]
            ],
            "type": "heatmap"
           }
          ],
          "heatmapgl": [
           {
            "colorbar": {
             "outlinewidth": 0,
             "ticks": ""
            },
            "colorscale": [
             [
              0,
              "#0d0887"
             ],
             [
              0.1111111111111111,
              "#46039f"
             ],
             [
              0.2222222222222222,
              "#7201a8"
             ],
             [
              0.3333333333333333,
              "#9c179e"
             ],
             [
              0.4444444444444444,
              "#bd3786"
             ],
             [
              0.5555555555555556,
              "#d8576b"
             ],
             [
              0.6666666666666666,
              "#ed7953"
             ],
             [
              0.7777777777777778,
              "#fb9f3a"
             ],
             [
              0.8888888888888888,
              "#fdca26"
             ],
             [
              1,
              "#f0f921"
             ]
            ],
            "type": "heatmapgl"
           }
          ],
          "histogram": [
           {
            "marker": {
             "pattern": {
              "fillmode": "overlay",
              "size": 10,
              "solidity": 0.2
             }
            },
            "type": "histogram"
           }
          ],
          "histogram2d": [
           {
            "colorbar": {
             "outlinewidth": 0,
             "ticks": ""
            },
            "colorscale": [
             [
              0,
              "#0d0887"
             ],
             [
              0.1111111111111111,
              "#46039f"
             ],
             [
              0.2222222222222222,
              "#7201a8"
             ],
             [
              0.3333333333333333,
              "#9c179e"
             ],
             [
              0.4444444444444444,
              "#bd3786"
             ],
             [
              0.5555555555555556,
              "#d8576b"
             ],
             [
              0.6666666666666666,
              "#ed7953"
             ],
             [
              0.7777777777777778,
              "#fb9f3a"
             ],
             [
              0.8888888888888888,
              "#fdca26"
             ],
             [
              1,
              "#f0f921"
             ]
            ],
            "type": "histogram2d"
           }
          ],
          "histogram2dcontour": [
           {
            "colorbar": {
             "outlinewidth": 0,
             "ticks": ""
            },
            "colorscale": [
             [
              0,
              "#0d0887"
             ],
             [
              0.1111111111111111,
              "#46039f"
             ],
             [
              0.2222222222222222,
              "#7201a8"
             ],
             [
              0.3333333333333333,
              "#9c179e"
             ],
             [
              0.4444444444444444,
              "#bd3786"
             ],
             [
              0.5555555555555556,
              "#d8576b"
             ],
             [
              0.6666666666666666,
              "#ed7953"
             ],
             [
              0.7777777777777778,
              "#fb9f3a"
             ],
             [
              0.8888888888888888,
              "#fdca26"
             ],
             [
              1,
              "#f0f921"
             ]
            ],
            "type": "histogram2dcontour"
           }
          ],
          "mesh3d": [
           {
            "colorbar": {
             "outlinewidth": 0,
             "ticks": ""
            },
            "type": "mesh3d"
           }
          ],
          "parcoords": [
           {
            "line": {
             "colorbar": {
              "outlinewidth": 0,
              "ticks": ""
             }
            },
            "type": "parcoords"
           }
          ],
          "pie": [
           {
            "automargin": true,
            "type": "pie"
           }
          ],
          "scatter": [
           {
            "fillpattern": {
             "fillmode": "overlay",
             "size": 10,
             "solidity": 0.2
            },
            "type": "scatter"
           }
          ],
          "scatter3d": [
           {
            "line": {
             "colorbar": {
              "outlinewidth": 0,
              "ticks": ""
             }
            },
            "marker": {
             "colorbar": {
              "outlinewidth": 0,
              "ticks": ""
             }
            },
            "type": "scatter3d"
           }
          ],
          "scattercarpet": [
           {
            "marker": {
             "colorbar": {
              "outlinewidth": 0,
              "ticks": ""
             }
            },
            "type": "scattercarpet"
           }
          ],
          "scattergeo": [
           {
            "marker": {
             "colorbar": {
              "outlinewidth": 0,
              "ticks": ""
             }
            },
            "type": "scattergeo"
           }
          ],
          "scattergl": [
           {
            "marker": {
             "colorbar": {
              "outlinewidth": 0,
              "ticks": ""
             }
            },
            "type": "scattergl"
           }
          ],
          "scattermapbox": [
           {
            "marker": {
             "colorbar": {
              "outlinewidth": 0,
              "ticks": ""
             }
            },
            "type": "scattermapbox"
           }
          ],
          "scatterpolar": [
           {
            "marker": {
             "colorbar": {
              "outlinewidth": 0,
              "ticks": ""
             }
            },
            "type": "scatterpolar"
           }
          ],
          "scatterpolargl": [
           {
            "marker": {
             "colorbar": {
              "outlinewidth": 0,
              "ticks": ""
             }
            },
            "type": "scatterpolargl"
           }
          ],
          "scatterternary": [
           {
            "marker": {
             "colorbar": {
              "outlinewidth": 0,
              "ticks": ""
             }
            },
            "type": "scatterternary"
           }
          ],
          "surface": [
           {
            "colorbar": {
             "outlinewidth": 0,
             "ticks": ""
            },
            "colorscale": [
             [
              0,
              "#0d0887"
             ],
             [
              0.1111111111111111,
              "#46039f"
             ],
             [
              0.2222222222222222,
              "#7201a8"
             ],
             [
              0.3333333333333333,
              "#9c179e"
             ],
             [
              0.4444444444444444,
              "#bd3786"
             ],
             [
              0.5555555555555556,
              "#d8576b"
             ],
             [
              0.6666666666666666,
              "#ed7953"
             ],
             [
              0.7777777777777778,
              "#fb9f3a"
             ],
             [
              0.8888888888888888,
              "#fdca26"
             ],
             [
              1,
              "#f0f921"
             ]
            ],
            "type": "surface"
           }
          ],
          "table": [
           {
            "cells": {
             "fill": {
              "color": "#EBF0F8"
             },
             "line": {
              "color": "white"
             }
            },
            "header": {
             "fill": {
              "color": "#C8D4E3"
             },
             "line": {
              "color": "white"
             }
            },
            "type": "table"
           }
          ]
         },
         "layout": {
          "annotationdefaults": {
           "arrowcolor": "#2a3f5f",
           "arrowhead": 0,
           "arrowwidth": 1
          },
          "autotypenumbers": "strict",
          "coloraxis": {
           "colorbar": {
            "outlinewidth": 0,
            "ticks": ""
           }
          },
          "colorscale": {
           "diverging": [
            [
             0,
             "#8e0152"
            ],
            [
             0.1,
             "#c51b7d"
            ],
            [
             0.2,
             "#de77ae"
            ],
            [
             0.3,
             "#f1b6da"
            ],
            [
             0.4,
             "#fde0ef"
            ],
            [
             0.5,
             "#f7f7f7"
            ],
            [
             0.6,
             "#e6f5d0"
            ],
            [
             0.7,
             "#b8e186"
            ],
            [
             0.8,
             "#7fbc41"
            ],
            [
             0.9,
             "#4d9221"
            ],
            [
             1,
             "#276419"
            ]
           ],
           "sequential": [
            [
             0,
             "#0d0887"
            ],
            [
             0.1111111111111111,
             "#46039f"
            ],
            [
             0.2222222222222222,
             "#7201a8"
            ],
            [
             0.3333333333333333,
             "#9c179e"
            ],
            [
             0.4444444444444444,
             "#bd3786"
            ],
            [
             0.5555555555555556,
             "#d8576b"
            ],
            [
             0.6666666666666666,
             "#ed7953"
            ],
            [
             0.7777777777777778,
             "#fb9f3a"
            ],
            [
             0.8888888888888888,
             "#fdca26"
            ],
            [
             1,
             "#f0f921"
            ]
           ],
           "sequentialminus": [
            [
             0,
             "#0d0887"
            ],
            [
             0.1111111111111111,
             "#46039f"
            ],
            [
             0.2222222222222222,
             "#7201a8"
            ],
            [
             0.3333333333333333,
             "#9c179e"
            ],
            [
             0.4444444444444444,
             "#bd3786"
            ],
            [
             0.5555555555555556,
             "#d8576b"
            ],
            [
             0.6666666666666666,
             "#ed7953"
            ],
            [
             0.7777777777777778,
             "#fb9f3a"
            ],
            [
             0.8888888888888888,
             "#fdca26"
            ],
            [
             1,
             "#f0f921"
            ]
           ]
          },
          "colorway": [
           "#636efa",
           "#EF553B",
           "#00cc96",
           "#ab63fa",
           "#FFA15A",
           "#19d3f3",
           "#FF6692",
           "#B6E880",
           "#FF97FF",
           "#FECB52"
          ],
          "font": {
           "color": "#2a3f5f"
          },
          "geo": {
           "bgcolor": "white",
           "lakecolor": "white",
           "landcolor": "#E5ECF6",
           "showlakes": true,
           "showland": true,
           "subunitcolor": "white"
          },
          "hoverlabel": {
           "align": "left"
          },
          "hovermode": "closest",
          "mapbox": {
           "style": "light"
          },
          "paper_bgcolor": "white",
          "plot_bgcolor": "#E5ECF6",
          "polar": {
           "angularaxis": {
            "gridcolor": "white",
            "linecolor": "white",
            "ticks": ""
           },
           "bgcolor": "#E5ECF6",
           "radialaxis": {
            "gridcolor": "white",
            "linecolor": "white",
            "ticks": ""
           }
          },
          "scene": {
           "xaxis": {
            "backgroundcolor": "#E5ECF6",
            "gridcolor": "white",
            "gridwidth": 2,
            "linecolor": "white",
            "showbackground": true,
            "ticks": "",
            "zerolinecolor": "white"
           },
           "yaxis": {
            "backgroundcolor": "#E5ECF6",
            "gridcolor": "white",
            "gridwidth": 2,
            "linecolor": "white",
            "showbackground": true,
            "ticks": "",
            "zerolinecolor": "white"
           },
           "zaxis": {
            "backgroundcolor": "#E5ECF6",
            "gridcolor": "white",
            "gridwidth": 2,
            "linecolor": "white",
            "showbackground": true,
            "ticks": "",
            "zerolinecolor": "white"
           }
          },
          "shapedefaults": {
           "line": {
            "color": "#2a3f5f"
           }
          },
          "ternary": {
           "aaxis": {
            "gridcolor": "white",
            "linecolor": "white",
            "ticks": ""
           },
           "baxis": {
            "gridcolor": "white",
            "linecolor": "white",
            "ticks": ""
           },
           "bgcolor": "#E5ECF6",
           "caxis": {
            "gridcolor": "white",
            "linecolor": "white",
            "ticks": ""
           }
          },
          "title": {
           "x": 0.05
          },
          "xaxis": {
           "automargin": true,
           "gridcolor": "white",
           "linecolor": "white",
           "ticks": "",
           "title": {
            "standoff": 15
           },
           "zerolinecolor": "white",
           "zerolinewidth": 2
          },
          "yaxis": {
           "automargin": true,
           "gridcolor": "white",
           "linecolor": "white",
           "ticks": "",
           "title": {
            "standoff": 15
           },
           "zerolinecolor": "white",
           "zerolinewidth": 2
          }
         }
        },
        "title": {
         "text": "Optimization History Plot"
        },
        "xaxis": {
         "title": {
          "text": "Trial"
         }
        },
        "yaxis": {
         "title": {
          "text": "Objective Value"
         }
        }
       }
      }
     },
     "metadata": {},
     "output_type": "display_data"
    }
   ],
   "source": [
    "optuna.visualization.plot_optimization_history(**{\"study\": study})"
   ]
  },
  {
   "cell_type": "markdown",
   "metadata": {},
   "source": [
    "## goal: 3 day 7% gain (low anomaly %)"
   ]
  },
  {
   "cell_type": "code",
   "execution_count": 25,
   "metadata": {},
   "outputs": [
    {
     "name": "stdout",
     "output_type": "stream",
     "text": [
      "(8793, 101) (8793,) (2205, 101) (2205,)\n",
      "(array([0, 1, 2], dtype=int64), array([ 948, 6741, 1104], dtype=int64))\n",
      "(array([0, 1, 2], dtype=int64), array([ 115, 1912,  178], dtype=int64))\n"
     ]
    }
   ],
   "source": [
    "X_train, y_train, X_val, y_val = data_prep_for_tuning_multi(ticker_list, normalize=False, obj=[3, 0.07])"
   ]
  },
  {
   "cell_type": "code",
   "execution_count": 26,
   "metadata": {},
   "outputs": [
    {
     "name": "stderr",
     "output_type": "stream",
     "text": [
      "[I 2024-07-23 23:12:53,538] A new study created in memory with name: no-name-518322dd-3041-4d20-965c-cd69b6d742af\n",
      "[I 2024-07-23 23:12:53,889] Trial 0 finished with value: 0.0 and parameters: {'num_leaves': 461, 'max_depth': 13, 'learning_rate': 0.2910287150161726, 'lambda_l1': 78, 'lambda_l2': 44, 'bagging_fraction': 0.9826615361021804}. Best is trial 0 with value: 0.0.\n",
      "[I 2024-07-23 23:12:54,100] Trial 1 finished with value: 0.06043954830737273 and parameters: {'num_leaves': 109, 'max_depth': 5, 'learning_rate': 0.2982461837850387, 'lambda_l1': 36, 'lambda_l2': 96, 'bagging_fraction': 0.70515696734947}. Best is trial 1 with value: 0.06043954830737273.\n",
      "[I 2024-07-23 23:12:54,406] Trial 2 finished with value: 0.03522014680306622 and parameters: {'num_leaves': 237, 'max_depth': 5, 'learning_rate': 0.16538643809356585, 'lambda_l1': 24, 'lambda_l2': 27, 'bagging_fraction': 0.7504972901079152}. Best is trial 1 with value: 0.06043954830737273.\n",
      "[I 2024-07-23 23:12:54,603] Trial 3 finished with value: 0.0 and parameters: {'num_leaves': 368, 'max_depth': 12, 'learning_rate': 0.15624774926931023, 'lambda_l1': 79, 'lambda_l2': 67, 'bagging_fraction': 0.45167030739163117}. Best is trial 1 with value: 0.06043954830737273.\n",
      "[I 2024-07-23 23:12:55,023] Trial 4 finished with value: 0.07237736082330204 and parameters: {'num_leaves': 509, 'max_depth': 15, 'learning_rate': 0.14930403952216412, 'lambda_l1': 27, 'lambda_l2': 17, 'bagging_fraction': 0.8958809459671975}. Best is trial 4 with value: 0.07237736082330204.\n",
      "[I 2024-07-23 23:12:55,284] Trial 5 finished with value: 0.0 and parameters: {'num_leaves': 484, 'max_depth': 16, 'learning_rate': 0.09638581581417573, 'lambda_l1': 89, 'lambda_l2': 14, 'bagging_fraction': 0.6252827331248413}. Best is trial 4 with value: 0.07237736082330204.\n",
      "[I 2024-07-23 23:12:55,465] Trial 6 finished with value: 0.02642125142841211 and parameters: {'num_leaves': 308, 'max_depth': 7, 'learning_rate': 0.270491316119219, 'lambda_l1': 71, 'lambda_l2': 97, 'bagging_fraction': 0.6991552616726662}. Best is trial 4 with value: 0.07237736082330204.\n",
      "[I 2024-07-23 23:12:55,673] Trial 7 finished with value: 0.023642628915831694 and parameters: {'num_leaves': 360, 'max_depth': 7, 'learning_rate': 0.25084980892531145, 'lambda_l1': 48, 'lambda_l2': 65, 'bagging_fraction': 0.6381610150159093}. Best is trial 4 with value: 0.07237736082330204.\n",
      "[I 2024-07-23 23:12:55,992] Trial 8 finished with value: 0.0 and parameters: {'num_leaves': 60, 'max_depth': 15, 'learning_rate': 0.062484778701545104, 'lambda_l1': 57, 'lambda_l2': 61, 'bagging_fraction': 0.5618417890356056}. Best is trial 4 with value: 0.07237736082330204.\n",
      "[I 2024-07-23 23:12:56,191] Trial 9 finished with value: 0.048001597032333906 and parameters: {'num_leaves': 302, 'max_depth': 15, 'learning_rate': 0.27684610656574826, 'lambda_l1': 56, 'lambda_l2': 13, 'bagging_fraction': 0.7167805210643652}. Best is trial 4 with value: 0.07237736082330204.\n",
      "[I 2024-07-23 23:12:58,315] Trial 10 finished with value: 0.06600569430385496 and parameters: {'num_leaves': 185, 'max_depth': 10, 'learning_rate': 0.20615803125252583, 'lambda_l1': 1, 'lambda_l2': 1, 'bagging_fraction': 0.9474268156239211}. Best is trial 4 with value: 0.07237736082330204.\n",
      "[I 2024-07-23 23:12:59,926] Trial 11 finished with value: 0.05999177957121182 and parameters: {'num_leaves': 185, 'max_depth': 10, 'learning_rate': 0.20695340945983806, 'lambda_l1': 4, 'lambda_l2': 5, 'bagging_fraction': 0.9699552597284642}. Best is trial 4 with value: 0.07237736082330204.\n",
      "[I 2024-07-23 23:13:02,205] Trial 12 finished with value: 0.04363206478321431 and parameters: {'num_leaves': 169, 'max_depth': 10, 'learning_rate': 0.11084775479540886, 'lambda_l1': 2, 'lambda_l2': 31, 'bagging_fraction': 0.8771588204410541}. Best is trial 4 with value: 0.07237736082330204.\n",
      "[I 2024-07-23 23:13:02,585] Trial 13 finished with value: 0.06313326591815888 and parameters: {'num_leaves': 25, 'max_depth': 13, 'learning_rate': 0.2066953983225587, 'lambda_l1': 19, 'lambda_l2': 0, 'bagging_fraction': 0.8493601150438589}. Best is trial 4 with value: 0.07237736082330204.\n",
      "[I 2024-07-23 23:13:02,889] Trial 14 finished with value: 0.016641947605264346 and parameters: {'num_leaves': 434, 'max_depth': 3, 'learning_rate': 0.2035214050509318, 'lambda_l1': 19, 'lambda_l2': 24, 'bagging_fraction': 0.8515010785322357}. Best is trial 4 with value: 0.07237736082330204.\n",
      "[I 2024-07-23 23:13:03,225] Trial 15 finished with value: 0.0 and parameters: {'num_leaves': 205, 'max_depth': 8, 'learning_rate': 0.012157228005377718, 'lambda_l1': 34, 'lambda_l2': 44, 'bagging_fraction': 0.30566000029066626}. Best is trial 4 with value: 0.07237736082330204.\n",
      "[I 2024-07-23 23:13:04,493] Trial 16 finished with value: 0.07781471369405 and parameters: {'num_leaves': 120, 'max_depth': 12, 'learning_rate': 0.12624438633557855, 'lambda_l1': 10, 'lambda_l2': 15, 'bagging_fraction': 0.9065251430580742}. Best is trial 16 with value: 0.07781471369405.\n",
      "[I 2024-07-23 23:13:05,483] Trial 17 finished with value: 0.08108743643675237 and parameters: {'num_leaves': 132, 'max_depth': 12, 'learning_rate': 0.11771304068723015, 'lambda_l1': 13, 'lambda_l2': 33, 'bagging_fraction': 0.7964780372558391}. Best is trial 17 with value: 0.08108743643675237.\n",
      "[I 2024-07-23 23:13:06,981] Trial 18 finished with value: 0.07454618649250248 and parameters: {'num_leaves': 123, 'max_depth': 12, 'learning_rate': 0.10072180014157775, 'lambda_l1': 12, 'lambda_l2': 36, 'bagging_fraction': 0.7909386512774751}. Best is trial 17 with value: 0.08108743643675237.\n",
      "[I 2024-07-23 23:13:07,536] Trial 19 finished with value: 0.02246153197603028 and parameters: {'num_leaves': 113, 'max_depth': 12, 'learning_rate': 0.05093756145802511, 'lambda_l1': 43, 'lambda_l2': 80, 'bagging_fraction': 0.8060468630967038}. Best is trial 17 with value: 0.08108743643675237.\n",
      "[I 2024-07-23 23:13:08,353] Trial 20 finished with value: 0.06552435846566734 and parameters: {'num_leaves': 72, 'max_depth': 9, 'learning_rate': 0.12167702888936978, 'lambda_l1': 14, 'lambda_l2': 39, 'bagging_fraction': 0.5534084395167688}. Best is trial 17 with value: 0.08108743643675237.\n",
      "[I 2024-07-23 23:13:09,585] Trial 21 finished with value: 0.044456246579017734 and parameters: {'num_leaves': 143, 'max_depth': 12, 'learning_rate': 0.07902693413076824, 'lambda_l1': 11, 'lambda_l2': 34, 'bagging_fraction': 0.7689518602254622}. Best is trial 17 with value: 0.08108743643675237.\n",
      "[I 2024-07-23 23:13:10,284] Trial 22 finished with value: 0.06200198821155578 and parameters: {'num_leaves': 18, 'max_depth': 13, 'learning_rate': 0.13335643521291551, 'lambda_l1': 11, 'lambda_l2': 55, 'bagging_fraction': 0.7938136302019848}. Best is trial 17 with value: 0.08108743643675237.\n",
      "[I 2024-07-23 23:13:10,769] Trial 23 finished with value: 0.0 and parameters: {'num_leaves': 109, 'max_depth': 11, 'learning_rate': 0.09200512391880959, 'lambda_l1': 30, 'lambda_l2': 23, 'bagging_fraction': 0.9208857734798566}. Best is trial 17 with value: 0.08108743643675237.\n",
      "[I 2024-07-23 23:13:11,821] Trial 24 finished with value: 0.02246153197603028 and parameters: {'num_leaves': 237, 'max_depth': 14, 'learning_rate': 0.035488897063573596, 'lambda_l1': 14, 'lambda_l2': 49, 'bagging_fraction': 0.8396052092665045}. Best is trial 17 with value: 0.08108743643675237.\n",
      "[I 2024-07-23 23:13:12,129] Trial 25 finished with value: 0.0 and parameters: {'num_leaves': 134, 'max_depth': 11, 'learning_rate': 0.1760809152405159, 'lambda_l1': 40, 'lambda_l2': 33, 'bagging_fraction': 0.910090092730678}. Best is trial 17 with value: 0.08108743643675237.\n",
      "[I 2024-07-23 23:13:13,427] Trial 26 finished with value: 0.09758018646246543 and parameters: {'num_leaves': 66, 'max_depth': 11, 'learning_rate': 0.13529765654706494, 'lambda_l1': 7, 'lambda_l2': 9, 'bagging_fraction': 0.8086847409633888}. Best is trial 26 with value: 0.09758018646246543.\n",
      "[I 2024-07-23 23:13:13,684] Trial 27 finished with value: 0.0 and parameters: {'num_leaves': 66, 'max_depth': 9, 'learning_rate': 0.1416995679018527, 'lambda_l1': 99, 'lambda_l2': 9, 'bagging_fraction': 0.9883220491963691}. Best is trial 26 with value: 0.09758018646246543.\n",
      "[I 2024-07-23 23:13:14,119] Trial 28 finished with value: 0.031082020908987363 and parameters: {'num_leaves': 60, 'max_depth': 11, 'learning_rate': 0.1769149466814116, 'lambda_l1': 22, 'lambda_l2': 19, 'bagging_fraction': 0.8261967997917261}. Best is trial 26 with value: 0.09758018646246543.\n",
      "[I 2024-07-23 23:13:16,145] Trial 29 finished with value: 0.04061983323619536 and parameters: {'num_leaves': 224, 'max_depth': 13, 'learning_rate': 0.07099981703981582, 'lambda_l1': 6, 'lambda_l2': 9, 'bagging_fraction': 0.9971102941399186}. Best is trial 26 with value: 0.09758018646246543.\n",
      "[I 2024-07-23 23:13:18,358] Trial 30 finished with value: 0.026691521669290327 and parameters: {'num_leaves': 161, 'max_depth': 14, 'learning_rate': 0.1226110520292031, 'lambda_l1': 0, 'lambda_l2': 42, 'bagging_fraction': 0.7447450157932362}. Best is trial 26 with value: 0.09758018646246543.\n",
      "[I 2024-07-23 23:13:19,948] Trial 31 finished with value: 0.06313326591815888 and parameters: {'num_leaves': 108, 'max_depth': 12, 'learning_rate': 0.10802588335089428, 'lambda_l1': 9, 'lambda_l2': 27, 'bagging_fraction': 0.6725045501542404}. Best is trial 26 with value: 0.09758018646246543.\n",
      "[I 2024-07-23 23:13:20,692] Trial 32 finished with value: 0.046201687219086816 and parameters: {'num_leaves': 85, 'max_depth': 11, 'learning_rate': 0.08650625636816349, 'lambda_l1': 19, 'lambda_l2': 21, 'bagging_fraction': 0.7960603648828157}. Best is trial 26 with value: 0.09758018646246543.\n",
      "[I 2024-07-23 23:13:21,619] Trial 33 finished with value: 0.05598306384677249 and parameters: {'num_leaves': 136, 'max_depth': 14, 'learning_rate': 0.12969859637046827, 'lambda_l1': 15, 'lambda_l2': 37, 'bagging_fraction': 0.8750468496733084}. Best is trial 26 with value: 0.09758018646246543.\n",
      "[I 2024-07-23 23:13:22,568] Trial 34 finished with value: 0.044456246579017734 and parameters: {'num_leaves': 36, 'max_depth': 13, 'learning_rate': 0.10353401713023934, 'lambda_l1': 7, 'lambda_l2': 47, 'bagging_fraction': 0.7544420965914336}. Best is trial 26 with value: 0.09758018646246543.\n",
      "[I 2024-07-23 23:13:22,992] Trial 35 finished with value: 0.034306658755734125 and parameters: {'num_leaves': 263, 'max_depth': 12, 'learning_rate': 0.1597914119953552, 'lambda_l1': 29, 'lambda_l2': 28, 'bagging_fraction': 0.9131201298904355}. Best is trial 26 with value: 0.09758018646246543.\n",
      "[I 2024-07-23 23:13:23,296] Trial 36 finished with value: 0.05237015668047615 and parameters: {'num_leaves': 93, 'max_depth': 9, 'learning_rate': 0.1866428084759238, 'lambda_l1': 27, 'lambda_l2': 15, 'bagging_fraction': 0.6031173037603437}. Best is trial 26 with value: 0.09758018646246543.\n",
      "[I 2024-07-23 23:13:23,638] Trial 37 finished with value: 0.016641947605264346 and parameters: {'num_leaves': 141, 'max_depth': 11, 'learning_rate': 0.1447902667877007, 'lambda_l1': 36, 'lambda_l2': 76, 'bagging_fraction': 0.7059064297436551}. Best is trial 26 with value: 0.09758018646246543.\n",
      "[I 2024-07-23 23:13:23,925] Trial 38 finished with value: 0.0 and parameters: {'num_leaves': 45, 'max_depth': 8, 'learning_rate': 0.1135294427667579, 'lambda_l1': 68, 'lambda_l2': 53, 'bagging_fraction': 0.7667360833871576}. Best is trial 26 with value: 0.09758018646246543.\n",
      "[I 2024-07-23 23:13:24,868] Trial 39 finished with value: 0.054809389726384765 and parameters: {'num_leaves': 196, 'max_depth': 14, 'learning_rate': 0.04951476169004841, 'lambda_l1': 22, 'lambda_l2': 10, 'bagging_fraction': 0.9507458343781966}. Best is trial 26 with value: 0.09758018646246543.\n",
      "[I 2024-07-23 23:13:25,334] Trial 40 finished with value: 0.06416782429357319 and parameters: {'num_leaves': 263, 'max_depth': 16, 'learning_rate': 0.2297451271119279, 'lambda_l1': 16, 'lambda_l2': 19, 'bagging_fraction': 0.39416904465417996}. Best is trial 26 with value: 0.09758018646246543.\n",
      "[I 2024-07-23 23:13:25,933] Trial 41 finished with value: 0.0501387839310822 and parameters: {'num_leaves': 417, 'max_depth': 15, 'learning_rate': 0.1518844644083795, 'lambda_l1': 25, 'lambda_l2': 17, 'bagging_fraction': 0.8719328097263777}. Best is trial 26 with value: 0.09758018646246543.\n",
      "[I 2024-07-23 23:13:27,891] Trial 42 finished with value: 0.10185439842737741 and parameters: {'num_leaves': 499, 'max_depth': 15, 'learning_rate': 0.13778543094869078, 'lambda_l1': 7, 'lambda_l2': 6, 'bagging_fraction': 0.9093315203418171}. Best is trial 42 with value: 0.10185439842737741.\n",
      "[I 2024-07-23 23:13:29,104] Trial 43 finished with value: 0.08224038887232639 and parameters: {'num_leaves': 355, 'max_depth': 12, 'learning_rate': 0.13457712751111278, 'lambda_l1': 9, 'lambda_l2': 5, 'bagging_fraction': 0.9350124175701306}. Best is trial 42 with value: 0.10185439842737741.\n",
      "[I 2024-07-23 23:13:30,873] Trial 44 finished with value: 0.11864383925764248 and parameters: {'num_leaves': 326, 'max_depth': 10, 'learning_rate': 0.16545208365247405, 'lambda_l1': 5, 'lambda_l2': 5, 'bagging_fraction': 0.9368049537288518}. Best is trial 44 with value: 0.11864383925764248.\n",
      "[I 2024-07-23 23:13:32,508] Trial 45 finished with value: 0.10846844306095717 and parameters: {'num_leaves': 353, 'max_depth': 10, 'learning_rate': 0.16456077911311745, 'lambda_l1': 5, 'lambda_l2': 4, 'bagging_fraction': 0.9463366260456157}. Best is trial 44 with value: 0.11864383925764248.\n",
      "[I 2024-07-23 23:13:33,518] Trial 46 finished with value: 0.1168783457086822 and parameters: {'num_leaves': 353, 'max_depth': 6, 'learning_rate': 0.16650102987747023, 'lambda_l1': 4, 'lambda_l2': 5, 'bagging_fraction': 0.9474953650600849}. Best is trial 44 with value: 0.11864383925764248.\n",
      "[I 2024-07-23 23:13:35,112] Trial 47 finished with value: 0.0924096869304494 and parameters: {'num_leaves': 325, 'max_depth': 8, 'learning_rate': 0.16763387297686808, 'lambda_l1': 4, 'lambda_l2': 4, 'bagging_fraction': 0.961818658487049}. Best is trial 44 with value: 0.11864383925764248.\n",
      "[I 2024-07-23 23:13:35,844] Trial 48 finished with value: 0.1056660931564614 and parameters: {'num_leaves': 406, 'max_depth': 5, 'learning_rate': 0.1929589247424618, 'lambda_l1': 1, 'lambda_l2': 4, 'bagging_fraction': 0.9683586653354147}. Best is trial 44 with value: 0.11864383925764248.\n",
      "[I 2024-07-23 23:13:36,579] Trial 49 finished with value: 0.10775457232422561 and parameters: {'num_leaves': 393, 'max_depth': 5, 'learning_rate': 0.19080610507503082, 'lambda_l1': 2, 'lambda_l2': 0, 'bagging_fraction': 0.9982856904757988}. Best is trial 44 with value: 0.11864383925764248.\n",
      "[I 2024-07-23 23:13:37,289] Trial 50 finished with value: 0.06623119888885949 and parameters: {'num_leaves': 402, 'max_depth': 5, 'learning_rate': 0.2335946727606611, 'lambda_l1': 1, 'lambda_l2': 0, 'bagging_fraction': 0.9668907179650469}. Best is trial 44 with value: 0.11864383925764248.\n",
      "[I 2024-07-23 23:13:38,056] Trial 51 finished with value: 0.08456790964064796 and parameters: {'num_leaves': 469, 'max_depth': 5, 'learning_rate': 0.19223370209207427, 'lambda_l1': 4, 'lambda_l2': 5, 'bagging_fraction': 0.997928779116208}. Best is trial 44 with value: 0.11864383925764248.\n",
      "[I 2024-07-23 23:13:38,552] Trial 52 finished with value: 0.06696468257569382 and parameters: {'num_leaves': 381, 'max_depth': 4, 'learning_rate': 0.22823957455066876, 'lambda_l1': 2, 'lambda_l2': 12, 'bagging_fraction': 0.9450843853260206}. Best is trial 44 with value: 0.11864383925764248.\n",
      "[I 2024-07-23 23:13:39,531] Trial 53 finished with value: 0.08991084422704279 and parameters: {'num_leaves': 508, 'max_depth': 7, 'learning_rate': 0.19314147888775374, 'lambda_l1': 0, 'lambda_l2': 3, 'bagging_fraction': 0.8892343985338855}. Best is trial 44 with value: 0.11864383925764248.\n",
      "[I 2024-07-23 23:13:40,594] Trial 54 finished with value: 0.1143590817401582 and parameters: {'num_leaves': 334, 'max_depth': 6, 'learning_rate': 0.21511161127495898, 'lambda_l1': 5, 'lambda_l2': 6, 'bagging_fraction': 0.9713683524070491}. Best is trial 44 with value: 0.11864383925764248.\n",
      "[I 2024-07-23 23:13:41,003] Trial 55 finished with value: 0.06810369991022674 and parameters: {'num_leaves': 338, 'max_depth': 6, 'learning_rate': 0.2173434454309741, 'lambda_l1': 18, 'lambda_l2': 1, 'bagging_fraction': 0.9705285770510427}. Best is trial 44 with value: 0.11864383925764248.\n",
      "[I 2024-07-23 23:13:41,238] Trial 56 finished with value: 0.02246153197603028 and parameters: {'num_leaves': 296, 'max_depth': 6, 'learning_rate': 0.2507500020797126, 'lambda_l1': 58, 'lambda_l2': 12, 'bagging_fraction': 0.9336737418225838}. Best is trial 44 with value: 0.11864383925764248.\n",
      "[I 2024-07-23 23:13:41,675] Trial 57 finished with value: 0.08724607528834878 and parameters: {'num_leaves': 387, 'max_depth': 3, 'learning_rate': 0.17137511902472888, 'lambda_l1': 4, 'lambda_l2': 90, 'bagging_fraction': 0.9771896048800613}. Best is trial 44 with value: 0.11864383925764248.\n",
      "[I 2024-07-23 23:13:42,168] Trial 58 finished with value: 0.08719983860821338 and parameters: {'num_leaves': 441, 'max_depth': 4, 'learning_rate': 0.18315356091419657, 'lambda_l1': 11, 'lambda_l2': 0, 'bagging_fraction': 0.8703787020317394}. Best is trial 44 with value: 0.11864383925764248.\n",
      "[I 2024-07-23 23:13:43,180] Trial 59 finished with value: 0.1030048973639825 and parameters: {'num_leaves': 340, 'max_depth': 6, 'learning_rate': 0.20100522054965886, 'lambda_l1': 6, 'lambda_l2': 8, 'bagging_fraction': 0.9401604881592021}. Best is trial 44 with value: 0.11864383925764248.\n",
      "[I 2024-07-23 23:13:43,464] Trial 60 finished with value: 0.0 and parameters: {'num_leaves': 314, 'max_depth': 4, 'learning_rate': 0.15360886421541584, 'lambda_l1': 82, 'lambda_l2': 14, 'bagging_fraction': 0.9977324699567469}. Best is trial 44 with value: 0.11864383925764248.\n",
      "[I 2024-07-23 23:13:44,553] Trial 61 finished with value: 0.10963289896518569 and parameters: {'num_leaves': 286, 'max_depth': 6, 'learning_rate': 0.24667527455554672, 'lambda_l1': 5, 'lambda_l2': 7, 'bagging_fraction': 0.9476385444298006}. Best is trial 44 with value: 0.11864383925764248.\n",
      "[I 2024-07-23 23:13:45,598] Trial 62 finished with value: 0.07678173277810177 and parameters: {'num_leaves': 284, 'max_depth': 7, 'learning_rate': 0.2548032199137236, 'lambda_l1': 0, 'lambda_l2': 3, 'bagging_fraction': 0.8988155758173682}. Best is trial 44 with value: 0.11864383925764248.\n",
      "[I 2024-07-23 23:13:46,367] Trial 63 finished with value: 0.0912015584355537 and parameters: {'num_leaves': 365, 'max_depth': 5, 'learning_rate': 0.19897617392355313, 'lambda_l1': 4, 'lambda_l2': 7, 'bagging_fraction': 0.9638679846609102}. Best is trial 44 with value: 0.11864383925764248.\n",
      "[I 2024-07-23 23:13:46,944] Trial 64 finished with value: 0.07335968317687647 and parameters: {'num_leaves': 346, 'max_depth': 6, 'learning_rate': 0.215232526875579, 'lambda_l1': 13, 'lambda_l2': 12, 'bagging_fraction': 0.9248752781943562}. Best is trial 44 with value: 0.11864383925764248.\n",
      "[I 2024-07-23 23:13:47,758] Trial 65 finished with value: 0.14715827547247762 and parameters: {'num_leaves': 387, 'max_depth': 10, 'learning_rate': 0.2912670570517879, 'lambda_l1': 9, 'lambda_l2': 3, 'bagging_fraction': 0.9763734691964425}. Best is trial 65 with value: 0.14715827547247762.\n",
      "[I 2024-07-23 23:13:48,715] Trial 66 finished with value: 0.09925528745416232 and parameters: {'num_leaves': 384, 'max_depth': 10, 'learning_rate': 0.25118350471552986, 'lambda_l1': 9, 'lambda_l2': 17, 'bagging_fraction': 0.8461850837540752}. Best is trial 65 with value: 0.14715827547247762.\n",
      "[I 2024-07-23 23:13:49,194] Trial 67 finished with value: 0.11956698797370276 and parameters: {'num_leaves': 325, 'max_depth': 10, 'learning_rate': 0.2985680842496127, 'lambda_l1': 16, 'lambda_l2': 10, 'bagging_fraction': 0.8936145861646773}. Best is trial 65 with value: 0.14715827547247762.\n",
      "[I 2024-07-23 23:13:49,727] Trial 68 finished with value: 0.10431852605183259 and parameters: {'num_leaves': 281, 'max_depth': 10, 'learning_rate': 0.29500611111920727, 'lambda_l1': 16, 'lambda_l2': 24, 'bagging_fraction': 0.8974332771440868}. Best is trial 65 with value: 0.14715827547247762.\n",
      "[I 2024-07-23 23:13:50,088] Trial 69 finished with value: 0.04363206478321431 and parameters: {'num_leaves': 322, 'max_depth': 9, 'learning_rate': 0.2750255941838311, 'lambda_l1': 18, 'lambda_l2': 10, 'bagging_fraction': 0.5178924269125084}. Best is trial 65 with value: 0.14715827547247762.\n",
      "[I 2024-07-23 23:13:50,513] Trial 70 finished with value: 0.09279582671844297 and parameters: {'num_leaves': 298, 'max_depth': 10, 'learning_rate': 0.28533313684629236, 'lambda_l1': 21, 'lambda_l2': 7, 'bagging_fraction': 0.8617403489432073}. Best is trial 65 with value: 0.14715827547247762.\n",
      "[I 2024-07-23 23:13:51,564] Trial 71 finished with value: 0.08256606419829489 and parameters: {'num_leaves': 355, 'max_depth': 8, 'learning_rate': 0.26512407014465156, 'lambda_l1': 7, 'lambda_l2': 2, 'bagging_fraction': 0.950965805293308}. Best is trial 65 with value: 0.14715827547247762.\n",
      "[I 2024-07-23 23:13:52,303] Trial 72 finished with value: 0.10302662187252985 and parameters: {'num_leaves': 372, 'max_depth': 9, 'learning_rate': 0.2883522351085103, 'lambda_l1': 11, 'lambda_l2': 0, 'bagging_fraction': 0.9235439541462617}. Best is trial 65 with value: 0.14715827547247762.\n",
      "[I 2024-07-23 23:13:53,796] Trial 73 finished with value: 0.1017239409307843 and parameters: {'num_leaves': 333, 'max_depth': 7, 'learning_rate': 0.2672055570212121, 'lambda_l1': 4, 'lambda_l2': 7, 'bagging_fraction': 0.9833240644407063}. Best is trial 65 with value: 0.14715827547247762.\n",
      "[I 2024-07-23 23:13:55,253] Trial 74 finished with value: 0.039930658937756956 and parameters: {'num_leaves': 441, 'max_depth': 10, 'learning_rate': 0.1636840887804279, 'lambda_l1': 9, 'lambda_l2': 11, 'bagging_fraction': 0.8923318335808591}. Best is trial 65 with value: 0.14715827547247762.\n",
      "[I 2024-07-23 23:13:55,821] Trial 75 finished with value: 0.07109648971922806 and parameters: {'num_leaves': 276, 'max_depth': 6, 'learning_rate': 0.23947147788282, 'lambda_l1': 14, 'lambda_l2': 16, 'bagging_fraction': 0.9808351892349627}. Best is trial 65 with value: 0.14715827547247762.\n",
      "[I 2024-07-23 23:13:57,541] Trial 76 finished with value: 0.12682791508254515 and parameters: {'num_leaves': 248, 'max_depth': 10, 'learning_rate': 0.2801594692373666, 'lambda_l1': 6, 'lambda_l2': 3, 'bagging_fraction': 0.8222230902162612}. Best is trial 65 with value: 0.14715827547247762.\n",
      "[I 2024-07-23 23:13:58,266] Trial 77 finished with value: 0.06203258413392541 and parameters: {'num_leaves': 247, 'max_depth': 10, 'learning_rate': 0.2999171816569697, 'lambda_l1': 46, 'lambda_l2': 21, 'bagging_fraction': 0.8223594326214879}. Best is trial 65 with value: 0.14715827547247762.\n",
      "[I 2024-07-23 23:13:59,463] Trial 78 finished with value: 0.10653236457812831 and parameters: {'num_leaves': 303, 'max_depth': 8, 'learning_rate': 0.286663510480101, 'lambda_l1': 7, 'lambda_l2': 14, 'bagging_fraction': 0.9211990946966342}. Best is trial 65 with value: 0.14715827547247762.\n",
      "[I 2024-07-23 23:13:59,788] Trial 79 finished with value: 0.06371187020837538 and parameters: {'num_leaves': 213, 'max_depth': 9, 'learning_rate': 0.28051491052418676, 'lambda_l1': 52, 'lambda_l2': 9, 'bagging_fraction': 0.9507291962979525}. Best is trial 65 with value: 0.14715827547247762.\n",
      "[I 2024-07-23 23:14:00,467] Trial 80 finished with value: 0.09576907765427402 and parameters: {'num_leaves': 317, 'max_depth': 11, 'learning_rate': 0.260062621430292, 'lambda_l1': 12, 'lambda_l2': 4, 'bagging_fraction': 0.881307265014098}. Best is trial 65 with value: 0.14715827547247762.\n",
      "[I 2024-07-23 23:14:02,400] Trial 81 finished with value: 0.10431852605183259 and parameters: {'num_leaves': 400, 'max_depth': 11, 'learning_rate': 0.21588284778957523, 'lambda_l1': 3, 'lambda_l2': 2, 'bagging_fraction': 0.9517748180439962}. Best is trial 65 with value: 0.14715827547247762.\n",
      "[I 2024-07-23 23:14:04,153] Trial 82 finished with value: 0.06328674268645897 and parameters: {'num_leaves': 250, 'max_depth': 9, 'learning_rate': 0.2719211981476879, 'lambda_l1': 5, 'lambda_l2': 6, 'bagging_fraction': 0.9981670211812311}. Best is trial 65 with value: 0.14715827547247762.\n",
      "[I 2024-07-23 23:14:05,468] Trial 83 finished with value: 0.1266426012870108 and parameters: {'num_leaves': 350, 'max_depth': 10, 'learning_rate': 0.1781477122775753, 'lambda_l1': 9, 'lambda_l2': 8, 'bagging_fraction': 0.9199998157869674}. Best is trial 65 with value: 0.14715827547247762.\n",
      "[I 2024-07-23 23:14:06,141] Trial 84 finished with value: 0.1070489311203702 and parameters: {'num_leaves': 353, 'max_depth': 10, 'learning_rate': 0.24179708147208895, 'lambda_l1': 16, 'lambda_l2': 61, 'bagging_fraction': 0.9068590227100668}. Best is trial 65 with value: 0.14715827547247762.\n",
      "[I 2024-07-23 23:14:07,393] Trial 85 finished with value: 0.07781471369405 and parameters: {'num_leaves': 376, 'max_depth': 11, 'learning_rate': 0.18197595690156018, 'lambda_l1': 9, 'lambda_l2': 19, 'bagging_fraction': 0.8351939491930808}. Best is trial 65 with value: 0.14715827547247762.\n",
      "[I 2024-07-23 23:14:08,484] Trial 86 finished with value: 0.046254303277778124 and parameters: {'num_leaves': 327, 'max_depth': 10, 'learning_rate': 0.27999005514447717, 'lambda_l1': 7, 'lambda_l2': 9, 'bagging_fraction': 0.8625150485655967}. Best is trial 65 with value: 0.14715827547247762.\n",
      "[I 2024-07-23 23:14:09,074] Trial 87 finished with value: 0.05339153708525043 and parameters: {'num_leaves': 366, 'max_depth': 9, 'learning_rate': 0.29417441373684977, 'lambda_l1': 13, 'lambda_l2': 13, 'bagging_fraction': 0.9320094161433576}. Best is trial 65 with value: 0.14715827547247762.\n",
      "[I 2024-07-23 23:14:10,104] Trial 88 finished with value: 0.03365044505734651 and parameters: {'num_leaves': 305, 'max_depth': 11, 'learning_rate': 0.16083672772083288, 'lambda_l1': 10, 'lambda_l2': 5, 'bagging_fraction': 0.9095241729362591}. Best is trial 65 with value: 0.14715827547247762.\n",
      "[I 2024-07-23 23:14:10,474] Trial 89 finished with value: 0.036183612758750004 and parameters: {'num_leaves': 294, 'max_depth': 8, 'learning_rate': 0.17119804760586843, 'lambda_l1': 33, 'lambda_l2': 3, 'bagging_fraction': 0.9578344833941955}. Best is trial 65 with value: 0.14715827547247762.\n",
      "[I 2024-07-23 23:14:10,850] Trial 90 finished with value: 0.031082020908987363 and parameters: {'num_leaves': 415, 'max_depth': 7, 'learning_rate': 0.2095092915583336, 'lambda_l1': 20, 'lambda_l2': 7, 'bagging_fraction': 0.6678666156925096}. Best is trial 65 with value: 0.14715827547247762.\n",
      "[I 2024-07-23 23:14:13,174] Trial 91 finished with value: 0.10431852605183259 and parameters: {'num_leaves': 345, 'max_depth': 10, 'learning_rate': 0.1451620575902875, 'lambda_l1': 3, 'lambda_l2': 0, 'bagging_fraction': 0.9814534151249413}. Best is trial 65 with value: 0.14715827547247762.\n",
      "[I 2024-07-23 23:14:14,191] Trial 92 finished with value: 0.08887765430194308 and parameters: {'num_leaves': 395, 'max_depth': 6, 'learning_rate': 0.18282830848851783, 'lambda_l1': 0, 'lambda_l2': 11, 'bagging_fraction': 0.9376128437403223}. Best is trial 65 with value: 0.14715827547247762.\n",
      "[I 2024-07-23 23:14:14,742] Trial 93 finished with value: 0.044456246579017734 and parameters: {'num_leaves': 315, 'max_depth': 4, 'learning_rate': 0.156230526742517, 'lambda_l1': 2, 'lambda_l2': 2, 'bagging_fraction': 0.9783468755495561}. Best is trial 65 with value: 0.14715827547247762.\n",
      "[I 2024-07-23 23:14:15,468] Trial 94 finished with value: 0.04688099552994161 and parameters: {'num_leaves': 427, 'max_depth': 5, 'learning_rate': 0.17672645155581293, 'lambda_l1': 8, 'lambda_l2': 8, 'bagging_fraction': 0.8834073328342037}. Best is trial 65 with value: 0.14715827547247762.\n",
      "[I 2024-07-23 23:14:16,808] Trial 95 finished with value: 0.05999177957121182 and parameters: {'num_leaves': 332, 'max_depth': 10, 'learning_rate': 0.22416478898661532, 'lambda_l1': 5, 'lambda_l2': 4, 'bagging_fraction': 0.9631132314550318}. Best is trial 65 with value: 0.14715827547247762.\n",
      "[I 2024-07-23 23:14:17,706] Trial 96 finished with value: 0.05422830263452401 and parameters: {'num_leaves': 274, 'max_depth': 9, 'learning_rate': 0.16787182810860998, 'lambda_l1': 11, 'lambda_l2': 6, 'bagging_fraction': 0.9241057649725397}. Best is trial 65 with value: 0.14715827547247762.\n",
      "[I 2024-07-23 23:14:19,975] Trial 97 finished with value: 0.06242952942232903 and parameters: {'num_leaves': 360, 'max_depth': 11, 'learning_rate': 0.19364896476851795, 'lambda_l1': 2, 'lambda_l2': 10, 'bagging_fraction': 0.9404922207282459}. Best is trial 65 with value: 0.14715827547247762.\n",
      "[I 2024-07-23 23:14:20,644] Trial 98 finished with value: 0.11344947698689029 and parameters: {'num_leaves': 388, 'max_depth': 10, 'learning_rate': 0.1890282463717356, 'lambda_l1': 16, 'lambda_l2': 15, 'bagging_fraction': 0.9998024949044295}. Best is trial 65 with value: 0.14715827547247762.\n",
      "[I 2024-07-23 23:14:20,911] Trial 99 finished with value: 0.0480897879172386 and parameters: {'num_leaves': 346, 'max_depth': 10, 'learning_rate': 0.26309880606064584, 'lambda_l1': 23, 'lambda_l2': 15, 'bagging_fraction': 0.35043848001101024}. Best is trial 65 with value: 0.14715827547247762.\n"
     ]
    }
   ],
   "source": [
    "study = optuna.create_study(direction=\"maximize\")\n",
    "study.optimize(multi_objective, n_trials=n_trials)"
   ]
  },
  {
   "cell_type": "code",
   "execution_count": 27,
   "metadata": {},
   "outputs": [
    {
     "data": {
      "application/vnd.plotly.v1+json": {
       "config": {
        "plotlyServerURL": "https://plot.ly"
       },
       "data": [
        {
         "mode": "markers",
         "name": "Objective Value",
         "type": "scatter",
         "x": [
          0,
          1,
          2,
          3,
          4,
          5,
          6,
          7,
          8,
          9,
          10,
          11,
          12,
          13,
          14,
          15,
          16,
          17,
          18,
          19,
          20,
          21,
          22,
          23,
          24,
          25,
          26,
          27,
          28,
          29,
          30,
          31,
          32,
          33,
          34,
          35,
          36,
          37,
          38,
          39,
          40,
          41,
          42,
          43,
          44,
          45,
          46,
          47,
          48,
          49,
          50,
          51,
          52,
          53,
          54,
          55,
          56,
          57,
          58,
          59,
          60,
          61,
          62,
          63,
          64,
          65,
          66,
          67,
          68,
          69,
          70,
          71,
          72,
          73,
          74,
          75,
          76,
          77,
          78,
          79,
          80,
          81,
          82,
          83,
          84,
          85,
          86,
          87,
          88,
          89,
          90,
          91,
          92,
          93,
          94,
          95,
          96,
          97,
          98,
          99
         ],
         "y": [
          0,
          0.06043954830737273,
          0.03522014680306622,
          0,
          0.07237736082330204,
          0,
          0.02642125142841211,
          0.023642628915831694,
          0,
          0.048001597032333906,
          0.06600569430385496,
          0.05999177957121182,
          0.04363206478321431,
          0.06313326591815888,
          0.016641947605264346,
          0,
          0.07781471369405,
          0.08108743643675237,
          0.07454618649250248,
          0.02246153197603028,
          0.06552435846566734,
          0.044456246579017734,
          0.06200198821155578,
          0,
          0.02246153197603028,
          0,
          0.09758018646246543,
          0,
          0.031082020908987363,
          0.04061983323619536,
          0.026691521669290327,
          0.06313326591815888,
          0.046201687219086816,
          0.05598306384677249,
          0.044456246579017734,
          0.034306658755734125,
          0.05237015668047615,
          0.016641947605264346,
          0,
          0.054809389726384765,
          0.06416782429357319,
          0.0501387839310822,
          0.10185439842737741,
          0.08224038887232639,
          0.11864383925764248,
          0.10846844306095717,
          0.1168783457086822,
          0.0924096869304494,
          0.1056660931564614,
          0.10775457232422561,
          0.06623119888885949,
          0.08456790964064796,
          0.06696468257569382,
          0.08991084422704279,
          0.1143590817401582,
          0.06810369991022674,
          0.02246153197603028,
          0.08724607528834878,
          0.08719983860821338,
          0.1030048973639825,
          0,
          0.10963289896518569,
          0.07678173277810177,
          0.0912015584355537,
          0.07335968317687647,
          0.14715827547247762,
          0.09925528745416232,
          0.11956698797370276,
          0.10431852605183259,
          0.04363206478321431,
          0.09279582671844297,
          0.08256606419829489,
          0.10302662187252985,
          0.1017239409307843,
          0.039930658937756956,
          0.07109648971922806,
          0.12682791508254515,
          0.06203258413392541,
          0.10653236457812831,
          0.06371187020837538,
          0.09576907765427402,
          0.10431852605183259,
          0.06328674268645897,
          0.1266426012870108,
          0.1070489311203702,
          0.07781471369405,
          0.046254303277778124,
          0.05339153708525043,
          0.03365044505734651,
          0.036183612758750004,
          0.031082020908987363,
          0.10431852605183259,
          0.08887765430194308,
          0.044456246579017734,
          0.04688099552994161,
          0.05999177957121182,
          0.05422830263452401,
          0.06242952942232903,
          0.11344947698689029,
          0.0480897879172386
         ]
        },
        {
         "mode": "lines",
         "name": "Best Value",
         "type": "scatter",
         "x": [
          0,
          1,
          2,
          3,
          4,
          5,
          6,
          7,
          8,
          9,
          10,
          11,
          12,
          13,
          14,
          15,
          16,
          17,
          18,
          19,
          20,
          21,
          22,
          23,
          24,
          25,
          26,
          27,
          28,
          29,
          30,
          31,
          32,
          33,
          34,
          35,
          36,
          37,
          38,
          39,
          40,
          41,
          42,
          43,
          44,
          45,
          46,
          47,
          48,
          49,
          50,
          51,
          52,
          53,
          54,
          55,
          56,
          57,
          58,
          59,
          60,
          61,
          62,
          63,
          64,
          65,
          66,
          67,
          68,
          69,
          70,
          71,
          72,
          73,
          74,
          75,
          76,
          77,
          78,
          79,
          80,
          81,
          82,
          83,
          84,
          85,
          86,
          87,
          88,
          89,
          90,
          91,
          92,
          93,
          94,
          95,
          96,
          97,
          98,
          99
         ],
         "y": [
          0,
          0.06043954830737273,
          0.06043954830737273,
          0.06043954830737273,
          0.07237736082330204,
          0.07237736082330204,
          0.07237736082330204,
          0.07237736082330204,
          0.07237736082330204,
          0.07237736082330204,
          0.07237736082330204,
          0.07237736082330204,
          0.07237736082330204,
          0.07237736082330204,
          0.07237736082330204,
          0.07237736082330204,
          0.07781471369405,
          0.08108743643675237,
          0.08108743643675237,
          0.08108743643675237,
          0.08108743643675237,
          0.08108743643675237,
          0.08108743643675237,
          0.08108743643675237,
          0.08108743643675237,
          0.08108743643675237,
          0.09758018646246543,
          0.09758018646246543,
          0.09758018646246543,
          0.09758018646246543,
          0.09758018646246543,
          0.09758018646246543,
          0.09758018646246543,
          0.09758018646246543,
          0.09758018646246543,
          0.09758018646246543,
          0.09758018646246543,
          0.09758018646246543,
          0.09758018646246543,
          0.09758018646246543,
          0.09758018646246543,
          0.09758018646246543,
          0.10185439842737741,
          0.10185439842737741,
          0.11864383925764248,
          0.11864383925764248,
          0.11864383925764248,
          0.11864383925764248,
          0.11864383925764248,
          0.11864383925764248,
          0.11864383925764248,
          0.11864383925764248,
          0.11864383925764248,
          0.11864383925764248,
          0.11864383925764248,
          0.11864383925764248,
          0.11864383925764248,
          0.11864383925764248,
          0.11864383925764248,
          0.11864383925764248,
          0.11864383925764248,
          0.11864383925764248,
          0.11864383925764248,
          0.11864383925764248,
          0.11864383925764248,
          0.14715827547247762,
          0.14715827547247762,
          0.14715827547247762,
          0.14715827547247762,
          0.14715827547247762,
          0.14715827547247762,
          0.14715827547247762,
          0.14715827547247762,
          0.14715827547247762,
          0.14715827547247762,
          0.14715827547247762,
          0.14715827547247762,
          0.14715827547247762,
          0.14715827547247762,
          0.14715827547247762,
          0.14715827547247762,
          0.14715827547247762,
          0.14715827547247762,
          0.14715827547247762,
          0.14715827547247762,
          0.14715827547247762,
          0.14715827547247762,
          0.14715827547247762,
          0.14715827547247762,
          0.14715827547247762,
          0.14715827547247762,
          0.14715827547247762,
          0.14715827547247762,
          0.14715827547247762,
          0.14715827547247762,
          0.14715827547247762,
          0.14715827547247762,
          0.14715827547247762,
          0.14715827547247762,
          0.14715827547247762
         ]
        },
        {
         "marker": {
          "color": "#cccccc"
         },
         "mode": "markers",
         "name": "Infeasible Trial",
         "showlegend": false,
         "type": "scatter",
         "x": [],
         "y": []
        }
       ],
       "layout": {
        "template": {
         "data": {
          "bar": [
           {
            "error_x": {
             "color": "#2a3f5f"
            },
            "error_y": {
             "color": "#2a3f5f"
            },
            "marker": {
             "line": {
              "color": "#E5ECF6",
              "width": 0.5
             },
             "pattern": {
              "fillmode": "overlay",
              "size": 10,
              "solidity": 0.2
             }
            },
            "type": "bar"
           }
          ],
          "barpolar": [
           {
            "marker": {
             "line": {
              "color": "#E5ECF6",
              "width": 0.5
             },
             "pattern": {
              "fillmode": "overlay",
              "size": 10,
              "solidity": 0.2
             }
            },
            "type": "barpolar"
           }
          ],
          "carpet": [
           {
            "aaxis": {
             "endlinecolor": "#2a3f5f",
             "gridcolor": "white",
             "linecolor": "white",
             "minorgridcolor": "white",
             "startlinecolor": "#2a3f5f"
            },
            "baxis": {
             "endlinecolor": "#2a3f5f",
             "gridcolor": "white",
             "linecolor": "white",
             "minorgridcolor": "white",
             "startlinecolor": "#2a3f5f"
            },
            "type": "carpet"
           }
          ],
          "choropleth": [
           {
            "colorbar": {
             "outlinewidth": 0,
             "ticks": ""
            },
            "type": "choropleth"
           }
          ],
          "contour": [
           {
            "colorbar": {
             "outlinewidth": 0,
             "ticks": ""
            },
            "colorscale": [
             [
              0,
              "#0d0887"
             ],
             [
              0.1111111111111111,
              "#46039f"
             ],
             [
              0.2222222222222222,
              "#7201a8"
             ],
             [
              0.3333333333333333,
              "#9c179e"
             ],
             [
              0.4444444444444444,
              "#bd3786"
             ],
             [
              0.5555555555555556,
              "#d8576b"
             ],
             [
              0.6666666666666666,
              "#ed7953"
             ],
             [
              0.7777777777777778,
              "#fb9f3a"
             ],
             [
              0.8888888888888888,
              "#fdca26"
             ],
             [
              1,
              "#f0f921"
             ]
            ],
            "type": "contour"
           }
          ],
          "contourcarpet": [
           {
            "colorbar": {
             "outlinewidth": 0,
             "ticks": ""
            },
            "type": "contourcarpet"
           }
          ],
          "heatmap": [
           {
            "colorbar": {
             "outlinewidth": 0,
             "ticks": ""
            },
            "colorscale": [
             [
              0,
              "#0d0887"
             ],
             [
              0.1111111111111111,
              "#46039f"
             ],
             [
              0.2222222222222222,
              "#7201a8"
             ],
             [
              0.3333333333333333,
              "#9c179e"
             ],
             [
              0.4444444444444444,
              "#bd3786"
             ],
             [
              0.5555555555555556,
              "#d8576b"
             ],
             [
              0.6666666666666666,
              "#ed7953"
             ],
             [
              0.7777777777777778,
              "#fb9f3a"
             ],
             [
              0.8888888888888888,
              "#fdca26"
             ],
             [
              1,
              "#f0f921"
             ]
            ],
            "type": "heatmap"
           }
          ],
          "heatmapgl": [
           {
            "colorbar": {
             "outlinewidth": 0,
             "ticks": ""
            },
            "colorscale": [
             [
              0,
              "#0d0887"
             ],
             [
              0.1111111111111111,
              "#46039f"
             ],
             [
              0.2222222222222222,
              "#7201a8"
             ],
             [
              0.3333333333333333,
              "#9c179e"
             ],
             [
              0.4444444444444444,
              "#bd3786"
             ],
             [
              0.5555555555555556,
              "#d8576b"
             ],
             [
              0.6666666666666666,
              "#ed7953"
             ],
             [
              0.7777777777777778,
              "#fb9f3a"
             ],
             [
              0.8888888888888888,
              "#fdca26"
             ],
             [
              1,
              "#f0f921"
             ]
            ],
            "type": "heatmapgl"
           }
          ],
          "histogram": [
           {
            "marker": {
             "pattern": {
              "fillmode": "overlay",
              "size": 10,
              "solidity": 0.2
             }
            },
            "type": "histogram"
           }
          ],
          "histogram2d": [
           {
            "colorbar": {
             "outlinewidth": 0,
             "ticks": ""
            },
            "colorscale": [
             [
              0,
              "#0d0887"
             ],
             [
              0.1111111111111111,
              "#46039f"
             ],
             [
              0.2222222222222222,
              "#7201a8"
             ],
             [
              0.3333333333333333,
              "#9c179e"
             ],
             [
              0.4444444444444444,
              "#bd3786"
             ],
             [
              0.5555555555555556,
              "#d8576b"
             ],
             [
              0.6666666666666666,
              "#ed7953"
             ],
             [
              0.7777777777777778,
              "#fb9f3a"
             ],
             [
              0.8888888888888888,
              "#fdca26"
             ],
             [
              1,
              "#f0f921"
             ]
            ],
            "type": "histogram2d"
           }
          ],
          "histogram2dcontour": [
           {
            "colorbar": {
             "outlinewidth": 0,
             "ticks": ""
            },
            "colorscale": [
             [
              0,
              "#0d0887"
             ],
             [
              0.1111111111111111,
              "#46039f"
             ],
             [
              0.2222222222222222,
              "#7201a8"
             ],
             [
              0.3333333333333333,
              "#9c179e"
             ],
             [
              0.4444444444444444,
              "#bd3786"
             ],
             [
              0.5555555555555556,
              "#d8576b"
             ],
             [
              0.6666666666666666,
              "#ed7953"
             ],
             [
              0.7777777777777778,
              "#fb9f3a"
             ],
             [
              0.8888888888888888,
              "#fdca26"
             ],
             [
              1,
              "#f0f921"
             ]
            ],
            "type": "histogram2dcontour"
           }
          ],
          "mesh3d": [
           {
            "colorbar": {
             "outlinewidth": 0,
             "ticks": ""
            },
            "type": "mesh3d"
           }
          ],
          "parcoords": [
           {
            "line": {
             "colorbar": {
              "outlinewidth": 0,
              "ticks": ""
             }
            },
            "type": "parcoords"
           }
          ],
          "pie": [
           {
            "automargin": true,
            "type": "pie"
           }
          ],
          "scatter": [
           {
            "fillpattern": {
             "fillmode": "overlay",
             "size": 10,
             "solidity": 0.2
            },
            "type": "scatter"
           }
          ],
          "scatter3d": [
           {
            "line": {
             "colorbar": {
              "outlinewidth": 0,
              "ticks": ""
             }
            },
            "marker": {
             "colorbar": {
              "outlinewidth": 0,
              "ticks": ""
             }
            },
            "type": "scatter3d"
           }
          ],
          "scattercarpet": [
           {
            "marker": {
             "colorbar": {
              "outlinewidth": 0,
              "ticks": ""
             }
            },
            "type": "scattercarpet"
           }
          ],
          "scattergeo": [
           {
            "marker": {
             "colorbar": {
              "outlinewidth": 0,
              "ticks": ""
             }
            },
            "type": "scattergeo"
           }
          ],
          "scattergl": [
           {
            "marker": {
             "colorbar": {
              "outlinewidth": 0,
              "ticks": ""
             }
            },
            "type": "scattergl"
           }
          ],
          "scattermapbox": [
           {
            "marker": {
             "colorbar": {
              "outlinewidth": 0,
              "ticks": ""
             }
            },
            "type": "scattermapbox"
           }
          ],
          "scatterpolar": [
           {
            "marker": {
             "colorbar": {
              "outlinewidth": 0,
              "ticks": ""
             }
            },
            "type": "scatterpolar"
           }
          ],
          "scatterpolargl": [
           {
            "marker": {
             "colorbar": {
              "outlinewidth": 0,
              "ticks": ""
             }
            },
            "type": "scatterpolargl"
           }
          ],
          "scatterternary": [
           {
            "marker": {
             "colorbar": {
              "outlinewidth": 0,
              "ticks": ""
             }
            },
            "type": "scatterternary"
           }
          ],
          "surface": [
           {
            "colorbar": {
             "outlinewidth": 0,
             "ticks": ""
            },
            "colorscale": [
             [
              0,
              "#0d0887"
             ],
             [
              0.1111111111111111,
              "#46039f"
             ],
             [
              0.2222222222222222,
              "#7201a8"
             ],
             [
              0.3333333333333333,
              "#9c179e"
             ],
             [
              0.4444444444444444,
              "#bd3786"
             ],
             [
              0.5555555555555556,
              "#d8576b"
             ],
             [
              0.6666666666666666,
              "#ed7953"
             ],
             [
              0.7777777777777778,
              "#fb9f3a"
             ],
             [
              0.8888888888888888,
              "#fdca26"
             ],
             [
              1,
              "#f0f921"
             ]
            ],
            "type": "surface"
           }
          ],
          "table": [
           {
            "cells": {
             "fill": {
              "color": "#EBF0F8"
             },
             "line": {
              "color": "white"
             }
            },
            "header": {
             "fill": {
              "color": "#C8D4E3"
             },
             "line": {
              "color": "white"
             }
            },
            "type": "table"
           }
          ]
         },
         "layout": {
          "annotationdefaults": {
           "arrowcolor": "#2a3f5f",
           "arrowhead": 0,
           "arrowwidth": 1
          },
          "autotypenumbers": "strict",
          "coloraxis": {
           "colorbar": {
            "outlinewidth": 0,
            "ticks": ""
           }
          },
          "colorscale": {
           "diverging": [
            [
             0,
             "#8e0152"
            ],
            [
             0.1,
             "#c51b7d"
            ],
            [
             0.2,
             "#de77ae"
            ],
            [
             0.3,
             "#f1b6da"
            ],
            [
             0.4,
             "#fde0ef"
            ],
            [
             0.5,
             "#f7f7f7"
            ],
            [
             0.6,
             "#e6f5d0"
            ],
            [
             0.7,
             "#b8e186"
            ],
            [
             0.8,
             "#7fbc41"
            ],
            [
             0.9,
             "#4d9221"
            ],
            [
             1,
             "#276419"
            ]
           ],
           "sequential": [
            [
             0,
             "#0d0887"
            ],
            [
             0.1111111111111111,
             "#46039f"
            ],
            [
             0.2222222222222222,
             "#7201a8"
            ],
            [
             0.3333333333333333,
             "#9c179e"
            ],
            [
             0.4444444444444444,
             "#bd3786"
            ],
            [
             0.5555555555555556,
             "#d8576b"
            ],
            [
             0.6666666666666666,
             "#ed7953"
            ],
            [
             0.7777777777777778,
             "#fb9f3a"
            ],
            [
             0.8888888888888888,
             "#fdca26"
            ],
            [
             1,
             "#f0f921"
            ]
           ],
           "sequentialminus": [
            [
             0,
             "#0d0887"
            ],
            [
             0.1111111111111111,
             "#46039f"
            ],
            [
             0.2222222222222222,
             "#7201a8"
            ],
            [
             0.3333333333333333,
             "#9c179e"
            ],
            [
             0.4444444444444444,
             "#bd3786"
            ],
            [
             0.5555555555555556,
             "#d8576b"
            ],
            [
             0.6666666666666666,
             "#ed7953"
            ],
            [
             0.7777777777777778,
             "#fb9f3a"
            ],
            [
             0.8888888888888888,
             "#fdca26"
            ],
            [
             1,
             "#f0f921"
            ]
           ]
          },
          "colorway": [
           "#636efa",
           "#EF553B",
           "#00cc96",
           "#ab63fa",
           "#FFA15A",
           "#19d3f3",
           "#FF6692",
           "#B6E880",
           "#FF97FF",
           "#FECB52"
          ],
          "font": {
           "color": "#2a3f5f"
          },
          "geo": {
           "bgcolor": "white",
           "lakecolor": "white",
           "landcolor": "#E5ECF6",
           "showlakes": true,
           "showland": true,
           "subunitcolor": "white"
          },
          "hoverlabel": {
           "align": "left"
          },
          "hovermode": "closest",
          "mapbox": {
           "style": "light"
          },
          "paper_bgcolor": "white",
          "plot_bgcolor": "#E5ECF6",
          "polar": {
           "angularaxis": {
            "gridcolor": "white",
            "linecolor": "white",
            "ticks": ""
           },
           "bgcolor": "#E5ECF6",
           "radialaxis": {
            "gridcolor": "white",
            "linecolor": "white",
            "ticks": ""
           }
          },
          "scene": {
           "xaxis": {
            "backgroundcolor": "#E5ECF6",
            "gridcolor": "white",
            "gridwidth": 2,
            "linecolor": "white",
            "showbackground": true,
            "ticks": "",
            "zerolinecolor": "white"
           },
           "yaxis": {
            "backgroundcolor": "#E5ECF6",
            "gridcolor": "white",
            "gridwidth": 2,
            "linecolor": "white",
            "showbackground": true,
            "ticks": "",
            "zerolinecolor": "white"
           },
           "zaxis": {
            "backgroundcolor": "#E5ECF6",
            "gridcolor": "white",
            "gridwidth": 2,
            "linecolor": "white",
            "showbackground": true,
            "ticks": "",
            "zerolinecolor": "white"
           }
          },
          "shapedefaults": {
           "line": {
            "color": "#2a3f5f"
           }
          },
          "ternary": {
           "aaxis": {
            "gridcolor": "white",
            "linecolor": "white",
            "ticks": ""
           },
           "baxis": {
            "gridcolor": "white",
            "linecolor": "white",
            "ticks": ""
           },
           "bgcolor": "#E5ECF6",
           "caxis": {
            "gridcolor": "white",
            "linecolor": "white",
            "ticks": ""
           }
          },
          "title": {
           "x": 0.05
          },
          "xaxis": {
           "automargin": true,
           "gridcolor": "white",
           "linecolor": "white",
           "ticks": "",
           "title": {
            "standoff": 15
           },
           "zerolinecolor": "white",
           "zerolinewidth": 2
          },
          "yaxis": {
           "automargin": true,
           "gridcolor": "white",
           "linecolor": "white",
           "ticks": "",
           "title": {
            "standoff": 15
           },
           "zerolinecolor": "white",
           "zerolinewidth": 2
          }
         }
        },
        "title": {
         "text": "Optimization History Plot"
        },
        "xaxis": {
         "title": {
          "text": "Trial"
         }
        },
        "yaxis": {
         "title": {
          "text": "Objective Value"
         }
        }
       }
      }
     },
     "metadata": {},
     "output_type": "display_data"
    }
   ],
   "source": [
    "optuna.visualization.plot_optimization_history(**{\"study\": study})"
   ]
  },
  {
   "cell_type": "code",
   "execution_count": null,
   "metadata": {},
   "outputs": [],
   "source": []
  }
 ],
 "metadata": {
  "kernelspec": {
   "display_name": "trading",
   "language": "python",
   "name": "python3"
  },
  "language_info": {
   "codemirror_mode": {
    "name": "ipython",
    "version": 3
   },
   "file_extension": ".py",
   "mimetype": "text/x-python",
   "name": "python",
   "nbconvert_exporter": "python",
   "pygments_lexer": "ipython3",
   "version": "3.10.14"
  }
 },
 "nbformat": 4,
 "nbformat_minor": 2
}
